{
 "cells": [
  {
   "cell_type": "code",
   "execution_count": 1,
   "metadata": {
    "ExecuteTime": {
     "end_time": "2017-12-05T18:58:15.104624Z",
     "start_time": "2017-12-05T18:58:05.857Z"
    },
    "scrolled": true
   },
   "outputs": [
    {
     "name": "stderr",
     "output_type": "stream",
     "text": [
      "Loading required package: S4Vectors\n",
      "Loading required package: stats4\n",
      "Loading required package: BiocGenerics\n",
      "Loading required package: parallel\n",
      "\n",
      "Attaching package: ‘BiocGenerics’\n",
      "\n",
      "The following objects are masked from ‘package:parallel’:\n",
      "\n",
      "    clusterApply, clusterApplyLB, clusterCall, clusterEvalQ,\n",
      "    clusterExport, clusterMap, parApply, parCapply, parLapply,\n",
      "    parLapplyLB, parRapply, parSapply, parSapplyLB\n",
      "\n",
      "The following objects are masked from ‘package:stats’:\n",
      "\n",
      "    IQR, mad, sd, var, xtabs\n",
      "\n",
      "The following objects are masked from ‘package:base’:\n",
      "\n",
      "    anyDuplicated, append, as.data.frame, cbind, colMeans, colnames,\n",
      "    colSums, do.call, duplicated, eval, evalq, Filter, Find, get, grep,\n",
      "    grepl, intersect, is.unsorted, lapply, lengths, Map, mapply, match,\n",
      "    mget, order, paste, pmax, pmax.int, pmin, pmin.int, Position, rank,\n",
      "    rbind, Reduce, rowMeans, rownames, rowSums, sapply, setdiff, sort,\n",
      "    table, tapply, union, unique, unsplit, which, which.max, which.min\n",
      "\n",
      "Warning message:\n",
      "“replacing previous import ‘stats::sd’ by ‘BiocGenerics::sd’ when loading ‘S4Vectors’”Warning message:\n",
      "“replacing previous import ‘stats::var’ by ‘BiocGenerics::var’ when loading ‘S4Vectors’”Warning message:\n",
      "“multiple methods tables found for ‘var’”Warning message:\n",
      "“multiple methods tables found for ‘sd’”Warning message:\n",
      "“multiple methods tables found for ‘rowSums’”Warning message:\n",
      "“multiple methods tables found for ‘colSums’”Warning message:\n",
      "“multiple methods tables found for ‘rowMeans’”Warning message:\n",
      "“multiple methods tables found for ‘colMeans’”\n",
      "Attaching package: ‘S4Vectors’\n",
      "\n",
      "The following objects are masked from ‘package:BiocGenerics’:\n",
      "\n",
      "    colMeans, colSums, rowMeans, rowSums\n",
      "\n",
      "The following objects are masked from ‘package:base’:\n",
      "\n",
      "    colMeans, colSums, expand.grid, rowMeans, rowSums\n",
      "\n",
      "Loading required package: IRanges\n",
      "Warning message:\n",
      "“replacing previous import ‘stats::sd’ by ‘BiocGenerics::sd’ when loading ‘IRanges’”Warning message:\n",
      "“replacing previous import ‘stats::var’ by ‘BiocGenerics::var’ when loading ‘IRanges’”Warning message:\n",
      "“replacing previous import ‘BiocGenerics::rowSums’ by ‘S4Vectors::rowSums’ when loading ‘IRanges’”Warning message:\n",
      "“replacing previous import ‘BiocGenerics::var’ by ‘S4Vectors::var’ when loading ‘IRanges’”Warning message:\n",
      "“replacing previous import ‘BiocGenerics::rowMeans’ by ‘S4Vectors::rowMeans’ when loading ‘IRanges’”Warning message:\n",
      "“replacing previous import ‘BiocGenerics::colSums’ by ‘S4Vectors::colSums’ when loading ‘IRanges’”Warning message:\n",
      "“replacing previous import ‘BiocGenerics::sd’ by ‘S4Vectors::sd’ when loading ‘IRanges’”Warning message:\n",
      "“replacing previous import ‘BiocGenerics::colMeans’ by ‘S4Vectors::colMeans’ when loading ‘IRanges’”Warning message:\n",
      "“multiple methods tables found for ‘var’”Warning message:\n",
      "“multiple methods tables found for ‘sd’”Loading required package: GenomicRanges\n",
      "Loading required package: GenomeInfoDb\n",
      "Warning message:\n",
      "“replacing previous import ‘BiocGenerics::rowSums’ by ‘S4Vectors::rowSums’ when loading ‘GenomeInfoDb’”Warning message:\n",
      "“replacing previous import ‘BiocGenerics::var’ by ‘S4Vectors::var’ when loading ‘GenomeInfoDb’”Warning message:\n",
      "“replacing previous import ‘BiocGenerics::rowMeans’ by ‘S4Vectors::rowMeans’ when loading ‘GenomeInfoDb’”Warning message:\n",
      "“replacing previous import ‘BiocGenerics::colSums’ by ‘S4Vectors::colSums’ when loading ‘GenomeInfoDb’”Warning message:\n",
      "“replacing previous import ‘BiocGenerics::sd’ by ‘S4Vectors::sd’ when loading ‘GenomeInfoDb’”Warning message:\n",
      "“replacing previous import ‘BiocGenerics::colMeans’ by ‘S4Vectors::colMeans’ when loading ‘GenomeInfoDb’”Warning message:\n",
      "“replacing previous import ‘BiocGenerics::rowSums’ by ‘S4Vectors::rowSums’ when loading ‘GenomicRanges’”Warning message:\n",
      "“replacing previous import ‘BiocGenerics::var’ by ‘S4Vectors::var’ when loading ‘GenomicRanges’”Warning message:\n",
      "“replacing previous import ‘BiocGenerics::rowMeans’ by ‘S4Vectors::rowMeans’ when loading ‘GenomicRanges’”Warning message:\n",
      "“replacing previous import ‘BiocGenerics::colSums’ by ‘S4Vectors::colSums’ when loading ‘GenomicRanges’”Warning message:\n",
      "“replacing previous import ‘BiocGenerics::sd’ by ‘S4Vectors::sd’ when loading ‘GenomicRanges’”Warning message:\n",
      "“replacing previous import ‘BiocGenerics::colMeans’ by ‘S4Vectors::colMeans’ when loading ‘GenomicRanges’”Warning message:\n",
      "“replacing previous import ‘BiocGenerics::rowSums’ by ‘S4Vectors::rowSums’ when loading ‘XVector’”Warning message:\n",
      "“replacing previous import ‘BiocGenerics::var’ by ‘S4Vectors::var’ when loading ‘XVector’”Warning message:\n",
      "“replacing previous import ‘BiocGenerics::rowMeans’ by ‘S4Vectors::rowMeans’ when loading ‘XVector’”Warning message:\n",
      "“replacing previous import ‘BiocGenerics::colSums’ by ‘S4Vectors::colSums’ when loading ‘XVector’”Warning message:\n",
      "“replacing previous import ‘BiocGenerics::sd’ by ‘S4Vectors::sd’ when loading ‘XVector’”Warning message:\n",
      "“replacing previous import ‘BiocGenerics::colMeans’ by ‘S4Vectors::colMeans’ when loading ‘XVector’”Loading required package: SummarizedExperiment\n",
      "Loading required package: Biobase\n",
      "Welcome to Bioconductor\n",
      "\n",
      "    Vignettes contain introductory material; view with\n",
      "    'browseVignettes()'. To cite Bioconductor, see\n",
      "    'citation(\"Biobase\")', and for packages 'citation(\"pkgname\")'.\n",
      "\n",
      "Warning message:\n",
      "“replacing previous import ‘BiocGenerics::rowSums’ by ‘S4Vectors::rowSums’ when loading ‘SummarizedExperiment’”Warning message:\n",
      "“replacing previous import ‘BiocGenerics::var’ by ‘S4Vectors::var’ when loading ‘SummarizedExperiment’”Warning message:\n",
      "“replacing previous import ‘BiocGenerics::rowMeans’ by ‘S4Vectors::rowMeans’ when loading ‘SummarizedExperiment’”Warning message:\n",
      "“replacing previous import ‘BiocGenerics::colSums’ by ‘S4Vectors::colSums’ when loading ‘SummarizedExperiment’”Warning message:\n",
      "“replacing previous import ‘BiocGenerics::sd’ by ‘S4Vectors::sd’ when loading ‘SummarizedExperiment’”Warning message:\n",
      "“replacing previous import ‘BiocGenerics::colMeans’ by ‘S4Vectors::colMeans’ when loading ‘SummarizedExperiment’”Warning message:\n",
      "“replacing previous import ‘BiocGenerics::var’ by ‘IRanges::var’ when loading ‘DESeq2’”Warning message:\n",
      "“replacing previous import ‘BiocGenerics::sd’ by ‘IRanges::sd’ when loading ‘DESeq2’”Warning message:\n",
      "“replacing previous import ‘BiocGenerics::rowSums’ by ‘S4Vectors::rowSums’ when loading ‘DESeq2’”Warning message:\n",
      "“replacing previous import ‘BiocGenerics::rowMeans’ by ‘S4Vectors::rowMeans’ when loading ‘DESeq2’”Warning message:\n",
      "“replacing previous import ‘BiocGenerics::colSums’ by ‘S4Vectors::colSums’ when loading ‘DESeq2’”Warning message:\n",
      "“replacing previous import ‘BiocGenerics::colMeans’ by ‘S4Vectors::colMeans’ when loading ‘DESeq2’”Warning message:\n",
      "“replacing previous import ‘BiocGenerics::rowSums’ by ‘S4Vectors::rowSums’ when loading ‘AnnotationDbi’”Warning message:\n",
      "“replacing previous import ‘BiocGenerics::var’ by ‘S4Vectors::var’ when loading ‘AnnotationDbi’”Warning message:\n",
      "“replacing previous import ‘BiocGenerics::rowMeans’ by ‘S4Vectors::rowMeans’ when loading ‘AnnotationDbi’”Warning message:\n",
      "“replacing previous import ‘BiocGenerics::colSums’ by ‘S4Vectors::colSums’ when loading ‘AnnotationDbi’”Warning message:\n",
      "“replacing previous import ‘BiocGenerics::sd’ by ‘S4Vectors::sd’ when loading ‘AnnotationDbi’”Warning message:\n",
      "“replacing previous import ‘BiocGenerics::colMeans’ by ‘S4Vectors::colMeans’ when loading ‘AnnotationDbi’”"
     ]
    }
   ],
   "source": [
    "library(\"DESeq2\")\n",
    "setwd(\"~/relmapping\")"
   ]
  },
  {
   "cell_type": "code",
   "execution_count": 2,
   "metadata": {
    "ExecuteTime": {
     "end_time": "2017-12-05T18:58:26.419666Z",
     "start_time": "2017-12-05T18:58:26.391Z"
    },
    "collapsed": true
   },
   "outputs": [],
   "source": [
    "fp <- \"~/relmapping/atac728/tg_se.bwa_se.rm_unmapped.rm_chrM.rm_blacklist.rm_q10.macs2_se_extsize150_shiftm75_keepdup_all_noSPMR.sfnorm/atac728_wt.tg_se.bwa_se.rm_unmapped.rm_chrM.rm_blacklist.rm_q10.macs2_se_extsize150_shiftm75_keepdup_all_noSPMR.sfnorm_counts.tsv\""
   ]
  },
  {
   "cell_type": "code",
   "execution_count": 3,
   "metadata": {
    "ExecuteTime": {
     "end_time": "2017-12-05T18:58:31.053929Z",
     "start_time": "2017-12-05T18:58:29.759Z"
    },
    "collapsed": true
   },
   "outputs": [],
   "source": [
    "countData <- read.table(fp, header=TRUE, sep=\"\\t\")#, row.names=1)"
   ]
  },
  {
   "cell_type": "code",
   "execution_count": 4,
   "metadata": {
    "ExecuteTime": {
     "end_time": "2017-12-05T18:58:33.388232Z",
     "start_time": "2017-12-05T18:58:33.359Z"
    },
    "collapsed": true
   },
   "outputs": [],
   "source": [
    "cond <- relevel(factor(c(\n",
    "    \"wt_emb\", \"wt_emb\",\n",
    "    \"wt_l1\", \"wt_l1\",\n",
    "    \"wt_l2\", \"wt_l2\",\n",
    "    \"wt_l3\", \"wt_l3\",\n",
    "    \"wt_l4\", \"wt_l4\",\n",
    "    \"wt_ya\", \"wt_ya\",\n",
    "    \"glp1_ya\", \"glp1_ya\",\n",
    "    \"glp1_d3\", \"glp1_d3\",\n",
    "    \"glp1_d7\", \"glp1_d7\",\n",
    "    \"glp1_d10\", \"glp1_d10\",\n",
    "    \"glp1_d14\", \"glp1_d14\")), \"wt_emb\")"
   ]
  },
  {
   "cell_type": "code",
   "execution_count": 5,
   "metadata": {
    "ExecuteTime": {
     "end_time": "2017-12-05T18:58:35.043253Z",
     "start_time": "2017-12-05T18:58:34.997Z"
    },
    "collapsed": true
   },
   "outputs": [],
   "source": [
    "colData <- data.frame(row.names=colnames(countData), condition=cond)"
   ]
  },
  {
   "cell_type": "code",
   "execution_count": 6,
   "metadata": {
    "ExecuteTime": {
     "end_time": "2017-12-05T18:58:37.604419Z",
     "start_time": "2017-12-05T18:58:35.637Z"
    },
    "collapsed": true
   },
   "outputs": [],
   "source": [
    "dds <- DESeqDataSetFromMatrix(countData=countData, colData=colData, design=~condition)\n",
    "dds <- estimateSizeFactors(dds)"
   ]
  },
  {
   "cell_type": "code",
   "execution_count": 7,
   "metadata": {
    "ExecuteTime": {
     "end_time": "2017-12-05T18:58:42.062799Z",
     "start_time": "2017-12-05T18:58:42.018Z"
    }
   },
   "outputs": [
    {
     "data": {
      "text/html": [
       "<dl class=dl-horizontal>\n",
       "\t<dt>wt_emb_rep1</dt>\n",
       "\t\t<dd>0.979444557074789</dd>\n",
       "\t<dt>wt_emb_rep2</dt>\n",
       "\t\t<dd>0.67992066981055</dd>\n",
       "\t<dt>wt_l1_rep1</dt>\n",
       "\t\t<dd>0.721623733625308</dd>\n",
       "\t<dt>wt_l1_rep2</dt>\n",
       "\t\t<dd>0.789945828887808</dd>\n",
       "\t<dt>wt_l2_rep1</dt>\n",
       "\t\t<dd>0.603746112907009</dd>\n",
       "\t<dt>wt_l2_rep2</dt>\n",
       "\t\t<dd>1.23242167090448</dd>\n",
       "\t<dt>wt_l3_rep1</dt>\n",
       "\t\t<dd>0.901252380272778</dd>\n",
       "\t<dt>wt_l3_rep2</dt>\n",
       "\t\t<dd>1.12410310329469</dd>\n",
       "\t<dt>wt_l4_rep1</dt>\n",
       "\t\t<dd>1.40255599391174</dd>\n",
       "\t<dt>wt_l4_rep2</dt>\n",
       "\t\t<dd>1.26968266945369</dd>\n",
       "\t<dt>wt_ya_rep1</dt>\n",
       "\t\t<dd>0.806781564274026</dd>\n",
       "\t<dt>wt_ya_rep2</dt>\n",
       "\t\t<dd>1.28634685862607</dd>\n",
       "\t<dt>glp1_ya_rep1</dt>\n",
       "\t\t<dd>1.01371822210262</dd>\n",
       "\t<dt>glp1_ya_rep2</dt>\n",
       "\t\t<dd>1.46954097274342</dd>\n",
       "\t<dt>glp1_d3_rep1</dt>\n",
       "\t\t<dd>0.949062486457647</dd>\n",
       "\t<dt>glp1_d3_rep2</dt>\n",
       "\t\t<dd>0.952572585187346</dd>\n",
       "\t<dt>glp1_d7_rep1</dt>\n",
       "\t\t<dd>0.891202979796336</dd>\n",
       "\t<dt>glp1_d7_rep2</dt>\n",
       "\t\t<dd>1.0732621541913</dd>\n",
       "\t<dt>glp1_d10_rep1</dt>\n",
       "\t\t<dd>0.96733820215278</dd>\n",
       "\t<dt>glp1_d10_rep2</dt>\n",
       "\t\t<dd>1.37192873702082</dd>\n",
       "\t<dt>glp1_d14_rep1</dt>\n",
       "\t\t<dd>0.824075243016692</dd>\n",
       "\t<dt>glp1_d14_rep2</dt>\n",
       "\t\t<dd>0.962952837126113</dd>\n",
       "</dl>\n"
      ],
      "text/latex": [
       "\\begin{description*}\n",
       "\\item[wt\\textbackslash{}\\_emb\\textbackslash{}\\_rep1] 0.979444557074789\n",
       "\\item[wt\\textbackslash{}\\_emb\\textbackslash{}\\_rep2] 0.67992066981055\n",
       "\\item[wt\\textbackslash{}\\_l1\\textbackslash{}\\_rep1] 0.721623733625308\n",
       "\\item[wt\\textbackslash{}\\_l1\\textbackslash{}\\_rep2] 0.789945828887808\n",
       "\\item[wt\\textbackslash{}\\_l2\\textbackslash{}\\_rep1] 0.603746112907009\n",
       "\\item[wt\\textbackslash{}\\_l2\\textbackslash{}\\_rep2] 1.23242167090448\n",
       "\\item[wt\\textbackslash{}\\_l3\\textbackslash{}\\_rep1] 0.901252380272778\n",
       "\\item[wt\\textbackslash{}\\_l3\\textbackslash{}\\_rep2] 1.12410310329469\n",
       "\\item[wt\\textbackslash{}\\_l4\\textbackslash{}\\_rep1] 1.40255599391174\n",
       "\\item[wt\\textbackslash{}\\_l4\\textbackslash{}\\_rep2] 1.26968266945369\n",
       "\\item[wt\\textbackslash{}\\_ya\\textbackslash{}\\_rep1] 0.806781564274026\n",
       "\\item[wt\\textbackslash{}\\_ya\\textbackslash{}\\_rep2] 1.28634685862607\n",
       "\\item[glp1\\textbackslash{}\\_ya\\textbackslash{}\\_rep1] 1.01371822210262\n",
       "\\item[glp1\\textbackslash{}\\_ya\\textbackslash{}\\_rep2] 1.46954097274342\n",
       "\\item[glp1\\textbackslash{}\\_d3\\textbackslash{}\\_rep1] 0.949062486457647\n",
       "\\item[glp1\\textbackslash{}\\_d3\\textbackslash{}\\_rep2] 0.952572585187346\n",
       "\\item[glp1\\textbackslash{}\\_d7\\textbackslash{}\\_rep1] 0.891202979796336\n",
       "\\item[glp1\\textbackslash{}\\_d7\\textbackslash{}\\_rep2] 1.0732621541913\n",
       "\\item[glp1\\textbackslash{}\\_d10\\textbackslash{}\\_rep1] 0.96733820215278\n",
       "\\item[glp1\\textbackslash{}\\_d10\\textbackslash{}\\_rep2] 1.37192873702082\n",
       "\\item[glp1\\textbackslash{}\\_d14\\textbackslash{}\\_rep1] 0.824075243016692\n",
       "\\item[glp1\\textbackslash{}\\_d14\\textbackslash{}\\_rep2] 0.962952837126113\n",
       "\\end{description*}\n"
      ],
      "text/markdown": [
       "wt_emb_rep1\n",
       ":   0.979444557074789wt_emb_rep2\n",
       ":   0.67992066981055wt_l1_rep1\n",
       ":   0.721623733625308wt_l1_rep2\n",
       ":   0.789945828887808wt_l2_rep1\n",
       ":   0.603746112907009wt_l2_rep2\n",
       ":   1.23242167090448wt_l3_rep1\n",
       ":   0.901252380272778wt_l3_rep2\n",
       ":   1.12410310329469wt_l4_rep1\n",
       ":   1.40255599391174wt_l4_rep2\n",
       ":   1.26968266945369wt_ya_rep1\n",
       ":   0.806781564274026wt_ya_rep2\n",
       ":   1.28634685862607glp1_ya_rep1\n",
       ":   1.01371822210262glp1_ya_rep2\n",
       ":   1.46954097274342glp1_d3_rep1\n",
       ":   0.949062486457647glp1_d3_rep2\n",
       ":   0.952572585187346glp1_d7_rep1\n",
       ":   0.891202979796336glp1_d7_rep2\n",
       ":   1.0732621541913glp1_d10_rep1\n",
       ":   0.96733820215278glp1_d10_rep2\n",
       ":   1.37192873702082glp1_d14_rep1\n",
       ":   0.824075243016692glp1_d14_rep2\n",
       ":   0.962952837126113\n",
       "\n"
      ],
      "text/plain": [
       "  wt_emb_rep1   wt_emb_rep2    wt_l1_rep1    wt_l1_rep2    wt_l2_rep1 \n",
       "    0.9794446     0.6799207     0.7216237     0.7899458     0.6037461 \n",
       "   wt_l2_rep2    wt_l3_rep1    wt_l3_rep2    wt_l4_rep1    wt_l4_rep2 \n",
       "    1.2324217     0.9012524     1.1241031     1.4025560     1.2696827 \n",
       "   wt_ya_rep1    wt_ya_rep2  glp1_ya_rep1  glp1_ya_rep2  glp1_d3_rep1 \n",
       "    0.8067816     1.2863469     1.0137182     1.4695410     0.9490625 \n",
       " glp1_d3_rep2  glp1_d7_rep1  glp1_d7_rep2 glp1_d10_rep1 glp1_d10_rep2 \n",
       "    0.9525726     0.8912030     1.0732622     0.9673382     1.3719287 \n",
       "glp1_d14_rep1 glp1_d14_rep2 \n",
       "    0.8240752     0.9629528 "
      ]
     },
     "metadata": {},
     "output_type": "display_data"
    }
   ],
   "source": [
    "sizeFactors(dds)"
   ]
  },
  {
   "cell_type": "code",
   "execution_count": 8,
   "metadata": {
    "ExecuteTime": {
     "end_time": "2017-12-05T18:58:55.196003Z",
     "start_time": "2017-12-05T18:58:54.825Z"
    }
   },
   "outputs": [
    {
     "data": {
      "text/html": [
       "<dl class=dl-horizontal>\n",
       "\t<dt>wt_emb_rep1</dt>\n",
       "\t\t<dd>0.979444557074789</dd>\n",
       "\t<dt>wt_emb_rep2</dt>\n",
       "\t\t<dd>0.67992066981055</dd>\n",
       "\t<dt>wt_l1_rep1</dt>\n",
       "\t\t<dd>0.721623733625308</dd>\n",
       "\t<dt>wt_l1_rep2</dt>\n",
       "\t\t<dd>0.789945828887808</dd>\n",
       "\t<dt>wt_l2_rep1</dt>\n",
       "\t\t<dd>0.603746112907009</dd>\n",
       "\t<dt>wt_l2_rep2</dt>\n",
       "\t\t<dd>1.23242167090448</dd>\n",
       "\t<dt>wt_l3_rep1</dt>\n",
       "\t\t<dd>0.901252380272778</dd>\n",
       "\t<dt>wt_l3_rep2</dt>\n",
       "\t\t<dd>1.12410310329469</dd>\n",
       "\t<dt>wt_l4_rep1</dt>\n",
       "\t\t<dd>1.40255599391174</dd>\n",
       "\t<dt>wt_l4_rep2</dt>\n",
       "\t\t<dd>1.26968266945369</dd>\n",
       "\t<dt>wt_ya_rep1</dt>\n",
       "\t\t<dd>0.806781564274026</dd>\n",
       "\t<dt>wt_ya_rep2</dt>\n",
       "\t\t<dd>1.28634685862607</dd>\n",
       "\t<dt>glp1_ya_rep1</dt>\n",
       "\t\t<dd>1.01371822210262</dd>\n",
       "\t<dt>glp1_ya_rep2</dt>\n",
       "\t\t<dd>1.46954097274342</dd>\n",
       "\t<dt>glp1_d3_rep1</dt>\n",
       "\t\t<dd>0.949062486457647</dd>\n",
       "\t<dt>glp1_d3_rep2</dt>\n",
       "\t\t<dd>0.952572585187346</dd>\n",
       "\t<dt>glp1_d7_rep1</dt>\n",
       "\t\t<dd>0.891202979796336</dd>\n",
       "\t<dt>glp1_d7_rep2</dt>\n",
       "\t\t<dd>1.0732621541913</dd>\n",
       "\t<dt>glp1_d10_rep1</dt>\n",
       "\t\t<dd>0.96733820215278</dd>\n",
       "\t<dt>glp1_d10_rep2</dt>\n",
       "\t\t<dd>1.37192873702082</dd>\n",
       "\t<dt>glp1_d14_rep1</dt>\n",
       "\t\t<dd>0.824075243016692</dd>\n",
       "\t<dt>glp1_d14_rep2</dt>\n",
       "\t\t<dd>0.962952837126113</dd>\n",
       "</dl>\n"
      ],
      "text/latex": [
       "\\begin{description*}\n",
       "\\item[wt\\textbackslash{}\\_emb\\textbackslash{}\\_rep1] 0.979444557074789\n",
       "\\item[wt\\textbackslash{}\\_emb\\textbackslash{}\\_rep2] 0.67992066981055\n",
       "\\item[wt\\textbackslash{}\\_l1\\textbackslash{}\\_rep1] 0.721623733625308\n",
       "\\item[wt\\textbackslash{}\\_l1\\textbackslash{}\\_rep2] 0.789945828887808\n",
       "\\item[wt\\textbackslash{}\\_l2\\textbackslash{}\\_rep1] 0.603746112907009\n",
       "\\item[wt\\textbackslash{}\\_l2\\textbackslash{}\\_rep2] 1.23242167090448\n",
       "\\item[wt\\textbackslash{}\\_l3\\textbackslash{}\\_rep1] 0.901252380272778\n",
       "\\item[wt\\textbackslash{}\\_l3\\textbackslash{}\\_rep2] 1.12410310329469\n",
       "\\item[wt\\textbackslash{}\\_l4\\textbackslash{}\\_rep1] 1.40255599391174\n",
       "\\item[wt\\textbackslash{}\\_l4\\textbackslash{}\\_rep2] 1.26968266945369\n",
       "\\item[wt\\textbackslash{}\\_ya\\textbackslash{}\\_rep1] 0.806781564274026\n",
       "\\item[wt\\textbackslash{}\\_ya\\textbackslash{}\\_rep2] 1.28634685862607\n",
       "\\item[glp1\\textbackslash{}\\_ya\\textbackslash{}\\_rep1] 1.01371822210262\n",
       "\\item[glp1\\textbackslash{}\\_ya\\textbackslash{}\\_rep2] 1.46954097274342\n",
       "\\item[glp1\\textbackslash{}\\_d3\\textbackslash{}\\_rep1] 0.949062486457647\n",
       "\\item[glp1\\textbackslash{}\\_d3\\textbackslash{}\\_rep2] 0.952572585187346\n",
       "\\item[glp1\\textbackslash{}\\_d7\\textbackslash{}\\_rep1] 0.891202979796336\n",
       "\\item[glp1\\textbackslash{}\\_d7\\textbackslash{}\\_rep2] 1.0732621541913\n",
       "\\item[glp1\\textbackslash{}\\_d10\\textbackslash{}\\_rep1] 0.96733820215278\n",
       "\\item[glp1\\textbackslash{}\\_d10\\textbackslash{}\\_rep2] 1.37192873702082\n",
       "\\item[glp1\\textbackslash{}\\_d14\\textbackslash{}\\_rep1] 0.824075243016692\n",
       "\\item[glp1\\textbackslash{}\\_d14\\textbackslash{}\\_rep2] 0.962952837126113\n",
       "\\end{description*}\n"
      ],
      "text/markdown": [
       "wt_emb_rep1\n",
       ":   0.979444557074789wt_emb_rep2\n",
       ":   0.67992066981055wt_l1_rep1\n",
       ":   0.721623733625308wt_l1_rep2\n",
       ":   0.789945828887808wt_l2_rep1\n",
       ":   0.603746112907009wt_l2_rep2\n",
       ":   1.23242167090448wt_l3_rep1\n",
       ":   0.901252380272778wt_l3_rep2\n",
       ":   1.12410310329469wt_l4_rep1\n",
       ":   1.40255599391174wt_l4_rep2\n",
       ":   1.26968266945369wt_ya_rep1\n",
       ":   0.806781564274026wt_ya_rep2\n",
       ":   1.28634685862607glp1_ya_rep1\n",
       ":   1.01371822210262glp1_ya_rep2\n",
       ":   1.46954097274342glp1_d3_rep1\n",
       ":   0.949062486457647glp1_d3_rep2\n",
       ":   0.952572585187346glp1_d7_rep1\n",
       ":   0.891202979796336glp1_d7_rep2\n",
       ":   1.0732621541913glp1_d10_rep1\n",
       ":   0.96733820215278glp1_d10_rep2\n",
       ":   1.37192873702082glp1_d14_rep1\n",
       ":   0.824075243016692glp1_d14_rep2\n",
       ":   0.962952837126113\n",
       "\n"
      ],
      "text/plain": [
       "  wt_emb_rep1   wt_emb_rep2    wt_l1_rep1    wt_l1_rep2    wt_l2_rep1 \n",
       "    0.9794446     0.6799207     0.7216237     0.7899458     0.6037461 \n",
       "   wt_l2_rep2    wt_l3_rep1    wt_l3_rep2    wt_l4_rep1    wt_l4_rep2 \n",
       "    1.2324217     0.9012524     1.1241031     1.4025560     1.2696827 \n",
       "   wt_ya_rep1    wt_ya_rep2  glp1_ya_rep1  glp1_ya_rep2  glp1_d3_rep1 \n",
       "    0.8067816     1.2863469     1.0137182     1.4695410     0.9490625 \n",
       " glp1_d3_rep2  glp1_d7_rep1  glp1_d7_rep2 glp1_d10_rep1 glp1_d10_rep2 \n",
       "    0.9525726     0.8912030     1.0732622     0.9673382     1.3719287 \n",
       "glp1_d14_rep1 glp1_d14_rep2 \n",
       "    0.8240752     0.9629528 "
      ]
     },
     "metadata": {},
     "output_type": "display_data"
    }
   ],
   "source": [
    "estimateSizeFactorsForMatrix(countData)"
   ]
  },
  {
   "cell_type": "code",
   "execution_count": 9,
   "metadata": {
    "ExecuteTime": {
     "end_time": "2017-12-05T18:58:58.705579Z",
     "start_time": "2017-12-05T18:58:58.295Z"
    }
   },
   "outputs": [
    {
     "name": "stdout",
     "output_type": "stream",
     "text": [
      "[1] 97.75643\n",
      "[1] \"missing(controlGenes)\"\n",
      "  wt_emb_rep1   wt_emb_rep2    wt_l1_rep1    wt_l1_rep2    wt_l2_rep1 \n",
      "    0.9794446     0.6799207     0.7216237     0.7899458     0.6037461 \n",
      "   wt_l2_rep2    wt_l3_rep1    wt_l3_rep2    wt_l4_rep1    wt_l4_rep2 \n",
      "    1.2324217     0.9012524     1.1241031     1.4025560     1.2696827 \n",
      "   wt_ya_rep1    wt_ya_rep2  glp1_ya_rep1  glp1_ya_rep2  glp1_d3_rep1 \n",
      "    0.8067816     1.2863469     1.0137182     1.4695410     0.9490625 \n",
      " glp1_d3_rep2  glp1_d7_rep1  glp1_d7_rep2 glp1_d10_rep1 glp1_d10_rep2 \n",
      "    0.9525726     0.8912030     1.0732622     0.9673382     1.3719287 \n",
      "glp1_d14_rep1 glp1_d14_rep2 \n",
      "    0.8240752     0.9629528 \n",
      "  wt_emb_rep1   wt_emb_rep2    wt_l1_rep1    wt_l1_rep2    wt_l2_rep1 \n",
      "    1.0209868     1.4707598     1.3857637     1.2659096     1.6563254 \n",
      "   wt_l2_rep2    wt_l3_rep1    wt_l3_rep2    wt_l4_rep1    wt_l4_rep2 \n",
      "    0.8114106     1.1095671     0.8895981     0.7129840     0.7875984 \n",
      "   wt_ya_rep1    wt_ya_rep2  glp1_ya_rep1  glp1_ya_rep2  glp1_d3_rep1 \n",
      "    1.2394929     0.7773953     0.9864674     0.6804846     1.0536714 \n",
      " glp1_d3_rep2  glp1_d7_rep1  glp1_d7_rep2 glp1_d10_rep1 glp1_d10_rep2 \n",
      "    1.0497888     1.1220788     0.9317388     1.0337646     0.7289008 \n",
      "glp1_d14_rep1 glp1_d14_rep2 \n",
      "    1.2134814     1.0384725 \n",
      "  wt_emb_rep1   wt_emb_rep2    wt_l1_rep1    wt_l1_rep2    wt_l2_rep1 \n",
      "  0.010444191   0.015045147   0.014175679   0.012949630   0.016943391 \n",
      "   wt_l2_rep2    wt_l3_rep1    wt_l3_rep2    wt_l4_rep1    wt_l4_rep2 \n",
      "  0.008300330   0.011350324   0.009100150   0.007293475   0.008056743 \n",
      "   wt_ya_rep1    wt_ya_rep2  glp1_ya_rep1  glp1_ya_rep2  glp1_d3_rep1 \n",
      "  0.012679400   0.007952370   0.010091075   0.006961022   0.010778538 \n",
      " glp1_d3_rep2  glp1_d7_rep1  glp1_d7_rep2 glp1_d10_rep1 glp1_d10_rep2 \n",
      "  0.010738821   0.011478313   0.009531228   0.010574902   0.007456296 \n",
      "glp1_d14_rep1 glp1_d14_rep2 \n",
      "  0.012413316   0.010623061 \n"
     ]
    }
   ],
   "source": [
    "estimateSizeFactorsForMatrixMedianScaled <- function(counts, locfunc = stats::median, geoMeans, controlGenes) {\n",
    "    if (missing(geoMeans)) {\n",
    "        incomingGeoMeans <- FALSE\n",
    "        loggeomeans <- rowMeans(log(counts))\n",
    "        geomeansMedian <- exp(locfunc(loggeomeans[is.finite(loggeomeans)]))\n",
    "        print(geomeansMedian)\n",
    "    }\n",
    "    #else {\n",
    "    #    incomingGeoMeans <- TRUE\n",
    "    #    if (length(geoMeans) != nrow(counts)) {\n",
    "    #        stop(\"geoMeans should be as long as the number of rows of counts\")\n",
    "    #    }\n",
    "    #    loggeomeans <- log(geoMeans)\n",
    "    #}\n",
    "    if (all(is.infinite(loggeomeans))) {\n",
    "        stop(\"every gene contains at least one zero, cannot compute log geometric means\")\n",
    "    }\n",
    "    sf <- if (missing(controlGenes)) {\n",
    "        print(\"missing(controlGenes)\")\n",
    "        apply(counts, 2, function(cnts) {\n",
    "            exp(locfunc((log(cnts) - loggeomeans)[is.finite(loggeomeans) & cnts > 0]))\n",
    "        })\n",
    "    }\n",
    "    #else {\n",
    "    #    print(\"not missing(controlGenes)\")\n",
    "    #    if (!(is.numeric(controlGenes) | is.logical(controlGenes))) {\n",
    "    #        stop(\"controlGenes should be either a numeric or logical vector\")\n",
    "    #    }\n",
    "    #    loggeomeansSub <- loggeomeans[controlGenes]\n",
    "    #    apply(counts[controlGenes, , drop = FALSE], 2, function(cnts) {\n",
    "    #        exp(locfunc((log(cnts) - loggeomeansSub)[is.finite(loggeomeansSub) & cnts > 0]))\n",
    "    #    })\n",
    "    #}\n",
    "    #if (incomingGeoMeans) {\n",
    "    #    print(\"incomingGeoMeans\")\n",
    "    #    sf <- sf/exp(mean(log(sf)))\n",
    "    #}\n",
    "    print(sf)\n",
    "    print(1 / sf)\n",
    "    print(1 / (sf * geomeansMedian))\n",
    "}\n",
    "\n",
    "estimateSizeFactorsForMatrixMedianScaled(countData)"
   ]
  },
  {
   "cell_type": "code",
   "execution_count": 38,
   "metadata": {
    "ExecuteTime": {
     "end_time": "2017-10-24T15:20:54.463217Z",
     "start_time": "2017-10-24T15:20:54.436Z"
    }
   },
   "outputs": [
    {
     "data": {
      "text/html": [
       "<dl class=dl-horizontal>\n",
       "\t<dt>wt_emb_rep1</dt>\n",
       "\t\t<dd>1.02018089044883</dd>\n",
       "\t<dt>wt_emb_rep2</dt>\n",
       "\t\t<dd>0.706435654575078</dd>\n",
       "\t<dt>wt_l1_rep1</dt>\n",
       "\t\t<dd>0.712355985341904</dd>\n",
       "\t<dt>wt_l1_rep2</dt>\n",
       "\t\t<dd>0.791469777093167</dd>\n",
       "\t<dt>wt_l2_rep1</dt>\n",
       "\t\t<dd>0.628572668334735</dd>\n",
       "\t<dt>wt_l2_rep2</dt>\n",
       "\t\t<dd>1.25455533858885</dd>\n",
       "\t<dt>wt_l3_rep1</dt>\n",
       "\t\t<dd>0.912033787796305</dd>\n",
       "\t<dt>wt_l3_rep2</dt>\n",
       "\t\t<dd>1.17485029825242</dd>\n",
       "\t<dt>wt_l4_rep1</dt>\n",
       "\t\t<dd>1.52472215215913</dd>\n",
       "\t<dt>wt_l4_rep2</dt>\n",
       "\t\t<dd>1.35488927762581</dd>\n",
       "\t<dt>wt_ya_rep1</dt>\n",
       "\t\t<dd>0.825148736370067</dd>\n",
       "\t<dt>wt_ya_rep2</dt>\n",
       "\t\t<dd>1.40282635171228</dd>\n",
       "</dl>\n"
      ],
      "text/latex": [
       "\\begin{description*}\n",
       "\\item[wt\\textbackslash{}\\_emb\\textbackslash{}\\_rep1] 1.02018089044883\n",
       "\\item[wt\\textbackslash{}\\_emb\\textbackslash{}\\_rep2] 0.706435654575078\n",
       "\\item[wt\\textbackslash{}\\_l1\\textbackslash{}\\_rep1] 0.712355985341904\n",
       "\\item[wt\\textbackslash{}\\_l1\\textbackslash{}\\_rep2] 0.791469777093167\n",
       "\\item[wt\\textbackslash{}\\_l2\\textbackslash{}\\_rep1] 0.628572668334735\n",
       "\\item[wt\\textbackslash{}\\_l2\\textbackslash{}\\_rep2] 1.25455533858885\n",
       "\\item[wt\\textbackslash{}\\_l3\\textbackslash{}\\_rep1] 0.912033787796305\n",
       "\\item[wt\\textbackslash{}\\_l3\\textbackslash{}\\_rep2] 1.17485029825242\n",
       "\\item[wt\\textbackslash{}\\_l4\\textbackslash{}\\_rep1] 1.52472215215913\n",
       "\\item[wt\\textbackslash{}\\_l4\\textbackslash{}\\_rep2] 1.35488927762581\n",
       "\\item[wt\\textbackslash{}\\_ya\\textbackslash{}\\_rep1] 0.825148736370067\n",
       "\\item[wt\\textbackslash{}\\_ya\\textbackslash{}\\_rep2] 1.40282635171228\n",
       "\\end{description*}\n"
      ],
      "text/markdown": [
       "wt_emb_rep1\n",
       ":   1.02018089044883wt_emb_rep2\n",
       ":   0.706435654575078wt_l1_rep1\n",
       ":   0.712355985341904wt_l1_rep2\n",
       ":   0.791469777093167wt_l2_rep1\n",
       ":   0.628572668334735wt_l2_rep2\n",
       ":   1.25455533858885wt_l3_rep1\n",
       ":   0.912033787796305wt_l3_rep2\n",
       ":   1.17485029825242wt_l4_rep1\n",
       ":   1.52472215215913wt_l4_rep2\n",
       ":   1.35488927762581wt_ya_rep1\n",
       ":   0.825148736370067wt_ya_rep2\n",
       ":   1.40282635171228\n",
       "\n"
      ],
      "text/plain": [
       "wt_emb_rep1 wt_emb_rep2  wt_l1_rep1  wt_l1_rep2  wt_l2_rep1  wt_l2_rep2 \n",
       "  1.0201809   0.7064357   0.7123560   0.7914698   0.6285727   1.2545553 \n",
       " wt_l3_rep1  wt_l3_rep2  wt_l4_rep1  wt_l4_rep2  wt_ya_rep1  wt_ya_rep2 \n",
       "  0.9120338   1.1748503   1.5247222   1.3548893   0.8251487   1.4028264 "
      ]
     },
     "metadata": {},
     "output_type": "display_data"
    }
   ],
   "source": [
    "# sf <- raw DESeq sizefactors\n",
    "sf <- sizeFactors(dds)\n",
    "sf"
   ]
  },
  {
   "cell_type": "code",
   "execution_count": 40,
   "metadata": {
    "ExecuteTime": {
     "end_time": "2017-10-24T15:21:02.345098Z",
     "start_time": "2017-10-24T15:21:02.276Z"
    }
   },
   "outputs": [
    {
     "data": {
      "text/html": [
       "109.310187024283"
      ],
      "text/latex": [
       "109.310187024283"
      ],
      "text/markdown": [
       "109.310187024283"
      ],
      "text/plain": [
       "[1] 109.3102"
      ]
     },
     "metadata": {},
     "output_type": "display_data"
    }
   ],
   "source": [
    "# geomeansMedian <- median counts in pseudo-reference sample\n",
    "loggeomeans <- rowMeans(log(countData))\n",
    "geomeansMedian <- exp(stats::median(loggeomeans[is.finite(loggeomeans)]))\n",
    "geomeansMedian"
   ]
  },
  {
   "cell_type": "code",
   "execution_count": 42,
   "metadata": {
    "ExecuteTime": {
     "end_time": "2017-10-24T15:22:24.658154Z",
     "start_time": "2017-10-24T15:22:24.626Z"
    }
   },
   "outputs": [
    {
     "data": {
      "text/html": [
       "<dl class=dl-horizontal>\n",
       "\t<dt>wt_emb_rep1</dt>\n",
       "\t\t<dd>0.00896730989236481</dd>\n",
       "\t<dt>wt_emb_rep2</dt>\n",
       "\t\t<dd>0.012949910061414</dd>\n",
       "\t<dt>wt_l1_rep1</dt>\n",
       "\t\t<dd>0.0128422844464942</dd>\n",
       "\t<dt>wt_l1_rep2</dt>\n",
       "\t\t<dd>0.0115585944728329</dd>\n",
       "\t<dt>wt_l2_rep1</dt>\n",
       "\t\t<dd>0.014554050234414</dd>\n",
       "\t<dt>wt_l2_rep2</dt>\n",
       "\t\t<dd>0.00729204835333416</dd>\n",
       "\t<dt>wt_l3_rep1</dt>\n",
       "\t\t<dd>0.0100306351730979</dd>\n",
       "\t<dt>wt_l3_rep2</dt>\n",
       "\t\t<dd>0.00778676075116235</dd>\n",
       "\t<dt>wt_l4_rep1</dt>\n",
       "\t\t<dd>0.00599996411016174</dd>\n",
       "\t<dt>wt_l4_rep2</dt>\n",
       "\t\t<dd>0.00675204855628792</dd>\n",
       "\t<dt>wt_ya_rep1</dt>\n",
       "\t\t<dd>0.0110868232449434</dd>\n",
       "\t<dt>wt_ya_rep2</dt>\n",
       "\t\t<dd>0.00652131903550074</dd>\n",
       "</dl>\n"
      ],
      "text/latex": [
       "\\begin{description*}\n",
       "\\item[wt\\textbackslash{}\\_emb\\textbackslash{}\\_rep1] 0.00896730989236481\n",
       "\\item[wt\\textbackslash{}\\_emb\\textbackslash{}\\_rep2] 0.012949910061414\n",
       "\\item[wt\\textbackslash{}\\_l1\\textbackslash{}\\_rep1] 0.0128422844464942\n",
       "\\item[wt\\textbackslash{}\\_l1\\textbackslash{}\\_rep2] 0.0115585944728329\n",
       "\\item[wt\\textbackslash{}\\_l2\\textbackslash{}\\_rep1] 0.014554050234414\n",
       "\\item[wt\\textbackslash{}\\_l2\\textbackslash{}\\_rep2] 0.00729204835333416\n",
       "\\item[wt\\textbackslash{}\\_l3\\textbackslash{}\\_rep1] 0.0100306351730979\n",
       "\\item[wt\\textbackslash{}\\_l3\\textbackslash{}\\_rep2] 0.00778676075116235\n",
       "\\item[wt\\textbackslash{}\\_l4\\textbackslash{}\\_rep1] 0.00599996411016174\n",
       "\\item[wt\\textbackslash{}\\_l4\\textbackslash{}\\_rep2] 0.00675204855628792\n",
       "\\item[wt\\textbackslash{}\\_ya\\textbackslash{}\\_rep1] 0.0110868232449434\n",
       "\\item[wt\\textbackslash{}\\_ya\\textbackslash{}\\_rep2] 0.00652131903550074\n",
       "\\end{description*}\n"
      ],
      "text/markdown": [
       "wt_emb_rep1\n",
       ":   0.00896730989236481wt_emb_rep2\n",
       ":   0.012949910061414wt_l1_rep1\n",
       ":   0.0128422844464942wt_l1_rep2\n",
       ":   0.0115585944728329wt_l2_rep1\n",
       ":   0.014554050234414wt_l2_rep2\n",
       ":   0.00729204835333416wt_l3_rep1\n",
       ":   0.0100306351730979wt_l3_rep2\n",
       ":   0.00778676075116235wt_l4_rep1\n",
       ":   0.00599996411016174wt_l4_rep2\n",
       ":   0.00675204855628792wt_ya_rep1\n",
       ":   0.0110868232449434wt_ya_rep2\n",
       ":   0.00652131903550074\n",
       "\n"
      ],
      "text/plain": [
       "wt_emb_rep1 wt_emb_rep2  wt_l1_rep1  wt_l1_rep2  wt_l2_rep1  wt_l2_rep2 \n",
       "0.008967310 0.012949910 0.012842284 0.011558594 0.014554050 0.007292048 \n",
       " wt_l3_rep1  wt_l3_rep2  wt_l4_rep1  wt_l4_rep2  wt_ya_rep1  wt_ya_rep2 \n",
       "0.010030635 0.007786761 0.005999964 0.006752049 0.011086823 0.006521319 "
      ]
     },
     "metadata": {},
     "output_type": "display_data"
    }
   ],
   "source": [
    "# final ATAC-seq normalisation factors\n",
    "1 / (sf * geomeansMedian)"
   ]
  },
  {
   "cell_type": "code",
   "execution_count": null,
   "metadata": {
    "collapsed": true
   },
   "outputs": [],
   "source": []
  }
 ],
 "metadata": {
  "kernelspec": {
   "display_name": "R",
   "language": "R",
   "name": "ir"
  },
  "language_info": {
   "codemirror_mode": "r",
   "file_extension": ".r",
   "mimetype": "text/x-r-source",
   "name": "R",
   "pygments_lexer": "r",
   "version": "3.3.2"
  }
 },
 "nbformat": 4,
 "nbformat_minor": 2
}
