{
 "cells": [
  {
   "cell_type": "code",
   "execution_count": 1,
   "metadata": {
    "ExecuteTime": {
     "end_time": "2018-09-19T11:15:25.910711Z",
     "start_time": "2018-09-19T11:15:20.962600Z"
    }
   },
   "outputs": [
    {
     "name": "stderr",
     "output_type": "stream",
     "text": [
      "/mnt/home3/jj374/anaconda36/lib/python3.6/site-packages/statsmodels/compat/pandas.py:56: FutureWarning: The pandas.core.datetools module is deprecated and will be removed in a future version. Please use the pandas.tseries module instead.\n",
      "  from pandas.core import datetools\n"
     ]
    },
    {
     "name": "stdout",
     "output_type": "stream",
     "text": [
      "os.getcwd(): /mnt/beegfs/scratch_copy/ahringer/jj374/lab/relmapping\n"
     ]
    }
   ],
   "source": [
    "%run ~/relmapping/annot_cb/notebooks/annot__init__.ipynb"
   ]
  },
  {
   "cell_type": "code",
   "execution_count": 2,
   "metadata": {
    "ExecuteTime": {
     "end_time": "2018-09-19T11:15:25.987363Z",
     "start_time": "2018-09-19T11:15:25.913422Z"
    }
   },
   "outputs": [
    {
     "data": {
      "text/html": [
       "<div>\n",
       "<style>\n",
       "    .dataframe thead tr:only-child th {\n",
       "        text-align: right;\n",
       "    }\n",
       "\n",
       "    .dataframe thead th {\n",
       "        text-align: left;\n",
       "    }\n",
       "\n",
       "    .dataframe tbody tr th {\n",
       "        vertical-align: top;\n",
       "    }\n",
       "</style>\n",
       "<table border=\"1\" class=\"dataframe\">\n",
       "  <thead>\n",
       "    <tr style=\"text-align: right;\">\n",
       "      <th></th>\n",
       "      <th>chrom</th>\n",
       "      <th>concave_start</th>\n",
       "      <th>concave_end</th>\n",
       "      <th>mode</th>\n",
       "      <th>wt_ya_rep1_score</th>\n",
       "      <th>wt_ya_rep2_score</th>\n",
       "      <th>min_rank</th>\n",
       "      <th>start</th>\n",
       "      <th>end</th>\n",
       "      <th>wt_ya_globalIDR</th>\n",
       "      <th>max_globalIDR</th>\n",
       "    </tr>\n",
       "  </thead>\n",
       "  <tbody>\n",
       "    <tr>\n",
       "      <th>0</th>\n",
       "      <td>I</td>\n",
       "      <td>7954</td>\n",
       "      <td>8180</td>\n",
       "      <td>8048</td>\n",
       "      <td>218.772699</td>\n",
       "      <td>431.677619</td>\n",
       "      <td>6379.0</td>\n",
       "      <td>7973</td>\n",
       "      <td>8124</td>\n",
       "      <td>3.671405</td>\n",
       "      <td>3.671405</td>\n",
       "    </tr>\n",
       "    <tr>\n",
       "      <th>1</th>\n",
       "      <td>I</td>\n",
       "      <td>16609</td>\n",
       "      <td>16809</td>\n",
       "      <td>16695</td>\n",
       "      <td>1089.472352</td>\n",
       "      <td>752.060789</td>\n",
       "      <td>1192.0</td>\n",
       "      <td>16620</td>\n",
       "      <td>16771</td>\n",
       "      <td>4.686630</td>\n",
       "      <td>4.686630</td>\n",
       "    </tr>\n",
       "    <tr>\n",
       "      <th>2</th>\n",
       "      <td>I</td>\n",
       "      <td>17076</td>\n",
       "      <td>17279</td>\n",
       "      <td>17167</td>\n",
       "      <td>634.236105</td>\n",
       "      <td>392.992569</td>\n",
       "      <td>2525.0</td>\n",
       "      <td>17092</td>\n",
       "      <td>17243</td>\n",
       "      <td>3.956980</td>\n",
       "      <td>3.956980</td>\n",
       "    </tr>\n",
       "    <tr>\n",
       "      <th>3</th>\n",
       "      <td>I</td>\n",
       "      <td>21469</td>\n",
       "      <td>21679</td>\n",
       "      <td>21560</td>\n",
       "      <td>2845.210881</td>\n",
       "      <td>3857.913439</td>\n",
       "      <td>65.0</td>\n",
       "      <td>21485</td>\n",
       "      <td>21636</td>\n",
       "      <td>5.000000</td>\n",
       "      <td>5.000000</td>\n",
       "    </tr>\n",
       "    <tr>\n",
       "      <th>4</th>\n",
       "      <td>I</td>\n",
       "      <td>39778</td>\n",
       "      <td>40055</td>\n",
       "      <td>39915</td>\n",
       "      <td>1768.688064</td>\n",
       "      <td>7326.561438</td>\n",
       "      <td>95.0</td>\n",
       "      <td>39840</td>\n",
       "      <td>39991</td>\n",
       "      <td>5.000000</td>\n",
       "      <td>5.000000</td>\n",
       "    </tr>\n",
       "  </tbody>\n",
       "</table>\n",
       "</div>"
      ],
      "text/plain": [
       "  chrom  concave_start  concave_end   mode  wt_ya_rep1_score  \\\n",
       "0     I           7954         8180   8048        218.772699   \n",
       "1     I          16609        16809  16695       1089.472352   \n",
       "2     I          17076        17279  17167        634.236105   \n",
       "3     I          21469        21679  21560       2845.210881   \n",
       "4     I          39778        40055  39915       1768.688064   \n",
       "\n",
       "   wt_ya_rep2_score  min_rank  start    end  wt_ya_globalIDR  max_globalIDR  \n",
       "0        431.677619    6379.0   7973   8124         3.671405       3.671405  \n",
       "1        752.060789    1192.0  16620  16771         4.686630       4.686630  \n",
       "2        392.992569    2525.0  17092  17243         3.956980       3.956980  \n",
       "3       3857.913439      65.0  21485  21636         5.000000       5.000000  \n",
       "4       7326.561438      95.0  39840  39991         5.000000       5.000000  "
      ]
     },
     "execution_count": 2,
     "metadata": {},
     "output_type": "execute_result"
    }
   ],
   "source": [
    "def mp(fp): return os.path.join('annot_cb', 'metrics_exon', fp)\n",
    "\n",
    "fp_atac = 'annot_cb/accessible_sites_cb.tsv'\n",
    "df_atac = pd.read_csv(fp_atac, sep='\\t')\n",
    "l_atac_peak_pos = df_atac[['start', 'end']].mean(axis=1).map(int)\n",
    "df_atac.head()"
   ]
  },
  {
   "cell_type": "code",
   "execution_count": 3,
   "metadata": {
    "ExecuteTime": {
     "end_time": "2018-09-19T11:15:33.224912Z",
     "start_time": "2018-09-19T11:15:25.990323Z"
    }
   },
   "outputs": [
    {
     "name": "stdout",
     "output_type": "stream",
     "text": [
      "12860 12771 69067 67641 477 497\n"
     ]
    }
   ],
   "source": [
    "# df_exon1 / df_exon2: first/other exons, coordinates fixed to represent 5' ends\n",
    "#NAMES_EXON = ('chrom', 'start', 'end', 'transcript_id', 'score', 'strand', 'gene_id', 'gene_biotype', 'display_id')\n",
    "l_adj_ = [\n",
    "    'chrom', 'start', 'end', 'score', 'strand', 'thickStart', 'thickEnd', 'itemRgb', 'Name', \n",
    "    'exon_start', 'exon_end', 'utr_start', 'utr_end', 'aoe_end', 'aoe_start', 'gene_biotype', \n",
    "    'exon_id', 'gene_id', 'init_cutoff_pos', #'locus_id', \n",
    "]\n",
    "\n",
    "df_pass1_exon1_fwd = read_gffbed('annot_cb/canonical_geneset/WS260_CB4.transcripts.annot_pass1_exon1_fwd_utradj.bed')[l_adj_]\n",
    "df_pass1_exon1_rev = read_gffbed('annot_cb/canonical_geneset/WS260_CB4.transcripts.annot_pass1_exon1_rev_utradj.bed')[l_adj_]\n",
    "df_pass1_exon2_fwd = read_gffbed('annot_cb/canonical_geneset/WS260_CB4.transcripts.annot_pass1_exon2_fwd.bed')\n",
    "df_pass1_exon2_rev = read_gffbed('annot_cb/canonical_geneset/WS260_CB4.transcripts.annot_pass1_exon2_rev.bed')\n",
    "df_pass2_exon1_fwd = read_gffbed('annot_cb/canonical_geneset/WS260_CB4.transcripts.annot_pass2_exon1_fwd.bed')\n",
    "df_pass2_exon1_rev = read_gffbed('annot_cb/canonical_geneset/WS260_CB4.transcripts.annot_pass2_exon1_rev.bed')\n",
    "\n",
    "# Set 1st exon matching area to TSS + 250bp\n",
    "df_pass1_exon1_fwd['end'] = df_pass1_exon1_fwd['start'] + 1 + 250\n",
    "df_pass1_exon1_rev['start'] = df_pass1_exon1_rev['end'] - 1 - 250\n",
    "\n",
    "print(len(df_pass1_exon1_fwd), len(df_pass1_exon1_rev),\n",
    "      len(df_pass1_exon2_fwd), len(df_pass1_exon2_rev),\n",
    "      len(df_pass2_exon1_fwd), len(df_pass2_exon1_rev),\n",
    ")"
   ]
  },
  {
   "cell_type": "code",
   "execution_count": 6,
   "metadata": {
    "ExecuteTime": {
     "end_time": "2018-09-19T11:19:06.055899Z",
     "start_time": "2018-09-19T11:18:58.725379Z"
    },
    "code_folding": []
   },
   "outputs": [
    {
     "ename": "KeyError",
     "evalue": "\"['pass1_exon2_locus_id'] not in index\"",
     "output_type": "error",
     "traceback": [
      "\u001b[0;31m---------------------------------------------------------------------------\u001b[0m",
      "\u001b[0;31mKeyError\u001b[0m                                  Traceback (most recent call last)",
      "\u001b[0;32m<ipython-input-6-771dec5a8dca>\u001b[0m in \u001b[0;36m<module>\u001b[0;34m()\u001b[0m\n\u001b[1;32m     60\u001b[0m     \u001b[0mname\u001b[0m \u001b[0;34m=\u001b[0m \u001b[0mdf_exon_fwd\u001b[0m\u001b[0;34m[\u001b[0m\u001b[0;34m'pass1_exon2_Name'\u001b[0m\u001b[0;34m]\u001b[0m\u001b[0;34m,\u001b[0m\u001b[0;34m\u001b[0m\u001b[0m\n\u001b[1;32m     61\u001b[0m     \u001b[0mstrand\u001b[0m \u001b[0;34m=\u001b[0m \u001b[0;34m'+'\u001b[0m\u001b[0;34m,\u001b[0m\u001b[0;34m\u001b[0m\u001b[0m\n\u001b[0;32m---> 62\u001b[0;31m     \u001b[0mattr\u001b[0m \u001b[0;34m=\u001b[0m \u001b[0mdf_exon_fwd\u001b[0m\u001b[0;34m[\u001b[0m\u001b[0ml_\u001b[0m\u001b[0;34m]\u001b[0m\u001b[0;34m,\u001b[0m\u001b[0;34m\u001b[0m\u001b[0m\n\u001b[0m\u001b[1;32m     63\u001b[0m )\n\u001b[1;32m     64\u001b[0m write_gffbed(mp('closest_pass1_exon2_rev.bed'),\n",
      "\u001b[0;32m/mnt/home3/jj374/anaconda36/lib/python3.6/site-packages/pandas/core/frame.py\u001b[0m in \u001b[0;36m__getitem__\u001b[0;34m(self, key)\u001b[0m\n\u001b[1;32m   1956\u001b[0m         \u001b[0;32mif\u001b[0m \u001b[0misinstance\u001b[0m\u001b[0;34m(\u001b[0m\u001b[0mkey\u001b[0m\u001b[0;34m,\u001b[0m \u001b[0;34m(\u001b[0m\u001b[0mSeries\u001b[0m\u001b[0;34m,\u001b[0m \u001b[0mnp\u001b[0m\u001b[0;34m.\u001b[0m\u001b[0mndarray\u001b[0m\u001b[0;34m,\u001b[0m \u001b[0mIndex\u001b[0m\u001b[0;34m,\u001b[0m \u001b[0mlist\u001b[0m\u001b[0;34m)\u001b[0m\u001b[0;34m)\u001b[0m\u001b[0;34m:\u001b[0m\u001b[0;34m\u001b[0m\u001b[0m\n\u001b[1;32m   1957\u001b[0m             \u001b[0;31m# either boolean or fancy integer index\u001b[0m\u001b[0;34m\u001b[0m\u001b[0;34m\u001b[0m\u001b[0m\n\u001b[0;32m-> 1958\u001b[0;31m             \u001b[0;32mreturn\u001b[0m \u001b[0mself\u001b[0m\u001b[0;34m.\u001b[0m\u001b[0m_getitem_array\u001b[0m\u001b[0;34m(\u001b[0m\u001b[0mkey\u001b[0m\u001b[0;34m)\u001b[0m\u001b[0;34m\u001b[0m\u001b[0m\n\u001b[0m\u001b[1;32m   1959\u001b[0m         \u001b[0;32melif\u001b[0m \u001b[0misinstance\u001b[0m\u001b[0;34m(\u001b[0m\u001b[0mkey\u001b[0m\u001b[0;34m,\u001b[0m \u001b[0mDataFrame\u001b[0m\u001b[0;34m)\u001b[0m\u001b[0;34m:\u001b[0m\u001b[0;34m\u001b[0m\u001b[0m\n\u001b[1;32m   1960\u001b[0m             \u001b[0;32mreturn\u001b[0m \u001b[0mself\u001b[0m\u001b[0;34m.\u001b[0m\u001b[0m_getitem_frame\u001b[0m\u001b[0;34m(\u001b[0m\u001b[0mkey\u001b[0m\u001b[0;34m)\u001b[0m\u001b[0;34m\u001b[0m\u001b[0m\n",
      "\u001b[0;32m/mnt/home3/jj374/anaconda36/lib/python3.6/site-packages/pandas/core/frame.py\u001b[0m in \u001b[0;36m_getitem_array\u001b[0;34m(self, key)\u001b[0m\n\u001b[1;32m   2000\u001b[0m             \u001b[0;32mreturn\u001b[0m \u001b[0mself\u001b[0m\u001b[0;34m.\u001b[0m\u001b[0mtake\u001b[0m\u001b[0;34m(\u001b[0m\u001b[0mindexer\u001b[0m\u001b[0;34m,\u001b[0m \u001b[0maxis\u001b[0m\u001b[0;34m=\u001b[0m\u001b[0;36m0\u001b[0m\u001b[0;34m,\u001b[0m \u001b[0mconvert\u001b[0m\u001b[0;34m=\u001b[0m\u001b[0;32mFalse\u001b[0m\u001b[0;34m)\u001b[0m\u001b[0;34m\u001b[0m\u001b[0m\n\u001b[1;32m   2001\u001b[0m         \u001b[0;32melse\u001b[0m\u001b[0;34m:\u001b[0m\u001b[0;34m\u001b[0m\u001b[0m\n\u001b[0;32m-> 2002\u001b[0;31m             \u001b[0mindexer\u001b[0m \u001b[0;34m=\u001b[0m \u001b[0mself\u001b[0m\u001b[0;34m.\u001b[0m\u001b[0mloc\u001b[0m\u001b[0;34m.\u001b[0m\u001b[0m_convert_to_indexer\u001b[0m\u001b[0;34m(\u001b[0m\u001b[0mkey\u001b[0m\u001b[0;34m,\u001b[0m \u001b[0maxis\u001b[0m\u001b[0;34m=\u001b[0m\u001b[0;36m1\u001b[0m\u001b[0;34m)\u001b[0m\u001b[0;34m\u001b[0m\u001b[0m\n\u001b[0m\u001b[1;32m   2003\u001b[0m             \u001b[0;32mreturn\u001b[0m \u001b[0mself\u001b[0m\u001b[0;34m.\u001b[0m\u001b[0mtake\u001b[0m\u001b[0;34m(\u001b[0m\u001b[0mindexer\u001b[0m\u001b[0;34m,\u001b[0m \u001b[0maxis\u001b[0m\u001b[0;34m=\u001b[0m\u001b[0;36m1\u001b[0m\u001b[0;34m,\u001b[0m \u001b[0mconvert\u001b[0m\u001b[0;34m=\u001b[0m\u001b[0;32mTrue\u001b[0m\u001b[0;34m)\u001b[0m\u001b[0;34m\u001b[0m\u001b[0m\n\u001b[1;32m   2004\u001b[0m \u001b[0;34m\u001b[0m\u001b[0m\n",
      "\u001b[0;32m/mnt/home3/jj374/anaconda36/lib/python3.6/site-packages/pandas/core/indexing.py\u001b[0m in \u001b[0;36m_convert_to_indexer\u001b[0;34m(self, obj, axis, is_setter)\u001b[0m\n\u001b[1;32m   1229\u001b[0m                 \u001b[0mmask\u001b[0m \u001b[0;34m=\u001b[0m \u001b[0mcheck\u001b[0m \u001b[0;34m==\u001b[0m \u001b[0;34m-\u001b[0m\u001b[0;36m1\u001b[0m\u001b[0;34m\u001b[0m\u001b[0m\n\u001b[1;32m   1230\u001b[0m                 \u001b[0;32mif\u001b[0m \u001b[0mmask\u001b[0m\u001b[0;34m.\u001b[0m\u001b[0many\u001b[0m\u001b[0;34m(\u001b[0m\u001b[0;34m)\u001b[0m\u001b[0;34m:\u001b[0m\u001b[0;34m\u001b[0m\u001b[0m\n\u001b[0;32m-> 1231\u001b[0;31m                     \u001b[0;32mraise\u001b[0m \u001b[0mKeyError\u001b[0m\u001b[0;34m(\u001b[0m\u001b[0;34m'%s not in index'\u001b[0m \u001b[0;34m%\u001b[0m \u001b[0mobjarr\u001b[0m\u001b[0;34m[\u001b[0m\u001b[0mmask\u001b[0m\u001b[0;34m]\u001b[0m\u001b[0;34m)\u001b[0m\u001b[0;34m\u001b[0m\u001b[0m\n\u001b[0m\u001b[1;32m   1232\u001b[0m \u001b[0;34m\u001b[0m\u001b[0m\n\u001b[1;32m   1233\u001b[0m                 \u001b[0;32mreturn\u001b[0m \u001b[0m_values_from_object\u001b[0m\u001b[0;34m(\u001b[0m\u001b[0mindexer\u001b[0m\u001b[0;34m)\u001b[0m\u001b[0;34m\u001b[0m\u001b[0m\n",
      "\u001b[0;31mKeyError\u001b[0m: \"['pass1_exon2_locus_id'] not in index\""
     ]
    }
   ],
   "source": [
    "# Match hypersensitive sites to closest first/other exon\n",
    "def df_closest(df_a, df_b, b_prefix, **kwargs):\n",
    "    df_a_sort = df_a\n",
    "    df_b_sort = df_b.sort_values(list(df_b.columns[:3]))\n",
    "    fn_ = BedTool.from_dataframe(df_a).closest(BedTool.from_dataframe(df_b_sort).fn, **kwargs).fn\n",
    "    names_ = list(itertools.chain(df_a.columns.values,\n",
    "        ['%s_%s' % (b_prefix, col) for col in df_b.columns.values],\n",
    "        ['%s_distance' % (b_prefix)]\n",
    "    ))\n",
    "    df_ = pd.read_csv(fn_, names=names_, sep='\\t')\n",
    "    return df_[names_[len(df_a.columns):]]\n",
    "\n",
    "# Closest exon1 -- protein_coding & pseudogene\n",
    "df_ = pd.concat([df_atac['chrom'], l_atac_peak_pos, l_atac_peak_pos + 1], axis=1).copy()\n",
    "df_pass1_exon1_fwd_out_ = df_closest(df_, df_pass1_exon1_fwd, 'pass1_exon1', D='ref', t='first', iu=True)\n",
    "df_pass1_exon1_rev_out_ = df_closest(df_, df_pass1_exon1_rev, 'pass1_exon1', D='ref', t='last', id=True)\n",
    "\n",
    "# Closest exon2 can be both upstream or downstream\n",
    "df_pass1_exon2_fwd_out_ = df_closest(df_, df_pass1_exon2_fwd, 'pass1_exon2', D='ref', t='first')\n",
    "df_pass1_exon2_rev_out_ = df_closest(df_, df_pass1_exon2_rev, 'pass1_exon2', D='ref', t='last')\n",
    "\n",
    "# Closest exon2 can be both upstream or downstream (downstream only)\n",
    "df_pass1_exon2_downstream_fwd_out_ = df_closest(df_, df_pass1_exon2_fwd, 'pass1_exon2_downstream', D='ref', t='first', iu=True)\n",
    "df_pass1_exon2_downstream_rev_out_ = df_closest(df_, df_pass1_exon2_rev, 'pass1_exon2_downstream', D='ref', t='last', id=True)\n",
    "\n",
    "# Closes pass2/exon1 -- tRNA, snoRNA, rRNA, miRNA, etc\n",
    "df_pass2_exon1_fwd_out_ = df_closest(df_, df_pass2_exon1_fwd, 'pass2_exon1', D='ref', t='first', iu=True)\n",
    "df_pass2_exon1_rev_out_ = df_closest(df_, df_pass2_exon1_rev, 'pass2_exon1', D='ref', t='last', id=True)\n",
    "\n",
    "df_exon_fwd = pd.concat([df_pass1_exon1_fwd_out_, df_pass1_exon2_fwd_out_, df_pass1_exon2_downstream_fwd_out_, df_pass2_exon1_fwd_out_], axis=1)\n",
    "df_exon_rev = pd.concat([df_pass1_exon1_rev_out_, df_pass1_exon2_rev_out_, df_pass1_exon2_downstream_rev_out_, df_pass2_exon1_rev_out_], axis=1)\n",
    "\n",
    "df_exon_fwd.to_csv(mp('closest_exon_fwd.tsv'), header=True, index=False, sep='\\t')\n",
    "df_exon_rev.to_csv(mp('closest_exon_rev.tsv'), header=True, index=False, sep='\\t')\n",
    "\n",
    "#l_ = ['pass1_exon1_gene_id', 'pass1_exon1_locus_id', 'pass1_exon1_distance']\n",
    "l_ = ['pass1_exon1_gene_id', 'pass1_exon1_distance']\n",
    "write_gffbed(mp('closest_pass1_exon1_fwd.bed'),\n",
    "    chrom = df_atac['chrom'],\n",
    "    start = df_atac['start'],\n",
    "    end = df_atac['end'],\n",
    "    name = df_exon_fwd['pass1_exon1_Name'],\n",
    "    strand = '+',\n",
    "    attr = df_exon_fwd[l_], \n",
    ")\n",
    "write_gffbed(mp('closest_pass1_exon1_rev.bed'),\n",
    "    chrom = df_atac['chrom'],\n",
    "    start = df_atac['start'],\n",
    "    end = df_atac['end'],\n",
    "    name = df_exon_rev['pass1_exon1_Name'],\n",
    "    strand = '-',\n",
    "    attr = df_exon_rev[l_], \n",
    ")\n",
    "\n",
    "#l_ = ['pass1_exon2_gene_id', 'pass1_exon2_locus_id', 'pass1_exon2_distance']\n",
    "l_ = ['pass1_exon2_gene_id', 'pass1_exon2_distance']\n",
    "write_gffbed(mp('closest_pass1_exon2_fwd.bed'),\n",
    "    chrom = df_atac['chrom'],\n",
    "    start = df_atac['start'],\n",
    "    end = df_atac['end'],\n",
    "    name = df_exon_fwd['pass1_exon2_Name'],\n",
    "    strand = '+',\n",
    "    attr = df_exon_fwd[l_], \n",
    ")\n",
    "write_gffbed(mp('closest_pass1_exon2_rev.bed'),\n",
    "    chrom = df_atac['chrom'],\n",
    "    start = df_atac['start'],\n",
    "    end = df_atac['end'],\n",
    "    name = df_exon_rev['pass1_exon2_Name'],\n",
    "    strand = '-',\n",
    "    attr = df_exon_rev[l_], \n",
    ")\n",
    "\n",
    "#l_ = ['pass1_exon2_downstream_gene_id', 'pass1_exon2_downstream_locus_id', 'pass1_exon2_downstream_distance']\n",
    "l_ = ['pass1_exon2_downstream_gene_id', 'pass1_exon2_downstream_distance']\n",
    "write_gffbed(mp('closest_pass1_exon2_downstream_fwd.bed'),\n",
    "    chrom = df_atac['chrom'],\n",
    "    start = df_atac['start'],\n",
    "    end = df_atac['end'],\n",
    "    name = df_exon_fwd['pass1_exon2_downstream_Name'],\n",
    "    strand = '+',\n",
    "    attr = df_exon_fwd[l_], \n",
    ")\n",
    "write_gffbed(mp('closest_pass1_exon2_downstream_rev.bed'),\n",
    "    chrom = df_atac['chrom'],\n",
    "    start = df_atac['start'],\n",
    "    end = df_atac['end'],\n",
    "    name = df_exon_rev['pass1_exon2_downstream_Name'],\n",
    "    strand = '-',\n",
    "    attr = df_exon_rev[l_], \n",
    ")\n",
    "\n",
    "#l_ = ['pass2_exon1_gene_id', 'pass2_exon1_locus_id', 'pass2_exon1_distance']\n",
    "l_ = ['pass2_exon1_gene_id', 'pass2_exon1_distance']\n",
    "write_gffbed(mp('closest_pass2_exon1_fwd.bed'),\n",
    "    chrom = df_atac['chrom'],\n",
    "    start = df_atac['start'],\n",
    "    end = df_atac['end'],\n",
    "    name = df_exon_fwd['pass2_exon1_Name'],\n",
    "    strand = '+',\n",
    "    attr = df_exon_fwd[l_], \n",
    ")\n",
    "write_gffbed(mp('closest_pass2_exon1_rev.bed'),\n",
    "    chrom = df_atac['chrom'],\n",
    "    start = df_atac['start'],\n",
    "    end = df_atac['end'],\n",
    "    name = df_exon_rev['pass2_exon1_Name'],\n",
    "    strand = '-',\n",
    "    attr = df_exon_rev[l_], \n",
    ")"
   ]
  },
  {
   "cell_type": "code",
   "execution_count": null,
   "metadata": {
    "collapsed": true
   },
   "outputs": [],
   "source": []
  }
 ],
 "metadata": {
  "kernelspec": {
   "display_name": "Python 3",
   "language": "python",
   "name": "python3"
  },
  "language_info": {
   "codemirror_mode": {
    "name": "ipython",
    "version": 3
   },
   "file_extension": ".py",
   "mimetype": "text/x-python",
   "name": "python",
   "nbconvert_exporter": "python",
   "pygments_lexer": "ipython3",
   "version": "3.6.2"
  }
 },
 "nbformat": 4,
 "nbformat_minor": 2
}
