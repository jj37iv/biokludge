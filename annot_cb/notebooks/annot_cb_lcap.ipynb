{
 "cells": [
  {
   "cell_type": "code",
   "execution_count": 1,
   "metadata": {
    "ExecuteTime": {
     "end_time": "2018-09-18T16:25:55.613709Z",
     "start_time": "2018-09-18T16:25:50.981315Z"
    },
    "code_folding": []
   },
   "outputs": [
    {
     "name": "stderr",
     "output_type": "stream",
     "text": [
      "/mnt/home3/jj374/anaconda36/lib/python3.6/site-packages/statsmodels/compat/pandas.py:56: FutureWarning: The pandas.core.datetools module is deprecated and will be removed in a future version. Please use the pandas.tseries module instead.\n",
      "  from pandas.core import datetools\n"
     ]
    },
    {
     "name": "stdout",
     "output_type": "stream",
     "text": [
      "os.getcwd(): /mnt/beegfs/scratch_copy/ahringer/jj374/lab/relmapping\n"
     ]
    }
   ],
   "source": [
    "# Init\n",
    "%run ~/relmapping/annot_cb/notebooks/annot__init__.ipynb"
   ]
  },
  {
   "cell_type": "code",
   "execution_count": 2,
   "metadata": {
    "ExecuteTime": {
     "end_time": "2018-09-18T16:25:55.664570Z",
     "start_time": "2018-09-18T16:25:55.615533Z"
    }
   },
   "outputs": [
    {
     "data": {
      "text/html": [
       "<div>\n",
       "<style>\n",
       "    .dataframe thead tr:only-child th {\n",
       "        text-align: right;\n",
       "    }\n",
       "\n",
       "    .dataframe thead th {\n",
       "        text-align: left;\n",
       "    }\n",
       "\n",
       "    .dataframe tbody tr th {\n",
       "        vertical-align: top;\n",
       "    }\n",
       "</style>\n",
       "<table border=\"1\" class=\"dataframe\">\n",
       "  <thead>\n",
       "    <tr style=\"text-align: right;\">\n",
       "      <th></th>\n",
       "      <th>chrom</th>\n",
       "      <th>concave_start</th>\n",
       "      <th>concave_end</th>\n",
       "      <th>mode</th>\n",
       "      <th>wt_ya_rep1_score</th>\n",
       "      <th>wt_ya_rep2_score</th>\n",
       "      <th>min_rank</th>\n",
       "      <th>start</th>\n",
       "      <th>end</th>\n",
       "      <th>wt_ya_globalIDR</th>\n",
       "      <th>max_globalIDR</th>\n",
       "    </tr>\n",
       "  </thead>\n",
       "  <tbody>\n",
       "    <tr>\n",
       "      <th>0</th>\n",
       "      <td>I</td>\n",
       "      <td>7954</td>\n",
       "      <td>8180</td>\n",
       "      <td>8048</td>\n",
       "      <td>218.772699</td>\n",
       "      <td>431.677619</td>\n",
       "      <td>6379.0</td>\n",
       "      <td>7973</td>\n",
       "      <td>8124</td>\n",
       "      <td>3.671405</td>\n",
       "      <td>3.671405</td>\n",
       "    </tr>\n",
       "    <tr>\n",
       "      <th>1</th>\n",
       "      <td>I</td>\n",
       "      <td>16609</td>\n",
       "      <td>16809</td>\n",
       "      <td>16695</td>\n",
       "      <td>1089.472352</td>\n",
       "      <td>752.060789</td>\n",
       "      <td>1192.0</td>\n",
       "      <td>16620</td>\n",
       "      <td>16771</td>\n",
       "      <td>4.686630</td>\n",
       "      <td>4.686630</td>\n",
       "    </tr>\n",
       "    <tr>\n",
       "      <th>2</th>\n",
       "      <td>I</td>\n",
       "      <td>17076</td>\n",
       "      <td>17279</td>\n",
       "      <td>17167</td>\n",
       "      <td>634.236105</td>\n",
       "      <td>392.992569</td>\n",
       "      <td>2525.0</td>\n",
       "      <td>17092</td>\n",
       "      <td>17243</td>\n",
       "      <td>3.956980</td>\n",
       "      <td>3.956980</td>\n",
       "    </tr>\n",
       "    <tr>\n",
       "      <th>3</th>\n",
       "      <td>I</td>\n",
       "      <td>21469</td>\n",
       "      <td>21679</td>\n",
       "      <td>21560</td>\n",
       "      <td>2845.210881</td>\n",
       "      <td>3857.913439</td>\n",
       "      <td>65.0</td>\n",
       "      <td>21485</td>\n",
       "      <td>21636</td>\n",
       "      <td>5.000000</td>\n",
       "      <td>5.000000</td>\n",
       "    </tr>\n",
       "    <tr>\n",
       "      <th>4</th>\n",
       "      <td>I</td>\n",
       "      <td>39778</td>\n",
       "      <td>40055</td>\n",
       "      <td>39915</td>\n",
       "      <td>1768.688064</td>\n",
       "      <td>7326.561438</td>\n",
       "      <td>95.0</td>\n",
       "      <td>39840</td>\n",
       "      <td>39991</td>\n",
       "      <td>5.000000</td>\n",
       "      <td>5.000000</td>\n",
       "    </tr>\n",
       "  </tbody>\n",
       "</table>\n",
       "</div>"
      ],
      "text/plain": [
       "  chrom  concave_start  concave_end   mode  wt_ya_rep1_score  \\\n",
       "0     I           7954         8180   8048        218.772699   \n",
       "1     I          16609        16809  16695       1089.472352   \n",
       "2     I          17076        17279  17167        634.236105   \n",
       "3     I          21469        21679  21560       2845.210881   \n",
       "4     I          39778        40055  39915       1768.688064   \n",
       "\n",
       "   wt_ya_rep2_score  min_rank  start    end  wt_ya_globalIDR  max_globalIDR  \n",
       "0        431.677619    6379.0   7973   8124         3.671405       3.671405  \n",
       "1        752.060789    1192.0  16620  16771         4.686630       4.686630  \n",
       "2        392.992569    2525.0  17092  17243         3.956980       3.956980  \n",
       "3       3857.913439      65.0  21485  21636         5.000000       5.000000  \n",
       "4       7326.561438      95.0  39840  39991         5.000000       5.000000  "
      ]
     },
     "execution_count": 2,
     "metadata": {},
     "output_type": "execute_result"
    }
   ],
   "source": [
    "def mp(fp): return os.path.join('annot_cb', 'metrics_lcap', fp)\n",
    "\n",
    "l_cond = list(config['annot_cb']['lcap_samples'].keys())\n",
    "fp_atac = 'annot_cb/accessible_sites_cb.tsv'\n",
    "df_atac = pd.read_csv(fp_atac, sep='\\t')\n",
    "l_atac_peak_pos = df_atac[['start', 'end']].mean(axis=1).map(int)\n",
    "df_atac.head()"
   ]
  },
  {
   "cell_type": "code",
   "execution_count": 3,
   "metadata": {
    "ExecuteTime": {
     "end_time": "2018-09-18T16:26:13.237728Z",
     "start_time": "2018-09-18T16:25:55.666189Z"
    },
    "code_folding": [
     3,
     18,
     37,
     43
    ]
   },
   "outputs": [
    {
     "name": "stdout",
     "output_type": "stream",
     "text": [
      "estimating size factors\n",
      "estimating dispersions\n",
      "gene-wise dispersion estimates\n",
      "mean-dispersion relationship\n",
      "-- note: fitType='parametric', but the dispersion trend was not well captured by the\n",
      "   function: y = a/x + b, and a local regression fit was automatically substituted.\n",
      "   specify fitType='local' or 'mean' to avoid this message next time.\n",
      "final dispersion estimates\n",
      "fitting model and testing\n"
     ]
    },
    {
     "name": "stderr",
     "output_type": "stream",
     "text": [
      "[Parallel(n_jobs=20)]: Done   1 out of   1 | elapsed:   17.1s finished\n"
     ]
    }
   ],
   "source": [
    "# Jump test\n",
    "\n",
    "# 2-condition, 2-replicate one-sided test\n",
    "def deseq2x2(df_counts):\n",
    "    fh_inp, fp_inp = tempfile.mkstemp(dir=os.getcwd(), prefix='deseq2x2_inp_')\n",
    "    fh_out, fp_out = tempfile.mkstemp(dir=os.getcwd(), prefix='deseq2x2_out_')\n",
    "    df_counts.to_csv(fp_inp, sep='\\t')\n",
    "    !cat {fp_inp} | scripts/deseq2x2_greater.R > {fp_out}\n",
    "    #!wc -l {fp_inp}\n",
    "    #!wc -l {fp_out}\n",
    "    #!tail -n 20 {fp_out}\n",
    "    df_out = pd.read_csv(fp_out, sep='\\s+')\n",
    "    assert len(df_counts) == len(df_out)\n",
    "    !rm {fp_inp}\n",
    "    !rm {fp_out}\n",
    "    return df_out\n",
    "\n",
    "# Count reads & call DESeq\n",
    "def jump_test(fp_rep1, fp_rep2, chrom, u_start, u_end, d_start, d_end, f):\n",
    "    df_counts = pd.DataFrame()\n",
    "    df_counts['ucount_rep1'] = list(map(f, read_regions(fp_rep1, chrom, u_start, u_end)))\n",
    "    df_counts['ucount_rep2'] = list(map(f, read_regions(fp_rep2, chrom, u_start, u_end)))\n",
    "    df_counts['dcount_rep1'] = list(map(f, read_regions(fp_rep1, chrom, d_start, d_end)))\n",
    "    df_counts['dcount_rep2'] = list(map(f, read_regions(fp_rep2, chrom, d_start, d_end)))\n",
    "\n",
    "    # Sample pseudoreplicates\n",
    "    #np.random.seed(0)\n",
    "    #df_counts['ucount_sum'] = df_counts[ ['ucount_rep1', 'ucount_rep2'] ].sum(axis=1)\n",
    "    #df_counts['dcount_sum'] = df_counts[ ['dcount_rep1', 'dcount_rep2'] ].sum(axis=1)\n",
    "    #df_counts['ucount_rep1'] = list(map(lambda n: np.random.binomial(n, 0.5), df_counts['ucount_sum']))\n",
    "    #df_counts['dcount_rep1'] = list(map(lambda n: np.random.binomial(n, 0.5), df_counts['dcount_sum']))\n",
    "    #df_counts['ucount_rep2'] = df_counts['ucount_sum'] - df_counts['ucount_rep1']\n",
    "    #df_counts['dcount_rep2'] = df_counts['dcount_sum'] - df_counts['dcount_rep1']\n",
    "\n",
    "    df_deseq = deseq2x2(df_counts[['ucount_rep1', 'ucount_rep2', 'dcount_rep1', 'dcount_rep2']])\n",
    "    return pd.concat([df_counts, df_deseq], axis=1)\n",
    "\n",
    "def itemRgb_(passed):\n",
    "    if passed:\n",
    "        return RED\n",
    "    else:\n",
    "        return BLUE\n",
    "\n",
    "def jump_test_fwd(stage):\n",
    "    fp_rep1 = pf('annot_cb_lcap_%(stage)s_rep1' % locals(), config['annot_cb']['lcap_firstbp_fwd'], '.bw', 'lcap')\n",
    "    fp_rep2 = pf('annot_cb_lcap_%(stage)s_rep2' % locals(), config['annot_cb']['lcap_firstbp_fwd'], '.bw', 'lcap')\n",
    "\n",
    "    chrom = df_atac['chrom'].tolist()\n",
    "    u_start = (l_atac_peak_pos - 250).tolist()\n",
    "    u_end = (l_atac_peak_pos - 75 + 1).tolist()\n",
    "    d_start = (l_atac_peak_pos + 75).tolist()\n",
    "    d_end = (l_atac_peak_pos + 250 + 1).tolist()\n",
    "    df_jump = jump_test(fp_rep1, fp_rep2, chrom=chrom, u_start=u_start, u_end=u_end,\n",
    "                        d_start=d_start, d_end=d_end, f=lambda s: int(np.nan_to_num(np.nansum(s))))\n",
    "    #df_jump['passed'] = (df_jump['log2FoldChange'] > 2) & (df_jump['padj'] < 0.05)\n",
    "    df_jump['passed_jump'] = (df_jump['log2FoldChange'] > 1.5) & (df_jump['padj'] < 0.1)\n",
    "    df_jump['passed_incr'] = (df_jump['ucount_rep1'] == 0) & (df_jump['ucount_rep2'] == 0) \\\n",
    "                           & (df_jump['dcount_rep1'] >= 1) & (df_jump['dcount_rep2'] >= 1) \\\n",
    "                           & ((df_jump['dcount_rep1'] + df_jump['dcount_rep2']) >= 3)\n",
    "    df_jump['passed'] = df_jump['passed_jump'] | df_jump['passed_incr']\n",
    "    df_jump['summary'] = ['%s / %.02f / %.3g' % (passed, lfc, padj) \\\n",
    "                          for passed, lfc, padj in zip(df_jump['passed'], df_jump['log2FoldChange'], df_jump['padj'])]\n",
    "    df_jump.columns = ['lcap_%s_fwd_%s' % (stage, col) for col in df_jump.columns]\n",
    "    \n",
    "    write_gffbed(mp('lcap_%s_fwd.bed' % (stage,)),\n",
    "        chrom = chrom,\n",
    "        start = u_start,\n",
    "        thickStart = np.array(u_end) - 1,\n",
    "        thickEnd = np.array(d_start) + 1,\n",
    "        end = d_end,\n",
    "        attr = df_jump,\n",
    "        itemRgb = list(map(itemRgb_, df_jump['lcap_%s_fwd_passed' % (stage,)]\n",
    "    )))\n",
    "    return df_jump\n",
    "\n",
    "df_jump_fwd = pd.concat(pmap(jump_test_fwd, l_cond, n_jobs=20), axis=1)\n",
    "df_jump_fwd.to_csv(mp('lcap_all_fwd.tsv'), sep='\\t', index=False)"
   ]
  },
  {
   "cell_type": "code",
   "execution_count": 4,
   "metadata": {
    "ExecuteTime": {
     "end_time": "2018-09-18T16:26:30.794797Z",
     "start_time": "2018-09-18T16:26:13.239902Z"
    },
    "code_folding": [
     0
    ]
   },
   "outputs": [
    {
     "name": "stdout",
     "output_type": "stream",
     "text": [
      "estimating size factors\n",
      "estimating dispersions\n",
      "gene-wise dispersion estimates\n",
      "mean-dispersion relationship\n",
      "final dispersion estimates\n",
      "fitting model and testing\n"
     ]
    },
    {
     "name": "stderr",
     "output_type": "stream",
     "text": [
      "[Parallel(n_jobs=20)]: Done   1 out of   1 | elapsed:   17.2s finished\n"
     ]
    }
   ],
   "source": [
    "def jump_test_rev(stage):\n",
    "    fp_rep1 = pf('annot_cb_lcap_%(stage)s_rep1' % locals(), config['annot_cb']['lcap_firstbp_rev'], '.bw', 'lcap')\n",
    "    fp_rep2 = pf('annot_cb_lcap_%(stage)s_rep2' % locals(), config['annot_cb']['lcap_firstbp_rev'], '.bw', 'lcap')\n",
    "\n",
    "    chrom = df_atac['chrom'].tolist()\n",
    "    d_start = (l_atac_peak_pos - 250).tolist()\n",
    "    d_end = (l_atac_peak_pos - 75 + 1).tolist()\n",
    "    u_start = (l_atac_peak_pos + 75).tolist()\n",
    "    u_end = (l_atac_peak_pos + 250 + 1).tolist()\n",
    "    df_jump = jump_test(fp_rep1, fp_rep2, chrom=chrom, u_start=u_start, u_end=u_end,\n",
    "                        d_start=d_start, d_end=d_end, f=lambda s: int(np.nan_to_num(np.nansum(s))))\n",
    "    #df_jump['passed'] = (df_jump['log2FoldChange'] > 2) & (df_jump['padj'] < 0.05)\n",
    "    df_jump['passed_jump'] = (df_jump['log2FoldChange'] > 1.5) & (df_jump['padj'] < 0.1)\n",
    "    df_jump['passed_incr'] = (df_jump['ucount_rep1'] == 0) & (df_jump['ucount_rep2'] == 0) \\\n",
    "                           & (df_jump['dcount_rep1'] >= 1) & (df_jump['dcount_rep2'] >= 1) \\\n",
    "                           & ((df_jump['dcount_rep1'] + df_jump['dcount_rep2']) >= 3)\n",
    "    df_jump['passed'] = df_jump['passed_jump'] | df_jump['passed_incr']\n",
    "    df_jump['summary'] = ['%s / %.02f / %.3g' % (passed, lfc, padj) \\\n",
    "                          for passed, lfc, padj in zip(df_jump['passed'], df_jump['log2FoldChange'], df_jump['padj'])]\n",
    "    df_jump.columns = ['lcap_%s_rev_%s' % (stage, col) for col in df_jump.columns]\n",
    "    \n",
    "    write_gffbed(mp('lcap_%s_rev.bed' % (stage,)),\n",
    "        chrom = chrom,\n",
    "        start = d_start,\n",
    "        thickStart = np.array(d_end) - 1,\n",
    "        thickEnd = np.array(u_start) + 1,\n",
    "        end = u_end,\n",
    "        attr = df_jump,\n",
    "        itemRgb = list(map(itemRgb_, df_jump['lcap_%s_rev_passed' % (stage,)]\n",
    "    )))\n",
    "    return df_jump\n",
    "\n",
    "df_jump_rev = pd.concat(pmap(jump_test_rev, l_cond, n_jobs=20), axis=1)\n",
    "df_jump_rev.to_csv(mp('lcap_all_rev.tsv'), sep='\\t', index=False)"
   ]
  },
  {
   "cell_type": "code",
   "execution_count": 5,
   "metadata": {
    "ExecuteTime": {
     "end_time": "2018-09-18T16:26:30.806005Z",
     "start_time": "2018-09-18T16:26:30.796977Z"
    }
   },
   "outputs": [
    {
     "data": {
      "text/html": [
       "<div>\n",
       "<style>\n",
       "    .dataframe thead tr:only-child th {\n",
       "        text-align: right;\n",
       "    }\n",
       "\n",
       "    .dataframe thead th {\n",
       "        text-align: left;\n",
       "    }\n",
       "\n",
       "    .dataframe tbody tr th {\n",
       "        vertical-align: top;\n",
       "    }\n",
       "</style>\n",
       "<table border=\"1\" class=\"dataframe\">\n",
       "  <thead>\n",
       "    <tr style=\"text-align: right;\">\n",
       "      <th></th>\n",
       "      <th>lcap_wt_ya_fwd_passed</th>\n",
       "    </tr>\n",
       "  </thead>\n",
       "  <tbody>\n",
       "    <tr>\n",
       "      <th>False</th>\n",
       "      <td>6341</td>\n",
       "    </tr>\n",
       "    <tr>\n",
       "      <th>True</th>\n",
       "      <td>2204</td>\n",
       "    </tr>\n",
       "  </tbody>\n",
       "</table>\n",
       "</div>"
      ],
      "text/plain": [
       "       lcap_wt_ya_fwd_passed\n",
       "False                   6341\n",
       "True                    2204"
      ]
     },
     "execution_count": 5,
     "metadata": {},
     "output_type": "execute_result"
    }
   ],
   "source": [
    "pd.concat([df_jump_fwd['lcap_%s_fwd_passed' % (stage,)].value_counts() for stage in l_cond], axis=1)"
   ]
  },
  {
   "cell_type": "code",
   "execution_count": 6,
   "metadata": {
    "ExecuteTime": {
     "end_time": "2018-09-18T16:26:30.823162Z",
     "start_time": "2018-09-18T16:26:30.807574Z"
    }
   },
   "outputs": [
    {
     "data": {
      "text/html": [
       "<div>\n",
       "<style>\n",
       "    .dataframe thead tr:only-child th {\n",
       "        text-align: right;\n",
       "    }\n",
       "\n",
       "    .dataframe thead th {\n",
       "        text-align: left;\n",
       "    }\n",
       "\n",
       "    .dataframe tbody tr th {\n",
       "        vertical-align: top;\n",
       "    }\n",
       "</style>\n",
       "<table border=\"1\" class=\"dataframe\">\n",
       "  <thead>\n",
       "    <tr style=\"text-align: right;\">\n",
       "      <th></th>\n",
       "      <th>lcap_wt_ya_rev_passed</th>\n",
       "    </tr>\n",
       "  </thead>\n",
       "  <tbody>\n",
       "    <tr>\n",
       "      <th>False</th>\n",
       "      <td>6439</td>\n",
       "    </tr>\n",
       "    <tr>\n",
       "      <th>True</th>\n",
       "      <td>2106</td>\n",
       "    </tr>\n",
       "  </tbody>\n",
       "</table>\n",
       "</div>"
      ],
      "text/plain": [
       "       lcap_wt_ya_rev_passed\n",
       "False                   6439\n",
       "True                    2106"
      ]
     },
     "execution_count": 6,
     "metadata": {},
     "output_type": "execute_result"
    }
   ],
   "source": [
    "pd.concat([df_jump_rev['lcap_%s_rev_passed' % (stage,)].value_counts() for stage in l_cond], axis=1)"
   ]
  },
  {
   "cell_type": "code",
   "execution_count": 7,
   "metadata": {
    "ExecuteTime": {
     "end_time": "2018-09-18T16:26:32.177612Z",
     "start_time": "2018-09-18T16:26:30.824721Z"
    },
    "collapsed": true,
    "scrolled": true
   },
   "outputs": [],
   "source": [
    "u_start = (l_atac_peak_pos - 250).tolist()\n",
    "u_end = (l_atac_peak_pos - 75 + 1).tolist()\n",
    "d_start = (l_atac_peak_pos + 75).tolist()\n",
    "d_end = (l_atac_peak_pos + 250 + 1).tolist()\n",
    "\n",
    "l_passed_any = df_jump_fwd[['lcap_%s_fwd_passed' % (stage,) for stage in l_cond]].any(axis=1)\n",
    "write_gffbed(mp('lcap_all_fwd.bed'),\n",
    "    chrom = df_atac['chrom'],\n",
    "    start = u_start,\n",
    "    thickStart = np.array(u_end) - 1,\n",
    "    thickEnd = np.array(d_start) + 1,\n",
    "    end = d_end,\n",
    "    attr = df_jump_fwd[['lcap_%s_fwd_summary' % (stage,) for stage in l_cond]],\n",
    "    itemRgb = list(map(itemRgb_, l_passed_any)),\n",
    ")\n",
    "\n",
    "l_passed_any = df_jump_rev[['lcap_%s_rev_passed' % (stage,) for stage in l_cond]].any(axis=1)\n",
    "write_gffbed(mp('lcap_all_rev.bed'),\n",
    "    chrom = df_atac['chrom'],\n",
    "    start = u_start,\n",
    "    thickStart = np.array(u_end) - 1,\n",
    "    thickEnd = np.array(d_start) + 1,\n",
    "    end = d_end,\n",
    "    attr = df_jump_rev[['lcap_%s_rev_summary' % (stage,) for stage in l_cond]],\n",
    "    itemRgb = list(map(itemRgb_, l_passed_any)),\n",
    ")"
   ]
  }
 ],
 "metadata": {
  "kernelspec": {
   "display_name": "Python 3",
   "language": "python",
   "name": "python3"
  },
  "language_info": {
   "codemirror_mode": {
    "name": "ipython",
    "version": 3
   },
   "file_extension": ".py",
   "mimetype": "text/x-python",
   "name": "python",
   "nbconvert_exporter": "python",
   "pygments_lexer": "ipython3",
   "version": "3.6.2"
  }
 },
 "nbformat": 4,
 "nbformat_minor": 2
}
