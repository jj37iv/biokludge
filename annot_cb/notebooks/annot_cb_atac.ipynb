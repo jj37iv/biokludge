{
 "cells": [
  {
   "cell_type": "code",
   "execution_count": null,
   "metadata": {
    "ExecuteTime": {
     "end_time": "2018-09-20T11:29:05.317137Z",
     "start_time": "2018-09-20T11:29:00.136641Z"
    }
   },
   "outputs": [],
   "source": [
    "%run ~/relmapping/annot_cb/notebooks/annot__init__.ipynb"
   ]
  },
  {
   "cell_type": "code",
   "execution_count": null,
   "metadata": {
    "ExecuteTime": {
     "end_time": "2018-09-20T11:40:40.951590Z",
     "start_time": "2018-09-20T11:29:10.146760Z"
    }
   },
   "outputs": [],
   "source": [
    "l_atac_stages = list(config['annot_cb']['atac_samples'].keys())\n",
    "args = ''\n",
    "for stage in l_atac_stages:\n",
    "    fp_rep1 = pf('annot_cb_atac_%(stage)s_rep1' % locals(), config['annot_cb']['atac_step'], config['annot_cb']['atac_suffix'], 'atac')\n",
    "    fp_rep2 = pf('annot_cb_atac_%(stage)s_rep2' % locals(), config['annot_cb']['atac_step'], config['annot_cb']['atac_suffix'], 'atac')\n",
    "    fp_prp1 = pf('annot_cb_atac_%(stage)s_rep1' % locals(), config['annot_cb']['atac_step_prp'], config['annot_cb']['atac_suffix'], 'atac')\n",
    "    fp_prp2 = pf('annot_cb_atac_%(stage)s_rep2' % locals(), config['annot_cb']['atac_step_prp'], config['annot_cb']['atac_suffix'], 'atac')\n",
    "    args += '%(stage)s %(fp_rep1)s %(fp_rep2)s %(fp_prp1)s %(fp_prp2)s ' % locals()\n",
    "\n",
    "!yapc/yapc annot_cb/metrics_atac/atac_cb {args} --smoothing-window-width 150 --fixed-peak-halfwidth 75 --pseudoreplicates"
   ]
  },
  {
   "cell_type": "code",
   "execution_count": null,
   "metadata": {
    "ExecuteTime": {
     "end_time": "2018-09-18T16:14:04.620145Z",
     "start_time": "2018-09-18T16:14:04.336619Z"
    },
    "collapsed": true
   },
   "outputs": [],
   "source": [
    "df_sites = pd.read_csv('annot_cb/metrics_atac/atac_cb.tsv', sep='\\t')\n",
    "l_globalIDR = ['%(stage)s_globalIDR' % locals() for stage in config['annot_cb']['atac_samples'].keys() ]\n",
    "df_sites['max_globalIDR'] = df_sites[l_globalIDR].max(axis=1)\n",
    "for th in [0.001, 0.005, 0.01, 0.05]:\n",
    "    th_globalIDR = -math.log(th, 10)\n",
    "    df_sites_th = df_sites.query('max_globalIDR >= @th_globalIDR')\n",
    "    print('%d accessible sites at IDR=%.3f' % (len(df_sites_th), th))\n",
    "df_sites.head()"
   ]
  },
  {
   "cell_type": "code",
   "execution_count": null,
   "metadata": {
    "ExecuteTime": {
     "end_time": "2018-09-18T16:14:24.864130Z",
     "start_time": "2018-09-18T16:14:24.559882Z"
    },
    "collapsed": true
   },
   "outputs": [],
   "source": [
    "th_globalIDR = -math.log(0.001, 10)\n",
    "fp_ = 'annot_cb/accessible_sites_cb.tsv'\n",
    "df_sites.query('max_globalIDR > @th_globalIDR').to_csv(fp_, header=True, index=False, sep='\\t')\n",
    "!wc -l {fp_}"
   ]
  }
 ],
 "metadata": {
  "kernelspec": {
   "display_name": "Python 3",
   "language": "python",
   "name": "python3"
  },
  "language_info": {
   "codemirror_mode": {
    "name": "ipython",
    "version": 3
   },
   "file_extension": ".py",
   "mimetype": "text/x-python",
   "name": "python",
   "nbconvert_exporter": "python",
   "pygments_lexer": "ipython3",
   "version": "3.6.2"
  }
 },
 "nbformat": 4,
 "nbformat_minor": 2
}
