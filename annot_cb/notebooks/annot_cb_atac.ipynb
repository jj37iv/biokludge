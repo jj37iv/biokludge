{
 "cells": [
  {
   "cell_type": "code",
   "execution_count": 1,
   "metadata": {
    "ExecuteTime": {
     "end_time": "2018-09-18T16:08:38.785450Z",
     "start_time": "2018-09-18T16:08:34.143270Z"
    }
   },
   "outputs": [
    {
     "name": "stderr",
     "output_type": "stream",
     "text": [
      "/mnt/home3/jj374/anaconda36/lib/python3.6/site-packages/statsmodels/compat/pandas.py:56: FutureWarning: The pandas.core.datetools module is deprecated and will be removed in a future version. Please use the pandas.tseries module instead.\n",
      "  from pandas.core import datetools\n"
     ]
    },
    {
     "name": "stdout",
     "output_type": "stream",
     "text": [
      "os.getcwd(): /mnt/beegfs/scratch_copy/ahringer/jj374/lab/relmapping\n"
     ]
    }
   ],
   "source": [
    "%run ~/relmapping/annot_cb/notebooks/annot__init__.ipynb"
   ]
  },
  {
   "cell_type": "code",
   "execution_count": 2,
   "metadata": {
    "ExecuteTime": {
     "end_time": "2018-09-18T16:14:04.332483Z",
     "start_time": "2018-09-18T16:08:40.035651Z"
    }
   },
   "outputs": [
    {
     "name": "stdout",
     "output_type": "stream",
     "text": [
      "18-09-18 17:08:41 | numpy version: 1.12.1\n",
      "18-09-18 17:08:41 | pandas version: 0.20.3\n",
      "18-09-18 17:08:41 | pyBigWig.numpy flag: 1\n",
      "18-09-18 17:08:41 | IDR version: 2.0.3\n",
      "18-09-18 17:08:41 | Input samples:\n",
      "condition      sample                                                 fp  is_bw\n",
      "   wt_ya  wt_ya_rep1  atac/tg_se.bwa_se_CB4.rm_unmapped.rm_contigs_C...   True\n",
      "   wt_ya  wt_ya_rep2  atac/tg_se.bwa_se_CB4.rm_unmapped.rm_contigs_C...   True\n",
      "\n",
      "18-09-18 17:08:41 | Output prefix: annot_cb/metrics_atac/atac_cb\n",
      "18-09-18 17:08:41 | [compute]\tpooled coverage track: annot_cb/metrics_atac/atac_cb_coverage.bw\n",
      "calculating mean of all input signal:\n",
      "I 15455979\n",
      "II 16627154\n",
      "III 14578851\n",
      "IV 17485439\n",
      "V 19495157\n",
      "X 21540570\n",
      "18-09-18 17:10:03 | [compute]\td2smooth track: annot_cb/metrics_atac/atac_cb_d2smooth.bw\n",
      "I 15455979\n",
      "II 16627154\n",
      "III 14578851\n",
      "IV 17485439\n",
      "V 19495157\n",
      "X 21540570\n",
      "18-09-18 17:11:43 | [compute]\traw concave regions: annot_cb/metrics_atac/atac_cb_peaksall.tsv\n",
      "/mnt/home1/ahringer/jj374/repos/yapc/yapc:152: RuntimeWarning: invalid value encountered in less\n",
      "  s = np.where(np.diff((d2y < tol).astype(int))==1)[0] + 1\n",
      "/mnt/home1/ahringer/jj374/repos/yapc/yapc:153: RuntimeWarning: invalid value encountered in less\n",
      "  e = np.where(np.diff((d2y < tol).astype(int))==-1)[0] + 1\n",
      "37066 raw concave regions on chrom I\n",
      "39645 raw concave regions on chrom II\n",
      "34761 raw concave regions on chrom III\n",
      "42191 raw concave regions on chrom IV\n",
      "47267 raw concave regions on chrom V\n",
      "51358 raw concave regions on chrom X\n",
      "252288 peaks total\n",
      "scoring peaks for sample: wt_ya_rep1\n",
      "scoring peaks for sample: wt_ya_rep2\n",
      "18-09-18 17:12:54 | 252288 raw concave regions found\n",
      "18-09-18 17:12:54 | 252288 raw peaks\n",
      "18-09-18 17:12:54 | 219284 peaks after discarding narrow concave regions (min_concave_region_width=75)\n",
      "18-09-18 17:12:54 | 100000 peaks after filtering based on best rank across all conditions (truncate_idr_input=100000)\n",
      "18-09-18 17:12:54 | curvature index-scores:\n",
      "wt_ya_rep1_score  wt_ya_rep2_score\n",
      "    2.316786e+01      4.204035e+00\n",
      "    2.678308e+01      9.875055e+00\n",
      "    4.065436e+01      1.265308e+01\n",
      "    6.345741e-08      3.850419e-08\n",
      "    8.172759e+01      2.554739e+00\n",
      "18-09-18 17:12:54 | [compute]\tIDR analyses: annot_cb/metrics_atac/atac_cb.tsv\n",
      "Initial parameter values: [0.10 1.00 0.20 0.50]\n",
      "Final parameter values: [2.37 0.86 0.83 0.19]\n",
      "18-09-18 17:13:59 | Wrote all 100000 IDR-scored peaks to annot_cb/metrics_atac/atac_cb.tsv\n",
      "18-09-18 17:13:59 | 219284 IDR-scored peaks\n",
      "18-09-18 17:13:59 | globalIDR:\n",
      "18-09-18 17:13:59 | wt_ya_globalIDR\n",
      "       0.093113\n",
      "       0.240213\n",
      "       0.197491\n",
      "       0.093113\n",
      "       0.582160\n",
      "18-09-18 17:14:00 | Wrote 8545 peaks at IDR=0.001 to annot_cb/metrics_atac/atac_cb_0.001.bed\n",
      "18-09-18 17:14:01 | Wrote 11772 peaks at IDR=0.005 to annot_cb/metrics_atac/atac_cb_0.005.bed\n",
      "18-09-18 17:14:02 | Wrote 13218 peaks at IDR=0.010 to annot_cb/metrics_atac/atac_cb_0.01.bed\n",
      "18-09-18 17:14:04 | Wrote 17074 peaks at IDR=0.050 to annot_cb/metrics_atac/atac_cb_0.05.bed\n"
     ]
    }
   ],
   "source": [
    "l_atac_stages = list(config['annot_cb']['atac_samples'].keys())\n",
    "args = ''\n",
    "for stage in l_atac_stages:\n",
    "    fp1 = pf('annot_cb_atac_%(stage)s_rep1' % locals(), config['annot_cb']['atac_step'], config['annot_cb']['atac_suffix'], 'atac')\n",
    "    fp2 = pf('annot_cb_atac_%(stage)s_rep2' % locals(), config['annot_cb']['atac_step'], config['annot_cb']['atac_suffix'], 'atac')\n",
    "    args += '%(stage)s %(fp1)s %(fp2)s ' % locals()\n",
    "\n",
    "!~/repos/yapc/yapc annot_cb/metrics_atac/atac_cb {args} --smoothing-window-width 150 --fixed-peak-halfwidth 75    "
   ]
  },
  {
   "cell_type": "code",
   "execution_count": 3,
   "metadata": {
    "ExecuteTime": {
     "end_time": "2018-09-18T16:14:04.620145Z",
     "start_time": "2018-09-18T16:14:04.336619Z"
    }
   },
   "outputs": [
    {
     "name": "stdout",
     "output_type": "stream",
     "text": [
      "8545 accessible sites at IDR=0.001\n",
      "11772 accessible sites at IDR=0.005\n",
      "13218 accessible sites at IDR=0.010\n",
      "17074 accessible sites at IDR=0.050\n"
     ]
    },
    {
     "data": {
      "text/html": [
       "<div>\n",
       "<style>\n",
       "    .dataframe thead tr:only-child th {\n",
       "        text-align: right;\n",
       "    }\n",
       "\n",
       "    .dataframe thead th {\n",
       "        text-align: left;\n",
       "    }\n",
       "\n",
       "    .dataframe tbody tr th {\n",
       "        vertical-align: top;\n",
       "    }\n",
       "</style>\n",
       "<table border=\"1\" class=\"dataframe\">\n",
       "  <thead>\n",
       "    <tr style=\"text-align: right;\">\n",
       "      <th></th>\n",
       "      <th>chrom</th>\n",
       "      <th>concave_start</th>\n",
       "      <th>concave_end</th>\n",
       "      <th>mode</th>\n",
       "      <th>wt_ya_rep1_score</th>\n",
       "      <th>wt_ya_rep2_score</th>\n",
       "      <th>min_rank</th>\n",
       "      <th>start</th>\n",
       "      <th>end</th>\n",
       "      <th>wt_ya_globalIDR</th>\n",
       "      <th>max_globalIDR</th>\n",
       "    </tr>\n",
       "  </thead>\n",
       "  <tbody>\n",
       "    <tr>\n",
       "      <th>0</th>\n",
       "      <td>I</td>\n",
       "      <td>667</td>\n",
       "      <td>816</td>\n",
       "      <td>737</td>\n",
       "      <td>26.783079</td>\n",
       "      <td>9.875055</td>\n",
       "      <td>65296.0</td>\n",
       "      <td>662</td>\n",
       "      <td>813</td>\n",
       "      <td>0.093113</td>\n",
       "      <td>0.093113</td>\n",
       "    </tr>\n",
       "    <tr>\n",
       "      <th>1</th>\n",
       "      <td>I</td>\n",
       "      <td>912</td>\n",
       "      <td>1093</td>\n",
       "      <td>994</td>\n",
       "      <td>40.654358</td>\n",
       "      <td>12.653080</td>\n",
       "      <td>35360.0</td>\n",
       "      <td>919</td>\n",
       "      <td>1070</td>\n",
       "      <td>0.240213</td>\n",
       "      <td>0.240213</td>\n",
       "    </tr>\n",
       "    <tr>\n",
       "      <th>2</th>\n",
       "      <td>I</td>\n",
       "      <td>2125</td>\n",
       "      <td>2303</td>\n",
       "      <td>2219</td>\n",
       "      <td>81.727592</td>\n",
       "      <td>2.554739</td>\n",
       "      <td>14766.0</td>\n",
       "      <td>2144</td>\n",
       "      <td>2295</td>\n",
       "      <td>0.197491</td>\n",
       "      <td>0.197491</td>\n",
       "    </tr>\n",
       "    <tr>\n",
       "      <th>3</th>\n",
       "      <td>I</td>\n",
       "      <td>2414</td>\n",
       "      <td>2553</td>\n",
       "      <td>2483</td>\n",
       "      <td>0.233191</td>\n",
       "      <td>57.030091</td>\n",
       "      <td>25957.0</td>\n",
       "      <td>2408</td>\n",
       "      <td>2559</td>\n",
       "      <td>0.093113</td>\n",
       "      <td>0.093113</td>\n",
       "    </tr>\n",
       "    <tr>\n",
       "      <th>4</th>\n",
       "      <td>I</td>\n",
       "      <td>2926</td>\n",
       "      <td>3119</td>\n",
       "      <td>3025</td>\n",
       "      <td>73.401780</td>\n",
       "      <td>36.811700</td>\n",
       "      <td>16486.0</td>\n",
       "      <td>2950</td>\n",
       "      <td>3101</td>\n",
       "      <td>0.582160</td>\n",
       "      <td>0.582160</td>\n",
       "    </tr>\n",
       "  </tbody>\n",
       "</table>\n",
       "</div>"
      ],
      "text/plain": [
       "  chrom  concave_start  concave_end  mode  wt_ya_rep1_score  wt_ya_rep2_score  \\\n",
       "0     I            667          816   737         26.783079          9.875055   \n",
       "1     I            912         1093   994         40.654358         12.653080   \n",
       "2     I           2125         2303  2219         81.727592          2.554739   \n",
       "3     I           2414         2553  2483          0.233191         57.030091   \n",
       "4     I           2926         3119  3025         73.401780         36.811700   \n",
       "\n",
       "   min_rank  start   end  wt_ya_globalIDR  max_globalIDR  \n",
       "0   65296.0    662   813         0.093113       0.093113  \n",
       "1   35360.0    919  1070         0.240213       0.240213  \n",
       "2   14766.0   2144  2295         0.197491       0.197491  \n",
       "3   25957.0   2408  2559         0.093113       0.093113  \n",
       "4   16486.0   2950  3101         0.582160       0.582160  "
      ]
     },
     "execution_count": 3,
     "metadata": {},
     "output_type": "execute_result"
    }
   ],
   "source": [
    "df_sites = pd.read_csv('annot_cb/metrics_atac/atac_cb.tsv', sep='\\t')\n",
    "l_globalIDR = ['%(stage)s_globalIDR' % locals() for stage in config['annot_cb']['atac_samples'].keys() ]\n",
    "df_sites['max_globalIDR'] = df_sites[l_globalIDR].max(axis=1)\n",
    "for th in [0.001, 0.005, 0.01, 0.05]:\n",
    "    th_globalIDR = -math.log(th, 10)\n",
    "    df_sites_th = df_sites.query('max_globalIDR >= @th_globalIDR')\n",
    "    print('%d accessible sites at IDR=%.3f' % (len(df_sites_th), th))\n",
    "df_sites.head()"
   ]
  },
  {
   "cell_type": "code",
   "execution_count": 5,
   "metadata": {
    "ExecuteTime": {
     "end_time": "2018-09-18T16:14:24.864130Z",
     "start_time": "2018-09-18T16:14:24.559882Z"
    }
   },
   "outputs": [
    {
     "name": "stdout",
     "output_type": "stream",
     "text": [
      "8546 annot_cb/accessible_sites_cb.tsv\r\n"
     ]
    }
   ],
   "source": [
    "th_globalIDR = -math.log(0.001, 10)\n",
    "fp_ = 'annot_cb/accessible_sites_cb.tsv'\n",
    "df_sites.query('max_globalIDR > @th_globalIDR').to_csv(fp_, header=True, index=False, sep='\\t')\n",
    "!wc -l {fp_}"
   ]
  }
 ],
 "metadata": {
  "kernelspec": {
   "display_name": "Python 3",
   "language": "python",
   "name": "python3"
  },
  "language_info": {
   "codemirror_mode": {
    "name": "ipython",
    "version": 3
   },
   "file_extension": ".py",
   "mimetype": "text/x-python",
   "name": "python",
   "nbconvert_exporter": "python",
   "pygments_lexer": "ipython3",
   "version": "3.6.2"
  }
 },
 "nbformat": 4,
 "nbformat_minor": 2
}
