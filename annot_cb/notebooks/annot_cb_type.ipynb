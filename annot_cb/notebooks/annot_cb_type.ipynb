{
 "cells": [
  {
   "cell_type": "code",
   "execution_count": 1,
   "metadata": {
    "ExecuteTime": {
     "end_time": "2018-09-19T15:11:24.210954Z",
     "start_time": "2018-09-19T15:11:19.607874Z"
    },
    "code_folding": []
   },
   "outputs": [
    {
     "name": "stderr",
     "output_type": "stream",
     "text": [
      "/mnt/home3/jj374/anaconda36/lib/python3.6/site-packages/statsmodels/compat/pandas.py:56: FutureWarning: The pandas.core.datetools module is deprecated and will be removed in a future version. Please use the pandas.tseries module instead.\n",
      "  from pandas.core import datetools\n"
     ]
    },
    {
     "name": "stdout",
     "output_type": "stream",
     "text": [
      "os.getcwd(): /mnt/beegfs/scratch_copy/ahringer/jj374/lab/relmapping\n"
     ]
    }
   ],
   "source": [
    "%run ~/relmapping/annot_cb/notebooks/annot__init__.ipynb\n",
    "annot_ = 'annot_cb'\n",
    "def mp(fp, annot_=annot_): return os.path.join(annot_, 'metrics_type', fp)"
   ]
  },
  {
   "cell_type": "code",
   "execution_count": 2,
   "metadata": {
    "ExecuteTime": {
     "end_time": "2018-09-19T15:11:24.737921Z",
     "start_time": "2018-09-19T15:11:24.212888Z"
    },
    "collapsed": true
   },
   "outputs": [],
   "source": [
    "l_cond = list(config['annot_cb']['lcap_samples'].keys())\n",
    "df_atac = pd.read_csv(os.path.join(annot_, 'accessible_sites_cb.tsv'), sep='\\t')\n",
    "l_atac_peak_pos = df_atac[['start', 'end']].mean(axis=1).map(int)\n",
    "\n",
    "df_lcap_fwd = pd.read_csv(os.path.join(annot_, 'metrics_lcap', 'lcap_all_fwd.tsv'), sep='\\t', low_memory=False)\n",
    "df_lcap_rev = pd.read_csv(os.path.join(annot_, 'metrics_lcap', 'lcap_all_rev.tsv'), sep='\\t', low_memory=False)\n",
    "df_exon_fwd = pd.read_csv(os.path.join(annot_, 'metrics_exon', 'closest_exon_fwd.tsv'), sep='\\t', low_memory=False)\n",
    "df_exon_rev = pd.read_csv(os.path.join(annot_, 'metrics_exon', 'closest_exon_rev.tsv'), sep='\\t', low_memory=False)\n",
    "df_maxgap_fwd = pd.read_csv(os.path.join(annot_, 'metrics_maxgap', 'maxgap_fwd.tsv'), sep='\\t')\n",
    "df_maxgap_rev = pd.read_csv(os.path.join(annot_, 'metrics_maxgap', 'maxgap_rev.tsv'), sep='\\t')\n",
    "\n",
    "df_prom_fwd = df_atac[['chrom', 'start', 'end']].copy()\n",
    "df_prom_rev = df_atac[['chrom', 'start', 'end']].copy()\n",
    "df_prom_fwd['strand'] = '+'\n",
    "df_prom_rev['strand'] = '-'"
   ]
  },
  {
   "cell_type": "code",
   "execution_count": 3,
   "metadata": {
    "ExecuteTime": {
     "end_time": "2018-09-19T15:11:25.528440Z",
     "start_time": "2018-09-19T15:11:24.741006Z"
    },
    "code_folding": [
     0
    ]
   },
   "outputs": [
    {
     "name": "stdout",
     "output_type": "stream",
     "text": [
      "11005 10986 fwd/rev genes\n",
      "10664 10650 fwd/rev genes longer than 250bp kept\n"
     ]
    }
   ],
   "source": [
    "# df_pass1_gene_%strand: WS260_ce10 gene coordinates, excluding 250bp downstream of TSS\n",
    "df_ = pd.concat([\n",
    "    read_wbgtf('annot_cb/canonical_geneset/WS260_CB4.genes.pseudogene.gtf.gz', parse_attr=True, coords_adj=True),\n",
    "    read_wbgtf('annot_cb/canonical_geneset/WS260_CB4.genes.protein_coding.gtf.gz', parse_attr=True, coords_adj=True),\n",
    "], axis=0)\n",
    "\n",
    "df_pass1_gene_fwd = df_.query('strand == \"+\"').reset_index(drop=True)[['chrom', 'start', 'end', 'gene_id']]\n",
    "df_pass1_gene_rev = df_.query('strand == \"-\"').reset_index(drop=True)[['chrom', 'start', 'end', 'gene_id']]\n",
    "\n",
    "print(len(df_pass1_gene_fwd), len(df_pass1_gene_rev), 'fwd/rev genes')\n",
    "\n",
    "# do not mask 250bp downstream of TSS\n",
    "df_pass1_gene_fwd['start'] = df_pass1_gene_fwd['start'] + 250\n",
    "df_pass1_gene_rev['end'] = df_pass1_gene_rev['end'] - 250\n",
    "\n",
    "df_pass1_gene_fwd = df_pass1_gene_fwd.query('start < end')\n",
    "df_pass1_gene_rev = df_pass1_gene_rev.query('start < end')\n",
    "print(len(df_pass1_gene_fwd), len(df_pass1_gene_rev), 'fwd/rev genes longer than 250bp kept')"
   ]
  },
  {
   "cell_type": "code",
   "execution_count": 4,
   "metadata": {
    "ExecuteTime": {
     "end_time": "2018-09-19T15:11:25.884494Z",
     "start_time": "2018-09-19T15:11:25.531787Z"
    },
    "code_folding": [
     0
    ]
   },
   "outputs": [
    {
     "name": "stdout",
     "output_type": "stream",
     "text": [
      "8554 8571 fwd/rev gene body hits\n"
     ]
    }
   ],
   "source": [
    "# df_pass1_gpos_%strand[gene_chrom/start/end]: closest gene; if overlaps multiple genes, choose one with the more distal TSS\n",
    "def df_pos():\n",
    "    l_atac_peak_pos = df_atac[['start', 'end']].mean(axis=1).map(int)\n",
    "    df_ = pd.concat([df_atac['chrom'], l_atac_peak_pos, l_atac_peak_pos + 1], axis=1).copy()\n",
    "    df_.columns = ['chrom', 'start', 'end']\n",
    "    return df_\n",
    "\n",
    "def df_closest_(df_a, df_b, b_prefix, **kwargs):\n",
    "    df_a_sort = df_a\n",
    "    df_b_sort = df_b.sort_values(list(df_b.columns[:3]))\n",
    "    fn_ = BedTool.from_dataframe(df_a).closest(BedTool.from_dataframe(df_b_sort).fn, **kwargs).fn\n",
    "    names_ = list(itertools.chain(df_a.columns.values,\n",
    "        ['%s_%s' % (b_prefix, col) for col in df_b.columns.values],\n",
    "    ))\n",
    "    df_ = pd.read_csv(fn_, sep='\\t', names=names_)\n",
    "    return df_#[names_[len(df_a.columns):]]\n",
    "\n",
    "df_pass1_gpos_fwd_ = df_closest_(df_pos(), df_pass1_gene_fwd, 'pass1_gpos', t='all')\n",
    "df_pass1_gpos_rev_ = df_closest_(df_pos(), df_pass1_gene_rev, 'pass1_gpos', t='all')\n",
    "print(len(df_pass1_gpos_fwd_), len(df_pass1_gpos_rev_), 'fwd/rev gene body hits')"
   ]
  },
  {
   "cell_type": "code",
   "execution_count": 5,
   "metadata": {
    "ExecuteTime": {
     "end_time": "2018-09-19T15:11:27.962894Z",
     "start_time": "2018-09-19T15:11:25.887888Z"
    },
    "code_folding": [
     0
    ]
   },
   "outputs": [
    {
     "name": "stdout",
     "output_type": "stream",
     "text": [
      "8545 8545\n",
      "7233\n",
      "7285\n"
     ]
    }
   ],
   "source": [
    "# df_pass1_gpos_%strand[is_nearly_intergenic]: site is outside of gene bodies, or up to 250bp from the TSS\n",
    "df_pass1_gpos_fwd_['is_nearly_intergenic'] = ~((df_pass1_gpos_fwd_['pass1_gpos_start'] <= df_pass1_gpos_fwd_['start'])\\\n",
    "                                           & (df_pass1_gpos_fwd_['end'] <= df_pass1_gpos_fwd_['pass1_gpos_end']))\n",
    "df_pass1_gpos_rev_['is_nearly_intergenic'] = ~((df_pass1_gpos_rev_['pass1_gpos_start'] <= df_pass1_gpos_rev_['start'])\\\n",
    "                                           & (df_pass1_gpos_rev_['end'] <= df_pass1_gpos_rev_['pass1_gpos_end']))\n",
    "\n",
    "l_ = 'is_nearly_intergenic'\n",
    "d_ = {'is_nearly_intergenic': np.any}\n",
    "df_exon_fwd[l_] = df_pass1_gpos_fwd_.groupby(['chrom', 'start', 'end']).agg(d_).reset_index()[l_]\n",
    "df_exon_rev[l_] = df_pass1_gpos_rev_.groupby(['chrom', 'start', 'end']).agg(d_).reset_index()[l_]\n",
    "print(len(df_exon_fwd), len(df_exon_rev))\n",
    "print(len(df_exon_fwd.query('is_nearly_intergenic')))\n",
    "print(len(df_exon_rev.query('is_nearly_intergenic')))\n",
    "\n",
    "# Visualise maxgap as .bed-files\n",
    "def itemRgb_(is_nearly_intergenic_):\n",
    "    if is_nearly_intergenic_:\n",
    "        return ORANGE\n",
    "    else:\n",
    "        return BLUE\n",
    "\n",
    "write_gffbed(mp('is_nearly_intergenic_fwd.bed'),\n",
    "    chrom = df_atac['chrom'],\n",
    "    start = df_atac['start'],\n",
    "    end = df_atac['end'],\n",
    "    #name = df_maxgap_fwd.min(axis=1),\n",
    "    strand = '+',\n",
    "    #attr = df_pass1_gpos_fwd_,\n",
    "    itemRgb = map(itemRgb_, df_exon_fwd['is_nearly_intergenic']),\n",
    ")\n",
    "\n",
    "write_gffbed(mp('is_nearly_intergenic_rev.bed'),\n",
    "    chrom = df_atac['chrom'],\n",
    "    start = df_atac['start'],\n",
    "    end = df_atac['end'],\n",
    "    #name = df_maxgap_rev.min(axis=1),\n",
    "    strand = '-',\n",
    "    #attr = df_maxgap_rev,\n",
    "    itemRgb = map(itemRgb_, df_exon_rev['is_nearly_intergenic']),\n",
    ")"
   ]
  },
  {
   "cell_type": "code",
   "execution_count": 6,
   "metadata": {
    "ExecuteTime": {
     "end_time": "2018-09-19T15:11:28.229951Z",
     "start_time": "2018-09-19T15:11:27.964961Z"
    },
    "code_folding": [
     0
    ]
   },
   "outputs": [
    {
     "name": "stdout",
     "output_type": "stream",
     "text": [
      "wt_ya fwd\n",
      "wt_ya rev\n"
     ]
    }
   ],
   "source": [
    "# df_prom_%strand[annot_detailed_%stage]: stage-specific detailed annotation, excluding lowconf\n",
    "d_detailed_annot = collections.OrderedDict([\n",
    "    ('coding_promoter_jump', 'coding_promoter'),\n",
    "    ('coding_promoter_incr', 'coding_promoter'),\n",
    "    ('coding_promoter_jump_incr', 'coding_promoter'),\n",
    "    ('coding_promoter_lowconf', 'coding_promoter'),\n",
    "    ('pseudogene_promoter_jump', 'pseudogene_promoter'),\n",
    "    ('pseudogene_promoter_incr', 'pseudogene_promoter'),\n",
    "    ('pseudogene_promoter_jump_incr', 'pseudogene_promoter'),\n",
    "    ('pseudogene_promoter_lowconf', 'pseudogene_promoter'),\n",
    "    ('non-coding_RNA', 'non-coding_RNA'),\n",
    "    ('unknown_promoter_jump', 'unknown_promoter'),\n",
    "    #('unknown_promoter_jump_incr', 'unknown_promoter'),\n",
    "    #('transcription_initiation', 'transcription_initiation'),\n",
    "    ('no_transcription', 'no_transcription'),\n",
    "])\n",
    "\n",
    "d_annot_strand_legend = collections.OrderedDict([\n",
    "    ('coding_promoter', RED),\n",
    "    ('pseudogene_promoter', ORANGE),\n",
    "    ('non-coding_RNA', BLACK),\n",
    "    ('unknown_promoter', YELLOW),\n",
    "    #('transcription_initiation', GREEN),\n",
    "    ('no_transcription', BLUE),\n",
    "])\n",
    "\n",
    "d_annot_legend = collections.OrderedDict([\n",
    "    ('coding_promoter', RED),\n",
    "    ('pseudogene_promoter', ORANGE),\n",
    "    ('non-coding_RNA', BLACK),\n",
    "    ('unknown_promoter', YELLOW),\n",
    "    #('putative_enhancer', GREEN),\n",
    "    ('other_element', BLUE),\n",
    "])\n",
    "\n",
    "def annot_detailed_(chrom, start, end, jump, incr, maxgap, exon1_dist, exon2_dist, pass2_exon1_dist, \n",
    "                    #scap_pass, scap_diff, \n",
    "                    gene_biotype, is_exon1_first, is_nearly_intergenic):\n",
    "    \"\"\"\n",
    "    #is_gene_biotype = (gene_biotype == 'protein_coding') | (gene_biotype == 'pseudogene')\n",
    "    #v = False\n",
    "    #if chrom == \"chrI\" and start == 183421 and end == 183568: v = True\n",
    "    #if (chrom == \"chrX\") and (start == 1125552) and (end == 1125703):\n",
    "    #    v = True\n",
    "    #    print(jump, maxgap <= 0, scap_diff >= 0, has_scap)\n",
    "    #if start == 11829601-1: print(incr, jump, has_scap, n_txn_evidence)\n",
    "    \"\"\"\n",
    "\n",
    "    near_exon1 = abs(exon1_dist) < 250\n",
    "    near_exon2 = abs(exon2_dist) < 250\n",
    "    near_pass2_exon1 = abs(pass2_exon1_dist) < 250\n",
    "    #nearly_upstream_of_tss = exon1_dist > -250\n",
    "\n",
    "    # We annotated accessible sites as coding_promoter or pseudogene_promoter if they fulfilled the following\n",
    "    # four criteria (p1 to p4).\n",
    "    # 1) The accessible site had transcription initiation, and passed at least one of the elongation tests \n",
    "    #    (jump or incr), or passed both elongation tests (jump and incr).\n",
    "    #p1 = (int(scap_pass) + int(jump) + int(incr)) >= 2\n",
    "    p1 = (int(jump) + int(incr)) >= 1\n",
    "    # 2) Transcription initiation mode at the accessible site was either upstream of the closest first exon, \n",
    "    #    or, in the presence of a UTR, up to 250bp downstream within the UTR.\n",
    "    #p2 = nearly_upstream_of_tss and (scap_diff >= 0)\n",
    "    #p2 = (scap_diff >= 0)\n",
    "    p2 = True # (NA as we don't have short cap)\n",
    "    # 3) The region from peak accessibility to the closest first exon did not contain the 5' end of a non-first exon.\n",
    "    p3 = is_exon1_first\n",
    "    # 4) Distal sites (peak accessibility >250bp from the closest first exon) were additionally required to \n",
    "    # (a) have continuous long cap coverage from 250bp downstream of peak accessibility to the closest first exon, and \n",
    "    # (b) be further than 250bp away from any non-first exon.\n",
    "    p4 = near_exon1 or ((maxgap <= 0) and not near_exon2)\n",
    "    if p1 and p2 and p3 and p4:\n",
    "        #if v: print('coding_promoter')\n",
    "        if jump:#scap_pass and jump:\n",
    "            return 'coding_promoter_jump' if (gene_biotype == 'protein_coding') else 'pseudogene_promoter_jump'\n",
    "        elif incr:\n",
    "            return 'coding_promoter_incr' if (gene_biotype == 'protein_coding') else 'pseudogene_promoter_incr'\n",
    "        #elif jump and incr:\n",
    "        #    return 'coding_promoter_jump_incr' if (gene_biotype == 'protein_coding') else 'pseudogene_promoter_jump_incr'\n",
    "        else:\n",
    "            assert False\n",
    "\n",
    "    # Sites within 250bp of the 5' end of an annotated tRNA, snoRNA, miRNA, snRNA or rRNA were annotated as \n",
    "    # non-coding_RNA.\n",
    "    elif near_pass2_exon1:\n",
    "        #if v: print('non-coding_RNA')\n",
    "        return 'non-coding_RNA'\n",
    "\n",
    "    # Next, intergenic sites more than 250bp away from annotated exons that had initiating transcription, \n",
    "    # and passed the jump test were annotated as unknown_promoter.\n",
    "    elif is_nearly_intergenic and not(near_exon1 or near_exon2) and jump:\n",
    "        return 'unknown_promoter_jump'\n",
    "\n",
    "    # All remaining sites were annotated as transcription_initiation or no_transcription based on \n",
    "    # whether they had transcription initiation.\n",
    "    else:\n",
    "        #if v: print('no_transcription')\n",
    "        return 'no_transcription'\n",
    "\n",
    "for stage in itertools.islice(l_cond, None):\n",
    "    print(stage, 'fwd')\n",
    "    df_prom_fwd['annot_detailed_%s' % (stage,)] = [*map(annot_detailed_,\n",
    "        # chrom, start, end\n",
    "        df_atac['chrom'], df_atac['start'], df_atac['end'],\n",
    "        # jump, incr\n",
    "        df_lcap_fwd['lcap_%s_fwd_passed_jump' % (stage,)], df_lcap_fwd['lcap_%s_fwd_passed_incr' % (stage,)],\n",
    "        # maxgap\n",
    "        df_maxgap_fwd['maxgap_%s_fwd' % (stage,)],\n",
    "        # exon1_dist\n",
    "        df_exon_fwd['pass1_exon1_start'] - l_atac_peak_pos,\n",
    "        # exon2_dist\n",
    "        df_exon_fwd['pass1_exon2_start'] - l_atac_peak_pos,\n",
    "        # pass2_exon2_dist\n",
    "        df_exon_fwd['pass2_exon1_start'] - l_atac_peak_pos,\n",
    "        # scap_pass\n",
    "        #df_scap_fwd['scap_pass'],\n",
    "        # scap_diff\n",
    "        #pd.to_numeric(df_exon_fwd['pass1_exon1_init_cutoff_pos'], errors='coerce') - df_scap_fwd['scap_mode'],\n",
    "        # gene_biotype\n",
    "        df_exon_fwd['pass1_exon1_gene_biotype'],\n",
    "        # is_exon1_first\n",
    "        df_exon_fwd['pass1_exon1_distance'] <= df_exon_fwd['pass1_exon2_downstream_distance'],\n",
    "        # is_nearly_intergenic\n",
    "        df_exon_fwd['is_nearly_intergenic'],\n",
    "    )]\n",
    "    print(stage, 'rev')\n",
    "    df_prom_rev['annot_detailed_%s' % (stage,)] = [*map(annot_detailed_,\n",
    "        # chrom, start, end\n",
    "        df_atac['chrom'], df_atac['start'], df_atac['end'],\n",
    "        # jump, incr\n",
    "        df_lcap_rev['lcap_%s_rev_passed_jump' % (stage,)], df_lcap_rev['lcap_%s_rev_passed_incr' % (stage,)],\n",
    "        # maxgap\n",
    "        df_maxgap_rev['maxgap_%s_rev' % (stage,)],\n",
    "        # exon1_dist\n",
    "        l_atac_peak_pos - (df_exon_rev['pass1_exon1_end'] - 1),\n",
    "        # exon2_dist\n",
    "        l_atac_peak_pos - (df_exon_rev['pass1_exon2_end'] - 1),\n",
    "        # pass2_exon2_dist\n",
    "        l_atac_peak_pos - (df_exon_rev['pass2_exon1_end'] - 1),\n",
    "        # scap_pass\n",
    "        #df_scap_rev['scap_pass'],\n",
    "        # scap_diff\n",
    "        #df_scap_rev['scap_mode'] - pd.to_numeric(df_exon_rev['pass1_exon1_init_cutoff_pos'], errors='coerce'),\n",
    "        # gene_biotype\n",
    "        df_exon_rev['pass1_exon1_gene_biotype'],\n",
    "        # is_exon1_first\n",
    "        df_exon_rev['pass1_exon2_downstream_distance'] <= df_exon_rev['pass1_exon1_distance'],\n",
    "        # is_nearly_intergenic\n",
    "        df_exon_rev['is_nearly_intergenic'],\n",
    "    )]"
   ]
  },
  {
   "cell_type": "code",
   "execution_count": 7,
   "metadata": {
    "ExecuteTime": {
     "end_time": "2018-09-19T15:11:30.007216Z",
     "start_time": "2018-09-19T15:11:28.232524Z"
    },
    "code_folding": [
     0
    ],
    "collapsed": true
   },
   "outputs": [],
   "source": [
    "# df_prom_%strand[annot_detailed_all]: stage-aggregated detailed annotation, excluding lowconf\n",
    "def annot_detailed_summary_(l_annot):\n",
    "    l_ranking = list(d_detailed_annot.keys())\n",
    "    l_annot_i = [l_ranking.index(annot) for annot in l_annot]\n",
    "    return l_ranking[min(l_annot_i)]\n",
    "\n",
    "df_prom_fwd['annot_detailed_summary'] = list(map(lambda ir: annot_detailed_summary_(ir[1].tolist()),\n",
    "    df_prom_fwd[['annot_detailed_%(stage)s' % locals() for stage in l_cond]].iterrows()))\n",
    "\n",
    "df_prom_rev['annot_detailed_summary'] = list(map(lambda ir: annot_detailed_summary_(ir[1].tolist()),\n",
    "    df_prom_rev[['annot_detailed_%(stage)s' % locals() for stage in l_cond]].iterrows()))"
   ]
  },
  {
   "cell_type": "code",
   "execution_count": 8,
   "metadata": {
    "ExecuteTime": {
     "end_time": "2018-09-19T15:11:30.049892Z",
     "start_time": "2018-09-19T15:11:30.009597Z"
    },
    "code_folding": [
     0
    ]
   },
   "outputs": [
    {
     "data": {
      "text/html": [
       "<div>\n",
       "<style>\n",
       "    .dataframe thead tr:only-child th {\n",
       "        text-align: right;\n",
       "    }\n",
       "\n",
       "    .dataframe thead th {\n",
       "        text-align: left;\n",
       "    }\n",
       "\n",
       "    .dataframe tbody tr th {\n",
       "        vertical-align: top;\n",
       "    }\n",
       "</style>\n",
       "<table border=\"1\" class=\"dataframe\">\n",
       "  <thead>\n",
       "    <tr style=\"text-align: right;\">\n",
       "      <th></th>\n",
       "      <th>wt_ya</th>\n",
       "      <th>summary</th>\n",
       "    </tr>\n",
       "  </thead>\n",
       "  <tbody>\n",
       "    <tr>\n",
       "      <th>coding_promoter_jump</th>\n",
       "      <td>1346</td>\n",
       "      <td>1346</td>\n",
       "    </tr>\n",
       "    <tr>\n",
       "      <th>coding_promoter_incr</th>\n",
       "      <td>216</td>\n",
       "      <td>216</td>\n",
       "    </tr>\n",
       "    <tr>\n",
       "      <th>coding_promoter_jump_incr</th>\n",
       "      <td>0</td>\n",
       "      <td>0</td>\n",
       "    </tr>\n",
       "    <tr>\n",
       "      <th>coding_promoter_lowconf</th>\n",
       "      <td>0</td>\n",
       "      <td>0</td>\n",
       "    </tr>\n",
       "    <tr>\n",
       "      <th>pseudogene_promoter_jump</th>\n",
       "      <td>4</td>\n",
       "      <td>4</td>\n",
       "    </tr>\n",
       "    <tr>\n",
       "      <th>pseudogene_promoter_incr</th>\n",
       "      <td>2</td>\n",
       "      <td>2</td>\n",
       "    </tr>\n",
       "    <tr>\n",
       "      <th>pseudogene_promoter_jump_incr</th>\n",
       "      <td>0</td>\n",
       "      <td>0</td>\n",
       "    </tr>\n",
       "    <tr>\n",
       "      <th>pseudogene_promoter_lowconf</th>\n",
       "      <td>0</td>\n",
       "      <td>0</td>\n",
       "    </tr>\n",
       "    <tr>\n",
       "      <th>non-coding_RNA</th>\n",
       "      <td>328</td>\n",
       "      <td>328</td>\n",
       "    </tr>\n",
       "    <tr>\n",
       "      <th>unknown_promoter_jump</th>\n",
       "      <td>96</td>\n",
       "      <td>96</td>\n",
       "    </tr>\n",
       "    <tr>\n",
       "      <th>no_transcription</th>\n",
       "      <td>6553</td>\n",
       "      <td>6553</td>\n",
       "    </tr>\n",
       "  </tbody>\n",
       "</table>\n",
       "</div>"
      ],
      "text/plain": [
       "                               wt_ya  summary\n",
       "coding_promoter_jump            1346     1346\n",
       "coding_promoter_incr             216      216\n",
       "coding_promoter_jump_incr          0        0\n",
       "coding_promoter_lowconf            0        0\n",
       "pseudogene_promoter_jump           4        4\n",
       "pseudogene_promoter_incr           2        2\n",
       "pseudogene_promoter_jump_incr      0        0\n",
       "pseudogene_promoter_lowconf        0        0\n",
       "non-coding_RNA                   328      328\n",
       "unknown_promoter_jump             96       96\n",
       "no_transcription                6553     6553"
      ]
     },
     "execution_count": 8,
     "metadata": {},
     "output_type": "execute_result"
    }
   ],
   "source": [
    "# Forward strand annotation summary table (excl. lowconf)\n",
    "df_fwd_ = pd.concat([df_prom_fwd['annot_detailed_%(stage)s' % locals()].value_counts() for stage in l_cond + ['summary']], axis=1).loc[d_detailed_annot.keys()]\n",
    "df_fwd_.columns = l_cond + ['summary']\n",
    "#df_fwd_.to_latex('%(dm_step)s_fig/prom_summary_fwd.latex' % locals())\n",
    "df_fwd_.fillna(0, downcast='infer')"
   ]
  },
  {
   "cell_type": "code",
   "execution_count": 9,
   "metadata": {
    "ExecuteTime": {
     "end_time": "2018-09-19T15:11:30.080004Z",
     "start_time": "2018-09-19T15:11:30.052379Z"
    },
    "code_folding": [
     0
    ]
   },
   "outputs": [
    {
     "data": {
      "text/html": [
       "<div>\n",
       "<style>\n",
       "    .dataframe thead tr:only-child th {\n",
       "        text-align: right;\n",
       "    }\n",
       "\n",
       "    .dataframe thead th {\n",
       "        text-align: left;\n",
       "    }\n",
       "\n",
       "    .dataframe tbody tr th {\n",
       "        vertical-align: top;\n",
       "    }\n",
       "</style>\n",
       "<table border=\"1\" class=\"dataframe\">\n",
       "  <thead>\n",
       "    <tr style=\"text-align: right;\">\n",
       "      <th></th>\n",
       "      <th>wt_ya</th>\n",
       "      <th>summary</th>\n",
       "    </tr>\n",
       "  </thead>\n",
       "  <tbody>\n",
       "    <tr>\n",
       "      <th>coding_promoter_jump</th>\n",
       "      <td>1233</td>\n",
       "      <td>1233</td>\n",
       "    </tr>\n",
       "    <tr>\n",
       "      <th>coding_promoter_incr</th>\n",
       "      <td>317</td>\n",
       "      <td>317</td>\n",
       "    </tr>\n",
       "    <tr>\n",
       "      <th>coding_promoter_jump_incr</th>\n",
       "      <td>0</td>\n",
       "      <td>0</td>\n",
       "    </tr>\n",
       "    <tr>\n",
       "      <th>coding_promoter_lowconf</th>\n",
       "      <td>0</td>\n",
       "      <td>0</td>\n",
       "    </tr>\n",
       "    <tr>\n",
       "      <th>pseudogene_promoter_jump</th>\n",
       "      <td>3</td>\n",
       "      <td>3</td>\n",
       "    </tr>\n",
       "    <tr>\n",
       "      <th>pseudogene_promoter_incr</th>\n",
       "      <td>3</td>\n",
       "      <td>3</td>\n",
       "    </tr>\n",
       "    <tr>\n",
       "      <th>pseudogene_promoter_jump_incr</th>\n",
       "      <td>0</td>\n",
       "      <td>0</td>\n",
       "    </tr>\n",
       "    <tr>\n",
       "      <th>pseudogene_promoter_lowconf</th>\n",
       "      <td>0</td>\n",
       "      <td>0</td>\n",
       "    </tr>\n",
       "    <tr>\n",
       "      <th>non-coding_RNA</th>\n",
       "      <td>357</td>\n",
       "      <td>357</td>\n",
       "    </tr>\n",
       "    <tr>\n",
       "      <th>unknown_promoter_jump</th>\n",
       "      <td>58</td>\n",
       "      <td>58</td>\n",
       "    </tr>\n",
       "    <tr>\n",
       "      <th>no_transcription</th>\n",
       "      <td>6574</td>\n",
       "      <td>6574</td>\n",
       "    </tr>\n",
       "  </tbody>\n",
       "</table>\n",
       "</div>"
      ],
      "text/plain": [
       "                               wt_ya  summary\n",
       "coding_promoter_jump            1233     1233\n",
       "coding_promoter_incr             317      317\n",
       "coding_promoter_jump_incr          0        0\n",
       "coding_promoter_lowconf            0        0\n",
       "pseudogene_promoter_jump           3        3\n",
       "pseudogene_promoter_incr           3        3\n",
       "pseudogene_promoter_jump_incr      0        0\n",
       "pseudogene_promoter_lowconf        0        0\n",
       "non-coding_RNA                   357      357\n",
       "unknown_promoter_jump             58       58\n",
       "no_transcription                6574     6574"
      ]
     },
     "execution_count": 9,
     "metadata": {},
     "output_type": "execute_result"
    }
   ],
   "source": [
    "# Reverse strand annotation summary table (excl. lowconf)\n",
    "df_rev_ = pd.concat([df_prom_rev['annot_detailed_%(stage)s' % locals()].value_counts() for stage in l_cond + ['summary']], axis=1).loc[d_detailed_annot.keys()]\n",
    "df_rev_.columns = l_cond + ['summary']\n",
    "#df_rev_.to_latex('%(dm_step)s_fig/prom_summary_rev.latex' % locals())\n",
    "df_rev_.fillna(0, downcast='infer')"
   ]
  },
  {
   "cell_type": "code",
   "execution_count": 10,
   "metadata": {
    "ExecuteTime": {
     "end_time": "2018-09-19T15:11:30.092411Z",
     "start_time": "2018-09-19T15:11:30.082113Z"
    },
    "collapsed": true
   },
   "outputs": [],
   "source": [
    "# (Skipped low-confidence annotation, as it relies on short cap)"
   ]
  },
  {
   "cell_type": "code",
   "execution_count": 11,
   "metadata": {
    "ExecuteTime": {
     "end_time": "2018-09-19T15:11:30.125010Z",
     "start_time": "2018-09-19T15:11:30.094847Z"
    },
    "code_folding": [
     0
    ]
   },
   "outputs": [
    {
     "data": {
      "text/html": [
       "<div>\n",
       "<style>\n",
       "    .dataframe thead tr:only-child th {\n",
       "        text-align: right;\n",
       "    }\n",
       "\n",
       "    .dataframe thead th {\n",
       "        text-align: left;\n",
       "    }\n",
       "\n",
       "    .dataframe tbody tr th {\n",
       "        vertical-align: top;\n",
       "    }\n",
       "</style>\n",
       "<table border=\"1\" class=\"dataframe\">\n",
       "  <thead>\n",
       "    <tr style=\"text-align: right;\">\n",
       "      <th></th>\n",
       "      <th>wt_ya</th>\n",
       "      <th>summary</th>\n",
       "    </tr>\n",
       "  </thead>\n",
       "  <tbody>\n",
       "    <tr>\n",
       "      <th>coding_promoter_jump</th>\n",
       "      <td>1346</td>\n",
       "      <td>1346</td>\n",
       "    </tr>\n",
       "    <tr>\n",
       "      <th>coding_promoter_incr</th>\n",
       "      <td>216</td>\n",
       "      <td>216</td>\n",
       "    </tr>\n",
       "    <tr>\n",
       "      <th>coding_promoter_jump_incr</th>\n",
       "      <td>0</td>\n",
       "      <td>0</td>\n",
       "    </tr>\n",
       "    <tr>\n",
       "      <th>coding_promoter_lowconf</th>\n",
       "      <td>0</td>\n",
       "      <td>0</td>\n",
       "    </tr>\n",
       "    <tr>\n",
       "      <th>pseudogene_promoter_jump</th>\n",
       "      <td>4</td>\n",
       "      <td>4</td>\n",
       "    </tr>\n",
       "    <tr>\n",
       "      <th>pseudogene_promoter_incr</th>\n",
       "      <td>2</td>\n",
       "      <td>2</td>\n",
       "    </tr>\n",
       "    <tr>\n",
       "      <th>pseudogene_promoter_jump_incr</th>\n",
       "      <td>0</td>\n",
       "      <td>0</td>\n",
       "    </tr>\n",
       "    <tr>\n",
       "      <th>pseudogene_promoter_lowconf</th>\n",
       "      <td>0</td>\n",
       "      <td>0</td>\n",
       "    </tr>\n",
       "    <tr>\n",
       "      <th>non-coding_RNA</th>\n",
       "      <td>328</td>\n",
       "      <td>328</td>\n",
       "    </tr>\n",
       "    <tr>\n",
       "      <th>unknown_promoter_jump</th>\n",
       "      <td>96</td>\n",
       "      <td>96</td>\n",
       "    </tr>\n",
       "    <tr>\n",
       "      <th>no_transcription</th>\n",
       "      <td>6553</td>\n",
       "      <td>6553</td>\n",
       "    </tr>\n",
       "  </tbody>\n",
       "</table>\n",
       "</div>"
      ],
      "text/plain": [
       "                               wt_ya  summary\n",
       "coding_promoter_jump            1346     1346\n",
       "coding_promoter_incr             216      216\n",
       "coding_promoter_jump_incr          0        0\n",
       "coding_promoter_lowconf            0        0\n",
       "pseudogene_promoter_jump           4        4\n",
       "pseudogene_promoter_incr           2        2\n",
       "pseudogene_promoter_jump_incr      0        0\n",
       "pseudogene_promoter_lowconf        0        0\n",
       "non-coding_RNA                   328      328\n",
       "unknown_promoter_jump             96       96\n",
       "no_transcription                6553     6553"
      ]
     },
     "execution_count": 11,
     "metadata": {},
     "output_type": "execute_result"
    }
   ],
   "source": [
    "# Forward strand annotation summary table (incl. lowconf across all stages but not the origin stage)\n",
    "df_fwd_ = pd.concat([df_prom_fwd['annot_detailed_%(stage)s' % locals()].value_counts() for stage in l_cond + ['summary']], axis=1).loc[d_detailed_annot.keys()]\n",
    "df_fwd_.columns = l_cond + ['summary']\n",
    "#df_fwd_.to_latex('%(dm_step)s_fig/prom_summary_fwd.latex' % locals())\n",
    "df_fwd_.fillna(0, downcast='infer')"
   ]
  },
  {
   "cell_type": "code",
   "execution_count": 12,
   "metadata": {
    "ExecuteTime": {
     "end_time": "2018-09-19T15:11:30.157215Z",
     "start_time": "2018-09-19T15:11:30.127091Z"
    },
    "code_folding": [
     0
    ]
   },
   "outputs": [
    {
     "data": {
      "text/html": [
       "<div>\n",
       "<style>\n",
       "    .dataframe thead tr:only-child th {\n",
       "        text-align: right;\n",
       "    }\n",
       "\n",
       "    .dataframe thead th {\n",
       "        text-align: left;\n",
       "    }\n",
       "\n",
       "    .dataframe tbody tr th {\n",
       "        vertical-align: top;\n",
       "    }\n",
       "</style>\n",
       "<table border=\"1\" class=\"dataframe\">\n",
       "  <thead>\n",
       "    <tr style=\"text-align: right;\">\n",
       "      <th></th>\n",
       "      <th>wt_ya</th>\n",
       "      <th>summary</th>\n",
       "    </tr>\n",
       "  </thead>\n",
       "  <tbody>\n",
       "    <tr>\n",
       "      <th>coding_promoter_jump</th>\n",
       "      <td>1233</td>\n",
       "      <td>1233</td>\n",
       "    </tr>\n",
       "    <tr>\n",
       "      <th>coding_promoter_incr</th>\n",
       "      <td>317</td>\n",
       "      <td>317</td>\n",
       "    </tr>\n",
       "    <tr>\n",
       "      <th>coding_promoter_jump_incr</th>\n",
       "      <td>0</td>\n",
       "      <td>0</td>\n",
       "    </tr>\n",
       "    <tr>\n",
       "      <th>coding_promoter_lowconf</th>\n",
       "      <td>0</td>\n",
       "      <td>0</td>\n",
       "    </tr>\n",
       "    <tr>\n",
       "      <th>pseudogene_promoter_jump</th>\n",
       "      <td>3</td>\n",
       "      <td>3</td>\n",
       "    </tr>\n",
       "    <tr>\n",
       "      <th>pseudogene_promoter_incr</th>\n",
       "      <td>3</td>\n",
       "      <td>3</td>\n",
       "    </tr>\n",
       "    <tr>\n",
       "      <th>pseudogene_promoter_jump_incr</th>\n",
       "      <td>0</td>\n",
       "      <td>0</td>\n",
       "    </tr>\n",
       "    <tr>\n",
       "      <th>pseudogene_promoter_lowconf</th>\n",
       "      <td>0</td>\n",
       "      <td>0</td>\n",
       "    </tr>\n",
       "    <tr>\n",
       "      <th>non-coding_RNA</th>\n",
       "      <td>357</td>\n",
       "      <td>357</td>\n",
       "    </tr>\n",
       "    <tr>\n",
       "      <th>unknown_promoter_jump</th>\n",
       "      <td>58</td>\n",
       "      <td>58</td>\n",
       "    </tr>\n",
       "    <tr>\n",
       "      <th>no_transcription</th>\n",
       "      <td>6574</td>\n",
       "      <td>6574</td>\n",
       "    </tr>\n",
       "  </tbody>\n",
       "</table>\n",
       "</div>"
      ],
      "text/plain": [
       "                               wt_ya  summary\n",
       "coding_promoter_jump            1233     1233\n",
       "coding_promoter_incr             317      317\n",
       "coding_promoter_jump_incr          0        0\n",
       "coding_promoter_lowconf            0        0\n",
       "pseudogene_promoter_jump           3        3\n",
       "pseudogene_promoter_incr           3        3\n",
       "pseudogene_promoter_jump_incr      0        0\n",
       "pseudogene_promoter_lowconf        0        0\n",
       "non-coding_RNA                   357      357\n",
       "unknown_promoter_jump             58       58\n",
       "no_transcription                6574     6574"
      ]
     },
     "execution_count": 12,
     "metadata": {},
     "output_type": "execute_result"
    }
   ],
   "source": [
    "# Reverse strand annotation summary table (incl. lowconf across all stages but not the origin stage)\n",
    "df_rev_ = pd.concat([df_prom_rev['annot_detailed_%(stage)s' % locals()].value_counts() for stage in l_cond + ['summary']], axis=1).loc[d_detailed_annot.keys()]\n",
    "df_rev_.columns = l_cond + ['summary']\n",
    "#df_rev_.to_latex('%(dm_step)s_fig/prom_summary_rev.latex' % locals())\n",
    "df_rev_.fillna(0, downcast='infer')"
   ]
  },
  {
   "cell_type": "code",
   "execution_count": 13,
   "metadata": {
    "ExecuteTime": {
     "end_time": "2018-09-19T15:11:30.194624Z",
     "start_time": "2018-09-19T15:11:30.159254Z"
    },
    "code_folding": [
     0
    ],
    "collapsed": true
   },
   "outputs": [],
   "source": [
    "# annot_detailed => collapse by method\n",
    "for s_ in l_cond + ['summary']:\n",
    "    df_prom_fwd['annot_%s' % (s_,)] = list(map(lambda annot_detailed: d_detailed_annot[annot_detailed], \n",
    "                                               df_prom_fwd['annot_detailed_%s' % (s_,)]))\n",
    "    df_prom_rev['annot_%s' % (s_,)] = list(map(lambda annot_detailed: d_detailed_annot[annot_detailed], \n",
    "                                               df_prom_rev['annot_detailed_%s' % (s_,)]))"
   ]
  },
  {
   "cell_type": "code",
   "execution_count": 14,
   "metadata": {
    "ExecuteTime": {
     "end_time": "2018-09-19T15:11:30.226004Z",
     "start_time": "2018-09-19T15:11:30.196522Z"
    },
    "code_folding": [
     0
    ]
   },
   "outputs": [
    {
     "data": {
      "text/html": [
       "<div>\n",
       "<style>\n",
       "    .dataframe thead tr:only-child th {\n",
       "        text-align: right;\n",
       "    }\n",
       "\n",
       "    .dataframe thead th {\n",
       "        text-align: left;\n",
       "    }\n",
       "\n",
       "    .dataframe tbody tr th {\n",
       "        vertical-align: top;\n",
       "    }\n",
       "</style>\n",
       "<table border=\"1\" class=\"dataframe\">\n",
       "  <thead>\n",
       "    <tr style=\"text-align: right;\">\n",
       "      <th></th>\n",
       "      <th>wt_ya</th>\n",
       "      <th>summary</th>\n",
       "    </tr>\n",
       "  </thead>\n",
       "  <tbody>\n",
       "    <tr>\n",
       "      <th>coding_promoter</th>\n",
       "      <td>1562</td>\n",
       "      <td>1562</td>\n",
       "    </tr>\n",
       "    <tr>\n",
       "      <th>pseudogene_promoter</th>\n",
       "      <td>6</td>\n",
       "      <td>6</td>\n",
       "    </tr>\n",
       "    <tr>\n",
       "      <th>non-coding_RNA</th>\n",
       "      <td>328</td>\n",
       "      <td>328</td>\n",
       "    </tr>\n",
       "    <tr>\n",
       "      <th>unknown_promoter</th>\n",
       "      <td>96</td>\n",
       "      <td>96</td>\n",
       "    </tr>\n",
       "    <tr>\n",
       "      <th>no_transcription</th>\n",
       "      <td>6553</td>\n",
       "      <td>6553</td>\n",
       "    </tr>\n",
       "  </tbody>\n",
       "</table>\n",
       "</div>"
      ],
      "text/plain": [
       "                     wt_ya  summary\n",
       "coding_promoter       1562     1562\n",
       "pseudogene_promoter      6        6\n",
       "non-coding_RNA         328      328\n",
       "unknown_promoter        96       96\n",
       "no_transcription      6553     6553"
      ]
     },
     "execution_count": 14,
     "metadata": {},
     "output_type": "execute_result"
    }
   ],
   "source": [
    "# Forward strand annotation (collapsed across methods)\n",
    "df_fwd_ = pd.concat([df_prom_fwd['annot_%(stage)s' % locals()].value_counts() for stage in l_cond + ['summary']], axis=1).loc[d_annot_strand_legend.keys()]\n",
    "df_fwd_.columns = l_cond + ['summary']\n",
    "#df_fwd_.to_latex('%(dm_step)s_fig/prom_summary_rev.latex' % locals())\n",
    "#plt.subplot(111, frame_on=False)\n",
    "#plt.gca().xaxis.set_visible(False)\n",
    "#plt.gca().yaxis.set_visible(False)\n",
    "#pd.plotting.table(data=df_fwd_, ax=plt.gca(), loc='center left')\n",
    "#plt.savefig('annot/FigA_mapping/annot_crosstab_fwd.pdf', bbox_inches='tight')\n",
    "df_fwd_"
   ]
  },
  {
   "cell_type": "code",
   "execution_count": 15,
   "metadata": {
    "ExecuteTime": {
     "end_time": "2018-09-19T15:11:30.254928Z",
     "start_time": "2018-09-19T15:11:30.227653Z"
    },
    "code_folding": [
     0
    ],
    "scrolled": true
   },
   "outputs": [
    {
     "data": {
      "text/html": [
       "<div>\n",
       "<style>\n",
       "    .dataframe thead tr:only-child th {\n",
       "        text-align: right;\n",
       "    }\n",
       "\n",
       "    .dataframe thead th {\n",
       "        text-align: left;\n",
       "    }\n",
       "\n",
       "    .dataframe tbody tr th {\n",
       "        vertical-align: top;\n",
       "    }\n",
       "</style>\n",
       "<table border=\"1\" class=\"dataframe\">\n",
       "  <thead>\n",
       "    <tr style=\"text-align: right;\">\n",
       "      <th></th>\n",
       "      <th>wt_ya</th>\n",
       "      <th>summary</th>\n",
       "    </tr>\n",
       "  </thead>\n",
       "  <tbody>\n",
       "    <tr>\n",
       "      <th>coding_promoter</th>\n",
       "      <td>1550</td>\n",
       "      <td>1550</td>\n",
       "    </tr>\n",
       "    <tr>\n",
       "      <th>pseudogene_promoter</th>\n",
       "      <td>6</td>\n",
       "      <td>6</td>\n",
       "    </tr>\n",
       "    <tr>\n",
       "      <th>non-coding_RNA</th>\n",
       "      <td>357</td>\n",
       "      <td>357</td>\n",
       "    </tr>\n",
       "    <tr>\n",
       "      <th>unknown_promoter</th>\n",
       "      <td>58</td>\n",
       "      <td>58</td>\n",
       "    </tr>\n",
       "    <tr>\n",
       "      <th>no_transcription</th>\n",
       "      <td>6574</td>\n",
       "      <td>6574</td>\n",
       "    </tr>\n",
       "  </tbody>\n",
       "</table>\n",
       "</div>"
      ],
      "text/plain": [
       "                     wt_ya  summary\n",
       "coding_promoter       1550     1550\n",
       "pseudogene_promoter      6        6\n",
       "non-coding_RNA         357      357\n",
       "unknown_promoter        58       58\n",
       "no_transcription      6574     6574"
      ]
     },
     "execution_count": 15,
     "metadata": {},
     "output_type": "execute_result"
    }
   ],
   "source": [
    "# Reverse strand annotation summary (collapsed across methods)\n",
    "df_rev_ = pd.concat([df_prom_rev['annot_%(stage)s' % locals()].value_counts() for stage in l_cond + ['summary']], axis=1).loc[d_annot_strand_legend.keys()]\n",
    "df_rev_.columns = l_cond + ['summary']\n",
    "#df_rev_.to_latex('%(dm_step)s_fig/prom_summary_rev.latex' % locals())\n",
    "#plt.subplot(111, frame_on=False)\n",
    "#plt.gca().xaxis.set_visible(False)\n",
    "#plt.gca().yaxis.set_visible(False)\n",
    "#pd.plotting.table(data=df_rev_, ax=plt.gca(), loc='center left')\n",
    "#plt.savefig('annot/FigA_mapping/annot_crosstab_rev.pdf', bbox_inches='tight')\n",
    "df_rev_"
   ]
  },
  {
   "cell_type": "code",
   "execution_count": 16,
   "metadata": {
    "ExecuteTime": {
     "end_time": "2018-09-19T15:11:30.296147Z",
     "start_time": "2018-09-19T15:11:30.256498Z"
    },
    "code_folding": [
     0
    ]
   },
   "outputs": [
    {
     "data": {
      "text/html": [
       "<div>\n",
       "<style>\n",
       "    .dataframe thead tr:only-child th {\n",
       "        text-align: right;\n",
       "    }\n",
       "\n",
       "    .dataframe thead th {\n",
       "        text-align: left;\n",
       "    }\n",
       "\n",
       "    .dataframe tbody tr th {\n",
       "        vertical-align: top;\n",
       "    }\n",
       "</style>\n",
       "<table border=\"1\" class=\"dataframe\">\n",
       "  <thead>\n",
       "    <tr style=\"text-align: right;\">\n",
       "      <th>col_0</th>\n",
       "      <th>coding_promoter</th>\n",
       "      <th>pseudogene_promoter</th>\n",
       "      <th>non-coding_RNA</th>\n",
       "      <th>unknown_promoter</th>\n",
       "      <th>no_transcription</th>\n",
       "    </tr>\n",
       "    <tr>\n",
       "      <th>row_0</th>\n",
       "      <th></th>\n",
       "      <th></th>\n",
       "      <th></th>\n",
       "      <th></th>\n",
       "      <th></th>\n",
       "    </tr>\n",
       "  </thead>\n",
       "  <tbody>\n",
       "    <tr>\n",
       "      <th>coding_promoter</th>\n",
       "      <td>479</td>\n",
       "      <td>2</td>\n",
       "      <td>7</td>\n",
       "      <td>20</td>\n",
       "      <td>1054</td>\n",
       "    </tr>\n",
       "    <tr>\n",
       "      <th>pseudogene_promoter</th>\n",
       "      <td>0</td>\n",
       "      <td>0</td>\n",
       "      <td>0</td>\n",
       "      <td>0</td>\n",
       "      <td>6</td>\n",
       "    </tr>\n",
       "    <tr>\n",
       "      <th>non-coding_RNA</th>\n",
       "      <td>3</td>\n",
       "      <td>0</td>\n",
       "      <td>21</td>\n",
       "      <td>0</td>\n",
       "      <td>304</td>\n",
       "    </tr>\n",
       "    <tr>\n",
       "      <th>unknown_promoter</th>\n",
       "      <td>26</td>\n",
       "      <td>0</td>\n",
       "      <td>0</td>\n",
       "      <td>1</td>\n",
       "      <td>69</td>\n",
       "    </tr>\n",
       "    <tr>\n",
       "      <th>no_transcription</th>\n",
       "      <td>1042</td>\n",
       "      <td>4</td>\n",
       "      <td>329</td>\n",
       "      <td>37</td>\n",
       "      <td>5141</td>\n",
       "    </tr>\n",
       "  </tbody>\n",
       "</table>\n",
       "</div>"
      ],
      "text/plain": [
       "col_0                coding_promoter  pseudogene_promoter  non-coding_RNA  \\\n",
       "row_0                                                                       \n",
       "coding_promoter                  479                    2               7   \n",
       "pseudogene_promoter                0                    0               0   \n",
       "non-coding_RNA                     3                    0              21   \n",
       "unknown_promoter                  26                    0               0   \n",
       "no_transcription                1042                    4             329   \n",
       "\n",
       "col_0                unknown_promoter  no_transcription  \n",
       "row_0                                                    \n",
       "coding_promoter                    20              1054  \n",
       "pseudogene_promoter                 0                 6  \n",
       "non-coding_RNA                      0               304  \n",
       "unknown_promoter                    1                69  \n",
       "no_transcription                   37              5141  "
      ]
     },
     "execution_count": 16,
     "metadata": {},
     "output_type": "execute_result"
    }
   ],
   "source": [
    "# Cross-tabulation of strand-specific summary annotation\n",
    "pd.crosstab(pd.Categorical(df_prom_fwd['annot_summary']), pd.Categorical(df_prom_rev['annot_summary'])).loc[list(d_annot_strand_legend.keys()), list(d_annot_strand_legend.keys())]"
   ]
  },
  {
   "cell_type": "code",
   "execution_count": 17,
   "metadata": {
    "ExecuteTime": {
     "end_time": "2018-09-19T15:11:46.483419Z",
     "start_time": "2018-09-19T15:11:30.297856Z"
    },
    "code_folding": [
     0
    ]
   },
   "outputs": [
    {
     "name": "stdout",
     "output_type": "stream",
     "text": [
      "1772 fwd 1774 rev 3546 pooled\n",
      "3546 annot_cb/metrics_type/_df_prom_bounds.bed\n",
      "22788 annot_cb/metrics_type/_df_gene_bounds.bed\n",
      "22788 annot_cb/metrics_type/outron-extended_genes.bed\n"
     ]
    }
   ],
   "source": [
    "# S2_outron-extended_genes.bed <- genes extended by outron regions as defined by (aggregated) promoter annotations\n",
    "def df_outron_extended_genes_(df_prom_fwd_, df_prom_rev_):\n",
    "\n",
    "    # df_prom_bounds <- prom min/max boundaries, based on promoter annotation\n",
    "    df_prom_bounds_fwd = df_prom_fwd_.groupby(['pass1_exon1_gene_id']).agg({\n",
    "        'chrom': lambda s: list(set(s))[0],\n",
    "        'start': np.min,\n",
    "        'end': np.max,\n",
    "    }).reset_index()[['chrom', 'start', 'end', 'pass1_exon1_gene_id']]\n",
    "    df_prom_bounds_fwd.columns = ['chrom', 'start', 'end', 'gene_id']#, 'locus_id']\n",
    "\n",
    "    df_prom_bounds_rev = df_prom_rev_.groupby(['pass1_exon1_gene_id']).agg({\n",
    "        'chrom': lambda s: list(set(s))[0],\n",
    "        'start': np.min,\n",
    "        'end': np.max,\n",
    "    }).reset_index()[['chrom', 'start', 'end', 'pass1_exon1_gene_id']]\n",
    "    df_prom_bounds_rev.columns = ['chrom', 'start', 'end', 'gene_id']#, 'locus_id']\n",
    "\n",
    "    df_prom_bounds = pd.concat([df_prom_bounds_fwd, df_prom_bounds_rev], axis=0, ignore_index=False)\\\n",
    "        .sort_values(['chrom', 'start', 'end']).reset_index(drop=True)\n",
    "    print('%d fwd %d rev %d pooled' % (len(df_prom_bounds_fwd), len(df_prom_bounds_rev), len(df_prom_bounds)))\n",
    "\n",
    "    # Write a .bed-file of all the regions that changed\n",
    "    df_prom_bounds.to_csv(mp('_df_prom_bounds.bed'), index=False, header=False, sep='\\t')\n",
    "    !wc -l {mp('_df_prom_bounds.bed')}\n",
    "\n",
    "    # df_gene_bounds <- gene min/max boundaries, based on annotation\n",
    "    df_transcripts_ = read_wbgtf('annot_cb/canonical_geneset/WS260_CB4.transcripts.annot.gtf.gz', parse_attr=False)\n",
    "    df_transcripts = df_gfftags_unpack(df_transcripts_, name='attribute')\n",
    "    \n",
    "    # Add display_id\n",
    "    #fp_geneIDs = 'wget/ftp.wormbase.org/pub/wormbase/releases/WS260/species/c_elegans/PRJNA13758/annotation/c_elegans.PRJNA13758.WS260.geneIDs.txt.gz'\n",
    "    #df_geneIDs = pd.read_csv(fp_geneIDs, sep=',', names=('na', 'gene_id', 'locus', 'sequence_id', 'status'))[['gene_id', 'locus', 'sequence_id', 'status']]\n",
    "    #\n",
    "    #def display_id_(locus, sequence_id, gene_id):\n",
    "    #    if locus == locus:\n",
    "    #        return locus\n",
    "    #    elif sequence_id == sequence_id:\n",
    "    #        return sequence_id\n",
    "    #    else:\n",
    "    #        return gene_id\n",
    "    #\n",
    "    #df_geneIDs['locus_id'] = list(map(display_id_, df_geneIDs['locus'], df_geneIDs['sequence_id'], df_geneIDs['gene_id']))\n",
    "    #df_transcripts = pd.merge(df_transcripts, df_geneIDs[['gene_id', 'locus_id']], left_on='gene_id', right_on='gene_id')\n",
    "\n",
    "    df_gene_bounds = df_transcripts.groupby(['gene_id']).agg({\n",
    "        'chrom': lambda s: list(set(s))[0],\n",
    "        'start': np.min,\n",
    "        'end': np.max,\n",
    "    }).reset_index()[['chrom', 'start', 'end', 'gene_id']].sort_values(['chrom', 'start', 'end']).reset_index(drop=True)\n",
    "\n",
    "    df_gene_bounds.to_csv(mp('_df_gene_bounds.bed'), index=False, header=False, sep='\\t')\n",
    "    !wc -l {mp('_df_gene_bounds.bed')}\n",
    "    \n",
    "    df_ = df_prom_bounds.merge(df_gene_bounds, how='outer', on=['gene_id'], suffixes=('_prom', '_gene'))\n",
    "    df_['start'] = list(map(int, map(np.nanmin, zip(df_['start_prom'], df_['start_gene']))))\n",
    "    df_['end'] = list(map(int, map(np.nanmax, zip(df_['end_prom'], df_['end_gene']))))\n",
    "    df_ = df_[['chrom_gene', 'start', 'end', 'gene_id']].sort_values(['chrom_gene', 'start', 'end']).reset_index(drop=True)\n",
    "    df_.columns = [['chrom', 'start', 'end', 'gene_id']]\n",
    "    return df_\n",
    "\n",
    "q_ = '(annot_summary == \"coding_promoter\") | (annot_summary == \"pseudogene_promoter\") | (annot_summary == \"non-coding_RNA\")'\n",
    "df_outron_extended_genes = df_outron_extended_genes_(\n",
    "    pd.concat([df_prom_fwd, df_exon_fwd['pass1_exon1_gene_id']], axis=1).query(q_)[['chrom', 'start', 'end', 'annot_summary', 'pass1_exon1_gene_id']],\n",
    "    pd.concat([df_prom_rev, df_exon_rev['pass1_exon1_gene_id']], axis=1).query(q_)[['chrom', 'start', 'end', 'annot_summary', 'pass1_exon1_gene_id']],\n",
    ")\n",
    "df_outron_extended_genes.to_csv(mp('outron-extended_genes.bed'), index=False, header=False, sep='\\t')\n",
    "!wc -l {mp('outron-extended_genes.bed')}"
   ]
  },
  {
   "cell_type": "code",
   "execution_count": 18,
   "metadata": {
    "ExecuteTime": {
     "end_time": "2018-09-19T15:11:46.712406Z",
     "start_time": "2018-09-19T15:11:46.486321Z"
    },
    "code_folding": [],
    "collapsed": true
   },
   "outputs": [],
   "source": [
    "# df_associated_gene <- associated gene assignments\n",
    "df_associated_gene = pd.read_csv(BedTool.from_dataframe(df_atac[['chrom', 'start', 'end']]).map(\n",
    "    BedTool.from_dataframe(df_outron_extended_genes).fn, c='4', o='distinct',).fn, sep='\\t',\n",
    "    names=NAMES_BED9[:4])\n",
    "df_associated_gene.columns = ['chrom', 'start', 'end', 'associated_gene_id']#, 'associated_locus_id']"
   ]
  },
  {
   "cell_type": "code",
   "execution_count": 22,
   "metadata": {
    "ExecuteTime": {
     "end_time": "2018-09-19T15:13:32.433889Z",
     "start_time": "2018-09-19T15:13:32.114353Z"
    },
    "code_folding": [],
    "collapsed": true
   },
   "outputs": [],
   "source": [
    "# Table S2 -- unstranded summary annotation\n",
    "def name_(annot_fwd, annot_rev, locus_id_fwd, locus_id_rev, enhancer_locus_id):\n",
    "    if (annot_fwd in config['annot_with_gene_id']) and not(annot_rev in config['annot_with_gene_id']):\n",
    "        return locus_id_fwd\n",
    "    elif not(annot_fwd in config['annot_with_gene_id']) and (annot_rev in config['annot_with_gene_id']):\n",
    "        return locus_id_rev\n",
    "    elif (annot_fwd in config['annot_with_gene_id']) and (annot_rev in config['annot_with_gene_id']):\n",
    "        return '%s / %s' % (locus_id_rev, locus_id_fwd)\n",
    "    elif enhancer_locus_id != '.': # show \"likeliest target gene for an enhancer\" in brackets for all remaining (=not coding_promoter or non_coding_promoter)\n",
    "        return '(%s)' % (enhancer_locus_id,)\n",
    "    else:\n",
    "        return ''\n",
    "\n",
    "def annot_merge_(annot_fwd, annot_rev):\n",
    "    if annot_fwd == 'coding_promoter' or annot_rev == 'coding_promoter':\n",
    "        return 'coding_promoter'\n",
    "    elif annot_fwd == 'pseudogene_promoter' or annot_rev == 'pseudogene_promoter':\n",
    "        return 'pseudogene_promoter'\n",
    "    elif annot_fwd == 'non-coding_RNA' or annot_rev == 'non-coding_RNA':\n",
    "        return 'non-coding_RNA'\n",
    "    elif annot_fwd == 'unknown_promoter' or annot_rev == 'unknown_promoter':\n",
    "        return 'unknown_promoter'\n",
    "    elif annot_fwd == 'transcription_initiation' or annot_rev == 'transcription_initiation':\n",
    "        return 'putative_enhancer'\n",
    "    elif annot_fwd == 'no_transcription' or annot_rev == 'no_transcription':\n",
    "        return 'other_element'\n",
    "    assert False\n",
    "\n",
    "def strand_merge_(annot_fwd, annot_rev):\n",
    "    promoter_fwd = (annot_fwd in config['annot_with_gene_id'])\n",
    "    promoter_rev = (annot_rev in config['annot_with_gene_id'])\n",
    "    lcap_fwd = annot_fwd == 'unknown_promoter'\n",
    "    lcap_rev = annot_rev == 'unknown_promoter'\n",
    "    if promoter_fwd and promoter_rev:\n",
    "        return '.'\n",
    "    elif promoter_fwd and (not promoter_rev):\n",
    "        return '+'\n",
    "    elif (not promoter_fwd) and promoter_rev:\n",
    "        return '-'\n",
    "    # in the absence of promoter annotations with an \"annotated\" target, use unknown_promoter annotations for strand\n",
    "    elif lcap_fwd and lcap_rev:\n",
    "        return '.'\n",
    "    elif lcap_fwd and (not lcap_rev):\n",
    "        return '+'\n",
    "    elif (not lcap_fwd) and lcap_rev:\n",
    "        return '-'\n",
    "    else:\n",
    "        return '.'\n",
    "\n",
    "df_regl = df_atac[['chrom', 'start', 'end']].copy()\n",
    "#df_regl['tss_fwd'] = df_scap_fwd['scap_mode']\n",
    "#df_regl['tss_rev'] = df_scap_rev['scap_mode']\n",
    "#df_regl['scap_pass_fwd'] = df_scap_fwd['scap_pass']\n",
    "#df_regl['scap_pass_rev'] = df_scap_rev['scap_pass']\n",
    "#df_regl['scap_mode_fwd'] = df_scap_fwd['scap_mode']\n",
    "#df_regl['scap_mode_rev'] = df_scap_rev['scap_mode']\n",
    "#df_regl['scap_mode_count_fwd'] = df_scap_fwd['scap_mode_count']\n",
    "#df_regl['scap_mode_count_rev'] = df_scap_rev['scap_mode_count']\n",
    "#df_regl['scap_count_fwd'] = df_scap_fwd['scap_count']\n",
    "#df_regl['scap_count_rev'] = df_scap_rev['scap_count']\n",
    "df_regl['annot_fwd'] = df_prom_fwd['annot_summary']\n",
    "df_regl['annot_rev'] = df_prom_rev['annot_summary']\n",
    "df_regl['annot_detailed_fwd'] = df_prom_fwd['annot_detailed_summary']\n",
    "df_regl['annot_detailed_rev'] = df_prom_rev['annot_detailed_summary']\n",
    "df_regl['annot'] = list(map(annot_merge_, df_prom_fwd['annot_summary'], df_prom_rev['annot_summary']))\n",
    "df_regl['strand'] = list(map(strand_merge_, df_prom_fwd['annot_summary'], df_prom_rev['annot_summary']))\n",
    "\n",
    "def agg_pass1_pass2(annot, pass1_val, pass2_val):\n",
    "    if annot in ['coding_promoter', 'pseudogene_promoter']:\n",
    "        return pass1_val\n",
    "    elif annot == 'non-coding_RNA':\n",
    "        return pass2_val\n",
    "    else:\n",
    "        return ''\n",
    "\n",
    "df_regl['promoter_gene_id_fwd'] = list(map(agg_pass1_pass2, df_regl['annot_fwd'],\n",
    "                                    df_exon_fwd['pass1_exon1_gene_id'], df_exon_fwd['pass2_exon1_gene_id']))\n",
    "df_regl['promoter_gene_id_rev'] = list(map(agg_pass1_pass2, df_regl['annot_rev'],\n",
    "                                    df_exon_rev['pass1_exon1_gene_id'], df_exon_rev['pass2_exon1_gene_id']))\n",
    "\n",
    "#df_regl['promoter_locus_id_fwd'] = list(map(agg_pass1_pass2, df_regl['annot_fwd'],\n",
    "#                                    df_exon_fwd['pass1_exon1_locus_id'], df_exon_fwd['pass2_exon1_locus_id']))\n",
    "#df_regl['promoter_locus_id_rev'] = list(map(agg_pass1_pass2, df_regl['annot_rev'],\n",
    "#                                    df_exon_rev['pass1_exon1_locus_id'], df_exon_rev['pass2_exon1_locus_id']))\n",
    "\n",
    "df_regl['promoter_gene_biotype_fwd'] = list(map(agg_pass1_pass2, df_regl['annot_fwd'],\n",
    "                                    df_exon_fwd['pass1_exon1_gene_biotype'], df_exon_fwd['pass2_exon1_gene_biotype']))\n",
    "df_regl['promoter_gene_biotype_rev'] = list(map(agg_pass1_pass2, df_regl['annot_rev'],\n",
    "                                    df_exon_rev['pass1_exon1_gene_biotype'], df_exon_rev['pass2_exon1_gene_biotype']))\n",
    "\n",
    "df_regl['associated_gene_id'] = df_associated_gene['associated_gene_id']\n",
    "#df_regl['associated_locus_id'] = df_associated_gene['associated_locus_id']\n",
    "\n",
    "# For briggsae, use gene_ids for displaying\n",
    "df_regl['label'] = list(map(name_,\n",
    "    df_regl['annot_fwd'], df_regl['annot_rev'],                     \n",
    "    df_regl['promoter_gene_id_fwd'], df_regl['promoter_gene_id_rev'],\n",
    "    df_regl['associated_gene_id']\n",
    "))"
   ]
  },
  {
   "cell_type": "code",
   "execution_count": 23,
   "metadata": {
    "ExecuteTime": {
     "end_time": "2018-09-19T15:13:34.004198Z",
     "start_time": "2018-09-19T15:13:33.792180Z"
    },
    "collapsed": true
   },
   "outputs": [],
   "source": [
    "df_prom_fwd.to_csv(mp('prom_fwd.tsv'), sep='\\t', index=False)\n",
    "df_prom_rev.to_csv(mp('prom_rev.tsv'), sep='\\t', index=False)\n",
    "df_regl.to_csv(mp('regl.tsv'), sep='\\t', index=False)"
   ]
  },
  {
   "cell_type": "code",
   "execution_count": 24,
   "metadata": {
    "ExecuteTime": {
     "end_time": "2018-09-19T15:13:38.056033Z",
     "start_time": "2018-09-19T15:13:36.536661Z"
    },
    "code_folding": [],
    "collapsed": true
   },
   "outputs": [],
   "source": [
    "# regulatory_annotation_%strand.bed: stranded .bed-files showing the annotation in individual stages\n",
    "write_gffbed(os.path.join(annot_, 'regulatory_annotation_cb_fwd.bed'),\n",
    "        chrom = df_regl['chrom'],\n",
    "        start = df_regl['start'],\n",
    "        end = df_regl['end'],\n",
    "        name = df_regl['promoter_gene_id_fwd'],\n",
    "        strand = '+',\n",
    "        itemRgb = list(map(lambda annot: d_annot_strand_legend[annot], df_regl['annot_fwd'])),\n",
    "        attr = df_prom_fwd[['annot_%s' % (stage,) for stage in l_cond]],\n",
    ")\n",
    "\n",
    "write_gffbed(os.path.join(annot_, 'regulatory_annotation_cb_rev.bed'),\n",
    "        chrom = df_regl['chrom'],\n",
    "        start = df_regl['start'],\n",
    "        end = df_regl['end'],\n",
    "        name = df_regl['promoter_gene_id_rev'],\n",
    "        strand = '-',\n",
    "        itemRgb = list(map(lambda annot: d_annot_strand_legend[annot], df_regl['annot_rev'])),\n",
    "        attr = df_prom_rev[['annot_%s' % (stage,) for stage in l_cond]],\n",
    ")"
   ]
  },
  {
   "cell_type": "code",
   "execution_count": 25,
   "metadata": {
    "ExecuteTime": {
     "end_time": "2018-09-19T15:13:46.388079Z",
     "start_time": "2018-09-19T15:13:45.432543Z"
    },
    "code_folding": [],
    "collapsed": true
   },
   "outputs": [],
   "source": [
    "# regulatory_annotation_ce10.bed: final annotation as a single, unstranded .bed-file (ce10)\n",
    "def write_ce10_(fp_, df_regl_):\n",
    "    write_gffbed(fp_,\n",
    "        chrom = df_regl_['chrom'],\n",
    "        start = df_regl_['start'],\n",
    "        end = df_regl_['end'],\n",
    "        name = df_regl_['label'],\n",
    "        strand = df_regl_['strand'],\n",
    "        itemRgb = list(map(lambda annot: d_annot_legend[annot], df_regl_['annot'])),\n",
    "        attr = df_regl_[['annot', 'annot_fwd', 'annot_rev', 'annot_detailed_fwd', 'annot_detailed_rev']],\n",
    "    )\n",
    "\n",
    "write_ce10_(os.path.join(annot_, 'reg_elements_cb.bed'), df_regl)"
   ]
  }
 ],
 "metadata": {
  "anaconda-cloud": {},
  "kernelspec": {
   "display_name": "Python 3",
   "language": "python",
   "name": "python3"
  },
  "language_info": {
   "codemirror_mode": {
    "name": "ipython",
    "version": 3
   },
   "file_extension": ".py",
   "mimetype": "text/x-python",
   "name": "python",
   "nbconvert_exporter": "python",
   "pygments_lexer": "ipython3",
   "version": "3.6.2"
  }
 },
 "nbformat": 4,
 "nbformat_minor": 1
}
