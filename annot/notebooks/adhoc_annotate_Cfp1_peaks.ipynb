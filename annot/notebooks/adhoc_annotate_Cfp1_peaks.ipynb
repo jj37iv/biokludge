{
 "cells": [
  {
   "cell_type": "code",
   "execution_count": 1,
   "metadata": {
    "ExecuteTime": {
     "end_time": "2018-04-27T17:26:40.680578Z",
     "start_time": "2018-04-27T17:26:35.563474Z"
    }
   },
   "outputs": [
    {
     "name": "stderr",
     "output_type": "stream",
     "text": [
      "/mnt/home3/jj374/anaconda36/lib/python3.6/site-packages/statsmodels/compat/pandas.py:56: FutureWarning: The pandas.core.datetools module is deprecated and will be removed in a future version. Please use the pandas.tseries module instead.\n",
      "  from pandas.core import datetools\n"
     ]
    },
    {
     "name": "stdout",
     "output_type": "stream",
     "text": [
      "os.getcwd(): /mnt/beegfs/scratch_copy/ahringer/jj374/lab/relmapping\n"
     ]
    }
   ],
   "source": [
    "%run ~/relmapping/annot/notebooks/__init__.ipynb"
   ]
  },
  {
   "cell_type": "code",
   "execution_count": 2,
   "metadata": {
    "ExecuteTime": {
     "end_time": "2018-04-27T17:26:42.752815Z",
     "start_time": "2018-04-27T17:26:40.682729Z"
    }
   },
   "outputs": [
    {
     "name": "stdout",
     "output_type": "stream",
     "text": [
      "42245 regions loaded\n"
     ]
    }
   ],
   "source": [
    "fp_regl = 'annot/Fig2D2_regulatory_annotation_Apr27/S2_regulatory_annotation_Apr27.tsv'\n",
    "df_regl = pd.read_csv(fp_regl, sep='\\t')\n",
    "\n",
    "df_regl = df_regl[['chrom', 'start', 'end', 'promoter_locus_id_fwd', 'promoter_locus_id_rev', 'promoter_gene_id_fwd', 'promoter_gene_id_rev', 'annot_fwd', 'annot_rev', 'annot']]\n",
    "print('%d regions loaded' % (len(df_regl),))"
   ]
  },
  {
   "cell_type": "code",
   "execution_count": 6,
   "metadata": {
    "ExecuteTime": {
     "end_time": "2018-04-27T17:26:53.001192Z",
     "start_time": "2018-04-27T17:26:51.963761Z"
    }
   },
   "outputs": [],
   "source": [
    "def df_mid(df_inp):\n",
    "    df_out = df_inp.copy()\n",
    "    df_out['start'] = df_out[['start', 'end']].mean(axis=1).astype(int).copy()\n",
    "    df_out['end'] = df_out['start'] + 1\n",
    "    return df_out.reset_index(drop=True)\n",
    "\n",
    "def df_closest_by_mid(df_a_, df_b_, b_prefix, **kwargs):\n",
    "    df_a = df_mid(df_a_)\n",
    "    df_b = df_mid(df_b_)\n",
    "    fn_ = BedTool.from_dataframe(df_a).closest(BedTool.from_dataframe(df_b).fn, **kwargs).fn\n",
    "    names_ = list(itertools.chain(df_a.columns.values,\n",
    "        ['%s_%s' % (b_prefix, col) for col in df_b.columns.values],\n",
    "        ['%s_distance' % (b_prefix)]\n",
    "    ))\n",
    "    df_ = pd.read_csv(fn_, names=names_, sep='\\t')\n",
    "    return pd.concat([df_a_, df_[names_[len(df_a.columns):]]], axis=1)\n",
    "\n",
    "\n",
    "#fp_inp,fp_out,fp_bed = 'annot_cfp1/cfp1_summit_peaks_300bp.bed', 'annot_cfp1/cfp1_summit_peaks_300bp_annotated.tsv', 'annot_cfp1/cfp1_summit_peaks_300bp_annotated.bed'\n",
    "#fp_inp,fp_out,fp_bed = 'annot_cfp1/HDA1_summit_peaks_300bp.bed', 'annot_cfp1/HDA1_summit_peaks_300bp_annotated.tsv', 'annot_cfp1/HDA1_summit_peaks_300bp_annotated.bed'\n",
    "#fp_inp,fp_out,fp_bed = 'annot_cfp1/SIN3_all_summit_peaks_300bp.bed', 'annot_cfp1/SIN3_all_summit_peaks_300bp_annotated.tsv', 'annot_cfp1/SIN3_all_summit_peaks_300bp_annotated.bed'\n",
    "\n",
    "df_inp = pd.read_csv(fp_inp, sep='\\t', names=yp.NAMES_BED6).sort_values(yp.NAMES_BED3).reset_index(drop=True)\n",
    "#(df_inp['end'] - df_inp['start'] == 300).all() #=> all peaks are 300bp\n",
    "\n",
    "# find closest site\n",
    "df_out = df_closest_by_mid(df_inp, df_regl, b_prefix='regl', d=True, t='first')\n",
    "df_out.tail()\n",
    "\n",
    "# clear hits further than 150bp\n",
    "m = abs(df_out.regl_distance) > 150\n",
    "df_out.loc[m, df_out.columns[6:]] = float('nan')\n",
    "\n",
    "# write .tsv, .bed-file for browsing\n",
    "df_out.to_csv(fp_out, sep='\\t')\n",
    "write_gffbed(fp_bed,\n",
    "    chrom = df_out['chrom'],\n",
    "    start = df_out['start'],\n",
    "    end = df_out['end'],\n",
    "    attr = df_out[df_out.columns[6:]],\n",
    ")"
   ]
  },
  {
   "cell_type": "code",
   "execution_count": null,
   "metadata": {
    "collapsed": true
   },
   "outputs": [],
   "source": []
  }
 ],
 "metadata": {
  "kernelspec": {
   "display_name": "Python 3",
   "language": "python",
   "name": "python3"
  },
  "language_info": {
   "codemirror_mode": {
    "name": "ipython",
    "version": 3
   },
   "file_extension": ".py",
   "mimetype": "text/x-python",
   "name": "python",
   "nbconvert_exporter": "python",
   "pygments_lexer": "ipython3",
   "version": "3.6.2"
  }
 },
 "nbformat": 4,
 "nbformat_minor": 2
}
