{
 "cells": [
  {
   "cell_type": "code",
   "execution_count": 1,
   "metadata": {
    "ExecuteTime": {
     "end_time": "2018-10-03T08:05:18.446116Z",
     "start_time": "2018-10-03T08:05:11.952711Z"
    }
   },
   "outputs": [
    {
     "name": "stderr",
     "output_type": "stream",
     "text": [
      "/mnt/home3/jj374/anaconda36/lib/python3.6/site-packages/statsmodels/compat/pandas.py:56: FutureWarning: The pandas.core.datetools module is deprecated and will be removed in a future version. Please use the pandas.tseries module instead.\n",
      "  from pandas.core import datetools\n"
     ]
    },
    {
     "name": "stdout",
     "output_type": "stream",
     "text": [
      "os.getcwd(): /mnt/beegfs/scratch_copy/ahringer/jj374/lab/relmapping\n"
     ]
    }
   ],
   "source": [
    "%run ~/relmapping/annot/notebooks/annot__init__.ipynb"
   ]
  },
  {
   "cell_type": "code",
   "execution_count": 2,
   "metadata": {
    "ExecuteTime": {
     "end_time": "2018-10-03T08:05:19.058563Z",
     "start_time": "2018-10-03T08:05:18.448146Z"
    },
    "collapsed": true
   },
   "outputs": [],
   "source": [
    "df_regl = df_regl_()"
   ]
  },
  {
   "cell_type": "code",
   "execution_count": 3,
   "metadata": {
    "ExecuteTime": {
     "end_time": "2018-10-03T08:05:19.164274Z",
     "start_time": "2018-10-03T08:05:19.060868Z"
    },
    "collapsed": true
   },
   "outputs": [],
   "source": [
    "def name_(annot_fwd, annot_rev, locus_id_fwd, locus_id_rev, enhancer_locus_id):\n",
    "    if (annot_fwd in config['annot_with_gene_id']) and not(annot_rev in config['annot_with_gene_id']):\n",
    "        return locus_id_fwd\n",
    "    elif not(annot_fwd in config['annot_with_gene_id']) and (annot_rev in config['annot_with_gene_id']):\n",
    "        return locus_id_rev\n",
    "    elif (annot_fwd in config['annot_with_gene_id']) and (annot_rev in config['annot_with_gene_id']):\n",
    "        return '%s / %s' % (locus_id_rev, locus_id_fwd)\n",
    "    elif enhancer_locus_id != '.': # show \"likeliest target gene for an enhancer\" in brackets for all remaining (=not coding_promoter or non_coding_promoter)\n",
    "        return '(%s)' % (enhancer_locus_id,)\n",
    "    else:\n",
    "        return ''\n",
    "\n",
    "df_regl['label'] = list(map(name_,\n",
    "    df_regl['annot_fwd'], df_regl['annot_rev'],                     \n",
    "    df_regl['promoter_locus_id_fwd'], df_regl['promoter_locus_id_rev'],\n",
    "    df_regl['associated_locus_id']\n",
    "))"
   ]
  },
  {
   "cell_type": "code",
   "execution_count": 4,
   "metadata": {
    "ExecuteTime": {
     "end_time": "2018-10-03T08:05:27.793579Z",
     "start_time": "2018-10-03T08:05:19.166246Z"
    }
   },
   "outputs": [],
   "source": [
    "# Table S2 -- unstranded summary annotation\n",
    "\n",
    "\n",
    "d_annot_strand_legend = collections.OrderedDict([\n",
    "    ('coding_promoter', yp.RED),\n",
    "    ('pseudogene_promoter', yp.ORANGE),\n",
    "    ('non-coding_RNA', yp.BLACK),\n",
    "    ('unknown_promoter', yp.YELLOW),\n",
    "    ('transcription_initiation', yp.GREEN),\n",
    "    ('no_transcription', yp.BLUE),\n",
    "])\n",
    "\n",
    "d_annot_legend = collections.OrderedDict([\n",
    "    ('coding_promoter', yp.RED),\n",
    "    ('pseudogene_promoter', yp.ORANGE),\n",
    "    ('non-coding_RNA', yp.BLACK),\n",
    "    ('unknown_promoter', yp.YELLOW),\n",
    "    ('putative_enhancer', yp.GREEN),\n",
    "    ('other_element', yp.BLUE),\n",
    "])\n",
    "\n",
    "write_gffbed('annot_eLife_revised/reg_elements_ce10_split_fwd.bed',\n",
    "    chrom = df_regl['chrom'],\n",
    "    start = df_regl['pos'],\n",
    "    end = df_regl['end'],\n",
    "    name = '',\n",
    "    strand = '.',#df_regl['strand'],\n",
    "    itemRgb = list(map(lambda annot: d_annot_strand_legend[annot], df_regl['annot_fwd'])),\n",
    "    attr = df_regl[['annot', 'annot_fwd', 'annot_detailed_fwd']],\n",
    "    trackline = None,\n",
    ")\n",
    "\n",
    "write_gffbed('annot_eLife_revised/reg_elements_ce10_split_rev.bed',\n",
    "    chrom = df_regl['chrom'],\n",
    "    start = df_regl['start'],\n",
    "    end = df_regl['end'],\n",
    "    name = df_regl['label'],\n",
    "    strand = '.',#df_regl['strand'],\n",
    "    itemRgb = list(map(lambda annot: d_annot_strand_legend[annot], df_regl['annot_rev'])),\n",
    "    attr = df_regl[['annot', 'annot_rev', 'annot_detailed_rev']],\n",
    "    trackline = None,\n",
    ")\n",
    "\n",
    "!cat annot_eLife_revised/reg_elements_ce10_split_fwd.bed annot_eLife_revised/reg_elements_ce10_split_rev.bed \\\n",
    "| sort -k1,1 -k2,2n - > annot_eLife_revised/reg_elements_eLife_revised_ce10_twocolour.bed\n",
    "\n",
    "!sed -i '1i#track gffTags=on' annot_eLife_revised/reg_elements_eLife_revised_ce10_twocolour.bed\n",
    "\n",
    "!rm annot_eLife_revised/reg_elements_ce10_split_fwd.bed annot_eLife_revised/reg_elements_ce10_split_rev.bed"
   ]
  }
 ],
 "metadata": {
  "kernelspec": {
   "display_name": "Python 3",
   "language": "python",
   "name": "python3"
  },
  "language_info": {
   "codemirror_mode": {
    "name": "ipython",
    "version": 3
   },
   "file_extension": ".py",
   "mimetype": "text/x-python",
   "name": "python",
   "nbconvert_exporter": "python",
   "pygments_lexer": "ipython3",
   "version": "3.6.2"
  }
 },
 "nbformat": 4,
 "nbformat_minor": 2
}
