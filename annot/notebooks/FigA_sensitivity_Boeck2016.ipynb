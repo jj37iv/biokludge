{
 "cells": [
  {
   "cell_type": "code",
   "execution_count": 1,
   "metadata": {
    "ExecuteTime": {
     "end_time": "2018-02-23T13:22:56.397824Z",
     "start_time": "2018-02-23T13:22:51.629582Z"
    }
   },
   "outputs": [
    {
     "name": "stderr",
     "output_type": "stream",
     "text": [
      "/mnt/home3/jj374/anaconda36/lib/python3.6/site-packages/statsmodels/compat/pandas.py:56: FutureWarning: The pandas.core.datetools module is deprecated and will be removed in a future version. Please use the pandas.tseries module instead.\n",
      "  from pandas.core import datetools\n"
     ]
    },
    {
     "name": "stdout",
     "output_type": "stream",
     "text": [
      "os.getcwd(): /mnt/b2/scratch/ahringer/jj374/lab/relmapping\n"
     ]
    }
   ],
   "source": [
    "%run ~/relmapping/annot/notebooks/__init__.ipynb"
   ]
  },
  {
   "cell_type": "code",
   "execution_count": 2,
   "metadata": {
    "ExecuteTime": {
     "end_time": "2018-02-23T13:22:56.773592Z",
     "start_time": "2018-02-23T13:22:56.401318Z"
    }
   },
   "outputs": [
    {
     "data": {
      "text/plain": [
       "20391"
      ]
     },
     "execution_count": 2,
     "metadata": {},
     "output_type": "execute_result"
    }
   ],
   "source": [
    "# (Boeck et al., 2016)\n",
    "#!cd ~/relmapping/wget; wget -m --no-parent http://genome.cshlp.org/content/suppl/2016/09/20/gr.202663.115.DC1/Supplemental_Table_S13.gz\n",
    "fp_ = 'wget/genome.cshlp.org/content/suppl/2016/09/20/gr.202663.115.DC1/Supplemental_Table_S13.txt'\n",
    "df_expr = pd.read_csv(fp_, delim_whitespace=True)#, index_col='WormbaseName')\n",
    "len(df_expr)"
   ]
  },
  {
   "cell_type": "code",
   "execution_count": 3,
   "metadata": {
    "ExecuteTime": {
     "end_time": "2018-02-23T13:22:56.849164Z",
     "start_time": "2018-02-23T13:22:56.776172Z"
    }
   },
   "outputs": [
    {
     "name": "stdout",
     "output_type": "stream",
     "text": [
      "13316\n",
      "15028\n"
     ]
    }
   ],
   "source": [
    "#!cd ~/relmapping/wget; wget -m --no-parent http://genome.cshlp.org/content/suppl/2016/09/20/gr.202663.115.DC1/Supplemental_Fig_S4.docx\n",
    "print(len(df_expr.query('L1 > 0.02'))) # eyeballed from fig4: 13.5K for L1\n",
    "print(len(df_expr.query('DE > 0.02'))) # eyeballed from fig5: 15K for DE"
   ]
  },
  {
   "cell_type": "code",
   "execution_count": 4,
   "metadata": {
    "ExecuteTime": {
     "end_time": "2018-02-23T13:22:56.911422Z",
     "start_time": "2018-02-23T13:22:56.852078Z"
    }
   },
   "outputs": [
    {
     "data": {
      "text/html": [
       "<div>\n",
       "<style>\n",
       "    .dataframe thead tr:only-child th {\n",
       "        text-align: right;\n",
       "    }\n",
       "\n",
       "    .dataframe thead th {\n",
       "        text-align: left;\n",
       "    }\n",
       "\n",
       "    .dataframe tbody tr th {\n",
       "        vertical-align: top;\n",
       "    }\n",
       "</style>\n",
       "<table border=\"1\" class=\"dataframe\">\n",
       "  <thead>\n",
       "    <tr style=\"text-align: right;\">\n",
       "      <th></th>\n",
       "      <th>587min</th>\n",
       "      <th>626min</th>\n",
       "      <th>665min</th>\n",
       "      <th>L1</th>\n",
       "      <th>L2</th>\n",
       "      <th>L3</th>\n",
       "      <th>L4</th>\n",
       "      <th>YA</th>\n",
       "    </tr>\n",
       "  </thead>\n",
       "  <tbody>\n",
       "    <tr>\n",
       "      <th>0</th>\n",
       "      <td>0.3078</td>\n",
       "      <td>0.3364</td>\n",
       "      <td>0.3074</td>\n",
       "      <td>0.113352</td>\n",
       "      <td>0.079734</td>\n",
       "      <td>0.025379</td>\n",
       "      <td>0.050510</td>\n",
       "      <td>0.045095</td>\n",
       "    </tr>\n",
       "    <tr>\n",
       "      <th>1</th>\n",
       "      <td>2.8029</td>\n",
       "      <td>3.1333</td>\n",
       "      <td>2.8126</td>\n",
       "      <td>0.896642</td>\n",
       "      <td>0.611569</td>\n",
       "      <td>0.415548</td>\n",
       "      <td>0.387748</td>\n",
       "      <td>0.299345</td>\n",
       "    </tr>\n",
       "    <tr>\n",
       "      <th>2</th>\n",
       "      <td>1.4648</td>\n",
       "      <td>1.2548</td>\n",
       "      <td>1.1278</td>\n",
       "      <td>0.217031</td>\n",
       "      <td>0.269412</td>\n",
       "      <td>0.165271</td>\n",
       "      <td>0.116517</td>\n",
       "      <td>0.041802</td>\n",
       "    </tr>\n",
       "    <tr>\n",
       "      <th>3</th>\n",
       "      <td>0.0832</td>\n",
       "      <td>0.0676</td>\n",
       "      <td>0.0682</td>\n",
       "      <td>0.108792</td>\n",
       "      <td>0.111028</td>\n",
       "      <td>0.152491</td>\n",
       "      <td>0.252174</td>\n",
       "      <td>0.475804</td>\n",
       "    </tr>\n",
       "    <tr>\n",
       "      <th>4</th>\n",
       "      <td>0.5604</td>\n",
       "      <td>0.5636</td>\n",
       "      <td>0.5500</td>\n",
       "      <td>0.012563</td>\n",
       "      <td>0.532903</td>\n",
       "      <td>0.052147</td>\n",
       "      <td>0.254605</td>\n",
       "      <td>0.016723</td>\n",
       "    </tr>\n",
       "  </tbody>\n",
       "</table>\n",
       "</div>"
      ],
      "text/plain": [
       "   587min  626min  665min        L1        L2        L3        L4        YA\n",
       "0  0.3078  0.3364  0.3074  0.113352  0.079734  0.025379  0.050510  0.045095\n",
       "1  2.8029  3.1333  2.8126  0.896642  0.611569  0.415548  0.387748  0.299345\n",
       "2  1.4648  1.2548  1.1278  0.217031  0.269412  0.165271  0.116517  0.041802\n",
       "3  0.0832  0.0676  0.0682  0.108792  0.111028  0.152491  0.252174  0.475804\n",
       "4  0.5604  0.5636  0.5500  0.012563  0.532903  0.052147  0.254605  0.016723"
      ]
     },
     "execution_count": 4,
     "metadata": {},
     "output_type": "execute_result"
    }
   ],
   "source": [
    "# Select time points roughly matched with wt LE to YA\n",
    "df_expr[df_expr.columns[16:24]].head()"
   ]
  },
  {
   "cell_type": "code",
   "execution_count": 6,
   "metadata": {
    "ExecuteTime": {
     "end_time": "2018-02-23T13:23:56.480130Z",
     "start_time": "2018-02-23T13:23:56.245256Z"
    }
   },
   "outputs": [
    {
     "name": "stdout",
     "output_type": "stream",
     "text": [
      "18173 of 20391 genes with dcpm > 0.02 in development (Fig S4 threshold)\n",
      "15746 of 20391 genes with dcpm > 0.07 in development (Fig 1 & DE analyses' threshold)\n"
     ]
    }
   ],
   "source": [
    "# Calculate numnber of genes with dcpm > 0.02 (as used in Boeck et al., 2016) in any stage\n",
    "n_ = sum((df_expr[df_expr.columns[16:24]] > 0.02).any(axis=1))\n",
    "print(\"%d of %d genes with dcpm > 0.02 in development (Fig S4 threshold)\" % (n_, len(df_expr)))\n",
    "n_ = sum((df_expr[df_expr.columns[16:24]] > 0.07).any(axis=1))\n",
    "print(\"%d of %d genes with dcpm > 0.07 in development (Fig 1 & DE analyses' threshold)\" % (n_, len(df_expr)))"
   ]
  },
  {
   "cell_type": "code",
   "execution_count": null,
   "metadata": {
    "collapsed": true
   },
   "outputs": [],
   "source": []
  }
 ],
 "metadata": {
  "kernelspec": {
   "display_name": "Python 3",
   "language": "python",
   "name": "python3"
  },
  "language_info": {
   "codemirror_mode": {
    "name": "ipython",
    "version": 3
   },
   "file_extension": ".py",
   "mimetype": "text/x-python",
   "name": "python",
   "nbconvert_exporter": "python",
   "pygments_lexer": "ipython3",
   "version": "3.6.2"
  }
 },
 "nbformat": 4,
 "nbformat_minor": 2
}
