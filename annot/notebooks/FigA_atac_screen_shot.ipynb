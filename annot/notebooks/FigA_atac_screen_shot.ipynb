{
 "cells": [
  {
   "cell_type": "code",
   "execution_count": 1,
   "metadata": {
    "ExecuteTime": {
     "end_time": "2018-02-22T22:32:10.214642Z",
     "start_time": "2018-02-22T22:32:05.522791Z"
    }
   },
   "outputs": [
    {
     "name": "stderr",
     "output_type": "stream",
     "text": [
      "/mnt/home3/jj374/anaconda36/lib/python3.6/site-packages/statsmodels/compat/pandas.py:56: FutureWarning: The pandas.core.datetools module is deprecated and will be removed in a future version. Please use the pandas.tseries module instead.\n",
      "  from pandas.core import datetools\n"
     ]
    },
    {
     "name": "stdout",
     "output_type": "stream",
     "text": [
      "os.getcwd(): /mnt/b2/scratch/ahringer/jj374/lab/relmapping\n"
     ]
    }
   ],
   "source": [
    "%run ~/relmapping/annot/notebooks/__init__.ipynb"
   ]
  },
  {
   "cell_type": "code",
   "execution_count": 2,
   "metadata": {
    "ExecuteTime": {
     "end_time": "2018-02-22T22:32:10.289512Z",
     "start_time": "2018-02-22T22:32:10.219805Z"
    }
   },
   "outputs": [],
   "source": [
    "# Emb DHSs\n",
    "#!cd ~/relmapping/wget; wget -m --no-parent ftp://ftp.ncbi.nlm.nih.gov/geo/series/GSE97nnn/GSE97425/suppl/GSE97425_embryo.ce10.allDHS.bed.gz\n",
    "# L1 DHSs\n",
    "#!cd ~/relmapping/wget; wget -m --no-parent ftp://ftp.ncbi.nlm.nih.gov/geo/series/GSE97nnn/GSE97425/suppl/GSE97425_L1.ce10.allDHS.bed.gz"
   ]
  },
  {
   "cell_type": "code",
   "execution_count": 3,
   "metadata": {
    "ExecuteTime": {
     "end_time": "2018-02-22T22:32:10.695334Z",
     "start_time": "2018-02-22T22:32:10.292699Z"
    }
   },
   "outputs": [
    {
     "name": "stdout",
     "output_type": "stream",
     "text": [
      "41825 annot/FigA_atac_screen_shot/Ho2017_embryo.bed\r\n"
     ]
    },
    {
     "data": {
      "text/html": [
       "<div>\n",
       "<style>\n",
       "    .dataframe thead tr:only-child th {\n",
       "        text-align: right;\n",
       "    }\n",
       "\n",
       "    .dataframe thead th {\n",
       "        text-align: left;\n",
       "    }\n",
       "\n",
       "    .dataframe tbody tr th {\n",
       "        vertical-align: top;\n",
       "    }\n",
       "</style>\n",
       "<table border=\"1\" class=\"dataframe\">\n",
       "  <thead>\n",
       "    <tr style=\"text-align: right;\">\n",
       "      <th></th>\n",
       "      <th>chrom</th>\n",
       "      <th>start</th>\n",
       "      <th>end</th>\n",
       "      <th>name</th>\n",
       "    </tr>\n",
       "  </thead>\n",
       "  <tbody>\n",
       "    <tr>\n",
       "      <th>0</th>\n",
       "      <td>chrI</td>\n",
       "      <td>3900</td>\n",
       "      <td>4050</td>\n",
       "      <td>1391.125000</td>\n",
       "    </tr>\n",
       "    <tr>\n",
       "      <th>1</th>\n",
       "      <td>chrI</td>\n",
       "      <td>9740</td>\n",
       "      <td>9890</td>\n",
       "      <td>507.437500</td>\n",
       "    </tr>\n",
       "    <tr>\n",
       "      <th>2</th>\n",
       "      <td>chrI</td>\n",
       "      <td>11380</td>\n",
       "      <td>11530</td>\n",
       "      <td>1080.578125</td>\n",
       "    </tr>\n",
       "    <tr>\n",
       "      <th>3</th>\n",
       "      <td>chrI</td>\n",
       "      <td>13820</td>\n",
       "      <td>13970</td>\n",
       "      <td>149.218750</td>\n",
       "    </tr>\n",
       "    <tr>\n",
       "      <th>4</th>\n",
       "      <td>chrI</td>\n",
       "      <td>16920</td>\n",
       "      <td>17070</td>\n",
       "      <td>164.890625</td>\n",
       "    </tr>\n",
       "  </tbody>\n",
       "</table>\n",
       "</div>"
      ],
      "text/plain": [
       "  chrom  start    end         name\n",
       "0  chrI   3900   4050  1391.125000\n",
       "1  chrI   9740   9890   507.437500\n",
       "2  chrI  11380  11530  1080.578125\n",
       "3  chrI  13820  13970   149.218750\n",
       "4  chrI  16920  17070   164.890625"
      ]
     },
     "execution_count": 3,
     "metadata": {},
     "output_type": "execute_result"
    }
   ],
   "source": [
    "fp_ = 'wget/ftp.ncbi.nlm.nih.gov/geo/series/GSE97nnn/GSE97425/suppl/GSE97425_embryo.ce10.allDHS.bed.gz'\n",
    "df_ = pd.read_csv(fp_, sep='\\t', names=yp.NAMES_BED9[:4])\n",
    "df_[yp.NAMES_BED3].to_csv('annot/FigA_atac_screen_shot/Ho2017_embryo.bed', header=None, index=None, sep='\\t')\n",
    "!wc -l annot/FigA_atac_screen_shot/Ho2017_embryo.bed\n",
    "df_.head()"
   ]
  },
  {
   "cell_type": "code",
   "execution_count": 4,
   "metadata": {
    "ExecuteTime": {
     "end_time": "2018-02-22T22:32:10.999445Z",
     "start_time": "2018-02-22T22:32:10.697567Z"
    }
   },
   "outputs": [
    {
     "name": "stdout",
     "output_type": "stream",
     "text": [
      "23670 annot/FigA_atac_screen_shot/Ho2017_L1_arrest.bed\r\n"
     ]
    },
    {
     "data": {
      "text/html": [
       "<div>\n",
       "<style>\n",
       "    .dataframe thead tr:only-child th {\n",
       "        text-align: right;\n",
       "    }\n",
       "\n",
       "    .dataframe thead th {\n",
       "        text-align: left;\n",
       "    }\n",
       "\n",
       "    .dataframe tbody tr th {\n",
       "        vertical-align: top;\n",
       "    }\n",
       "</style>\n",
       "<table border=\"1\" class=\"dataframe\">\n",
       "  <thead>\n",
       "    <tr style=\"text-align: right;\">\n",
       "      <th></th>\n",
       "      <th>chrom</th>\n",
       "      <th>start</th>\n",
       "      <th>end</th>\n",
       "      <th>name</th>\n",
       "    </tr>\n",
       "  </thead>\n",
       "  <tbody>\n",
       "    <tr>\n",
       "      <th>0</th>\n",
       "      <td>chrI</td>\n",
       "      <td>3880</td>\n",
       "      <td>4030</td>\n",
       "      <td>927.546875</td>\n",
       "    </tr>\n",
       "    <tr>\n",
       "      <th>1</th>\n",
       "      <td>chrI</td>\n",
       "      <td>9740</td>\n",
       "      <td>9890</td>\n",
       "      <td>173.281250</td>\n",
       "    </tr>\n",
       "    <tr>\n",
       "      <th>2</th>\n",
       "      <td>chrI</td>\n",
       "      <td>11380</td>\n",
       "      <td>11530</td>\n",
       "      <td>589.343750</td>\n",
       "    </tr>\n",
       "    <tr>\n",
       "      <th>3</th>\n",
       "      <td>chrI</td>\n",
       "      <td>13840</td>\n",
       "      <td>13990</td>\n",
       "      <td>254.109375</td>\n",
       "    </tr>\n",
       "    <tr>\n",
       "      <th>4</th>\n",
       "      <td>chrI</td>\n",
       "      <td>22880</td>\n",
       "      <td>23030</td>\n",
       "      <td>534.062500</td>\n",
       "    </tr>\n",
       "  </tbody>\n",
       "</table>\n",
       "</div>"
      ],
      "text/plain": [
       "  chrom  start    end        name\n",
       "0  chrI   3880   4030  927.546875\n",
       "1  chrI   9740   9890  173.281250\n",
       "2  chrI  11380  11530  589.343750\n",
       "3  chrI  13840  13990  254.109375\n",
       "4  chrI  22880  23030  534.062500"
      ]
     },
     "execution_count": 4,
     "metadata": {},
     "output_type": "execute_result"
    }
   ],
   "source": [
    "fp_ = 'wget/ftp.ncbi.nlm.nih.gov/geo/series/GSE97nnn/GSE97425/suppl/GSE97425_L1.ce10.allDHS.bed.gz'\n",
    "df_ = pd.read_csv(fp_, sep='\\t', names=yp.NAMES_BED9[:4])\n",
    "df_[yp.NAMES_BED3].to_csv('annot/FigA_atac_screen_shot/Ho2017_L1_arrest.bed', header=None, index=None, sep='\\t')\n",
    "!wc -l annot/FigA_atac_screen_shot/Ho2017_L1_arrest.bed\n",
    "df_.head()"
   ]
  },
  {
   "cell_type": "code",
   "execution_count": 5,
   "metadata": {
    "ExecuteTime": {
     "end_time": "2018-02-22T22:32:11.358712Z",
     "start_time": "2018-02-22T22:32:11.002843Z"
    }
   },
   "outputs": [],
   "source": [
    "fp_ = 'annot/FigA_overlaps/bed_files/Daugherty2017_consensus_ATAC.bed'\n",
    "df_ = pd.read_csv(fp_, sep='\\t', comment='#', names=yp.NAMES_BED9)[yp.NAMES_BED3]\n",
    "df_.to_csv('annot/FigA_atac_screen_shot/Daugherty2017_consensus_ATAC_bed3.bed', header=None, index=None, sep='\\t')"
   ]
  },
  {
   "cell_type": "code",
   "execution_count": null,
   "metadata": {
    "collapsed": true
   },
   "outputs": [],
   "source": []
  }
 ],
 "metadata": {
  "kernelspec": {
   "display_name": "Python 3",
   "language": "python",
   "name": "python3"
  },
  "language_info": {
   "codemirror_mode": {
    "name": "ipython",
    "version": 3
   },
   "file_extension": ".py",
   "mimetype": "text/x-python",
   "name": "python",
   "nbconvert_exporter": "python",
   "pygments_lexer": "ipython3",
   "version": "3.6.2"
  }
 },
 "nbformat": 4,
 "nbformat_minor": 2
}
