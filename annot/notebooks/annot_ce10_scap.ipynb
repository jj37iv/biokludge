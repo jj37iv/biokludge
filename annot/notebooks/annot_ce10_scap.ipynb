{
 "cells": [
  {
   "cell_type": "code",
   "execution_count": 1,
   "metadata": {
    "ExecuteTime": {
     "end_time": "2018-05-30T13:44:58.909719Z",
     "start_time": "2018-05-30T13:44:54.233813Z"
    }
   },
   "outputs": [
    {
     "name": "stderr",
     "output_type": "stream",
     "text": [
      "/mnt/home3/jj374/anaconda36/lib/python3.6/site-packages/statsmodels/compat/pandas.py:56: FutureWarning: The pandas.core.datetools module is deprecated and will be removed in a future version. Please use the pandas.tseries module instead.\n",
      "  from pandas.core import datetools\n"
     ]
    },
    {
     "name": "stdout",
     "output_type": "stream",
     "text": [
      "os.getcwd(): /mnt/beegfs/scratch_copy/ahringer/jj374/lab/relmapping\n"
     ]
    }
   ],
   "source": [
    "# Set annotation to annot_ce10\n",
    "%run ~/relmapping/annot/notebooks/annot__init__.ipynb\n",
    "annot_ = 'annot_ce10'\n",
    "def mp(fp, annot_=annot_): return os.path.join(annot_, 'metrics_scap', fp)"
   ]
  },
  {
   "cell_type": "code",
   "execution_count": 2,
   "metadata": {
    "ExecuteTime": {
     "end_time": "2018-05-30T13:44:59.079721Z",
     "start_time": "2018-05-30T13:44:58.911650Z"
    }
   },
   "outputs": [
    {
     "name": "stdout",
     "output_type": "stream",
     "text": [
      "42245 ATAC-seq sites\n"
     ]
    }
   ],
   "source": [
    "# Load long cap jump & exon data\n",
    "df_atac = pd.read_csv(os.path.join(annot_, 'accessible_sites.tsv'), sep='\\t')\n",
    "l_atac_peak_pos = df_atac[['start', 'end']].mean(axis=1).map(int)\n",
    "#df_sites = df_sites.head(100)\n",
    "print(len(df_atac), 'ATAC-seq sites')"
   ]
  },
  {
   "cell_type": "code",
   "execution_count": 3,
   "metadata": {
    "ExecuteTime": {
     "end_time": "2018-05-30T13:45:36.461323Z",
     "start_time": "2018-05-30T13:44:59.082113Z"
    }
   },
   "outputs": [
    {
     "name": "stdout",
     "output_type": "stream",
     "text": [
      "28726 28617 22913 34430 fwd/rev/both/either in pooled scap\n",
      "0.6799857971357557 0.6774056101313765 0.542383714049 0.815007693218\n"
     ]
    }
   ],
   "source": [
    "# scap_count <- <scap tags within region>; scap_mode_raw <- <scap mode position>; scap_mode_count <- <tags at mode>\n",
    "fp_fwd = pf('scap815_wt_all', 'tg_se.bwa_se.rm_unmapped.rm_chrM.rm_blacklist.rm_non_coding.rm_q10.firstbp_fwd.gt0x2', '.bw', 'scap815')\n",
    "fp_rev = pf('scap815_wt_all', 'tg_se.bwa_se.rm_unmapped.rm_chrM.rm_blacklist.rm_non_coding.rm_q10.firstbp_rev.gt0x2', '.bw', 'scap815')\n",
    "\n",
    "flank_len = 125\n",
    "chroms_ = list(df_atac['chrom'])\n",
    "starts_ = list(l_atac_peak_pos - flank_len)\n",
    "ends_ =  list(l_atac_peak_pos + flank_len)\n",
    "\n",
    "df_scap_fwd = pd.DataFrame()\n",
    "df_scap_rev = pd.DataFrame()\n",
    "df_scap_fwd['scap_count'] = [*map(lambda c: int(np.nansum(c)), yp.read_regions(fp_fwd, chroms_, starts_, ends_))]\n",
    "df_scap_rev['scap_count'] = [*map(lambda c: int(np.nansum(c)), yp.read_regions(fp_rev, chroms_, starts_, ends_))]\n",
    "\n",
    "def scap_mode_count_(c): return int(np.nan_to_num(np.nanmax(c)))\n",
    "df_scap_fwd['scap_mode_count'] = [*map(scap_mode_count_, yp.read_regions(fp_fwd, chroms_, starts_, ends_))]\n",
    "df_scap_rev['scap_mode_count'] = [*map(scap_mode_count_, yp.read_regions(fp_rev, chroms_, starts_, ends_))]\n",
    "\n",
    "df_scap_fwd['scap_pass'] = df_scap_fwd['scap_mode_count'] >= 2\n",
    "df_scap_rev['scap_pass'] = df_scap_rev['scap_mode_count'] >= 2\n",
    "\n",
    "n = float(len(df_atac))\n",
    "n_scap_fwd = len(df_scap_fwd.query('scap_mode_count >= 2'))\n",
    "n_scap_rev = len(df_scap_rev.query('scap_mode_count >= 2'))\n",
    "n_scap_bid = sum((df_scap_fwd['scap_mode_count'] >= 2) & (df_scap_rev['scap_mode_count'] >= 2))\n",
    "n_scap_either = sum((df_scap_fwd['scap_mode_count'] >= 2) | (df_scap_rev['scap_mode_count'] >= 2))\n",
    "print(n_scap_fwd, n_scap_rev, n_scap_bid, n_scap_either, 'fwd/rev/both/either in pooled scap')\n",
    "print(n_scap_fwd / n, n_scap_rev / n, n_scap_bid / n, n_scap_either / n)"
   ]
  },
  {
   "cell_type": "code",
   "execution_count": 4,
   "metadata": {
    "ExecuteTime": {
     "end_time": "2018-05-30T13:45:53.982827Z",
     "start_time": "2018-05-30T13:45:36.463536Z"
    }
   },
   "outputs": [
    {
     "name": "stdout",
     "output_type": "stream",
     "text": [
      "104.0 median mode >= 2 tags\n",
      "113.0 median mode (>= 10 tags)\n",
      "13519 / 13628 sites with extrapolated txn initiation\n"
     ]
    }
   ],
   "source": [
    "# \"Extrapolate\" likely regions of txn initiation based on peak accessibility\n",
    "# On average, short cap modes are spaced by 120bp\n",
    "# Extrapolate short cap modes by peak accessibility +/- 60 (120bp/2) if no short cap mode was found\n",
    "# (These \"extrapolated\" short cap modes can be discarded by filtering for scap_mode_count > 0)\n",
    "def scap_mode_fwd_(scap_mode_raw, scap_mode_count, atac_mode):\n",
    "    if scap_mode_count > 0:\n",
    "        return scap_mode_raw\n",
    "    else:\n",
    "        return atac_mode + 60\n",
    "\n",
    "def scap_mode_rev_(scap_mode_raw, scap_mode_count, atac_mode):\n",
    "    if scap_mode_count > 0:\n",
    "        return scap_mode_raw\n",
    "    else:\n",
    "        return atac_mode - 60\n",
    "\n",
    "def scap_mode_raw_(s, c): return int(s + yp.nanargmax_median(c))\n",
    "df_scap_fwd['scap_mode_raw'] = [*map(scap_mode_raw_, starts_, yp.read_regions(fp_fwd, chroms_, starts_, ends_))]\n",
    "df_scap_rev['scap_mode_raw'] = [*map(scap_mode_raw_, starts_, yp.read_regions(fp_rev, chroms_, starts_, ends_))]\n",
    "\n",
    "df_scap_fwd['scap_mode'] = [*map(scap_mode_fwd_, df_scap_fwd['scap_mode_raw'], df_scap_fwd['scap_mode_count'], l_atac_peak_pos)]\n",
    "df_scap_rev['scap_mode'] = [*map(scap_mode_rev_, df_scap_rev['scap_mode_raw'], df_scap_rev['scap_mode_count'], l_atac_peak_pos)]\n",
    "\n",
    "m = (df_scap_fwd['scap_mode_count'] >= 2) & (df_scap_rev['scap_mode_count'] >= 2)\n",
    "print(np.median(df_scap_fwd[m]['scap_mode_raw'] - df_scap_rev[m]['scap_mode_raw']), 'median mode >= 2 tags')\n",
    "m = (df_scap_fwd['scap_mode_count'] >= 10) & (df_scap_rev['scap_mode_count'] >= 10)\n",
    "print(np.median(df_scap_fwd[m]['scap_mode_raw'] - df_scap_rev[m]['scap_mode_raw']), 'median mode (>= 10 tags)')\n",
    "\n",
    "print('%d / %d sites with extrapolated txn initiation' % (\n",
    "    len(df_scap_fwd.query('scap_mode_count == 0')), \n",
    "    len(df_scap_rev.query('scap_mode_count == 0'))\n",
    "))"
   ]
  },
  {
   "cell_type": "code",
   "execution_count": 5,
   "metadata": {
    "ExecuteTime": {
     "end_time": "2018-05-30T13:46:02.027208Z",
     "start_time": "2018-05-30T13:45:53.987631Z"
    },
    "collapsed": true
   },
   "outputs": [],
   "source": [
    "# scap_%strand.bed <- txn initiation statistics\n",
    "def itemRgb_(flag): return yp.ORANGE if flag else yp.BLUE\n",
    "\n",
    "l_scap_col = ['scap_count', 'scap_mode_count', 'scap_pass', 'scap_mode_raw', 'scap_mode']\n",
    "\n",
    "write_gffbed(mp('scap_fwd.bed'),\n",
    "    chrom = df_atac['chrom'],\n",
    "    start = list(l_atac_peak_pos - flank_len),\n",
    "    end = list(l_atac_peak_pos + flank_len),\n",
    "    name = df_scap_fwd['scap_mode_count'],\n",
    "    strand = '+',\n",
    "    attr = df_scap_fwd[l_scap_col],\n",
    "    itemRgb = map(itemRgb_, df_scap_fwd['scap_pass']),\n",
    ")\n",
    "\n",
    "write_gffbed(mp('scap_rev.bed'),\n",
    "    chrom = df_atac['chrom'],\n",
    "    start = list(l_atac_peak_pos - flank_len),\n",
    "    end = list(l_atac_peak_pos + flank_len),\n",
    "    name = df_scap_rev['scap_mode_count'],\n",
    "    strand = '-',\n",
    "    attr = df_scap_rev[l_scap_col],\n",
    "    itemRgb = map(itemRgb_, df_scap_rev['scap_pass']),\n",
    ")\n",
    "\n",
    "df_scap_fwd[l_scap_col].to_csv(mp('scap_fwd.tsv'), header=True, index=False, sep='\\t')\n",
    "df_scap_rev[l_scap_col].to_csv(mp('scap_rev.tsv'), header=True, index=False, sep='\\t')"
   ]
  },
  {
   "cell_type": "code",
   "execution_count": null,
   "metadata": {
    "collapsed": true
   },
   "outputs": [],
   "source": []
  }
 ],
 "metadata": {
  "kernelspec": {
   "display_name": "Python 3",
   "language": "python",
   "name": "python3"
  },
  "language_info": {
   "codemirror_mode": {
    "name": "ipython",
    "version": 3
   },
   "file_extension": ".py",
   "mimetype": "text/x-python",
   "name": "python",
   "nbconvert_exporter": "python",
   "pygments_lexer": "ipython3",
   "version": "3.6.2"
  }
 },
 "nbformat": 4,
 "nbformat_minor": 2
}
