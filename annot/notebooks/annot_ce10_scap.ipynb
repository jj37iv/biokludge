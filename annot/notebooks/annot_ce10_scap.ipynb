{
 "cells": [
  {
   "cell_type": "code",
   "execution_count": 1,
   "metadata": {
    "ExecuteTime": {
     "end_time": "2018-05-25T16:52:42.942670Z",
     "start_time": "2018-05-25T16:52:37.330902Z"
    }
   },
   "outputs": [
    {
     "name": "stderr",
     "output_type": "stream",
     "text": [
      "/mnt/home3/jj374/anaconda36/lib/python3.6/site-packages/statsmodels/compat/pandas.py:56: FutureWarning: The pandas.core.datetools module is deprecated and will be removed in a future version. Please use the pandas.tseries module instead.\n",
      "  from pandas.core import datetools\n"
     ]
    },
    {
     "name": "stdout",
     "output_type": "stream",
     "text": [
      "os.getcwd(): /mnt/beegfs/scratch_copy/ahringer/jj374/lab/relmapping\n"
     ]
    }
   ],
   "source": [
    "# Set annotation to annot_ce10\n",
    "%run ~/relmapping/annot/notebooks/__init__.ipynb\n",
    "annot = 'annot_ce10'\n",
    "def vp(fp): return os.path.join(config[annot]['loc_metrics'], fp)"
   ]
  },
  {
   "cell_type": "code",
   "execution_count": null,
   "metadata": {
    "ExecuteTime": {
     "start_time": "2018-05-25T16:53:49.371Z"
    }
   },
   "outputs": [
    {
     "data": {
      "text/html": [
       "<div>\n",
       "<style>\n",
       "    .dataframe thead tr:only-child th {\n",
       "        text-align: right;\n",
       "    }\n",
       "\n",
       "    .dataframe thead th {\n",
       "        text-align: left;\n",
       "    }\n",
       "\n",
       "    .dataframe tbody tr th {\n",
       "        vertical-align: top;\n",
       "    }\n",
       "</style>\n",
       "<table border=\"1\" class=\"dataframe\">\n",
       "  <thead>\n",
       "    <tr style=\"text-align: right;\">\n",
       "      <th></th>\n",
       "      <th>chrom</th>\n",
       "      <th>start</th>\n",
       "      <th>end</th>\n",
       "    </tr>\n",
       "  </thead>\n",
       "  <tbody>\n",
       "    <tr>\n",
       "      <th>0</th>\n",
       "      <td>chrI</td>\n",
       "      <td>1900</td>\n",
       "      <td>2051</td>\n",
       "    </tr>\n",
       "    <tr>\n",
       "      <th>1</th>\n",
       "      <td>chrI</td>\n",
       "      <td>3826</td>\n",
       "      <td>3977</td>\n",
       "    </tr>\n",
       "    <tr>\n",
       "      <th>2</th>\n",
       "      <td>chrI</td>\n",
       "      <td>4276</td>\n",
       "      <td>4427</td>\n",
       "    </tr>\n",
       "    <tr>\n",
       "      <th>3</th>\n",
       "      <td>chrI</td>\n",
       "      <td>11272</td>\n",
       "      <td>11423</td>\n",
       "    </tr>\n",
       "    <tr>\n",
       "      <th>4</th>\n",
       "      <td>chrI</td>\n",
       "      <td>13070</td>\n",
       "      <td>13221</td>\n",
       "    </tr>\n",
       "  </tbody>\n",
       "</table>\n",
       "</div>"
      ],
      "text/plain": [
       "  chrom  start    end\n",
       "0  chrI   1900   2051\n",
       "1  chrI   3826   3977\n",
       "2  chrI   4276   4427\n",
       "3  chrI  11272  11423\n",
       "4  chrI  13070  13221"
      ]
     },
     "execution_count": 2,
     "metadata": {},
     "output_type": "execute_result"
    }
   ],
   "source": [
    "# Load long cap jump & exon data\n",
    "df_atac = pd.read_csv(config[annot]['fp_sites_tsv'], sep='\\t')[yp.NAMES_BED3]\n",
    "l_atac_peak_pos = df_atac[['start', 'end']].mean(axis=1).map(int)\n",
    "df_atac.head()"
   ]
  },
  {
   "cell_type": "code",
   "execution_count": null,
   "metadata": {
    "ExecuteTime": {
     "start_time": "2018-05-25T16:53:49.374Z"
    }
   },
   "outputs": [],
   "source": [
    "# scap_count <- <scap tags within region>; scap_mode_raw <- <scap mode position>; scap_mode_count <- <tags at mode>\n",
    "fp_fwd = pf('scap815_wt_all', 'tg_se.bwa_se.rm_unmapped.rm_chrM.rm_blacklist.rm_non_coding.rm_q10.firstbp_fwd.gt0x2', '.bw', 'scap815')\n",
    "fp_rev = pf('scap815_wt_all', 'tg_se.bwa_se.rm_unmapped.rm_chrM.rm_blacklist.rm_non_coding.rm_q10.firstbp_rev.gt0x2', '.bw', 'scap815')\n",
    "\n",
    "flank_len = 125\n",
    "chroms_ = list(df_atac['chrom'])\n",
    "starts_ = list(l_atac_peak_pos - flank_len)\n",
    "ends_ =  list(l_atac_peak_pos + flank_len)\n",
    "\n",
    "df_scap_fwd = pd.DataFrame()\n",
    "df_scap_rev = pd.DataFrame()\n",
    "df_scap_fwd['scap_count'] = [*map(lambda c: int(np.nansum(c)), yp.read_regions(fp_fwd, chroms_, starts_, ends_))]\n",
    "df_scap_rev['scap_count'] = [*map(lambda c: int(np.nansum(c)), yp.read_regions(fp_rev, chroms_, starts_, ends_))]\n",
    "\n",
    "def scap_mode_count_(c): return int(np.nan_to_num(np.nanmax(c)))\n",
    "df_scap_fwd['scap_mode_count'] = [*map(scap_mode_count_, yp.read_regions(fp_fwd, chroms_, starts_, ends_))]\n",
    "df_scap_rev['scap_mode_count'] = [*map(scap_mode_count_, yp.read_regions(fp_rev, chroms_, starts_, ends_))]\n",
    "\n",
    "df_scap_fwd['scap_pass'] = df_scap_fwd['scap_mode_count'] >= 2\n",
    "df_scap_rev['scap_pass'] = df_scap_rev['scap_mode_count'] >= 2\n",
    "\n",
    "n = float(len(df_atac))\n",
    "n_scap_fwd = len(df_scap_fwd.query('scap_mode_count >= 2'))\n",
    "n_scap_rev = len(df_scap_rev.query('scap_mode_count >= 2'))\n",
    "n_scap_bid = sum((df_scap_fwd['scap_mode_count'] >= 2) & (df_scap_rev['scap_mode_count'] >= 2))\n",
    "n_scap_either = sum((df_scap_fwd['scap_mode_count'] >= 2) | (df_scap_rev['scap_mode_count'] >= 2))\n",
    "print(n_scap_fwd, n_scap_rev, n_scap_bid, n_scap_either, 'fwd/rev/both/either in pooled scap')\n",
    "print(n_scap_fwd / n, n_scap_rev / n, n_scap_bid / n, n_scap_either / n)"
   ]
  },
  {
   "cell_type": "code",
   "execution_count": null,
   "metadata": {
    "ExecuteTime": {
     "start_time": "2018-05-25T16:53:49.376Z"
    }
   },
   "outputs": [],
   "source": [
    "# \"Extrapolate\" likely regions of txn initiation based on peak accessibility\n",
    "# On average, short cap modes are spaced by 120bp\n",
    "# Extrapolate short cap modes by peak accessibility +/- 60 (120bp/2) if no short cap mode was found\n",
    "# (These \"extrapolated\" short cap modes can be discarded by filtering for scap_mode_count > 0)\n",
    "def scap_mode_fwd_(scap_mode_raw, scap_mode_count, atac_mode):\n",
    "    if scap_mode_count > 0:\n",
    "        return scap_mode_raw\n",
    "    else:\n",
    "        return atac_mode + 60\n",
    "\n",
    "def scap_mode_rev_(scap_mode_raw, scap_mode_count, atac_mode):\n",
    "    if scap_mode_count > 0:\n",
    "        return scap_mode_raw\n",
    "    else:\n",
    "        return atac_mode - 60\n",
    "\n",
    "def scap_mode_raw_(s, c): return int(s + yp.nanargmax_median(c))\n",
    "df_scap_fwd['scap_mode_raw'] = [*map(scap_mode_raw_, starts_, yp.read_regions(fp_fwd, chroms_, starts_, ends_))]\n",
    "df_scap_rev['scap_mode_raw'] = [*map(scap_mode_raw_, starts_, yp.read_regions(fp_rev, chroms_, starts_, ends_))]\n",
    "\n",
    "df_scap_fwd['scap_mode'] = [*map(scap_mode_fwd_, df_scap_fwd['scap_mode_raw'], df_scap_fwd['scap_mode_count'], l_atac_peak_pos)]\n",
    "df_scap_rev['scap_mode'] = [*map(scap_mode_rev_, df_scap_rev['scap_mode_raw'], df_scap_rev['scap_mode_count'], l_atac_peak_pos)]\n",
    "\n",
    "m = (df_scap_fwd['scap_mode_count'] >= 2) & (df_scap_rev['scap_mode_count'] >= 2)\n",
    "print(np.median(df_scap_fwd[m]['scap_mode_raw'] - df_scap_rev[m]['scap_mode_raw']), 'median mode >= 2 tags')\n",
    "m = (df_scap_fwd['scap_mode_count'] >= 10) & (df_scap_rev['scap_mode_count'] >= 10)\n",
    "print(np.median(df_scap_fwd[m]['scap_mode_raw'] - df_scap_rev[m]['scap_mode_raw']), 'median mode (>= 10 tags)')\n",
    "\n",
    "print('%d / %d sites with extrapolated txn initiation' % (\n",
    "    len(df_scap_fwd.query('scap_mode_count == 0')), \n",
    "    len(df_scap_rev.query('scap_mode_count == 0'))\n",
    "))"
   ]
  },
  {
   "cell_type": "code",
   "execution_count": null,
   "metadata": {
    "ExecuteTime": {
     "start_time": "2018-05-25T16:53:49.378Z"
    }
   },
   "outputs": [],
   "source": [
    "# scap_%strand.bed <- txn initiation statistics\n",
    "def itemRgb_(flag): return yp.ORANGE if flag else yp.BLUE\n",
    "\n",
    "l_scap_col = ['scap_count', 'scap_mode_count', 'scap_pass', 'scap_mode_raw', 'scap_mode']\n",
    "\n",
    "write_gffbed(vp('scap_fwd.bed'),\n",
    "    chrom = df_atac['chrom'],\n",
    "    start = list(l_atac_peak_pos - flank_len),\n",
    "    end = list(l_atac_peak_pos + flank_len),\n",
    "    name = df_scap_fwd['scap_mode_count'],\n",
    "    strand = '+',\n",
    "    attr = df_scap_fwd[l_scap_col],\n",
    "    itemRgb = map(itemRgb_, df_scap_fwd['scap_pass']),\n",
    ")\n",
    "\n",
    "write_gffbed(vp('scap_rev.bed'),\n",
    "    chrom = df_atac['chrom'],\n",
    "    start = list(l_atac_peak_pos - flank_len),\n",
    "    end = list(l_atac_peak_pos + flank_len),\n",
    "    name = df_scap_rev['scap_mode_count'],\n",
    "    strand = '-',\n",
    "    attr = df_scap_rev[l_scap_col],\n",
    "    itemRgb = map(itemRgb_, df_scap_rev['scap_pass']),\n",
    ")\n",
    "\n",
    "df_scap_fwd[l_scap_col].to_csv(vp('scap_fwd.tsv'), header=True, index=False, sep='\\t')\n",
    "df_scap_rev[l_scap_col].to_csv(vp('scap_rev.tsv'), header=True, index=False, sep='\\t')"
   ]
  }
 ],
 "metadata": {
  "kernelspec": {
   "display_name": "Python 3",
   "language": "python",
   "name": "python3"
  },
  "language_info": {
   "codemirror_mode": {
    "name": "ipython",
    "version": 3
   },
   "file_extension": ".py",
   "mimetype": "text/x-python",
   "name": "python",
   "nbconvert_exporter": "python",
   "pygments_lexer": "ipython3",
   "version": "3.6.2"
  }
 },
 "nbformat": 4,
 "nbformat_minor": 2
}
