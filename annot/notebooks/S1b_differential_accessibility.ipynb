{
 "cells": [
  {
   "cell_type": "code",
   "execution_count": 1,
   "metadata": {
    "ExecuteTime": {
     "end_time": "2017-10-31T15:12:05.888272Z",
     "start_time": "2017-10-31T15:11:54.334456Z"
    }
   },
   "outputs": [
    {
     "name": "stderr",
     "output_type": "stream",
     "text": [
      "/mnt/home3/jj374/anaconda36/lib/python3.6/site-packages/statsmodels/compat/pandas.py:56: FutureWarning: The pandas.core.datetools module is deprecated and will be removed in a future version. Please use the pandas.tseries module instead.\n",
      "  from pandas.core import datetools\n"
     ]
    },
    {
     "name": "stdout",
     "output_type": "stream",
     "text": [
      "os.getcwd(): /mnt/b2/scratch/ahringer/jj374/lab/relmapping\n"
     ]
    }
   ],
   "source": [
    "%run ~/relmapping/annot/notebooks/__init__.ipynb"
   ]
  },
  {
   "cell_type": "code",
   "execution_count": 8,
   "metadata": {
    "ExecuteTime": {
     "end_time": "2017-10-31T15:16:54.135604Z",
     "start_time": "2017-10-31T15:16:53.121701Z"
    }
   },
   "outputs": [
    {
     "data": {
      "text/html": [
       "<div>\n",
       "<style>\n",
       "    .dataframe thead tr:only-child th {\n",
       "        text-align: right;\n",
       "    }\n",
       "\n",
       "    .dataframe thead th {\n",
       "        text-align: left;\n",
       "    }\n",
       "\n",
       "    .dataframe tbody tr th {\n",
       "        vertical-align: top;\n",
       "    }\n",
       "</style>\n",
       "<table border=\"1\" class=\"dataframe\">\n",
       "  <thead>\n",
       "    <tr style=\"text-align: right;\">\n",
       "      <th></th>\n",
       "      <th>chrom</th>\n",
       "      <th>start</th>\n",
       "      <th>end</th>\n",
       "      <th>atac_mode</th>\n",
       "      <th>atac_source</th>\n",
       "      <th>atac_wt_emb_height</th>\n",
       "      <th>atac_wt_l1_height</th>\n",
       "      <th>atac_wt_l2_height</th>\n",
       "      <th>atac_wt_l3_height</th>\n",
       "      <th>atac_wt_l4_height</th>\n",
       "      <th>...</th>\n",
       "      <th>atac_glp1_d7_rep1_maxcount</th>\n",
       "      <th>atac_glp1_d7_rep2_maxcount</th>\n",
       "      <th>atac_glp1_d10_rep1_maxcount</th>\n",
       "      <th>atac_glp1_d10_rep2_maxcount</th>\n",
       "      <th>atac_glp1_d14_rep1_maxcount</th>\n",
       "      <th>atac_glp1_d14_rep2_maxcount</th>\n",
       "      <th>atac_gon2gem1_ya_rep1_maxcount</th>\n",
       "      <th>atac_gon2gem1_ya_rep2_maxcount</th>\n",
       "      <th>atac_gon2gem1_d3_rep1_maxcount</th>\n",
       "      <th>atac_gon2gem1_d3_rep2_maxcount</th>\n",
       "    </tr>\n",
       "  </thead>\n",
       "  <tbody>\n",
       "    <tr>\n",
       "      <th>0</th>\n",
       "      <td>chrI</td>\n",
       "      <td>1870</td>\n",
       "      <td>2092</td>\n",
       "      <td>1981</td>\n",
       "      <td>atac_wt_se</td>\n",
       "      <td>1.621415</td>\n",
       "      <td>1.459215</td>\n",
       "      <td>1.354735</td>\n",
       "      <td>1.672520</td>\n",
       "      <td>1.204265</td>\n",
       "      <td>...</td>\n",
       "      <td>33.0</td>\n",
       "      <td>33.0</td>\n",
       "      <td>36.0</td>\n",
       "      <td>42.0</td>\n",
       "      <td>28.0</td>\n",
       "      <td>58.0</td>\n",
       "      <td>28.0</td>\n",
       "      <td>32.0</td>\n",
       "      <td>33.0</td>\n",
       "      <td>59.0</td>\n",
       "    </tr>\n",
       "    <tr>\n",
       "      <th>1</th>\n",
       "      <td>chrI</td>\n",
       "      <td>3809</td>\n",
       "      <td>3994</td>\n",
       "      <td>3901</td>\n",
       "      <td>atac_wt_pe</td>\n",
       "      <td>61.688004</td>\n",
       "      <td>55.224873</td>\n",
       "      <td>69.346062</td>\n",
       "      <td>123.587425</td>\n",
       "      <td>165.852905</td>\n",
       "      <td>...</td>\n",
       "      <td>1820.0</td>\n",
       "      <td>2072.0</td>\n",
       "      <td>1650.0</td>\n",
       "      <td>2596.0</td>\n",
       "      <td>1316.0</td>\n",
       "      <td>1422.0</td>\n",
       "      <td>2601.0</td>\n",
       "      <td>4677.0</td>\n",
       "      <td>2858.0</td>\n",
       "      <td>2812.0</td>\n",
       "    </tr>\n",
       "    <tr>\n",
       "      <th>2</th>\n",
       "      <td>chrI</td>\n",
       "      <td>4302</td>\n",
       "      <td>4410</td>\n",
       "      <td>4356</td>\n",
       "      <td>atac_wt_se</td>\n",
       "      <td>1.458345</td>\n",
       "      <td>2.518715</td>\n",
       "      <td>2.017625</td>\n",
       "      <td>3.193275</td>\n",
       "      <td>5.416205</td>\n",
       "      <td>...</td>\n",
       "      <td>50.0</td>\n",
       "      <td>37.0</td>\n",
       "      <td>67.0</td>\n",
       "      <td>65.0</td>\n",
       "      <td>39.0</td>\n",
       "      <td>58.0</td>\n",
       "      <td>72.0</td>\n",
       "      <td>98.0</td>\n",
       "      <td>59.0</td>\n",
       "      <td>98.0</td>\n",
       "    </tr>\n",
       "    <tr>\n",
       "      <th>3</th>\n",
       "      <td>chrI</td>\n",
       "      <td>11245</td>\n",
       "      <td>11465</td>\n",
       "      <td>11355</td>\n",
       "      <td>atac_wt_pe</td>\n",
       "      <td>2.679690</td>\n",
       "      <td>4.330160</td>\n",
       "      <td>9.348130</td>\n",
       "      <td>10.026175</td>\n",
       "      <td>10.876090</td>\n",
       "      <td>...</td>\n",
       "      <td>452.0</td>\n",
       "      <td>554.0</td>\n",
       "      <td>412.0</td>\n",
       "      <td>668.0</td>\n",
       "      <td>314.0</td>\n",
       "      <td>555.0</td>\n",
       "      <td>371.0</td>\n",
       "      <td>458.0</td>\n",
       "      <td>375.0</td>\n",
       "      <td>416.0</td>\n",
       "    </tr>\n",
       "    <tr>\n",
       "      <th>4</th>\n",
       "      <td>chrI</td>\n",
       "      <td>13087</td>\n",
       "      <td>13207</td>\n",
       "      <td>13147</td>\n",
       "      <td>atac_wt_pe</td>\n",
       "      <td>5.160855</td>\n",
       "      <td>3.462505</td>\n",
       "      <td>3.761785</td>\n",
       "      <td>3.173980</td>\n",
       "      <td>2.518795</td>\n",
       "      <td>...</td>\n",
       "      <td>53.0</td>\n",
       "      <td>61.0</td>\n",
       "      <td>63.0</td>\n",
       "      <td>116.0</td>\n",
       "      <td>68.0</td>\n",
       "      <td>103.0</td>\n",
       "      <td>76.0</td>\n",
       "      <td>95.0</td>\n",
       "      <td>64.0</td>\n",
       "      <td>95.0</td>\n",
       "    </tr>\n",
       "  </tbody>\n",
       "</table>\n",
       "<p>5 rows × 72 columns</p>\n",
       "</div>"
      ],
      "text/plain": [
       "  chrom  start    end  atac_mode atac_source  atac_wt_emb_height  \\\n",
       "0  chrI   1870   2092       1981  atac_wt_se            1.621415   \n",
       "1  chrI   3809   3994       3901  atac_wt_pe           61.688004   \n",
       "2  chrI   4302   4410       4356  atac_wt_se            1.458345   \n",
       "3  chrI  11245  11465      11355  atac_wt_pe            2.679690   \n",
       "4  chrI  13087  13207      13147  atac_wt_pe            5.160855   \n",
       "\n",
       "   atac_wt_l1_height  atac_wt_l2_height  atac_wt_l3_height  atac_wt_l4_height  \\\n",
       "0           1.459215           1.354735           1.672520           1.204265   \n",
       "1          55.224873          69.346062         123.587425         165.852905   \n",
       "2           2.518715           2.017625           3.193275           5.416205   \n",
       "3           4.330160           9.348130          10.026175          10.876090   \n",
       "4           3.462505           3.761785           3.173980           2.518795   \n",
       "\n",
       "                ...                atac_glp1_d7_rep1_maxcount  \\\n",
       "0               ...                                      33.0   \n",
       "1               ...                                    1820.0   \n",
       "2               ...                                      50.0   \n",
       "3               ...                                     452.0   \n",
       "4               ...                                      53.0   \n",
       "\n",
       "   atac_glp1_d7_rep2_maxcount  atac_glp1_d10_rep1_maxcount  \\\n",
       "0                        33.0                         36.0   \n",
       "1                      2072.0                       1650.0   \n",
       "2                        37.0                         67.0   \n",
       "3                       554.0                        412.0   \n",
       "4                        61.0                         63.0   \n",
       "\n",
       "   atac_glp1_d10_rep2_maxcount  atac_glp1_d14_rep1_maxcount  \\\n",
       "0                         42.0                         28.0   \n",
       "1                       2596.0                       1316.0   \n",
       "2                         65.0                         39.0   \n",
       "3                        668.0                        314.0   \n",
       "4                        116.0                         68.0   \n",
       "\n",
       "   atac_glp1_d14_rep2_maxcount  atac_gon2gem1_ya_rep1_maxcount  \\\n",
       "0                         58.0                            28.0   \n",
       "1                       1422.0                          2601.0   \n",
       "2                         58.0                            72.0   \n",
       "3                        555.0                           371.0   \n",
       "4                        103.0                            76.0   \n",
       "\n",
       "   atac_gon2gem1_ya_rep2_maxcount  atac_gon2gem1_d3_rep1_maxcount  \\\n",
       "0                            32.0                            33.0   \n",
       "1                          4677.0                          2858.0   \n",
       "2                            98.0                            59.0   \n",
       "3                           458.0                           375.0   \n",
       "4                            95.0                            64.0   \n",
       "\n",
       "   atac_gon2gem1_d3_rep2_maxcount  \n",
       "0                            59.0  \n",
       "1                          2812.0  \n",
       "2                            98.0  \n",
       "3                           416.0  \n",
       "4                            95.0  \n",
       "\n",
       "[5 rows x 72 columns]"
      ]
     },
     "execution_count": 8,
     "metadata": {},
     "output_type": "execute_result"
    }
   ],
   "source": [
    "# Load sites and read counts\n",
    "fp_sites = 'annot/S1_accessible_sites/S1a_accessible_sites.tsv'\n",
    "df_sites = pd.read_csv(fp_sites, sep='\\t')#.query('(atac_source == \"atac_wt_pe\") | (atac_source == \"atac_wt_se\")')\n",
    "df_sites.head()"
   ]
  },
  {
   "cell_type": "code",
   "execution_count": 9,
   "metadata": {
    "ExecuteTime": {
     "end_time": "2017-10-31T15:16:55.958699Z",
     "start_time": "2017-10-31T15:16:55.872663Z"
    }
   },
   "outputs": [
    {
     "data": {
      "text/plain": [
       "atac_wt_pe      30160\n",
       "atac_glp1_se     6517\n",
       "atac_wt_se       5568\n",
       "Name: atac_source, dtype: int64"
      ]
     },
     "execution_count": 9,
     "metadata": {},
     "output_type": "execute_result"
    }
   ],
   "source": [
    "df_sites['atac_source'].value_counts()"
   ]
  },
  {
   "cell_type": "code",
   "execution_count": 11,
   "metadata": {
    "ExecuteTime": {
     "end_time": "2017-10-31T15:18:42.333288Z",
     "start_time": "2017-10-31T15:18:39.957119Z"
    },
    "collapsed": true
   },
   "outputs": [],
   "source": [
    "fp_ = 'annot/S1_accessible_sites/S1a_accessible_sites.wt.bed'\n",
    "df_sites.query('atac_source != \"atac_glp1_se\"')[['chrom', 'start', 'end']].to_csv(fp_, sep='\\t', index=None, header=None)\n",
    "\n",
    "fp_ = 'annot/S1_accessible_sites/S1a_accessible_sites.glp1_only.bed'\n",
    "df_sites.query('atac_source == \"atac_glp1_se\"')[['chrom', 'start', 'end']].to_csv(fp_, sep='\\t', index=None, header=None)"
   ]
  },
  {
   "cell_type": "code",
   "execution_count": 3,
   "metadata": {
    "ExecuteTime": {
     "end_time": "2017-09-26T16:01:16.001113Z",
     "start_time": "2017-09-26T17:00:53.072400+01:00"
    },
    "scrolled": true
   },
   "outputs": [
    {
     "name": "stdout",
     "output_type": "stream",
     "text": [
      "estimating size factors\n",
      "estimating size factors\n",
      "estimating size factors\n",
      "estimating size factors\n",
      "estimating dispersions\n",
      "gene-wise dispersion estimates\n",
      "estimating size factors\n",
      "estimating size factors\n",
      "estimating size factors\n",
      "estimating size factors\n",
      "estimating size factors\n",
      "estimating size factors\n",
      "estimating size factors\n",
      "estimating dispersions\n",
      "gene-wise dispersion estimates\n",
      "estimating dispersions\n",
      "gene-wise dispersion estimates\n",
      "estimating dispersions\n",
      "estimating size factors\n",
      "estimating size factors\n",
      "gene-wise dispersion estimates\n",
      "estimating dispersions\n",
      "gene-wise dispersion estimates\n",
      "estimating size factors\n",
      "estimating dispersions\n",
      "gene-wise dispersion estimates\n",
      "estimating size factors\n",
      "estimating dispersions\n",
      "gene-wise dispersion estimates\n",
      "estimating dispersions\n",
      "estimating dispersions\n",
      "estimating dispersions\n",
      "gene-wise dispersion estimates\n",
      "gene-wise dispersion estimates\n",
      "gene-wise dispersion estimates\n",
      "estimating dispersions\n",
      "gene-wise dispersion estimates\n",
      "estimating dispersions\n",
      "gene-wise dispersion estimates\n",
      "estimating dispersions\n",
      "gene-wise dispersion estimates\n",
      "estimating dispersions\n",
      "gene-wise dispersion estimates\n",
      "estimating dispersions\n",
      "gene-wise dispersion estimates\n",
      "mean-dispersion relationship\n",
      "mean-dispersion relationship\n",
      "mean-dispersion relationship\n",
      "mean-dispersion relationship\n",
      "mean-dispersion relationship\n",
      "mean-dispersion relationship\n",
      "mean-dispersion relationship\n",
      "mean-dispersion relationship\n",
      "mean-dispersion relationship\n",
      "mean-dispersion relationship\n",
      "mean-dispersion relationship\n",
      "mean-dispersion relationship\n",
      "mean-dispersion relationship\n",
      "mean-dispersion relationship\n",
      "mean-dispersion relationship\n",
      "final dispersion estimates\n",
      "final dispersion estimates\n",
      "final dispersion estimates\n",
      "final dispersion estimates\n",
      "final dispersion estimates\n",
      "final dispersion estimates\n",
      "final dispersion estimates\n",
      "final dispersion estimates\n",
      "final dispersion estimates\n",
      "final dispersion estimates\n",
      "final dispersion estimates\n",
      "final dispersion estimates\n",
      "final dispersion estimates\n",
      "final dispersion estimates\n",
      "final dispersion estimates\n",
      "fitting model and testing\n",
      "fitting model and testing\n",
      "fitting model and testing\n",
      "fitting model and testing\n",
      "fitting model and testing\n",
      "fitting model and testing\n",
      "fitting model and testing\n",
      "fitting model and testing\n",
      "fitting model and testing\n",
      "fitting model and testing\n",
      "fitting model and testing\n",
      "fitting model and testing\n",
      "fitting model and testing\n",
      "fitting model and testing\n",
      "fitting model and testing\n"
     ]
    },
    {
     "name": "stderr",
     "output_type": "stream",
     "text": [
      "[Parallel(n_jobs=15)]: Done  15 out of  15 | elapsed:   22.7s finished\n"
     ]
    }
   ],
   "source": [
    "# DESeq on all pairwise combinations of wt stages \n",
    "def deseq2x2(df_counts, prefix=None):\n",
    "    fh_inp, fp_inp = tempfile.mkstemp(dir=os.path.join(os.getcwd(), 'tmp/'), prefix='deseq2x2_inp_')\n",
    "    fh_out, fp_out = tempfile.mkstemp(dir=os.path.join(os.getcwd(), 'tmp/'), prefix='deseq2x2_out_')\n",
    "    df_counts.to_csv(fp_inp, sep='\\t')\n",
    "    !cat {fp_inp} | scripts/deseq2x2.R > {fp_out}\n",
    "    #!wc -l {fp_inp}\n",
    "    #!wc -l {fp_out}\n",
    "    #!tail -n 20 {fp_out}\n",
    "    df_out = pd.read_csv(fp_out, sep='\\s+')\n",
    "    !rm {fp_inp}\n",
    "    !rm {fp_out}\n",
    "    if not(prefix is None):\n",
    "        df_out.columns = [prefix + '_' + column for column in df_out.columns]\n",
    "    return df_out\n",
    "\n",
    "def deseq2x2_stages(stages):\n",
    "    (stage1, stage2) = stages\n",
    "    return deseq2x2(df_sites[[\n",
    "        'atac_%s_rep1_count' % (stage1,), \n",
    "        'atac_%s_rep2_count' % (stage1,),\n",
    "        'atac_%s_rep1_count' % (stage2,),\n",
    "        'atac_%s_rep2_count' % (stage2,),\n",
    "    ]], prefix = 'atac_%s_to_%s' % (stage1, stage2))\n",
    "\n",
    "l_pairwise_deseq = pmap(deseq2x2_stages, \n",
    "    [(stage1, stage2) for (stage1, stage2) in itertools.combinations(config['stages_wt'], 2)], n_jobs=15)\n",
    "\n",
    "df_deseq = pd.concat(l_pairwise_deseq, axis=1)"
   ]
  },
  {
   "cell_type": "code",
   "execution_count": 5,
   "metadata": {
    "ExecuteTime": {
     "end_time": "2017-09-26T16:02:18.072971Z",
     "start_time": "2017-09-26T17:02:17.845064+01:00"
    }
   },
   "outputs": [
    {
     "name": "stdout",
     "output_type": "stream",
     "text": [
      "26761 of 35728 sites show any change\n"
     ]
    }
   ],
   "source": [
    "df_fc_padj = pd.DataFrame()\n",
    "df_incr = pd.DataFrame()\n",
    "df_decr = pd.DataFrame()\n",
    "for (stage1, stage2) in itertools.combinations(config['stages_wt'], 2):\n",
    "    col_log2FoldChange = 'atac_%s_to_%s_log2FoldChange' % (stage1, stage2)\n",
    "    col_padj = 'atac_%s_to_%s_padj' % (stage1, stage2)\n",
    "    col_incr = 'atac_%s_to_%s_incr' % (stage1, stage2)\n",
    "    col_decr = 'atac_%s_to_%s_decr' % (stage1, stage2)\n",
    "    df_fc_padj[col_log2FoldChange] = df_deseq[col_log2FoldChange]\n",
    "    df_fc_padj[col_padj] = df_deseq[col_padj]\n",
    "    df_incr[col_incr] = (df_fc_padj[col_log2FoldChange] > +1) & (df_fc_padj[col_padj] < 0.01)\n",
    "    df_decr[col_decr] = (df_fc_padj[col_log2FoldChange] < -1) & (df_fc_padj[col_padj] < 0.01)\n",
    "\n",
    "print(sum(pd.concat([df_incr, df_decr], axis=1).any(axis=1)), 'of', len(df_deseq), 'sites show any change')"
   ]
  },
  {
   "cell_type": "code",
   "execution_count": 4,
   "metadata": {
    "ExecuteTime": {
     "end_time": "2017-09-26T16:02:04.830594Z",
     "start_time": "2017-09-26T17:01:42.765441+01:00"
    },
    "scrolled": true
   },
   "outputs": [
    {
     "name": "stdout",
     "output_type": "stream",
     "text": [
      "estimating size factors\n",
      "estimating size factors\n",
      "estimating size factors\n",
      "estimating size factors\n",
      "estimating size factors\n",
      "estimating size factors\n",
      "estimating size factors\n",
      "estimating size factors\n",
      "estimating size factors\n",
      "estimating dispersions\n",
      "gene-wise dispersion estimates\n",
      "estimating size factors\n",
      "estimating size factors\n",
      "estimating size factors\n",
      "estimating dispersions\n",
      "gene-wise dispersion estimates\n",
      "estimating dispersions\n",
      "estimating dispersions\n",
      "gene-wise dispersion estimates\n",
      "estimating size factors\n",
      "gene-wise dispersion estimates\n",
      "estimating dispersions\n",
      "gene-wise dispersion estimates\n",
      "estimating dispersions\n",
      "gene-wise dispersion estimates\n",
      "estimating dispersions\n",
      "gene-wise dispersion estimates\n",
      "estimating dispersions\n",
      "gene-wise dispersion estimates\n",
      "estimating dispersions\n",
      "gene-wise dispersion estimates\n",
      "estimating dispersions\n",
      "gene-wise dispersion estimates\n",
      "estimating dispersions\n",
      "estimating dispersions\n",
      "estimating size factors\n",
      "gene-wise dispersion estimates\n",
      "gene-wise dispersion estimates\n",
      "estimating dispersions\n",
      "gene-wise dispersion estimates\n",
      "estimating size factors\n",
      "estimating dispersions\n",
      "gene-wise dispersion estimates\n",
      "estimating dispersions\n",
      "gene-wise dispersion estimates\n",
      "mean-dispersion relationship\n",
      "mean-dispersion relationship\n",
      "final dispersion estimates\n",
      "final dispersion estimates\n",
      "mean-dispersion relationship\n",
      "mean-dispersion relationship\n",
      "mean-dispersion relationship\n",
      "final dispersion estimates\n",
      "final dispersion estimates\n",
      "final dispersion estimates\n",
      "mean-dispersion relationship\n",
      "mean-dispersion relationship\n",
      "mean-dispersion relationship\n",
      "final dispersion estimates\n",
      "mean-dispersion relationship\n",
      "final dispersion estimates\n",
      "mean-dispersion relationship\n",
      "mean-dispersion relationship\n",
      "final dispersion estimates\n",
      "final dispersion estimates\n",
      "mean-dispersion relationship\n",
      "mean-dispersion relationship\n",
      "final dispersion estimates\n",
      "final dispersion estimates\n",
      "final dispersion estimates\n",
      "final dispersion estimates\n",
      "mean-dispersion relationship\n",
      "final dispersion estimates\n",
      "mean-dispersion relationship\n",
      "final dispersion estimates\n",
      "fitting model and testing\n",
      "fitting model and testing\n",
      "fitting model and testing\n",
      "fitting model and testing\n",
      "fitting model and testing\n",
      "fitting model and testing\n",
      "fitting model and testing\n",
      "fitting model and testing\n",
      "fitting model and testing\n",
      "fitting model and testing\n",
      "fitting model and testing\n",
      "fitting model and testing\n",
      "fitting model and testing\n",
      "fitting model and testing\n",
      "fitting model and testing\n"
     ]
    },
    {
     "name": "stderr",
     "output_type": "stream",
     "text": [
      "[Parallel(n_jobs=15)]: Done  15 out of  15 | elapsed:   21.6s finished\n"
     ]
    }
   ],
   "source": [
    "# DESeq on all pairwise combinations of wt stages (max)\n",
    "def deseq2x2(df_counts, prefix=None):\n",
    "    fh_inp, fp_inp = tempfile.mkstemp(dir=os.path.join(os.getcwd(), 'tmp/'), prefix='deseq2x2_inp_')\n",
    "    fh_out, fp_out = tempfile.mkstemp(dir=os.path.join(os.getcwd(), 'tmp/'), prefix='deseq2x2_out_')\n",
    "    df_counts.to_csv(fp_inp, sep='\\t')\n",
    "    !cat {fp_inp} | scripts/deseq2x2.R > {fp_out}\n",
    "    #!wc -l {fp_inp}\n",
    "    #!wc -l {fp_out}\n",
    "    #!tail -n 20 {fp_out}\n",
    "    df_out = pd.read_csv(fp_out, sep='\\s+')\n",
    "    !rm {fp_inp}\n",
    "    !rm {fp_out}\n",
    "    if not(prefix is None):\n",
    "        df_out.columns = [prefix + '_' + column for column in df_out.columns]\n",
    "    return df_out\n",
    "\n",
    "def deseq2x2_stages(stages):\n",
    "    (stage1, stage2) = stages\n",
    "    return deseq2x2(df_sites[[\n",
    "        'atac_%s_rep1_maxcount' % (stage1,), \n",
    "        'atac_%s_rep2_maxcount' % (stage1,),\n",
    "        'atac_%s_rep1_maxcount' % (stage2,),\n",
    "        'atac_%s_rep2_maxcount' % (stage2,),\n",
    "    ]], prefix = 'atac_%s_to_%s' % (stage1, stage2))\n",
    "\n",
    "l_pairwise_deseq = pmap(deseq2x2_stages, \n",
    "    [(stage1, stage2) for (stage1, stage2) in itertools.combinations(config['stages_wt'], 2)], n_jobs=15)\n",
    "\n",
    "df_deseq_maxcount = pd.concat(l_pairwise_deseq, axis=1)"
   ]
  },
  {
   "cell_type": "code",
   "execution_count": 33,
   "metadata": {
    "ExecuteTime": {
     "end_time": "2017-09-26T16:15:34.997798Z",
     "start_time": "2017-09-26T17:15:34.751631+01:00"
    }
   },
   "outputs": [
    {
     "name": "stdout",
     "output_type": "stream",
     "text": [
      "11378 of 35728 sites show any change\n"
     ]
    }
   ],
   "source": [
    "df_fc_padj = pd.DataFrame()\n",
    "df_incr = pd.DataFrame()\n",
    "df_decr = pd.DataFrame()\n",
    "for (stage1, stage2) in itertools.combinations(config['stages_wt'], 2):\n",
    "    col_log2FoldChange = 'atac_%s_to_%s_log2FoldChange' % (stage1, stage2)\n",
    "    col_padj = 'atac_%s_to_%s_padj' % (stage1, stage2)\n",
    "    col_incr = 'atac_%s_to_%s_incr' % (stage1, stage2)\n",
    "    col_decr = 'atac_%s_to_%s_decr' % (stage1, stage2)\n",
    "    df_fc_padj[col_log2FoldChange] = df_deseq_maxcount[col_log2FoldChange]\n",
    "    df_fc_padj[col_padj] = df_deseq_maxcount[col_padj]\n",
    "    df_incr[col_incr] = (df_fc_padj[col_log2FoldChange] > +np.log2(1.5)) & (df_fc_padj[col_padj] < 0.1)\n",
    "    df_decr[col_decr] = (df_fc_padj[col_log2FoldChange] < -np.log2(1.5)) & (df_fc_padj[col_padj] < 0.1)\n",
    "\n",
    "print(sum(pd.concat([df_incr, df_decr], axis=1).any(axis=1)), 'of', len(df_deseq), 'sites show any change')"
   ]
  },
  {
   "cell_type": "code",
   "execution_count": 40,
   "metadata": {
    "ExecuteTime": {
     "end_time": "2017-09-26T16:18:41.173688Z",
     "start_time": "2017-09-26T17:18:40.939914+01:00"
    }
   },
   "outputs": [
    {
     "data": {
      "text/plain": [
       "15257"
      ]
     },
     "execution_count": 40,
     "metadata": {},
     "output_type": "execute_result"
    }
   ],
   "source": [
    "len(df_fc_padj.query('atac_wt_emb_to_wt_ya_padj != atac_wt_emb_to_wt_ya_padj'))"
   ]
  },
  {
   "cell_type": "code",
   "execution_count": 34,
   "metadata": {
    "ExecuteTime": {
     "end_time": "2017-09-26T16:15:37.022358Z",
     "start_time": "2017-09-26T17:15:35.000416+01:00"
    }
   },
   "outputs": [
    {
     "data": {
      "text/plain": [
       "<matplotlib.text.Text at 0x7f4cde2b2e48>"
      ]
     },
     "execution_count": 34,
     "metadata": {},
     "output_type": "execute_result"
    },
    {
     "data": {
      "image/png": "[encoded data removed]",
      "text/plain": [
       "<matplotlib.figure.Figure at 0x7f4cd696e4a8>"
      ]
     },
     "metadata": {},
     "output_type": "display_data"
    }
   ],
   "source": [
    "# Define constitutive/dynamic\n",
    "df_pats = pd.DataFrame()\n",
    "df_pats[['chrom', 'start', 'end']] = df_sites[['chrom', 'start', 'end']]\n",
    "l_incr = ['atac_%s_to_%s_incr' % (s1, s2) for (s1, s2) in itertools.combinations(config['stages_wt'], 2)]\n",
    "l_decr = ['atac_%s_to_%s_decr' % (s1, s2) for (s1, s2) in itertools.combinations(config['stages_wt'], 2)]\n",
    "m_any = df_diff[l_incr + l_decr].any(axis=1)\n",
    "df_pats['atac_is_dynamic'] = list(map(lambda f: 'dynamic' if f else 'constitutive', m_any))\n",
    "df_pats['atac_is_dynamic'].value_counts()\n",
    "\n",
    "df_diff = pd.concat([df_fc_padj, df_incr, df_decr], axis=1)\n",
    "diff_counts = np.zeros([len(config['stages_wt']), len(config['stages_wt'])])\n",
    "for ((stage1_i, stage1), (stage2_i, stage2)) in itertools.combinations(enumerate(config['stages_wt']), 2):\n",
    "    col_incr = 'atac_%s_to_%s_incr' % (stage1, stage2)\n",
    "    col_decr = 'atac_%s_to_%s_decr' % (stage1, stage2)\n",
    "    diff_counts[stage1_i, stage2_i] = len(df_diff.query(col_incr))\n",
    "    diff_counts[stage2_i, stage1_i] = -len(df_diff.query(col_decr))\n",
    "    \n",
    "plt.figure(figsize=(12,10))\n",
    "ax = plt.gca()\n",
    "clim = max(-diff_counts.min(), diff_counts.max())\n",
    "plt.imshow(diff_counts, interpolation='none', cmap = 'coolwarm', vmin=-clim, vmax=+clim)\n",
    "ax.xaxis.tick_top()\n",
    "ax.set_xticks(range(len(config['stages_wt'])))\n",
    "ax.set_yticks(range(len(config['stages_wt'])))\n",
    "ax.set_xticklabels(config['stages_wt'], rotation=45)\n",
    "ax.set_yticklabels(config['stages_wt'])\n",
    "plt.colorbar()\n",
    "for (y, x), c in np.ndenumerate(diff_counts):\n",
    "    ax.text(x, y, '%d' % (abs(c),), color='k', horizontalalignment='center', verticalalignment='center')\n",
    "\n",
    "n_dynamic = len(df_pats.query('atac_is_dynamic == \"dynamic\"'))\n",
    "n_all = len(df_pats)\n",
    "ax.set_xlabel('Total number of regions with any significant change: %d of %d (%.1f%%)' \\\n",
    "              % (n_dynamic, n_all, 100 * n_dynamic / n_all))\n",
    "#plt.savefig('annot/S1_accessible_sites/differential_accessibility_counts.png' % locals(), bbox_inches='tight')"
   ]
  },
  {
   "cell_type": "code",
   "execution_count": null,
   "metadata": {
    "ExecuteTime": {
     "end_time": "2017-09-19T16:57:58.100868Z",
     "start_time": "2017-09-19T17:57:55.030987+01:00"
    },
    "collapsed": true
   },
   "outputs": [],
   "source": [
    "fp_out = 'annot/S1_accessible_sites/S1b_differential_accessibility_wt.tsv'\n",
    "pd.concat([df_sites[['chrom', 'start', 'end']], df_fc_padj, df_incr, df_decr], axis=1).to_csv(fp_out, sep='\\t', index=False)\n",
    "!wc -l {fp_out}"
   ]
  }
 ],
 "metadata": {
  "kernelspec": {
   "display_name": "Python 3",
   "language": "python",
   "name": "python3"
  },
  "language_info": {
   "codemirror_mode": {
    "name": "ipython",
    "version": 3
   },
   "file_extension": ".py",
   "mimetype": "text/x-python",
   "name": "python",
   "nbconvert_exporter": "python",
   "pygments_lexer": "ipython3",
   "version": "3.6.2"
  }
 },
 "nbformat": 4,
 "nbformat_minor": 1
}
