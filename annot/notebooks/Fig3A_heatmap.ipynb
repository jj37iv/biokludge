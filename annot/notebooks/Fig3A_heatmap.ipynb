{
 "cells": [
  {
   "cell_type": "code",
   "execution_count": 1,
   "metadata": {
    "ExecuteTime": {
     "end_time": "2018-05-02T15:59:12.182401Z",
     "start_time": "2018-05-02T15:59:02.376601Z"
    }
   },
   "outputs": [
    {
     "name": "stderr",
     "output_type": "stream",
     "text": [
      "/mnt/home3/jj374/anaconda36/lib/python3.6/site-packages/statsmodels/compat/pandas.py:56: FutureWarning: The pandas.core.datetools module is deprecated and will be removed in a future version. Please use the pandas.tseries module instead.\n",
      "  from pandas.core import datetools\n"
     ]
    },
    {
     "name": "stdout",
     "output_type": "stream",
     "text": [
      "os.getcwd(): /mnt/beegfs/scratch_copy/ahringer/jj374/lab/relmapping\n"
     ]
    }
   ],
   "source": [
    "%run ~/relmapping/annot/notebooks/__init__.ipynb"
   ]
  },
  {
   "cell_type": "code",
   "execution_count": 2,
   "metadata": {
    "ExecuteTime": {
     "end_time": "2018-05-02T16:08:03.994153Z",
     "start_time": "2018-05-02T15:59:12.191191Z"
    },
    "code_folding": [
     0
    ]
   },
   "outputs": [
    {
     "name": "stderr",
     "output_type": "stream",
     "text": [
      "/mnt/home3/jj374/anaconda36/lib/python3.6/site-packages/ipykernel_launcher.py:64: RuntimeWarning: Mean of empty slice\n"
     ]
    },
    {
     "name": "stdout",
     "output_type": "stream",
     "text": [
      "13054 of 42245 sites with CV values via promoter annotation\n",
      "26764 of 42245 sites with CV values via \"associated gene\"\n",
      "H3K4me3 wt_emb True\n"
     ]
    },
    {
     "name": "stderr",
     "output_type": "stream",
     "text": [
      "/mnt/home3/jj374/anaconda36/lib/python3.6/site-packages/ipykernel_launcher.py:12: RuntimeWarning: Mean of empty slice\n",
      "  if sys.path[0] == '':\n",
      "/mnt/home3/jj374/anaconda36/lib/python3.6/site-packages/ipykernel_launcher.py:14: RuntimeWarning: All-NaN slice encountered\n",
      "  \n"
     ]
    },
    {
     "name": "stdout",
     "output_type": "stream",
     "text": [
      "H3K4me3 wt_l1 True\n",
      "H3K4me3 wt_l2 True\n",
      "H3K4me3 wt_l3 True\n",
      "H3K4me3 wt_l4 True\n",
      "H3K4me3 wt_ya True\n",
      "H3K27me3 wt_emb True\n",
      "H3K27me3 wt_l1 True\n",
      "H3K27me3 wt_l2 True\n",
      "H3K27me3 wt_l3 True\n",
      "H3K27me3 wt_l4 True\n",
      "H3K27me3 wt_ya True\n",
      "gdf: pos_column unspecified, reverting to mean(start, end)\n"
     ]
    },
    {
     "data": {
      "text/html": [
       "<div>\n",
       "<style>\n",
       "    .dataframe thead tr:only-child th {\n",
       "        text-align: right;\n",
       "    }\n",
       "\n",
       "    .dataframe thead th {\n",
       "        text-align: left;\n",
       "    }\n",
       "\n",
       "    .dataframe tbody tr th {\n",
       "        vertical-align: top;\n",
       "    }\n",
       "</style>\n",
       "<table border=\"1\" class=\"dataframe\">\n",
       "  <thead>\n",
       "    <tr style=\"text-align: right;\">\n",
       "      <th></th>\n",
       "      <th>H3K4me3_mean_mean</th>\n",
       "      <th>H3K4me3_mean_max</th>\n",
       "      <th>H3K4me3_max_mean</th>\n",
       "      <th>H3K4me3_max_max</th>\n",
       "      <th>CV</th>\n",
       "    </tr>\n",
       "  </thead>\n",
       "  <tbody>\n",
       "    <tr>\n",
       "      <th>H3K4me3_mean_mean</th>\n",
       "      <td>1.000000</td>\n",
       "      <td>0.915260</td>\n",
       "      <td>0.977836</td>\n",
       "      <td>0.897353</td>\n",
       "      <td>-0.143918</td>\n",
       "    </tr>\n",
       "    <tr>\n",
       "      <th>H3K4me3_mean_max</th>\n",
       "      <td>0.915260</td>\n",
       "      <td>1.000000</td>\n",
       "      <td>0.891044</td>\n",
       "      <td>0.966030</td>\n",
       "      <td>-0.144604</td>\n",
       "    </tr>\n",
       "    <tr>\n",
       "      <th>H3K4me3_max_mean</th>\n",
       "      <td>0.977836</td>\n",
       "      <td>0.891044</td>\n",
       "      <td>1.000000</td>\n",
       "      <td>0.916869</td>\n",
       "      <td>-0.136020</td>\n",
       "    </tr>\n",
       "    <tr>\n",
       "      <th>H3K4me3_max_max</th>\n",
       "      <td>0.897353</td>\n",
       "      <td>0.966030</td>\n",
       "      <td>0.916869</td>\n",
       "      <td>1.000000</td>\n",
       "      <td>-0.137770</td>\n",
       "    </tr>\n",
       "    <tr>\n",
       "      <th>CV</th>\n",
       "      <td>-0.143918</td>\n",
       "      <td>-0.144604</td>\n",
       "      <td>-0.136020</td>\n",
       "      <td>-0.137770</td>\n",
       "      <td>1.000000</td>\n",
       "    </tr>\n",
       "  </tbody>\n",
       "</table>\n",
       "</div>"
      ],
      "text/plain": [
       "                   H3K4me3_mean_mean  H3K4me3_mean_max  H3K4me3_max_mean  \\\n",
       "H3K4me3_mean_mean           1.000000          0.915260          0.977836   \n",
       "H3K4me3_mean_max            0.915260          1.000000          0.891044   \n",
       "H3K4me3_max_mean            0.977836          0.891044          1.000000   \n",
       "H3K4me3_max_max             0.897353          0.966030          0.916869   \n",
       "CV                         -0.143918         -0.144604         -0.136020   \n",
       "\n",
       "                   H3K4me3_max_max        CV  \n",
       "H3K4me3_mean_mean         0.897353 -0.143918  \n",
       "H3K4me3_mean_max          0.966030 -0.144604  \n",
       "H3K4me3_max_mean          0.916869 -0.136020  \n",
       "H3K4me3_max_max           1.000000 -0.137770  \n",
       "CV                       -0.137770  1.000000  "
      ]
     },
     "execution_count": 2,
     "metadata": {},
     "output_type": "execute_result"
    }
   ],
   "source": [
    "# Build gdf\n",
    "def addon_H3K36me3_gene(df_regl_arg):\n",
    "    random.seed(1)\n",
    "    def H3K36me3_gene_id_(prom_fwd_gene_id, prom_rev_gene_id, associated_gene_id):\n",
    "        if prom_fwd_gene_id != '.' and prom_rev_gene_id != '.':\n",
    "            return random.choice([prom_fwd_gene_id, prom_rev_gene_id])\n",
    "        elif prom_fwd_gene_id != '.':\n",
    "            return prom_fwd_gene_id\n",
    "        elif prom_rev_gene_id != '.':\n",
    "            return prom_rev_gene_id\n",
    "        else:\n",
    "            return random.choice(associated_gene_id.split(','))\n",
    "\n",
    "    df_regl_ = df_regl_arg.copy()\n",
    "    df_regl_['H3K36me3_gene_id'] = list(map(H3K36me3_gene_id_, \n",
    "                                           df_regl_arg['promoter_gene_id_fwd'],\n",
    "                                           df_regl_arg['promoter_gene_id_rev'],\n",
    "                                           df_regl_arg['associated_gene_id']))\n",
    "\n",
    "    col_ = ['chrom', 'start', 'end', 'strand', 'gene_id']\n",
    "    df_genes = pd.read_csv('WS260_ce10/WS260_ce10.genes_by_CV.tsv', sep='\\t')[col_]\\\n",
    "        .drop_duplicates(subset=['gene_id']) # CV table has two duplicate gene records where a gene is annotated in *two* distinct operons\n",
    "\n",
    "    df_genes.columns = [\n",
    "        'H3K36me3_gene_chrom',\n",
    "        'H3K36me3_gene_start',\n",
    "        'H3K36me3_gene_end',\n",
    "        'H3K36me3_gene_strand',\n",
    "        'H3K36me3_gene_id',\n",
    "    ]\n",
    "\n",
    "    df_regl = df_regl_.merge(df_genes, how='left', left_on='H3K36me3_gene_id', right_on='H3K36me3_gene_id')\n",
    "    m_ = ~(df_regl['H3K36me3_gene_strand'] == '-')\n",
    "    df_regl['H3K36me3_gene_start'] -= 1\n",
    "    df_regl.loc[m_, 'H3K36me3_gene_end'] = df_regl.loc[m_, 'H3K36me3_gene_start'] + 1\n",
    "    df_regl.loc[~m_, 'H3K36me3_gene_start'] = df_regl.loc[~m_, 'H3K36me3_gene_end'] - 1\n",
    "    return df_regl\n",
    "\n",
    "df_regl = regl_Apr27()\n",
    "addon_H3K4me3(df_regl)\n",
    "addon_H3K27me3(df_regl)\n",
    "df_regl_H3K36me3 = addon_H3K36me3_gene(df_regl)\n",
    "gdf = yp.GenomicDataFrame(df_regl_H3K36me3, pos_column='atac_mode')\n",
    "\n",
    "df_regl.query('annot == \"coding_promoter\"')[[\n",
    "    'H3K27me3_mean_mean',\n",
    "    'H3K27me3_mean_max',\n",
    "    'H3K27me3_max_mean',\n",
    "    'H3K27me3_max_max',\n",
    "    'CV'\n",
    "]].corr(method='spearman')\n",
    "\n",
    "df_regl.query('annot == \"coding_promoter\"')[[\n",
    "    'H3K4me3_mean_mean',\n",
    "    'H3K4me3_mean_max',\n",
    "    'H3K4me3_max_mean',\n",
    "    'H3K4me3_max_max',\n",
    "    'CV'\n",
    "]].corr(method='spearman')\n",
    "\n",
    "df_regl.query('annot == \"putative_enhancer\"')[[\n",
    "    'H3K27me3_mean_mean',\n",
    "    'H3K27me3_mean_max',\n",
    "    'H3K27me3_max_mean',\n",
    "    'H3K27me3_max_max',\n",
    "    'CV'\n",
    "]].corr(method='spearman')\n",
    "\n",
    "df_regl.query('annot == \"putative_enhancer\"')[[\n",
    "    'H3K4me3_mean_mean',\n",
    "    'H3K4me3_mean_max',\n",
    "    'H3K4me3_max_mean',\n",
    "    'H3K4me3_max_max',\n",
    "    'CV'\n",
    "]].corr(method='spearman')"
   ]
  },
  {
   "cell_type": "code",
   "execution_count": 4,
   "metadata": {
    "ExecuteTime": {
     "end_time": "2018-05-02T16:09:12.684768Z",
     "start_time": "2018-05-02T16:08:04.762222Z"
    },
    "code_folding": [
     0
    ]
   },
   "outputs": [
    {
     "name": "stdout",
     "output_type": "stream",
     "text": [
      "mread_regions True H3K4me3_wt_emb.bw.mread_regions_68c5afb1864752a35288eb157782bed4.tmp\n",
      "mread_regions True H3K4me3_wt_l1.bw.mread_regions_8567b9aeb08e90642dab74a5dc648e3c.tmp\n",
      "mread_regions True H3K4me3_wt_l2.bw.mread_regions_c49e8b0e1acd9ea9daa2b7850cad9a43.tmp\n",
      "mread_regions True H3K4me3_wt_l3.bw.mread_regions_3cb99fdb8d17774374ac60f8326cd832.tmp\n",
      "mread_regions True H3K4me3_wt_l4.bw.mread_regions_fcf080c44808fa792e7cf174e002dbe7.tmp\n",
      "mread_regions True H3K4me3_wt_ya.bw.mread_regions_26b4f576ef8ceb5542ec3b4c3851a4fc.tmp\n",
      "mread_regions True H3K4me1_wt_emb.bw.mread_regions_3ffc6c69b9acd6eba368435b24044c95.tmp\n",
      "mread_regions True H3K4me1_wt_l1.bw.mread_regions_098d4c9b55c4647d7e0b9b6c8908d8bd.tmp\n",
      "mread_regions True H3K4me1_wt_l2.bw.mread_regions_511bb68fb19fe5f1d9090deaf47def49.tmp\n",
      "mread_regions True H3K4me1_wt_l3.bw.mread_regions_8fa365b13c0a4ac33bb64823bcda77bb.tmp\n",
      "mread_regions True H3K4me1_wt_l4.bw.mread_regions_fa5b7c60316f5d562a2c4b6fa5cd4369.tmp\n",
      "mread_regions True H3K4me1_wt_ya.bw.mread_regions_6f6a36ac7b78096c372797ecc58442da.tmp\n",
      "mread_regions True H3K27me3_wt_emb.bw.mread_regions_964d5ef1caac7a491783d421d1a28280.tmp\n",
      "mread_regions True H3K27me3_wt_l1.bw.mread_regions_6dd3dc069f299668e01b8a039d5c1967.tmp\n",
      "mread_regions True H3K27me3_wt_l2.bw.mread_regions_db4d9534b5c26696a1224e7848a38dbf.tmp\n",
      "mread_regions True H3K27me3_wt_l3.bw.mread_regions_301e68b99b5c6ab2c4c0a19204b1dc28.tmp\n",
      "mread_regions True H3K27me3_wt_l4.bw.mread_regions_839062b64521ff6559e844a24e984a29.tmp\n",
      "mread_regions True H3K27me3_wt_ya.bw.mread_regions_dc13aa098f21d8c5ccd4685020e40aa1.tmp\n"
     ]
    }
   ],
   "source": [
    "# Histone marks -- read signal\n",
    "\n",
    "# H3K4me3, H3K4me1 at sites\n",
    "for hmod in ['H3K4me3', 'H3K4me1']:\n",
    "    for stage in config['stages_wt']:\n",
    "        fp_ = 'hmod_geo/tracks/%s_%s.bw' % (hmod, stage)\n",
    "        label = '%s\\n%s' % (hmod, stage)\n",
    "        gdf.add_track(label, fp_, flank_len=1000, bin_size=25)\n",
    "\n",
    "# H3K27me3 at sites\n",
    "for hmod in ['H3K27me3']:\n",
    "    for stage in config['stages_wt']:\n",
    "        fp_ = 'hmod_geo/tracks/%s_%s.bw' % (hmod, stage)\n",
    "        label = '%s\\n%s' % (hmod, stage)\n",
    "        gdf.add_track(label, fp_, flank_len=1000, bin_size=25)"
   ]
  },
  {
   "cell_type": "code",
   "execution_count": 5,
   "metadata": {
    "ExecuteTime": {
     "end_time": "2018-05-02T16:09:13.304894Z",
     "start_time": "2018-05-02T16:09:12.693432Z"
    },
    "code_folding": [
     0
    ],
    "collapsed": true
   },
   "outputs": [],
   "source": [
    "# Histone marks -- plot settings\n",
    "hmod = 'H3K4me3'\n",
    "for stage in config['stages_wt']:\n",
    "    label = '%s\\n%s' % (hmod, stage)\n",
    "    gdf.t[label].imshow_kwargs['vmin'] = -5\n",
    "    gdf.t[label].imshow_kwargs['vmax'] = +5\n",
    "    gdf.t[label].smooth = None#lambda m: sp.ndimage.gaussian_filter(m, sigma=3)\n",
    "\n",
    "hmod = 'H3K4me1'\n",
    "for stage in config['stages_wt']:\n",
    "    label = '%s\\n%s' % (hmod, stage)\n",
    "    gdf.t[label].imshow_kwargs['vmin'] = -3\n",
    "    gdf.t[label].imshow_kwargs['vmax'] = +3\n",
    "    gdf.t[label].smooth = None#lambda m: sp.ndimage.gaussian_filter(m, sigma=3)\n",
    "\n",
    "hmod = 'H3K27me3'\n",
    "for stage in config['stages_wt']:\n",
    "    label = '%s\\n%s' % (hmod, stage)\n",
    "    gdf.t[label].imshow_kwargs['vmin'] = -1\n",
    "    gdf.t[label].imshow_kwargs['vmax'] = +1\n",
    "    gdf.t[label].smooth = None#lambda m: sp.ndimage.gaussian_filter(m, sigma=3)"
   ]
  },
  {
   "cell_type": "code",
   "execution_count": 6,
   "metadata": {
    "ExecuteTime": {
     "end_time": "2018-05-02T16:09:13.472849Z",
     "start_time": "2018-05-02T16:09:13.311548Z"
    },
    "code_folding": [
     0
    ],
    "collapsed": true
   },
   "outputs": [],
   "source": [
    "# associated gene CV\n",
    "CV_ = gdf.r['CV'].rank(pct=True, na_option='keep')\n",
    "label_ = 'CV\\nrank'\n",
    "gdf.t[label_] = yp.GenomicDataFrameScalarTrack(CV_, flank_len=1000, bin_size=25)\n",
    "gdf.t[label_].imshow_kwargs['cmap'] = matplotlib.cm.get_cmap('inferno_r')\n",
    "gdf.t[label_].imshow_kwargs['vmin'] = 0\n",
    "gdf.t[label_].imshow_kwargs['vmax'] = +1"
   ]
  },
  {
   "cell_type": "code",
   "execution_count": null,
   "metadata": {
    "ExecuteTime": {
     "start_time": "2018-05-02T16:12:48.857Z"
    },
    "code_folding": []
   },
   "outputs": [],
   "source": [
    "# plot\n",
    "row_labels_ = [\n",
    "    'coding_promoter (%s)' % (yp.f_uk(len(gdf.r.query('(annot == \"coding_promoter\")'))),), \n",
    "    'putative_enhancer (%s)' % (yp.f_uk(len(gdf.r.query('(annot == \"putative_enhancer\")'))),),\n",
    "]\n",
    "\n",
    "cb = gdf.query('((annot == \"coding_promoter\") | (annot == \"putative_enhancer\"))')\\\n",
    ".sort(['annot']).sort(['H3K4me3_mean_mean'], ascending=False)\\\n",
    ".imshow(\n",
    "    figsize=(8, 4),\n",
    "    savefig=False,\n",
    "    kwargs_grid = {'cbar_size': '5%', 'cbar_pad': 0.02, 'axes_pad': 0.02,},\n",
    "    axis_off=True,\n",
    "    cluster_col='annot',\n",
    "    nsquashed=200,\n",
    "    vextent=1,\n",
    "    suptitle='',\n",
    "    row_labels=row_labels_,\n",
    "    fontsize=8,\n",
    "    figB_magic=True,\n",
    "    l_title_cbar=['H3K4me3\\nwt_emb', 'H3K4me1\\nwt_emb', 'H3K27me3\\nwt_emb','CV\\nrank'],\n",
    ")\n",
    "\n",
    "fp_ = 'annot_Apr27/Fig3A_HMsortbyH3K4me3.png'\n",
    "plt.savefig(fp_, dpi=600, transparent=True, bbox_inches='tight')"
   ]
  },
  {
   "cell_type": "code",
   "execution_count": null,
   "metadata": {
    "collapsed": true
   },
   "outputs": [],
   "source": []
  }
 ],
 "metadata": {
  "kernelspec": {
   "display_name": "Python 3",
   "language": "python",
   "name": "python3"
  },
  "language_info": {
   "codemirror_mode": {
    "name": "ipython",
    "version": 3
   },
   "file_extension": ".py",
   "mimetype": "text/x-python",
   "name": "python",
   "nbconvert_exporter": "python",
   "pygments_lexer": "ipython3",
   "version": "3.6.2"
  }
 },
 "nbformat": 4,
 "nbformat_minor": 2
}
