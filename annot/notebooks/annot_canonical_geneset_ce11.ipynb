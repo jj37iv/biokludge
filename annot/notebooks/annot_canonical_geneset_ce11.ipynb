{
 "cells": [
  {
   "cell_type": "code",
   "execution_count": 1,
   "metadata": {
    "ExecuteTime": {
     "end_time": "2018-06-04T14:12:11.903701Z",
     "start_time": "2018-06-04T14:12:06.342320Z"
    },
    "code_folding": []
   },
   "outputs": [
    {
     "name": "stderr",
     "output_type": "stream",
     "text": [
      "/mnt/home3/jj374/anaconda36/lib/python3.6/site-packages/statsmodels/compat/pandas.py:56: FutureWarning: The pandas.core.datetools module is deprecated and will be removed in a future version. Please use the pandas.tseries module instead.\n",
      "  from pandas.core import datetools\n"
     ]
    },
    {
     "name": "stdout",
     "output_type": "stream",
     "text": [
      "os.getcwd(): /mnt/beegfs/scratch_copy/ahringer/jj374/lab/relmapping\n"
     ]
    }
   ],
   "source": [
    "%run ~/relmapping/annot/notebooks/annot__init__.ipynb\n",
    "annot_ = 'annot_ce11'\n",
    "def mp(fp, annot_=annot_): return os.path.join(annot_, 'canonical_geneset', fp)"
   ]
  },
  {
   "cell_type": "code",
   "execution_count": 2,
   "metadata": {
    "ExecuteTime": {
     "end_time": "2018-06-04T14:12:15.845065Z",
     "start_time": "2018-06-04T14:12:11.905708Z"
    }
   },
   "outputs": [
    {
     "data": {
      "text/html": [
       "<div>\n",
       "<style>\n",
       "    .dataframe thead tr:only-child th {\n",
       "        text-align: right;\n",
       "    }\n",
       "\n",
       "    .dataframe thead th {\n",
       "        text-align: left;\n",
       "    }\n",
       "\n",
       "    .dataframe tbody tr th {\n",
       "        vertical-align: top;\n",
       "    }\n",
       "</style>\n",
       "<table border=\"1\" class=\"dataframe\">\n",
       "  <thead>\n",
       "    <tr style=\"text-align: right;\">\n",
       "      <th></th>\n",
       "      <th>chrom</th>\n",
       "      <th>source</th>\n",
       "      <th>feature</th>\n",
       "      <th>start</th>\n",
       "      <th>end</th>\n",
       "      <th>score</th>\n",
       "      <th>strand</th>\n",
       "      <th>frame</th>\n",
       "      <th>attribute</th>\n",
       "    </tr>\n",
       "  </thead>\n",
       "  <tbody>\n",
       "    <tr>\n",
       "      <th>0</th>\n",
       "      <td>chrI</td>\n",
       "      <td>WormBase</td>\n",
       "      <td>gene</td>\n",
       "      <td>3747</td>\n",
       "      <td>3909</td>\n",
       "      <td>.</td>\n",
       "      <td>-</td>\n",
       "      <td>.</td>\n",
       "      <td>gene_id \"WBGene00023193\"; gene_source \"WormBas...</td>\n",
       "    </tr>\n",
       "    <tr>\n",
       "      <th>1</th>\n",
       "      <td>chrI</td>\n",
       "      <td>WormBase</td>\n",
       "      <td>transcript</td>\n",
       "      <td>3747</td>\n",
       "      <td>3909</td>\n",
       "      <td>.</td>\n",
       "      <td>-</td>\n",
       "      <td>.</td>\n",
       "      <td>gene_id \"WBGene00023193\"; transcript_id \"Y74C9...</td>\n",
       "    </tr>\n",
       "    <tr>\n",
       "      <th>2</th>\n",
       "      <td>chrI</td>\n",
       "      <td>WormBase</td>\n",
       "      <td>exon</td>\n",
       "      <td>3747</td>\n",
       "      <td>3909</td>\n",
       "      <td>.</td>\n",
       "      <td>-</td>\n",
       "      <td>.</td>\n",
       "      <td>gene_id \"WBGene00023193\"; transcript_id \"Y74C9...</td>\n",
       "    </tr>\n",
       "    <tr>\n",
       "      <th>3</th>\n",
       "      <td>chrI</td>\n",
       "      <td>WormBase</td>\n",
       "      <td>three_prime_utr</td>\n",
       "      <td>4116</td>\n",
       "      <td>4220</td>\n",
       "      <td>.</td>\n",
       "      <td>-</td>\n",
       "      <td>.</td>\n",
       "      <td>gene_id \"WBGene00022277\"; transcript_id \"Y74C9...</td>\n",
       "    </tr>\n",
       "    <tr>\n",
       "      <th>4</th>\n",
       "      <td>chrI</td>\n",
       "      <td>WormBase</td>\n",
       "      <td>exon</td>\n",
       "      <td>4116</td>\n",
       "      <td>4358</td>\n",
       "      <td>.</td>\n",
       "      <td>-</td>\n",
       "      <td>.</td>\n",
       "      <td>gene_id \"WBGene00022277\"; transcript_id \"Y74C9...</td>\n",
       "    </tr>\n",
       "  </tbody>\n",
       "</table>\n",
       "</div>"
      ],
      "text/plain": [
       "  chrom    source          feature  start   end score strand frame  \\\n",
       "0  chrI  WormBase             gene   3747  3909     .      -     .   \n",
       "1  chrI  WormBase       transcript   3747  3909     .      -     .   \n",
       "2  chrI  WormBase             exon   3747  3909     .      -     .   \n",
       "3  chrI  WormBase  three_prime_utr   4116  4220     .      -     .   \n",
       "4  chrI  WormBase             exon   4116  4358     .      -     .   \n",
       "\n",
       "                                           attribute  \n",
       "0  gene_id \"WBGene00023193\"; gene_source \"WormBas...  \n",
       "1  gene_id \"WBGene00023193\"; transcript_id \"Y74C9...  \n",
       "2  gene_id \"WBGene00023193\"; transcript_id \"Y74C9...  \n",
       "3  gene_id \"WBGene00022277\"; transcript_id \"Y74C9...  \n",
       "4  gene_id \"WBGene00022277\"; transcript_id \"Y74C9...  "
      ]
     },
     "execution_count": 2,
     "metadata": {},
     "output_type": "execute_result"
    }
   ],
   "source": [
    "# Read WB260 canonical geneset\n",
    "kwargs_to_gtf = {'index': False, 'header': False, 'quoting': csv.QUOTE_NONE, 'sep': '\\t'}\n",
    "fp_ = 'wget/ftp.wormbase.org/pub/wormbase/releases/WS260/species/c_elegans/PRJNA13758/c_elegans.PRJNA13758.WS260.canonical_geneset.gtf.gz'\n",
    "df_ = pd.read_csv(fp_, sep='\\t', names=yp.NAMES_GTF, comment='#')\n",
    "\n",
    "# Strip mitochondrial & change chromosome names to ce11\n",
    "df_ = df_.query('(chrom != \"CHROMOSOME_MtDNA\") & (chrom != \"MtDNA\")').sort_values(['chrom', 'start', 'end', 'strand']).reset_index(drop=True)\n",
    "df_['chrom'] = list(map(lambda chrom: 'chr' + chrom.lstrip('CHROMOSOME_'), df_['chrom']))\n",
    "df_.head()"
   ]
  },
  {
   "cell_type": "code",
   "execution_count": 3,
   "metadata": {
    "ExecuteTime": {
     "end_time": "2018-06-04T14:13:59.670309Z",
     "start_time": "2018-06-04T14:12:15.850029Z"
    }
   },
   "outputs": [
    {
     "data": {
      "text/html": [
       "<div>\n",
       "<style>\n",
       "    .dataframe thead tr:only-child th {\n",
       "        text-align: right;\n",
       "    }\n",
       "\n",
       "    .dataframe thead th {\n",
       "        text-align: left;\n",
       "    }\n",
       "\n",
       "    .dataframe tbody tr th {\n",
       "        vertical-align: top;\n",
       "    }\n",
       "</style>\n",
       "<table border=\"1\" class=\"dataframe\">\n",
       "  <thead>\n",
       "    <tr style=\"text-align: right;\">\n",
       "      <th></th>\n",
       "      <th>chrom</th>\n",
       "      <th>source</th>\n",
       "      <th>feature</th>\n",
       "      <th>start</th>\n",
       "      <th>end</th>\n",
       "      <th>score</th>\n",
       "      <th>strand</th>\n",
       "      <th>frame</th>\n",
       "      <th>attribute</th>\n",
       "    </tr>\n",
       "  </thead>\n",
       "  <tbody>\n",
       "    <tr>\n",
       "      <th>0</th>\n",
       "      <td>chrI</td>\n",
       "      <td>WormBase</td>\n",
       "      <td>gene</td>\n",
       "      <td>3747</td>\n",
       "      <td>3909</td>\n",
       "      <td>.</td>\n",
       "      <td>-</td>\n",
       "      <td>.</td>\n",
       "      <td>gene_id \"WBGene00023193\"; gene_source \"WormBas...</td>\n",
       "    </tr>\n",
       "    <tr>\n",
       "      <th>1</th>\n",
       "      <td>chrI</td>\n",
       "      <td>WormBase</td>\n",
       "      <td>transcript</td>\n",
       "      <td>3747</td>\n",
       "      <td>3909</td>\n",
       "      <td>.</td>\n",
       "      <td>-</td>\n",
       "      <td>.</td>\n",
       "      <td>gene_id \"WBGene00023193\"; transcript_id \"Y74C9...</td>\n",
       "    </tr>\n",
       "    <tr>\n",
       "      <th>2</th>\n",
       "      <td>chrI</td>\n",
       "      <td>WormBase</td>\n",
       "      <td>exon</td>\n",
       "      <td>3747</td>\n",
       "      <td>3909</td>\n",
       "      <td>.</td>\n",
       "      <td>-</td>\n",
       "      <td>.</td>\n",
       "      <td>gene_id \"WBGene00023193\"; transcript_id \"Y74C9...</td>\n",
       "    </tr>\n",
       "    <tr>\n",
       "      <th>3</th>\n",
       "      <td>chrI</td>\n",
       "      <td>WormBase</td>\n",
       "      <td>three_prime_utr</td>\n",
       "      <td>4116</td>\n",
       "      <td>4220</td>\n",
       "      <td>.</td>\n",
       "      <td>-</td>\n",
       "      <td>.</td>\n",
       "      <td>gene_id \"WBGene00022277\"; transcript_id \"Y74C9...</td>\n",
       "    </tr>\n",
       "    <tr>\n",
       "      <th>4</th>\n",
       "      <td>chrI</td>\n",
       "      <td>WormBase</td>\n",
       "      <td>exon</td>\n",
       "      <td>4116</td>\n",
       "      <td>4358</td>\n",
       "      <td>.</td>\n",
       "      <td>-</td>\n",
       "      <td>.</td>\n",
       "      <td>gene_id \"WBGene00022277\"; transcript_id \"Y74C9...</td>\n",
       "    </tr>\n",
       "  </tbody>\n",
       "</table>\n",
       "</div>"
      ],
      "text/plain": [
       "  chrom    source          feature  start   end score strand frame  \\\n",
       "0  chrI  WormBase             gene   3747  3909     .      -     .   \n",
       "1  chrI  WormBase       transcript   3747  3909     .      -     .   \n",
       "2  chrI  WormBase             exon   3747  3909     .      -     .   \n",
       "3  chrI  WormBase  three_prime_utr   4116  4220     .      -     .   \n",
       "4  chrI  WormBase             exon   4116  4358     .      -     .   \n",
       "\n",
       "                                           attribute  \n",
       "0  gene_id \"WBGene00023193\"; gene_source \"WormBas...  \n",
       "1  gene_id \"WBGene00023193\"; transcript_id \"Y74C9...  \n",
       "2  gene_id \"WBGene00023193\"; transcript_id \"Y74C9...  \n",
       "3  gene_id \"WBGene00022277\"; transcript_id \"Y74C9...  \n",
       "4  gene_id \"WBGene00022277\"; transcript_id \"Y74C9...  "
      ]
     },
     "execution_count": 3,
     "metadata": {},
     "output_type": "execute_result"
    }
   ],
   "source": [
    "# locus_id: intended to roughly match labels as shown on the default IGV RefSeq track\n",
    "def locus_id_from_gene_id(l_gene_id):\n",
    "    # Attach display_id\n",
    "    def locus_id_(locus, sequence_id, gene_id):\n",
    "        if locus == locus:\n",
    "            return locus\n",
    "        elif sequence_id == sequence_id:\n",
    "            return sequence_id\n",
    "        else:\n",
    "            return gene_id\n",
    "\n",
    "    fp_geneIDs = 'wget/ftp.wormbase.org/pub/wormbase/releases/WS260/species/c_elegans/PRJNA13758/annotation/c_elegans.PRJNA13758.WS260.geneIDs.txt.gz'\n",
    "    l_ = ['gene_id', 'locus', 'sequence_id', 'status']\n",
    "    df_geneIDs = pd.read_csv(fp_geneIDs, sep=',', names=('na', 'gene_id', 'locus', 'sequence_id', 'status'))[l_]\n",
    "    df_geneIDs['display_id'] = list(map(locus_id_,df_geneIDs['locus'], df_geneIDs['sequence_id'], df_geneIDs['gene_id']))\n",
    "    df_geneIDs = df_geneIDs.set_index('gene_id')\n",
    "    for gene_id in l_gene_id:\n",
    "        yield df_geneIDs.loc[gene_id]['display_id']\n",
    "\n",
    "# Parse attribute string\n",
    "df_attr_ = pd.DataFrame(df_['attribute'].apply(hts.parse_GFF_attribute_string).tolist())\n",
    "\n",
    "# Define locus_id\n",
    "se_locus_id = [*locus_id_from_gene_id(df_attr_['gene_id'])]\n",
    "\n",
    "# Attach locus_id at the end of the unparsed attr field\n",
    "def fmt_(attribute, locus_id): return '%s locus_id \"%s\";' % (attribute, locus_id)\n",
    "df_['attribute'] = list(map(fmt_, df_['attribute'], se_locus_id))\n",
    "\n",
    "df_.head()"
   ]
  },
  {
   "cell_type": "code",
   "execution_count": null,
   "metadata": {
    "ExecuteTime": {
     "start_time": "2018-06-04T14:13:20.321Z"
    }
   },
   "outputs": [
    {
     "data": {
      "text/plain": [
       "exon               269868\n",
       "CDS                222825\n",
       "transcript          61073\n",
       "gene                46742\n",
       "stop_codon          33423\n",
       "start_codon         33400\n",
       "five_prime_utr      30958\n",
       "three_prime_utr     27993\n",
       "Name: feature, dtype: int64"
      ]
     },
     "execution_count": 4,
     "metadata": {},
     "output_type": "execute_result"
    }
   ],
   "source": [
    "df_['feature'].value_counts()"
   ]
  },
  {
   "cell_type": "code",
   "execution_count": null,
   "metadata": {
    "ExecuteTime": {
     "start_time": "2018-06-04T14:13:20.324Z"
    }
   },
   "outputs": [],
   "source": [
    "# WS260_ce10.canonical_geneset.gtf.gz: entire canonical geneset\n",
    "yp.to_csv_gz(mp('WS260_ce11.canonical_geneset.gtf.gz'), df_, **yp.TO_GTF_KWARGS)\n",
    "!gunzip -c {mp('WS260_ce11.canonical_geneset.gtf.gz')} | wc -l"
   ]
  },
  {
   "cell_type": "code",
   "execution_count": null,
   "metadata": {
    "ExecuteTime": {
     "start_time": "2018-06-04T14:13:20.325Z"
    }
   },
   "outputs": [],
   "source": [
    "# WS260_ce10.genes.gtf.gz: all gene records\n",
    "yp.to_csv_gz(mp('WS260_ce11.genes.gtf.gz'), df_.query('feature==\"gene\"'), **yp.TO_GTF_KWARGS)\n",
    "!gunzip -c {mp('WS260_ce11.genes.gtf.gz')} | wc -l"
   ]
  },
  {
   "cell_type": "code",
   "execution_count": null,
   "metadata": {
    "ExecuteTime": {
     "start_time": "2018-06-04T14:13:20.327Z"
    }
   },
   "outputs": [],
   "source": [
    "# WS260_ce10.transcripts.gtf.gz: all transcript records\n",
    "yp.to_csv_gz(mp('WS260_ce11.transcripts.gtf.gz'), df_.query('feature!=\"gene\"'), **yp.TO_GTF_KWARGS)\n",
    "!gunzip -c {mp('WS260_ce11.transcripts.gtf.gz')} | wc -l"
   ]
  },
  {
   "cell_type": "code",
   "execution_count": null,
   "metadata": {
    "ExecuteTime": {
     "start_time": "2018-06-04T14:13:20.328Z"
    }
   },
   "outputs": [],
   "source": [
    "df_attr_['transcript_biotype'].value_counts()"
   ]
  },
  {
   "cell_type": "code",
   "execution_count": null,
   "metadata": {
    "ExecuteTime": {
     "start_time": "2018-06-04T14:13:20.330Z"
    }
   },
   "outputs": [],
   "source": [
    "# WS260_ce11.annot.gtf.gz: all transcripts used in the annotation\n",
    "l_annot_ = ['protein_coding', 'pseudogene', 'tRNA', 'snoRNA', 'miRNA', 'snRNA', 'rRNA']\n",
    "m_annot_ = df_attr_['transcript_biotype'].isin(l_annot_)\n",
    "fp_ = os.path.join(annot_, 'WS260_ce11.annot.gtf.gz')\n",
    "yp.to_csv_gz(fp_, df_[m_annot_].query('feature!=\"gene\"'), **yp.TO_GTF_KWARGS)\n",
    "!gunzip -c {fp_} | wc -l"
   ]
  }
 ],
 "metadata": {
  "kernelspec": {
   "display_name": "Python 3",
   "language": "python",
   "name": "python3"
  },
  "language_info": {
   "codemirror_mode": {
    "name": "ipython",
    "version": 3
   },
   "file_extension": ".py",
   "mimetype": "text/x-python",
   "name": "python",
   "nbconvert_exporter": "python",
   "pygments_lexer": "ipython3",
   "version": "3.6.2"
  }
 },
 "nbformat": 4,
 "nbformat_minor": 1
}
