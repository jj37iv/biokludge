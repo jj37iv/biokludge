{
 "cells": [
  {
   "cell_type": "code",
   "execution_count": 1,
   "metadata": {
    "ExecuteTime": {
     "end_time": "2018-04-16T16:53:55.003368Z",
     "start_time": "2018-04-16T16:53:49.674660Z"
    },
    "code_folding": [
     0
    ]
   },
   "outputs": [
    {
     "name": "stderr",
     "output_type": "stream",
     "text": [
      "/mnt/home3/jj374/anaconda36/lib/python3.6/site-packages/statsmodels/compat/pandas.py:56: FutureWarning: The pandas.core.datetools module is deprecated and will be removed in a future version. Please use the pandas.tseries module instead.\n",
      "  from pandas.core import datetools\n"
     ]
    },
    {
     "name": "stdout",
     "output_type": "stream",
     "text": [
      "os.getcwd(): /mnt/beegfs/scratch_copy/ahringer/jj374/lab/relmapping\n"
     ]
    }
   ],
   "source": [
    "# Initialise\n",
    "%run ~/relmapping/annot/notebooks/__init__.ipynb\n",
    "\n",
    "def vp(fp): return os.path.join('annot/S2_regulatory_annotation/metrics/', fp) # \"verbose path\""
   ]
  },
  {
   "cell_type": "code",
   "execution_count": 2,
   "metadata": {
    "ExecuteTime": {
     "end_time": "2018-04-16T16:53:55.506961Z",
     "start_time": "2018-04-16T16:53:55.005335Z"
    },
    "code_folding": []
   },
   "outputs": [
    {
     "data": {
      "text/html": [
       "<div>\n",
       "<style>\n",
       "    .dataframe thead tr:only-child th {\n",
       "        text-align: right;\n",
       "    }\n",
       "\n",
       "    .dataframe thead th {\n",
       "        text-align: left;\n",
       "    }\n",
       "\n",
       "    .dataframe tbody tr th {\n",
       "        vertical-align: top;\n",
       "    }\n",
       "</style>\n",
       "<table border=\"1\" class=\"dataframe\">\n",
       "  <thead>\n",
       "    <tr style=\"text-align: right;\">\n",
       "      <th></th>\n",
       "      <th>chrom</th>\n",
       "      <th>start</th>\n",
       "      <th>end</th>\n",
       "      <th>atac_peak_accessibility</th>\n",
       "      <th>atac_source</th>\n",
       "      <th>atac_wt_emb_height</th>\n",
       "      <th>atac_wt_l1_height</th>\n",
       "      <th>atac_wt_l2_height</th>\n",
       "      <th>atac_wt_l3_height</th>\n",
       "      <th>atac_wt_l4_height</th>\n",
       "      <th>atac_wt_ya_height</th>\n",
       "      <th>atac_glp1_d1_height</th>\n",
       "      <th>atac_glp1_d2_height</th>\n",
       "      <th>atac_glp1_d6_height</th>\n",
       "      <th>atac_glp1_d9_height</th>\n",
       "      <th>atac_glp1_d13_height</th>\n",
       "    </tr>\n",
       "  </thead>\n",
       "  <tbody>\n",
       "    <tr>\n",
       "      <th>0</th>\n",
       "      <td>chrI</td>\n",
       "      <td>1900</td>\n",
       "      <td>2051</td>\n",
       "      <td>1975</td>\n",
       "      <td>atac_wt_se</td>\n",
       "      <td>1.487219</td>\n",
       "      <td>1.436852</td>\n",
       "      <td>1.234831</td>\n",
       "      <td>1.476625</td>\n",
       "      <td>1.180041</td>\n",
       "      <td>3.028015</td>\n",
       "      <td>0.984149</td>\n",
       "      <td>0.912876</td>\n",
       "      <td>1.155934</td>\n",
       "      <td>1.187989</td>\n",
       "      <td>1.661203</td>\n",
       "    </tr>\n",
       "    <tr>\n",
       "      <th>1</th>\n",
       "      <td>chrI</td>\n",
       "      <td>3826</td>\n",
       "      <td>3977</td>\n",
       "      <td>3901</td>\n",
       "      <td>atac_wt_pe</td>\n",
       "      <td>67.202148</td>\n",
       "      <td>58.451061</td>\n",
       "      <td>74.416000</td>\n",
       "      <td>133.738358</td>\n",
       "      <td>179.794342</td>\n",
       "      <td>211.372787</td>\n",
       "      <td>88.025909</td>\n",
       "      <td>69.674324</td>\n",
       "      <td>68.506355</td>\n",
       "      <td>64.593590</td>\n",
       "      <td>55.413097</td>\n",
       "    </tr>\n",
       "    <tr>\n",
       "      <th>2</th>\n",
       "      <td>chrI</td>\n",
       "      <td>4276</td>\n",
       "      <td>4427</td>\n",
       "      <td>4351</td>\n",
       "      <td>atac_wt_se</td>\n",
       "      <td>1.581892</td>\n",
       "      <td>2.656172</td>\n",
       "      <td>2.186598</td>\n",
       "      <td>3.502825</td>\n",
       "      <td>5.871352</td>\n",
       "      <td>7.771934</td>\n",
       "      <td>1.802739</td>\n",
       "      <td>1.327403</td>\n",
       "      <td>1.547550</td>\n",
       "      <td>2.069787</td>\n",
       "      <td>1.901336</td>\n",
       "    </tr>\n",
       "    <tr>\n",
       "      <th>3</th>\n",
       "      <td>chrI</td>\n",
       "      <td>11272</td>\n",
       "      <td>11423</td>\n",
       "      <td>11347</td>\n",
       "      <td>atac_wt_pe</td>\n",
       "      <td>2.606371</td>\n",
       "      <td>4.443353</td>\n",
       "      <td>9.830266</td>\n",
       "      <td>10.700469</td>\n",
       "      <td>11.683004</td>\n",
       "      <td>13.928377</td>\n",
       "      <td>20.864365</td>\n",
       "      <td>16.739265</td>\n",
       "      <td>17.585819</td>\n",
       "      <td>15.858321</td>\n",
       "      <td>17.019400</td>\n",
       "    </tr>\n",
       "    <tr>\n",
       "      <th>4</th>\n",
       "      <td>chrI</td>\n",
       "      <td>13070</td>\n",
       "      <td>13221</td>\n",
       "      <td>13145</td>\n",
       "      <td>atac_wt_pe</td>\n",
       "      <td>5.557951</td>\n",
       "      <td>3.608833</td>\n",
       "      <td>3.977978</td>\n",
       "      <td>3.398183</td>\n",
       "      <td>2.689872</td>\n",
       "      <td>2.953438</td>\n",
       "      <td>2.047788</td>\n",
       "      <td>2.084701</td>\n",
       "      <td>1.994170</td>\n",
       "      <td>2.586042</td>\n",
       "      <td>3.367910</td>\n",
       "    </tr>\n",
       "  </tbody>\n",
       "</table>\n",
       "</div>"
      ],
      "text/plain": [
       "  chrom  start    end  atac_peak_accessibility atac_source  \\\n",
       "0  chrI   1900   2051                     1975  atac_wt_se   \n",
       "1  chrI   3826   3977                     3901  atac_wt_pe   \n",
       "2  chrI   4276   4427                     4351  atac_wt_se   \n",
       "3  chrI  11272  11423                    11347  atac_wt_pe   \n",
       "4  chrI  13070  13221                    13145  atac_wt_pe   \n",
       "\n",
       "   atac_wt_emb_height  atac_wt_l1_height  atac_wt_l2_height  \\\n",
       "0            1.487219           1.436852           1.234831   \n",
       "1           67.202148          58.451061          74.416000   \n",
       "2            1.581892           2.656172           2.186598   \n",
       "3            2.606371           4.443353           9.830266   \n",
       "4            5.557951           3.608833           3.977978   \n",
       "\n",
       "   atac_wt_l3_height  atac_wt_l4_height  atac_wt_ya_height  \\\n",
       "0           1.476625           1.180041           3.028015   \n",
       "1         133.738358         179.794342         211.372787   \n",
       "2           3.502825           5.871352           7.771934   \n",
       "3          10.700469          11.683004          13.928377   \n",
       "4           3.398183           2.689872           2.953438   \n",
       "\n",
       "   atac_glp1_d1_height  atac_glp1_d2_height  atac_glp1_d6_height  \\\n",
       "0             0.984149             0.912876             1.155934   \n",
       "1            88.025909            69.674324            68.506355   \n",
       "2             1.802739             1.327403             1.547550   \n",
       "3            20.864365            16.739265            17.585819   \n",
       "4             2.047788             2.084701             1.994170   \n",
       "\n",
       "   atac_glp1_d9_height  atac_glp1_d13_height  \n",
       "0             1.187989              1.661203  \n",
       "1            64.593590             55.413097  \n",
       "2             2.069787              1.901336  \n",
       "3            15.858321             17.019400  \n",
       "4             2.586042              3.367910  "
      ]
     },
     "execution_count": 2,
     "metadata": {},
     "output_type": "execute_result"
    }
   ],
   "source": [
    "# Load long cap jump & exon data\n",
    "df_atac = pd.read_csv('annot/Fig1D1_accessible_sites/Fig1D1_accessible_sites.tsv' % locals(), sep='\\t')\n",
    "df_atac.head()"
   ]
  },
  {
   "cell_type": "code",
   "execution_count": 3,
   "metadata": {
    "ExecuteTime": {
     "end_time": "2018-04-16T16:53:58.799078Z",
     "start_time": "2018-04-16T16:53:55.509400Z"
    }
   },
   "outputs": [
    {
     "data": {
      "text/html": [
       "<div>\n",
       "<style>\n",
       "    .dataframe thead tr:only-child th {\n",
       "        text-align: right;\n",
       "    }\n",
       "\n",
       "    .dataframe thead th {\n",
       "        text-align: left;\n",
       "    }\n",
       "\n",
       "    .dataframe tbody tr th {\n",
       "        vertical-align: top;\n",
       "    }\n",
       "</style>\n",
       "<table border=\"1\" class=\"dataframe\">\n",
       "  <thead>\n",
       "    <tr style=\"text-align: right;\">\n",
       "      <th></th>\n",
       "      <th>lcap_wt_emb_fwd_ucount_rep1</th>\n",
       "      <th>lcap_wt_emb_fwd_ucount_rep2</th>\n",
       "      <th>lcap_wt_emb_fwd_dcount_rep1</th>\n",
       "      <th>lcap_wt_emb_fwd_dcount_rep2</th>\n",
       "      <th>lcap_wt_emb_fwd_ucount_sum</th>\n",
       "      <th>lcap_wt_emb_fwd_dcount_sum</th>\n",
       "      <th>lcap_wt_emb_fwd_baseMean</th>\n",
       "      <th>lcap_wt_emb_fwd_log2FoldChange</th>\n",
       "      <th>lcap_wt_emb_fwd_lfcSE</th>\n",
       "      <th>lcap_wt_emb_fwd_stat</th>\n",
       "      <th>...</th>\n",
       "      <th>lcap_glp1_d13_rev_ucount_sum</th>\n",
       "      <th>lcap_glp1_d13_rev_dcount_sum</th>\n",
       "      <th>lcap_glp1_d13_rev_baseMean</th>\n",
       "      <th>lcap_glp1_d13_rev_log2FoldChange</th>\n",
       "      <th>lcap_glp1_d13_rev_lfcSE</th>\n",
       "      <th>lcap_glp1_d13_rev_stat</th>\n",
       "      <th>lcap_glp1_d13_rev_pvalue</th>\n",
       "      <th>lcap_glp1_d13_rev_padj</th>\n",
       "      <th>lcap_glp1_d13_rev_passed</th>\n",
       "      <th>lcap_glp1_d13_rev_summary</th>\n",
       "    </tr>\n",
       "  </thead>\n",
       "  <tbody>\n",
       "    <tr>\n",
       "      <th>0</th>\n",
       "      <td>0</td>\n",
       "      <td>0</td>\n",
       "      <td>79</td>\n",
       "      <td>70</td>\n",
       "      <td>0</td>\n",
       "      <td>149</td>\n",
       "      <td>33.80690</td>\n",
       "      <td>8.064206</td>\n",
       "      <td>1.827663</td>\n",
       "      <td>4.412305</td>\n",
       "      <td>...</td>\n",
       "      <td>1050</td>\n",
       "      <td>1005</td>\n",
       "      <td>516.2211</td>\n",
       "      <td>-0.312585</td>\n",
       "      <td>0.105402</td>\n",
       "      <td>0.000000</td>\n",
       "      <td>9.984898e-01</td>\n",
       "      <td>1.000000</td>\n",
       "      <td>False</td>\n",
       "      <td>False / -0.31 / 1</td>\n",
       "    </tr>\n",
       "    <tr>\n",
       "      <th>1</th>\n",
       "      <td>58</td>\n",
       "      <td>73</td>\n",
       "      <td>103</td>\n",
       "      <td>79</td>\n",
       "      <td>131</td>\n",
       "      <td>182</td>\n",
       "      <td>77.32209</td>\n",
       "      <td>0.196354</td>\n",
       "      <td>0.249297</td>\n",
       "      <td>0.787632</td>\n",
       "      <td>...</td>\n",
       "      <td>225</td>\n",
       "      <td>1467471</td>\n",
       "      <td>336258.3000</td>\n",
       "      <td>12.416660</td>\n",
       "      <td>0.096059</td>\n",
       "      <td>129.261400</td>\n",
       "      <td>0.000000e+00</td>\n",
       "      <td>0.000000</td>\n",
       "      <td>True</td>\n",
       "      <td>True / 12.42 / 0</td>\n",
       "    </tr>\n",
       "    <tr>\n",
       "      <th>2</th>\n",
       "      <td>121</td>\n",
       "      <td>140</td>\n",
       "      <td>27</td>\n",
       "      <td>31</td>\n",
       "      <td>261</td>\n",
       "      <td>58</td>\n",
       "      <td>84.94004</td>\n",
       "      <td>-2.440517</td>\n",
       "      <td>0.270674</td>\n",
       "      <td>0.000000</td>\n",
       "      <td>...</td>\n",
       "      <td>6386</td>\n",
       "      <td>4929</td>\n",
       "      <td>2868.5130</td>\n",
       "      <td>-0.623096</td>\n",
       "      <td>0.044955</td>\n",
       "      <td>0.000000</td>\n",
       "      <td>1.000000e+00</td>\n",
       "      <td>1.000000</td>\n",
       "      <td>False</td>\n",
       "      <td>False / -0.62 / 1</td>\n",
       "    </tr>\n",
       "    <tr>\n",
       "      <th>3</th>\n",
       "      <td>281</td>\n",
       "      <td>290</td>\n",
       "      <td>1126</td>\n",
       "      <td>1112</td>\n",
       "      <td>571</td>\n",
       "      <td>2238</td>\n",
       "      <td>664.82010</td>\n",
       "      <td>1.692473</td>\n",
       "      <td>0.093901</td>\n",
       "      <td>18.024090</td>\n",
       "      <td>...</td>\n",
       "      <td>261</td>\n",
       "      <td>575</td>\n",
       "      <td>202.8218</td>\n",
       "      <td>0.888700</td>\n",
       "      <td>0.181280</td>\n",
       "      <td>4.902351</td>\n",
       "      <td>4.734810e-07</td>\n",
       "      <td>0.000001</td>\n",
       "      <td>False</td>\n",
       "      <td>False / 0.89 / 1.25e-06</td>\n",
       "    </tr>\n",
       "    <tr>\n",
       "      <th>4</th>\n",
       "      <td>1985</td>\n",
       "      <td>1964</td>\n",
       "      <td>1742</td>\n",
       "      <td>1774</td>\n",
       "      <td>3949</td>\n",
       "      <td>3516</td>\n",
       "      <td>1883.83700</td>\n",
       "      <td>-0.445109</td>\n",
       "      <td>0.051885</td>\n",
       "      <td>0.000000</td>\n",
       "      <td>...</td>\n",
       "      <td>412</td>\n",
       "      <td>454</td>\n",
       "      <td>216.2206</td>\n",
       "      <td>-0.109377</td>\n",
       "      <td>0.166859</td>\n",
       "      <td>0.000000</td>\n",
       "      <td>7.439289e-01</td>\n",
       "      <td>1.000000</td>\n",
       "      <td>False</td>\n",
       "      <td>False / -0.11 / 1</td>\n",
       "    </tr>\n",
       "  </tbody>\n",
       "</table>\n",
       "<p>5 rows × 308 columns</p>\n",
       "</div>"
      ],
      "text/plain": [
       "   lcap_wt_emb_fwd_ucount_rep1  lcap_wt_emb_fwd_ucount_rep2  \\\n",
       "0                            0                            0   \n",
       "1                           58                           73   \n",
       "2                          121                          140   \n",
       "3                          281                          290   \n",
       "4                         1985                         1964   \n",
       "\n",
       "   lcap_wt_emb_fwd_dcount_rep1  lcap_wt_emb_fwd_dcount_rep2  \\\n",
       "0                           79                           70   \n",
       "1                          103                           79   \n",
       "2                           27                           31   \n",
       "3                         1126                         1112   \n",
       "4                         1742                         1774   \n",
       "\n",
       "   lcap_wt_emb_fwd_ucount_sum  lcap_wt_emb_fwd_dcount_sum  \\\n",
       "0                           0                         149   \n",
       "1                         131                         182   \n",
       "2                         261                          58   \n",
       "3                         571                        2238   \n",
       "4                        3949                        3516   \n",
       "\n",
       "   lcap_wt_emb_fwd_baseMean  lcap_wt_emb_fwd_log2FoldChange  \\\n",
       "0                  33.80690                        8.064206   \n",
       "1                  77.32209                        0.196354   \n",
       "2                  84.94004                       -2.440517   \n",
       "3                 664.82010                        1.692473   \n",
       "4                1883.83700                       -0.445109   \n",
       "\n",
       "   lcap_wt_emb_fwd_lfcSE  lcap_wt_emb_fwd_stat            ...              \\\n",
       "0               1.827663              4.412305            ...               \n",
       "1               0.249297              0.787632            ...               \n",
       "2               0.270674              0.000000            ...               \n",
       "3               0.093901             18.024090            ...               \n",
       "4               0.051885              0.000000            ...               \n",
       "\n",
       "   lcap_glp1_d13_rev_ucount_sum  lcap_glp1_d13_rev_dcount_sum  \\\n",
       "0                          1050                          1005   \n",
       "1                           225                       1467471   \n",
       "2                          6386                          4929   \n",
       "3                           261                           575   \n",
       "4                           412                           454   \n",
       "\n",
       "   lcap_glp1_d13_rev_baseMean lcap_glp1_d13_rev_log2FoldChange  \\\n",
       "0                    516.2211                        -0.312585   \n",
       "1                 336258.3000                        12.416660   \n",
       "2                   2868.5130                        -0.623096   \n",
       "3                    202.8218                         0.888700   \n",
       "4                    216.2206                        -0.109377   \n",
       "\n",
       "   lcap_glp1_d13_rev_lfcSE  lcap_glp1_d13_rev_stat  lcap_glp1_d13_rev_pvalue  \\\n",
       "0                 0.105402                0.000000              9.984898e-01   \n",
       "1                 0.096059              129.261400              0.000000e+00   \n",
       "2                 0.044955                0.000000              1.000000e+00   \n",
       "3                 0.181280                4.902351              4.734810e-07   \n",
       "4                 0.166859                0.000000              7.439289e-01   \n",
       "\n",
       "   lcap_glp1_d13_rev_padj  lcap_glp1_d13_rev_passed  lcap_glp1_d13_rev_summary  \n",
       "0                1.000000                     False          False / -0.31 / 1  \n",
       "1                0.000000                      True           True / 12.42 / 0  \n",
       "2                1.000000                     False          False / -0.62 / 1  \n",
       "3                0.000001                     False    False / 0.89 / 1.25e-06  \n",
       "4                1.000000                     False          False / -0.11 / 1  \n",
       "\n",
       "[5 rows x 308 columns]"
      ]
     },
     "execution_count": 3,
     "metadata": {},
     "output_type": "execute_result"
    }
   ],
   "source": [
    "#df_lcap = pd.read_csv('annot/S2_regulatory_annotation/_lcap_jump/lcap_summary.tsv' % locals(), sep='\\t')\n",
    "df_lcap_fwd = pd.read_csv('annot/S2_regulatory_annotation/metrics/lcap_all_fwd.tsv', sep='\\t')\n",
    "df_lcap_rev = pd.read_csv('annot/S2_regulatory_annotation/metrics/lcap_all_rev.tsv', sep='\\t')\n",
    "df_lcap = pd.concat([df_lcap_fwd, df_lcap_rev], axis=1)\n",
    "df_lcap.head()"
   ]
  },
  {
   "cell_type": "code",
   "execution_count": 4,
   "metadata": {
    "ExecuteTime": {
     "end_time": "2018-04-16T16:53:58.874018Z",
     "start_time": "2018-04-16T16:53:58.802332Z"
    },
    "code_folding": []
   },
   "outputs": [],
   "source": [
    "# (Setup stranded structs)\n",
    "df_prom_fwd = df_atac[['chrom', 'start', 'end']].copy()\n",
    "df_prom_rev = df_atac[['chrom', 'start', 'end']].copy()\n",
    "df_prom_fwd['strand'] = '+'\n",
    "df_prom_rev['strand'] = '-'"
   ]
  },
  {
   "cell_type": "code",
   "execution_count": 5,
   "metadata": {
    "ExecuteTime": {
     "end_time": "2018-04-16T16:54:11.558993Z",
     "start_time": "2018-04-16T16:53:58.877076Z"
    },
    "code_folding": [],
    "scrolled": true
   },
   "outputs": [
    {
     "name": "stderr",
     "output_type": "stream",
     "text": [
      "/mnt/home1/ahringer/jj374/relmapping/scripts/yarp/yarp.py:400: FutureWarning: convert_objects is deprecated.  Use the data-type specific converters pd.to_datetime, pd.to_timedelta and pd.to_numeric.\n",
      "  df_name = df_name.convert_objects(convert_numeric=True)\n"
     ]
    },
    {
     "name": "stdout",
     "output_type": "stream",
     "text": [
      "17922 17074 105494 99143 808 753\n"
     ]
    }
   ],
   "source": [
    "# df_exon1 / df_exon2: first/other exons, coordinates fixed to represent 5' ends\n",
    "#NAMES_EXON = ('chrom', 'start', 'end', 'transcript_id', 'score', 'strand', 'gene_id', 'gene_biotype', 'display_id')\n",
    "\n",
    "df_pass1_exon1_fwd = read_gffbed('WS260_ce10/WS260_ce10.transcripts.annot_pass1_exon1_fwd.bed')\n",
    "df_pass1_exon1_rev = read_gffbed('WS260_ce10/WS260_ce10.transcripts.annot_pass1_exon1_rev.bed')\n",
    "df_pass1_exon2_fwd = read_gffbed('WS260_ce10/WS260_ce10.transcripts.annot_pass1_exon2_fwd.bed')\n",
    "df_pass1_exon2_rev = read_gffbed('WS260_ce10/WS260_ce10.transcripts.annot_pass1_exon2_rev.bed')\n",
    "df_pass2_exon1_fwd = read_gffbed('WS260_ce10/WS260_ce10.transcripts.annot_pass2_exon1_fwd.bed')\n",
    "df_pass2_exon1_rev = read_gffbed('WS260_ce10/WS260_ce10.transcripts.annot_pass2_exon1_rev.bed')\n",
    "\n",
    "print(len(df_pass1_exon1_fwd), len(df_pass1_exon1_rev),\n",
    "      len(df_pass1_exon2_fwd), len(df_pass1_exon2_rev),\n",
    "      len(df_pass2_exon1_fwd), len(df_pass2_exon1_rev),\n",
    ")"
   ]
  },
  {
   "cell_type": "code",
   "execution_count": 6,
   "metadata": {
    "ExecuteTime": {
     "end_time": "2018-04-16T16:54:43.709958Z",
     "start_time": "2018-04-16T16:54:11.562704Z"
    },
    "code_folding": [
     0
    ],
    "collapsed": true,
    "scrolled": true
   },
   "outputs": [],
   "source": [
    "# Match hypersensitive sites to closest first/other exon\n",
    "def df_closest(df_a, df_b, b_prefix, **kwargs):\n",
    "    df_a_sort = df_a\n",
    "    df_b_sort = df_b.sort_values(list(df_b.columns[:3]))\n",
    "    fn_ = BedTool.from_dataframe(df_a).closest(BedTool.from_dataframe(df_b_sort).fn, **kwargs).fn\n",
    "    names_ = list(itertools.chain(df_a.columns.values,\n",
    "        ['%s_%s' % (b_prefix, col) for col in df_b.columns.values],\n",
    "        ['%s_distance' % (b_prefix)]\n",
    "    ))\n",
    "    df_ = pd.read_csv(fn_, names=names_, sep='\\t')\n",
    "    return df_[names_[len(df_a.columns):]]\n",
    "\n",
    "l_atac_peak_pos = df_atac[['start', 'end']].mean(axis=1).map(int)\n",
    "\n",
    "# Closest exon1 -- protein_coding & pseudogene\n",
    "df_ = pd.concat([df_atac['chrom'], l_atac_peak_pos, l_atac_peak_pos + 1], axis=1).copy()\n",
    "df_pass1_exon1_fwd_out_ = df_closest(df_, df_pass1_exon1_fwd, 'pass1_exon1', D='ref', t='first', iu=True)\n",
    "df_pass1_exon1_rev_out_ = df_closest(df_, df_pass1_exon1_rev, 'pass1_exon1', D='ref', t='last', id=True)\n",
    "\n",
    "# Closest exon2 can be both upstream or downstream\n",
    "df_pass1_exon2_fwd_out_ = df_closest(df_, df_pass1_exon2_fwd, 'pass1_exon2', D='ref', t='first')\n",
    "df_pass1_exon2_rev_out_ = df_closest(df_, df_pass1_exon2_rev, 'pass1_exon2', D='ref', t='last') \n",
    "\n",
    "# Closes pass2/exon1 -- tRNA, snoRNA, rRNA, miRNA, etc\n",
    "df_pass2_exon1_fwd_out_ = df_closest(df_, df_pass2_exon1_fwd, 'pass2_exon1', D='ref', t='first', iu=True)\n",
    "df_pass2_exon1_rev_out_ = df_closest(df_, df_pass2_exon1_rev, 'pass2_exon1', D='ref', t='last', id=True)\n",
    "\n",
    "df_exon_fwd = pd.concat([df_pass1_exon1_fwd_out_, df_pass1_exon2_fwd_out_, df_pass2_exon1_fwd_out_], axis=1)\n",
    "df_exon_rev = pd.concat([df_pass1_exon1_rev_out_, df_pass1_exon2_rev_out_, df_pass2_exon1_rev_out_], axis=1)\n",
    "\n",
    "df_exon_fwd.to_csv(vp('closest_exon_fwd.tsv'), header=True, index=False, sep='\\t')\n",
    "df_exon_rev.to_csv(vp('closest_exon_rev.tsv'), header=True, index=False, sep='\\t')\n",
    "\n",
    "l_ = ['pass1_exon1_gene_id', 'pass1_exon1_locus_id', 'pass1_exon1_distance']\n",
    "write_gffbed(vp('closest_pass1_exon1_fwd.bed'),\n",
    "    chrom = df_atac['chrom'],\n",
    "    start = df_atac['start'],\n",
    "    end = df_atac['end'],\n",
    "    name = df_exon_fwd['pass1_exon1_Name'],\n",
    "    strand = '+',\n",
    "    attr = df_exon_fwd[l_], \n",
    ")\n",
    "\n",
    "write_gffbed(vp('closest_pass1_exon1_rev.bed'),\n",
    "    chrom = df_atac['chrom'],\n",
    "    start = df_atac['start'],\n",
    "    end = df_atac['end'],\n",
    "    name = df_exon_rev['pass1_exon1_Name'],\n",
    "    strand = '-',\n",
    "    attr = df_exon_rev[l_], \n",
    ")\n",
    "\n",
    "l_ = ['pass1_exon2_gene_id', 'pass1_exon2_locus_id', 'pass1_exon2_distance']\n",
    "write_gffbed(vp('closest_pass1_exon2_fwd.bed'),\n",
    "    chrom = df_atac['chrom'],\n",
    "    start = df_atac['start'],\n",
    "    end = df_atac['end'],\n",
    "    name = df_exon_fwd['pass1_exon2_Name'],\n",
    "    strand = '+',\n",
    "    attr = df_exon_fwd[l_], \n",
    ")\n",
    "\n",
    "write_gffbed(vp('closest_pass1_exon2_rev.bed'),\n",
    "    chrom = df_atac['chrom'],\n",
    "    start = df_atac['start'],\n",
    "    end = df_atac['end'],\n",
    "    name = df_exon_rev['pass1_exon2_Name'],\n",
    "    strand = '-',\n",
    "    attr = df_exon_rev[l_], \n",
    ")\n",
    "\n",
    "l_ = ['pass2_exon1_gene_id', 'pass2_exon1_locus_id', 'pass2_exon1_distance']\n",
    "write_gffbed(vp('closest_pass2_exon1_fwd.bed'),\n",
    "    chrom = df_atac['chrom'],\n",
    "    start = df_atac['start'],\n",
    "    end = df_atac['end'],\n",
    "    name = df_exon_fwd['pass2_exon1_Name'],\n",
    "    strand = '+',\n",
    "    attr = df_exon_fwd[l_], \n",
    ")\n",
    "write_gffbed(vp('closest_pass2_exon1_rev.bed'),\n",
    "    chrom = df_atac['chrom'],\n",
    "    start = df_atac['start'],\n",
    "    end = df_atac['end'],\n",
    "    name = df_exon_rev['pass2_exon1_Name'],\n",
    "    strand = '-',\n",
    "    attr = df_exon_rev[l_], \n",
    ")"
   ]
  },
  {
   "cell_type": "code",
   "execution_count": 7,
   "metadata": {
    "ExecuteTime": {
     "end_time": "2018-04-16T16:57:45.069443Z",
     "start_time": "2018-04-16T16:54:43.714849Z"
    },
    "code_folding": [
     0
    ],
    "scrolled": true
   },
   "outputs": [
    {
     "name": "stderr",
     "output_type": "stream",
     "text": [
      "[Parallel(n_jobs=15)]: Done  11 out of  11 | elapsed:  1.4min finished\n",
      "[Parallel(n_jobs=15)]: Done  11 out of  11 | elapsed:  1.4min finished\n"
     ]
    },
    {
     "name": "stdout",
     "output_type": "stream",
     "text": [
      "42246 annot/S2_regulatory_annotation/maxgap_rev.bed\n",
      "42246 annot/S2_regulatory_annotation/maxgap_fwd.bed\n"
     ]
    }
   ],
   "source": [
    "# maximum gap between hypersensitive site and downstream first exons\n",
    "def maxgap(a): return max(len(list(g)) if (k == 0) or (k != k) else 0 for k,g in itertools.groupby(a))\n",
    "\n",
    "def nanmaxgap(a): return maxgap([e if e == e else 0 for e in a])\n",
    "\n",
    "def maxgap_fwd_(fp_inp, chroms, atac_modes, exon1_starts, flank_len=300):\n",
    "    l = []\n",
    "    fh = pyBigWig.open(fp_inp)\n",
    "    for (chrom, atac_mode, exon1_start) in itertools.islice(zip(chroms, atac_modes, exon1_starts), None):\n",
    "        # Interval between atac-mode (+flank), and 5'-end of closest downstream exonl clipped by chromosome ends\n",
    "        start_ = max(atac_mode + flank_len, 0)\n",
    "        end_ = min(exon1_start + 1, fh.chroms(chrom))\n",
    "        if start_ < end_:\n",
    "            l.append(nanmaxgap(np.array(fh.values(chrom, int(start_), int(end_)))))\n",
    "        else:\n",
    "            l.append(-1)\n",
    "    fh.close()\n",
    "    return l\n",
    "\n",
    "def maxgap_rev_(fp_inp, chroms, atac_modes, exon1_ends, flank_len=300):\n",
    "    l = []\n",
    "    fh = pyBigWig.open(fp_inp)\n",
    "    for (chrom, atac_mode, exon1_end) in itertools.islice(zip(chroms, atac_modes, exon1_ends), None):\n",
    "        # Interval between atac-mode (+flank), and 5'-end of closest downstream exonl clipped by chromosome ends\n",
    "        start_ = max(exon1_end - 1, 0)\n",
    "        end_ = min(atac_mode - flank_len + 1, fh.chroms(chrom))\n",
    "        if start_ < end_:\n",
    "            l.append(nanmaxgap(np.array(fh.values(chrom, int(start_), int(end_)))))\n",
    "        else:\n",
    "            l.append(-1)\n",
    "    fh.close()\n",
    "    return l\n",
    "\n",
    "def maxgap_fwd(stage):\n",
    "    step = 'trim20.bwa_pe.rm_unmapped_pe.rm_chrM.rm_rRNA_broad.rm_blacklist.rm_q10.filled_fwd.mean_by_stage'\n",
    "    fp_fwd = pf('lcap808_%s' % (stage,), step, '.bw', 'lcap808')\n",
    "    l_maxgap = maxgap_fwd_(fp_fwd, df_atac['chrom'], l_atac_peak_pos, df_exon_fwd['pass1_exon1_start'])\n",
    "    return pd.DataFrame({'maxgap_%s_fwd' % (stage,): l_maxgap})\n",
    "\n",
    "def maxgap_rev(stage):\n",
    "    step = 'trim20.bwa_pe.rm_unmapped_pe.rm_chrM.rm_rRNA_broad.rm_blacklist.rm_q10.filled_rev.mean_by_stage'\n",
    "    fp_rev = pf('lcap808_%s' % (stage,), step, '.bw', 'lcap808')\n",
    "    l_maxgap = maxgap_rev_(fp_rev, df_atac['chrom'], l_atac_peak_pos, df_exon_rev['pass1_exon1_end'])\n",
    "    return pd.DataFrame({'maxgap_%s_rev' % (stage,): l_maxgap})\n",
    "\n",
    "df_maxgap_fwd = pd.concat(pmap(maxgap_fwd, config['stages'], n_jobs=15), axis=1)\n",
    "df_maxgap_rev = pd.concat(pmap(maxgap_rev, config['stages'], n_jobs=15), axis=1)\n",
    "\n",
    "# Visualise maxgap as .bed-files\n",
    "def itemRgb_(maxgap_):\n",
    "    if maxgap_ == 0:\n",
    "        return RED\n",
    "    else:\n",
    "        return BLUE\n",
    "\n",
    "write_gffbed('annot/S2_regulatory_annotation/metrics/maxgap_fwd.bed',\n",
    "    chrom = df_atac['chrom'],\n",
    "    start = df_atac['start'],\n",
    "    end = df_atac['end'],\n",
    "    name = df_maxgap_fwd.min(axis=1),\n",
    "    strand = '+',\n",
    "    attr = df_maxgap_fwd,\n",
    "    itemRgb = map(itemRgb_, df_maxgap_fwd.min(axis=1)),\n",
    ")\n",
    "\n",
    "write_gffbed('annot/S2_regulatory_annotation/metrics/maxgap_rev.bed',\n",
    "    chrom = df_atac['chrom'],\n",
    "    start = df_atac['start'],\n",
    "    end = df_atac['end'],\n",
    "    name = df_maxgap_rev.min(axis=1),\n",
    "    strand = '-',\n",
    "    attr = df_maxgap_rev,\n",
    "    itemRgb = map(itemRgb_, df_maxgap_rev.min(axis=1)),\n",
    ")\n",
    "\n",
    "!wc -l annot/S2_regulatory_annotation/maxgap_rev.bed\n",
    "!wc -l annot/S2_regulatory_annotation/maxgap_fwd.bed"
   ]
  },
  {
   "cell_type": "code",
   "execution_count": 8,
   "metadata": {
    "ExecuteTime": {
     "end_time": "2018-04-16T16:58:37.038357Z",
     "start_time": "2018-04-16T16:57:45.072648Z"
    },
    "code_folding": [
     0
    ]
   },
   "outputs": [
    {
     "name": "stdout",
     "output_type": "stream",
     "text": [
      "28948 28868 23059 34757 fwd/rev/both/either in pooled scap\n",
      "0.6852408569061428 0.6833471416735708 0.545839744348 0.822748254231\n",
      "104.0 median mode >= 2 tags\n",
      "113.0 median mode (>= 10 tags)\n"
     ]
    }
   ],
   "source": [
    "# scap_count <- <scap tags within region>; scap_mode_raw <- <scap mode position>; scap_mode_count <- <tags at mode>\n",
    "#fp_fwd = pf('scap541_emb_l3_ya', 'tg_se.bwa_se.rm_unmapped.rm_chrM.rm_blacklist.rm_q10.rm_non_coding.firstbp_fwd.rm_exonic', '.bw', 'scap')\n",
    "#fp_rev = pf('scap541_emb_l3_ya', 'tg_se.bwa_se.rm_unmapped.rm_chrM.rm_blacklist.rm_q10.rm_non_coding.firstbp_rev.rm_exonic', '.bw', 'scap')\n",
    "fp_fwd = pf('scap815_wt_all', 'tg_se.bwa_se.rm_unmapped.rm_chrM.rm_blacklist.rm_q10.firstbp_fwd.gt0x2', '.bw', 'scap815')\n",
    "fp_rev = pf('scap815_wt_all', 'tg_se.bwa_se.rm_unmapped.rm_chrM.rm_blacklist.rm_q10.firstbp_rev.gt0x2', '.bw', 'scap815')\n",
    "\n",
    "flank_len = 125\n",
    "chroms_ = list(df_atac['chrom'])\n",
    "starts_ = list(l_atac_peak_pos - flank_len)\n",
    "ends_ =  list(l_atac_peak_pos + flank_len)\n",
    "\n",
    "df_prom_fwd['scap_count'] = list(map(lambda c: int(np.nansum(c)), yp.read_regions(fp_fwd, chroms_, starts_, ends_)))\n",
    "df_prom_rev['scap_count'] = list(map(lambda c: int(np.nansum(c)), yp.read_regions(fp_rev, chroms_, starts_, ends_)))\n",
    "\n",
    "def mode_raw_(s, c):\n",
    "    return int(s + yp.nanargmax_median(c))\n",
    "df_prom_fwd['scap_mode_raw'] = list(map(mode_raw_, starts_, yp.read_regions(fp_fwd, chroms_, starts_, ends_)))\n",
    "df_prom_rev['scap_mode_raw'] = list(map(mode_raw_, starts_, yp.read_regions(fp_rev, chroms_, starts_, ends_)))\n",
    "\n",
    "df_prom_fwd['scap_mode_count'] = list(map(yp.nanmax, yp.read_regions(fp_fwd, chroms_, starts_, ends_)))\n",
    "df_prom_rev['scap_mode_count'] = list(map(yp.nanmax, yp.read_regions(fp_rev, chroms_, starts_, ends_)))\n",
    "\n",
    "n = float(len(df_atac))\n",
    "n_scap_fwd = len(df_prom_fwd.query('scap_mode_count >= 2'))\n",
    "n_scap_rev = len(df_prom_rev.query('scap_mode_count >= 2'))\n",
    "n_scap_bid = sum((df_prom_fwd['scap_mode_count'] >= 2) & (df_prom_rev['scap_mode_count'] >= 2))\n",
    "n_scap_either = sum((df_prom_fwd['scap_mode_count'] >= 2) | (df_prom_rev['scap_mode_count'] >= 2))\n",
    "print(n_scap_fwd, n_scap_rev, n_scap_bid, n_scap_either, 'fwd/rev/both/either in pooled scap')\n",
    "print(n_scap_fwd / n, n_scap_rev / n, n_scap_bid / n, n_scap_either / n)\n",
    "m = (df_prom_fwd['scap_mode_count'] >= 2) & (df_prom_rev['scap_mode_count'] >= 2)\n",
    "print(np.median(df_prom_fwd[m]['scap_mode_raw'] - df_prom_rev[m]['scap_mode_raw']), 'median mode >= 2 tags')\n",
    "m = (df_prom_fwd['scap_mode_count'] >= 10) & (df_prom_rev['scap_mode_count'] >= 10)\n",
    "print(np.median(df_prom_fwd[m]['scap_mode_raw'] - df_prom_rev[m]['scap_mode_raw']), 'median mode (>= 10 tags)')"
   ]
  },
  {
   "cell_type": "code",
   "execution_count": 9,
   "metadata": {
    "ExecuteTime": {
     "end_time": "2018-04-16T16:58:37.193183Z",
     "start_time": "2018-04-16T16:58:37.041987Z"
    },
    "code_folding": [
     0
    ]
   },
   "outputs": [
    {
     "name": "stdout",
     "output_type": "stream",
     "text": [
      "13297 / 13377 sites with extrapolated txn initiation\n"
     ]
    }
   ],
   "source": [
    "# \"Extrapolate\" likely regions of txn initiation based on peak accessibility\n",
    "# On average, short cap modes are spaced by 120bp\n",
    "# Extrapolate short cap modes by peak accessibility +/- 60 (120bp/2) if no short cap mode was found\n",
    "# (These \"extrapolated\" short cap modes can be discarded by filtering for scap_mode_count > 0)\n",
    "def scap_mode_fwd_(scap_mode_raw, scap_mode_count, atac_mode):\n",
    "    if scap_mode_count > 0:\n",
    "        return scap_mode_raw\n",
    "    else:\n",
    "        return atac_mode + 60\n",
    "\n",
    "def scap_mode_rev_(scap_mode_raw, scap_mode_count, atac_mode):\n",
    "    if scap_mode_count > 0:\n",
    "        return scap_mode_raw\n",
    "    else:\n",
    "        return atac_mode - 60\n",
    "\n",
    "df_prom_fwd['scap_mode'] = list(map(scap_mode_fwd_, df_prom_fwd['scap_mode_raw'], df_prom_fwd['scap_mode_count'], l_atac_peak_pos))\n",
    "df_prom_rev['scap_mode'] = list(map(scap_mode_rev_, df_prom_rev['scap_mode_raw'], df_prom_rev['scap_mode_count'], l_atac_peak_pos))\n",
    "print('%d / %d sites with extrapolated txn initiation' % (\n",
    "    len(df_prom_fwd.query('scap_mode_count == 0')), \n",
    "    len(df_prom_rev.query('scap_mode_count == 0'))\n",
    "))"
   ]
  },
  {
   "cell_type": "code",
   "execution_count": 10,
   "metadata": {
    "ExecuteTime": {
     "end_time": "2018-04-16T16:58:39.415733Z",
     "start_time": "2018-04-16T16:58:37.196476Z"
    },
    "code_folding": [
     0
    ]
   },
   "outputs": [
    {
     "name": "stdout",
     "output_type": "stream",
     "text": [
      "wt_emb fwd\n",
      "wt_emb rev\n",
      "wt_l1 fwd\n",
      "wt_l1 rev\n",
      "wt_l2 fwd\n",
      "wt_l2 rev\n",
      "wt_l3 fwd\n",
      "wt_l3 rev\n",
      "wt_l4 fwd\n",
      "wt_l4 rev\n",
      "wt_ya fwd\n",
      "wt_ya rev\n",
      "glp1_d1 fwd\n",
      "glp1_d1 rev\n",
      "glp1_d2 fwd\n",
      "glp1_d2 rev\n",
      "glp1_d6 fwd\n",
      "glp1_d6 rev\n",
      "glp1_d9 fwd\n",
      "glp1_d9 rev\n",
      "glp1_d13 fwd\n",
      "glp1_d13 rev\n"
     ]
    }
   ],
   "source": [
    "# Stage-specific annotation\n",
    "d_annot_strand_legend = collections.OrderedDict([\n",
    "    ('coding_promoter', yp.RED),\n",
    "    ('pseudogene_promoter', yp.ORANGE),\n",
    "    ('non-coding_RNA', yp.BLACK),\n",
    "    ('unknown_promoter', yp.YELLOW),\n",
    "    ('transcription_initiation', yp.GREEN),\n",
    "    ('no_transcription', yp.BLUE),\n",
    "])\n",
    "\n",
    "d_annot_legend = collections.OrderedDict([\n",
    "    ('coding_promoter', yp.RED),\n",
    "    ('pseudogene_promoter', yp.ORANGE),\n",
    "    ('non-coding_RNA', yp.BLACK),\n",
    "    ('unknown_promoter', yp.YELLOW),\n",
    "    ('putative_enhancer', yp.GREEN),\n",
    "    ('other_element', yp.BLUE),\n",
    "])\n",
    "\n",
    "def prom_summary_stage(l_chrom, l_start, l_end, l_jump, l_incr, l_maxgap, l_exon1_dist, l_exon2_dist, l_pass2_exon2_dist, l_has_scap, l_scap_diff, l_gene_biotype):\n",
    "    for (chrom, start, end, jump, incr, maxgap, exon1_dist, exon2_dist, pass2_exon1_dist, scap_mode_count, scap_diff, gene_biotype) in \\\n",
    "            zip(l_chrom, l_start, l_end, l_jump, l_incr, l_maxgap, l_exon1_dist, l_exon2_dist, l_pass2_exon2_dist, l_has_scap, l_scap_diff, l_gene_biotype):\n",
    "\n",
    "        near_exon1 = abs(exon1_dist) < 300\n",
    "        near_exon2 = abs(exon2_dist) < 300\n",
    "        near_pass2_exon1 = abs(pass2_exon1_dist) < 300\n",
    "        has_scap = scap_mode_count >= 2\n",
    "        \n",
    "        #is_gene_biotype = (gene_biotype == 'protein_coding') | (gene_biotype == 'pseudogene')\n",
    "        v = False\n",
    "        #if chrom == \"chrI\" and start == 183421 and end == 183568: v = True\n",
    "\n",
    "        # \"General case\" -- hypersensitive site is away from all exons\n",
    "        if not(near_exon1 or near_exon2):\n",
    "            if (incr or jump) and (maxgap == 0):\n",
    "                #if v: print('coding_promoter0')\n",
    "                yield 'coding_promoter' if (gene_biotype == 'protein_coding') else 'pseudogene_promoter'\n",
    "            # \"Special cases\" -- elongation increase could be due to a nearby exon\n",
    "            # exception #1: closest annotation is non-coding\n",
    "            elif near_pass2_exon1:\n",
    "                if v: print('non-coding_RNA')\n",
    "                yield 'non-coding_RNA'\n",
    "            elif jump and has_scap:\n",
    "                if v: print('unknown_promoter0')\n",
    "                yield 'unknown_promoter'\n",
    "            elif has_scap:\n",
    "                if v: print('transcription_initiation0')\n",
    "                yield 'transcription_initiation'\n",
    "            else:\n",
    "                if v: print('no_transcription0')\n",
    "                yield 'no_transcription'\n",
    "\n",
    "        # 5' end of first exon is within 300bp downstream of `atac_mode`\n",
    "        elif near_exon1 and (exon1_dist >= 0):\n",
    "            # long cap has a clear 'raft'\n",
    "            if incr:\n",
    "                if v: print('coding_promoter1a')\n",
    "                yield 'coding_promoter' if (gene_biotype == 'protein_coding') else 'pseudogene_promoter'\n",
    "            # exception #3: upstream-ish sites\n",
    "            elif jump and has_scap:\n",
    "                if v: print('coding_promoter1b')\n",
    "                yield 'coding_promoter' if (gene_biotype == 'protein_coding') else 'pseudogene_promoter'\n",
    "                #if gene_biotype == 'protein_coding' else 'non-coding_RNA'\n",
    "            elif near_pass2_exon1:\n",
    "                if v: print('non-coding_RNA')\n",
    "                yield 'non-coding_RNA'\n",
    "            elif has_scap:\n",
    "                if v: print('transcription_initiation1')\n",
    "                yield 'transcription_initiation'\n",
    "            else:\n",
    "                if v: print('no_transcription1')\n",
    "                yield 'no_transcription'\n",
    "\n",
    "        # 5' end of first exon is within 300bp upstream of `atac_mode`\n",
    "        elif near_exon1 and (exon1_dist < 0):\n",
    "            if incr:\n",
    "                if v: print('coding_promoter2a', scap_mode_count, has_scap)\n",
    "                yield 'coding_promoter' if (gene_biotype == 'protein_coding') else 'pseudogene_promoter'\n",
    "            elif jump and has_scap and (abs(scap_diff) < 50):\n",
    "                if v: print('coding_promoter2b', scap_mode_count, has_scap)\n",
    "                yield 'coding_promoter' if (gene_biotype == 'protein_coding') else 'pseudogene_promoter'\n",
    "            elif near_pass2_exon1:\n",
    "                if v: print('non-coding_RNA')\n",
    "                yield 'non-coding_RNA'\n",
    "            elif has_scap:\n",
    "                if v: print('transcription_initiation2')\n",
    "                yield 'transcription_initiation'\n",
    "            else:\n",
    "                if v: print('no_transcription2')\n",
    "                yield 'no_transcription'\n",
    "\n",
    "        # Site has to overlap non-first exon\n",
    "        else:\n",
    "            assert(near_exon2)\n",
    "            if near_pass2_exon1:\n",
    "                if v: print('non-coding_RNA')\n",
    "                yield 'non-coding_RNA'\n",
    "            elif has_scap:\n",
    "                if v: print('no_transcription3')\n",
    "                yield 'transcription_initiation'\n",
    "            else:\n",
    "                if v: print('no_transcription3')\n",
    "                yield 'no_transcription'\n",
    "\n",
    "for stage in itertools.islice(config['stages'], None):\n",
    "    print(stage, 'fwd')\n",
    "    df_prom_fwd['annot_%s' % (stage,)] = list(prom_summary_stage(\n",
    "        df_atac['chrom'], df_atac['start'], df_atac['end'],\n",
    "        df_lcap['lcap_%s_fwd_passed' % (stage,)],\n",
    "        df_lcap['lcap_%s_fwd_passed' % (stage,)],\n",
    "        df_maxgap_fwd['maxgap_%s_fwd' % (stage,)],\n",
    "        df_exon_fwd['pass1_exon1_start'] - l_atac_peak_pos,\n",
    "        df_exon_fwd['pass1_exon2_start'] - l_atac_peak_pos,\n",
    "        df_exon_fwd['pass2_exon1_start'] - l_atac_peak_pos,\n",
    "        df_prom_fwd['scap_mode_count'],\n",
    "        df_prom_fwd['scap_mode'] - df_exon_fwd['pass1_exon1_start'],\n",
    "        df_exon_fwd['pass1_exon1_gene_biotype'],\n",
    "    ))\n",
    "    print(stage, 'rev')\n",
    "    df_prom_rev['annot_%s' % (stage,)] = list(prom_summary_stage(\n",
    "        df_atac['chrom'], df_atac['start'], df_atac['end'],\n",
    "        df_lcap['lcap_%s_rev_passed' % (stage,)],\n",
    "        df_lcap['lcap_%s_rev_passed' % (stage,)],\n",
    "        df_maxgap_rev['maxgap_%s_rev' % (stage,)],\n",
    "        l_atac_peak_pos - (df_exon_rev['pass1_exon1_end'] - 1),\n",
    "        l_atac_peak_pos - (df_exon_rev['pass1_exon2_end'] - 1),\n",
    "        l_atac_peak_pos - (df_exon_rev['pass2_exon1_end'] - 1),\n",
    "        df_prom_rev['scap_mode_count'],\n",
    "        (df_exon_rev['pass1_exon1_end'] - 1) - df_prom_rev['scap_mode'],\n",
    "        df_exon_rev['pass1_exon1_gene_biotype'],\n",
    "    ))"
   ]
  },
  {
   "cell_type": "code",
   "execution_count": 11,
   "metadata": {
    "ExecuteTime": {
     "end_time": "2018-04-16T16:58:45.505786Z",
     "start_time": "2018-04-16T16:58:39.417670Z"
    },
    "code_folding": [
     0
    ],
    "collapsed": true
   },
   "outputs": [],
   "source": [
    "# Aggregate stage-specific annotations across stages\n",
    "def annot_summary(l_annot):\n",
    "    l_ranking = list(d_annot_strand_legend.keys())\n",
    "    l_annot_i = [l_ranking.index(annot) for annot in l_annot]\n",
    "    return l_ranking[min(l_annot_i)]\n",
    "\n",
    "df_prom_fwd['annot_summary'] = list(map(lambda ir: annot_summary(ir[1].tolist()),\n",
    "    df_prom_fwd[['annot_%(stage)s' % locals() for stage in config['stages']]].iterrows()))\n",
    "\n",
    "df_prom_rev['annot_summary'] = list(map(lambda ir: annot_summary(ir[1].tolist()),\n",
    "    df_prom_rev[['annot_%(stage)s' % locals() for stage in config['stages']]].iterrows()))"
   ]
  },
  {
   "cell_type": "code",
   "execution_count": 12,
   "metadata": {
    "ExecuteTime": {
     "end_time": "2018-04-16T16:58:45.852781Z",
     "start_time": "2018-04-16T16:58:45.508113Z"
    },
    "code_folding": []
   },
   "outputs": [
    {
     "data": {
      "text/html": [
       "<div>\n",
       "<style>\n",
       "    .dataframe thead tr:only-child th {\n",
       "        text-align: right;\n",
       "    }\n",
       "\n",
       "    .dataframe thead th {\n",
       "        text-align: left;\n",
       "    }\n",
       "\n",
       "    .dataframe tbody tr th {\n",
       "        vertical-align: top;\n",
       "    }\n",
       "</style>\n",
       "<table border=\"1\" class=\"dataframe\">\n",
       "  <thead>\n",
       "    <tr style=\"text-align: right;\">\n",
       "      <th></th>\n",
       "      <th>wt_emb</th>\n",
       "      <th>wt_l1</th>\n",
       "      <th>wt_l2</th>\n",
       "      <th>wt_l3</th>\n",
       "      <th>wt_l4</th>\n",
       "      <th>wt_ya</th>\n",
       "      <th>glp1_d1</th>\n",
       "      <th>glp1_d2</th>\n",
       "      <th>glp1_d6</th>\n",
       "      <th>glp1_d9</th>\n",
       "      <th>glp1_d13</th>\n",
       "      <th>summary</th>\n",
       "    </tr>\n",
       "  </thead>\n",
       "  <tbody>\n",
       "    <tr>\n",
       "      <th>coding_promoter</th>\n",
       "      <td>4514</td>\n",
       "      <td>4368</td>\n",
       "      <td>4784</td>\n",
       "      <td>4873</td>\n",
       "      <td>4670</td>\n",
       "      <td>4690</td>\n",
       "      <td>4037</td>\n",
       "      <td>3635</td>\n",
       "      <td>3908</td>\n",
       "      <td>3796</td>\n",
       "      <td>3851</td>\n",
       "      <td>8843</td>\n",
       "    </tr>\n",
       "    <tr>\n",
       "      <th>pseudogene_promoter</th>\n",
       "      <td>100</td>\n",
       "      <td>106</td>\n",
       "      <td>89</td>\n",
       "      <td>92</td>\n",
       "      <td>98</td>\n",
       "      <td>118</td>\n",
       "      <td>71</td>\n",
       "      <td>62</td>\n",
       "      <td>76</td>\n",
       "      <td>71</td>\n",
       "      <td>78</td>\n",
       "      <td>215</td>\n",
       "    </tr>\n",
       "    <tr>\n",
       "      <th>non-coding_RNA</th>\n",
       "      <td>497</td>\n",
       "      <td>497</td>\n",
       "      <td>492</td>\n",
       "      <td>497</td>\n",
       "      <td>500</td>\n",
       "      <td>504</td>\n",
       "      <td>497</td>\n",
       "      <td>502</td>\n",
       "      <td>498</td>\n",
       "      <td>501</td>\n",
       "      <td>491</td>\n",
       "      <td>458</td>\n",
       "    </tr>\n",
       "    <tr>\n",
       "      <th>unknown_promoter</th>\n",
       "      <td>4886</td>\n",
       "      <td>3853</td>\n",
       "      <td>3899</td>\n",
       "      <td>4457</td>\n",
       "      <td>4052</td>\n",
       "      <td>4221</td>\n",
       "      <td>3836</td>\n",
       "      <td>3645</td>\n",
       "      <td>4061</td>\n",
       "      <td>4318</td>\n",
       "      <td>4112</td>\n",
       "      <td>12273</td>\n",
       "    </tr>\n",
       "    <tr>\n",
       "      <th>transcription_initiation</th>\n",
       "      <td>19497</td>\n",
       "      <td>20694</td>\n",
       "      <td>20281</td>\n",
       "      <td>19653</td>\n",
       "      <td>20288</td>\n",
       "      <td>20052</td>\n",
       "      <td>21018</td>\n",
       "      <td>21609</td>\n",
       "      <td>20943</td>\n",
       "      <td>20810</td>\n",
       "      <td>20998</td>\n",
       "      <td>8611</td>\n",
       "    </tr>\n",
       "    <tr>\n",
       "      <th>no_transcription</th>\n",
       "      <td>12751</td>\n",
       "      <td>12727</td>\n",
       "      <td>12700</td>\n",
       "      <td>12673</td>\n",
       "      <td>12637</td>\n",
       "      <td>12660</td>\n",
       "      <td>12786</td>\n",
       "      <td>12792</td>\n",
       "      <td>12759</td>\n",
       "      <td>12749</td>\n",
       "      <td>12715</td>\n",
       "      <td>11845</td>\n",
       "    </tr>\n",
       "  </tbody>\n",
       "</table>\n",
       "</div>"
      ],
      "text/plain": [
       "                          wt_emb  wt_l1  wt_l2  wt_l3  wt_l4  wt_ya  glp1_d1  \\\n",
       "coding_promoter             4514   4368   4784   4873   4670   4690     4037   \n",
       "pseudogene_promoter          100    106     89     92     98    118       71   \n",
       "non-coding_RNA               497    497    492    497    500    504      497   \n",
       "unknown_promoter            4886   3853   3899   4457   4052   4221     3836   \n",
       "transcription_initiation   19497  20694  20281  19653  20288  20052    21018   \n",
       "no_transcription           12751  12727  12700  12673  12637  12660    12786   \n",
       "\n",
       "                          glp1_d2  glp1_d6  glp1_d9  glp1_d13  summary  \n",
       "coding_promoter              3635     3908     3796      3851     8843  \n",
       "pseudogene_promoter            62       76       71        78      215  \n",
       "non-coding_RNA                502      498      501       491      458  \n",
       "unknown_promoter             3645     4061     4318      4112    12273  \n",
       "transcription_initiation    21609    20943    20810     20998     8611  \n",
       "no_transcription            12792    12759    12749     12715    11845  "
      ]
     },
     "execution_count": 12,
     "metadata": {},
     "output_type": "execute_result"
    }
   ],
   "source": [
    "# Forward strand annotation summary\n",
    "df_fwd_ = pd.concat([df_prom_fwd['annot_%(stage)s' % locals()].value_counts() for stage in config['stages'] + ['summary']], axis=1).loc[d_annot_strand_legend.keys()]\n",
    "df_fwd_.columns = config['stages'] + ['summary']\n",
    "#df_fwd_.to_latex('%(dm_step)s_fig/prom_summary_rev.latex' % locals())\n",
    "df_fwd_"
   ]
  },
  {
   "cell_type": "code",
   "execution_count": 13,
   "metadata": {
    "ExecuteTime": {
     "end_time": "2018-04-16T16:58:46.546997Z",
     "start_time": "2018-04-16T16:58:45.854588Z"
    }
   },
   "outputs": [
    {
     "data": {
      "text/plain": [
       "<matplotlib.table.Table at 0x7f784e41cba8>"
      ]
     },
     "execution_count": 13,
     "metadata": {},
     "output_type": "execute_result"
    },
    {
     "data": {
      "image/png": "[encoded data removed]",
      "text/plain": [
       "<matplotlib.figure.Figure at 0x7f784e92f9e8>"
      ]
     },
     "metadata": {
      "image/png": {
       "height": 235,
       "width": 485
      }
     },
     "output_type": "display_data"
    }
   ],
   "source": [
    "plt.subplot(111, frame_on=False)\n",
    "plt.gca().xaxis.set_visible(False)\n",
    "plt.gca().yaxis.set_visible(False)\n",
    "pd.plotting.table(data=df_fwd_, ax=plt.gca(), loc='center left')\n",
    "#plt.savefig('annot/FigA_mapping/annot_crosstab_fwd.pdf', bbox_inches='tight')"
   ]
  },
  {
   "cell_type": "code",
   "execution_count": 14,
   "metadata": {
    "ExecuteTime": {
     "end_time": "2018-04-16T16:58:46.742339Z",
     "start_time": "2018-04-16T16:58:46.548797Z"
    },
    "code_folding": [],
    "scrolled": true
   },
   "outputs": [
    {
     "data": {
      "text/html": [
       "<div>\n",
       "<style>\n",
       "    .dataframe thead tr:only-child th {\n",
       "        text-align: right;\n",
       "    }\n",
       "\n",
       "    .dataframe thead th {\n",
       "        text-align: left;\n",
       "    }\n",
       "\n",
       "    .dataframe tbody tr th {\n",
       "        vertical-align: top;\n",
       "    }\n",
       "</style>\n",
       "<table border=\"1\" class=\"dataframe\">\n",
       "  <thead>\n",
       "    <tr style=\"text-align: right;\">\n",
       "      <th></th>\n",
       "      <th>wt_emb</th>\n",
       "      <th>wt_l1</th>\n",
       "      <th>wt_l2</th>\n",
       "      <th>wt_l3</th>\n",
       "      <th>wt_l4</th>\n",
       "      <th>wt_ya</th>\n",
       "      <th>glp1_d1</th>\n",
       "      <th>glp1_d2</th>\n",
       "      <th>glp1_d6</th>\n",
       "      <th>glp1_d9</th>\n",
       "      <th>glp1_d13</th>\n",
       "      <th>summary</th>\n",
       "    </tr>\n",
       "  </thead>\n",
       "  <tbody>\n",
       "    <tr>\n",
       "      <th>coding_promoter</th>\n",
       "      <td>4479</td>\n",
       "      <td>4310</td>\n",
       "      <td>4668</td>\n",
       "      <td>4833</td>\n",
       "      <td>4685</td>\n",
       "      <td>4636</td>\n",
       "      <td>4103</td>\n",
       "      <td>3502</td>\n",
       "      <td>3874</td>\n",
       "      <td>3769</td>\n",
       "      <td>3809</td>\n",
       "      <td>8750</td>\n",
       "    </tr>\n",
       "    <tr>\n",
       "      <th>pseudogene_promoter</th>\n",
       "      <td>119</td>\n",
       "      <td>107</td>\n",
       "      <td>118</td>\n",
       "      <td>116</td>\n",
       "      <td>122</td>\n",
       "      <td>126</td>\n",
       "      <td>78</td>\n",
       "      <td>63</td>\n",
       "      <td>84</td>\n",
       "      <td>69</td>\n",
       "      <td>76</td>\n",
       "      <td>242</td>\n",
       "    </tr>\n",
       "    <tr>\n",
       "      <th>non-coding_RNA</th>\n",
       "      <td>501</td>\n",
       "      <td>499</td>\n",
       "      <td>497</td>\n",
       "      <td>500</td>\n",
       "      <td>505</td>\n",
       "      <td>502</td>\n",
       "      <td>509</td>\n",
       "      <td>518</td>\n",
       "      <td>503</td>\n",
       "      <td>504</td>\n",
       "      <td>503</td>\n",
       "      <td>469</td>\n",
       "    </tr>\n",
       "    <tr>\n",
       "      <th>unknown_promoter</th>\n",
       "      <td>4821</td>\n",
       "      <td>4011</td>\n",
       "      <td>4069</td>\n",
       "      <td>4563</td>\n",
       "      <td>4003</td>\n",
       "      <td>4170</td>\n",
       "      <td>3864</td>\n",
       "      <td>3659</td>\n",
       "      <td>4105</td>\n",
       "      <td>4355</td>\n",
       "      <td>4022</td>\n",
       "      <td>12510</td>\n",
       "    </tr>\n",
       "    <tr>\n",
       "      <th>transcription_initiation</th>\n",
       "      <td>19482</td>\n",
       "      <td>20520</td>\n",
       "      <td>20120</td>\n",
       "      <td>19472</td>\n",
       "      <td>20194</td>\n",
       "      <td>20050</td>\n",
       "      <td>20850</td>\n",
       "      <td>21613</td>\n",
       "      <td>20850</td>\n",
       "      <td>20668</td>\n",
       "      <td>21022</td>\n",
       "      <td>8394</td>\n",
       "    </tr>\n",
       "    <tr>\n",
       "      <th>no_transcription</th>\n",
       "      <td>12843</td>\n",
       "      <td>12798</td>\n",
       "      <td>12773</td>\n",
       "      <td>12761</td>\n",
       "      <td>12736</td>\n",
       "      <td>12761</td>\n",
       "      <td>12841</td>\n",
       "      <td>12890</td>\n",
       "      <td>12829</td>\n",
       "      <td>12880</td>\n",
       "      <td>12813</td>\n",
       "      <td>11880</td>\n",
       "    </tr>\n",
       "  </tbody>\n",
       "</table>\n",
       "</div>"
      ],
      "text/plain": [
       "                          wt_emb  wt_l1  wt_l2  wt_l3  wt_l4  wt_ya  glp1_d1  \\\n",
       "coding_promoter             4479   4310   4668   4833   4685   4636     4103   \n",
       "pseudogene_promoter          119    107    118    116    122    126       78   \n",
       "non-coding_RNA               501    499    497    500    505    502      509   \n",
       "unknown_promoter            4821   4011   4069   4563   4003   4170     3864   \n",
       "transcription_initiation   19482  20520  20120  19472  20194  20050    20850   \n",
       "no_transcription           12843  12798  12773  12761  12736  12761    12841   \n",
       "\n",
       "                          glp1_d2  glp1_d6  glp1_d9  glp1_d13  summary  \n",
       "coding_promoter              3502     3874     3769      3809     8750  \n",
       "pseudogene_promoter            63       84       69        76      242  \n",
       "non-coding_RNA                518      503      504       503      469  \n",
       "unknown_promoter             3659     4105     4355      4022    12510  \n",
       "transcription_initiation    21613    20850    20668     21022     8394  \n",
       "no_transcription            12890    12829    12880     12813    11880  "
      ]
     },
     "execution_count": 14,
     "metadata": {},
     "output_type": "execute_result"
    }
   ],
   "source": [
    "# Reverse strand annotation summary\n",
    "df_rev_ = pd.concat([df_prom_rev['annot_%(stage)s' % locals()].value_counts() for stage in config['stages'] + ['summary']], axis=1).loc[d_annot_strand_legend.keys()]\n",
    "df_rev_.columns = config['stages'] + ['summary']\n",
    "#df_rev_.to_latex('%(dm_step)s_fig/prom_summary_rev.latex' % locals())\n",
    "df_rev_"
   ]
  },
  {
   "cell_type": "code",
   "execution_count": 15,
   "metadata": {
    "ExecuteTime": {
     "end_time": "2018-04-16T16:58:47.518653Z",
     "start_time": "2018-04-16T16:58:46.744410Z"
    }
   },
   "outputs": [
    {
     "data": {
      "text/plain": [
       "<matplotlib.table.Table at 0x7f784c9abbe0>"
      ]
     },
     "execution_count": 15,
     "metadata": {},
     "output_type": "execute_result"
    },
    {
     "data": {
      "image/png": "[encoded data removed]",
      "text/plain": [
       "<matplotlib.figure.Figure at 0x7f784ccfb240>"
      ]
     },
     "metadata": {
      "image/png": {
       "height": 235,
       "width": 485
      }
     },
     "output_type": "display_data"
    }
   ],
   "source": [
    "plt.subplot(111, frame_on=False)\n",
    "plt.gca().xaxis.set_visible(False)\n",
    "plt.gca().yaxis.set_visible(False)\n",
    "pd.plotting.table(data=df_rev_, ax=plt.gca(), loc='center left')\n",
    "#plt.savefig('annot/FigA_mapping/annot_crosstab_rev.pdf', bbox_inches='tight')"
   ]
  },
  {
   "cell_type": "code",
   "execution_count": 16,
   "metadata": {
    "ExecuteTime": {
     "end_time": "2018-04-16T16:58:47.632096Z",
     "start_time": "2018-04-16T16:58:47.521251Z"
    },
    "code_folding": []
   },
   "outputs": [
    {
     "data": {
      "text/html": [
       "<div>\n",
       "<style>\n",
       "    .dataframe thead tr:only-child th {\n",
       "        text-align: right;\n",
       "    }\n",
       "\n",
       "    .dataframe thead th {\n",
       "        text-align: left;\n",
       "    }\n",
       "\n",
       "    .dataframe tbody tr th {\n",
       "        vertical-align: top;\n",
       "    }\n",
       "</style>\n",
       "<table border=\"1\" class=\"dataframe\">\n",
       "  <thead>\n",
       "    <tr style=\"text-align: right;\">\n",
       "      <th>col_0</th>\n",
       "      <th>coding_promoter</th>\n",
       "      <th>pseudogene_promoter</th>\n",
       "      <th>non-coding_RNA</th>\n",
       "      <th>unknown_promoter</th>\n",
       "      <th>transcription_initiation</th>\n",
       "      <th>no_transcription</th>\n",
       "    </tr>\n",
       "    <tr>\n",
       "      <th>row_0</th>\n",
       "      <th></th>\n",
       "      <th></th>\n",
       "      <th></th>\n",
       "      <th></th>\n",
       "      <th></th>\n",
       "      <th></th>\n",
       "    </tr>\n",
       "  </thead>\n",
       "  <tbody>\n",
       "    <tr>\n",
       "      <th>coding_promoter</th>\n",
       "      <td>2453</td>\n",
       "      <td>58</td>\n",
       "      <td>32</td>\n",
       "      <td>3570</td>\n",
       "      <td>995</td>\n",
       "      <td>1735</td>\n",
       "    </tr>\n",
       "    <tr>\n",
       "      <th>pseudogene_promoter</th>\n",
       "      <td>54</td>\n",
       "      <td>13</td>\n",
       "      <td>1</td>\n",
       "      <td>64</td>\n",
       "      <td>21</td>\n",
       "      <td>62</td>\n",
       "    </tr>\n",
       "    <tr>\n",
       "      <th>non-coding_RNA</th>\n",
       "      <td>38</td>\n",
       "      <td>0</td>\n",
       "      <td>50</td>\n",
       "      <td>79</td>\n",
       "      <td>50</td>\n",
       "      <td>241</td>\n",
       "    </tr>\n",
       "    <tr>\n",
       "      <th>unknown_promoter</th>\n",
       "      <td>3512</td>\n",
       "      <td>74</td>\n",
       "      <td>69</td>\n",
       "      <td>2713</td>\n",
       "      <td>4010</td>\n",
       "      <td>1895</td>\n",
       "    </tr>\n",
       "    <tr>\n",
       "      <th>transcription_initiation</th>\n",
       "      <td>955</td>\n",
       "      <td>21</td>\n",
       "      <td>49</td>\n",
       "      <td>4172</td>\n",
       "      <td>1380</td>\n",
       "      <td>2034</td>\n",
       "    </tr>\n",
       "    <tr>\n",
       "      <th>no_transcription</th>\n",
       "      <td>1738</td>\n",
       "      <td>76</td>\n",
       "      <td>268</td>\n",
       "      <td>1912</td>\n",
       "      <td>1938</td>\n",
       "      <td>5913</td>\n",
       "    </tr>\n",
       "  </tbody>\n",
       "</table>\n",
       "</div>"
      ],
      "text/plain": [
       "col_0                     coding_promoter  pseudogene_promoter  \\\n",
       "row_0                                                            \n",
       "coding_promoter                      2453                   58   \n",
       "pseudogene_promoter                    54                   13   \n",
       "non-coding_RNA                         38                    0   \n",
       "unknown_promoter                     3512                   74   \n",
       "transcription_initiation              955                   21   \n",
       "no_transcription                     1738                   76   \n",
       "\n",
       "col_0                     non-coding_RNA  unknown_promoter  \\\n",
       "row_0                                                        \n",
       "coding_promoter                       32              3570   \n",
       "pseudogene_promoter                    1                64   \n",
       "non-coding_RNA                        50                79   \n",
       "unknown_promoter                      69              2713   \n",
       "transcription_initiation              49              4172   \n",
       "no_transcription                     268              1912   \n",
       "\n",
       "col_0                     transcription_initiation  no_transcription  \n",
       "row_0                                                                 \n",
       "coding_promoter                                995              1735  \n",
       "pseudogene_promoter                             21                62  \n",
       "non-coding_RNA                                  50               241  \n",
       "unknown_promoter                              4010              1895  \n",
       "transcription_initiation                      1380              2034  \n",
       "no_transcription                              1938              5913  "
      ]
     },
     "execution_count": 16,
     "metadata": {},
     "output_type": "execute_result"
    }
   ],
   "source": [
    "# Cross-tabulate strand-specific summary annotation\n",
    "pd.crosstab(pd.Categorical(df_prom_fwd['annot_summary']), pd.Categorical(df_prom_rev['annot_summary'])).loc[list(d_annot_strand_legend.keys()), list(d_annot_strand_legend.keys())]"
   ]
  },
  {
   "cell_type": "code",
   "execution_count": 17,
   "metadata": {
    "ExecuteTime": {
     "end_time": "2018-04-16T16:58:48.113830Z",
     "start_time": "2018-04-16T16:58:47.634658Z"
    }
   },
   "outputs": [
    {
     "name": "stdout",
     "output_type": "stream",
     "text": [
      "15140 bidirect, 23059 with scap, 10406 both, 68.73\n"
     ]
    }
   ],
   "source": [
    "m_prom = (df_prom_fwd['annot_summary'] == 'coding_promoter') | (df_prom_rev['annot_summary'] == 'coding_promoter')\n",
    "m_both_scap = (df_prom_fwd['scap_mode_count'] >= 2) & (df_prom_rev['scap_mode_count'] >= 2)\n",
    "f_ = sum(m_prom & m_both_scap) / sum(m_prom)\n",
    "print('%d bidirect, %d with scap, %d both, %.2f' % (sum(m_prom), sum(m_both_scap), sum(m_prom & m_both_scap), 100*f_))"
   ]
  },
  {
   "cell_type": "code",
   "execution_count": 18,
   "metadata": {
    "ExecuteTime": {
     "end_time": "2018-04-16T16:59:19.003519Z",
     "start_time": "2018-04-16T16:58:48.115718Z"
    },
    "code_folding": [
     0
    ]
   },
   "outputs": [
    {
     "name": "stdout",
     "output_type": "stream",
     "text": [
      "5835 fwd 5782 rev 11617 pooled\n",
      "11617 annot/S2_regulatory_annotation/metrics/_df_prom_bounds.bed\r\n"
     ]
    },
    {
     "name": "stderr",
     "output_type": "stream",
     "text": [
      "/mnt/home1/ahringer/jj374/relmapping/scripts/yarp/yarp.py:400: FutureWarning: convert_objects is deprecated.  Use the data-type specific converters pd.to_datetime, pd.to_timedelta and pd.to_numeric.\n",
      "  df_name = df_name.convert_objects(convert_numeric=True)\n"
     ]
    },
    {
     "name": "stdout",
     "output_type": "stream",
     "text": [
      "23155 annot/S2_regulatory_annotation/metrics/_df_gene_bounds.bed\n",
      "23156 annot/S2_regulatory_annotation/metrics/outron-extended_genes.bed\n"
     ]
    }
   ],
   "source": [
    "# S2_outron-extended_genes.bed <- genes extended by outron regions as defined by (aggregated) promoter annotations\n",
    "def df_outron_extended_genes_(df_prom_fwd_, df_prom_rev_):\n",
    "\n",
    "    # df_prom_bounds <- prom min/max boundaries, based on promoter annotation\n",
    "    df_prom_bounds_fwd = df_prom_fwd_.groupby(['pass1_exon1_gene_id', 'pass1_exon1_locus_id']).agg({\n",
    "        'chrom': lambda s: list(set(s))[0],\n",
    "        'start': np.min,\n",
    "        'end': np.max,\n",
    "    }).reset_index()[['chrom', 'start', 'end', 'pass1_exon1_gene_id', 'pass1_exon1_locus_id']]\n",
    "    df_prom_bounds_fwd.columns = ['chrom', 'start', 'end', 'gene_id', 'locus_id']\n",
    "\n",
    "    df_prom_bounds_rev = df_prom_rev_.groupby(['pass1_exon1_gene_id', 'pass1_exon1_locus_id']).agg({\n",
    "        'chrom': lambda s: list(set(s))[0],\n",
    "        'start': np.min,\n",
    "        'end': np.max,\n",
    "    }).reset_index()[['chrom', 'start', 'end', 'pass1_exon1_gene_id', 'pass1_exon1_locus_id']]\n",
    "    df_prom_bounds_rev.columns = ['chrom', 'start', 'end', 'gene_id', 'locus_id']\n",
    "\n",
    "    df_prom_bounds = pd.concat([df_prom_bounds_fwd, df_prom_bounds_rev], axis=0, ignore_index=False)\\\n",
    "        .sort_values(['chrom', 'start', 'end']).reset_index(drop=True)\n",
    "    print('%d fwd %d rev %d pooled' % (len(df_prom_bounds_fwd), len(df_prom_bounds_rev), len(df_prom_bounds)))\n",
    "\n",
    "    # Write a .bed-file of all the regions that changed\n",
    "    df_prom_bounds.to_csv(vp('_df_prom_bounds.bed'), index=False, header=False, sep='\\t')\n",
    "    !wc -l {vp('_df_prom_bounds.bed')}\n",
    "\n",
    "    # df_gene_bounds <- gene min/max boundaries, based on annotation\n",
    "    df_transcripts_ = yp.read_wbgtf('WS260_ce10/WS260_ce10.transcripts.annot.gtf.gz', parse_attr=False)\n",
    "    df_transcripts = yp.df_gfftags_unpack(df_transcripts_, name='attribute')\n",
    "    \n",
    "    # Add display_id\n",
    "    #fp_geneIDs = 'wget/ftp.wormbase.org/pub/wormbase/releases/WS260/species/c_elegans/PRJNA13758/annotation/c_elegans.PRJNA13758.WS260.geneIDs.txt.gz'\n",
    "    #df_geneIDs = pd.read_csv(fp_geneIDs, sep=',', names=('na', 'gene_id', 'locus', 'sequence_id', 'status'))[['gene_id', 'locus', 'sequence_id', 'status']]\n",
    "    #\n",
    "    #def display_id_(locus, sequence_id, gene_id):\n",
    "    #    if locus == locus:\n",
    "    #        return locus\n",
    "    #    elif sequence_id == sequence_id:\n",
    "    #        return sequence_id\n",
    "    #    else:\n",
    "    #        return gene_id\n",
    "    #\n",
    "    #df_geneIDs['locus_id'] = list(map(display_id_, df_geneIDs['locus'], df_geneIDs['sequence_id'], df_geneIDs['gene_id']))\n",
    "    #df_transcripts = pd.merge(df_transcripts, df_geneIDs[['gene_id', 'locus_id']], left_on='gene_id', right_on='gene_id')\n",
    "\n",
    "    df_gene_bounds = df_transcripts.groupby(['gene_id', 'locus_id']).agg({\n",
    "        'chrom': lambda s: list(set(s))[0],\n",
    "        'start': np.min,\n",
    "        'end': np.max,\n",
    "    }).reset_index()[['chrom', 'start', 'end', 'gene_id', 'locus_id']].sort_values(['chrom', 'start', 'end']).reset_index(drop=True)\n",
    "\n",
    "    df_gene_bounds.to_csv(vp('_df_gene_bounds.bed'), index=False, header=False, sep='\\t')\n",
    "    !wc -l {vp('_df_gene_bounds.bed')}\n",
    "    \n",
    "    df_ = df_prom_bounds.merge(df_gene_bounds, how='outer', on=['gene_id', 'locus_id'], suffixes=('_prom', '_gene'))\n",
    "    df_['start'] = list(map(int, map(np.nanmin, zip(df_['start_prom'], df_['start_gene']))))\n",
    "    df_['end'] = list(map(int, map(np.nanmax, zip(df_['end_prom'], df_['end_gene']))))\n",
    "    df_ = df_[['chrom_gene', 'start', 'end', 'gene_id', 'locus_id']].sort_values(['chrom_gene', 'start', 'end']).reset_index(drop=True)\n",
    "    df_.columns = [['chrom', 'start', 'end', 'gene_id', 'locus_id']]\n",
    "    return df_\n",
    "\n",
    "q_ = '(annot_summary == \"coding_promoter\") | (annot_summary == \"pseudogene_promoter\") | (annot_summary == \"non-coding_RNA\")'\n",
    "df_outron_extended_genes = df_outron_extended_genes_(\n",
    "    pd.concat([df_prom_fwd, df_exon_fwd['pass1_exon1_gene_id'], df_exon_fwd['pass1_exon1_locus_id']], axis=1).query(q_)[['chrom', 'start', 'end', 'annot_summary', 'pass1_exon1_gene_id', 'pass1_exon1_locus_id']],\n",
    "    pd.concat([df_prom_rev, df_exon_rev['pass1_exon1_gene_id'], df_exon_rev['pass1_exon1_locus_id']], axis=1).query(q_)[['chrom', 'start', 'end', 'annot_summary', 'pass1_exon1_gene_id', 'pass1_exon1_locus_id']],\n",
    ")\n",
    "df_outron_extended_genes.to_csv(vp('outron-extended_genes.bed'), index=False, header=False, sep='\\t')\n",
    "!wc -l {vp('outron-extended_genes.bed')}"
   ]
  },
  {
   "cell_type": "code",
   "execution_count": 19,
   "metadata": {
    "ExecuteTime": {
     "end_time": "2018-04-16T16:59:19.543081Z",
     "start_time": "2018-04-16T16:59:19.007575Z"
    },
    "code_folding": [
     0
    ]
   },
   "outputs": [
    {
     "name": "stderr",
     "output_type": "stream",
     "text": [
      "***** WARNING: File /tmp/pybedtools.tlf5cizd.tmp has inconsistent naming convention for record:\n",
      "\t3826\t3977\t.\t.\n",
      "\n",
      "***** WARNING: File /tmp/pybedtools.tlf5cizd.tmp has inconsistent naming convention for record:\n",
      "\t3826\t3977\t.\t.\n",
      "\n"
     ]
    }
   ],
   "source": [
    "# df_associated_gene <- associated gene assignments\n",
    "df_associated_gene = pd.read_csv(BedTool.from_dataframe(df_atac[['chrom', 'start', 'end']]).map(\n",
    "    BedTool.from_dataframe(df_outron_extended_genes).fn, c='4,5', o='distinct,distinct',).fn, sep='\\t',\n",
    "    names=yp.NAMES_BED9[:5])\n",
    "df_associated_gene.columns = ['chrom', 'start', 'end', 'associated_gene_id', 'associated_locus_id']"
   ]
  },
  {
   "cell_type": "code",
   "execution_count": 20,
   "metadata": {
    "ExecuteTime": {
     "end_time": "2018-04-16T16:59:37.928289Z",
     "start_time": "2018-04-16T16:59:19.545954Z"
    },
    "code_folding": [
     0,
     28
    ]
   },
   "outputs": [],
   "source": [
    "# Table S2 -- unstranded summary annotation\n",
    "def name_(annot_fwd, annot_rev, locus_id_fwd, locus_id_rev, enhancer_locus_id):\n",
    "    if (annot_fwd in config['annot_with_gene_id']) and not(annot_rev in config['annot_with_gene_id']):\n",
    "        return locus_id_fwd\n",
    "    elif not(annot_fwd in config['annot_with_gene_id']) and (annot_rev in config['annot_with_gene_id']):\n",
    "        return locus_id_rev\n",
    "    elif (annot_fwd in config['annot_with_gene_id']) and (annot_rev in config['annot_with_gene_id']):\n",
    "        return '%s / %s' % (locus_id_rev, locus_id_fwd)\n",
    "    elif enhancer_locus_id != '.': # show \"likeliest target gene for an enhancer\" in brackets for all remaining (=not coding_promoter or non_coding_promoter)\n",
    "        return '(%s)' % (enhancer_locus_id,)\n",
    "    else:\n",
    "        return ''\n",
    "\n",
    "def annot_(annot_fwd, annot_rev):\n",
    "    if annot_fwd == 'coding_promoter' or annot_rev == 'coding_promoter':\n",
    "        return 'coding_promoter'\n",
    "    elif annot_fwd == 'pseudogene_promoter' or annot_rev == 'pseudogene_promoter':\n",
    "        return 'pseudogene_promoter'\n",
    "    elif annot_fwd == 'non-coding_RNA' or annot_rev == 'non-coding_RNA':\n",
    "        return 'non-coding_RNA'\n",
    "    elif annot_fwd == 'unknown_promoter' or annot_rev == 'unknown_promoter':\n",
    "        return 'unknown_promoter'\n",
    "    elif annot_fwd == 'transcription_initiation' or annot_rev == 'transcription_initiation':\n",
    "        return 'putative_enhancer'\n",
    "    elif annot_fwd == 'no_transcription' or annot_rev == 'no_transcription':\n",
    "        return 'other_element'\n",
    "    assert False\n",
    "\n",
    "def strand_(annot_fwd, annot_rev):\n",
    "    promoter_fwd = (annot_fwd in config['annot_with_gene_id'])\n",
    "    promoter_rev = (annot_rev in config['annot_with_gene_id'])\n",
    "    lcap_fwd = annot_fwd == 'unknown_promoter'\n",
    "    lcap_rev = annot_rev == 'unknown_promoter'\n",
    "    if promoter_fwd and promoter_rev:\n",
    "        return '.'\n",
    "    elif promoter_fwd and (not promoter_rev):\n",
    "        return '+'\n",
    "    elif (not promoter_fwd) and promoter_rev:\n",
    "        return '-'\n",
    "    # in the absence of promoter annotations with an \"annotated\" target, use unknown_promoter annotations for strand\n",
    "    elif lcap_fwd and lcap_rev:\n",
    "        return '.'\n",
    "    elif lcap_fwd and (not lcap_rev):\n",
    "        return '+'\n",
    "    elif (not lcap_fwd) and lcap_rev:\n",
    "        return '-'\n",
    "    else:\n",
    "        return '.'\n",
    "\n",
    "df_regl = df_atac[['chrom', 'start', 'end']].copy()\n",
    "df_regl['tss_fwd'] = df_prom_fwd['scap_mode']\n",
    "df_regl['tss_rev'] = df_prom_rev['scap_mode']\n",
    "df_regl['scap_mode_fwd'] = df_prom_fwd['scap_mode']\n",
    "df_regl['scap_mode_rev'] = df_prom_rev['scap_mode']\n",
    "df_regl['scap_mode_count_fwd'] = df_prom_fwd['scap_mode_count']\n",
    "df_regl['scap_mode_count_rev'] = df_prom_rev['scap_mode_count']\n",
    "df_regl['scap_count_fwd'] = df_prom_fwd['scap_count']\n",
    "df_regl['scap_count_rev'] = df_prom_rev['scap_count']\n",
    "df_regl['annot_fwd'] = df_prom_fwd['annot_summary']\n",
    "df_regl['annot_rev'] = df_prom_rev['annot_summary']\n",
    "df_regl['annot'] = list(map(annot_, df_prom_fwd['annot_summary'], df_prom_rev['annot_summary']))\n",
    "df_regl['strand'] = list(map(strand_, df_prom_fwd['annot_summary'], df_prom_rev['annot_summary']))\n",
    "\n",
    "def agg_pass1_pass2(annot, pass1_val, pass2_val):\n",
    "    if annot in ['coding_promoter', 'pseudogene_promoter']:\n",
    "        return pass1_val\n",
    "    elif annot == 'non-coding_RNA':\n",
    "        return pass2_val\n",
    "    else:\n",
    "        return ''\n",
    "\n",
    "df_regl['promoter_gene_id_fwd'] = list(map(agg_pass1_pass2, df_regl['annot_fwd'],\n",
    "                                    df_exon_fwd['pass1_exon1_gene_id'], df_exon_fwd['pass2_exon1_gene_id']))\n",
    "df_regl['promoter_gene_id_rev'] = list(map(agg_pass1_pass2, df_regl['annot_rev'],\n",
    "                                    df_exon_rev['pass1_exon1_gene_id'], df_exon_rev['pass2_exon1_gene_id']))\n",
    "\n",
    "df_regl['promoter_locus_id_fwd'] = list(map(agg_pass1_pass2, df_regl['annot_fwd'],\n",
    "                                    df_exon_fwd['pass1_exon1_locus_id'], df_exon_fwd['pass2_exon1_locus_id']))\n",
    "df_regl['promoter_locus_id_rev'] = list(map(agg_pass1_pass2, df_regl['annot_rev'],\n",
    "                                    df_exon_rev['pass1_exon1_locus_id'], df_exon_rev['pass2_exon1_locus_id']))\n",
    "\n",
    "df_regl['promoter_gene_biotype_fwd'] = list(map(agg_pass1_pass2, df_regl['annot_fwd'],\n",
    "                                    df_exon_fwd['pass1_exon1_gene_biotype'], df_exon_fwd['pass2_exon1_gene_biotype']))\n",
    "df_regl['promoter_gene_biotype_rev'] = list(map(agg_pass1_pass2, df_regl['annot_rev'],\n",
    "                                    df_exon_rev['pass1_exon1_gene_biotype'], df_exon_rev['pass2_exon1_gene_biotype']))\n",
    "\n",
    "df_regl['associated_gene_id'] = df_associated_gene['associated_gene_id']\n",
    "df_regl['associated_locus_id'] = df_associated_gene['associated_locus_id']\n",
    "\n",
    "df_regl['label'] = list(map(name_,\n",
    "    df_regl['annot_fwd'], df_regl['annot_rev'],                     \n",
    "    df_regl['promoter_locus_id_fwd'], df_regl['promoter_locus_id_rev'],\n",
    "    df_regl['associated_locus_id']\n",
    "))\n",
    "\n",
    "for stage in config['stages_wt'] + config['stages_glp1']:\n",
    "    df_regl['atac_%s_height' % (stage,)] = df_atac['atac_%s_height' % (stage,)]\n",
    "\n",
    "fp_ = 'annot/S2_regulatory_annotation/S2_regulatory_annotation.tsv'\n",
    "l_ = [\n",
    "    'chrom', 'start', 'end', \n",
    "    'annot', 'annot_fwd', 'annot_rev',\n",
    "    'promoter_gene_id_fwd', 'promoter_locus_id_fwd', 'promoter_gene_biotype_fwd',\n",
    "    'promoter_gene_id_rev', 'promoter_locus_id_rev', 'promoter_gene_biotype_rev',\n",
    "    'associated_gene_id', 'associated_locus_id',\n",
    "] + ['atac_%s_height' % (stage,) for stage in config['stages_wt'] + config['stages_glp1']] + [\\\n",
    "    'tss_fwd', 'tss_rev',\n",
    "    #'scap_mode_count_fwd', 'scap_mode_count_rev',\n",
    "    #'scap_count_fwd', 'scap_count_rev',\n",
    "]\n",
    "\n",
    "pd.concat([df_regl[l_], df_lcap], axis=1).to_csv(fp_, header=True, index=False, sep='\\t')"
   ]
  },
  {
   "cell_type": "code",
   "execution_count": 21,
   "metadata": {
    "ExecuteTime": {
     "end_time": "2018-04-16T16:59:38.788547Z",
     "start_time": "2018-04-16T16:59:37.931192Z"
    },
    "code_folding": [
     0
    ]
   },
   "outputs": [
    {
     "data": {
      "image/png": "[encoded data removed]",
      "text/plain": [
       "<matplotlib.figure.Figure at 0x7f7894dbfb38>"
      ]
     },
     "metadata": {
      "image/png": {
       "height": 126,
       "width": 332
      }
     },
     "output_type": "display_data"
    }
   ],
   "source": [
    "def scap_bidirectionality(mode_count_fwd, mode_count_rev):\n",
    "    if mode_count_fwd >= 2 and mode_count_rev >= 2:\n",
    "        return 'bidirectional'\n",
    "    elif mode_count_fwd >= 2:\n",
    "        return 'forward'\n",
    "    elif mode_count_rev >= 2:\n",
    "        return 'reverse'\n",
    "    else:\n",
    "        return 'none/weak'\n",
    "\n",
    "df_has_scap = pd.DataFrame()\n",
    "df_has_scap['annot'] = df_regl['annot']\n",
    "df_has_scap['scap_bidirectionality'] = list(map(scap_bidirectionality, \n",
    "    df_prom_fwd['scap_mode_count'], df_prom_rev['scap_mode_count']))\n",
    "df_has_scap['scap_bidirectionality'].value_counts()\n",
    "\n",
    "df_ = pd.crosstab(pd.Categorical(df_has_scap['annot']), pd.Categorical(df_has_scap['scap_bidirectionality']),\n",
    "                 margins=True)\\\n",
    ".loc[config['annot'] + ['All'], ['bidirectional', 'forward', 'reverse', 'none/weak']]\n",
    "\n",
    "fig = plt.figure(figsize=(4,2))\n",
    "plt.subplot(111, frame_on=False)\n",
    "plt.gca().xaxis.set_visible(False)\n",
    "plt.gca().yaxis.set_visible(False)\n",
    "pd.plotting.table(data=df_, ax=plt.gca(), loc='center left')\n",
    "plt.savefig('annot/FigA_mapping/annot_crosstab_scap.pdf', bbox_inches='tight')"
   ]
  },
  {
   "cell_type": "code",
   "execution_count": 22,
   "metadata": {
    "ExecuteTime": {
     "end_time": "2018-04-16T16:59:46.982132Z",
     "start_time": "2018-04-16T16:59:38.790162Z"
    },
    "code_folding": [
     0
    ],
    "collapsed": true
   },
   "outputs": [],
   "source": [
    "# Strand/stage-specific annotations as .bed-tracks\n",
    "write_gffbed(vp('regulatory_annotation_fwd.bed'),\n",
    "        chrom = df_regl['chrom'],\n",
    "        start = df_regl['start'],\n",
    "        end = df_regl['end'],\n",
    "        name = df_regl['promoter_locus_id_fwd'],\n",
    "        strand = '+',\n",
    "        itemRgb = list(map(lambda annot: d_annot_strand_legend[annot], df_regl['annot_fwd'])),\n",
    "        attr = df_prom_fwd[['annot_%s' % (stage,) for stage in config['stages']]],\n",
    ")\n",
    "\n",
    "write_gffbed(vp('regulatory_annotation_rev.bed'),\n",
    "        chrom = df_regl['chrom'],\n",
    "        start = df_regl['start'],\n",
    "        end = df_regl['end'],\n",
    "        name = df_regl['promoter_locus_id_rev'],\n",
    "        strand = '-',\n",
    "        itemRgb = list(map(lambda annot: d_annot_strand_legend[annot], df_regl['annot_rev'])),\n",
    "        attr = df_prom_rev[['annot_%s' % (stage,) for stage in config['stages']]],\n",
    ")"
   ]
  },
  {
   "cell_type": "code",
   "execution_count": 23,
   "metadata": {
    "ExecuteTime": {
     "end_time": "2018-04-16T16:59:50.662060Z",
     "start_time": "2018-04-16T16:59:46.986021Z"
    },
    "code_folding": [
     0
    ],
    "collapsed": true
   },
   "outputs": [],
   "source": [
    "# Visualise annotation as a single, unstranded .bed-file\n",
    "def write_regl_bed9(fp_, df_regl_):\n",
    "    write_gffbed(fp_,\n",
    "        chrom = df_regl_['chrom'],\n",
    "        start = df_regl_['start'],\n",
    "        end = df_regl_['end'],\n",
    "        name = df_regl_['label'],\n",
    "        strand = df_regl_['strand'],\n",
    "        itemRgb = list(map(lambda annot: d_annot_legend[annot], df_regl_['annot'])),\n",
    "        attr = df_regl_[['annot', 'annot_fwd', 'annot_rev']],\n",
    "    )\n",
    "\n",
    "write_regl_bed9('annot/S2_regulatory_annotation/S2_regulatory_annotation.bed', df_regl)"
   ]
  },
  {
   "cell_type": "code",
   "execution_count": 24,
   "metadata": {
    "ExecuteTime": {
     "end_time": "2018-04-16T16:59:55.524324Z",
     "start_time": "2018-04-16T16:59:50.665220Z"
    },
    "code_folding": [
     0
    ]
   },
   "outputs": [
    {
     "name": "stdout",
     "output_type": "stream",
     "text": [
      "15141 annot/S2_regulatory_annotation/metrics/S2_regulatory_annotation.coding_promoter_only.bed\n",
      "333 annot/S2_regulatory_annotation/metrics/S2_regulatory_annotation.pseudogene_promoter_only.bed\n",
      "14703 annot/S2_regulatory_annotation/metrics/S2_regulatory_annotation.unknown_promoter_only.bed\n",
      "5353 annot/S2_regulatory_annotation/metrics/S2_regulatory_annotation.putative_enhancer_only.bed\n",
      "807 annot/S2_regulatory_annotation/metrics/S2_regulatory_annotation.non-coding_RNA_only.bed\n",
      "5914 annot/S2_regulatory_annotation/metrics/S2_regulatory_annotation.other_element_only.bed\n"
     ]
    }
   ],
   "source": [
    "# .bed-files of specific types of elements\n",
    "for annot in config['annot']:\n",
    "    fp_ = vp('S2_regulatory_annotation.%s_only.bed' % (annot,))\n",
    "    write_regl_bed9(fp_, df_regl.query('annot == \"%s\"' % (annot,)).reset_index(drop=True))\n",
    "    !wc -l {fp_}"
   ]
  },
  {
   "cell_type": "code",
   "execution_count": 25,
   "metadata": {
    "ExecuteTime": {
     "end_time": "2018-04-16T16:59:56.039119Z",
     "start_time": "2018-04-16T16:59:55.526764Z"
    },
    "code_folding": [
     0
    ]
   },
   "outputs": [
    {
     "name": "stdout",
     "output_type": "stream",
     "text": [
      "2635 bidirectional promoters\n",
      "6300 forward-only promoters\n",
      "6205 reverse-only promoters\n"
     ]
    },
    {
     "data": {
      "text/plain": [
       "Text(0.939629,-0.571924,'2635 bidirectional\\npromoters')"
      ]
     },
     "execution_count": 25,
     "metadata": {},
     "output_type": "execute_result"
    },
    {
     "data": {
      "image/png": "[encoded data removed]",
      "text/plain": [
       "<matplotlib.figure.Figure at 0x7f784c958668>"
      ]
     },
     "metadata": {
      "image/png": {
       "height": 371,
       "width": 398
      }
     },
     "output_type": "display_data"
    }
   ],
   "source": [
    "# Visualise number of promoters called\n",
    "n_bid = len(df_regl.query('(annot == \"coding_promoter\") & (strand == \".\")'))\n",
    "n_fwd = len(df_regl.query('(annot == \"coding_promoter\") & (strand == \"+\")'))\n",
    "n_rev = len(df_regl.query('(annot == \"coding_promoter\") & (strand == \"-\")'))\n",
    "print('%d bidirectional promoters' % (n_bid))\n",
    "print('%d forward-only promoters' % (n_fwd,))\n",
    "print('%d reverse-only promoters' % (n_rev,))\n",
    "plt.figure(figsize=(16,6)).subplots_adjust(wspace=0.4)\n",
    "plt.subplot(1,2,1, aspect=1)\n",
    "plt.title('%d of %d sites (%.1f%%) annotated\\nas protein-coding promoters' % \\\n",
    "    (n_fwd + n_rev + n_bid, len(df_regl), 100 * (n_fwd + n_rev + n_bid) / float(len(df_regl)),))\n",
    "plt.pie([n_fwd, n_rev, n_bid], labels=[\n",
    "        '%(n_fwd)d forward\\npromoters' % locals(),\n",
    "        '%(n_rev)d reverse\\npromoters' % locals(), \n",
    "        '%(n_bid)d bidirectional\\npromoters' % locals(),\n",
    "])[-1][-1]"
   ]
  }
 ],
 "metadata": {
  "anaconda-cloud": {},
  "kernelspec": {
   "display_name": "Python 3",
   "language": "python",
   "name": "python3"
  },
  "language_info": {
   "codemirror_mode": {
    "name": "ipython",
    "version": 3
   },
   "file_extension": ".py",
   "mimetype": "text/x-python",
   "name": "python",
   "nbconvert_exporter": "python",
   "pygments_lexer": "ipython3",
   "version": "3.6.2"
  }
 },
 "nbformat": 4,
 "nbformat_minor": 1
}
