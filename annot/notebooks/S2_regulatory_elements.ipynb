{
 "cells": [
  {
   "cell_type": "code",
   "execution_count": 1,
   "metadata": {
    "ExecuteTime": {
     "end_time": "2018-04-19T16:17:30.147552Z",
     "start_time": "2018-04-19T16:17:24.741965Z"
    },
    "code_folding": [
     0
    ]
   },
   "outputs": [
    {
     "name": "stderr",
     "output_type": "stream",
     "text": [
      "/mnt/home3/jj374/anaconda36/lib/python3.6/site-packages/statsmodels/compat/pandas.py:56: FutureWarning: The pandas.core.datetools module is deprecated and will be removed in a future version. Please use the pandas.tseries module instead.\n",
      "  from pandas.core import datetools\n"
     ]
    },
    {
     "name": "stdout",
     "output_type": "stream",
     "text": [
      "os.getcwd(): /mnt/beegfs/scratch_copy/ahringer/jj374/lab/relmapping\n"
     ]
    }
   ],
   "source": [
    "# Initialise\n",
    "%run ~/relmapping/annot/notebooks/__init__.ipynb\n",
    "\n",
    "def vp(fp): return os.path.join('annot/S2_regulatory_annotation/metrics/', fp) # \"verbose path\""
   ]
  },
  {
   "cell_type": "code",
   "execution_count": 2,
   "metadata": {
    "ExecuteTime": {
     "end_time": "2018-04-19T16:17:30.455032Z",
     "start_time": "2018-04-19T16:17:30.149476Z"
    },
    "code_folding": []
   },
   "outputs": [
    {
     "data": {
      "text/html": [
       "<div>\n",
       "<style>\n",
       "    .dataframe thead tr:only-child th {\n",
       "        text-align: right;\n",
       "    }\n",
       "\n",
       "    .dataframe thead th {\n",
       "        text-align: left;\n",
       "    }\n",
       "\n",
       "    .dataframe tbody tr th {\n",
       "        vertical-align: top;\n",
       "    }\n",
       "</style>\n",
       "<table border=\"1\" class=\"dataframe\">\n",
       "  <thead>\n",
       "    <tr style=\"text-align: right;\">\n",
       "      <th></th>\n",
       "      <th>chrom</th>\n",
       "      <th>start</th>\n",
       "      <th>end</th>\n",
       "      <th>atac_peak_accessibility</th>\n",
       "      <th>atac_source</th>\n",
       "      <th>atac_wt_emb_height</th>\n",
       "      <th>atac_wt_l1_height</th>\n",
       "      <th>atac_wt_l2_height</th>\n",
       "      <th>atac_wt_l3_height</th>\n",
       "      <th>atac_wt_l4_height</th>\n",
       "      <th>atac_wt_ya_height</th>\n",
       "      <th>atac_glp1_d1_height</th>\n",
       "      <th>atac_glp1_d2_height</th>\n",
       "      <th>atac_glp1_d6_height</th>\n",
       "      <th>atac_glp1_d9_height</th>\n",
       "      <th>atac_glp1_d13_height</th>\n",
       "    </tr>\n",
       "  </thead>\n",
       "  <tbody>\n",
       "    <tr>\n",
       "      <th>0</th>\n",
       "      <td>chrI</td>\n",
       "      <td>1900</td>\n",
       "      <td>2051</td>\n",
       "      <td>1975</td>\n",
       "      <td>atac_wt_se</td>\n",
       "      <td>1.487219</td>\n",
       "      <td>1.436852</td>\n",
       "      <td>1.234831</td>\n",
       "      <td>1.476625</td>\n",
       "      <td>1.180041</td>\n",
       "      <td>3.028015</td>\n",
       "      <td>0.984149</td>\n",
       "      <td>0.912876</td>\n",
       "      <td>1.155934</td>\n",
       "      <td>1.187989</td>\n",
       "      <td>1.661203</td>\n",
       "    </tr>\n",
       "    <tr>\n",
       "      <th>1</th>\n",
       "      <td>chrI</td>\n",
       "      <td>3826</td>\n",
       "      <td>3977</td>\n",
       "      <td>3901</td>\n",
       "      <td>atac_wt_pe</td>\n",
       "      <td>67.202148</td>\n",
       "      <td>58.451061</td>\n",
       "      <td>74.416000</td>\n",
       "      <td>133.738358</td>\n",
       "      <td>179.794342</td>\n",
       "      <td>211.372787</td>\n",
       "      <td>88.025909</td>\n",
       "      <td>69.674324</td>\n",
       "      <td>68.506355</td>\n",
       "      <td>64.593590</td>\n",
       "      <td>55.413097</td>\n",
       "    </tr>\n",
       "    <tr>\n",
       "      <th>2</th>\n",
       "      <td>chrI</td>\n",
       "      <td>4276</td>\n",
       "      <td>4427</td>\n",
       "      <td>4351</td>\n",
       "      <td>atac_wt_se</td>\n",
       "      <td>1.581892</td>\n",
       "      <td>2.656172</td>\n",
       "      <td>2.186598</td>\n",
       "      <td>3.502825</td>\n",
       "      <td>5.871352</td>\n",
       "      <td>7.771934</td>\n",
       "      <td>1.802739</td>\n",
       "      <td>1.327403</td>\n",
       "      <td>1.547550</td>\n",
       "      <td>2.069787</td>\n",
       "      <td>1.901336</td>\n",
       "    </tr>\n",
       "    <tr>\n",
       "      <th>3</th>\n",
       "      <td>chrI</td>\n",
       "      <td>11272</td>\n",
       "      <td>11423</td>\n",
       "      <td>11347</td>\n",
       "      <td>atac_wt_pe</td>\n",
       "      <td>2.606371</td>\n",
       "      <td>4.443353</td>\n",
       "      <td>9.830266</td>\n",
       "      <td>10.700469</td>\n",
       "      <td>11.683004</td>\n",
       "      <td>13.928377</td>\n",
       "      <td>20.864365</td>\n",
       "      <td>16.739265</td>\n",
       "      <td>17.585819</td>\n",
       "      <td>15.858321</td>\n",
       "      <td>17.019400</td>\n",
       "    </tr>\n",
       "    <tr>\n",
       "      <th>4</th>\n",
       "      <td>chrI</td>\n",
       "      <td>13070</td>\n",
       "      <td>13221</td>\n",
       "      <td>13145</td>\n",
       "      <td>atac_wt_pe</td>\n",
       "      <td>5.557951</td>\n",
       "      <td>3.608833</td>\n",
       "      <td>3.977978</td>\n",
       "      <td>3.398183</td>\n",
       "      <td>2.689872</td>\n",
       "      <td>2.953438</td>\n",
       "      <td>2.047788</td>\n",
       "      <td>2.084701</td>\n",
       "      <td>1.994170</td>\n",
       "      <td>2.586042</td>\n",
       "      <td>3.367910</td>\n",
       "    </tr>\n",
       "  </tbody>\n",
       "</table>\n",
       "</div>"
      ],
      "text/plain": [
       "  chrom  start    end  atac_peak_accessibility atac_source  \\\n",
       "0  chrI   1900   2051                     1975  atac_wt_se   \n",
       "1  chrI   3826   3977                     3901  atac_wt_pe   \n",
       "2  chrI   4276   4427                     4351  atac_wt_se   \n",
       "3  chrI  11272  11423                    11347  atac_wt_pe   \n",
       "4  chrI  13070  13221                    13145  atac_wt_pe   \n",
       "\n",
       "   atac_wt_emb_height  atac_wt_l1_height  atac_wt_l2_height  \\\n",
       "0            1.487219           1.436852           1.234831   \n",
       "1           67.202148          58.451061          74.416000   \n",
       "2            1.581892           2.656172           2.186598   \n",
       "3            2.606371           4.443353           9.830266   \n",
       "4            5.557951           3.608833           3.977978   \n",
       "\n",
       "   atac_wt_l3_height  atac_wt_l4_height  atac_wt_ya_height  \\\n",
       "0           1.476625           1.180041           3.028015   \n",
       "1         133.738358         179.794342         211.372787   \n",
       "2           3.502825           5.871352           7.771934   \n",
       "3          10.700469          11.683004          13.928377   \n",
       "4           3.398183           2.689872           2.953438   \n",
       "\n",
       "   atac_glp1_d1_height  atac_glp1_d2_height  atac_glp1_d6_height  \\\n",
       "0             0.984149             0.912876             1.155934   \n",
       "1            88.025909            69.674324            68.506355   \n",
       "2             1.802739             1.327403             1.547550   \n",
       "3            20.864365            16.739265            17.585819   \n",
       "4             2.047788             2.084701             1.994170   \n",
       "\n",
       "   atac_glp1_d9_height  atac_glp1_d13_height  \n",
       "0             1.187989              1.661203  \n",
       "1            64.593590             55.413097  \n",
       "2             2.069787              1.901336  \n",
       "3            15.858321             17.019400  \n",
       "4             2.586042              3.367910  "
      ]
     },
     "execution_count": 2,
     "metadata": {},
     "output_type": "execute_result"
    }
   ],
   "source": [
    "# Load long cap jump & exon data\n",
    "df_atac = pd.read_csv('annot/Fig1D1_accessible_sites/Fig1D1_accessible_sites.tsv' % locals(), sep='\\t')\n",
    "df_atac.head()"
   ]
  },
  {
   "cell_type": "code",
   "execution_count": 3,
   "metadata": {
    "ExecuteTime": {
     "end_time": "2018-04-19T16:17:33.559216Z",
     "start_time": "2018-04-19T16:17:30.457959Z"
    }
   },
   "outputs": [
    {
     "data": {
      "text/html": [
       "<div>\n",
       "<style>\n",
       "    .dataframe thead tr:only-child th {\n",
       "        text-align: right;\n",
       "    }\n",
       "\n",
       "    .dataframe thead th {\n",
       "        text-align: left;\n",
       "    }\n",
       "\n",
       "    .dataframe tbody tr th {\n",
       "        vertical-align: top;\n",
       "    }\n",
       "</style>\n",
       "<table border=\"1\" class=\"dataframe\">\n",
       "  <thead>\n",
       "    <tr style=\"text-align: right;\">\n",
       "      <th></th>\n",
       "      <th>lcap_wt_emb_fwd_ucount_rep1</th>\n",
       "      <th>lcap_wt_emb_fwd_ucount_rep2</th>\n",
       "      <th>lcap_wt_emb_fwd_dcount_rep1</th>\n",
       "      <th>lcap_wt_emb_fwd_dcount_rep2</th>\n",
       "      <th>lcap_wt_emb_fwd_ucount_sum</th>\n",
       "      <th>lcap_wt_emb_fwd_dcount_sum</th>\n",
       "      <th>lcap_wt_emb_fwd_baseMean</th>\n",
       "      <th>lcap_wt_emb_fwd_log2FoldChange</th>\n",
       "      <th>lcap_wt_emb_fwd_lfcSE</th>\n",
       "      <th>lcap_wt_emb_fwd_stat</th>\n",
       "      <th>...</th>\n",
       "      <th>lcap_glp1_d13_rev_ucount_sum</th>\n",
       "      <th>lcap_glp1_d13_rev_dcount_sum</th>\n",
       "      <th>lcap_glp1_d13_rev_baseMean</th>\n",
       "      <th>lcap_glp1_d13_rev_log2FoldChange</th>\n",
       "      <th>lcap_glp1_d13_rev_lfcSE</th>\n",
       "      <th>lcap_glp1_d13_rev_stat</th>\n",
       "      <th>lcap_glp1_d13_rev_pvalue</th>\n",
       "      <th>lcap_glp1_d13_rev_padj</th>\n",
       "      <th>lcap_glp1_d13_rev_passed</th>\n",
       "      <th>lcap_glp1_d13_rev_summary</th>\n",
       "    </tr>\n",
       "  </thead>\n",
       "  <tbody>\n",
       "    <tr>\n",
       "      <th>0</th>\n",
       "      <td>0</td>\n",
       "      <td>0</td>\n",
       "      <td>66</td>\n",
       "      <td>83</td>\n",
       "      <td>0</td>\n",
       "      <td>149</td>\n",
       "      <td>34.824190</td>\n",
       "      <td>7.848748</td>\n",
       "      <td>1.658774</td>\n",
       "      <td>4.731656</td>\n",
       "      <td>...</td>\n",
       "      <td>1050</td>\n",
       "      <td>1005</td>\n",
       "      <td>516.0592</td>\n",
       "      <td>-0.281726</td>\n",
       "      <td>0.096771</td>\n",
       "      <td>0.000000</td>\n",
       "      <td>9.982002e-01</td>\n",
       "      <td>1.000000e+00</td>\n",
       "      <td>False</td>\n",
       "      <td>False / -0.28 / 1</td>\n",
       "    </tr>\n",
       "    <tr>\n",
       "      <th>1</th>\n",
       "      <td>4</td>\n",
       "      <td>3</td>\n",
       "      <td>0</td>\n",
       "      <td>0</td>\n",
       "      <td>7</td>\n",
       "      <td>0</td>\n",
       "      <td>1.870596</td>\n",
       "      <td>-4.271325</td>\n",
       "      <td>2.059588</td>\n",
       "      <td>0.000000</td>\n",
       "      <td>...</td>\n",
       "      <td>225</td>\n",
       "      <td>1467471</td>\n",
       "      <td>340139.9000</td>\n",
       "      <td>12.447420</td>\n",
       "      <td>0.096019</td>\n",
       "      <td>129.634600</td>\n",
       "      <td>0.000000e+00</td>\n",
       "      <td>0.000000e+00</td>\n",
       "      <td>True</td>\n",
       "      <td>True / 12.45 / 0</td>\n",
       "    </tr>\n",
       "    <tr>\n",
       "      <th>2</th>\n",
       "      <td>0</td>\n",
       "      <td>0</td>\n",
       "      <td>0</td>\n",
       "      <td>0</td>\n",
       "      <td>0</td>\n",
       "      <td>0</td>\n",
       "      <td>0.000000</td>\n",
       "      <td>NaN</td>\n",
       "      <td>NaN</td>\n",
       "      <td>NaN</td>\n",
       "      <td>...</td>\n",
       "      <td>6386</td>\n",
       "      <td>4929</td>\n",
       "      <td>2864.3730</td>\n",
       "      <td>-0.592226</td>\n",
       "      <td>0.042317</td>\n",
       "      <td>0.000000</td>\n",
       "      <td>1.000000e+00</td>\n",
       "      <td>1.000000e+00</td>\n",
       "      <td>False</td>\n",
       "      <td>False / -0.59 / 1</td>\n",
       "    </tr>\n",
       "    <tr>\n",
       "      <th>3</th>\n",
       "      <td>295</td>\n",
       "      <td>276</td>\n",
       "      <td>1164</td>\n",
       "      <td>1074</td>\n",
       "      <td>571</td>\n",
       "      <td>2238</td>\n",
       "      <td>675.706900</td>\n",
       "      <td>1.776334</td>\n",
       "      <td>0.102397</td>\n",
       "      <td>17.347510</td>\n",
       "      <td>...</td>\n",
       "      <td>0</td>\n",
       "      <td>575</td>\n",
       "      <td>133.2532</td>\n",
       "      <td>9.651586</td>\n",
       "      <td>1.608163</td>\n",
       "      <td>6.001621</td>\n",
       "      <td>9.767876e-10</td>\n",
       "      <td>2.474987e-09</td>\n",
       "      <td>True</td>\n",
       "      <td>True / 9.65 / 2.47e-09</td>\n",
       "    </tr>\n",
       "    <tr>\n",
       "      <th>4</th>\n",
       "      <td>2004</td>\n",
       "      <td>1945</td>\n",
       "      <td>1727</td>\n",
       "      <td>1789</td>\n",
       "      <td>3949</td>\n",
       "      <td>3516</td>\n",
       "      <td>1877.233000</td>\n",
       "      <td>-0.360947</td>\n",
       "      <td>0.055910</td>\n",
       "      <td>0.000000</td>\n",
       "      <td>...</td>\n",
       "      <td>412</td>\n",
       "      <td>454</td>\n",
       "      <td>216.3161</td>\n",
       "      <td>-0.078527</td>\n",
       "      <td>0.143140</td>\n",
       "      <td>0.000000</td>\n",
       "      <td>7.083610e-01</td>\n",
       "      <td>1.000000e+00</td>\n",
       "      <td>False</td>\n",
       "      <td>False / -0.08 / 1</td>\n",
       "    </tr>\n",
       "  </tbody>\n",
       "</table>\n",
       "<p>5 rows × 308 columns</p>\n",
       "</div>"
      ],
      "text/plain": [
       "   lcap_wt_emb_fwd_ucount_rep1  lcap_wt_emb_fwd_ucount_rep2  \\\n",
       "0                            0                            0   \n",
       "1                            4                            3   \n",
       "2                            0                            0   \n",
       "3                          295                          276   \n",
       "4                         2004                         1945   \n",
       "\n",
       "   lcap_wt_emb_fwd_dcount_rep1  lcap_wt_emb_fwd_dcount_rep2  \\\n",
       "0                           66                           83   \n",
       "1                            0                            0   \n",
       "2                            0                            0   \n",
       "3                         1164                         1074   \n",
       "4                         1727                         1789   \n",
       "\n",
       "   lcap_wt_emb_fwd_ucount_sum  lcap_wt_emb_fwd_dcount_sum  \\\n",
       "0                           0                         149   \n",
       "1                           7                           0   \n",
       "2                           0                           0   \n",
       "3                         571                        2238   \n",
       "4                        3949                        3516   \n",
       "\n",
       "   lcap_wt_emb_fwd_baseMean  lcap_wt_emb_fwd_log2FoldChange  \\\n",
       "0                 34.824190                        7.848748   \n",
       "1                  1.870596                       -4.271325   \n",
       "2                  0.000000                             NaN   \n",
       "3                675.706900                        1.776334   \n",
       "4               1877.233000                       -0.360947   \n",
       "\n",
       "   lcap_wt_emb_fwd_lfcSE  lcap_wt_emb_fwd_stat            ...              \\\n",
       "0               1.658774              4.731656            ...               \n",
       "1               2.059588              0.000000            ...               \n",
       "2                    NaN                   NaN            ...               \n",
       "3               0.102397             17.347510            ...               \n",
       "4               0.055910              0.000000            ...               \n",
       "\n",
       "   lcap_glp1_d13_rev_ucount_sum  lcap_glp1_d13_rev_dcount_sum  \\\n",
       "0                          1050                          1005   \n",
       "1                           225                       1467471   \n",
       "2                          6386                          4929   \n",
       "3                             0                           575   \n",
       "4                           412                           454   \n",
       "\n",
       "   lcap_glp1_d13_rev_baseMean lcap_glp1_d13_rev_log2FoldChange  \\\n",
       "0                    516.0592                        -0.281726   \n",
       "1                 340139.9000                        12.447420   \n",
       "2                   2864.3730                        -0.592226   \n",
       "3                    133.2532                         9.651586   \n",
       "4                    216.3161                        -0.078527   \n",
       "\n",
       "   lcap_glp1_d13_rev_lfcSE  lcap_glp1_d13_rev_stat  lcap_glp1_d13_rev_pvalue  \\\n",
       "0                 0.096771                0.000000              9.982002e-01   \n",
       "1                 0.096019              129.634600              0.000000e+00   \n",
       "2                 0.042317                0.000000              1.000000e+00   \n",
       "3                 1.608163                6.001621              9.767876e-10   \n",
       "4                 0.143140                0.000000              7.083610e-01   \n",
       "\n",
       "   lcap_glp1_d13_rev_padj  lcap_glp1_d13_rev_passed  lcap_glp1_d13_rev_summary  \n",
       "0            1.000000e+00                     False          False / -0.28 / 1  \n",
       "1            0.000000e+00                      True           True / 12.45 / 0  \n",
       "2            1.000000e+00                     False          False / -0.59 / 1  \n",
       "3            2.474987e-09                      True     True / 9.65 / 2.47e-09  \n",
       "4            1.000000e+00                     False          False / -0.08 / 1  \n",
       "\n",
       "[5 rows x 308 columns]"
      ]
     },
     "execution_count": 3,
     "metadata": {},
     "output_type": "execute_result"
    }
   ],
   "source": [
    "#df_lcap = pd.read_csv('annot/S2_regulatory_annotation/_lcap_jump/lcap_summary.tsv' % locals(), sep='\\t')\n",
    "df_lcap_fwd = pd.read_csv('annot/S2_regulatory_annotation/metrics/lcap_all_fwd.tsv', sep='\\t')\n",
    "df_lcap_rev = pd.read_csv('annot/S2_regulatory_annotation/metrics/lcap_all_rev.tsv', sep='\\t')\n",
    "df_lcap = pd.concat([df_lcap_fwd, df_lcap_rev], axis=1)\n",
    "df_lcap.head()"
   ]
  },
  {
   "cell_type": "code",
   "execution_count": 4,
   "metadata": {
    "ExecuteTime": {
     "end_time": "2018-04-19T16:17:33.628909Z",
     "start_time": "2018-04-19T16:17:33.562303Z"
    },
    "code_folding": [
     0
    ],
    "collapsed": true
   },
   "outputs": [],
   "source": [
    "# (Setup stranded structs)\n",
    "df_prom_fwd = df_atac[['chrom', 'start', 'end']].copy()\n",
    "df_prom_rev = df_atac[['chrom', 'start', 'end']].copy()\n",
    "df_prom_fwd['strand'] = '+'\n",
    "df_prom_rev['strand'] = '-'"
   ]
  },
  {
   "cell_type": "code",
   "execution_count": 5,
   "metadata": {
    "ExecuteTime": {
     "end_time": "2018-04-19T16:17:47.090073Z",
     "start_time": "2018-04-19T16:17:33.631591Z"
    },
    "code_folding": [
     0
    ],
    "scrolled": true
   },
   "outputs": [
    {
     "name": "stderr",
     "output_type": "stream",
     "text": [
      "/mnt/home1/ahringer/jj374/relmapping/scripts/yarp/yarp.py:400: FutureWarning: convert_objects is deprecated.  Use the data-type specific converters pd.to_datetime, pd.to_timedelta and pd.to_numeric.\n",
      "  df_name = df_name.convert_objects(convert_numeric=True)\n"
     ]
    },
    {
     "name": "stdout",
     "output_type": "stream",
     "text": [
      "17922 17074 105494 99143 808 753\n"
     ]
    }
   ],
   "source": [
    "# df_exon1 / df_exon2: first/other exons, coordinates fixed to represent 5' ends\n",
    "#NAMES_EXON = ('chrom', 'start', 'end', 'transcript_id', 'score', 'strand', 'gene_id', 'gene_biotype', 'display_id')\n",
    "l_adj_ = [\n",
    "    'chrom', 'start', 'end', 'score', 'strand', 'thickStart', 'thickEnd', 'itemRgb', 'Name', \n",
    "    'exon_start', 'exon_end', 'utr_start', 'utr_end', 'aoe_end', 'aoe_start', 'gene_biotype', \n",
    "    'exon_id', 'gene_id', 'locus_id', 'init_cutoff_pos', \n",
    "]\n",
    "\n",
    "#df_pass1_exon1_fwd = read_gffbed('WS260_ce10/WS260_ce10.transcripts.annot_pass1_exon1_fwd.bed')\n",
    "#df_pass1_exon1_rev = read_gffbed('WS260_ce10/WS260_ce10.transcripts.annot_pass1_exon1_rev.bed')\n",
    "df_pass1_exon1_fwd = read_gffbed('WS260_ce10/WS260_ce10.transcripts.annot_pass1_exon1_fwd_utradj.bed')[l_adj_]\n",
    "df_pass1_exon1_rev = read_gffbed('WS260_ce10/WS260_ce10.transcripts.annot_pass1_exon1_rev_utradj.bed')[l_adj_]\n",
    "df_pass1_exon2_fwd = read_gffbed('WS260_ce10/WS260_ce10.transcripts.annot_pass1_exon2_fwd.bed')\n",
    "df_pass1_exon2_rev = read_gffbed('WS260_ce10/WS260_ce10.transcripts.annot_pass1_exon2_rev.bed')\n",
    "df_pass2_exon1_fwd = read_gffbed('WS260_ce10/WS260_ce10.transcripts.annot_pass2_exon1_fwd.bed')\n",
    "df_pass2_exon1_rev = read_gffbed('WS260_ce10/WS260_ce10.transcripts.annot_pass2_exon1_rev.bed')\n",
    "\n",
    "print(len(df_pass1_exon1_fwd), len(df_pass1_exon1_rev),\n",
    "      len(df_pass1_exon2_fwd), len(df_pass1_exon2_rev),\n",
    "      len(df_pass2_exon1_fwd), len(df_pass2_exon1_rev),\n",
    ")"
   ]
  },
  {
   "cell_type": "code",
   "execution_count": 6,
   "metadata": {
    "ExecuteTime": {
     "end_time": "2018-04-19T16:18:19.585962Z",
     "start_time": "2018-04-19T16:17:47.094128Z"
    },
    "code_folding": [
     0
    ],
    "collapsed": true,
    "scrolled": true
   },
   "outputs": [],
   "source": [
    "# Match hypersensitive sites to closest first/other exon\n",
    "def df_closest(df_a, df_b, b_prefix, **kwargs):\n",
    "    df_a_sort = df_a\n",
    "    df_b_sort = df_b.sort_values(list(df_b.columns[:3]))\n",
    "    fn_ = BedTool.from_dataframe(df_a).closest(BedTool.from_dataframe(df_b_sort).fn, **kwargs).fn\n",
    "    names_ = list(itertools.chain(df_a.columns.values,\n",
    "        ['%s_%s' % (b_prefix, col) for col in df_b.columns.values],\n",
    "        ['%s_distance' % (b_prefix)]\n",
    "    ))\n",
    "    df_ = pd.read_csv(fn_, names=names_, sep='\\t')\n",
    "    return df_[names_[len(df_a.columns):]]\n",
    "\n",
    "l_atac_peak_pos = df_atac[['start', 'end']].mean(axis=1).map(int)\n",
    "\n",
    "# Closest exon1 -- protein_coding & pseudogene\n",
    "df_ = pd.concat([df_atac['chrom'], l_atac_peak_pos, l_atac_peak_pos + 1], axis=1).copy()\n",
    "df_pass1_exon1_fwd_out_ = df_closest(df_, df_pass1_exon1_fwd, 'pass1_exon1', D='ref', t='first', iu=True)\n",
    "df_pass1_exon1_rev_out_ = df_closest(df_, df_pass1_exon1_rev, 'pass1_exon1', D='ref', t='last', id=True)\n",
    "\n",
    "# Closest exon2 can be both upstream or downstream\n",
    "df_pass1_exon2_fwd_out_ = df_closest(df_, df_pass1_exon2_fwd, 'pass1_exon2', D='ref', t='first')\n",
    "df_pass1_exon2_rev_out_ = df_closest(df_, df_pass1_exon2_rev, 'pass1_exon2', D='ref', t='last') \n",
    "\n",
    "# Closes pass2/exon1 -- tRNA, snoRNA, rRNA, miRNA, etc\n",
    "df_pass2_exon1_fwd_out_ = df_closest(df_, df_pass2_exon1_fwd, 'pass2_exon1', D='ref', t='first', iu=True)\n",
    "df_pass2_exon1_rev_out_ = df_closest(df_, df_pass2_exon1_rev, 'pass2_exon1', D='ref', t='last', id=True)\n",
    "\n",
    "df_exon_fwd = pd.concat([df_pass1_exon1_fwd_out_, df_pass1_exon2_fwd_out_, df_pass2_exon1_fwd_out_], axis=1)\n",
    "df_exon_rev = pd.concat([df_pass1_exon1_rev_out_, df_pass1_exon2_rev_out_, df_pass2_exon1_rev_out_], axis=1)\n",
    "\n",
    "df_exon_fwd.to_csv(vp('closest_exon_fwd.tsv'), header=True, index=False, sep='\\t')\n",
    "df_exon_rev.to_csv(vp('closest_exon_rev.tsv'), header=True, index=False, sep='\\t')\n",
    "\n",
    "l_ = ['pass1_exon1_gene_id', 'pass1_exon1_locus_id', 'pass1_exon1_distance']\n",
    "write_gffbed(vp('closest_pass1_exon1_fwd.bed'),\n",
    "    chrom = df_atac['chrom'],\n",
    "    start = df_atac['start'],\n",
    "    end = df_atac['end'],\n",
    "    name = df_exon_fwd['pass1_exon1_Name'],\n",
    "    strand = '+',\n",
    "    attr = df_exon_fwd[l_], \n",
    ")\n",
    "\n",
    "write_gffbed(vp('closest_pass1_exon1_rev.bed'),\n",
    "    chrom = df_atac['chrom'],\n",
    "    start = df_atac['start'],\n",
    "    end = df_atac['end'],\n",
    "    name = df_exon_rev['pass1_exon1_Name'],\n",
    "    strand = '-',\n",
    "    attr = df_exon_rev[l_], \n",
    ")\n",
    "\n",
    "l_ = ['pass1_exon2_gene_id', 'pass1_exon2_locus_id', 'pass1_exon2_distance']\n",
    "write_gffbed(vp('closest_pass1_exon2_fwd.bed'),\n",
    "    chrom = df_atac['chrom'],\n",
    "    start = df_atac['start'],\n",
    "    end = df_atac['end'],\n",
    "    name = df_exon_fwd['pass1_exon2_Name'],\n",
    "    strand = '+',\n",
    "    attr = df_exon_fwd[l_], \n",
    ")\n",
    "\n",
    "write_gffbed(vp('closest_pass1_exon2_rev.bed'),\n",
    "    chrom = df_atac['chrom'],\n",
    "    start = df_atac['start'],\n",
    "    end = df_atac['end'],\n",
    "    name = df_exon_rev['pass1_exon2_Name'],\n",
    "    strand = '-',\n",
    "    attr = df_exon_rev[l_], \n",
    ")\n",
    "\n",
    "l_ = ['pass2_exon1_gene_id', 'pass2_exon1_locus_id', 'pass2_exon1_distance']\n",
    "write_gffbed(vp('closest_pass2_exon1_fwd.bed'),\n",
    "    chrom = df_atac['chrom'],\n",
    "    start = df_atac['start'],\n",
    "    end = df_atac['end'],\n",
    "    name = df_exon_fwd['pass2_exon1_Name'],\n",
    "    strand = '+',\n",
    "    attr = df_exon_fwd[l_], \n",
    ")\n",
    "\n",
    "write_gffbed(vp('closest_pass2_exon1_rev.bed'),\n",
    "    chrom = df_atac['chrom'],\n",
    "    start = df_atac['start'],\n",
    "    end = df_atac['end'],\n",
    "    name = df_exon_rev['pass2_exon1_Name'],\n",
    "    strand = '-',\n",
    "    attr = df_exon_rev[l_], \n",
    ")"
   ]
  },
  {
   "cell_type": "code",
   "execution_count": 7,
   "metadata": {
    "ExecuteTime": {
     "end_time": "2018-04-19T16:21:10.904122Z",
     "start_time": "2018-04-19T16:18:19.590403Z"
    },
    "code_folding": [
     0
    ],
    "scrolled": true
   },
   "outputs": [
    {
     "name": "stderr",
     "output_type": "stream",
     "text": [
      "[Parallel(n_jobs=15)]: Done  11 out of  11 | elapsed:  1.3min finished\n",
      "[Parallel(n_jobs=15)]: Done  11 out of  11 | elapsed:  1.4min finished\n"
     ]
    },
    {
     "name": "stdout",
     "output_type": "stream",
     "text": [
      "42246 annot/S2_regulatory_annotation/maxgap_rev.bed\n",
      "42246 annot/S2_regulatory_annotation/maxgap_fwd.bed\n"
     ]
    }
   ],
   "source": [
    "# maximum gap between hypersensitive site and downstream first exons\n",
    "def maxgap(a): return max(len(list(g)) if (k == 0) or (k != k) else 0 for k,g in itertools.groupby(a))\n",
    "\n",
    "def nanmaxgap(a): return maxgap([e if e == e else 0 for e in a])\n",
    "\n",
    "def maxgap_fwd_(fp_inp, chroms, atac_modes, exon1_starts, flank_len=250):\n",
    "    l = []\n",
    "    fh = pyBigWig.open(fp_inp)\n",
    "    for (chrom, atac_mode, exon1_start) in itertools.islice(zip(chroms, atac_modes, exon1_starts), None):\n",
    "        # Interval between atac-mode (+flank), and 5'-end of closest downstream exonl clipped by chromosome ends\n",
    "        start_ = max(atac_mode + flank_len, 0)\n",
    "        end_ = min(exon1_start + 1, fh.chroms(chrom))\n",
    "        if start_ < end_:\n",
    "            l.append(nanmaxgap(np.array(fh.values(chrom, int(start_), int(end_)))))\n",
    "        else:\n",
    "            l.append(-1)\n",
    "    fh.close()\n",
    "    return l\n",
    "\n",
    "def maxgap_rev_(fp_inp, chroms, atac_modes, exon1_ends, flank_len=250):\n",
    "    l = []\n",
    "    fh = pyBigWig.open(fp_inp)\n",
    "    for (chrom, atac_mode, exon1_end) in itertools.islice(zip(chroms, atac_modes, exon1_ends), None):\n",
    "        # Interval between atac-mode (+flank), and 5'-end of closest downstream exonl clipped by chromosome ends\n",
    "        start_ = max(exon1_end - 1, 0)\n",
    "        end_ = min(atac_mode - flank_len + 1, fh.chroms(chrom))\n",
    "        if start_ < end_:\n",
    "            l.append(nanmaxgap(np.array(fh.values(chrom, int(start_), int(end_)))))\n",
    "        else:\n",
    "            l.append(-1)\n",
    "    fh.close()\n",
    "    return l\n",
    "\n",
    "def maxgap_fwd(stage):\n",
    "    step = 'trim20.bwa_pe.rm_unmapped_pe.rm_chrM.rm_rRNA_broad.rm_blacklist.rm_q10.filled_fwd.mean_by_stage'\n",
    "    fp_fwd = pf('lcap808_%s' % (stage,), step, '.bw', 'lcap808')\n",
    "    l_maxgap = maxgap_fwd_(fp_fwd, df_atac['chrom'], l_atac_peak_pos, df_exon_fwd['pass1_exon1_start'])\n",
    "    return pd.DataFrame({'maxgap_%s_fwd' % (stage,): l_maxgap})\n",
    "\n",
    "def maxgap_rev(stage):\n",
    "    step = 'trim20.bwa_pe.rm_unmapped_pe.rm_chrM.rm_rRNA_broad.rm_blacklist.rm_q10.filled_rev.mean_by_stage'\n",
    "    fp_rev = pf('lcap808_%s' % (stage,), step, '.bw', 'lcap808')\n",
    "    l_maxgap = maxgap_rev_(fp_rev, df_atac['chrom'], l_atac_peak_pos, df_exon_rev['pass1_exon1_end'])\n",
    "    return pd.DataFrame({'maxgap_%s_rev' % (stage,): l_maxgap})\n",
    "\n",
    "df_maxgap_fwd = pd.concat(pmap(maxgap_fwd, config['stages'], n_jobs=15), axis=1)\n",
    "df_maxgap_rev = pd.concat(pmap(maxgap_rev, config['stages'], n_jobs=15), axis=1)\n",
    "\n",
    "# Visualise maxgap as .bed-files\n",
    "def itemRgb_(maxgap_):\n",
    "    if maxgap_ == 0:\n",
    "        return RED\n",
    "    else:\n",
    "        return BLUE\n",
    "\n",
    "write_gffbed('annot/S2_regulatory_annotation/metrics/maxgap_fwd.bed',\n",
    "    chrom = df_atac['chrom'],\n",
    "    start = df_atac['start'],\n",
    "    end = df_atac['end'],\n",
    "    name = df_maxgap_fwd.min(axis=1),\n",
    "    strand = '+',\n",
    "    attr = df_maxgap_fwd,\n",
    "    itemRgb = map(itemRgb_, df_maxgap_fwd.min(axis=1)),\n",
    ")\n",
    "\n",
    "write_gffbed('annot/S2_regulatory_annotation/metrics/maxgap_rev.bed',\n",
    "    chrom = df_atac['chrom'],\n",
    "    start = df_atac['start'],\n",
    "    end = df_atac['end'],\n",
    "    name = df_maxgap_rev.min(axis=1),\n",
    "    strand = '-',\n",
    "    attr = df_maxgap_rev,\n",
    "    itemRgb = map(itemRgb_, df_maxgap_rev.min(axis=1)),\n",
    ")\n",
    "\n",
    "!wc -l annot/S2_regulatory_annotation/maxgap_rev.bed\n",
    "!wc -l annot/S2_regulatory_annotation/maxgap_fwd.bed"
   ]
  },
  {
   "cell_type": "code",
   "execution_count": 8,
   "metadata": {
    "ExecuteTime": {
     "end_time": "2018-04-19T16:22:01.943396Z",
     "start_time": "2018-04-19T16:21:10.908261Z"
    },
    "code_folding": [
     0
    ]
   },
   "outputs": [
    {
     "name": "stdout",
     "output_type": "stream",
     "text": [
      "28948 28868 23059 34757 fwd/rev/both/either in pooled scap\n",
      "0.6852408569061428 0.6833471416735708 0.545839744348 0.822748254231\n",
      "104.0 median mode >= 2 tags\n",
      "113.0 median mode (>= 10 tags)\n"
     ]
    }
   ],
   "source": [
    "# scap_count <- <scap tags within region>; scap_mode_raw <- <scap mode position>; scap_mode_count <- <tags at mode>\n",
    "#fp_fwd = pf('scap541_emb_l3_ya', 'tg_se.bwa_se.rm_unmapped.rm_chrM.rm_blacklist.rm_q10.rm_non_coding.firstbp_fwd.rm_exonic', '.bw', 'scap')\n",
    "#fp_rev = pf('scap541_emb_l3_ya', 'tg_se.bwa_se.rm_unmapped.rm_chrM.rm_blacklist.rm_q10.rm_non_coding.firstbp_rev.rm_exonic', '.bw', 'scap')\n",
    "fp_fwd = pf('scap815_wt_all', 'tg_se.bwa_se.rm_unmapped.rm_chrM.rm_blacklist.rm_q10.firstbp_fwd.gt0x2', '.bw', 'scap815')\n",
    "fp_rev = pf('scap815_wt_all', 'tg_se.bwa_se.rm_unmapped.rm_chrM.rm_blacklist.rm_q10.firstbp_rev.gt0x2', '.bw', 'scap815')\n",
    "\n",
    "flank_len = 125\n",
    "chroms_ = list(df_atac['chrom'])\n",
    "starts_ = list(l_atac_peak_pos - flank_len)\n",
    "ends_ =  list(l_atac_peak_pos + flank_len)\n",
    "\n",
    "df_prom_fwd['scap_count'] = list(map(lambda c: int(np.nansum(c)), yp.read_regions(fp_fwd, chroms_, starts_, ends_)))\n",
    "df_prom_rev['scap_count'] = list(map(lambda c: int(np.nansum(c)), yp.read_regions(fp_rev, chroms_, starts_, ends_)))\n",
    "\n",
    "def mode_raw_(s, c):\n",
    "    return int(s + yp.nanargmax_median(c))\n",
    "df_prom_fwd['scap_mode_raw'] = list(map(mode_raw_, starts_, yp.read_regions(fp_fwd, chroms_, starts_, ends_)))\n",
    "df_prom_rev['scap_mode_raw'] = list(map(mode_raw_, starts_, yp.read_regions(fp_rev, chroms_, starts_, ends_)))\n",
    "\n",
    "df_prom_fwd['scap_mode_count'] = list(map(yp.nanmax, yp.read_regions(fp_fwd, chroms_, starts_, ends_)))\n",
    "df_prom_rev['scap_mode_count'] = list(map(yp.nanmax, yp.read_regions(fp_rev, chroms_, starts_, ends_)))\n",
    "\n",
    "n = float(len(df_atac))\n",
    "n_scap_fwd = len(df_prom_fwd.query('scap_mode_count >= 2'))\n",
    "n_scap_rev = len(df_prom_rev.query('scap_mode_count >= 2'))\n",
    "n_scap_bid = sum((df_prom_fwd['scap_mode_count'] >= 2) & (df_prom_rev['scap_mode_count'] >= 2))\n",
    "n_scap_either = sum((df_prom_fwd['scap_mode_count'] >= 2) | (df_prom_rev['scap_mode_count'] >= 2))\n",
    "print(n_scap_fwd, n_scap_rev, n_scap_bid, n_scap_either, 'fwd/rev/both/either in pooled scap')\n",
    "print(n_scap_fwd / n, n_scap_rev / n, n_scap_bid / n, n_scap_either / n)\n",
    "m = (df_prom_fwd['scap_mode_count'] >= 2) & (df_prom_rev['scap_mode_count'] >= 2)\n",
    "print(np.median(df_prom_fwd[m]['scap_mode_raw'] - df_prom_rev[m]['scap_mode_raw']), 'median mode >= 2 tags')\n",
    "m = (df_prom_fwd['scap_mode_count'] >= 10) & (df_prom_rev['scap_mode_count'] >= 10)\n",
    "print(np.median(df_prom_fwd[m]['scap_mode_raw'] - df_prom_rev[m]['scap_mode_raw']), 'median mode (>= 10 tags)')"
   ]
  },
  {
   "cell_type": "code",
   "execution_count": 9,
   "metadata": {
    "ExecuteTime": {
     "end_time": "2018-04-19T16:22:02.151462Z",
     "start_time": "2018-04-19T16:22:01.945527Z"
    },
    "code_folding": [
     0
    ]
   },
   "outputs": [
    {
     "name": "stdout",
     "output_type": "stream",
     "text": [
      "13297 / 13377 sites with extrapolated txn initiation\n"
     ]
    }
   ],
   "source": [
    "# \"Extrapolate\" likely regions of txn initiation based on peak accessibility\n",
    "# On average, short cap modes are spaced by 120bp\n",
    "# Extrapolate short cap modes by peak accessibility +/- 60 (120bp/2) if no short cap mode was found\n",
    "# (These \"extrapolated\" short cap modes can be discarded by filtering for scap_mode_count > 0)\n",
    "def scap_mode_fwd_(scap_mode_raw, scap_mode_count, atac_mode):\n",
    "    if scap_mode_count > 0:\n",
    "        return scap_mode_raw\n",
    "    else:\n",
    "        return atac_mode + 60\n",
    "\n",
    "def scap_mode_rev_(scap_mode_raw, scap_mode_count, atac_mode):\n",
    "    if scap_mode_count > 0:\n",
    "        return scap_mode_raw\n",
    "    else:\n",
    "        return atac_mode - 60\n",
    "\n",
    "df_prom_fwd['scap_mode'] = list(map(scap_mode_fwd_, df_prom_fwd['scap_mode_raw'], df_prom_fwd['scap_mode_count'], l_atac_peak_pos))\n",
    "df_prom_rev['scap_mode'] = list(map(scap_mode_rev_, df_prom_rev['scap_mode_raw'], df_prom_rev['scap_mode_count'], l_atac_peak_pos))\n",
    "print('%d / %d sites with extrapolated txn initiation' % (\n",
    "    len(df_prom_fwd.query('scap_mode_count == 0')), \n",
    "    len(df_prom_rev.query('scap_mode_count == 0'))\n",
    "))"
   ]
  },
  {
   "cell_type": "code",
   "execution_count": 10,
   "metadata": {
    "ExecuteTime": {
     "end_time": "2018-04-19T16:22:06.184219Z",
     "start_time": "2018-04-19T16:22:02.153883Z"
    },
    "code_folding": []
   },
   "outputs": [
    {
     "name": "stdout",
     "output_type": "stream",
     "text": [
      "wt_emb fwd\n",
      "wt_emb rev\n",
      "wt_l1 fwd\n",
      "wt_l1 rev\n",
      "wt_l2 fwd\n",
      "wt_l2 rev\n",
      "wt_l3 fwd\n",
      "wt_l3 rev\n",
      "wt_l4 fwd\n",
      "wt_l4 rev\n",
      "wt_ya fwd\n",
      "wt_ya rev\n",
      "glp1_d1 fwd\n",
      "glp1_d1 rev\n",
      "glp1_d2 fwd\n",
      "glp1_d2 rev\n",
      "glp1_d6 fwd\n",
      "glp1_d6 rev\n",
      "glp1_d9 fwd\n",
      "glp1_d9 rev\n",
      "glp1_d13 fwd\n",
      "glp1_d13 rev\n"
     ]
    }
   ],
   "source": [
    "# Stage-specific annotation\n",
    "d_annot_strand_legend = collections.OrderedDict([\n",
    "    ('coding_promoter', yp.RED),\n",
    "    ('pseudogene_promoter', yp.ORANGE),\n",
    "    ('non-coding_RNA', yp.BLACK),\n",
    "    ('unknown_promoter', yp.YELLOW),\n",
    "    ('transcription_initiation', yp.GREEN),\n",
    "    ('no_transcription', yp.BLUE),\n",
    "])\n",
    "\n",
    "d_annot_legend = collections.OrderedDict([\n",
    "    ('coding_promoter', yp.RED),\n",
    "    ('pseudogene_promoter', yp.ORANGE),\n",
    "    ('non-coding_RNA', yp.BLACK),\n",
    "    ('unknown_promoter', yp.YELLOW),\n",
    "    ('putative_enhancer', yp.GREEN),\n",
    "    ('other_element', yp.BLUE),\n",
    "])\n",
    "\n",
    "def prom_summary_stage(l_chrom, l_start, l_end, l_jump, l_incr, l_maxgap, l_exon1_dist, l_exon2_dist, l_pass2_exon2_dist, l_has_scap, l_scap_diff, l_gene_biotype):\n",
    "    for (chrom, start, end, jump, incr, maxgap, exon1_dist, exon2_dist, pass2_exon1_dist, scap_mode_count, scap_diff, gene_biotype) in \\\n",
    "            zip(l_chrom, l_start, l_end, l_jump, l_incr, l_maxgap, l_exon1_dist, l_exon2_dist, l_pass2_exon2_dist, l_has_scap, l_scap_diff, l_gene_biotype):\n",
    "\n",
    "        near_exon1 = abs(exon1_dist) < 250\n",
    "        near_exon2 = abs(exon2_dist) < 250\n",
    "        near_pass2_exon1 = abs(pass2_exon1_dist) < 250\n",
    "        has_scap = scap_mode_count >= 2\n",
    "        \n",
    "        #is_gene_biotype = (gene_biotype == 'protein_coding') | (gene_biotype == 'pseudogene')\n",
    "        v = False\n",
    "        #if chrom == \"chrI\" and start == 183421 and end == 183568: v = True\n",
    "\n",
    "        # \"General case\" -- hypersensitive site is away from all exons\n",
    "        if near_exon1 or not(near_exon2):\n",
    "            if jump and (maxgap <= 0) and (scap_diff >= 0) and has_scap:\n",
    "                #if v: print('coding_promoter0')\n",
    "                yield 'coding_promoter' if (gene_biotype == 'protein_coding') else 'pseudogene_promoter'\n",
    "            # \"Special cases\" -- elongation increase could be due to a nearby exon\n",
    "            # exception #1: closest annotation is non-coding\n",
    "            elif near_pass2_exon1:\n",
    "                if v: print('non-coding_RNA')\n",
    "                yield 'non-coding_RNA'\n",
    "            elif jump and has_scap:\n",
    "                if v: print('unknown_promoter0')\n",
    "                yield 'unknown_promoter'\n",
    "            elif has_scap:\n",
    "                if v: print('transcription_initiation0')\n",
    "                yield 'transcription_initiation'\n",
    "            else:\n",
    "                if v: print('no_transcription0')\n",
    "                yield 'no_transcription'\n",
    "\n",
    "        # Site has to overlap non-first exon\n",
    "        else:\n",
    "            assert(near_exon2)\n",
    "            if near_pass2_exon1:\n",
    "                if v: print('non-coding_RNA')\n",
    "                yield 'non-coding_RNA'\n",
    "            elif has_scap:\n",
    "                if v: print('no_transcription3')\n",
    "                yield 'transcription_initiation'\n",
    "            else:\n",
    "                if v: print('no_transcription3')\n",
    "                yield 'no_transcription'\n",
    "\n",
    "for stage in itertools.islice(config['stages'], None):\n",
    "    print(stage, 'fwd')\n",
    "    df_prom_fwd['annot_%s' % (stage,)] = list(prom_summary_stage(\n",
    "        df_atac['chrom'], df_atac['start'], df_atac['end'],\n",
    "        df_lcap['lcap_%s_fwd_passed' % (stage,)],\n",
    "        df_lcap['lcap_%s_fwd_passed' % (stage,)],\n",
    "        df_maxgap_fwd['maxgap_%s_fwd' % (stage,)],\n",
    "        df_exon_fwd['pass1_exon1_start'] - l_atac_peak_pos,\n",
    "        df_exon_fwd['pass1_exon2_start'] - l_atac_peak_pos,\n",
    "        df_exon_fwd['pass2_exon1_start'] - l_atac_peak_pos,\n",
    "        df_prom_fwd['scap_mode_count'],\n",
    "        pd.to_numeric(df_exon_fwd['pass1_exon1_init_cutoff_pos'], errors='coerce') - df_prom_fwd['scap_mode'],\n",
    "        df_exon_fwd['pass1_exon1_gene_biotype'],\n",
    "    ))\n",
    "    print(stage, 'rev')\n",
    "    df_prom_rev['annot_%s' % (stage,)] = list(prom_summary_stage(\n",
    "        df_atac['chrom'], df_atac['start'], df_atac['end'],\n",
    "        df_lcap['lcap_%s_rev_passed' % (stage,)],\n",
    "        df_lcap['lcap_%s_rev_passed' % (stage,)],\n",
    "        df_maxgap_rev['maxgap_%s_rev' % (stage,)],\n",
    "        l_atac_peak_pos - (df_exon_rev['pass1_exon1_end'] - 1),\n",
    "        l_atac_peak_pos - (df_exon_rev['pass1_exon2_end'] - 1),\n",
    "        l_atac_peak_pos - (df_exon_rev['pass2_exon1_end'] - 1),\n",
    "        df_prom_rev['scap_mode_count'],\n",
    "        df_prom_rev['scap_mode'] - pd.to_numeric(df_exon_rev['pass1_exon1_init_cutoff_pos'], errors='coerce'),\n",
    "        df_exon_rev['pass1_exon1_gene_biotype'],\n",
    "    ))"
   ]
  },
  {
   "cell_type": "code",
   "execution_count": 11,
   "metadata": {
    "ExecuteTime": {
     "end_time": "2018-04-19T16:22:12.264200Z",
     "start_time": "2018-04-19T16:22:06.186331Z"
    },
    "code_folding": [
     0
    ],
    "collapsed": true
   },
   "outputs": [],
   "source": [
    "# Aggregate stage-specific annotations across stages\n",
    "def annot_summary(l_annot):\n",
    "    l_ranking = list(d_annot_strand_legend.keys())\n",
    "    l_annot_i = [l_ranking.index(annot) for annot in l_annot]\n",
    "    return l_ranking[min(l_annot_i)]\n",
    "\n",
    "df_prom_fwd['annot_summary'] = list(map(lambda ir: annot_summary(ir[1].tolist()),\n",
    "    df_prom_fwd[['annot_%(stage)s' % locals() for stage in config['stages']]].iterrows()))\n",
    "\n",
    "df_prom_rev['annot_summary'] = list(map(lambda ir: annot_summary(ir[1].tolist()),\n",
    "    df_prom_rev[['annot_%(stage)s' % locals() for stage in config['stages']]].iterrows()))"
   ]
  },
  {
   "cell_type": "code",
   "execution_count": 12,
   "metadata": {
    "ExecuteTime": {
     "end_time": "2018-04-19T16:22:15.023630Z",
     "start_time": "2018-04-19T16:22:12.266469Z"
    },
    "code_folding": []
   },
   "outputs": [
    {
     "name": "stdout",
     "output_type": "stream",
     "text": [
      "wt_emb fwd\n",
      "wt_emb rev\n",
      "wt_l1 fwd\n",
      "wt_l1 rev\n",
      "wt_l2 fwd\n",
      "wt_l2 rev\n",
      "wt_l3 fwd\n",
      "wt_l3 rev\n",
      "wt_l4 fwd\n",
      "wt_l4 rev\n",
      "wt_ya fwd\n",
      "wt_ya rev\n",
      "glp1_d1 fwd\n",
      "glp1_d1 rev\n",
      "glp1_d2 fwd\n",
      "glp1_d2 rev\n",
      "glp1_d6 fwd\n",
      "glp1_d6 rev\n",
      "glp1_d9 fwd\n",
      "glp1_d9 rev\n",
      "glp1_d13 fwd\n",
      "glp1_d13 rev\n"
     ]
    }
   ],
   "source": [
    "# Additional low-confidence promoter annotation\n",
    "def lowconf_prom_summary_stage(l_chrom, l_start, l_end, l_jump, l_incr, l_log2FoldChange, l_maxgap, l_exon1_dist, l_exon2_dist, l_pass2_exon2_dist, l_has_scap, l_scap_diff, l_gene_biotype):\n",
    "    for (chrom, start, end, jump, incr, log2FoldChange, maxgap, exon1_dist, exon2_dist, pass2_exon1_dist, scap_mode_count, scap_diff, gene_biotype) in \\\n",
    "            zip(l_chrom, l_start, l_end, l_jump, l_incr, l_log2FoldChange, l_maxgap, l_exon1_dist, l_exon2_dist, l_pass2_exon2_dist, l_has_scap, l_scap_diff, l_gene_biotype):\n",
    "\n",
    "        near_exon1 = abs(exon1_dist) < 250\n",
    "        near_exon2 = abs(exon2_dist) < 250\n",
    "        near_pass2_exon1 = abs(pass2_exon1_dist) < 250\n",
    "        has_scap = scap_mode_count >= 2\n",
    "        \n",
    "        #is_gene_biotype = (gene_biotype == 'protein_coding') | (gene_biotype == 'pseudogene')\n",
    "        v = False\n",
    "        #if chrom == \"chrI\" and start == 183421 and end == 183568: v = True\n",
    "        if (not (maxgap > 0)) and (log2FoldChange > 1) and (scap_diff >= -100):\n",
    "            yield 'coding_promoter' if (gene_biotype == 'protein_coding') else 'pseudogene_promoter'\n",
    "        else:\n",
    "            yield 'no_transcription'\n",
    "\n",
    "df_lowconf_fwd = df_atac[['chrom', 'start', 'end']].copy()\n",
    "df_lowconf_rev = df_atac[['chrom', 'start', 'end']].copy()\n",
    "df_lowconf_fwd['strand'] = '+'\n",
    "df_lowconf_rev['strand'] = '-'\n",
    "for stage in itertools.islice(config['stages'], None):\n",
    "    print(stage, 'fwd')\n",
    "    df_lowconf_fwd['annot_lowconf_prom_%s' % (stage,)] = list(lowconf_prom_summary_stage(\n",
    "        df_atac['chrom'], df_atac['start'], df_atac['end'],\n",
    "        df_lcap['lcap_%s_fwd_passed' % (stage,)],\n",
    "        df_lcap['lcap_%s_fwd_passed' % (stage,)],\n",
    "        df_lcap['lcap_%s_fwd_log2FoldChange' % (stage,)],\n",
    "        df_maxgap_fwd['maxgap_%s_fwd' % (stage,)],\n",
    "        df_exon_fwd['pass1_exon1_start'] - l_atac_peak_pos,\n",
    "        df_exon_fwd['pass1_exon2_start'] - l_atac_peak_pos,\n",
    "        df_exon_fwd['pass2_exon1_start'] - l_atac_peak_pos,\n",
    "        df_prom_fwd['scap_mode_count'],\n",
    "        pd.to_numeric(df_exon_fwd['pass1_exon1_init_cutoff_pos'], errors='coerce') - df_prom_fwd['scap_mode'],\n",
    "        df_exon_fwd['pass1_exon1_gene_biotype'],\n",
    "    ))\n",
    "    print(stage, 'rev')\n",
    "    df_lowconf_rev['annot_lowconf_prom_%s' % (stage,)] = list(lowconf_prom_summary_stage(\n",
    "        df_atac['chrom'], df_atac['start'], df_atac['end'],\n",
    "        df_lcap['lcap_%s_rev_passed' % (stage,)],\n",
    "        df_lcap['lcap_%s_rev_passed' % (stage,)],\n",
    "        df_lcap['lcap_%s_rev_log2FoldChange' % (stage,)],\n",
    "        df_maxgap_rev['maxgap_%s_rev' % (stage,)],\n",
    "        l_atac_peak_pos - (df_exon_rev['pass1_exon1_end'] - 1),\n",
    "        l_atac_peak_pos - (df_exon_rev['pass1_exon2_end'] - 1),\n",
    "        l_atac_peak_pos - (df_exon_rev['pass2_exon1_end'] - 1),\n",
    "        df_prom_rev['scap_mode_count'],\n",
    "        df_prom_rev['scap_mode'] - pd.to_numeric(df_exon_rev['pass1_exon1_init_cutoff_pos'], errors='coerce'),\n",
    "        df_exon_rev['pass1_exon1_gene_biotype'],\n",
    "    ))"
   ]
  },
  {
   "cell_type": "code",
   "execution_count": 13,
   "metadata": {
    "ExecuteTime": {
     "end_time": "2018-04-19T16:22:20.934744Z",
     "start_time": "2018-04-19T16:22:15.025538Z"
    },
    "code_folding": [
     0
    ],
    "collapsed": true
   },
   "outputs": [],
   "source": [
    "# Aggregate stage-specific annotations across stages\n",
    "d_annot_lowconf_strand_legend = collections.OrderedDict([\n",
    "    ('coding_promoter', yp.RED),\n",
    "    ('pseudogene_promoter', yp.ORANGE),\n",
    "    ('no_transcription', yp.BLUE),\n",
    "])\n",
    "\n",
    "def annot_summary_lowconf(l_annot):\n",
    "    l_ranking = list(d_annot_lowconf_strand_legend.keys())\n",
    "    l_annot_i = [l_ranking.index(annot) for annot in l_annot]\n",
    "    return l_ranking[min(l_annot_i)]\n",
    "\n",
    "df_lowconf_fwd['pass1_exon1_gene_id'] = df_exon_fwd['pass1_exon1_gene_id']\n",
    "df_lowconf_rev['pass1_exon1_gene_id'] = df_exon_rev['pass1_exon1_gene_id']\n",
    "df_lowconf_fwd['annot_summary'] = df_prom_fwd['annot_summary']\n",
    "df_lowconf_rev['annot_summary'] = df_prom_rev['annot_summary']\n",
    "df_lowconf_fwd['annot_lowconf_all_stages'] = list(map(lambda ir: annot_summary(ir[1].tolist()),\n",
    "    df_lowconf_fwd[['annot_lowconf_prom_%(stage)s' % locals() for stage in config['stages']]].iterrows()))\n",
    "df_lowconf_rev['annot_lowconf_all_stages'] = list(map(lambda ir: annot_summary(ir[1].tolist()),\n",
    "    df_lowconf_rev[['annot_lowconf_prom_%(stage)s' % locals() for stage in config['stages']]].iterrows()))"
   ]
  },
  {
   "cell_type": "code",
   "execution_count": 14,
   "metadata": {
    "ExecuteTime": {
     "end_time": "2018-04-19T16:22:29.936573Z",
     "start_time": "2018-04-19T16:22:20.938169Z"
    },
    "code_folding": []
   },
   "outputs": [
    {
     "name": "stdout",
     "output_type": "stream",
     "text": [
      "761 additional fwd strand promoters\n",
      "789 additional rev strand promoters\n"
     ]
    }
   ],
   "source": [
    "l_prom_lowconf_fwd_gene_id = df_lowconf_fwd.groupby('pass1_exon1_gene_id').agg({\n",
    "        'annot_summary': lambda a: len([a_i for a_i in a if a_i in ['coding_promoter', 'pseudogene_promoter']]),\n",
    "        'annot_lowconf_all_stages': lambda a: len([a_i for a_i in a if a_i in ['coding_promoter', 'pseudogene_promoter']]),\n",
    "}).query('(annot_summary == 0) & (annot_lowconf_all_stages == 1)').index.tolist()\n",
    "\n",
    "l_prom_lowconf_rev_gene_id = df_lowconf_rev.groupby('pass1_exon1_gene_id').agg({\n",
    "        'annot_summary': lambda a: len([a_i for a_i in a if a_i in ['coding_promoter', 'pseudogene_promoter']]),\n",
    "        'annot_lowconf_all_stages': lambda a: len([a_i for a_i in a if a_i in ['coding_promoter', 'pseudogene_promoter']]),\n",
    "}).query('(annot_summary == 0) & (annot_lowconf_all_stages == 1)').index.tolist()\n",
    "\n",
    "def annot_lowconf_fwd(ir):\n",
    "    (i, r) = (ir[0], ir[1])\n",
    "    if ((r.annot_lowconf_all_stages == \"coding_promoter\") or (r.annot_lowconf_all_stages == \"pseudogene_promoter\")) \\\n",
    "      and (r.pass1_exon1_gene_id in l_prom_lowconf_fwd_gene_id):\n",
    "        return r.annot_lowconf_all_stages\n",
    "    else:\n",
    "        return '.'\n",
    "\n",
    "def annot_lowconf_rev(ir):\n",
    "    (i, r) = (ir[0], ir[1])\n",
    "    if ((r.annot_lowconf_all_stages == \"coding_promoter\") or (r.annot_lowconf_all_stages == \"pseudogene_promoter\")) \\\n",
    "      and (r.pass1_exon1_gene_id in l_prom_lowconf_rev_gene_id):\n",
    "        return r.annot_lowconf_all_stages\n",
    "    else:\n",
    "        return '.'\n",
    "\n",
    "df_lowconf_fwd['annot_lowconf_summary'] = list(map(annot_lowconf_fwd, df_lowconf_fwd.iterrows()))\n",
    "df_lowconf_rev['annot_lowconf_summary'] = list(map(annot_lowconf_rev, df_lowconf_rev.iterrows()))\n",
    "\n",
    "df_prom_fwd['annot_lowconf'] = df_lowconf_fwd['annot_lowconf_summary'] != \".\"\n",
    "df_prom_rev['annot_lowconf'] = df_lowconf_rev['annot_lowconf_summary'] != \".\"\n",
    "m_fwd_ = df_prom_fwd['annot_lowconf'].values\n",
    "m_rev_ = df_prom_rev['annot_lowconf'].values\n",
    "df_prom_fwd.loc[m_fwd_, 'annot_summary'] = df_lowconf_fwd.loc[m_fwd_, 'annot_lowconf_summary']\n",
    "df_prom_rev.loc[m_rev_, 'annot_summary'] = df_lowconf_rev.loc[m_rev_, 'annot_lowconf_summary']\n",
    "print('%d additional fwd strand promoters' % (sum(m_fwd_),))\n",
    "print('%d additional rev strand promoters' % (sum(m_rev_),))"
   ]
  },
  {
   "cell_type": "code",
   "execution_count": 15,
   "metadata": {
    "ExecuteTime": {
     "end_time": "2018-04-19T16:22:30.130042Z",
     "start_time": "2018-04-19T16:22:29.938420Z"
    },
    "code_folding": []
   },
   "outputs": [
    {
     "data": {
      "text/html": [
       "<div>\n",
       "<style>\n",
       "    .dataframe thead tr:only-child th {\n",
       "        text-align: right;\n",
       "    }\n",
       "\n",
       "    .dataframe thead th {\n",
       "        text-align: left;\n",
       "    }\n",
       "\n",
       "    .dataframe tbody tr th {\n",
       "        vertical-align: top;\n",
       "    }\n",
       "</style>\n",
       "<table border=\"1\" class=\"dataframe\">\n",
       "  <thead>\n",
       "    <tr style=\"text-align: right;\">\n",
       "      <th></th>\n",
       "      <th>wt_emb</th>\n",
       "      <th>wt_l1</th>\n",
       "      <th>wt_l2</th>\n",
       "      <th>wt_l3</th>\n",
       "      <th>wt_l4</th>\n",
       "      <th>wt_ya</th>\n",
       "      <th>glp1_d1</th>\n",
       "      <th>glp1_d2</th>\n",
       "      <th>glp1_d6</th>\n",
       "      <th>glp1_d9</th>\n",
       "      <th>glp1_d13</th>\n",
       "      <th>summary</th>\n",
       "    </tr>\n",
       "  </thead>\n",
       "  <tbody>\n",
       "    <tr>\n",
       "      <th>coding_promoter</th>\n",
       "      <td>4048</td>\n",
       "      <td>3942</td>\n",
       "      <td>4332</td>\n",
       "      <td>4345</td>\n",
       "      <td>4166</td>\n",
       "      <td>4133</td>\n",
       "      <td>3569</td>\n",
       "      <td>3161</td>\n",
       "      <td>3460</td>\n",
       "      <td>3328</td>\n",
       "      <td>3433</td>\n",
       "      <td>8440</td>\n",
       "    </tr>\n",
       "    <tr>\n",
       "      <th>pseudogene_promoter</th>\n",
       "      <td>75</td>\n",
       "      <td>71</td>\n",
       "      <td>64</td>\n",
       "      <td>59</td>\n",
       "      <td>62</td>\n",
       "      <td>74</td>\n",
       "      <td>45</td>\n",
       "      <td>41</td>\n",
       "      <td>45</td>\n",
       "      <td>43</td>\n",
       "      <td>50</td>\n",
       "      <td>201</td>\n",
       "    </tr>\n",
       "    <tr>\n",
       "      <th>non-coding_RNA</th>\n",
       "      <td>483</td>\n",
       "      <td>483</td>\n",
       "      <td>481</td>\n",
       "      <td>485</td>\n",
       "      <td>486</td>\n",
       "      <td>489</td>\n",
       "      <td>484</td>\n",
       "      <td>488</td>\n",
       "      <td>484</td>\n",
       "      <td>487</td>\n",
       "      <td>480</td>\n",
       "      <td>443</td>\n",
       "    </tr>\n",
       "    <tr>\n",
       "      <th>unknown_promoter</th>\n",
       "      <td>2388</td>\n",
       "      <td>2454</td>\n",
       "      <td>2746</td>\n",
       "      <td>2498</td>\n",
       "      <td>2028</td>\n",
       "      <td>1646</td>\n",
       "      <td>2055</td>\n",
       "      <td>1959</td>\n",
       "      <td>2233</td>\n",
       "      <td>2925</td>\n",
       "      <td>2912</td>\n",
       "      <td>8124</td>\n",
       "    </tr>\n",
       "    <tr>\n",
       "      <th>transcription_initiation</th>\n",
       "      <td>22106</td>\n",
       "      <td>22150</td>\n",
       "      <td>21477</td>\n",
       "      <td>21713</td>\n",
       "      <td>22358</td>\n",
       "      <td>22758</td>\n",
       "      <td>22947</td>\n",
       "      <td>23451</td>\n",
       "      <td>22878</td>\n",
       "      <td>22317</td>\n",
       "      <td>22225</td>\n",
       "      <td>12358</td>\n",
       "    </tr>\n",
       "    <tr>\n",
       "      <th>no_transcription</th>\n",
       "      <td>13145</td>\n",
       "      <td>13145</td>\n",
       "      <td>13145</td>\n",
       "      <td>13145</td>\n",
       "      <td>13145</td>\n",
       "      <td>13145</td>\n",
       "      <td>13145</td>\n",
       "      <td>13145</td>\n",
       "      <td>13145</td>\n",
       "      <td>13145</td>\n",
       "      <td>13145</td>\n",
       "      <td>12679</td>\n",
       "    </tr>\n",
       "  </tbody>\n",
       "</table>\n",
       "</div>"
      ],
      "text/plain": [
       "                          wt_emb  wt_l1  wt_l2  wt_l3  wt_l4  wt_ya  glp1_d1  \\\n",
       "coding_promoter             4048   3942   4332   4345   4166   4133     3569   \n",
       "pseudogene_promoter           75     71     64     59     62     74       45   \n",
       "non-coding_RNA               483    483    481    485    486    489      484   \n",
       "unknown_promoter            2388   2454   2746   2498   2028   1646     2055   \n",
       "transcription_initiation   22106  22150  21477  21713  22358  22758    22947   \n",
       "no_transcription           13145  13145  13145  13145  13145  13145    13145   \n",
       "\n",
       "                          glp1_d2  glp1_d6  glp1_d9  glp1_d13  summary  \n",
       "coding_promoter              3161     3460     3328      3433     8440  \n",
       "pseudogene_promoter            41       45       43        50      201  \n",
       "non-coding_RNA                488      484      487       480      443  \n",
       "unknown_promoter             1959     2233     2925      2912     8124  \n",
       "transcription_initiation    23451    22878    22317     22225    12358  \n",
       "no_transcription            13145    13145    13145     13145    12679  "
      ]
     },
     "execution_count": 15,
     "metadata": {},
     "output_type": "execute_result"
    }
   ],
   "source": [
    "# Forward strand annotation summary\n",
    "df_fwd_ = pd.concat([df_prom_fwd['annot_%(stage)s' % locals()].value_counts() for stage in config['stages'] + ['summary']], axis=1).loc[d_annot_strand_legend.keys()]\n",
    "df_fwd_.columns = config['stages'] + ['summary']\n",
    "#df_fwd_.to_latex('%(dm_step)s_fig/prom_summary_rev.latex' % locals())\n",
    "df_fwd_"
   ]
  },
  {
   "cell_type": "code",
   "execution_count": 16,
   "metadata": {
    "ExecuteTime": {
     "end_time": "2018-04-19T16:22:31.045457Z",
     "start_time": "2018-04-19T16:22:30.132764Z"
    }
   },
   "outputs": [
    {
     "data": {
      "text/plain": [
       "<matplotlib.table.Table at 0x7f76379203c8>"
      ]
     },
     "execution_count": 16,
     "metadata": {},
     "output_type": "execute_result"
    },
    {
     "data": {
      "image/png": "[encoded data removed]",
      "text/plain": [
       "<matplotlib.figure.Figure at 0x7f76390aa5f8>"
      ]
     },
     "metadata": {
      "image/png": {
       "height": 235,
       "width": 485
      }
     },
     "output_type": "display_data"
    }
   ],
   "source": [
    "plt.subplot(111, frame_on=False)\n",
    "plt.gca().xaxis.set_visible(False)\n",
    "plt.gca().yaxis.set_visible(False)\n",
    "pd.plotting.table(data=df_fwd_, ax=plt.gca(), loc='center left')\n",
    "#plt.savefig('annot/FigA_mapping/annot_crosstab_fwd.pdf', bbox_inches='tight')"
   ]
  },
  {
   "cell_type": "code",
   "execution_count": 17,
   "metadata": {
    "ExecuteTime": {
     "end_time": "2018-04-19T16:22:31.244520Z",
     "start_time": "2018-04-19T16:22:31.047207Z"
    },
    "code_folding": [],
    "scrolled": true
   },
   "outputs": [
    {
     "data": {
      "text/html": [
       "<div>\n",
       "<style>\n",
       "    .dataframe thead tr:only-child th {\n",
       "        text-align: right;\n",
       "    }\n",
       "\n",
       "    .dataframe thead th {\n",
       "        text-align: left;\n",
       "    }\n",
       "\n",
       "    .dataframe tbody tr th {\n",
       "        vertical-align: top;\n",
       "    }\n",
       "</style>\n",
       "<table border=\"1\" class=\"dataframe\">\n",
       "  <thead>\n",
       "    <tr style=\"text-align: right;\">\n",
       "      <th></th>\n",
       "      <th>wt_emb</th>\n",
       "      <th>wt_l1</th>\n",
       "      <th>wt_l2</th>\n",
       "      <th>wt_l3</th>\n",
       "      <th>wt_l4</th>\n",
       "      <th>wt_ya</th>\n",
       "      <th>glp1_d1</th>\n",
       "      <th>glp1_d2</th>\n",
       "      <th>glp1_d6</th>\n",
       "      <th>glp1_d9</th>\n",
       "      <th>glp1_d13</th>\n",
       "      <th>summary</th>\n",
       "    </tr>\n",
       "  </thead>\n",
       "  <tbody>\n",
       "    <tr>\n",
       "      <th>coding_promoter</th>\n",
       "      <td>4078</td>\n",
       "      <td>3887</td>\n",
       "      <td>4243</td>\n",
       "      <td>4306</td>\n",
       "      <td>4155</td>\n",
       "      <td>4043</td>\n",
       "      <td>3605</td>\n",
       "      <td>3054</td>\n",
       "      <td>3459</td>\n",
       "      <td>3365</td>\n",
       "      <td>3430</td>\n",
       "      <td>8317</td>\n",
       "    </tr>\n",
       "    <tr>\n",
       "      <th>pseudogene_promoter</th>\n",
       "      <td>80</td>\n",
       "      <td>70</td>\n",
       "      <td>76</td>\n",
       "      <td>74</td>\n",
       "      <td>76</td>\n",
       "      <td>73</td>\n",
       "      <td>44</td>\n",
       "      <td>40</td>\n",
       "      <td>52</td>\n",
       "      <td>43</td>\n",
       "      <td>46</td>\n",
       "      <td>215</td>\n",
       "    </tr>\n",
       "    <tr>\n",
       "      <th>non-coding_RNA</th>\n",
       "      <td>488</td>\n",
       "      <td>486</td>\n",
       "      <td>482</td>\n",
       "      <td>486</td>\n",
       "      <td>491</td>\n",
       "      <td>490</td>\n",
       "      <td>495</td>\n",
       "      <td>505</td>\n",
       "      <td>490</td>\n",
       "      <td>490</td>\n",
       "      <td>489</td>\n",
       "      <td>455</td>\n",
       "    </tr>\n",
       "    <tr>\n",
       "      <th>unknown_promoter</th>\n",
       "      <td>2384</td>\n",
       "      <td>2464</td>\n",
       "      <td>2856</td>\n",
       "      <td>2453</td>\n",
       "      <td>1991</td>\n",
       "      <td>1683</td>\n",
       "      <td>2035</td>\n",
       "      <td>1897</td>\n",
       "      <td>2184</td>\n",
       "      <td>2872</td>\n",
       "      <td>2969</td>\n",
       "      <td>8261</td>\n",
       "    </tr>\n",
       "    <tr>\n",
       "      <th>transcription_initiation</th>\n",
       "      <td>22000</td>\n",
       "      <td>22123</td>\n",
       "      <td>21373</td>\n",
       "      <td>21711</td>\n",
       "      <td>22317</td>\n",
       "      <td>22741</td>\n",
       "      <td>22851</td>\n",
       "      <td>23534</td>\n",
       "      <td>22845</td>\n",
       "      <td>22260</td>\n",
       "      <td>22096</td>\n",
       "      <td>12261</td>\n",
       "    </tr>\n",
       "    <tr>\n",
       "      <th>no_transcription</th>\n",
       "      <td>13215</td>\n",
       "      <td>13215</td>\n",
       "      <td>13215</td>\n",
       "      <td>13215</td>\n",
       "      <td>13215</td>\n",
       "      <td>13215</td>\n",
       "      <td>13215</td>\n",
       "      <td>13215</td>\n",
       "      <td>13215</td>\n",
       "      <td>13215</td>\n",
       "      <td>13215</td>\n",
       "      <td>12736</td>\n",
       "    </tr>\n",
       "  </tbody>\n",
       "</table>\n",
       "</div>"
      ],
      "text/plain": [
       "                          wt_emb  wt_l1  wt_l2  wt_l3  wt_l4  wt_ya  glp1_d1  \\\n",
       "coding_promoter             4078   3887   4243   4306   4155   4043     3605   \n",
       "pseudogene_promoter           80     70     76     74     76     73       44   \n",
       "non-coding_RNA               488    486    482    486    491    490      495   \n",
       "unknown_promoter            2384   2464   2856   2453   1991   1683     2035   \n",
       "transcription_initiation   22000  22123  21373  21711  22317  22741    22851   \n",
       "no_transcription           13215  13215  13215  13215  13215  13215    13215   \n",
       "\n",
       "                          glp1_d2  glp1_d6  glp1_d9  glp1_d13  summary  \n",
       "coding_promoter              3054     3459     3365      3430     8317  \n",
       "pseudogene_promoter            40       52       43        46      215  \n",
       "non-coding_RNA                505      490      490       489      455  \n",
       "unknown_promoter             1897     2184     2872      2969     8261  \n",
       "transcription_initiation    23534    22845    22260     22096    12261  \n",
       "no_transcription            13215    13215    13215     13215    12736  "
      ]
     },
     "execution_count": 17,
     "metadata": {},
     "output_type": "execute_result"
    }
   ],
   "source": [
    "# Reverse strand annotation summary\n",
    "df_rev_ = pd.concat([df_prom_rev['annot_%(stage)s' % locals()].value_counts() for stage in config['stages'] + ['summary']], axis=1).loc[d_annot_strand_legend.keys()]\n",
    "df_rev_.columns = config['stages'] + ['summary']\n",
    "#df_rev_.to_latex('%(dm_step)s_fig/prom_summary_rev.latex' % locals())\n",
    "df_rev_"
   ]
  },
  {
   "cell_type": "code",
   "execution_count": 18,
   "metadata": {
    "ExecuteTime": {
     "end_time": "2018-04-19T16:22:31.913829Z",
     "start_time": "2018-04-19T16:22:31.247271Z"
    }
   },
   "outputs": [
    {
     "data": {
      "text/plain": [
       "<matplotlib.table.Table at 0x7f76377f3128>"
      ]
     },
     "execution_count": 18,
     "metadata": {},
     "output_type": "execute_result"
    },
    {
     "data": {
      "image/png": "[encoded data removed]",
      "text/plain": [
       "<matplotlib.figure.Figure at 0x7f76390a7828>"
      ]
     },
     "metadata": {
      "image/png": {
       "height": 235,
       "width": 485
      }
     },
     "output_type": "display_data"
    }
   ],
   "source": [
    "plt.subplot(111, frame_on=False)\n",
    "plt.gca().xaxis.set_visible(False)\n",
    "plt.gca().yaxis.set_visible(False)\n",
    "pd.plotting.table(data=df_rev_, ax=plt.gca(), loc='center left')\n",
    "#plt.savefig('annot/FigA_mapping/annot_crosstab_rev.pdf', bbox_inches='tight')"
   ]
  },
  {
   "cell_type": "code",
   "execution_count": 19,
   "metadata": {
    "ExecuteTime": {
     "end_time": "2018-04-19T16:22:31.969735Z",
     "start_time": "2018-04-19T16:22:31.915537Z"
    },
    "code_folding": []
   },
   "outputs": [
    {
     "data": {
      "text/html": [
       "<div>\n",
       "<style>\n",
       "    .dataframe thead tr:only-child th {\n",
       "        text-align: right;\n",
       "    }\n",
       "\n",
       "    .dataframe thead th {\n",
       "        text-align: left;\n",
       "    }\n",
       "\n",
       "    .dataframe tbody tr th {\n",
       "        vertical-align: top;\n",
       "    }\n",
       "</style>\n",
       "<table border=\"1\" class=\"dataframe\">\n",
       "  <thead>\n",
       "    <tr style=\"text-align: right;\">\n",
       "      <th>col_0</th>\n",
       "      <th>coding_promoter</th>\n",
       "      <th>pseudogene_promoter</th>\n",
       "      <th>non-coding_RNA</th>\n",
       "      <th>unknown_promoter</th>\n",
       "      <th>transcription_initiation</th>\n",
       "      <th>no_transcription</th>\n",
       "    </tr>\n",
       "    <tr>\n",
       "      <th>row_0</th>\n",
       "      <th></th>\n",
       "      <th></th>\n",
       "      <th></th>\n",
       "      <th></th>\n",
       "      <th></th>\n",
       "      <th></th>\n",
       "    </tr>\n",
       "  </thead>\n",
       "  <tbody>\n",
       "    <tr>\n",
       "      <th>coding_promoter</th>\n",
       "      <td>2281</td>\n",
       "      <td>46</td>\n",
       "      <td>25</td>\n",
       "      <td>2355</td>\n",
       "      <td>2138</td>\n",
       "      <td>1595</td>\n",
       "    </tr>\n",
       "    <tr>\n",
       "      <th>pseudogene_promoter</th>\n",
       "      <td>49</td>\n",
       "      <td>8</td>\n",
       "      <td>1</td>\n",
       "      <td>37</td>\n",
       "      <td>47</td>\n",
       "      <td>59</td>\n",
       "    </tr>\n",
       "    <tr>\n",
       "      <th>non-coding_RNA</th>\n",
       "      <td>27</td>\n",
       "      <td>0</td>\n",
       "      <td>48</td>\n",
       "      <td>35</td>\n",
       "      <td>80</td>\n",
       "      <td>253</td>\n",
       "    </tr>\n",
       "    <tr>\n",
       "      <th>unknown_promoter</th>\n",
       "      <td>2352</td>\n",
       "      <td>44</td>\n",
       "      <td>31</td>\n",
       "      <td>1152</td>\n",
       "      <td>3264</td>\n",
       "      <td>1281</td>\n",
       "    </tr>\n",
       "    <tr>\n",
       "      <th>transcription_initiation</th>\n",
       "      <td>2046</td>\n",
       "      <td>46</td>\n",
       "      <td>74</td>\n",
       "      <td>3388</td>\n",
       "      <td>3969</td>\n",
       "      <td>2835</td>\n",
       "    </tr>\n",
       "    <tr>\n",
       "      <th>no_transcription</th>\n",
       "      <td>1562</td>\n",
       "      <td>71</td>\n",
       "      <td>276</td>\n",
       "      <td>1294</td>\n",
       "      <td>2763</td>\n",
       "      <td>6713</td>\n",
       "    </tr>\n",
       "  </tbody>\n",
       "</table>\n",
       "</div>"
      ],
      "text/plain": [
       "col_0                     coding_promoter  pseudogene_promoter  \\\n",
       "row_0                                                            \n",
       "coding_promoter                      2281                   46   \n",
       "pseudogene_promoter                    49                    8   \n",
       "non-coding_RNA                         27                    0   \n",
       "unknown_promoter                     2352                   44   \n",
       "transcription_initiation             2046                   46   \n",
       "no_transcription                     1562                   71   \n",
       "\n",
       "col_0                     non-coding_RNA  unknown_promoter  \\\n",
       "row_0                                                        \n",
       "coding_promoter                       25              2355   \n",
       "pseudogene_promoter                    1                37   \n",
       "non-coding_RNA                        48                35   \n",
       "unknown_promoter                      31              1152   \n",
       "transcription_initiation              74              3388   \n",
       "no_transcription                     276              1294   \n",
       "\n",
       "col_0                     transcription_initiation  no_transcription  \n",
       "row_0                                                                 \n",
       "coding_promoter                               2138              1595  \n",
       "pseudogene_promoter                             47                59  \n",
       "non-coding_RNA                                  80               253  \n",
       "unknown_promoter                              3264              1281  \n",
       "transcription_initiation                      3969              2835  \n",
       "no_transcription                              2763              6713  "
      ]
     },
     "execution_count": 19,
     "metadata": {},
     "output_type": "execute_result"
    }
   ],
   "source": [
    "# Cross-tabulate strand-specific summary annotation\n",
    "pd.crosstab(pd.Categorical(df_prom_fwd['annot_summary']), pd.Categorical(df_prom_rev['annot_summary'])).loc[list(d_annot_strand_legend.keys()), list(d_annot_strand_legend.keys())]"
   ]
  },
  {
   "cell_type": "code",
   "execution_count": 20,
   "metadata": {
    "ExecuteTime": {
     "end_time": "2018-04-19T16:22:32.416449Z",
     "start_time": "2018-04-19T16:22:31.971298Z"
    }
   },
   "outputs": [
    {
     "name": "stdout",
     "output_type": "stream",
     "text": [
      "14476 bidirect, 23059 with scap, 10937 both, 75.55\n"
     ]
    }
   ],
   "source": [
    "m_prom = (df_prom_fwd['annot_summary'] == 'coding_promoter') | (df_prom_rev['annot_summary'] == 'coding_promoter')\n",
    "m_both_scap = (df_prom_fwd['scap_mode_count'] >= 2) & (df_prom_rev['scap_mode_count'] >= 2)\n",
    "f_ = sum(m_prom & m_both_scap) / sum(m_prom)\n",
    "print('%d bidirect, %d with scap, %d both, %.2f' % (sum(m_prom), sum(m_both_scap), sum(m_prom & m_both_scap), 100*f_))"
   ]
  },
  {
   "cell_type": "code",
   "execution_count": 21,
   "metadata": {
    "ExecuteTime": {
     "end_time": "2018-04-19T16:23:02.715727Z",
     "start_time": "2018-04-19T16:22:32.419259Z"
    },
    "code_folding": [
     0
    ]
   },
   "outputs": [
    {
     "name": "stdout",
     "output_type": "stream",
     "text": [
      "5986 fwd 5973 rev 11959 pooled\n",
      "11959 annot/S2_regulatory_annotation/metrics/_df_prom_bounds.bed\r\n"
     ]
    },
    {
     "name": "stderr",
     "output_type": "stream",
     "text": [
      "/mnt/home1/ahringer/jj374/relmapping/scripts/yarp/yarp.py:400: FutureWarning: convert_objects is deprecated.  Use the data-type specific converters pd.to_datetime, pd.to_timedelta and pd.to_numeric.\n",
      "  df_name = df_name.convert_objects(convert_numeric=True)\n"
     ]
    },
    {
     "name": "stdout",
     "output_type": "stream",
     "text": [
      "23155 annot/S2_regulatory_annotation/metrics/_df_gene_bounds.bed\n",
      "23156 annot/S2_regulatory_annotation/metrics/outron-extended_genes.bed\n"
     ]
    }
   ],
   "source": [
    "# S2_outron-extended_genes.bed <- genes extended by outron regions as defined by (aggregated) promoter annotations\n",
    "def df_outron_extended_genes_(df_prom_fwd_, df_prom_rev_):\n",
    "\n",
    "    # df_prom_bounds <- prom min/max boundaries, based on promoter annotation\n",
    "    df_prom_bounds_fwd = df_prom_fwd_.groupby(['pass1_exon1_gene_id', 'pass1_exon1_locus_id']).agg({\n",
    "        'chrom': lambda s: list(set(s))[0],\n",
    "        'start': np.min,\n",
    "        'end': np.max,\n",
    "    }).reset_index()[['chrom', 'start', 'end', 'pass1_exon1_gene_id', 'pass1_exon1_locus_id']]\n",
    "    df_prom_bounds_fwd.columns = ['chrom', 'start', 'end', 'gene_id', 'locus_id']\n",
    "\n",
    "    df_prom_bounds_rev = df_prom_rev_.groupby(['pass1_exon1_gene_id', 'pass1_exon1_locus_id']).agg({\n",
    "        'chrom': lambda s: list(set(s))[0],\n",
    "        'start': np.min,\n",
    "        'end': np.max,\n",
    "    }).reset_index()[['chrom', 'start', 'end', 'pass1_exon1_gene_id', 'pass1_exon1_locus_id']]\n",
    "    df_prom_bounds_rev.columns = ['chrom', 'start', 'end', 'gene_id', 'locus_id']\n",
    "\n",
    "    df_prom_bounds = pd.concat([df_prom_bounds_fwd, df_prom_bounds_rev], axis=0, ignore_index=False)\\\n",
    "        .sort_values(['chrom', 'start', 'end']).reset_index(drop=True)\n",
    "    print('%d fwd %d rev %d pooled' % (len(df_prom_bounds_fwd), len(df_prom_bounds_rev), len(df_prom_bounds)))\n",
    "\n",
    "    # Write a .bed-file of all the regions that changed\n",
    "    df_prom_bounds.to_csv(vp('_df_prom_bounds.bed'), index=False, header=False, sep='\\t')\n",
    "    !wc -l {vp('_df_prom_bounds.bed')}\n",
    "\n",
    "    # df_gene_bounds <- gene min/max boundaries, based on annotation\n",
    "    df_transcripts_ = yp.read_wbgtf('WS260_ce10/WS260_ce10.transcripts.annot.gtf.gz', parse_attr=False)\n",
    "    df_transcripts = yp.df_gfftags_unpack(df_transcripts_, name='attribute')\n",
    "    \n",
    "    # Add display_id\n",
    "    #fp_geneIDs = 'wget/ftp.wormbase.org/pub/wormbase/releases/WS260/species/c_elegans/PRJNA13758/annotation/c_elegans.PRJNA13758.WS260.geneIDs.txt.gz'\n",
    "    #df_geneIDs = pd.read_csv(fp_geneIDs, sep=',', names=('na', 'gene_id', 'locus', 'sequence_id', 'status'))[['gene_id', 'locus', 'sequence_id', 'status']]\n",
    "    #\n",
    "    #def display_id_(locus, sequence_id, gene_id):\n",
    "    #    if locus == locus:\n",
    "    #        return locus\n",
    "    #    elif sequence_id == sequence_id:\n",
    "    #        return sequence_id\n",
    "    #    else:\n",
    "    #        return gene_id\n",
    "    #\n",
    "    #df_geneIDs['locus_id'] = list(map(display_id_, df_geneIDs['locus'], df_geneIDs['sequence_id'], df_geneIDs['gene_id']))\n",
    "    #df_transcripts = pd.merge(df_transcripts, df_geneIDs[['gene_id', 'locus_id']], left_on='gene_id', right_on='gene_id')\n",
    "\n",
    "    df_gene_bounds = df_transcripts.groupby(['gene_id', 'locus_id']).agg({\n",
    "        'chrom': lambda s: list(set(s))[0],\n",
    "        'start': np.min,\n",
    "        'end': np.max,\n",
    "    }).reset_index()[['chrom', 'start', 'end', 'gene_id', 'locus_id']].sort_values(['chrom', 'start', 'end']).reset_index(drop=True)\n",
    "\n",
    "    df_gene_bounds.to_csv(vp('_df_gene_bounds.bed'), index=False, header=False, sep='\\t')\n",
    "    !wc -l {vp('_df_gene_bounds.bed')}\n",
    "    \n",
    "    df_ = df_prom_bounds.merge(df_gene_bounds, how='outer', on=['gene_id', 'locus_id'], suffixes=('_prom', '_gene'))\n",
    "    df_['start'] = list(map(int, map(np.nanmin, zip(df_['start_prom'], df_['start_gene']))))\n",
    "    df_['end'] = list(map(int, map(np.nanmax, zip(df_['end_prom'], df_['end_gene']))))\n",
    "    df_ = df_[['chrom_gene', 'start', 'end', 'gene_id', 'locus_id']].sort_values(['chrom_gene', 'start', 'end']).reset_index(drop=True)\n",
    "    df_.columns = [['chrom', 'start', 'end', 'gene_id', 'locus_id']]\n",
    "    return df_\n",
    "\n",
    "q_ = '(annot_summary == \"coding_promoter\") | (annot_summary == \"pseudogene_promoter\") | (annot_summary == \"non-coding_RNA\")'\n",
    "df_outron_extended_genes = df_outron_extended_genes_(\n",
    "    pd.concat([df_prom_fwd, df_exon_fwd['pass1_exon1_gene_id'], df_exon_fwd['pass1_exon1_locus_id']], axis=1).query(q_)[['chrom', 'start', 'end', 'annot_summary', 'pass1_exon1_gene_id', 'pass1_exon1_locus_id']],\n",
    "    pd.concat([df_prom_rev, df_exon_rev['pass1_exon1_gene_id'], df_exon_rev['pass1_exon1_locus_id']], axis=1).query(q_)[['chrom', 'start', 'end', 'annot_summary', 'pass1_exon1_gene_id', 'pass1_exon1_locus_id']],\n",
    ")\n",
    "df_outron_extended_genes.to_csv(vp('outron-extended_genes.bed'), index=False, header=False, sep='\\t')\n",
    "!wc -l {vp('outron-extended_genes.bed')}"
   ]
  },
  {
   "cell_type": "code",
   "execution_count": 22,
   "metadata": {
    "ExecuteTime": {
     "end_time": "2018-04-19T16:23:03.230776Z",
     "start_time": "2018-04-19T16:23:02.719759Z"
    },
    "code_folding": [
     0
    ]
   },
   "outputs": [
    {
     "name": "stderr",
     "output_type": "stream",
     "text": [
      "***** WARNING: File /tmp/pybedtools.so6pguzl.tmp has inconsistent naming convention for record:\n",
      "\t3826\t3977\t.\t.\n",
      "\n",
      "***** WARNING: File /tmp/pybedtools.so6pguzl.tmp has inconsistent naming convention for record:\n",
      "\t3826\t3977\t.\t.\n",
      "\n"
     ]
    }
   ],
   "source": [
    "# df_associated_gene <- associated gene assignments\n",
    "df_associated_gene = pd.read_csv(BedTool.from_dataframe(df_atac[['chrom', 'start', 'end']]).map(\n",
    "    BedTool.from_dataframe(df_outron_extended_genes).fn, c='4,5', o='distinct,distinct',).fn, sep='\\t',\n",
    "    names=yp.NAMES_BED9[:5])\n",
    "df_associated_gene.columns = ['chrom', 'start', 'end', 'associated_gene_id', 'associated_locus_id']"
   ]
  },
  {
   "cell_type": "code",
   "execution_count": 23,
   "metadata": {
    "ExecuteTime": {
     "end_time": "2018-04-19T16:23:19.550584Z",
     "start_time": "2018-04-19T16:23:03.233427Z"
    },
    "code_folding": [
     0,
     28
    ],
    "collapsed": true
   },
   "outputs": [],
   "source": [
    "# Table S2 -- unstranded summary annotation\n",
    "def name_(annot_fwd, annot_rev, locus_id_fwd, locus_id_rev, enhancer_locus_id):\n",
    "    if (annot_fwd in config['annot_with_gene_id']) and not(annot_rev in config['annot_with_gene_id']):\n",
    "        return locus_id_fwd\n",
    "    elif not(annot_fwd in config['annot_with_gene_id']) and (annot_rev in config['annot_with_gene_id']):\n",
    "        return locus_id_rev\n",
    "    elif (annot_fwd in config['annot_with_gene_id']) and (annot_rev in config['annot_with_gene_id']):\n",
    "        return '%s / %s' % (locus_id_rev, locus_id_fwd)\n",
    "    elif enhancer_locus_id != '.': # show \"likeliest target gene for an enhancer\" in brackets for all remaining (=not coding_promoter or non_coding_promoter)\n",
    "        return '(%s)' % (enhancer_locus_id,)\n",
    "    else:\n",
    "        return ''\n",
    "\n",
    "def annot_(annot_fwd, annot_rev):\n",
    "    if annot_fwd == 'coding_promoter' or annot_rev == 'coding_promoter':\n",
    "        return 'coding_promoter'\n",
    "    elif annot_fwd == 'pseudogene_promoter' or annot_rev == 'pseudogene_promoter':\n",
    "        return 'pseudogene_promoter'\n",
    "    elif annot_fwd == 'non-coding_RNA' or annot_rev == 'non-coding_RNA':\n",
    "        return 'non-coding_RNA'\n",
    "    elif annot_fwd == 'unknown_promoter' or annot_rev == 'unknown_promoter':\n",
    "        return 'unknown_promoter'\n",
    "    elif annot_fwd == 'transcription_initiation' or annot_rev == 'transcription_initiation':\n",
    "        return 'putative_enhancer'\n",
    "    elif annot_fwd == 'no_transcription' or annot_rev == 'no_transcription':\n",
    "        return 'other_element'\n",
    "    assert False\n",
    "\n",
    "def strand_(annot_fwd, annot_rev):\n",
    "    promoter_fwd = (annot_fwd in config['annot_with_gene_id'])\n",
    "    promoter_rev = (annot_rev in config['annot_with_gene_id'])\n",
    "    lcap_fwd = annot_fwd == 'unknown_promoter'\n",
    "    lcap_rev = annot_rev == 'unknown_promoter'\n",
    "    if promoter_fwd and promoter_rev:\n",
    "        return '.'\n",
    "    elif promoter_fwd and (not promoter_rev):\n",
    "        return '+'\n",
    "    elif (not promoter_fwd) and promoter_rev:\n",
    "        return '-'\n",
    "    # in the absence of promoter annotations with an \"annotated\" target, use unknown_promoter annotations for strand\n",
    "    elif lcap_fwd and lcap_rev:\n",
    "        return '.'\n",
    "    elif lcap_fwd and (not lcap_rev):\n",
    "        return '+'\n",
    "    elif (not lcap_fwd) and lcap_rev:\n",
    "        return '-'\n",
    "    else:\n",
    "        return '.'\n",
    "\n",
    "df_regl = df_atac[['chrom', 'start', 'end']].copy()\n",
    "df_regl['tss_fwd'] = df_prom_fwd['scap_mode']\n",
    "df_regl['tss_rev'] = df_prom_rev['scap_mode']\n",
    "df_regl['scap_mode_fwd'] = df_prom_fwd['scap_mode']\n",
    "df_regl['scap_mode_rev'] = df_prom_rev['scap_mode']\n",
    "df_regl['scap_mode_count_fwd'] = df_prom_fwd['scap_mode_count']\n",
    "df_regl['scap_mode_count_rev'] = df_prom_rev['scap_mode_count']\n",
    "df_regl['scap_count_fwd'] = df_prom_fwd['scap_count']\n",
    "df_regl['scap_count_rev'] = df_prom_rev['scap_count']\n",
    "df_regl['annot_fwd'] = df_prom_fwd['annot_summary']\n",
    "df_regl['annot_rev'] = df_prom_rev['annot_summary']\n",
    "df_regl['annot'] = list(map(annot_, df_prom_fwd['annot_summary'], df_prom_rev['annot_summary']))\n",
    "df_regl['strand'] = list(map(strand_, df_prom_fwd['annot_summary'], df_prom_rev['annot_summary']))\n",
    "\n",
    "def agg_pass1_pass2(annot, pass1_val, pass2_val):\n",
    "    if annot in ['coding_promoter', 'pseudogene_promoter']:\n",
    "        return pass1_val\n",
    "    elif annot == 'non-coding_RNA':\n",
    "        return pass2_val\n",
    "    else:\n",
    "        return ''\n",
    "\n",
    "df_regl['promoter_gene_id_fwd'] = list(map(agg_pass1_pass2, df_regl['annot_fwd'],\n",
    "                                    df_exon_fwd['pass1_exon1_gene_id'], df_exon_fwd['pass2_exon1_gene_id']))\n",
    "df_regl['promoter_gene_id_rev'] = list(map(agg_pass1_pass2, df_regl['annot_rev'],\n",
    "                                    df_exon_rev['pass1_exon1_gene_id'], df_exon_rev['pass2_exon1_gene_id']))\n",
    "\n",
    "df_regl['promoter_locus_id_fwd'] = list(map(agg_pass1_pass2, df_regl['annot_fwd'],\n",
    "                                    df_exon_fwd['pass1_exon1_locus_id'], df_exon_fwd['pass2_exon1_locus_id']))\n",
    "df_regl['promoter_locus_id_rev'] = list(map(agg_pass1_pass2, df_regl['annot_rev'],\n",
    "                                    df_exon_rev['pass1_exon1_locus_id'], df_exon_rev['pass2_exon1_locus_id']))\n",
    "\n",
    "df_regl['promoter_gene_biotype_fwd'] = list(map(agg_pass1_pass2, df_regl['annot_fwd'],\n",
    "                                    df_exon_fwd['pass1_exon1_gene_biotype'], df_exon_fwd['pass2_exon1_gene_biotype']))\n",
    "df_regl['promoter_gene_biotype_rev'] = list(map(agg_pass1_pass2, df_regl['annot_rev'],\n",
    "                                    df_exon_rev['pass1_exon1_gene_biotype'], df_exon_rev['pass2_exon1_gene_biotype']))\n",
    "\n",
    "df_regl['associated_gene_id'] = df_associated_gene['associated_gene_id']\n",
    "df_regl['associated_locus_id'] = df_associated_gene['associated_locus_id']\n",
    "\n",
    "df_regl['label'] = list(map(name_,\n",
    "    df_regl['annot_fwd'], df_regl['annot_rev'],                     \n",
    "    df_regl['promoter_locus_id_fwd'], df_regl['promoter_locus_id_rev'],\n",
    "    df_regl['associated_locus_id']\n",
    "))\n",
    "\n",
    "for stage in config['stages_wt'] + config['stages_glp1']:\n",
    "    df_regl['atac_%s_height' % (stage,)] = df_atac['atac_%s_height' % (stage,)]\n",
    "\n",
    "fp_ = 'annot/S2_regulatory_annotation/S2_regulatory_annotation.tsv'\n",
    "l_ = [\n",
    "    'chrom', 'start', 'end', \n",
    "    'annot', 'annot_fwd', 'annot_rev',\n",
    "    'promoter_gene_id_fwd', 'promoter_locus_id_fwd', 'promoter_gene_biotype_fwd',\n",
    "    'promoter_gene_id_rev', 'promoter_locus_id_rev', 'promoter_gene_biotype_rev',\n",
    "    'associated_gene_id', 'associated_locus_id',\n",
    "] + ['atac_%s_height' % (stage,) for stage in config['stages_wt'] + config['stages_glp1']] + [\\\n",
    "    'tss_fwd', 'tss_rev',\n",
    "    #'scap_mode_count_fwd', 'scap_mode_count_rev',\n",
    "    #'scap_count_fwd', 'scap_count_rev',\n",
    "]\n",
    "\n",
    "pd.concat([df_regl[l_], df_lcap], axis=1).to_csv(fp_, header=True, index=False, sep='\\t')"
   ]
  },
  {
   "cell_type": "code",
   "execution_count": 24,
   "metadata": {
    "ExecuteTime": {
     "end_time": "2018-04-19T16:23:20.580098Z",
     "start_time": "2018-04-19T16:23:19.553081Z"
    },
    "code_folding": [
     0
    ]
   },
   "outputs": [
    {
     "data": {
      "image/png": "[encoded data removed]",
      "text/plain": [
       "<matplotlib.figure.Figure at 0x7f767d6d3b70>"
      ]
     },
     "metadata": {
      "image/png": {
       "height": 126,
       "width": 332
      }
     },
     "output_type": "display_data"
    }
   ],
   "source": [
    "def scap_bidirectionality(mode_count_fwd, mode_count_rev):\n",
    "    if mode_count_fwd >= 2 and mode_count_rev >= 2:\n",
    "        return 'bidirectional'\n",
    "    elif mode_count_fwd >= 2:\n",
    "        return 'forward'\n",
    "    elif mode_count_rev >= 2:\n",
    "        return 'reverse'\n",
    "    else:\n",
    "        return 'none/weak'\n",
    "\n",
    "df_has_scap = pd.DataFrame()\n",
    "df_has_scap['annot'] = df_regl['annot']\n",
    "df_has_scap['scap_bidirectionality'] = list(map(scap_bidirectionality, \n",
    "    df_prom_fwd['scap_mode_count'], df_prom_rev['scap_mode_count']))\n",
    "df_has_scap['scap_bidirectionality'].value_counts()\n",
    "\n",
    "df_ = pd.crosstab(pd.Categorical(df_has_scap['annot']), pd.Categorical(df_has_scap['scap_bidirectionality']),\n",
    "                 margins=True)\\\n",
    ".loc[config['annot'] + ['All'], ['bidirectional', 'forward', 'reverse', 'none/weak']]\n",
    "\n",
    "fig = plt.figure(figsize=(4,2))\n",
    "plt.subplot(111, frame_on=False)\n",
    "plt.gca().xaxis.set_visible(False)\n",
    "plt.gca().yaxis.set_visible(False)\n",
    "pd.plotting.table(data=df_, ax=plt.gca(), loc='center left')\n",
    "plt.savefig('annot/FigA_mapping/annot_crosstab_scap.pdf', bbox_inches='tight')"
   ]
  },
  {
   "cell_type": "code",
   "execution_count": 25,
   "metadata": {
    "ExecuteTime": {
     "end_time": "2018-04-19T16:23:29.151861Z",
     "start_time": "2018-04-19T16:23:20.581772Z"
    },
    "code_folding": [
     0
    ],
    "collapsed": true
   },
   "outputs": [],
   "source": [
    "# Strand/stage-specific annotations as .bed-tracks\n",
    "write_gffbed(vp('regulatory_annotation_fwd.bed'),\n",
    "        chrom = df_regl['chrom'],\n",
    "        start = df_regl['start'],\n",
    "        end = df_regl['end'],\n",
    "        name = df_regl['promoter_locus_id_fwd'],\n",
    "        strand = '+',\n",
    "        itemRgb = list(map(lambda annot: d_annot_strand_legend[annot], df_regl['annot_fwd'])),\n",
    "        attr = df_prom_fwd[['annot_%s' % (stage,) for stage in config['stages']]],\n",
    ")\n",
    "\n",
    "write_gffbed(vp('regulatory_annotation_rev.bed'),\n",
    "        chrom = df_regl['chrom'],\n",
    "        start = df_regl['start'],\n",
    "        end = df_regl['end'],\n",
    "        name = df_regl['promoter_locus_id_rev'],\n",
    "        strand = '-',\n",
    "        itemRgb = list(map(lambda annot: d_annot_strand_legend[annot], df_regl['annot_rev'])),\n",
    "        attr = df_prom_rev[['annot_%s' % (stage,) for stage in config['stages']]],\n",
    ")"
   ]
  },
  {
   "cell_type": "code",
   "execution_count": 26,
   "metadata": {
    "ExecuteTime": {
     "end_time": "2018-04-19T16:23:32.921536Z",
     "start_time": "2018-04-19T16:23:29.155731Z"
    },
    "code_folding": [
     0
    ],
    "collapsed": true
   },
   "outputs": [],
   "source": [
    "# Visualise annotation as a single, unstranded .bed-file\n",
    "def write_regl_bed9(fp_, df_regl_):\n",
    "    write_gffbed(fp_,\n",
    "        chrom = df_regl_['chrom'],\n",
    "        start = df_regl_['start'],\n",
    "        end = df_regl_['end'],\n",
    "        name = df_regl_['label'],\n",
    "        strand = df_regl_['strand'],\n",
    "        itemRgb = list(map(lambda annot: d_annot_legend[annot], df_regl_['annot'])),\n",
    "        attr = df_regl_[['annot', 'annot_fwd', 'annot_rev']],\n",
    "    )\n",
    "\n",
    "write_regl_bed9('annot/S2_regulatory_annotation/S2_regulatory_annotation.bed', df_regl)"
   ]
  },
  {
   "cell_type": "code",
   "execution_count": 27,
   "metadata": {
    "ExecuteTime": {
     "end_time": "2018-04-19T16:23:38.261462Z",
     "start_time": "2018-04-19T16:23:32.925438Z"
    },
    "code_folding": [
     0
    ]
   },
   "outputs": [
    {
     "name": "stdout",
     "output_type": "stream",
     "text": [
      "14477 annot/S2_regulatory_annotation/metrics/S2_regulatory_annotation.coding_promoter_only.bed\n",
      "314 annot/S2_regulatory_annotation/metrics/S2_regulatory_annotation.pseudogene_promoter_only.bed\n",
      "10380 annot/S2_regulatory_annotation/metrics/S2_regulatory_annotation.unknown_promoter_only.bed\n",
      "9568 annot/S2_regulatory_annotation/metrics/S2_regulatory_annotation.putative_enhancer_only.bed\n",
      "798 annot/S2_regulatory_annotation/metrics/S2_regulatory_annotation.non-coding_RNA_only.bed\n",
      "6714 annot/S2_regulatory_annotation/metrics/S2_regulatory_annotation.other_element_only.bed\n"
     ]
    }
   ],
   "source": [
    "# .bed-files of specific types of elements\n",
    "for annot in config['annot']:\n",
    "    fp_ = vp('S2_regulatory_annotation.%s_only.bed' % (annot,))\n",
    "    write_regl_bed9(fp_, df_regl.query('annot == \"%s\"' % (annot,)).reset_index(drop=True))\n",
    "    !wc -l {fp_}"
   ]
  },
  {
   "cell_type": "code",
   "execution_count": 28,
   "metadata": {
    "ExecuteTime": {
     "end_time": "2018-04-19T16:23:38.860321Z",
     "start_time": "2018-04-19T16:23:38.265479Z"
    },
    "code_folding": [
     0
    ]
   },
   "outputs": [
    {
     "name": "stdout",
     "output_type": "stream",
     "text": [
      "2428 bidirectional promoters\n",
      "6088 forward-only promoters\n",
      "5960 reverse-only promoters\n"
     ]
    },
    {
     "data": {
      "text/plain": [
       "Text(0.950792,-0.553167,'2428 bidirectional\\npromoters')"
      ]
     },
     "execution_count": 28,
     "metadata": {},
     "output_type": "execute_result"
    },
    {
     "data": {
      "image/png": "[encoded data removed]",
      "text/plain": [
       "<matplotlib.figure.Figure at 0x7f7637e291d0>"
      ]
     },
     "metadata": {
      "image/png": {
       "height": 371,
       "width": 396
      }
     },
     "output_type": "display_data"
    }
   ],
   "source": [
    "# Visualise number of promoters called\n",
    "n_bid = len(df_regl.query('(annot == \"coding_promoter\") & (strand == \".\")'))\n",
    "n_fwd = len(df_regl.query('(annot == \"coding_promoter\") & (strand == \"+\")'))\n",
    "n_rev = len(df_regl.query('(annot == \"coding_promoter\") & (strand == \"-\")'))\n",
    "print('%d bidirectional promoters' % (n_bid))\n",
    "print('%d forward-only promoters' % (n_fwd,))\n",
    "print('%d reverse-only promoters' % (n_rev,))\n",
    "plt.figure(figsize=(16,6)).subplots_adjust(wspace=0.4)\n",
    "plt.subplot(1,2,1, aspect=1)\n",
    "plt.title('%d of %d sites (%.1f%%) annotated\\nas protein-coding promoters' % \\\n",
    "    (n_fwd + n_rev + n_bid, len(df_regl), 100 * (n_fwd + n_rev + n_bid) / float(len(df_regl)),))\n",
    "plt.pie([n_fwd, n_rev, n_bid], labels=[\n",
    "        '%(n_fwd)d forward\\npromoters' % locals(),\n",
    "        '%(n_rev)d reverse\\npromoters' % locals(), \n",
    "        '%(n_bid)d bidirectional\\npromoters' % locals(),\n",
    "])[-1][-1]"
   ]
  },
  {
   "cell_type": "code",
   "execution_count": null,
   "metadata": {
    "collapsed": true
   },
   "outputs": [],
   "source": []
  }
 ],
 "metadata": {
  "anaconda-cloud": {},
  "kernelspec": {
   "display_name": "Python 3",
   "language": "python",
   "name": "python3"
  },
  "language_info": {
   "codemirror_mode": {
    "name": "ipython",
    "version": 3
   },
   "file_extension": ".py",
   "mimetype": "text/x-python",
   "name": "python",
   "nbconvert_exporter": "python",
   "pygments_lexer": "ipython3",
   "version": "3.6.2"
  }
 },
 "nbformat": 4,
 "nbformat_minor": 1
}
