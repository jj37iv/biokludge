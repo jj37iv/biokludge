{
 "cells": [
  {
   "cell_type": "code",
   "execution_count": 1,
   "metadata": {
    "ExecuteTime": {
     "end_time": "2018-02-16T12:09:22.870175Z",
     "start_time": "2018-02-16T12:09:18.059835Z"
    }
   },
   "outputs": [
    {
     "name": "stderr",
     "output_type": "stream",
     "text": [
      "/mnt/home3/jj374/anaconda36/lib/python3.6/site-packages/statsmodels/compat/pandas.py:56: FutureWarning: The pandas.core.datetools module is deprecated and will be removed in a future version. Please use the pandas.tseries module instead.\n",
      "  from pandas.core import datetools\n"
     ]
    },
    {
     "name": "stdout",
     "output_type": "stream",
     "text": [
      "os.getcwd(): /mnt/b2/scratch/ahringer/jj374/lab/relmapping\n"
     ]
    }
   ],
   "source": [
    "%run ~/relmapping/annot/notebooks/__init__.ipynb"
   ]
  },
  {
   "cell_type": "code",
   "execution_count": 2,
   "metadata": {
    "ExecuteTime": {
     "end_time": "2018-02-16T12:09:28.097084Z",
     "start_time": "2018-02-16T12:09:22.873449Z"
    }
   },
   "outputs": [
    {
     "name": "stdout",
     "output_type": "stream",
     "text": [
      "7076 non-promoters outside of outron/gene body (=no gene_id)\n"
     ]
    },
    {
     "name": "stderr",
     "output_type": "stream",
     "text": [
      "/mnt/home3/jj374/anaconda36/lib/python3.6/site-packages/ipykernel_launcher.py:64: RuntimeWarning: Mean of empty slice\n"
     ]
    },
    {
     "name": "stdout",
     "output_type": "stream",
     "text": [
      "13195 of 42245 sites with CV values via promoter annotation\n",
      "32525 of 42245 sites with CV values via \"associated gene\"\n"
     ]
    }
   ],
   "source": [
    "df_regl = regl_addons()\n",
    "df_ = pd.crosstab(\\\n",
    "    pd.Categorical(df_regl['annot_fwd']),\\\n",
    "    pd.Categorical(df_regl['annot_rev']))\\\n",
    ".loc[config['annot_strand'], config['annot_strand']]"
   ]
  },
  {
   "cell_type": "code",
   "execution_count": 3,
   "metadata": {
    "ExecuteTime": {
     "end_time": "2018-02-16T12:09:35.652177Z",
     "start_time": "2018-02-16T12:09:28.101510Z"
    }
   },
   "outputs": [
    {
     "name": "stdout",
     "output_type": "stream",
     "text": [
      "3292\n",
      "3260\n",
      "2828\n",
      "2793\n",
      "4023\n",
      "3903\n",
      "3682\n",
      "3677\n"
     ]
    }
   ],
   "source": [
    "fp_chen = 'annot/FigC_TSS/bed_files/Chen2013_tss.bed'\n",
    "fp_kruesi = 'annot/FigC_TSS/bed_files/Kruesi2013_tss.bed'\n",
    "fp_saito = 'annot/FigC_TSS/bed_files/Saito2013_tss.bed'\n",
    "fp_gu = 'annot/FigC_TSS/bed_files/Gu2012_tss.bed'\n",
    "\n",
    "def df_closest_(df_a, df_b, b_prefix, **kwargs):\n",
    "    df_a_sort = df_a\n",
    "    df_b_sort = df_b.sort_values(list(df_b.columns[:3]))\n",
    "    fn_ = BedTool.from_dataframe(df_a).closest(BedTool.from_dataframe(df_b_sort).fn, **kwargs).fn\n",
    "    names_ = list(itertools.chain(df_a.columns.values,\n",
    "        ['%s_%s' % (b_prefix, col) for col in df_b.columns.values],\n",
    "        ['%s_distance' % (b_prefix)]\n",
    "    ))\n",
    "    df_ = pd.read_csv(fn_, names=names_, sep='\\t')\n",
    "    return df_#[names_[len(df_a.columns):]]\n",
    "\n",
    "kwa_ = {'sep': '\\t', 'names': yp.NAMES_BED6, 'comment': '#', 'usecols': yp.NAMES_BED6}\n",
    "df_chen_fwd = df_closest_(regl_mode()[yp.NAMES_BED3], pd.read_csv(fp_chen, **kwa_).query('strand == \"+\"'), 'chen2013_fwd', D='ref', t='first')\n",
    "df_chen_rev = df_closest_(regl_mode()[yp.NAMES_BED3], pd.read_csv(fp_chen, **kwa_).query('strand == \"-\"'), 'chen2013_rev', D='ref', t='first')\n",
    "kwa_ = {'sep': '\\t', 'names': yp.NAMES_BED9, 'comment': '#', 'usecols': yp.NAMES_BED6}\n",
    "df_kruesi_fwd = df_closest_(regl_mode()[yp.NAMES_BED3], pd.read_csv(fp_kruesi, **kwa_).query('strand == \"+\"'), 'kruesi2013_fwd', D='ref', t='first')\n",
    "df_kruesi_rev = df_closest_(regl_mode()[yp.NAMES_BED3], pd.read_csv(fp_kruesi, **kwa_).query('strand == \"-\"'), 'kruesi2013_rev', D='ref', t='first')\n",
    "df_saito_fwd = df_closest_(regl_mode()[yp.NAMES_BED3], pd.read_csv(fp_saito, **kwa_).query('strand == \"+\"'), 'saito2013_fwd', D='ref', t='first')\n",
    "df_saito_rev = df_closest_(regl_mode()[yp.NAMES_BED3], pd.read_csv(fp_saito, **kwa_).query('strand == \"-\"'), 'saito2013_rev', D='ref', t='first')\n",
    "df_gu_fwd = df_closest_(regl_mode()[yp.NAMES_BED3], pd.read_csv(fp_gu, **kwa_).query('strand == \"+\"'), 'gu2012_fwd', D='ref', t='first')\n",
    "df_gu_rev = df_closest_(regl_mode()[yp.NAMES_BED3], pd.read_csv(fp_gu, **kwa_).query('strand == \"-\"'), 'gu2012_rev', D='ref', t='first')\n",
    "\n",
    "print(len(df_chen_fwd.query('abs(chen2013_fwd_distance) < 150')))\n",
    "print(len(df_chen_rev.query('abs(chen2013_rev_distance) < 150')))\n",
    "print(len(df_kruesi_fwd.query('abs(kruesi2013_fwd_distance) < 150')))\n",
    "print(len(df_kruesi_rev.query('abs(kruesi2013_rev_distance) < 150')))\n",
    "print(len(df_saito_fwd.query('abs(saito2013_fwd_distance) < 150')))\n",
    "print(len(df_saito_rev.query('abs(saito2013_rev_distance) < 150')))\n",
    "print(len(df_gu_fwd.query('abs(gu2012_fwd_distance) < 150')))\n",
    "print(len(df_gu_rev.query('abs(gu2012_rev_distance) < 150')))"
   ]
  },
  {
   "cell_type": "code",
   "execution_count": 4,
   "metadata": {
    "ExecuteTime": {
     "end_time": "2018-02-16T12:09:35.893438Z",
     "start_time": "2018-02-16T12:09:35.655192Z"
    }
   },
   "outputs": [],
   "source": [
    "th_dist = 150\n",
    "df_regl['tss_chen_fwd'] = df_chen_fwd['chen2013_fwd_distance'].map(lambda dist: abs(dist) <= th_dist)\n",
    "df_regl['tss_chen_rev'] = df_chen_rev['chen2013_rev_distance'].map(lambda dist: abs(dist) <= th_dist)\n",
    "df_regl['tss_kruesi_fwd'] = df_kruesi_fwd['kruesi2013_fwd_distance'].map(lambda dist: abs(dist) <= th_dist)\n",
    "df_regl['tss_kruesi_rev'] = df_kruesi_rev['kruesi2013_rev_distance'].map(lambda dist: abs(dist) <= th_dist)\n",
    "df_regl['tss_saito_fwd'] = df_saito_fwd['saito2013_fwd_distance'].map(lambda dist: abs(dist) <= th_dist)\n",
    "df_regl['tss_saito_rev'] = df_saito_rev['saito2013_rev_distance'].map(lambda dist: abs(dist) <= th_dist)\n",
    "df_regl['tss_gu_fwd'] = df_gu_fwd['gu2012_fwd_distance'].map(lambda dist: abs(dist) <= th_dist)\n",
    "df_regl['tss_gu_rev'] = df_gu_rev['gu2012_rev_distance'].map(lambda dist: abs(dist) <= th_dist)\n",
    "df_regl['tss_any_fwd'] = df_regl[['tss_chen_fwd', 'tss_kruesi_fwd', 'tss_saito_fwd', 'tss_gu_fwd']].sum(axis=1)\n",
    "df_regl['tss_any_rev'] = df_regl[['tss_chen_rev', 'tss_kruesi_rev', 'tss_saito_rev', 'tss_gu_rev']].sum(axis=1)"
   ]
  },
  {
   "cell_type": "code",
   "execution_count": 5,
   "metadata": {
    "ExecuteTime": {
     "end_time": "2018-02-16T12:09:36.025959Z",
     "start_time": "2018-02-16T12:09:35.895276Z"
    }
   },
   "outputs": [
    {
     "data": {
      "text/html": [
       "<div>\n",
       "<style>\n",
       "    .dataframe thead tr:only-child th {\n",
       "        text-align: right;\n",
       "    }\n",
       "\n",
       "    .dataframe thead th {\n",
       "        text-align: left;\n",
       "    }\n",
       "\n",
       "    .dataframe tbody tr th {\n",
       "        vertical-align: top;\n",
       "    }\n",
       "</style>\n",
       "<table border=\"1\" class=\"dataframe\">\n",
       "  <thead>\n",
       "    <tr style=\"text-align: right;\">\n",
       "      <th></th>\n",
       "      <th>Chen2013_TSS</th>\n",
       "      <th>Kruesi2013_TSS</th>\n",
       "      <th>Saito2013_TSS</th>\n",
       "      <th>Gu2012_TSS</th>\n",
       "      <th>Any1_TSS</th>\n",
       "      <th>Any2_TSS</th>\n",
       "      <th>Any3_TSS</th>\n",
       "      <th>All4_TSS</th>\n",
       "      <th>No_previously_known_TSS</th>\n",
       "    </tr>\n",
       "  </thead>\n",
       "  <tbody>\n",
       "    <tr>\n",
       "      <th>coding_promoter</th>\n",
       "      <td>2763.0</td>\n",
       "      <td>2333</td>\n",
       "      <td>2969</td>\n",
       "      <td>2761</td>\n",
       "      <td>1555</td>\n",
       "      <td>1259</td>\n",
       "      <td>1127</td>\n",
       "      <td>843.0</td>\n",
       "      <td>3263</td>\n",
       "    </tr>\n",
       "    <tr>\n",
       "      <th>pseudogene_promoter</th>\n",
       "      <td>0.0</td>\n",
       "      <td>7</td>\n",
       "      <td>27</td>\n",
       "      <td>17</td>\n",
       "      <td>26</td>\n",
       "      <td>8</td>\n",
       "      <td>3</td>\n",
       "      <td>0.0</td>\n",
       "      <td>156</td>\n",
       "    </tr>\n",
       "    <tr>\n",
       "      <th>unknown_promoter</th>\n",
       "      <td>10.0</td>\n",
       "      <td>32</td>\n",
       "      <td>65</td>\n",
       "      <td>17</td>\n",
       "      <td>85</td>\n",
       "      <td>9</td>\n",
       "      <td>7</td>\n",
       "      <td>0.0</td>\n",
       "      <td>2499</td>\n",
       "    </tr>\n",
       "    <tr>\n",
       "      <th>transcription_initiation</th>\n",
       "      <td>414.0</td>\n",
       "      <td>424</td>\n",
       "      <td>742</td>\n",
       "      <td>591</td>\n",
       "      <td>1058</td>\n",
       "      <td>304</td>\n",
       "      <td>111</td>\n",
       "      <td>43.0</td>\n",
       "      <td>17209</td>\n",
       "    </tr>\n",
       "    <tr>\n",
       "      <th>non-coding_RNA</th>\n",
       "      <td>8.0</td>\n",
       "      <td>9</td>\n",
       "      <td>27</td>\n",
       "      <td>12</td>\n",
       "      <td>32</td>\n",
       "      <td>7</td>\n",
       "      <td>2</td>\n",
       "      <td>1.0</td>\n",
       "      <td>491</td>\n",
       "    </tr>\n",
       "    <tr>\n",
       "      <th>no_transcription</th>\n",
       "      <td>100.0</td>\n",
       "      <td>28</td>\n",
       "      <td>201</td>\n",
       "      <td>291</td>\n",
       "      <td>396</td>\n",
       "      <td>89</td>\n",
       "      <td>10</td>\n",
       "      <td>4.0</td>\n",
       "      <td>11648</td>\n",
       "    </tr>\n",
       "  </tbody>\n",
       "</table>\n",
       "</div>"
      ],
      "text/plain": [
       "                          Chen2013_TSS  Kruesi2013_TSS  Saito2013_TSS  \\\n",
       "coding_promoter                 2763.0            2333           2969   \n",
       "pseudogene_promoter                0.0               7             27   \n",
       "unknown_promoter                  10.0              32             65   \n",
       "transcription_initiation         414.0             424            742   \n",
       "non-coding_RNA                     8.0               9             27   \n",
       "no_transcription                 100.0              28            201   \n",
       "\n",
       "                          Gu2012_TSS  Any1_TSS  Any2_TSS  Any3_TSS  All4_TSS  \\\n",
       "coding_promoter                 2761      1555      1259      1127     843.0   \n",
       "pseudogene_promoter               17        26         8         3       0.0   \n",
       "unknown_promoter                  17        85         9         7       0.0   \n",
       "transcription_initiation         591      1058       304       111      43.0   \n",
       "non-coding_RNA                    12        32         7         2       1.0   \n",
       "no_transcription                 291       396        89        10       4.0   \n",
       "\n",
       "                          No_previously_known_TSS  \n",
       "coding_promoter                              3263  \n",
       "pseudogene_promoter                           156  \n",
       "unknown_promoter                             2499  \n",
       "transcription_initiation                    17209  \n",
       "non-coding_RNA                                491  \n",
       "no_transcription                            11648  "
      ]
     },
     "execution_count": 5,
     "metadata": {},
     "output_type": "execute_result"
    }
   ],
   "source": [
    "df_fwd = pd.concat([\n",
    "    df_regl.loc[df_regl['tss_chen_fwd']]['annot_fwd'].value_counts(),\n",
    "    df_regl.loc[df_regl['tss_kruesi_fwd']]['annot_fwd'].value_counts(),\n",
    "    df_regl.loc[df_regl['tss_saito_fwd']]['annot_fwd'].value_counts(),\n",
    "    df_regl.loc[df_regl['tss_gu_fwd']]['annot_fwd'].value_counts(),\n",
    "    df_regl.query('tss_any_fwd == 1')['annot_fwd'].value_counts(),\n",
    "    df_regl.query('tss_any_fwd == 2')['annot_fwd'].value_counts(),\n",
    "    df_regl.query('tss_any_fwd == 3')['annot_fwd'].value_counts(),\n",
    "    df_regl.query('tss_any_fwd == 4')['annot_fwd'].value_counts(),\n",
    "    df_regl.query('tss_any_fwd == 0')['annot_fwd'].value_counts(),\n",
    "], axis=1).loc[config['annot_strand']].fillna(0)\n",
    "df_fwd.columns = (\n",
    "    'Chen2013_TSS',\n",
    "    'Kruesi2013_TSS',\n",
    "    'Saito2013_TSS',\n",
    "    'Gu2012_TSS',\n",
    "    'Any1_TSS', \n",
    "    'Any2_TSS',\n",
    "    'Any3_TSS',\n",
    "    'All4_TSS',\n",
    "    'No_previously_known_TSS',\n",
    ")\n",
    "df_fwd"
   ]
  },
  {
   "cell_type": "code",
   "execution_count": 6,
   "metadata": {
    "ExecuteTime": {
     "end_time": "2018-02-16T12:09:36.161782Z",
     "start_time": "2018-02-16T12:09:36.029028Z"
    }
   },
   "outputs": [
    {
     "data": {
      "text/html": [
       "<div>\n",
       "<style>\n",
       "    .dataframe thead tr:only-child th {\n",
       "        text-align: right;\n",
       "    }\n",
       "\n",
       "    .dataframe thead th {\n",
       "        text-align: left;\n",
       "    }\n",
       "\n",
       "    .dataframe tbody tr th {\n",
       "        vertical-align: top;\n",
       "    }\n",
       "</style>\n",
       "<table border=\"1\" class=\"dataframe\">\n",
       "  <thead>\n",
       "    <tr style=\"text-align: right;\">\n",
       "      <th></th>\n",
       "      <th>Chen2013_TSS</th>\n",
       "      <th>Kruesi2013_TSS</th>\n",
       "      <th>Saito2013_TSS</th>\n",
       "      <th>Gu2012_TSS</th>\n",
       "      <th>Any1_TSS</th>\n",
       "      <th>Any2_TSS</th>\n",
       "      <th>Any3_TSS</th>\n",
       "      <th>All4_TSS</th>\n",
       "      <th>No_previously_known_TSS</th>\n",
       "    </tr>\n",
       "  </thead>\n",
       "  <tbody>\n",
       "    <tr>\n",
       "      <th>coding_promoter</th>\n",
       "      <td>2733.0</td>\n",
       "      <td>2281</td>\n",
       "      <td>2861</td>\n",
       "      <td>2748</td>\n",
       "      <td>1514</td>\n",
       "      <td>1228</td>\n",
       "      <td>1091</td>\n",
       "      <td>845.0</td>\n",
       "      <td>3193</td>\n",
       "    </tr>\n",
       "    <tr>\n",
       "      <th>pseudogene_promoter</th>\n",
       "      <td>0.0</td>\n",
       "      <td>13</td>\n",
       "      <td>32</td>\n",
       "      <td>13</td>\n",
       "      <td>36</td>\n",
       "      <td>8</td>\n",
       "      <td>2</td>\n",
       "      <td>0.0</td>\n",
       "      <td>169</td>\n",
       "    </tr>\n",
       "    <tr>\n",
       "      <th>unknown_promoter</th>\n",
       "      <td>8.0</td>\n",
       "      <td>26</td>\n",
       "      <td>66</td>\n",
       "      <td>11</td>\n",
       "      <td>73</td>\n",
       "      <td>13</td>\n",
       "      <td>4</td>\n",
       "      <td>0.0</td>\n",
       "      <td>2374</td>\n",
       "    </tr>\n",
       "    <tr>\n",
       "      <th>transcription_initiation</th>\n",
       "      <td>407.0</td>\n",
       "      <td>445</td>\n",
       "      <td>717</td>\n",
       "      <td>601</td>\n",
       "      <td>998</td>\n",
       "      <td>308</td>\n",
       "      <td>104</td>\n",
       "      <td>61.0</td>\n",
       "      <td>17356</td>\n",
       "    </tr>\n",
       "    <tr>\n",
       "      <th>non-coding_RNA</th>\n",
       "      <td>4.0</td>\n",
       "      <td>7</td>\n",
       "      <td>27</td>\n",
       "      <td>16</td>\n",
       "      <td>34</td>\n",
       "      <td>3</td>\n",
       "      <td>2</td>\n",
       "      <td>2.0</td>\n",
       "      <td>488</td>\n",
       "    </tr>\n",
       "    <tr>\n",
       "      <th>no_transcription</th>\n",
       "      <td>113.0</td>\n",
       "      <td>29</td>\n",
       "      <td>209</td>\n",
       "      <td>294</td>\n",
       "      <td>411</td>\n",
       "      <td>92</td>\n",
       "      <td>14</td>\n",
       "      <td>2.0</td>\n",
       "      <td>11820</td>\n",
       "    </tr>\n",
       "  </tbody>\n",
       "</table>\n",
       "</div>"
      ],
      "text/plain": [
       "                          Chen2013_TSS  Kruesi2013_TSS  Saito2013_TSS  \\\n",
       "coding_promoter                 2733.0            2281           2861   \n",
       "pseudogene_promoter                0.0              13             32   \n",
       "unknown_promoter                   8.0              26             66   \n",
       "transcription_initiation         407.0             445            717   \n",
       "non-coding_RNA                     4.0               7             27   \n",
       "no_transcription                 113.0              29            209   \n",
       "\n",
       "                          Gu2012_TSS  Any1_TSS  Any2_TSS  Any3_TSS  All4_TSS  \\\n",
       "coding_promoter                 2748      1514      1228      1091     845.0   \n",
       "pseudogene_promoter               13        36         8         2       0.0   \n",
       "unknown_promoter                  11        73        13         4       0.0   \n",
       "transcription_initiation         601       998       308       104      61.0   \n",
       "non-coding_RNA                    16        34         3         2       2.0   \n",
       "no_transcription                 294       411        92        14       2.0   \n",
       "\n",
       "                          No_previously_known_TSS  \n",
       "coding_promoter                              3193  \n",
       "pseudogene_promoter                           169  \n",
       "unknown_promoter                             2374  \n",
       "transcription_initiation                    17356  \n",
       "non-coding_RNA                                488  \n",
       "no_transcription                            11820  "
      ]
     },
     "execution_count": 6,
     "metadata": {},
     "output_type": "execute_result"
    }
   ],
   "source": [
    "df_rev = pd.concat([\n",
    "    df_regl.loc[df_regl['tss_chen_rev']]['annot_rev'].value_counts(),\n",
    "    df_regl.loc[df_regl['tss_kruesi_rev']]['annot_rev'].value_counts(),\n",
    "    df_regl.loc[df_regl['tss_saito_rev']]['annot_rev'].value_counts(),\n",
    "    df_regl.loc[df_regl['tss_gu_rev']]['annot_rev'].value_counts(),\n",
    "    df_regl.query('tss_any_rev == 1')['annot_rev'].value_counts(),\n",
    "    df_regl.query('tss_any_rev == 2')['annot_rev'].value_counts(),\n",
    "    df_regl.query('tss_any_rev == 3')['annot_rev'].value_counts(),\n",
    "    df_regl.query('tss_any_rev == 4')['annot_rev'].value_counts(),\n",
    "    df_regl.query('tss_any_rev == 0')['annot_rev'].value_counts(),\n",
    "], axis=1).loc[config['annot_strand']].fillna(0)\n",
    "df_rev.columns = (\n",
    "    'Chen2013_TSS',\n",
    "    'Kruesi2013_TSS',\n",
    "    'Saito2013_TSS',\n",
    "    'Gu2012_TSS',\n",
    "    'Any1_TSS', \n",
    "    'Any2_TSS',\n",
    "    'Any3_TSS',\n",
    "    'All4_TSS',\n",
    "    'No_previously_known_TSS',\n",
    ")\n",
    "df_rev"
   ]
  },
  {
   "cell_type": "code",
   "execution_count": 7,
   "metadata": {
    "ExecuteTime": {
     "end_time": "2018-02-16T12:09:36.206164Z",
     "start_time": "2018-02-16T12:09:36.163456Z"
    }
   },
   "outputs": [
    {
     "data": {
      "text/html": [
       "<div>\n",
       "<style>\n",
       "    .dataframe thead tr:only-child th {\n",
       "        text-align: right;\n",
       "    }\n",
       "\n",
       "    .dataframe thead th {\n",
       "        text-align: left;\n",
       "    }\n",
       "\n",
       "    .dataframe tbody tr th {\n",
       "        vertical-align: top;\n",
       "    }\n",
       "</style>\n",
       "<table border=\"1\" class=\"dataframe\">\n",
       "  <thead>\n",
       "    <tr style=\"text-align: right;\">\n",
       "      <th></th>\n",
       "      <th>Chen2013_TSS</th>\n",
       "      <th>Kruesi2013_TSS</th>\n",
       "      <th>Saito2013_TSS</th>\n",
       "      <th>Gu2012_TSS</th>\n",
       "      <th>Any1_TSS</th>\n",
       "      <th>Any2_TSS</th>\n",
       "      <th>Any3_TSS</th>\n",
       "      <th>All4_TSS</th>\n",
       "      <th>No_previously_known_TSS</th>\n",
       "    </tr>\n",
       "  </thead>\n",
       "  <tbody>\n",
       "    <tr>\n",
       "      <th>coding_promoter</th>\n",
       "      <td>5496.0</td>\n",
       "      <td>4614</td>\n",
       "      <td>5830</td>\n",
       "      <td>5509</td>\n",
       "      <td>3069</td>\n",
       "      <td>2487</td>\n",
       "      <td>2218</td>\n",
       "      <td>1688.0</td>\n",
       "      <td>6456</td>\n",
       "    </tr>\n",
       "    <tr>\n",
       "      <th>pseudogene_promoter</th>\n",
       "      <td>0.0</td>\n",
       "      <td>20</td>\n",
       "      <td>59</td>\n",
       "      <td>30</td>\n",
       "      <td>62</td>\n",
       "      <td>16</td>\n",
       "      <td>5</td>\n",
       "      <td>0.0</td>\n",
       "      <td>325</td>\n",
       "    </tr>\n",
       "    <tr>\n",
       "      <th>unknown_promoter</th>\n",
       "      <td>18.0</td>\n",
       "      <td>58</td>\n",
       "      <td>131</td>\n",
       "      <td>28</td>\n",
       "      <td>158</td>\n",
       "      <td>22</td>\n",
       "      <td>11</td>\n",
       "      <td>0.0</td>\n",
       "      <td>4873</td>\n",
       "    </tr>\n",
       "    <tr>\n",
       "      <th>transcription_initiation</th>\n",
       "      <td>821.0</td>\n",
       "      <td>869</td>\n",
       "      <td>1459</td>\n",
       "      <td>1192</td>\n",
       "      <td>2056</td>\n",
       "      <td>612</td>\n",
       "      <td>215</td>\n",
       "      <td>104.0</td>\n",
       "      <td>34565</td>\n",
       "    </tr>\n",
       "    <tr>\n",
       "      <th>non-coding_RNA</th>\n",
       "      <td>12.0</td>\n",
       "      <td>16</td>\n",
       "      <td>54</td>\n",
       "      <td>28</td>\n",
       "      <td>66</td>\n",
       "      <td>10</td>\n",
       "      <td>4</td>\n",
       "      <td>3.0</td>\n",
       "      <td>979</td>\n",
       "    </tr>\n",
       "    <tr>\n",
       "      <th>no_transcription</th>\n",
       "      <td>213.0</td>\n",
       "      <td>57</td>\n",
       "      <td>410</td>\n",
       "      <td>585</td>\n",
       "      <td>807</td>\n",
       "      <td>181</td>\n",
       "      <td>24</td>\n",
       "      <td>6.0</td>\n",
       "      <td>23468</td>\n",
       "    </tr>\n",
       "  </tbody>\n",
       "</table>\n",
       "</div>"
      ],
      "text/plain": [
       "                          Chen2013_TSS  Kruesi2013_TSS  Saito2013_TSS  \\\n",
       "coding_promoter                 5496.0            4614           5830   \n",
       "pseudogene_promoter                0.0              20             59   \n",
       "unknown_promoter                  18.0              58            131   \n",
       "transcription_initiation         821.0             869           1459   \n",
       "non-coding_RNA                    12.0              16             54   \n",
       "no_transcription                 213.0              57            410   \n",
       "\n",
       "                          Gu2012_TSS  Any1_TSS  Any2_TSS  Any3_TSS  All4_TSS  \\\n",
       "coding_promoter                 5509      3069      2487      2218    1688.0   \n",
       "pseudogene_promoter               30        62        16         5       0.0   \n",
       "unknown_promoter                  28       158        22        11       0.0   \n",
       "transcription_initiation        1192      2056       612       215     104.0   \n",
       "non-coding_RNA                    28        66        10         4       3.0   \n",
       "no_transcription                 585       807       181        24       6.0   \n",
       "\n",
       "                          No_previously_known_TSS  \n",
       "coding_promoter                              6456  \n",
       "pseudogene_promoter                           325  \n",
       "unknown_promoter                             4873  \n",
       "transcription_initiation                    34565  \n",
       "non-coding_RNA                                979  \n",
       "no_transcription                            23468  "
      ]
     },
     "execution_count": 7,
     "metadata": {},
     "output_type": "execute_result"
    }
   ],
   "source": [
    "df_fwd + df_rev"
   ]
  },
  {
   "cell_type": "code",
   "execution_count": 16,
   "metadata": {
    "ExecuteTime": {
     "end_time": "2018-02-16T13:45:26.792860Z",
     "start_time": "2018-02-16T13:45:26.129969Z"
    }
   },
   "outputs": [
    {
     "name": "stdout",
     "output_type": "stream",
     "text": [
      "3263 annot/FigC_TSS/TSS_not_previously_known_fwd.bed\n",
      "3193 annot/FigC_TSS/TSS_not_previously_known_rev.bed\n"
     ]
    }
   ],
   "source": [
    "df_regl.query('(annot_fwd == \"coding_promoter\") & (tss_any_fwd == 0)')[yp.NAMES_BED3]\\\n",
    "    .to_csv('annot/FigC_TSS/TSS_not_previously_known_fwd.bed', sep='\\t', index=False, header=False)\n",
    "\n",
    "df_regl.query('(annot_rev == \"coding_promoter\") & (tss_any_rev == 0)')[yp.NAMES_BED3]\\\n",
    "    .to_csv('annot/FigC_TSS/TSS_not_previously_known_rev.bed', sep='\\t', index=False, header=False)\n",
    "\n",
    "!wc -l annot/FigC_TSS/TSS_not_previously_known_fwd.bed\n",
    "!wc -l annot/FigC_TSS/TSS_not_previously_known_rev.bed"
   ]
  },
  {
   "cell_type": "code",
   "execution_count": 8,
   "metadata": {
    "ExecuteTime": {
     "end_time": "2018-02-16T12:09:36.255744Z",
     "start_time": "2018-02-16T12:09:36.209206Z"
    }
   },
   "outputs": [],
   "source": [
    "#df_regl.query('(annot_fwd == \"no_transcription\") & (tss_chen_fwd != 0)')\n",
    "#df_regl.query('(annot_fwd == \"coding_promoter\") & (tss_any_fwd == 0)')"
   ]
  },
  {
   "cell_type": "code",
   "execution_count": 9,
   "metadata": {
    "ExecuteTime": {
     "end_time": "2018-02-16T12:09:44.291199Z",
     "start_time": "2018-02-16T12:09:36.258790Z"
    }
   },
   "outputs": [],
   "source": [
    "def itemRgb_(flag):\n",
    "    if flag:\n",
    "        return RED\n",
    "    else:\n",
    "        return BLUE\n",
    "\n",
    "strand = 'fwd'\n",
    "write_gffbed(\n",
    "    fp = 'annot/FigC_TSS/TSS_Chen_%(strand)s.bed' % locals(),\n",
    "    chrom = df_regl['chrom'],\n",
    "    start = df_regl['start'],\n",
    "    end = df_regl['end'],\n",
    "    attr = df_chen_fwd[['chen2013_fwd_distance', 'chen2013_fwd_name']],\n",
    "    strand = '+',\n",
    "    itemRgb = df_regl['tss_chen_fwd'].map(itemRgb_),\n",
    ")\n",
    "\n",
    "strand = 'rev'\n",
    "write_gffbed(\n",
    "    fp = 'annot/FigC_TSS/TSS_Chen_%(strand)s.bed' % locals(),\n",
    "    chrom = df_regl['chrom'],\n",
    "    start = df_regl['start'],\n",
    "    end = df_regl['end'],\n",
    "    attr = df_chen_rev[['chen2013_rev_distance', 'chen2013_rev_name']],\n",
    "    strand = '-',\n",
    "    itemRgb = df_regl['tss_chen_rev'].map(itemRgb_),\n",
    ")"
   ]
  }
 ],
 "metadata": {
  "kernelspec": {
   "display_name": "Python 3",
   "language": "python",
   "name": "python3"
  },
  "language_info": {
   "codemirror_mode": {
    "name": "ipython",
    "version": 3
   },
   "file_extension": ".py",
   "mimetype": "text/x-python",
   "name": "python",
   "nbconvert_exporter": "python",
   "pygments_lexer": "ipython3",
   "version": "3.6.2"
  }
 },
 "nbformat": 4,
 "nbformat_minor": 2
}
