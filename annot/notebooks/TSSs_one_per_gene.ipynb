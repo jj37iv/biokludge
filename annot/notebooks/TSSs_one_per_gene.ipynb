{
 "cells": [
  {
   "cell_type": "code",
   "execution_count": 1,
   "metadata": {
    "ExecuteTime": {
     "end_time": "2018-10-26T14:48:39.045359Z",
     "start_time": "2018-10-26T14:48:33.523461Z"
    }
   },
   "outputs": [
    {
     "name": "stderr",
     "output_type": "stream",
     "text": [
      "/mnt/home3/jj374/anaconda36/lib/python3.6/site-packages/statsmodels/compat/pandas.py:56: FutureWarning: The pandas.core.datetools module is deprecated and will be removed in a future version. Please use the pandas.tseries module instead.\n",
      "  from pandas.core import datetools\n"
     ]
    },
    {
     "name": "stdout",
     "output_type": "stream",
     "text": [
      "os.getcwd(): /mnt/beegfs/scratch_copy/ahringer/jj374/lab/relmapping\n"
     ]
    }
   ],
   "source": [
    "%run ~/relmapping/annot/notebooks/annot__init__.ipynb"
   ]
  },
  {
   "cell_type": "code",
   "execution_count": 2,
   "metadata": {
    "ExecuteTime": {
     "end_time": "2018-10-26T14:48:39.639845Z",
     "start_time": "2018-10-26T14:48:39.047695Z"
    }
   },
   "outputs": [
    {
     "name": "stdout",
     "output_type": "stream",
     "text": [
      "20210\n"
     ]
    }
   ],
   "source": [
    "fp_ = 'WS260_ce10/WS260_ce10.genes.protein_coding.gtf.gz'\n",
    "df_genes = yp.read_wbgtf(fp_, parse_attr=True, coords_adj=True)\n",
    "print(len(df_genes))"
   ]
  },
  {
   "cell_type": "code",
   "execution_count": 3,
   "metadata": {
    "ExecuteTime": {
     "end_time": "2018-10-26T14:48:39.711281Z",
     "start_time": "2018-10-26T14:48:39.641942Z"
    }
   },
   "outputs": [],
   "source": [
    "# df_genes['tss_wormbase'] <- 5' end of the annotation in WS260_ce10\n",
    "def tss_wormbase_(start, end, strand):\n",
    "    if strand != '-':\n",
    "        return start\n",
    "    else:\n",
    "        return end - 1\n",
    "\n",
    "df_genes['tss_wormbase'] = [*map(tss_wormbase_, df_genes['start'], df_genes['end'], df_genes['strand'])]"
   ]
  },
  {
   "cell_type": "code",
   "execution_count": 4,
   "metadata": {
    "ExecuteTime": {
     "end_time": "2018-10-26T14:48:48.330869Z",
     "start_time": "2018-10-26T14:48:39.714951Z"
    }
   },
   "outputs": [],
   "source": [
    "# df_jaenes2018_fwd, df_jaenes2018_rev <- representative promoters by short cap counts at the mode\n",
    "fp_ = 'annot_eLife_revised/Figure 2-source data 1. Regulatory annotation.txt'\n",
    "df_regl = pd.read_csv(fp_, sep='\\t')\n",
    "\n",
    "df_scap_fwd = pd.read_csv('annot_eLife_full/metrics_scap/scap_fwd.tsv', sep='\\t')\n",
    "df_scap_rev = pd.read_csv('annot_eLife_full/metrics_scap/scap_rev.tsv', sep='\\t')\n",
    "\n",
    "df_regl['tss_count_fwd_ce10'] = df_scap_fwd['scap_mode_count']\n",
    "df_regl['tss_count_rev_ce10'] = df_scap_rev['scap_mode_count']\n",
    "\n",
    "def fwd_(df_):\n",
    "    return df_.sort_values(['tss_count_fwd_ce10'], ascending=False).iloc[0]\n",
    "\n",
    "def rev_(df_):\n",
    "    return df_.sort_values(['tss_count_rev_ce10'], ascending=False).iloc[0]\n",
    "\n",
    "df_jaenes2018_fwd = df_regl.query('annot_fwd == \"coding_promoter\"').groupby(['promoter_gene_id_fwd']).apply(fwd_)\n",
    "df_jaenes2018_rev = df_regl.query('annot_rev == \"coding_promoter\"').groupby(['promoter_gene_id_rev']).apply(rev_)\n",
    "\n",
    "write_gffbed('TSSs_one_per_gene/df_jaenes2018_fwd.bed',\n",
    "    chrom = df_jaenes2018_fwd['chrom_ce10'],\n",
    "    start = df_jaenes2018_fwd['start_ce10'],\n",
    "    end = df_jaenes2018_fwd['end_ce10'],\n",
    ")\n",
    "\n",
    "write_gffbed('TSSs_one_per_gene/df_jaenes2018_rev.bed',\n",
    "    chrom = df_jaenes2018_rev['chrom_ce10'],\n",
    "    start = df_jaenes2018_rev['start_ce10'],\n",
    "    end = df_jaenes2018_rev['end_ce10'],\n",
    ")"
   ]
  },
  {
   "cell_type": "code",
   "execution_count": 5,
   "metadata": {
    "ExecuteTime": {
     "end_time": "2018-10-26T14:48:48.442097Z",
     "start_time": "2018-10-26T14:48:48.335306Z"
    }
   },
   "outputs": [],
   "source": [
    "df_fwd_ = df_jaenes2018_fwd[['tss_fwd_ce10', 'tss_count_fwd_ce10']].copy()\n",
    "df_rev_ = df_jaenes2018_rev[['tss_rev_ce10', 'tss_count_rev_ce10']].copy()\n",
    "\n",
    "df_fwd_.index.name = 'gene_id'\n",
    "df_rev_.index.name = 'gene_id'\n",
    "\n",
    "df_fwd_.columns = ['tss_jaenes2018', 'tss_jaenes2018_count']\n",
    "df_rev_.columns = ['tss_jaenes2018', 'tss_jaenes2018_count']\n",
    "\n",
    "df_ = pd.concat([df_fwd_, df_rev_], axis=0)\n",
    "df_tss = df_genes.merge(df_, how='left', left_on='gene_id', right_index=True)"
   ]
  },
  {
   "cell_type": "code",
   "execution_count": 16,
   "metadata": {
    "ExecuteTime": {
     "end_time": "2018-10-26T14:58:22.989344Z",
     "start_time": "2018-10-26T14:58:22.500922Z"
    }
   },
   "outputs": [],
   "source": [
    "def tss_(tss_wormbase, tss_jaenes2018, tss_jaenes2018_count):\n",
    "    if tss_jaenes2018 == tss_jaenes2018:\n",
    "        return tss_jaenes2018\n",
    "    else:\n",
    "        return tss_wormbase\n",
    "    \n",
    "def col_(tss_wormbase, tss_jaenes2018, tss_jaenes2018_count):\n",
    "    if tss_jaenes2018 == tss_jaenes2018:\n",
    "        return yp.RED if tss_jaenes2018_count >= 2 else yp.YELLOW\n",
    "    else:\n",
    "        return yp.BLUE\n",
    "\n",
    "df_tss['tss'] = [*map(tss_, df_tss['tss_wormbase'], df_tss['tss_jaenes2018'], df_tss['tss_jaenes2018_count'])]\n",
    "df_tss['col'] = [*map(col_, df_tss['tss_wormbase'], df_tss['tss_jaenes2018'], df_tss['tss_jaenes2018_count'])]"
   ]
  },
  {
   "cell_type": "code",
   "execution_count": 19,
   "metadata": {
    "ExecuteTime": {
     "end_time": "2018-10-26T14:59:46.498614Z",
     "start_time": "2018-10-26T14:59:43.981024Z"
    }
   },
   "outputs": [],
   "source": [
    "df_tss['feature_start'] = [*map(min, df_tss['start'], df_tss['tss'])]\n",
    "df_tss['feature_end'] = [*map(max, df_tss['tss'] + 1, df_tss['end'])]\n",
    "\n",
    "write_gffbed('TSSs_one_per_gene/TSSs_one_per_gene.bed',\n",
    "    chrom = df_tss['chrom'],\n",
    "    start = df_tss['feature_start'].map(int),\n",
    "    end = df_tss['feature_end'].map(int),\n",
    "    name = df_tss['gene_id'],\n",
    "    strand = df_tss['strand'],\n",
    "    itemRgb = df_tss['col'],\n",
    "    attr = df_tss[['tss_jaenes2018', 'tss_jaenes2018_count', 'tss_wormbase']]\n",
    ")"
   ]
  },
  {
   "cell_type": "code",
   "execution_count": null,
   "metadata": {
    "collapsed": true
   },
   "outputs": [],
   "source": []
  }
 ],
 "metadata": {
  "kernelspec": {
   "display_name": "Python 3",
   "language": "python",
   "name": "python3"
  },
  "language_info": {
   "codemirror_mode": {
    "name": "ipython",
    "version": 3
   },
   "file_extension": ".py",
   "mimetype": "text/x-python",
   "name": "python",
   "nbconvert_exporter": "python",
   "pygments_lexer": "ipython3",
   "version": "3.6.2"
  }
 },
 "nbformat": 4,
 "nbformat_minor": 2
}
