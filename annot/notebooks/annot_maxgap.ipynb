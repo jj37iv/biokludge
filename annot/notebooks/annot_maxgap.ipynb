{
 "cells": [
  {
   "cell_type": "code",
   "execution_count": 1,
   "metadata": {
    "ExecuteTime": {
     "end_time": "2018-06-05T12:18:20.286826Z",
     "start_time": "2018-06-05T12:18:12.643168Z"
    },
    "code_folding": [
     0
    ]
   },
   "outputs": [
    {
     "name": "stderr",
     "output_type": "stream",
     "text": [
      "/mnt/home3/jj374/anaconda36/lib/python3.6/site-packages/statsmodels/compat/pandas.py:56: FutureWarning: The pandas.core.datetools module is deprecated and will be removed in a future version. Please use the pandas.tseries module instead.\n",
      "  from pandas.core import datetools\n"
     ]
    },
    {
     "name": "stdout",
     "output_type": "stream",
     "text": [
      "os.getcwd(): /mnt/beegfs/scratch_copy/ahringer/jj374/lab/relmapping\n",
      "annotation target: annot_mapq0_ce10\n"
     ]
    },
    {
     "name": "stderr",
     "output_type": "stream",
     "text": [
      "/mnt/home3/jj374/anaconda36/lib/python3.6/site-packages/IPython/core/interactiveshell.py:2698: DtypeWarning: Columns (3,5,6,7,9,10,11,12,13,14,19,44,46,47,48,50,51,52,54,55,56,64,66,67,68,70,71,72,74,75,76) have mixed types. Specify dtype option on import or set low_memory=False.\n",
      "  interactivity=interactivity, compiler=compiler, result=result)\n"
     ]
    }
   ],
   "source": [
    "# Init & specify annotation target\n",
    "%run ~/relmapping/annot/notebooks/annot__init__.ipynb\n",
    "\n",
    "#annot_ = 'annot_ce10'\n",
    "annot_ = 'annot_mapq0_ce10'\n",
    "print('annotation target: %s' % (annot_,))\n",
    "\n",
    "def mp(fp, annot_=annot_): return os.path.join(annot_, 'metrics_maxgap', fp)\n",
    "\n",
    "if annot_ == 'annot_ce10':\n",
    "    fp_atac = os.path.join(annot_, 'accessible_sites.tsv')\n",
    "    df_atac = pd.read_csv(fp_atac, sep='\\t')\n",
    "    l_atac_peak_pos = df_atac[['start', 'end']].mean(axis=1).map(int)\n",
    "    df_exon_fwd = pd.read_csv(os.path.join(annot_, 'metrics_exon', 'closest_exon_fwd.tsv'), sep='\\t')\n",
    "    df_exon_rev = pd.read_csv(os.path.join(annot_, 'metrics_exon', 'closest_exon_rev.tsv'), sep='\\t')    \n",
    "    step_fwd = 'trim20.bwa_pe.rm_unmapped_pe.rm_chrM.rm_rRNA_broad.rm_blacklist.rm_q10.filled_fwd.mean_by_stage'\n",
    "    step_rev = 'trim20.bwa_pe.rm_unmapped_pe.rm_chrM.rm_rRNA_broad.rm_blacklist.rm_q10.filled_rev.mean_by_stage'\n",
    "\n",
    "elif annot_ == 'annot_mapq0_ce10':\n",
    "    fp_atac = os.path.join('annot_ce10', 'accessible_sites.tsv')\n",
    "    df_atac = pd.read_csv(fp_atac, sep='\\t')\n",
    "    l_atac_peak_pos = df_atac[['start', 'end']].mean(axis=1).map(int)\n",
    "    # Bootsrap from annot_ce10\n",
    "    df_exon_fwd = pd.read_csv(os.path.join('annot_ce10', 'metrics_exon', 'closest_exon_fwd.tsv'), sep='\\t')\n",
    "    df_exon_rev = pd.read_csv(os.path.join('annot_ce10', 'metrics_exon', 'closest_exon_rev.tsv'), sep='\\t')    \n",
    "    step_fwd = 'trim20.bwa_pe.rm_unmapped_pe.rm_chrM.rm_rRNA_broad.rm_blacklist.filled_fwd.mean_by_stage'\n",
    "    step_rev = 'trim20.bwa_pe.rm_unmapped_pe.rm_chrM.rm_rRNA_broad.rm_blacklist.filled_rev.mean_by_stage'\n",
    "\n",
    "else:\n",
    "    assert False"
   ]
  },
  {
   "cell_type": "code",
   "execution_count": 2,
   "metadata": {
    "ExecuteTime": {
     "end_time": "2018-06-05T12:18:20.378580Z",
     "start_time": "2018-06-05T12:18:20.290601Z"
    }
   },
   "outputs": [
    {
     "data": {
      "text/html": [
       "<div>\n",
       "<style>\n",
       "    .dataframe thead tr:only-child th {\n",
       "        text-align: right;\n",
       "    }\n",
       "\n",
       "    .dataframe thead th {\n",
       "        text-align: left;\n",
       "    }\n",
       "\n",
       "    .dataframe tbody tr th {\n",
       "        vertical-align: top;\n",
       "    }\n",
       "</style>\n",
       "<table border=\"1\" class=\"dataframe\">\n",
       "  <thead>\n",
       "    <tr style=\"text-align: right;\">\n",
       "      <th></th>\n",
       "      <th>chrom</th>\n",
       "      <th>start</th>\n",
       "      <th>end</th>\n",
       "      <th>atac_wt_emb_height</th>\n",
       "      <th>atac_wt_l1_height</th>\n",
       "      <th>atac_wt_l2_height</th>\n",
       "      <th>atac_wt_l3_height</th>\n",
       "      <th>atac_wt_l4_height</th>\n",
       "      <th>atac_wt_ya_height</th>\n",
       "      <th>atac_glp1_d1_height</th>\n",
       "      <th>atac_glp1_d2_height</th>\n",
       "      <th>atac_glp1_d6_height</th>\n",
       "      <th>atac_glp1_d9_height</th>\n",
       "      <th>atac_glp1_d13_height</th>\n",
       "      <th>atac_source</th>\n",
       "    </tr>\n",
       "  </thead>\n",
       "  <tbody>\n",
       "    <tr>\n",
       "      <th>0</th>\n",
       "      <td>chrI</td>\n",
       "      <td>1900</td>\n",
       "      <td>2051</td>\n",
       "      <td>1.49</td>\n",
       "      <td>1.44</td>\n",
       "      <td>1.23</td>\n",
       "      <td>1.48</td>\n",
       "      <td>1.18</td>\n",
       "      <td>3.03</td>\n",
       "      <td>0.98</td>\n",
       "      <td>0.91</td>\n",
       "      <td>1.16</td>\n",
       "      <td>1.19</td>\n",
       "      <td>1.63</td>\n",
       "      <td>atac_wt_se</td>\n",
       "    </tr>\n",
       "    <tr>\n",
       "      <th>1</th>\n",
       "      <td>chrI</td>\n",
       "      <td>3826</td>\n",
       "      <td>3977</td>\n",
       "      <td>67.20</td>\n",
       "      <td>58.45</td>\n",
       "      <td>74.42</td>\n",
       "      <td>133.74</td>\n",
       "      <td>179.79</td>\n",
       "      <td>211.37</td>\n",
       "      <td>88.03</td>\n",
       "      <td>69.67</td>\n",
       "      <td>68.51</td>\n",
       "      <td>64.59</td>\n",
       "      <td>55.76</td>\n",
       "      <td>atac_wt_pe</td>\n",
       "    </tr>\n",
       "    <tr>\n",
       "      <th>2</th>\n",
       "      <td>chrI</td>\n",
       "      <td>4276</td>\n",
       "      <td>4427</td>\n",
       "      <td>1.58</td>\n",
       "      <td>2.66</td>\n",
       "      <td>2.19</td>\n",
       "      <td>3.50</td>\n",
       "      <td>5.87</td>\n",
       "      <td>7.77</td>\n",
       "      <td>1.80</td>\n",
       "      <td>1.33</td>\n",
       "      <td>1.55</td>\n",
       "      <td>2.07</td>\n",
       "      <td>1.81</td>\n",
       "      <td>atac_wt_se</td>\n",
       "    </tr>\n",
       "    <tr>\n",
       "      <th>3</th>\n",
       "      <td>chrI</td>\n",
       "      <td>11272</td>\n",
       "      <td>11423</td>\n",
       "      <td>2.61</td>\n",
       "      <td>4.44</td>\n",
       "      <td>9.83</td>\n",
       "      <td>10.70</td>\n",
       "      <td>11.68</td>\n",
       "      <td>13.93</td>\n",
       "      <td>20.86</td>\n",
       "      <td>16.74</td>\n",
       "      <td>17.59</td>\n",
       "      <td>15.86</td>\n",
       "      <td>17.17</td>\n",
       "      <td>atac_wt_pe</td>\n",
       "    </tr>\n",
       "    <tr>\n",
       "      <th>4</th>\n",
       "      <td>chrI</td>\n",
       "      <td>13070</td>\n",
       "      <td>13221</td>\n",
       "      <td>5.56</td>\n",
       "      <td>3.61</td>\n",
       "      <td>3.98</td>\n",
       "      <td>3.40</td>\n",
       "      <td>2.69</td>\n",
       "      <td>2.95</td>\n",
       "      <td>2.05</td>\n",
       "      <td>2.08</td>\n",
       "      <td>1.99</td>\n",
       "      <td>2.59</td>\n",
       "      <td>3.20</td>\n",
       "      <td>atac_wt_pe</td>\n",
       "    </tr>\n",
       "  </tbody>\n",
       "</table>\n",
       "</div>"
      ],
      "text/plain": [
       "  chrom  start    end  atac_wt_emb_height  atac_wt_l1_height  \\\n",
       "0  chrI   1900   2051                1.49               1.44   \n",
       "1  chrI   3826   3977               67.20              58.45   \n",
       "2  chrI   4276   4427                1.58               2.66   \n",
       "3  chrI  11272  11423                2.61               4.44   \n",
       "4  chrI  13070  13221                5.56               3.61   \n",
       "\n",
       "   atac_wt_l2_height  atac_wt_l3_height  atac_wt_l4_height  atac_wt_ya_height  \\\n",
       "0               1.23               1.48               1.18               3.03   \n",
       "1              74.42             133.74             179.79             211.37   \n",
       "2               2.19               3.50               5.87               7.77   \n",
       "3               9.83              10.70              11.68              13.93   \n",
       "4               3.98               3.40               2.69               2.95   \n",
       "\n",
       "   atac_glp1_d1_height  atac_glp1_d2_height  atac_glp1_d6_height  \\\n",
       "0                 0.98                 0.91                 1.16   \n",
       "1                88.03                69.67                68.51   \n",
       "2                 1.80                 1.33                 1.55   \n",
       "3                20.86                16.74                17.59   \n",
       "4                 2.05                 2.08                 1.99   \n",
       "\n",
       "   atac_glp1_d9_height  atac_glp1_d13_height atac_source  \n",
       "0                 1.19                  1.63  atac_wt_se  \n",
       "1                64.59                 55.76  atac_wt_pe  \n",
       "2                 2.07                  1.81  atac_wt_se  \n",
       "3                15.86                 17.17  atac_wt_pe  \n",
       "4                 2.59                  3.20  atac_wt_pe  "
      ]
     },
     "execution_count": 2,
     "metadata": {},
     "output_type": "execute_result"
    }
   ],
   "source": [
    "# Load long cap jump & exon data\n",
    "df_atac.head()"
   ]
  },
  {
   "cell_type": "code",
   "execution_count": 3,
   "metadata": {
    "ExecuteTime": {
     "end_time": "2018-06-05T12:18:20.432826Z",
     "start_time": "2018-06-05T12:18:20.381534Z"
    }
   },
   "outputs": [
    {
     "name": "stdout",
     "output_type": "stream",
     "text": [
      "42245 42245 fwd/rev closest exon records\n"
     ]
    }
   ],
   "source": [
    "print(len(df_exon_fwd), len(df_exon_fwd), 'fwd/rev closest exon records')"
   ]
  },
  {
   "cell_type": "code",
   "execution_count": 4,
   "metadata": {
    "ExecuteTime": {
     "end_time": "2018-06-05T12:20:57.494594Z",
     "start_time": "2018-06-05T12:18:20.435510Z"
    },
    "code_folding": []
   },
   "outputs": [
    {
     "name": "stderr",
     "output_type": "stream",
     "text": [
      "[Parallel(n_jobs=15)]: Done  11 out of  11 | elapsed:  1.3min finished\n",
      "[Parallel(n_jobs=15)]: Done  11 out of  11 | elapsed:  1.3min finished\n"
     ]
    }
   ],
   "source": [
    "# maximum gap between hypersensitive site and downstream first exons\n",
    "def maxgap(a): return max(len(list(g)) if (k == 0) or (k != k) else 0 for k,g in itertools.groupby(a))\n",
    "\n",
    "def nanmaxgap(a): return maxgap([e if e == e else 0 for e in a])\n",
    "\n",
    "def maxgap_fwd_(fp_inp, chroms, atac_modes, exon1_starts, flank_len=250):\n",
    "    l = []\n",
    "    fh = pyBigWig.open(fp_inp)\n",
    "    for (chrom, atac_mode, exon1_start) in itertools.islice(zip(chroms, atac_modes, exon1_starts), None):\n",
    "        # Interval between atac-mode (+flank), and 5'-end of closest downstream exonl clipped by chromosome ends\n",
    "        start_ = max(atac_mode + flank_len, 0)\n",
    "        end_ = min(exon1_start + 1, fh.chroms(chrom))\n",
    "        if start_ < end_:\n",
    "            l.append(nanmaxgap(np.array(fh.values(chrom, int(start_), int(end_)))))\n",
    "        else:\n",
    "            l.append(-1)\n",
    "    fh.close()\n",
    "    return l\n",
    "\n",
    "def maxgap_rev_(fp_inp, chroms, atac_modes, exon1_ends, flank_len=250):\n",
    "    l = []\n",
    "    fh = pyBigWig.open(fp_inp)\n",
    "    for (chrom, atac_mode, exon1_end) in itertools.islice(zip(chroms, atac_modes, exon1_ends), None):\n",
    "        # Interval between atac-mode (+flank), and 5'-end of closest downstream exonl clipped by chromosome ends\n",
    "        start_ = max(exon1_end - 1, 0)\n",
    "        end_ = min(atac_mode - flank_len + 1, fh.chroms(chrom))\n",
    "        if start_ < end_:\n",
    "            l.append(nanmaxgap(np.array(fh.values(chrom, int(start_), int(end_)))))\n",
    "        else:\n",
    "            l.append(-1)\n",
    "    fh.close()\n",
    "    return l\n",
    "\n",
    "def maxgap_fwd(stage, step=step_fwd):\n",
    "    fp_fwd = pf('lcap808_%s' % (stage,), step, '.bw', 'lcap808')\n",
    "    l_maxgap = maxgap_fwd_(fp_fwd, df_atac['chrom'], l_atac_peak_pos, df_exon_fwd['pass1_exon1_start'])\n",
    "    return pd.DataFrame({'maxgap_%s_fwd' % (stage,): l_maxgap})\n",
    "\n",
    "def maxgap_rev(stage, step=step_rev):\n",
    "    fp_rev = pf('lcap808_%s' % (stage,), step, '.bw', 'lcap808')\n",
    "    l_maxgap = maxgap_rev_(fp_rev, df_atac['chrom'], l_atac_peak_pos, df_exon_rev['pass1_exon1_end'])\n",
    "    return pd.DataFrame({'maxgap_%s_rev' % (stage,): l_maxgap})\n",
    "\n",
    "df_maxgap_fwd = pd.concat(pmap(maxgap_fwd, config['stages'], n_jobs=15), axis=1)\n",
    "df_maxgap_rev = pd.concat(pmap(maxgap_rev, config['stages'], n_jobs=15), axis=1)"
   ]
  },
  {
   "cell_type": "code",
   "execution_count": 6,
   "metadata": {
    "ExecuteTime": {
     "end_time": "2018-06-05T12:21:31.513889Z",
     "start_time": "2018-06-05T12:21:30.230473Z"
    },
    "code_folding": []
   },
   "outputs": [],
   "source": [
    "# metrics_maxgap/ write .tsv-files of full maxgap assignments\n",
    "df_maxgap_fwd.to_csv(mp('maxgap_fwd.tsv'), header=True, index=False, sep='\\t')\n",
    "df_maxgap_rev.to_csv(mp('maxgap_rev.tsv'), header=True, index=False, sep='\\t')"
   ]
  },
  {
   "cell_type": "code",
   "execution_count": 7,
   "metadata": {
    "ExecuteTime": {
     "end_time": "2018-06-05T12:21:40.881890Z",
     "start_time": "2018-06-05T12:21:31.518775Z"
    }
   },
   "outputs": [
    {
     "name": "stdout",
     "output_type": "stream",
     "text": [
      "42246 annot_mapq0_ce10/metrics_maxgap/maxgap_fwd.bed\n",
      "42246 annot_mapq0_ce10/metrics_maxgap/maxgap_rev.bed\n"
     ]
    }
   ],
   "source": [
    "# Visualise maxgap tests as .bed-files\n",
    "def itemRgb_(maxgap_):\n",
    "    if maxgap_ == 0:\n",
    "        return yp.RED\n",
    "    else:\n",
    "        return yp.BLUE\n",
    "\n",
    "write_gffbed(mp('maxgap_fwd.bed'),\n",
    "    chrom = df_atac['chrom'],\n",
    "    start = df_atac['start'],\n",
    "    end = df_atac['end'],\n",
    "    name = df_maxgap_fwd.min(axis=1),\n",
    "    strand = '+',\n",
    "    attr = df_maxgap_fwd,\n",
    "    itemRgb = map(itemRgb_, df_maxgap_fwd.min(axis=1)),\n",
    ")\n",
    "\n",
    "write_gffbed(mp('maxgap_rev.bed'),\n",
    "    chrom = df_atac['chrom'],\n",
    "    start = df_atac['start'],\n",
    "    end = df_atac['end'],\n",
    "    name = df_maxgap_rev.min(axis=1),\n",
    "    strand = '-',\n",
    "    attr = df_maxgap_rev,\n",
    "    itemRgb = map(itemRgb_, df_maxgap_rev.min(axis=1)),\n",
    ")\n",
    "\n",
    "!wc -l {mp('maxgap_fwd.bed')}\n",
    "!wc -l {mp('maxgap_rev.bed')}"
   ]
  }
 ],
 "metadata": {
  "kernelspec": {
   "display_name": "Python 3",
   "language": "python",
   "name": "python3"
  },
  "language_info": {
   "codemirror_mode": {
    "name": "ipython",
    "version": 3
   },
   "file_extension": ".py",
   "mimetype": "text/x-python",
   "name": "python",
   "nbconvert_exporter": "python",
   "pygments_lexer": "ipython3",
   "version": "3.6.2"
  }
 },
 "nbformat": 4,
 "nbformat_minor": 2
}
