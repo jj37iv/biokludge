{
 "cells": [
  {
   "cell_type": "code",
   "execution_count": 1,
   "metadata": {
    "ExecuteTime": {
     "end_time": "2018-06-14T15:08:06.858179Z",
     "start_time": "2018-06-14T15:07:59.177418Z"
    },
    "code_folding": [
     0
    ]
   },
   "outputs": [
    {
     "name": "stderr",
     "output_type": "stream",
     "text": [
      "/mnt/home3/jj374/anaconda36/lib/python3.6/site-packages/statsmodels/compat/pandas.py:56: FutureWarning: The pandas.core.datetools module is deprecated and will be removed in a future version. Please use the pandas.tseries module instead.\n",
      "  from pandas.core import datetools\n"
     ]
    },
    {
     "name": "stdout",
     "output_type": "stream",
     "text": [
      "os.getcwd(): /mnt/beegfs/scratch_copy/ahringer/jj374/lab/relmapping\n",
      "annotation target: annot_ce10_tissues\n"
     ]
    },
    {
     "name": "stderr",
     "output_type": "stream",
     "text": [
      "/mnt/home3/jj374/anaconda36/lib/python3.6/site-packages/IPython/core/interactiveshell.py:2698: DtypeWarning: Columns (3,5,6,7,9,10,11,12,13,14,19,44,46,47,48,50,51,52,54,55,56,64,66,67,68,70,71,72,74,75,76) have mixed types. Specify dtype option on import or set low_memory=False.\n",
      "  interactivity=interactivity, compiler=compiler, result=result)\n"
     ]
    }
   ],
   "source": [
    "# Init & specify annotation target\n",
    "%run ~/relmapping/annot/notebooks/annot__init__.ipynb\n",
    "\n",
    "#annot_ = 'annot_ce10'\n",
    "#annot_ = 'annot_mapq0_ce10'\n",
    "#annot_ = 'annot_ce10_eLife_full'\n",
    "annot_ = 'annot_ce10_tissues'\n",
    "print('annotation target: %s' % (annot_,))\n",
    "\n",
    "def mp(fp, annot_=annot_): return os.path.join(annot_, 'metrics_maxgap', fp)\n",
    "\n",
    "if annot_ == 'annot_ce10':\n",
    "    l_cond = config['stages']\n",
    "    fp_atac = os.path.join(annot_, 'accessible_sites.tsv')\n",
    "    df_atac = pd.read_csv(fp_atac, sep='\\t')\n",
    "    l_atac_peak_pos = df_atac[['start', 'end']].mean(axis=1).map(int)\n",
    "    df_exon_fwd = pd.read_csv(os.path.join(annot_, 'metrics_exon', 'closest_exon_fwd.tsv'), sep='\\t')\n",
    "    df_exon_rev = pd.read_csv(os.path.join(annot_, 'metrics_exon', 'closest_exon_rev.tsv'), sep='\\t')    \n",
    "    step_fwd = 'trim20.bwa_pe.rm_unmapped_pe.rm_chrM.rm_rRNA_broad.rm_blacklist.rm_q10.filled_fwd.mean_by_stage'\n",
    "    step_rev = 'trim20.bwa_pe.rm_unmapped_pe.rm_chrM.rm_rRNA_broad.rm_blacklist.rm_q10.filled_rev.mean_by_stage'\n",
    "\n",
    "elif annot_ == 'annot_ce10_eLife_full':\n",
    "    l_cond = config['stages']\n",
    "    fp_atac = os.path.join(annot_, 'accessible_sites.tsv')\n",
    "    df_atac = pd.read_csv(fp_atac, sep='\\t')\n",
    "    l_atac_peak_pos = df_atac[['start', 'end']].mean(axis=1).map(int)\n",
    "    df_exon_fwd = pd.read_csv(os.path.join(annot_, 'metrics_exon', 'closest_exon_fwd.tsv'), sep='\\t')\n",
    "    df_exon_rev = pd.read_csv(os.path.join(annot_, 'metrics_exon', 'closest_exon_rev.tsv'), sep='\\t')    \n",
    "    step_fwd = 'trim20.bwa_pe.rm_unmapped_pe.rm_chrM.rm_rRNA_broad.rm_blacklist.rm_q10.filled_fwd.mean_by_stage'\n",
    "    step_rev = 'trim20.bwa_pe.rm_unmapped_pe.rm_chrM.rm_rRNA_broad.rm_blacklist.rm_q10.filled_rev.mean_by_stage'\n",
    "\n",
    "elif annot_ == 'annot_mapq0_ce10':\n",
    "    l_cond = config['stages']\n",
    "    fp_atac = os.path.join('annot_ce10', 'accessible_sites.tsv')\n",
    "    df_atac = pd.read_csv(fp_atac, sep='\\t')\n",
    "    l_atac_peak_pos = df_atac[['start', 'end']].mean(axis=1).map(int)\n",
    "    # Bootsrap from annot_ce10\n",
    "    df_exon_fwd = pd.read_csv(os.path.join('annot_ce10', 'metrics_exon', 'closest_exon_fwd.tsv'), sep='\\t')\n",
    "    df_exon_rev = pd.read_csv(os.path.join('annot_ce10', 'metrics_exon', 'closest_exon_rev.tsv'), sep='\\t')    \n",
    "    step_fwd = 'trim20.bwa_pe.rm_unmapped_pe.rm_chrM.rm_rRNA_broad.rm_blacklist.filled_fwd.mean_by_stage'\n",
    "    step_rev = 'trim20.bwa_pe.rm_unmapped_pe.rm_chrM.rm_rRNA_broad.rm_blacklist.filled_rev.mean_by_stage'\n",
    "\n",
    "elif annot_ == 'annot_ce10_tissues':\n",
    "    l_cond = config['stages'] + config['lcap823_tissues']\n",
    "    fp_atac = os.path.join(annot_, 'accessible_sites.tsv')\n",
    "    df_atac = pd.read_csv(fp_atac, sep='\\t')\n",
    "    l_atac_peak_pos = df_atac[['start', 'end']].mean(axis=1).map(int)\n",
    "    df_exon_fwd = pd.read_csv(os.path.join(annot_, 'metrics_exon', 'closest_exon_fwd.tsv'), sep='\\t')\n",
    "    df_exon_rev = pd.read_csv(os.path.join(annot_, 'metrics_exon', 'closest_exon_rev.tsv'), sep='\\t')    \n",
    "    step_fwd = 'trim20.bwa_pe.rm_unmapped_pe.rm_chrM.rm_rRNA_broad.rm_blacklist.rm_q10.filled_fwd.mean_by_stage'\n",
    "    step_rev = 'trim20.bwa_pe.rm_unmapped_pe.rm_chrM.rm_rRNA_broad.rm_blacklist.rm_q10.filled_rev.mean_by_stage'\n",
    "\n",
    "else:\n",
    "    assert False"
   ]
  },
  {
   "cell_type": "code",
   "execution_count": 2,
   "metadata": {
    "ExecuteTime": {
     "end_time": "2018-06-14T15:08:06.937840Z",
     "start_time": "2018-06-14T15:08:06.862181Z"
    },
    "code_folding": [
     0
    ]
   },
   "outputs": [
    {
     "data": {
      "text/html": [
       "<div>\n",
       "<style>\n",
       "    .dataframe thead tr:only-child th {\n",
       "        text-align: right;\n",
       "    }\n",
       "\n",
       "    .dataframe thead th {\n",
       "        text-align: left;\n",
       "    }\n",
       "\n",
       "    .dataframe tbody tr th {\n",
       "        vertical-align: top;\n",
       "    }\n",
       "</style>\n",
       "<table border=\"1\" class=\"dataframe\">\n",
       "  <thead>\n",
       "    <tr style=\"text-align: right;\">\n",
       "      <th></th>\n",
       "      <th>chrom</th>\n",
       "      <th>start</th>\n",
       "      <th>end</th>\n",
       "      <th>atac_source</th>\n",
       "    </tr>\n",
       "  </thead>\n",
       "  <tbody>\n",
       "    <tr>\n",
       "      <th>0</th>\n",
       "      <td>chrI</td>\n",
       "      <td>327</td>\n",
       "      <td>478</td>\n",
       "      <td>atac_tissues</td>\n",
       "    </tr>\n",
       "    <tr>\n",
       "      <th>1</th>\n",
       "      <td>chrI</td>\n",
       "      <td>1900</td>\n",
       "      <td>2051</td>\n",
       "      <td>atac_wt_se</td>\n",
       "    </tr>\n",
       "    <tr>\n",
       "      <th>2</th>\n",
       "      <td>chrI</td>\n",
       "      <td>3826</td>\n",
       "      <td>3977</td>\n",
       "      <td>atac_wt_pe</td>\n",
       "    </tr>\n",
       "    <tr>\n",
       "      <th>3</th>\n",
       "      <td>chrI</td>\n",
       "      <td>4276</td>\n",
       "      <td>4427</td>\n",
       "      <td>atac_wt_se</td>\n",
       "    </tr>\n",
       "    <tr>\n",
       "      <th>4</th>\n",
       "      <td>chrI</td>\n",
       "      <td>11272</td>\n",
       "      <td>11423</td>\n",
       "      <td>atac_wt_pe</td>\n",
       "    </tr>\n",
       "  </tbody>\n",
       "</table>\n",
       "</div>"
      ],
      "text/plain": [
       "  chrom  start    end   atac_source\n",
       "0  chrI    327    478  atac_tissues\n",
       "1  chrI   1900   2051    atac_wt_se\n",
       "2  chrI   3826   3977    atac_wt_pe\n",
       "3  chrI   4276   4427    atac_wt_se\n",
       "4  chrI  11272  11423    atac_wt_pe"
      ]
     },
     "execution_count": 2,
     "metadata": {},
     "output_type": "execute_result"
    }
   ],
   "source": [
    "# Load long cap jump & exon data\n",
    "df_atac.head()"
   ]
  },
  {
   "cell_type": "code",
   "execution_count": 3,
   "metadata": {
    "ExecuteTime": {
     "end_time": "2018-06-14T15:08:07.155688Z",
     "start_time": "2018-06-14T15:08:06.940306Z"
    }
   },
   "outputs": [
    {
     "name": "stdout",
     "output_type": "stream",
     "text": [
      "42874 42874 fwd/rev closest exon records\n"
     ]
    }
   ],
   "source": [
    "print(len(df_exon_fwd), len(df_exon_fwd), 'fwd/rev closest exon records')"
   ]
  },
  {
   "cell_type": "code",
   "execution_count": 4,
   "metadata": {
    "ExecuteTime": {
     "end_time": "2018-06-14T15:12:06.035690Z",
     "start_time": "2018-06-14T15:08:07.158574Z"
    },
    "code_folding": [
     0,
     33
    ]
   },
   "outputs": [
    {
     "name": "stderr",
     "output_type": "stream",
     "text": [
      "[Parallel(n_jobs=15)]: Done  15 out of  15 | elapsed:  1.9min finished\n",
      "[Parallel(n_jobs=15)]: Done  15 out of  15 | elapsed:  2.1min finished\n"
     ]
    }
   ],
   "source": [
    "# maximum gap between hypersensitive site and downstream first exons\n",
    "def maxgap(a): return max(len(list(g)) if (k == 0) or (k != k) else 0 for k,g in itertools.groupby(a))\n",
    "\n",
    "def nanmaxgap(a): return maxgap([e if e == e else 0 for e in a])\n",
    "\n",
    "def maxgap_fwd_(fp_inp, chroms, atac_modes, exon1_starts, flank_len=250):\n",
    "    l = []\n",
    "    fh = pyBigWig.open(fp_inp)\n",
    "    for (chrom, atac_mode, exon1_start) in itertools.islice(zip(chroms, atac_modes, exon1_starts), None):\n",
    "        # Interval between atac-mode (+flank), and 5'-end of closest downstream exonl clipped by chromosome ends\n",
    "        start_ = max(atac_mode + flank_len, 0)\n",
    "        end_ = min(exon1_start + 1, fh.chroms(chrom))\n",
    "        if start_ < end_:\n",
    "            l.append(nanmaxgap(np.array(fh.values(chrom, int(start_), int(end_)))))\n",
    "        else:\n",
    "            l.append(-1)\n",
    "    fh.close()\n",
    "    return l\n",
    "\n",
    "def maxgap_rev_(fp_inp, chroms, atac_modes, exon1_ends, flank_len=250):\n",
    "    l = []\n",
    "    fh = pyBigWig.open(fp_inp)\n",
    "    for (chrom, atac_mode, exon1_end) in itertools.islice(zip(chroms, atac_modes, exon1_ends), None):\n",
    "        # Interval between atac-mode (+flank), and 5'-end of closest downstream exonl clipped by chromosome ends\n",
    "        start_ = max(exon1_end - 1, 0)\n",
    "        end_ = min(atac_mode - flank_len + 1, fh.chroms(chrom))\n",
    "        if start_ < end_:\n",
    "            l.append(nanmaxgap(np.array(fh.values(chrom, int(start_), int(end_)))))\n",
    "        else:\n",
    "            l.append(-1)\n",
    "    fh.close()\n",
    "    return l\n",
    "\n",
    "def maxgap_fwd(stage, step=step_fwd):\n",
    "    if stage in config['stages']:\n",
    "        fp_fwd = pf('lcap808_%s' % (stage,), step, '.bw', 'lcap808')\n",
    "    elif stage in config['lcap823_tissues']:\n",
    "        fp_fwd = pf('lcap823_%s' % (stage,), step, '.bw', 'lcap823')\n",
    "    else:\n",
    "        assert False\n",
    "    l_maxgap = maxgap_fwd_(fp_fwd, df_atac['chrom'], l_atac_peak_pos, df_exon_fwd['pass1_exon1_start'])\n",
    "    return pd.DataFrame({'maxgap_%s_fwd' % (stage,): l_maxgap})\n",
    "\n",
    "def maxgap_rev(stage, step=step_rev):\n",
    "    if stage in config['stages']:\n",
    "        fp_rev = pf('lcap808_%s' % (stage,), step, '.bw', 'lcap808')\n",
    "    elif stage in config['lcap823_tissues']:\n",
    "        fp_rev = pf('lcap823_%s' % (stage,), step, '.bw', 'lcap823')\n",
    "    else:\n",
    "        assert False\n",
    "    l_maxgap = maxgap_rev_(fp_rev, df_atac['chrom'], l_atac_peak_pos, df_exon_rev['pass1_exon1_end'])\n",
    "    return pd.DataFrame({'maxgap_%s_rev' % (stage,): l_maxgap})\n",
    "\n",
    "df_maxgap_fwd = pd.concat(pmap(maxgap_fwd, l_cond, n_jobs=15), axis=1)\n",
    "df_maxgap_rev = pd.concat(pmap(maxgap_rev, l_cond, n_jobs=15), axis=1)"
   ]
  },
  {
   "cell_type": "code",
   "execution_count": 5,
   "metadata": {
    "ExecuteTime": {
     "end_time": "2018-06-14T15:12:07.321649Z",
     "start_time": "2018-06-14T15:12:06.037669Z"
    },
    "code_folding": [],
    "collapsed": true
   },
   "outputs": [],
   "source": [
    "# metrics_maxgap/ write .tsv-files of full maxgap assignments\n",
    "df_maxgap_fwd.to_csv(mp('maxgap_fwd.tsv'), header=True, index=False, sep='\\t')\n",
    "df_maxgap_rev.to_csv(mp('maxgap_rev.tsv'), header=True, index=False, sep='\\t')"
   ]
  },
  {
   "cell_type": "code",
   "execution_count": 6,
   "metadata": {
    "ExecuteTime": {
     "end_time": "2018-06-14T15:12:18.624457Z",
     "start_time": "2018-06-14T15:12:07.323203Z"
    }
   },
   "outputs": [
    {
     "name": "stdout",
     "output_type": "stream",
     "text": [
      "42875 annot_ce10_tissues/metrics_maxgap/maxgap_fwd.bed\n",
      "42875 annot_ce10_tissues/metrics_maxgap/maxgap_rev.bed\n"
     ]
    }
   ],
   "source": [
    "# Visualise maxgap tests as .bed-files\n",
    "def itemRgb_(maxgap_):\n",
    "    if maxgap_ == 0:\n",
    "        return yp.RED\n",
    "    else:\n",
    "        return yp.BLUE\n",
    "\n",
    "write_gffbed(mp('maxgap_fwd.bed'),\n",
    "    chrom = df_atac['chrom'],\n",
    "    start = df_atac['start'],\n",
    "    end = df_atac['end'],\n",
    "    name = df_maxgap_fwd.min(axis=1),\n",
    "    strand = '+',\n",
    "    attr = df_maxgap_fwd,\n",
    "    itemRgb = map(itemRgb_, df_maxgap_fwd.min(axis=1)),\n",
    ")\n",
    "\n",
    "write_gffbed(mp('maxgap_rev.bed'),\n",
    "    chrom = df_atac['chrom'],\n",
    "    start = df_atac['start'],\n",
    "    end = df_atac['end'],\n",
    "    name = df_maxgap_rev.min(axis=1),\n",
    "    strand = '-',\n",
    "    attr = df_maxgap_rev,\n",
    "    itemRgb = map(itemRgb_, df_maxgap_rev.min(axis=1)),\n",
    ")\n",
    "\n",
    "!wc -l {mp('maxgap_fwd.bed')}\n",
    "!wc -l {mp('maxgap_rev.bed')}"
   ]
  },
  {
   "cell_type": "code",
   "execution_count": null,
   "metadata": {
    "collapsed": true
   },
   "outputs": [],
   "source": []
  }
 ],
 "metadata": {
  "kernelspec": {
   "display_name": "Python 3",
   "language": "python",
   "name": "python3"
  },
  "language_info": {
   "codemirror_mode": {
    "name": "ipython",
    "version": 3
   },
   "file_extension": ".py",
   "mimetype": "text/x-python",
   "name": "python",
   "nbconvert_exporter": "python",
   "pygments_lexer": "ipython3",
   "version": "3.6.2"
  }
 },
 "nbformat": 4,
 "nbformat_minor": 2
}
