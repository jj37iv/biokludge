{
 "cells": [
  {
   "cell_type": "markdown",
   "metadata": {},
   "source": [
    "Generate stage-specific (averaged across replicates) tracks from Daugherty et al., 2017 processed signal..."
   ]
  },
  {
   "cell_type": "code",
   "execution_count": 1,
   "metadata": {
    "ExecuteTime": {
     "end_time": "2018-08-01T13:17:05.029391Z",
     "start_time": "2018-08-01T13:16:58.520793Z"
    }
   },
   "outputs": [
    {
     "name": "stderr",
     "output_type": "stream",
     "text": [
      "/mnt/home3/jj374/anaconda36/lib/python3.6/site-packages/statsmodels/compat/pandas.py:56: FutureWarning: The pandas.core.datetools module is deprecated and will be removed in a future version. Please use the pandas.tseries module instead.\n",
      "  from pandas.core import datetools\n"
     ]
    },
    {
     "name": "stdout",
     "output_type": "stream",
     "text": [
      "os.getcwd(): /mnt/beegfs/scratch_copy/ahringer/jj374/lab/relmapping\n"
     ]
    }
   ],
   "source": [
    "%run ~/relmapping/annot/notebooks/__init__.ipynb"
   ]
  },
  {
   "cell_type": "code",
   "execution_count": 2,
   "metadata": {
    "ExecuteTime": {
     "end_time": "2018-08-01T13:17:47.227238Z",
     "start_time": "2018-08-01T13:17:05.031767Z"
    },
    "collapsed": true
   },
   "outputs": [],
   "source": [
    "fp_ = '~/lab/raw_data/201801.Daugherty2017tracks/Celegans_ATAC_tracks/enrichmentOverGDNA/EE_L3_YA_IndividRepsABC.adjusted.insertSites.singleBP.log2EnrichOverGDNA.meanIn10bpWindows.bed.gz'\n",
    "names_ = ['chrom', 'start', 'end', \n",
    "          'EE_repA', 'EE_repB', 'EE_repC', \n",
    "          'L3_repA', 'L3_repB', 'L3_repC',\n",
    "          'YA_repA', 'YA_repB', 'YA_repC',\n",
    "]\n",
    "#df_ = pd.read_csv(os.path.expanduser(fp_), nrows=1000000, sep='\\t', names=names_).sort_values(['chrom', 'start', 'end'])\n",
    "df_ = pd.read_csv(os.path.expanduser(fp_), sep='\\t', names=names_).sort_values(['chrom', 'start', 'end'])\n",
    "df_['EE_mean'] = df_[['EE_repA', 'EE_repB', 'EE_repC']].mean(axis=1)\n",
    "df_['L3_mean'] = df_[['L3_repA', 'L3_repB', 'L3_repC']].mean(axis=1)\n",
    "df_['YA_mean'] = df_[['YA_repA', 'YA_repB', 'YA_repC']].mean(axis=1)"
   ]
  },
  {
   "cell_type": "code",
   "execution_count": 3,
   "metadata": {
    "ExecuteTime": {
     "end_time": "2018-08-01T13:27:09.743619Z",
     "start_time": "2018-08-01T13:19:13.642369Z"
    },
    "collapsed": true
   },
   "outputs": [],
   "source": [
    "def wp(fp): return os.path.join('annot_ce10_eLife_rev', 'Rev3Q3', fp)\n",
    "\n",
    "df_[['chrom', 'start', 'end', 'EE_repA']].to_csv(wp('Daugherty2017_EE_25bp_repA.bedGraph'), sep='\\t', index=None, header=None)\n",
    "df_[['chrom', 'start', 'end', 'EE_repB']].to_csv(wp('Daugherty2017_EE_25bp_repB.bedGraph'), sep='\\t', index=None, header=None)\n",
    "df_[['chrom', 'start', 'end', 'EE_repC']].to_csv(wp('Daugherty2017_EE_25bp_repC.bedGraph'), sep='\\t', index=None, header=None)\n",
    "\n",
    "df_[['chrom', 'start', 'end', 'L3_repA']].to_csv(wp('Daugherty2017_L3_25bp_repA.bedGraph'), sep='\\t', index=None, header=None)\n",
    "df_[['chrom', 'start', 'end', 'L3_repB']].to_csv(wp('Daugherty2017_L3_25bp_repB.bedGraph'), sep='\\t', index=None, header=None)\n",
    "df_[['chrom', 'start', 'end', 'L3_repC']].to_csv(wp('Daugherty2017_L3_25bp_repC.bedGraph'), sep='\\t', index=None, header=None)\n",
    "\n",
    "df_[['chrom', 'start', 'end', 'YA_repA']].to_csv(wp('Daugherty2017_YA_25bp_repA.bedGraph'), sep='\\t', index=None, header=None)\n",
    "df_[['chrom', 'start', 'end', 'YA_repB']].to_csv(wp('Daugherty2017_YA_25bp_repB.bedGraph'), sep='\\t', index=None, header=None)\n",
    "df_[['chrom', 'start', 'end', 'YA_repC']].to_csv(wp('Daugherty2017_YA_25bp_repC.bedGraph'), sep='\\t', index=None, header=None)"
   ]
  },
  {
   "cell_type": "code",
   "execution_count": 4,
   "metadata": {
    "ExecuteTime": {
     "end_time": "2018-08-01T13:31:57.748588Z",
     "start_time": "2018-08-01T13:27:17.100892Z"
    },
    "collapsed": true
   },
   "outputs": [],
   "source": [
    "!bedGraphToBigWig {wp('Daugherty2017_EE_25bp_repA.bedGraph')} shared/ce10.chroms {wp('Daugherty2017_EE_25bp_repA.bw')}\n",
    "!bedGraphToBigWig {wp('Daugherty2017_EE_25bp_repB.bedGraph')} shared/ce10.chroms {wp('Daugherty2017_EE_25bp_repB.bw')}\n",
    "!bedGraphToBigWig {wp('Daugherty2017_EE_25bp_repC.bedGraph')} shared/ce10.chroms {wp('Daugherty2017_EE_25bp_repC.bw')}\n",
    "\n",
    "!bedGraphToBigWig {wp('Daugherty2017_L3_25bp_repA.bedGraph')} shared/ce10.chroms {wp('Daugherty2017_L3_25bp_repA.bw')}\n",
    "!bedGraphToBigWig {wp('Daugherty2017_L3_25bp_repB.bedGraph')} shared/ce10.chroms {wp('Daugherty2017_L3_25bp_repB.bw')}\n",
    "!bedGraphToBigWig {wp('Daugherty2017_L3_25bp_repC.bedGraph')} shared/ce10.chroms {wp('Daugherty2017_L3_25bp_repC.bw')}\n",
    "\n",
    "!bedGraphToBigWig {wp('Daugherty2017_YA_25bp_repA.bedGraph')} shared/ce10.chroms {wp('Daugherty2017_YA_25bp_repA.bw')}\n",
    "!bedGraphToBigWig {wp('Daugherty2017_YA_25bp_repB.bedGraph')} shared/ce10.chroms {wp('Daugherty2017_YA_25bp_repB.bw')}\n",
    "!bedGraphToBigWig {wp('Daugherty2017_YA_25bp_repC.bedGraph')} shared/ce10.chroms {wp('Daugherty2017_YA_25bp_repC.bw')}"
   ]
  },
  {
   "cell_type": "code",
   "execution_count": null,
   "metadata": {
    "collapsed": true
   },
   "outputs": [],
   "source": []
  },
  {
   "cell_type": "code",
   "execution_count": null,
   "metadata": {
    "ExecuteTime": {
     "end_time": "2018-01-14T14:03:37.841238Z",
     "start_time": "2018-01-14T14:00:29.653736Z"
    },
    "collapsed": true
   },
   "outputs": [],
   "source": [
    "df_[['chrom', 'start', 'end', 'EE_mean']].to_csv('annot/FigA_overlaps/bw_files/Daugherty2017_EE_25bp_mean.bedGraph', sep='\\t', index=None, header=None)\n",
    "df_[['chrom', 'start', 'end', 'L3_mean']].to_csv('annot/FigA_overlaps/bw_files/Daugherty2017_L3_25bp_mean.bedGraph', sep='\\t', index=None, header=None)\n",
    "df_[['chrom', 'start', 'end', 'YA_mean']].to_csv('annot/FigA_overlaps/bw_files/Daugherty2017_YA_25bp_mean.bedGraph', sep='\\t', index=None, header=None)"
   ]
  },
  {
   "cell_type": "code",
   "execution_count": null,
   "metadata": {
    "ExecuteTime": {
     "end_time": "2018-01-14T14:06:50.438475Z",
     "start_time": "2018-01-14T14:05:09.496527Z"
    },
    "collapsed": true
   },
   "outputs": [],
   "source": [
    "!bedGraphToBigWig annot/FigA_overlaps/bw_files/Daugherty2017_EE_25bp_mean.bedGraph shared/ce10.chroms annot/FigA_overlaps/bw_files/Daugherty2017_EE_25bp_mean.bw\n",
    "!bedGraphToBigWig annot/FigA_overlaps/bw_files/Daugherty2017_L3_25bp_mean.bedGraph shared/ce10.chroms annot/FigA_overlaps/bw_files/Daugherty2017_L3_25bp_mean.bw\n",
    "!bedGraphToBigWig annot/FigA_overlaps/bw_files/Daugherty2017_YA_25bp_mean.bedGraph shared/ce10.chroms annot/FigA_overlaps/bw_files/Daugherty2017_YA_25bp_mean.bw"
   ]
  }
 ],
 "metadata": {
  "kernelspec": {
   "display_name": "Python 3",
   "language": "python",
   "name": "python3"
  },
  "language_info": {
   "codemirror_mode": {
    "name": "ipython",
    "version": 3
   },
   "file_extension": ".py",
   "mimetype": "text/x-python",
   "name": "python",
   "nbconvert_exporter": "python",
   "pygments_lexer": "ipython3",
   "version": "3.6.2"
  }
 },
 "nbformat": 4,
 "nbformat_minor": 2
}
