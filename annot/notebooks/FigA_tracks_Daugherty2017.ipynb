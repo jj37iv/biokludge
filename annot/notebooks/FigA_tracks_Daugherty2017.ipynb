{
 "cells": [
  {
   "cell_type": "markdown",
   "metadata": {},
   "source": [
    "Generate stage-specific (averaged across replicates) tracks from Daugherty et al., 2017 processed signal..."
   ]
  },
  {
   "cell_type": "code",
   "execution_count": 1,
   "metadata": {
    "ExecuteTime": {
     "end_time": "2018-01-14T13:59:44.963550Z",
     "start_time": "2018-01-14T13:59:35.583497Z"
    }
   },
   "outputs": [
    {
     "name": "stderr",
     "output_type": "stream",
     "text": [
      "/mnt/home3/jj374/anaconda36/lib/python3.6/site-packages/statsmodels/compat/pandas.py:56: FutureWarning: The pandas.core.datetools module is deprecated and will be removed in a future version. Please use the pandas.tseries module instead.\n",
      "  from pandas.core import datetools\n"
     ]
    },
    {
     "name": "stdout",
     "output_type": "stream",
     "text": [
      "os.getcwd(): /mnt/b2/scratch/ahringer/jj374/lab/relmapping\n"
     ]
    }
   ],
   "source": [
    "%run ~/relmapping/annot/notebooks/__init__.ipynb"
   ]
  },
  {
   "cell_type": "code",
   "execution_count": 2,
   "metadata": {
    "ExecuteTime": {
     "end_time": "2018-01-14T14:00:29.649255Z",
     "start_time": "2018-01-14T13:59:44.965417Z"
    }
   },
   "outputs": [],
   "source": [
    "fp_ = '~/lab/raw_data/201801.Daugherty2017tracks/Celegans_ATAC_tracks/enrichmentOverGDNA/EE_L3_YA_IndividRepsABC.adjusted.insertSites.singleBP.log2EnrichOverGDNA.meanIn10bpWindows.bed.gz'\n",
    "names_ = ['chrom', 'start', 'end', \n",
    "          'EE_repA', 'EE_repB', 'EE_repC', \n",
    "          'L3_repA', 'L3_repB', 'L3_repC',\n",
    "          'YA_repA', 'YA_repB', 'YA_repC',\n",
    "]\n",
    "#df_ = pd.read_csv(os.path.expanduser(fp_), nrows=1000000, sep='\\t', names=names_).sort_values(['chrom', 'start', 'end'])\n",
    "df_ = pd.read_csv(os.path.expanduser(fp_), sep='\\t', names=names_).sort_values(['chrom', 'start', 'end'])\n",
    "df_['EE_mean'] = df_[['EE_repA', 'EE_repB', 'EE_repC']].mean(axis=1)\n",
    "df_['L3_mean'] = df_[['L3_repA', 'L3_repB', 'L3_repC']].mean(axis=1)\n",
    "df_['YA_mean'] = df_[['YA_repA', 'YA_repB', 'YA_repC']].mean(axis=1)"
   ]
  },
  {
   "cell_type": "code",
   "execution_count": 3,
   "metadata": {
    "ExecuteTime": {
     "end_time": "2018-01-14T14:03:37.841238Z",
     "start_time": "2018-01-14T14:00:29.653736Z"
    }
   },
   "outputs": [],
   "source": [
    "df_[['chrom', 'start', 'end', 'EE_mean']].to_csv('annot/FigA_overlaps/bw_files/Daugherty2017_EE_25bp_mean.bedGraph', sep='\\t', index=None, header=None)\n",
    "df_[['chrom', 'start', 'end', 'L3_mean']].to_csv('annot/FigA_overlaps/bw_files/Daugherty2017_L3_25bp_mean.bedGraph', sep='\\t', index=None, header=None)\n",
    "df_[['chrom', 'start', 'end', 'YA_mean']].to_csv('annot/FigA_overlaps/bw_files/Daugherty2017_YA_25bp_mean.bedGraph', sep='\\t', index=None, header=None)"
   ]
  },
  {
   "cell_type": "code",
   "execution_count": 5,
   "metadata": {
    "ExecuteTime": {
     "end_time": "2018-01-14T14:06:50.438475Z",
     "start_time": "2018-01-14T14:05:09.496527Z"
    },
    "collapsed": true
   },
   "outputs": [],
   "source": [
    "#!bedGraphToBigWig annot/FigA_overlaps/bw_files/Daugherty2017_EE_25bp_mean.bedGraph shared/ce10.chroms annot/FigA_overlaps/bw_files/Daugherty2017_EE_25bp_mean.bw\n",
    "!bedGraphToBigWig annot/FigA_overlaps/bw_files/Daugherty2017_L3_25bp_mean.bedGraph shared/ce10.chroms annot/FigA_overlaps/bw_files/Daugherty2017_L3_25bp_mean.bw\n",
    "!bedGraphToBigWig annot/FigA_overlaps/bw_files/Daugherty2017_YA_25bp_mean.bedGraph shared/ce10.chroms annot/FigA_overlaps/bw_files/Daugherty2017_YA_25bp_mean.bw"
   ]
  },
  {
   "cell_type": "code",
   "execution_count": null,
   "metadata": {
    "collapsed": true
   },
   "outputs": [],
   "source": []
  }
 ],
 "metadata": {
  "kernelspec": {
   "display_name": "Python 3",
   "language": "python",
   "name": "python3"
  },
  "language_info": {
   "codemirror_mode": {
    "name": "ipython",
    "version": 3
   },
   "file_extension": ".py",
   "mimetype": "text/x-python",
   "name": "python",
   "nbconvert_exporter": "python",
   "pygments_lexer": "ipython3",
   "version": "3.6.2"
  }
 },
 "nbformat": 4,
 "nbformat_minor": 2
}
