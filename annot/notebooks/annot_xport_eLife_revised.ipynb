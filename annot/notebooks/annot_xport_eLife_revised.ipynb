{
 "cells": [
  {
   "cell_type": "code",
   "execution_count": null,
   "metadata": {
    "ExecuteTime": {
     "start_time": "2018-09-12T14:36:50.017Z"
    }
   },
   "outputs": [
    {
     "name": "stderr",
     "output_type": "stream",
     "text": [
      "/mnt/home3/jj374/anaconda36/lib/python3.6/site-packages/statsmodels/compat/pandas.py:56: FutureWarning: The pandas.core.datetools module is deprecated and will be removed in a future version. Please use the pandas.tseries module instead.\n",
      "  from pandas.core import datetools\n"
     ]
    }
   ],
   "source": [
    "%run ~/relmapping/annot/notebooks/annot__init__.ipynb"
   ]
  },
  {
   "cell_type": "code",
   "execution_count": null,
   "metadata": {
    "ExecuteTime": {
     "start_time": "2018-09-12T14:36:50.029Z"
    },
    "collapsed": true
   },
   "outputs": [],
   "source": [
    "fp_ = 'annot_eLife_full/reg_elements_eLife_full_review_expanded.tsv'\n",
    "df_regl = pd.read_csv(fp_, sep='\\t').rename(columns={\n",
    "    'chrom': 'chrom_ce10', 'start': 'start_ce10', 'end': 'end_ce10',\n",
    "    'tss_fwd': 'tss_fwd_ce10', 'tss_rev': 'tss_rev_ce10'}\n",
    ")\n",
    "\n",
    "l_atac_peak_pos_ce10 = df_regl[['start_ce10', 'end_ce10']].mean(axis=1).map(int)\n",
    "l_atac_peak_pos_ce11 = df_regl[['start_ce11', 'end_ce11']].mean(axis=1).map(int)\n",
    "df_regl['tss_fwd_ce11'] = df_regl['tss_fwd_ce10'] - l_atac_peak_pos_ce10 + l_atac_peak_pos_ce11\n",
    "df_regl['tss_rev_ce11'] = df_regl['tss_rev_ce10'] - l_atac_peak_pos_ce10 + l_atac_peak_pos_ce11"
   ]
  },
  {
   "cell_type": "code",
   "execution_count": null,
   "metadata": {
    "ExecuteTime": {
     "start_time": "2018-09-12T14:36:50.046Z"
    }
   },
   "outputs": [],
   "source": [
    "fp_ = 'annot_eLife_revised/20180223_modERN_modENCODE_peak_assignment/regulatory_elements.mid_flk200bp.mod_TF_assignment.with_HOTness.corrected.txt'\n",
    "df_tf = pd.read_csv(fp_, sep='\\t')\n",
    "assert len(df_tf) == len(df_regl)\n",
    "df_regl['HOTness'] = df_tf['HOTness']\n",
    "df_regl['factor_count'] = df_tf['cnt']\n",
    "df_regl['factor_names'] = df_tf['TF']\n",
    "pd.crosstab(df_regl['factor_count'], df_regl['HOTness'])"
   ]
  },
  {
   "cell_type": "code",
   "execution_count": null,
   "metadata": {
    "ExecuteTime": {
     "start_time": "2018-09-12T14:36:50.048Z"
    },
    "collapsed": true
   },
   "outputs": [],
   "source": [
    "fp_ = 'annot_eLife_revised/Figure 1-source data 1. Accessible sites.txt'\n",
    "col_ = ['chrom_ce10', 'start_ce10', 'end_ce10'] \\\n",
    "     + ['atac_%s_height' % (stage,) for stage in config['stages']] \\\n",
    "     + ['atac_source']\n",
    "df_regl[col_].to_csv(fp_, header=True, index=False, sep='\\t')"
   ]
  },
  {
   "cell_type": "code",
   "execution_count": null,
   "metadata": {
    "ExecuteTime": {
     "start_time": "2018-09-12T14:36:50.050Z"
    },
    "collapsed": true
   },
   "outputs": [],
   "source": [
    "fp_ = 'annot_eLife_revised/Figure 2-source data 1. Regulatory annotation.txt'\n",
    "col_ = ['chrom_ce10', 'start_ce10', 'end_ce10', 'chrom_ce11', 'start_ce11', 'end_ce11',\n",
    "    'annot', 'annot_fwd', 'annot_rev', \n",
    "    'promoter_gene_id_fwd', 'promoter_locus_id_fwd', 'promoter_gene_biotype_fwd',\n",
    "    'promoter_gene_id_rev', 'promoter_locus_id_rev', 'promoter_gene_biotype_rev', \n",
    "    'associated_gene_id', 'associated_locus_id',\n",
    "    'tss_fwd_ce10', 'tss_rev_ce10', 'tss_fwd_ce11', 'tss_rev_ce11',\n",
    "    'scap_fwd_passed', 'scap_rev_passed',] \\\n",
    "    + ['lcap_%s_fwd_passed_jump' % (stage,) for stage in config['stages']] \\\n",
    "    + ['lcap_%s_fwd_passed_incr' % (stage,) for stage in config['stages']] \\\n",
    "    + ['lcap_%s_rev_passed_jump' % (stage,) for stage in config['stages']] \\\n",
    "    + ['lcap_%s_rev_passed_incr' % (stage,) for stage in config['stages']]\n",
    "df_regl[col_].to_csv(fp_, header=True, index=False, sep='\\t')"
   ]
  },
  {
   "cell_type": "code",
   "execution_count": null,
   "metadata": {
    "ExecuteTime": {
     "start_time": "2018-09-12T14:36:50.053Z"
    },
    "collapsed": true
   },
   "outputs": [],
   "source": [
    "fp_ = 'annot_eLife_revised/Figure 4-source data 1. Promoter accessibility.txt'\n",
    "col_ = [\n",
    "    'chrom_ce10', 'start_ce10', 'end_ce10', \n",
    "    'devel_is_dynamic', 'ageing_is_dynamic', 'devel_cluster_label', 'ageing_cluster_label',\n",
    "    'HOTness', 'factor_count', 'factor_names',\n",
    "]\n",
    "df_regl[col_].to_csv(fp_, header=True, index=False, sep='\\t')"
   ]
  },
  {
   "cell_type": "code",
   "execution_count": null,
   "metadata": {
    "ExecuteTime": {
     "start_time": "2018-09-12T14:36:50.055Z"
    }
   },
   "outputs": [],
   "source": [
    "fp_ = 'annot_eLife_revised/20180223_modERN_modENCODE_peak_assignment/ce10.mod_factors_datasets.txt'\n",
    "df_ = pd.read_csv(fp_, sep='\\t', names=['factor', 'dataset_name', 'dataset_id'])\n",
    "\n",
    "fp_ = 'annot_eLife_revised/Figure 5-source data 1. TF datasets.txt'\n",
    "df_.to_csv(fp_, header=True, index=False, sep='\\t')"
   ]
  }
 ],
 "metadata": {
  "kernelspec": {
   "display_name": "Python 3",
   "language": "python",
   "name": "python3"
  },
  "language_info": {
   "codemirror_mode": {
    "name": "ipython",
    "version": 3
   },
   "file_extension": ".py",
   "mimetype": "text/x-python",
   "name": "python",
   "nbconvert_exporter": "python",
   "pygments_lexer": "ipython3",
   "version": "3.6.2"
  }
 },
 "nbformat": 4,
 "nbformat_minor": 2
}
