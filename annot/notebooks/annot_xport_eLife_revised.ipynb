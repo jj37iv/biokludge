{
 "cells": [
  {
   "cell_type": "code",
   "execution_count": 1,
   "metadata": {
    "ExecuteTime": {
     "end_time": "2018-09-05T10:47:49.073544Z",
     "start_time": "2018-09-05T10:47:43.559358Z"
    }
   },
   "outputs": [
    {
     "name": "stderr",
     "output_type": "stream",
     "text": [
      "/mnt/home3/jj374/anaconda36/lib/python3.6/site-packages/statsmodels/compat/pandas.py:56: FutureWarning: The pandas.core.datetools module is deprecated and will be removed in a future version. Please use the pandas.tseries module instead.\n",
      "  from pandas.core import datetools\n"
     ]
    },
    {
     "name": "stdout",
     "output_type": "stream",
     "text": [
      "os.getcwd(): /mnt/beegfs/scratch_copy/ahringer/jj374/lab/relmapping\n"
     ]
    }
   ],
   "source": [
    "%run ~/relmapping/annot/notebooks/annot__init__.ipynb"
   ]
  },
  {
   "cell_type": "code",
   "execution_count": 2,
   "metadata": {
    "ExecuteTime": {
     "end_time": "2018-09-05T10:47:50.052651Z",
     "start_time": "2018-09-05T10:47:49.080879Z"
    }
   },
   "outputs": [],
   "source": [
    "fp_ = 'annot_eLife_full/reg_elements_eLife_full_review_expanded.tsv'\n",
    "df_regl = pd.read_csv(fp_, sep='\\t').rename(columns={\n",
    "    'chrom': 'chrom_ce10', 'start': 'start_ce10', 'end': 'end_ce10',\n",
    "    'tss_fwd': 'tss_fwd_ce10', 'tss_rev': 'tss_rev_ce10'}\n",
    ")\n",
    "\n",
    "l_atac_peak_pos_ce10 = df_regl[['start_ce10', 'end_ce10']].mean(axis=1).map(int)\n",
    "l_atac_peak_pos_ce11 = df_regl[['start_ce11', 'end_ce11']].mean(axis=1).map(int)\n",
    "df_regl['tss_fwd_ce11'] = df_regl['tss_fwd_ce10'] - l_atac_peak_pos_ce10 + l_atac_peak_pos_ce11\n",
    "df_regl['tss_rev_ce11'] = df_regl['tss_rev_ce10'] - l_atac_peak_pos_ce10 + l_atac_peak_pos_ce11"
   ]
  },
  {
   "cell_type": "code",
   "execution_count": 3,
   "metadata": {
    "ExecuteTime": {
     "end_time": "2018-09-05T10:47:50.909382Z",
     "start_time": "2018-09-05T10:47:50.055680Z"
    }
   },
   "outputs": [],
   "source": [
    "fp_ = 'annot_eLife_revised/Figure 1-source data 1. Accessible sites.txt'\n",
    "col_ = ['chrom_ce10', 'start_ce10', 'end_ce10'] \\\n",
    "     + ['atac_%s_height' % (stage,) for stage in config['stages']] \\\n",
    "     + ['atac_source']\n",
    "df_regl[col_].to_csv(fp_, header=True, index=False, sep='\\t')"
   ]
  },
  {
   "cell_type": "code",
   "execution_count": 4,
   "metadata": {
    "ExecuteTime": {
     "end_time": "2018-09-05T10:47:53.320261Z",
     "start_time": "2018-09-05T10:47:50.916768Z"
    }
   },
   "outputs": [],
   "source": [
    "fp_ = 'annot_eLife_revised/Figure 2-source data 1. Regulatory annotation.txt'\n",
    "col_ = ['chrom_ce10', 'start_ce10', 'end_ce10', 'chrom_ce11', 'start_ce11', 'end_ce11',\n",
    "    'annot', 'annot_fwd', 'annot_rev', \n",
    "    'promoter_gene_id_fwd', 'promoter_locus_id_fwd', 'promoter_gene_biotype_fwd',\n",
    "    'promoter_gene_id_rev', 'promoter_locus_id_rev', 'promoter_gene_biotype_rev', \n",
    "    'associated_gene_id', 'associated_locus_id',\n",
    "    'tss_fwd_ce10', 'tss_rev_ce10', 'tss_fwd_ce11', 'tss_rev_ce11',\n",
    "    'scap_fwd_passed', 'scap_rev_passed',] \\\n",
    "    + ['lcap_%s_fwd_passed_jump' % (stage,) for stage in config['stages']] \\\n",
    "    + ['lcap_%s_fwd_passed_incr' % (stage,) for stage in config['stages']] \\\n",
    "    + ['lcap_%s_rev_passed_jump' % (stage,) for stage in config['stages']] \\\n",
    "    + ['lcap_%s_rev_passed_incr' % (stage,) for stage in config['stages']]\n",
    "df_regl[col_].to_csv(fp_, header=True, index=False, sep='\\t')"
   ]
  },
  {
   "cell_type": "code",
   "execution_count": 5,
   "metadata": {
    "ExecuteTime": {
     "end_time": "2018-09-05T10:47:53.665264Z",
     "start_time": "2018-09-05T10:47:53.326780Z"
    }
   },
   "outputs": [],
   "source": [
    "fp_ = 'annot_eLife_revised/Figure 4-source data 1. Promoter accessibility.txt'\n",
    "col_ = ['chrom_ce10', 'start_ce10', 'end_ce10', 'devel_is_dynamic', 'ageing_is_dynamic', 'devel_cluster_label', 'ageing_cluster_label']\n",
    "df_regl[col_].to_csv(fp_, header=True, index=False, sep='\\t')"
   ]
  }
 ],
 "metadata": {
  "kernelspec": {
   "display_name": "Python 3",
   "language": "python",
   "name": "python3"
  },
  "language_info": {
   "codemirror_mode": {
    "name": "ipython",
    "version": 3
   },
   "file_extension": ".py",
   "mimetype": "text/x-python",
   "name": "python",
   "nbconvert_exporter": "python",
   "pygments_lexer": "ipython3",
   "version": "3.6.2"
  }
 },
 "nbformat": 4,
 "nbformat_minor": 2
}
