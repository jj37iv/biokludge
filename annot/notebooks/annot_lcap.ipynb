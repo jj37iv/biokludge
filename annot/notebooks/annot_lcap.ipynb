{
 "cells": [
  {
   "cell_type": "code",
   "execution_count": 1,
   "metadata": {
    "ExecuteTime": {
     "end_time": "2018-06-04T17:01:25.694115Z",
     "start_time": "2018-06-04T17:01:20.887758Z"
    },
    "code_folding": [
     0
    ]
   },
   "outputs": [
    {
     "name": "stderr",
     "output_type": "stream",
     "text": [
      "/mnt/home3/jj374/anaconda36/lib/python3.6/site-packages/statsmodels/compat/pandas.py:56: FutureWarning: The pandas.core.datetools module is deprecated and will be removed in a future version. Please use the pandas.tseries module instead.\n",
      "  from pandas.core import datetools\n"
     ]
    },
    {
     "name": "stdout",
     "output_type": "stream",
     "text": [
      "os.getcwd(): /mnt/beegfs/scratch_copy/ahringer/jj374/lab/relmapping\n",
      "annotation target: annot_mapq0_ce10\n"
     ]
    }
   ],
   "source": [
    "# Initialise\n",
    "%run ~/relmapping/annot/notebooks/annot__init__.ipynb\n",
    "\n",
    "#annot_ = 'annot_ce10'\n",
    "annot_ = 'annot_mapq0_ce10'\n",
    "print('annotation target: %s' % (annot_,))\n",
    "\n",
    "def mp(fp, annot_=annot_): return os.path.join(annot_, 'metrics_lcap', fp)\n",
    "\n",
    "if annot_ == 'annot_ce10':\n",
    "    fp_atac = os.path.join(annot_, 'accessible_sites.tsv')\n",
    "    step_startbp_fwd = 'trim20.bwa_pe.rm_unmapped_pe.rm_chrM.rm_rRNA_broad.rm_blacklist.rm_q10.startbp_fwd'\n",
    "    step_startbp_rev = 'trim20.bwa_pe.rm_unmapped_pe.rm_chrM.rm_rRNA_broad.rm_blacklist.rm_q10.startbp_rev'\n",
    "\n",
    "elif annot_ == 'annot_mapq0_ce10':\n",
    "    fp_atac = os.path.join('annot_ce10', 'accessible_sites.tsv') # bootstrap using q10-filtered peaks\n",
    "    step_startbp_fwd = 'trim20.bwa_pe.rm_unmapped_pe.rm_chrM.rm_rRNA_broad.rm_blacklist.startbp_fwd'\n",
    "    step_startbp_rev = 'trim20.bwa_pe.rm_unmapped_pe.rm_chrM.rm_rRNA_broad.rm_blacklist.startbp_rev'\n",
    "\n",
    "else:\n",
    "    assert False"
   ]
  },
  {
   "cell_type": "code",
   "execution_count": 2,
   "metadata": {
    "ExecuteTime": {
     "end_time": "2018-06-04T17:01:25.986042Z",
     "start_time": "2018-06-04T17:01:25.697622Z"
    },
    "code_folding": []
   },
   "outputs": [
    {
     "name": "stdout",
     "output_type": "stream",
     "text": [
      "42245 ATAC-seq sites\n"
     ]
    }
   ],
   "source": [
    "# Load hypersensitive sites\n",
    "df_sites = pd.read_csv(fp_atac, sep='\\t')\n",
    "l_atac_peak_pos = df_sites[['start', 'end']].mean(axis=1).map(int)\n",
    "#df_sites = df_sites.head(100)\n",
    "print(len(df_sites), 'ATAC-seq sites')"
   ]
  },
  {
   "cell_type": "code",
   "execution_count": 3,
   "metadata": {
    "ExecuteTime": {
     "end_time": "2018-06-04T17:02:48.896532Z",
     "start_time": "2018-06-04T17:01:27.174341Z"
    },
    "code_folding": [
     0,
     3,
     18,
     37
    ]
   },
   "outputs": [
    {
     "name": "stdout",
     "output_type": "stream",
     "text": [
      "estimating size factors\n",
      "estimating dispersions\n",
      "gene-wise dispersion estimates\n",
      "estimating size factors\n",
      "estimating dispersions\n",
      "gene-wise dispersion estimates\n",
      "estimating size factors\n",
      "estimating dispersions\n",
      "gene-wise dispersion estimates\n",
      "estimating size factors\n",
      "estimating dispersions\n",
      "gene-wise dispersion estimates\n",
      "estimating size factors\n",
      "estimating size factors\n",
      "estimating dispersions\n",
      "estimating size factors\n",
      "gene-wise dispersion estimates\n",
      "estimating dispersions\n",
      "gene-wise dispersion estimates\n",
      "estimating dispersions\n",
      "gene-wise dispersion estimates\n",
      "estimating size factors\n",
      "estimating dispersions\n",
      "gene-wise dispersion estimates\n",
      "estimating size factors\n",
      "estimating dispersions\n",
      "gene-wise dispersion estimates\n",
      "mean-dispersion relationship\n",
      "final dispersion estimates\n",
      "estimating size factors\n",
      "estimating dispersions\n",
      "gene-wise dispersion estimates\n",
      "mean-dispersion relationship\n",
      "mean-dispersion relationship\n",
      "final dispersion estimates\n",
      "final dispersion estimates\n",
      "estimating size factors\n",
      "mean-dispersion relationship\n",
      "estimating dispersions\n",
      "gene-wise dispersion estimates\n",
      "final dispersion estimates\n",
      "fitting model and testing\n",
      "mean-dispersion relationship\n",
      "mean-dispersion relationship\n",
      "mean-dispersion relationship\n",
      "fitting model and testing\n",
      "final dispersion estimates\n",
      "final dispersion estimates\n",
      "mean-dispersion relationship\n",
      "final dispersion estimates\n",
      "fitting model and testing\n",
      "mean-dispersion relationship\n",
      "final dispersion estimates\n",
      "final dispersion estimates\n",
      "fitting model and testing\n",
      "mean-dispersion relationship\n",
      "fitting model and testing\n",
      "fitting model and testing\n",
      "mean-dispersion relationship\n",
      "final dispersion estimates\n",
      "fitting model and testing\n",
      "final dispersion estimates\n",
      "fitting model and testing\n",
      "fitting model and testing\n",
      "fitting model and testing\n",
      "fitting model and testing\n"
     ]
    },
    {
     "name": "stderr",
     "output_type": "stream",
     "text": [
      "[Parallel(n_jobs=15)]: Done  11 out of  11 | elapsed:  1.3min finished\n"
     ]
    }
   ],
   "source": [
    "# Jump test\n",
    "\n",
    "# 2-condition, 2-replicate one-sided test\n",
    "def deseq2x2(df_counts):\n",
    "    fh_inp, fp_inp = tempfile.mkstemp(dir=os.getcwd(), prefix='deseq2x2_inp_')\n",
    "    fh_out, fp_out = tempfile.mkstemp(dir=os.getcwd(), prefix='deseq2x2_out_')\n",
    "    df_counts.to_csv(fp_inp, sep='\\t')\n",
    "    !cat {fp_inp} | scripts/deseq2x2_greater.R > {fp_out}\n",
    "    #!wc -l {fp_inp}\n",
    "    #!wc -l {fp_out}\n",
    "    #!tail -n 20 {fp_out}\n",
    "    df_out = pd.read_csv(fp_out, sep='\\s+')\n",
    "    assert len(df_counts) == len(df_out)\n",
    "    !rm {fp_inp}\n",
    "    !rm {fp_out}\n",
    "    return df_out\n",
    "\n",
    "# Count reads & call DESeq\n",
    "def jump_test(fp_rep1, fp_rep2, chrom, u_start, u_end, d_start, d_end, f):\n",
    "    df_counts = pd.DataFrame()\n",
    "    df_counts['ucount_rep1'] = list(map(f, yp.read_regions(fp_rep1, chrom, u_start, u_end)))\n",
    "    df_counts['ucount_rep2'] = list(map(f, yp.read_regions(fp_rep2, chrom, u_start, u_end)))\n",
    "    df_counts['dcount_rep1'] = list(map(f, yp.read_regions(fp_rep1, chrom, d_start, d_end)))\n",
    "    df_counts['dcount_rep2'] = list(map(f, yp.read_regions(fp_rep2, chrom, d_start, d_end)))\n",
    "\n",
    "    # Sample pseudoreplicates\n",
    "    #np.random.seed(0)\n",
    "    #df_counts['ucount_sum'] = df_counts[ ['ucount_rep1', 'ucount_rep2'] ].sum(axis=1)\n",
    "    #df_counts['dcount_sum'] = df_counts[ ['dcount_rep1', 'dcount_rep2'] ].sum(axis=1)\n",
    "    #df_counts['ucount_rep1'] = list(map(lambda n: np.random.binomial(n, 0.5), df_counts['ucount_sum']))\n",
    "    #df_counts['dcount_rep1'] = list(map(lambda n: np.random.binomial(n, 0.5), df_counts['dcount_sum']))\n",
    "    #df_counts['ucount_rep2'] = df_counts['ucount_sum'] - df_counts['ucount_rep1']\n",
    "    #df_counts['dcount_rep2'] = df_counts['dcount_sum'] - df_counts['dcount_rep1']\n",
    "\n",
    "    df_deseq = deseq2x2(df_counts[['ucount_rep1', 'ucount_rep2', 'dcount_rep1', 'dcount_rep2']])\n",
    "    return pd.concat([df_counts, df_deseq], axis=1)\n",
    "\n",
    "def itemRgb_(passed):\n",
    "    if passed:\n",
    "        return yp.RED\n",
    "    else:\n",
    "        return yp.BLUE\n",
    "\n",
    "def jump_test_fwd(stage, step_startbp_fwd=step_startbp_fwd):\n",
    "    fp_rep1 = pf('lcap808_%(stage)s_rep1' % locals(), step_startbp_fwd, '.bw', 'lcap808')\n",
    "    fp_rep2 = pf('lcap808_%(stage)s_rep2' % locals(), step_startbp_fwd, '.bw', 'lcap808')\n",
    "    chrom = df_sites['chrom'].tolist()\n",
    "    u_start = (l_atac_peak_pos - 250).tolist()\n",
    "    u_end = (l_atac_peak_pos - 75 + 1).tolist()\n",
    "    d_start = (l_atac_peak_pos + 75).tolist()\n",
    "    d_end = (l_atac_peak_pos + 250 + 1).tolist()\n",
    "    df_jump = jump_test(fp_rep1, fp_rep2, chrom=chrom, u_start=u_start, u_end=u_end,\n",
    "                        d_start=d_start, d_end=d_end, f=lambda s: int(np.nan_to_num(np.nansum(s))))\n",
    "    #df_jump['passed'] = (df_jump['log2FoldChange'] > 2) & (df_jump['padj'] < 0.05)\n",
    "    df_jump['passed_jump'] = (df_jump['log2FoldChange'] > 1.5) & (df_jump['padj'] < 0.1)\n",
    "    df_jump['passed_incr'] = (df_jump['ucount_rep1'] == 0) & (df_jump['ucount_rep2'] == 0) \\\n",
    "                           & (df_jump['dcount_rep1'] >= 1) & (df_jump['dcount_rep2'] >= 1) \\\n",
    "                           & ((df_jump['dcount_rep1'] + df_jump['dcount_rep2']) >= 3)\n",
    "    df_jump['passed'] = df_jump['passed_jump'] | df_jump['passed_incr']\n",
    "    df_jump['summary'] = ['%s / %.02f / %.3g' % (passed, lfc, padj) \\\n",
    "                          for passed, lfc, padj in zip(df_jump['passed'], df_jump['log2FoldChange'], df_jump['padj'])]\n",
    "    df_jump.columns = ['lcap_%s_fwd_%s' % (stage, col) for col in df_jump.columns]\n",
    "    \n",
    "    write_gffbed(mp('lcap_%s_fwd.bed' % (stage,)),\n",
    "        chrom = chrom,\n",
    "        start = u_start,\n",
    "        thickStart = np.array(u_end) - 1,\n",
    "        thickEnd = np.array(d_start) + 1,\n",
    "        end = d_end,\n",
    "        attr = df_jump,\n",
    "        itemRgb = list(map(itemRgb_, df_jump['lcap_%s_fwd_passed' % (stage,)]\n",
    "    )))\n",
    "    return df_jump\n",
    "\n",
    "df_jump_fwd = pd.concat(pmap(jump_test_fwd, config['stages'], n_jobs=15), axis=1)\n",
    "df_jump_fwd.to_csv(mp('lcap_all_fwd.tsv'), sep='\\t', index=False)"
   ]
  },
  {
   "cell_type": "code",
   "execution_count": 4,
   "metadata": {
    "ExecuteTime": {
     "end_time": "2018-06-04T17:04:16.316812Z",
     "start_time": "2018-06-04T17:02:48.901139Z"
    },
    "code_folding": [
     0
    ]
   },
   "outputs": [
    {
     "name": "stdout",
     "output_type": "stream",
     "text": [
      "estimating size factors\n",
      "estimating dispersions\n",
      "gene-wise dispersion estimates\n",
      "estimating size factors\n",
      "estimating dispersions\n",
      "gene-wise dispersion estimates\n",
      "estimating size factors\n",
      "estimating dispersions\n",
      "gene-wise dispersion estimates\n",
      "estimating size factors\n",
      "estimating dispersions\n",
      "gene-wise dispersion estimates\n",
      "estimating size factors\n",
      "estimating size factors\n",
      "estimating dispersions\n",
      "gene-wise dispersion estimates\n",
      "estimating dispersions\n",
      "gene-wise dispersion estimates\n",
      "estimating size factors\n",
      "estimating dispersions\n",
      "gene-wise dispersion estimates\n",
      "mean-dispersion relationship\n",
      "estimating size factors\n",
      "estimating dispersions\n",
      "gene-wise dispersion estimates\n",
      "estimating size factors\n",
      "estimating dispersions\n",
      "gene-wise dispersion estimates\n",
      "final dispersion estimates\n",
      "estimating size factors\n",
      "estimating dispersions\n",
      "gene-wise dispersion estimates\n",
      "mean-dispersion relationship\n",
      "mean-dispersion relationship\n",
      "estimating size factors\n",
      "estimating dispersions\n",
      "gene-wise dispersion estimates\n",
      "final dispersion estimates\n",
      "mean-dispersion relationship\n",
      "mean-dispersion relationship\n",
      "final dispersion estimates\n",
      "mean-dispersion relationship\n",
      "final dispersion estimates\n",
      "final dispersion estimates\n",
      "final dispersion estimates\n",
      "fitting model and testing\n",
      "mean-dispersion relationship\n",
      "mean-dispersion relationship\n",
      "final dispersion estimates\n",
      "final dispersion estimates\n",
      "fitting model and testing\n",
      "fitting model and testing\n",
      "fitting model and testing\n",
      "fitting model and testing\n",
      "fitting model and testing\n",
      "mean-dispersion relationship\n",
      "fitting model and testing\n",
      "final dispersion estimates\n",
      "mean-dispersion relationship\n",
      "fitting model and testing\n",
      "final dispersion estimates\n",
      "mean-dispersion relationship\n",
      "fitting model and testing\n",
      "final dispersion estimates\n",
      "fitting model and testing\n",
      "fitting model and testing\n"
     ]
    },
    {
     "name": "stderr",
     "output_type": "stream",
     "text": [
      "[Parallel(n_jobs=15)]: Done  11 out of  11 | elapsed:  1.3min finished\n"
     ]
    }
   ],
   "source": [
    "def jump_test_rev(stage, step_startbp_rev=step_startbp_rev):\n",
    "    fp_rep1 = pf('lcap808_%(stage)s_rep1' % locals(), step_startbp_rev, '.bw', 'lcap808')\n",
    "    fp_rep2 = pf('lcap808_%(stage)s_rep2' % locals(), step_startbp_rev, '.bw', 'lcap808')\n",
    "    chrom = df_sites['chrom'].tolist()\n",
    "    d_start = (l_atac_peak_pos - 250).tolist()\n",
    "    d_end = (l_atac_peak_pos - 75 + 1).tolist()\n",
    "    u_start = (l_atac_peak_pos + 75).tolist()\n",
    "    u_end = (l_atac_peak_pos + 250 + 1).tolist()\n",
    "    df_jump = jump_test(fp_rep1, fp_rep2, chrom=chrom, u_start=u_start, u_end=u_end,\n",
    "                        d_start=d_start, d_end=d_end, f=lambda s: int(np.nan_to_num(np.nansum(s))))\n",
    "    #df_jump['passed'] = (df_jump['log2FoldChange'] > 2) & (df_jump['padj'] < 0.05)\n",
    "    df_jump['passed_jump'] = (df_jump['log2FoldChange'] > 1.5) & (df_jump['padj'] < 0.1)\n",
    "    df_jump['passed_incr'] = (df_jump['ucount_rep1'] == 0) & (df_jump['ucount_rep2'] == 0) \\\n",
    "                           & (df_jump['dcount_rep1'] >= 1) & (df_jump['dcount_rep2'] >= 1) \\\n",
    "                           & ((df_jump['dcount_rep1'] + df_jump['dcount_rep2']) >= 3)\n",
    "    df_jump['passed'] = df_jump['passed_jump'] | df_jump['passed_incr']\n",
    "    df_jump['summary'] = ['%s / %.02f / %.3g' % (passed, lfc, padj) \\\n",
    "                          for passed, lfc, padj in zip(df_jump['passed'], df_jump['log2FoldChange'], df_jump['padj'])]\n",
    "    df_jump.columns = ['lcap_%s_rev_%s' % (stage, col) for col in df_jump.columns]\n",
    "    \n",
    "    write_gffbed(mp('lcap_%s_rev.bed' % (stage,)),\n",
    "        chrom = chrom,\n",
    "        start = d_start,\n",
    "        thickStart = np.array(d_end) - 1,\n",
    "        thickEnd = np.array(u_start) + 1,\n",
    "        end = u_end,\n",
    "        attr = df_jump,\n",
    "        itemRgb = list(map(itemRgb_, df_jump['lcap_%s_rev_passed' % (stage,)]\n",
    "    )))\n",
    "    return df_jump\n",
    "\n",
    "df_jump_rev = pd.concat(pmap(jump_test_rev, config['stages'], n_jobs=15), axis=1)\n",
    "df_jump_rev.to_csv(mp('lcap_all_rev.tsv'), sep='\\t', index=False)"
   ]
  },
  {
   "cell_type": "code",
   "execution_count": 5,
   "metadata": {
    "ExecuteTime": {
     "end_time": "2018-06-04T17:04:16.566016Z",
     "start_time": "2018-06-04T17:04:16.320844Z"
    }
   },
   "outputs": [
    {
     "data": {
      "text/html": [
       "<div>\n",
       "<style>\n",
       "    .dataframe thead tr:only-child th {\n",
       "        text-align: right;\n",
       "    }\n",
       "\n",
       "    .dataframe thead th {\n",
       "        text-align: left;\n",
       "    }\n",
       "\n",
       "    .dataframe tbody tr th {\n",
       "        vertical-align: top;\n",
       "    }\n",
       "</style>\n",
       "<table border=\"1\" class=\"dataframe\">\n",
       "  <thead>\n",
       "    <tr style=\"text-align: right;\">\n",
       "      <th></th>\n",
       "      <th>lcap_wt_emb_fwd_passed</th>\n",
       "      <th>lcap_wt_l1_fwd_passed</th>\n",
       "      <th>lcap_wt_l2_fwd_passed</th>\n",
       "      <th>lcap_wt_l3_fwd_passed</th>\n",
       "      <th>lcap_wt_l4_fwd_passed</th>\n",
       "      <th>lcap_wt_ya_fwd_passed</th>\n",
       "      <th>lcap_glp1_d1_fwd_passed</th>\n",
       "      <th>lcap_glp1_d2_fwd_passed</th>\n",
       "      <th>lcap_glp1_d6_fwd_passed</th>\n",
       "      <th>lcap_glp1_d9_fwd_passed</th>\n",
       "      <th>lcap_glp1_d13_fwd_passed</th>\n",
       "    </tr>\n",
       "  </thead>\n",
       "  <tbody>\n",
       "    <tr>\n",
       "      <th>False</th>\n",
       "      <td>35984</td>\n",
       "      <td>35614</td>\n",
       "      <td>34524</td>\n",
       "      <td>35697</td>\n",
       "      <td>35764</td>\n",
       "      <td>36267</td>\n",
       "      <td>37495</td>\n",
       "      <td>38138</td>\n",
       "      <td>36959</td>\n",
       "      <td>37163</td>\n",
       "      <td>36342</td>\n",
       "    </tr>\n",
       "    <tr>\n",
       "      <th>True</th>\n",
       "      <td>6261</td>\n",
       "      <td>6631</td>\n",
       "      <td>7721</td>\n",
       "      <td>6548</td>\n",
       "      <td>6481</td>\n",
       "      <td>5978</td>\n",
       "      <td>4750</td>\n",
       "      <td>4107</td>\n",
       "      <td>5286</td>\n",
       "      <td>5082</td>\n",
       "      <td>5903</td>\n",
       "    </tr>\n",
       "  </tbody>\n",
       "</table>\n",
       "</div>"
      ],
      "text/plain": [
       "       lcap_wt_emb_fwd_passed  lcap_wt_l1_fwd_passed  lcap_wt_l2_fwd_passed  \\\n",
       "False                   35984                  35614                  34524   \n",
       "True                     6261                   6631                   7721   \n",
       "\n",
       "       lcap_wt_l3_fwd_passed  lcap_wt_l4_fwd_passed  lcap_wt_ya_fwd_passed  \\\n",
       "False                  35697                  35764                  36267   \n",
       "True                    6548                   6481                   5978   \n",
       "\n",
       "       lcap_glp1_d1_fwd_passed  lcap_glp1_d2_fwd_passed  \\\n",
       "False                    37495                    38138   \n",
       "True                      4750                     4107   \n",
       "\n",
       "       lcap_glp1_d6_fwd_passed  lcap_glp1_d9_fwd_passed  \\\n",
       "False                    36959                    37163   \n",
       "True                      5286                     5082   \n",
       "\n",
       "       lcap_glp1_d13_fwd_passed  \n",
       "False                     36342  \n",
       "True                       5903  "
      ]
     },
     "execution_count": 5,
     "metadata": {},
     "output_type": "execute_result"
    }
   ],
   "source": [
    "pd.concat([df_jump_fwd['lcap_%s_fwd_passed' % (stage,)].value_counts() for stage in config['stages']], axis=1)"
   ]
  },
  {
   "cell_type": "code",
   "execution_count": 6,
   "metadata": {
    "ExecuteTime": {
     "end_time": "2018-06-04T17:04:16.662403Z",
     "start_time": "2018-06-04T17:04:16.569007Z"
    }
   },
   "outputs": [
    {
     "data": {
      "text/html": [
       "<div>\n",
       "<style>\n",
       "    .dataframe thead tr:only-child th {\n",
       "        text-align: right;\n",
       "    }\n",
       "\n",
       "    .dataframe thead th {\n",
       "        text-align: left;\n",
       "    }\n",
       "\n",
       "    .dataframe tbody tr th {\n",
       "        vertical-align: top;\n",
       "    }\n",
       "</style>\n",
       "<table border=\"1\" class=\"dataframe\">\n",
       "  <thead>\n",
       "    <tr style=\"text-align: right;\">\n",
       "      <th></th>\n",
       "      <th>lcap_wt_emb_rev_passed</th>\n",
       "      <th>lcap_wt_l1_rev_passed</th>\n",
       "      <th>lcap_wt_l2_rev_passed</th>\n",
       "      <th>lcap_wt_l3_rev_passed</th>\n",
       "      <th>lcap_wt_l4_rev_passed</th>\n",
       "      <th>lcap_wt_ya_rev_passed</th>\n",
       "      <th>lcap_glp1_d1_rev_passed</th>\n",
       "      <th>lcap_glp1_d2_rev_passed</th>\n",
       "      <th>lcap_glp1_d6_rev_passed</th>\n",
       "      <th>lcap_glp1_d9_rev_passed</th>\n",
       "      <th>lcap_glp1_d13_rev_passed</th>\n",
       "    </tr>\n",
       "  </thead>\n",
       "  <tbody>\n",
       "    <tr>\n",
       "      <th>False</th>\n",
       "      <td>36079</td>\n",
       "      <td>35601</td>\n",
       "      <td>34487</td>\n",
       "      <td>35556</td>\n",
       "      <td>35835</td>\n",
       "      <td>36348</td>\n",
       "      <td>37501</td>\n",
       "      <td>38064</td>\n",
       "      <td>36975</td>\n",
       "      <td>37187</td>\n",
       "      <td>36328</td>\n",
       "    </tr>\n",
       "    <tr>\n",
       "      <th>True</th>\n",
       "      <td>6166</td>\n",
       "      <td>6644</td>\n",
       "      <td>7758</td>\n",
       "      <td>6689</td>\n",
       "      <td>6410</td>\n",
       "      <td>5897</td>\n",
       "      <td>4744</td>\n",
       "      <td>4181</td>\n",
       "      <td>5270</td>\n",
       "      <td>5058</td>\n",
       "      <td>5917</td>\n",
       "    </tr>\n",
       "  </tbody>\n",
       "</table>\n",
       "</div>"
      ],
      "text/plain": [
       "       lcap_wt_emb_rev_passed  lcap_wt_l1_rev_passed  lcap_wt_l2_rev_passed  \\\n",
       "False                   36079                  35601                  34487   \n",
       "True                     6166                   6644                   7758   \n",
       "\n",
       "       lcap_wt_l3_rev_passed  lcap_wt_l4_rev_passed  lcap_wt_ya_rev_passed  \\\n",
       "False                  35556                  35835                  36348   \n",
       "True                    6689                   6410                   5897   \n",
       "\n",
       "       lcap_glp1_d1_rev_passed  lcap_glp1_d2_rev_passed  \\\n",
       "False                    37501                    38064   \n",
       "True                      4744                     4181   \n",
       "\n",
       "       lcap_glp1_d6_rev_passed  lcap_glp1_d9_rev_passed  \\\n",
       "False                    36975                    37187   \n",
       "True                      5270                     5058   \n",
       "\n",
       "       lcap_glp1_d13_rev_passed  \n",
       "False                     36328  \n",
       "True                       5917  "
      ]
     },
     "execution_count": 6,
     "metadata": {},
     "output_type": "execute_result"
    }
   ],
   "source": [
    "pd.concat([df_jump_rev['lcap_%s_rev_passed' % (stage,)].value_counts() for stage in config['stages']], axis=1)"
   ]
  },
  {
   "cell_type": "code",
   "execution_count": 7,
   "metadata": {
    "ExecuteTime": {
     "end_time": "2018-06-04T17:04:27.415979Z",
     "start_time": "2018-06-04T17:04:16.665108Z"
    },
    "collapsed": true,
    "scrolled": true
   },
   "outputs": [],
   "source": [
    "u_start = (l_atac_peak_pos - 250).tolist()\n",
    "u_end = (l_atac_peak_pos - 75 + 1).tolist()\n",
    "d_start = (l_atac_peak_pos + 75).tolist()\n",
    "d_end = (l_atac_peak_pos + 250 + 1).tolist()\n",
    "\n",
    "l_passed_any = df_jump_fwd[['lcap_%s_fwd_passed' % (stage,) for stage in config['stages']]].any(axis=1)\n",
    "write_gffbed(mp('lcap_all_fwd.bed'),\n",
    "    chrom = df_sites['chrom'],\n",
    "    start = u_start,\n",
    "    thickStart = np.array(u_end) - 1,\n",
    "    thickEnd = np.array(d_start) + 1,\n",
    "    end = d_end,\n",
    "    attr = df_jump_fwd[['lcap_%s_fwd_summary' % (stage,) for stage in config['stages']]],\n",
    "    itemRgb = list(map(itemRgb_, l_passed_any)),\n",
    ")\n",
    "\n",
    "l_passed_any = df_jump_rev[['lcap_%s_rev_passed' % (stage,) for stage in config['stages']]].any(axis=1)\n",
    "write_gffbed(mp('lcap_all_rev.bed'),\n",
    "    chrom = df_sites['chrom'],\n",
    "    start = u_start,\n",
    "    thickStart = np.array(u_end) - 1,\n",
    "    thickEnd = np.array(d_start) + 1,\n",
    "    end = d_end,\n",
    "    attr = df_jump_rev[['lcap_%s_rev_summary' % (stage,) for stage in config['stages']]],\n",
    "    itemRgb = list(map(itemRgb_, l_passed_any)),\n",
    ")"
   ]
  },
  {
   "cell_type": "code",
   "execution_count": null,
   "metadata": {
    "collapsed": true
   },
   "outputs": [],
   "source": []
  }
 ],
 "metadata": {
  "kernelspec": {
   "display_name": "Python 3",
   "language": "python",
   "name": "python3"
  },
  "language_info": {
   "codemirror_mode": {
    "name": "ipython",
    "version": 3
   },
   "file_extension": ".py",
   "mimetype": "text/x-python",
   "name": "python",
   "nbconvert_exporter": "python",
   "pygments_lexer": "ipython3",
   "version": "3.6.2"
  }
 },
 "nbformat": 4,
 "nbformat_minor": 2
}
