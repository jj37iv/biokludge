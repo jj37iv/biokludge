{
 "cells": [
  {
   "cell_type": "code",
   "execution_count": 1,
   "metadata": {
    "ExecuteTime": {
     "end_time": "2018-02-26T15:03:56.165462Z",
     "start_time": "2018-02-26T15:03:50.500647Z"
    }
   },
   "outputs": [
    {
     "name": "stderr",
     "output_type": "stream",
     "text": [
      "/mnt/home3/jj374/anaconda36/lib/python3.6/site-packages/statsmodels/compat/pandas.py:56: FutureWarning: The pandas.core.datetools module is deprecated and will be removed in a future version. Please use the pandas.tseries module instead.\n",
      "  from pandas.core import datetools\n"
     ]
    },
    {
     "name": "stdout",
     "output_type": "stream",
     "text": [
      "os.getcwd(): /mnt/b2/scratch/ahringer/jj374/lab/relmapping\n"
     ]
    }
   ],
   "source": [
    "%run ~/relmapping/annot/notebooks/__init__.ipynb"
   ]
  },
  {
   "cell_type": "code",
   "execution_count": 2,
   "metadata": {
    "ExecuteTime": {
     "end_time": "2018-02-26T15:03:58.423854Z",
     "start_time": "2018-02-26T15:03:56.169077Z"
    }
   },
   "outputs": [
    {
     "data": {
      "text/html": [
       "<div>\n",
       "<style>\n",
       "    .dataframe thead tr:only-child th {\n",
       "        text-align: right;\n",
       "    }\n",
       "\n",
       "    .dataframe thead th {\n",
       "        text-align: left;\n",
       "    }\n",
       "\n",
       "    .dataframe tbody tr th {\n",
       "        vertical-align: top;\n",
       "    }\n",
       "</style>\n",
       "<table border=\"1\" class=\"dataframe\">\n",
       "  <thead>\n",
       "    <tr style=\"text-align: right;\">\n",
       "      <th></th>\n",
       "      <th>summit_chrom</th>\n",
       "      <th>summit_start</th>\n",
       "      <th>summit_end</th>\n",
       "      <th>factor_name</th>\n",
       "      <th>stage</th>\n",
       "      <th>file_accession</th>\n",
       "      <th>peak_iv</th>\n",
       "      <th>peak_chrom</th>\n",
       "      <th>peak_start</th>\n",
       "      <th>peak_end</th>\n",
       "    </tr>\n",
       "  </thead>\n",
       "  <tbody>\n",
       "    <tr>\n",
       "      <th>0</th>\n",
       "      <td>chrI</td>\n",
       "      <td>3769</td>\n",
       "      <td>3770</td>\n",
       "      <td>elt-3-GFP</td>\n",
       "      <td>L3</td>\n",
       "      <td>ENCFF724CLW</td>\n",
       "      <td>chrI:3600-3940</td>\n",
       "      <td>chrI</td>\n",
       "      <td>3600</td>\n",
       "      <td>3940</td>\n",
       "    </tr>\n",
       "    <tr>\n",
       "      <th>1</th>\n",
       "      <td>chrI</td>\n",
       "      <td>3812</td>\n",
       "      <td>3813</td>\n",
       "      <td>blmp-1-GFP</td>\n",
       "      <td>L2</td>\n",
       "      <td>ENCFF697TST</td>\n",
       "      <td>chrI:3645-3981</td>\n",
       "      <td>chrI</td>\n",
       "      <td>3645</td>\n",
       "      <td>3981</td>\n",
       "    </tr>\n",
       "    <tr>\n",
       "      <th>2</th>\n",
       "      <td>chrI</td>\n",
       "      <td>3820</td>\n",
       "      <td>3821</td>\n",
       "      <td>ZK546.5-GFP</td>\n",
       "      <td>L4</td>\n",
       "      <td>ENCFF905WSC</td>\n",
       "      <td>chrI:3669-3973</td>\n",
       "      <td>chrI</td>\n",
       "      <td>3669</td>\n",
       "      <td>3973</td>\n",
       "    </tr>\n",
       "    <tr>\n",
       "      <th>3</th>\n",
       "      <td>chrI</td>\n",
       "      <td>3821</td>\n",
       "      <td>3822</td>\n",
       "      <td>efl-1-GFP</td>\n",
       "      <td>YA</td>\n",
       "      <td>ENCFF456YBJ</td>\n",
       "      <td>chrI:3701-3893</td>\n",
       "      <td>chrI</td>\n",
       "      <td>3701</td>\n",
       "      <td>3893</td>\n",
       "    </tr>\n",
       "    <tr>\n",
       "      <th>4</th>\n",
       "      <td>chrI</td>\n",
       "      <td>3828</td>\n",
       "      <td>3829</td>\n",
       "      <td>rec-8-GFP</td>\n",
       "      <td>YA</td>\n",
       "      <td>ENCFF721FFG</td>\n",
       "      <td>chrI:3614-4044</td>\n",
       "      <td>chrI</td>\n",
       "      <td>3614</td>\n",
       "      <td>4044</td>\n",
       "    </tr>\n",
       "  </tbody>\n",
       "</table>\n",
       "</div>"
      ],
      "text/plain": [
       "  summit_chrom  summit_start  summit_end  factor_name stage file_accession  \\\n",
       "0         chrI          3769        3770    elt-3-GFP    L3    ENCFF724CLW   \n",
       "1         chrI          3812        3813   blmp-1-GFP    L2    ENCFF697TST   \n",
       "2         chrI          3820        3821  ZK546.5-GFP    L4    ENCFF905WSC   \n",
       "3         chrI          3821        3822    efl-1-GFP    YA    ENCFF456YBJ   \n",
       "4         chrI          3828        3829    rec-8-GFP    YA    ENCFF721FFG   \n",
       "\n",
       "          peak_iv peak_chrom peak_start peak_end  \n",
       "0  chrI:3600-3940       chrI       3600     3940  \n",
       "1  chrI:3645-3981       chrI       3645     3981  \n",
       "2  chrI:3669-3973       chrI       3669     3973  \n",
       "3  chrI:3701-3893       chrI       3701     3893  \n",
       "4  chrI:3614-4044       chrI       3614     4044  "
      ]
     },
     "execution_count": 2,
     "metadata": {},
     "output_type": "execute_result"
    }
   ],
   "source": [
    "# Ni: ForJulie/20180223_modERN_modENCODE_peak_assignment\n",
    "fp_ = 'annot/Fig2S3_overlaps/20180223_modERN_modENCODE_peak_assignment/ce10.summits.combined.txt'\n",
    "names_ = ['summit_chrom', 'summit_start', 'summit_end', 'factor_name', 'stage', 'file_accession', 'peak_iv']\n",
    "\n",
    "def chrom_(s): return s.split(':')[0]\n",
    "def start_(s): return s.split(':')[1].split('-')[0]\n",
    "def end_(s): return s.split(':')[1].split('-')[1]\n",
    "\n",
    "df_ = pd.read_csv(fp_, sep='\\t', names=names_)\n",
    "df_['peak_chrom'] = df_['peak_iv'].map(chrom_)\n",
    "df_['peak_start'] = df_['peak_iv'].map(start_)\n",
    "df_['peak_end'] = df_['peak_iv'].map(end_)\n",
    "df_.head()"
   ]
  },
  {
   "cell_type": "code",
   "execution_count": 3,
   "metadata": {
    "ExecuteTime": {
     "end_time": "2018-02-26T15:04:09.272434Z",
     "start_time": "2018-02-26T15:03:58.426820Z"
    },
    "collapsed": true
   },
   "outputs": [],
   "source": [
    "# Calculate peak call coverage of all factors\n",
    "col_ = ['peak_chrom', 'peak_start', 'peak_end']\n",
    "bg = BedTool.from_dataframe(df_[col_]).genome_coverage(bg=True, g='shared/ce10.chroms').to_dataframe()\n",
    "fp_bg = 'annot/Fig2S3_overlaps/modERN_modENCODE/modERN_modENCODE_peak_pileup.bedGraph'\n",
    "fp_bw = 'annot/Fig2S3_overlaps/modERN_modENCODE/modERN_modENCODE_peak_pileup.bw'\n",
    "bg.to_csv(fp_bg, header=False, index=False, sep='\\t')\n",
    "\n",
    "# convert track to bigWig\n",
    "!bedGraphToBigWig {fp_bg} shared/ce10.chroms {fp_bw}\n",
    "!rm {fp_bg}"
   ]
  },
  {
   "cell_type": "code",
   "execution_count": 4,
   "metadata": {
    "ExecuteTime": {
     "end_time": "2018-02-26T15:04:11.195805Z",
     "start_time": "2018-02-26T15:04:09.277220Z"
    }
   },
   "outputs": [
    {
     "name": "stdout",
     "output_type": "stream",
     "text": [
      "36389 annot/Fig2S3_overlaps/modERN_modENCODE/modERN_modENCODE_ext200_merge.bed\r\n"
     ]
    }
   ],
   "source": [
    "# modENCODE/modERN TFBS\n",
    "df_ext200_ = pd.DataFrame()\n",
    "df_ext200_['chrom'] = df_['summit_chrom']\n",
    "df_ext200_['start'] = df_['summit_start'] - 200\n",
    "df_ext200_['end'] = df_['summit_end'] + 200\n",
    "df_ext200_['name'] = df_['file_accession']\n",
    "df_ext200_merge_ = BedTool.from_dataframe(df_ext200_.query('chrom != \"chrM\"')).merge(c='4', o='count').to_dataframe()\n",
    "fp_ = 'annot/Fig2S3_overlaps/modERN_modENCODE/modERN_modENCODE_ext200_merge.bed'\n",
    "df_ext200_merge_.to_csv(fp_, sep='\\t', index=False, header=False)\n",
    "!wc -l {fp_}"
   ]
  }
 ],
 "metadata": {
  "kernelspec": {
   "display_name": "Python 3",
   "language": "python",
   "name": "python3"
  },
  "language_info": {
   "codemirror_mode": {
    "name": "ipython",
    "version": 3
   },
   "file_extension": ".py",
   "mimetype": "text/x-python",
   "name": "python",
   "nbconvert_exporter": "python",
   "pygments_lexer": "ipython3",
   "version": "3.6.2"
  }
 },
 "nbformat": 4,
 "nbformat_minor": 2
}
