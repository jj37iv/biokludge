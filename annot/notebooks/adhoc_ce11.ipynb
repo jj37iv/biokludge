{
 "cells": [
  {
   "cell_type": "code",
   "execution_count": 1,
   "metadata": {
    "ExecuteTime": {
     "end_time": "2018-05-14T16:29:49.670748Z",
     "start_time": "2018-05-14T16:29:44.646849Z"
    }
   },
   "outputs": [
    {
     "name": "stderr",
     "output_type": "stream",
     "text": [
      "/mnt/home3/jj374/anaconda36/lib/python3.6/site-packages/statsmodels/compat/pandas.py:56: FutureWarning: The pandas.core.datetools module is deprecated and will be removed in a future version. Please use the pandas.tseries module instead.\n",
      "  from pandas.core import datetools\n"
     ]
    },
    {
     "name": "stdout",
     "output_type": "stream",
     "text": [
      "os.getcwd(): /mnt/beegfs/scratch_copy/ahringer/jj374/lab/relmapping\n"
     ]
    }
   ],
   "source": [
    "%run ~/relmapping/annot/notebooks/__init__.ipynb"
   ]
  },
  {
   "cell_type": "code",
   "execution_count": 2,
   "metadata": {
    "ExecuteTime": {
     "end_time": "2018-05-14T16:29:51.266623Z",
     "start_time": "2018-05-14T16:29:49.672947Z"
    }
   },
   "outputs": [
    {
     "name": "stdout",
     "output_type": "stream",
     "text": [
      "Input file  = /mnt/home1/ahringer/jj374/lab/HTSProcessing/.liftover/fp_inp.tsv \r\n",
      "Output file = /mnt/home1/ahringer/jj374/lab/HTSProcessing/.liftover/fp_out.tsv \r\n",
      "Lines processed from input file              = 122\r\n",
      "Comment / blank lines written to output file = 0\r\n",
      "Data lines written to output file            = 122\r\n",
      "Number of records changed                    = 116\r\n"
     ]
    }
   ],
   "source": [
    "# Liftover coordinates to ce11\n",
    "def liftover_(chroms, starts, ends):#, ends, strands): # Liftover wrapper\n",
    "    \"\"\"\n",
    "    # http://www.ncbi.nlm.nih.gov/pmc/articles/PMC4512556/\n",
    "    # note that while annotations changed, the N2 genome sequence remained identical from WS215 through WS234\n",
    "    Test: \n",
    "    list(liftover_WS230_WS220(\n",
    "    chroms=['chrI', 'chrX', 'chrIII', 'chrV', 'chrIV', 'chrII'],\n",
    "    starts=[1,1,4,1,1, 1],\n",
    "    ends=[12507921,13713648,471811,15465174,11718826, 11718826],\n",
    "    strands=['+', '-', '+', '-', '+']))\n",
    "    \"\"\"\n",
    "    fp_inp = '/mnt/home1/ahringer/jj374/lab/HTSProcessing/.liftover/fp_inp.tsv'\n",
    "    fp_out = '/mnt/home1/ahringer/jj374/lab/HTSProcessing/.liftover/fp_out.tsv'\n",
    "    with open(fp_inp, 'w') as fh_inp:\n",
    "        #for (chrom, start, end, strand) in zip(chroms, starts, ends, strands):        \n",
    "        for (chrom, start, end) in zip(chroms, starts, ends):\n",
    "            print('%s\\t%s\\t%s' % (chrom, start, end), file=fh_inp)\n",
    "\n",
    "    liftover_bin = '/mnt/home1/ahringer/jj374/lab/raw_data/datastore/Kenneth_Evans/ConvertWormAssembly-1-0-0/ConvertWormAssembly.1.0.0.pl'\n",
    "    liftover_dir = '/mnt/home1/ahringer/jj374/lab/raw_data/datastore/Kenneth_Evans/ConvertWormAssembly-1-0-0/CHROMOSOME-DIFFERENCES-to-WS244'\n",
    "    !{liftover_bin} \\\n",
    "        --input={fp_inp} \\\n",
    "        --output={fp_out} \\\n",
    "        --release1=WS220 \\\n",
    "        --release2=WS235 \\\n",
    "        --chrfield=1 \\\n",
    "        --posfield=2 \\\n",
    "        --posfield=3 \\\n",
    "        --postype=0 \\\n",
    "        --postype=1 \\\n",
    "        --refdir={liftover_dir}\n",
    "    \n",
    "    df_out = pd.read_csv(fp_out, sep='\\t', names=['chrom', 'start', 'end'])\n",
    "    for i, r in df_out.iterrows():\n",
    "        yield((r['chrom'], r['start'], r['end']))\n",
    "\n",
    "\n",
    "df_ = pd.read_csv('shared/ce10_blacklist.bed', sep='\\t', names=yp.NAMES_BED3)\n",
    "df_ = pd.DataFrame.from_records(liftover_(df_['chrom'], df_['start'], df_['end']), columns=yp.NAMES_BED3)\n",
    "df_.to_csv('shared/ce11_blacklist.bed', sep='\\t', index=False, header=False)"
   ]
  }
 ],
 "metadata": {
  "kernelspec": {
   "display_name": "Python 3",
   "language": "python",
   "name": "python3"
  },
  "language_info": {
   "codemirror_mode": {
    "name": "ipython",
    "version": 3
   },
   "file_extension": ".py",
   "mimetype": "text/x-python",
   "name": "python",
   "nbconvert_exporter": "python",
   "pygments_lexer": "ipython3",
   "version": "3.6.2"
  }
 },
 "nbformat": 4,
 "nbformat_minor": 2
}
