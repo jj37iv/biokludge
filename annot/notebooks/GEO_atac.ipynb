{
 "cells": [
  {
   "cell_type": "code",
   "execution_count": 1,
   "metadata": {
    "ExecuteTime": {
     "end_time": "2018-05-08T10:38:40.201037Z",
     "start_time": "2018-05-08T10:38:34.020446Z"
    }
   },
   "outputs": [
    {
     "name": "stderr",
     "output_type": "stream",
     "text": [
      "/mnt/home3/jj374/anaconda36/lib/python3.6/site-packages/statsmodels/compat/pandas.py:56: FutureWarning: The pandas.core.datetools module is deprecated and will be removed in a future version. Please use the pandas.tseries module instead.\n",
      "  from pandas.core import datetools\n"
     ]
    },
    {
     "name": "stdout",
     "output_type": "stream",
     "text": [
      "os.getcwd(): /mnt/beegfs/scratch_copy/ahringer/jj374/lab/relmapping\n"
     ]
    }
   ],
   "source": [
    "%run ~/relmapping/annot/notebooks/__init__.ipynb"
   ]
  },
  {
   "cell_type": "code",
   "execution_count": 2,
   "metadata": {
    "ExecuteTime": {
     "end_time": "2018-05-08T10:38:47.161509Z",
     "start_time": "2018-05-08T10:38:40.205073Z"
    }
   },
   "outputs": [
    {
     "name": "stdout",
     "output_type": "stream",
     "text": [
      "6382c56d3a3c6cc25c46e4bcf6589a73\n",
      "77edcbdd2221c27d7a00b7f8bcb7c7b9\n",
      "3804a389b3389cb8bfc0355b633abd55\n",
      "6c99bf3241e32b7c4dd3a28f377edd70\n",
      "da8d09bb2a1703b6843cb05ee12a78f9\n",
      "5a818c26a206fd7c94e1c51af128a5de\n",
      "08f2eb374e6e20f66aed949dcfa30c9e\n",
      "a9f6490bfa2be3a935a101213c0e21bb\n",
      "36a5df989f8098c05c4b59ce1b405696\n",
      "c7a4e7f3c300091410d60dd31085d5a0\n",
      "e853e910c192fbec75f792fef74116a7\n"
     ]
    }
   ],
   "source": [
    "for stage in config['stages']:\n",
    "    fp = 'atac814_geo/tracks/atac_%s.bw' % (stage,)\n",
    "    !md5sum {fp} | awk '{{print $$1}}'"
   ]
  },
  {
   "cell_type": "code",
   "execution_count": 3,
   "metadata": {
    "ExecuteTime": {
     "end_time": "2018-05-08T10:38:50.898548Z",
     "start_time": "2018-05-08T10:38:47.165187Z"
    }
   },
   "outputs": [
    {
     "name": "stdout",
     "output_type": "stream",
     "text": [
      "04f06e0f97e9dee59ba04499a5b3bbdd\n",
      "aaf8bc6a31c24b9b2784cbca3ad9cae2\n",
      "695cff3116883a33c9b59d4b1a63d069\n",
      "bbbd654411c580e3c220c0aa5c251be3\n",
      "4609e7d3d5639c13ac18c4aac0e872c6\n",
      "fa7f8fef5cc5c6ed48c76caa11cbf368\n",
      "36aedbf10eac58fb811a0d73099f2529\n",
      "076510408707ac2e67a16c44ecacaa08\n",
      "e73c55cabc382bc90f1338516bfecb8c\n",
      "e3f2712ad6838dd2c2c9e3fb89575a69\n",
      "ec7673917698198756f126778851cae7\n",
      "4c9c3e5d3eae255881683b5a6c70a37d\n",
      "33e9589fb621f22f0ff2f7512bb8fd52\n",
      "7f22404690fddf6320bff1cd64c44e62\n",
      "d28ef23b03972da07f46f68e8cf7d01e\n",
      "ac9aac41427175948a190bdeda1955f6\n",
      "cef1eda984fede08acbf8e87250215a1\n",
      "e0d53ba6940bc07baf23e14a2b3a54da\n",
      "3a93695c49bbc107603f2c41a7902550\n",
      "05afbba3ed46f73be0ff2e32df9294be\n",
      "76ee7a87c8ce5aa2bcefc6de5172c7cb\n",
      "884bab9bcf7f9ad987e1b56e2d2e737b\n",
      "5e4e6868f3fb7a8b730678743681f619\n",
      "dec5084daf9a0815900e0087a91ab9c9\n",
      "88c570bd07d38c67f0f73c289631216d\n",
      "7b5f3d1003c346f9667f4fd6af86dea4\n",
      "1f1ca66245fbb7958c1333e035f6bf9e\n",
      "e2bcae2e3238b579b9d5e08cb149187d\n",
      "d7868726080ad7449b15af5891bd0eb2\n",
      "c02fbc8f03c1fc4dce46639087d03ce9\n"
     ]
    }
   ],
   "source": [
    "# file checksum -- glp1, read1 only\n",
    "for sample in list(config['atac814_se'].keys()):\n",
    "    fp = pf('atac814_' + sample, 'md5sum_r1', '.txt', 'atac814')\n",
    "    !cat {fp} | awk '{{print $$1}}'"
   ]
  },
  {
   "cell_type": "code",
   "execution_count": 4,
   "metadata": {
    "ExecuteTime": {
     "end_time": "2018-05-08T10:38:53.509485Z",
     "start_time": "2018-05-08T10:38:50.901664Z"
    }
   },
   "outputs": [
    {
     "name": "stdout",
     "output_type": "stream",
     "text": [
      "7db7fc80c05c213552a1320ec2a8e6ae\n",
      "adb761ac75d00b7affe0fc65c7c09b4f\n",
      "d51dfe34c55df1aad1de7533a31c97c0\n",
      "db44b7abcc62e1460a8f9f54f8f2f8ea\n",
      "d3d9e8911160abf17e3ca338da9bc619\n",
      "33c7817c1b79453013bd84c55ad0b9c2\n",
      "c7b5789f39e9022e8174de78c542527b\n",
      "4513135672b949c3ffe15be77c0211d9\n",
      "a578e129e0223c7799a1d272d0ca7a8a\n",
      "19e8e9e8b64d1371f8d7338dacc29a9b\n",
      "fce120e42c3d1039df8726dc5c08b87a\n",
      "10afd1f4cf1b36b27e783d50962d10d4\n",
      "d7aebd358e64353c6a05a8030dd9bdfa\n",
      "f52512957f26454252a637ffc86f8448\n",
      "948c3e83b976bae9a0f1087d779e90c6\n",
      "34ca2dc7012be686bf375c91e21a4526\n",
      "5bf7d853b654af16a4daab3ca7842344\n",
      "48b560f7537dc8203dc69eb79e844d4e\n",
      "13f9e75b8a2182c1074ecd80ecd50a07\n",
      "8ecfc5983be450df51d95ed04cac5753\n",
      "611d5628a856727a22f5a3b4fc52507e\n"
     ]
    }
   ],
   "source": [
    "# file checksum -- glp1, read1 only\n",
    "for sample in list(config['atac814_pe'].keys()):\n",
    "    fp = pf('atac814_' + sample, 'md5sum_r1', '.txt', 'atac814')\n",
    "    !cat {fp} | awk '{{print $$1}}'"
   ]
  },
  {
   "cell_type": "code",
   "execution_count": 5,
   "metadata": {
    "ExecuteTime": {
     "end_time": "2018-05-08T10:38:56.081903Z",
     "start_time": "2018-05-08T10:38:53.513033Z"
    }
   },
   "outputs": [
    {
     "name": "stdout",
     "output_type": "stream",
     "text": [
      "7db26fb329cf9e9b1eaca964a022c60d\n",
      "8e59e93be82726716f97dadc4a46144b\n",
      "fd0db4057982199d1e60de4eb5d70e4c\n",
      "34c467c39345e8398a158ac9792c96bb\n",
      "76cb8959a4e6d4fac807afd8838abde3\n",
      "95655dd09c2f8314235d20fc3e4d452b\n",
      "ebb6e54a47bdf55ea999d4dc2c3cd66d\n",
      "10116bfa3bceebe679598e22bd7b56d2\n",
      "ab9a061557f6fbd88690fb696a718998\n",
      "587e9adaec98525fff79ed369bd1d6a0\n",
      "b93a17dfe0b00dbf4d3413e967b1f0d6\n",
      "c1788fe75f86558715137186aadd7568\n",
      "2ed6321df31160e7fe789fd1b5b53208\n",
      "81874b2baccac1c62a37ecae15cec6e7\n",
      "daf83918b419c9ed9afbc608f5d54cae\n",
      "2bddbc2ba554d0bcffd723d0af09a584\n",
      "c1c2896d1d6bcd3657ffe069ff60e60c\n",
      "d059dec54dc649661f34dcc6bf004032\n",
      "30f56715a9e9a08d5e74312da7bc4339\n",
      "76a415cecebfc9f96351022117ed9431\n",
      "96f2732239f0cfa1b981146d3e389f15\n"
     ]
    }
   ],
   "source": [
    "# file checksum -- glp1, read1 only\n",
    "for sample in list(config['atac814_pe'].keys()):\n",
    "    fp = pf('atac814_' + sample, 'md5sum_r2', '.txt', 'atac814')\n",
    "    !cat {fp} | awk '{{print $$1}}'"
   ]
  },
  {
   "cell_type": "code",
   "execution_count": 6,
   "metadata": {
    "ExecuteTime": {
     "end_time": "2018-05-08T10:38:59.711602Z",
     "start_time": "2018-05-08T10:38:56.085713Z"
    }
   },
   "outputs": [
    {
     "name": "stdout",
     "output_type": "stream",
     "text": [
      "51\n",
      "51\n",
      "51\n",
      "51\n",
      "51\n",
      "51\n",
      "51\n",
      "51\n",
      "51\n",
      "51\n",
      "51\n",
      "51\n",
      "51\n",
      "51\n",
      "51\n",
      "51\n",
      "51\n",
      "51\n",
      "51\n",
      "51\n",
      "51\n",
      "51\n",
      "51\n",
      "51\n",
      "51\n",
      "51\n",
      "51\n",
      "51\n",
      "51\n",
      "51\n"
     ]
    }
   ],
   "source": [
    "# readlen -- glp1, read1 only\n",
    "for sample in list(config['atac814_se'].keys()):\n",
    "    fp = pf('atac814_' + sample, 'readlen_r1', '.txt', 'atac814')\n",
    "    !cat {fp} #| awk '{{print $$1}}'\n",
    "    print()"
   ]
  },
  {
   "cell_type": "code",
   "execution_count": 7,
   "metadata": {
    "ExecuteTime": {
     "end_time": "2018-05-08T10:39:02.283814Z",
     "start_time": "2018-05-08T10:38:59.714545Z"
    }
   },
   "outputs": [
    {
     "name": "stdout",
     "output_type": "stream",
     "text": [
      "32\n",
      "32\n",
      "51\n",
      "51\n",
      "32\n",
      "32\n",
      "32\n",
      "51\n",
      "36\n",
      "32\n",
      "51\n",
      "36\n",
      "32\n",
      "51\n",
      "32\n",
      "36\n",
      "32\n",
      "50\n",
      "32\n",
      "32\n",
      "50\n"
     ]
    }
   ],
   "source": [
    "# readlen -- wt, read1 \n",
    "for sample in list(config['atac814_pe'].keys()):\n",
    "    fp = pf('atac814_' + sample, 'readlen_r1', '.txt', 'atac814')\n",
    "    !cat {fp} #| awk '{{print $$1}}'\n",
    "    print()"
   ]
  },
  {
   "cell_type": "code",
   "execution_count": 8,
   "metadata": {
    "ExecuteTime": {
     "end_time": "2018-05-08T10:39:04.848871Z",
     "start_time": "2018-05-08T10:39:02.287165Z"
    }
   },
   "outputs": [
    {
     "name": "stdout",
     "output_type": "stream",
     "text": [
      "32\n",
      "32\n",
      "51\n",
      "51\n",
      "32\n",
      "32\n",
      "32\n",
      "51\n",
      "36\n",
      "32\n",
      "51\n",
      "36\n",
      "32\n",
      "51\n",
      "32\n",
      "36\n",
      "32\n",
      "50\n",
      "32\n",
      "32\n",
      "50\n"
     ]
    }
   ],
   "source": [
    "# readlen -- wt, read2\n",
    "for sample in list(config['atac814_pe'].keys()):\n",
    "    fp = pf('atac814_' + sample, 'readlen_r2', '.txt', 'atac814')\n",
    "    !cat {fp} #| awk '{{print $$1}}'\n",
    "    print()"
   ]
  },
  {
   "cell_type": "code",
   "execution_count": 9,
   "metadata": {
    "ExecuteTime": {
     "end_time": "2018-05-08T10:39:10.215361Z",
     "start_time": "2018-05-08T10:39:04.851938Z"
    }
   },
   "outputs": [
    {
     "name": "stdout",
     "output_type": "stream",
     "text": [
      "158\n",
      "171\n",
      "207\n",
      "213\n",
      "140\n",
      "186\n",
      "181\n",
      "162\n",
      "148\n",
      "148\n",
      "168\n",
      "154\n",
      "153\n",
      "193\n",
      "172\n",
      "184\n",
      "188\n",
      "152\n",
      "142\n",
      "140\n",
      "212\n"
     ]
    }
   ],
   "source": [
    "# mean read length\n",
    "for sample in itertools.islice(config['atac814_pe'].keys(), None):\n",
    "    fp = pf('atac814_' + sample, 'tg_pe.bwa_pe.rm_unmapped_pe.rm_chrM.rm_blacklist.rm_q10.fsizes', '.txt', 'atac814')\n",
    "    df = pd.read_csv(fp, sep='\\t', names=['size', 'count'])#.head()\n",
    "    l_len = list(itertools.chain(*[itertools.repeat(size, count) for (size, count) in zip(df['size'], df['count'])]))\n",
    "    mean1 = np.average(df['size'], weights=df['count'])\n",
    "    #mean2 = np.mean(l_len)\n",
    "    #print(mean1, mean2)\n",
    "    print('%d' % (mean1,))\n",
    "    #print('%s %d' % (sample, mean1))"
   ]
  },
  {
   "cell_type": "code",
   "execution_count": 10,
   "metadata": {
    "ExecuteTime": {
     "end_time": "2018-05-08T10:39:38.447432Z",
     "start_time": "2018-05-08T10:39:10.217419Z"
    }
   },
   "outputs": [
    {
     "name": "stdout",
     "output_type": "stream",
     "text": [
      "113\n",
      "130\n",
      "192\n",
      "192\n",
      "103\n",
      "123\n",
      "118\n",
      "127\n",
      "114\n",
      "118\n",
      "131\n",
      "118\n",
      "122\n",
      "166\n",
      "149\n",
      "125\n",
      "134\n",
      "87\n",
      "95\n",
      "92\n",
      "153\n"
     ]
    }
   ],
   "source": [
    "for sample in itertools.islice(config['atac814_pe'].keys(), None):\n",
    "    fp = pf('atac814_' + sample, 'tg_pe.bwa_pe.rm_unmapped_pe.rm_chrM.rm_blacklist.rm_q10.fsizes', '.txt', 'atac814')\n",
    "    df = pd.read_csv(fp, sep='\\t', names=['size', 'count'])#.head()\n",
    "    l_len = list(itertools.chain(*[itertools.repeat(size, count) for (size, count) in zip(df['size'], df['count'])]))\n",
    "    print('%d' % (np.std(l_len),))"
   ]
  },
  {
   "cell_type": "code",
   "execution_count": null,
   "metadata": {
    "collapsed": true
   },
   "outputs": [],
   "source": []
  }
 ],
 "metadata": {
  "kernelspec": {
   "display_name": "Python 3",
   "language": "python",
   "name": "python3"
  },
  "language_info": {
   "codemirror_mode": {
    "name": "ipython",
    "version": 3
   },
   "file_extension": ".py",
   "mimetype": "text/x-python",
   "name": "python",
   "nbconvert_exporter": "python",
   "pygments_lexer": "ipython3",
   "version": "3.6.2"
  }
 },
 "nbformat": 4,
 "nbformat_minor": 2
}
