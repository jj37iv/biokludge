{
 "cells": [
  {
   "cell_type": "code",
   "execution_count": 1,
   "metadata": {
    "ExecuteTime": {
     "end_time": "2018-05-02T13:16:38.232456Z",
     "start_time": "2018-05-02T13:16:27.944854Z"
    }
   },
   "outputs": [
    {
     "name": "stderr",
     "output_type": "stream",
     "text": [
      "/mnt/home3/jj374/anaconda36/lib/python3.6/site-packages/statsmodels/compat/pandas.py:56: FutureWarning: The pandas.core.datetools module is deprecated and will be removed in a future version. Please use the pandas.tseries module instead.\n",
      "  from pandas.core import datetools\n"
     ]
    },
    {
     "name": "stdout",
     "output_type": "stream",
     "text": [
      "os.getcwd(): /mnt/beegfs/scratch_copy/ahringer/jj374/lab/relmapping\n"
     ]
    }
   ],
   "source": [
    "%run ~/relmapping/annot/notebooks/__init__.ipynb"
   ]
  },
  {
   "cell_type": "code",
   "execution_count": 2,
   "metadata": {
    "ExecuteTime": {
     "end_time": "2018-05-02T13:16:45.813977Z",
     "start_time": "2018-05-02T13:16:38.249692Z"
    }
   },
   "outputs": [
    {
     "name": "stdout",
     "output_type": "stream",
     "text": [
      "46742 gene records loaded\n",
      "42245 regions loaded\n"
     ]
    }
   ],
   "source": [
    "df_genes = pd.read_csv('WS260_ce10/WS260_ce10.genes_by_CV.tsv', sep='\\t').drop_duplicates(subset=['gene_id'])\n",
    "print('%d gene records loaded' % (len(df_genes),))\n",
    "\n",
    "fp_regl = 'annot/S2_regulatory_annotation/S2_regulatory_annotation.tsv'\n",
    "df_regl = pd.read_csv(fp_regl, sep='\\t')\n",
    "print('%d regions loaded' % (len(df_regl),))"
   ]
  },
  {
   "cell_type": "code",
   "execution_count": 3,
   "metadata": {
    "ExecuteTime": {
     "end_time": "2018-05-02T13:16:46.259886Z",
     "start_time": "2018-05-02T13:16:45.824732Z"
    }
   },
   "outputs": [
    {
     "data": {
      "text/html": [
       "<div>\n",
       "<style>\n",
       "    .dataframe thead tr:only-child th {\n",
       "        text-align: right;\n",
       "    }\n",
       "\n",
       "    .dataframe thead th {\n",
       "        text-align: left;\n",
       "    }\n",
       "\n",
       "    .dataframe tbody tr th {\n",
       "        vertical-align: top;\n",
       "    }\n",
       "</style>\n",
       "<table border=\"1\" class=\"dataframe\">\n",
       "  <thead>\n",
       "    <tr style=\"text-align: right;\">\n",
       "      <th></th>\n",
       "      <th>chrom</th>\n",
       "      <th>source</th>\n",
       "      <th>feature</th>\n",
       "      <th>start</th>\n",
       "      <th>end</th>\n",
       "      <th>score</th>\n",
       "      <th>strand</th>\n",
       "      <th>frame</th>\n",
       "      <th>gene_id</th>\n",
       "      <th>gene_source</th>\n",
       "      <th>...</th>\n",
       "      <th>Gerstein2014_L4</th>\n",
       "      <th>Gerstein2014_YA</th>\n",
       "      <th>Gerstein2014_CV</th>\n",
       "      <th>Latorre2015_oscillatory</th>\n",
       "      <th>Gerstein2014_max_rank</th>\n",
       "      <th>Gerstein2014_top15k_CV_rank</th>\n",
       "      <th>color</th>\n",
       "      <th>operon_id</th>\n",
       "      <th>operon_rank</th>\n",
       "      <th>n_promoter</th>\n",
       "    </tr>\n",
       "  </thead>\n",
       "  <tbody>\n",
       "    <tr>\n",
       "      <th>0</th>\n",
       "      <td>chrI</td>\n",
       "      <td>WormBase</td>\n",
       "      <td>gene</td>\n",
       "      <td>3747</td>\n",
       "      <td>3909</td>\n",
       "      <td>.</td>\n",
       "      <td>-</td>\n",
       "      <td>.</td>\n",
       "      <td>WBGene00023193</td>\n",
       "      <td>WormBase</td>\n",
       "      <td>...</td>\n",
       "      <td>NaN</td>\n",
       "      <td>NaN</td>\n",
       "      <td>NaN</td>\n",
       "      <td>NaN</td>\n",
       "      <td>NaN</td>\n",
       "      <td>NaN</td>\n",
       "      <td>#56b4e9</td>\n",
       "      <td>.</td>\n",
       "      <td>0</td>\n",
       "      <td>0.0</td>\n",
       "    </tr>\n",
       "    <tr>\n",
       "      <th>1</th>\n",
       "      <td>chrI</td>\n",
       "      <td>WormBase</td>\n",
       "      <td>gene</td>\n",
       "      <td>4116</td>\n",
       "      <td>10230</td>\n",
       "      <td>.</td>\n",
       "      <td>-</td>\n",
       "      <td>.</td>\n",
       "      <td>WBGene00022277</td>\n",
       "      <td>WormBase</td>\n",
       "      <td>...</td>\n",
       "      <td>17.771486</td>\n",
       "      <td>29.094286</td>\n",
       "      <td>0.232</td>\n",
       "      <td>False</td>\n",
       "      <td>7674.0</td>\n",
       "      <td>4526.5</td>\n",
       "      <td>#e69f00</td>\n",
       "      <td>.</td>\n",
       "      <td>0</td>\n",
       "      <td>1.0</td>\n",
       "    </tr>\n",
       "    <tr>\n",
       "      <th>2</th>\n",
       "      <td>chrI</td>\n",
       "      <td>WormBase</td>\n",
       "      <td>gene</td>\n",
       "      <td>11495</td>\n",
       "      <td>16837</td>\n",
       "      <td>.</td>\n",
       "      <td>+</td>\n",
       "      <td>.</td>\n",
       "      <td>WBGene00022276</td>\n",
       "      <td>WormBase</td>\n",
       "      <td>...</td>\n",
       "      <td>134.416857</td>\n",
       "      <td>184.178286</td>\n",
       "      <td>0.517</td>\n",
       "      <td>False</td>\n",
       "      <td>453.0</td>\n",
       "      <td>7542.5</td>\n",
       "      <td>#0072b2</td>\n",
       "      <td>.</td>\n",
       "      <td>0</td>\n",
       "      <td>1.0</td>\n",
       "    </tr>\n",
       "    <tr>\n",
       "      <th>3</th>\n",
       "      <td>chrI</td>\n",
       "      <td>WormBase</td>\n",
       "      <td>gene</td>\n",
       "      <td>17487</td>\n",
       "      <td>26781</td>\n",
       "      <td>.</td>\n",
       "      <td>-</td>\n",
       "      <td>.</td>\n",
       "      <td>WBGene00022278</td>\n",
       "      <td>WormBase</td>\n",
       "      <td>...</td>\n",
       "      <td>19.295486</td>\n",
       "      <td>43.583714</td>\n",
       "      <td>0.136</td>\n",
       "      <td>False</td>\n",
       "      <td>5745.0</td>\n",
       "      <td>1928.5</td>\n",
       "      <td>#e69f00</td>\n",
       "      <td>.</td>\n",
       "      <td>0</td>\n",
       "      <td>1.0</td>\n",
       "    </tr>\n",
       "    <tr>\n",
       "      <th>4</th>\n",
       "      <td>chrI</td>\n",
       "      <td>WormBase</td>\n",
       "      <td>gene</td>\n",
       "      <td>22882</td>\n",
       "      <td>23600</td>\n",
       "      <td>.</td>\n",
       "      <td>-</td>\n",
       "      <td>.</td>\n",
       "      <td>WBGene00235381</td>\n",
       "      <td>WormBase</td>\n",
       "      <td>...</td>\n",
       "      <td>NaN</td>\n",
       "      <td>NaN</td>\n",
       "      <td>NaN</td>\n",
       "      <td>NaN</td>\n",
       "      <td>NaN</td>\n",
       "      <td>NaN</td>\n",
       "      <td>#56b4e9</td>\n",
       "      <td>.</td>\n",
       "      <td>0</td>\n",
       "      <td>0.0</td>\n",
       "    </tr>\n",
       "  </tbody>\n",
       "</table>\n",
       "<p>5 rows × 27 columns</p>\n",
       "</div>"
      ],
      "text/plain": [
       "  chrom    source feature  start    end score strand frame         gene_id  \\\n",
       "0  chrI  WormBase    gene   3747   3909     .      -     .  WBGene00023193   \n",
       "1  chrI  WormBase    gene   4116  10230     .      -     .  WBGene00022277   \n",
       "2  chrI  WormBase    gene  11495  16837     .      +     .  WBGene00022276   \n",
       "3  chrI  WormBase    gene  17487  26781     .      -     .  WBGene00022278   \n",
       "4  chrI  WormBase    gene  22882  23600     .      -     .  WBGene00235381   \n",
       "\n",
       "  gene_source     ...     Gerstein2014_L4 Gerstein2014_YA Gerstein2014_CV  \\\n",
       "0    WormBase     ...                 NaN             NaN             NaN   \n",
       "1    WormBase     ...           17.771486       29.094286           0.232   \n",
       "2    WormBase     ...          134.416857      184.178286           0.517   \n",
       "3    WormBase     ...           19.295486       43.583714           0.136   \n",
       "4    WormBase     ...                 NaN             NaN             NaN   \n",
       "\n",
       "   Latorre2015_oscillatory  Gerstein2014_max_rank  \\\n",
       "0                      NaN                    NaN   \n",
       "1                    False                 7674.0   \n",
       "2                    False                  453.0   \n",
       "3                    False                 5745.0   \n",
       "4                      NaN                    NaN   \n",
       "\n",
       "   Gerstein2014_top15k_CV_rank    color  operon_id  operon_rank  n_promoter  \n",
       "0                          NaN  #56b4e9          .            0         0.0  \n",
       "1                       4526.5  #e69f00          .            0         1.0  \n",
       "2                       7542.5  #0072b2          .            0         1.0  \n",
       "3                       1928.5  #e69f00          .            0         1.0  \n",
       "4                          NaN  #56b4e9          .            0         0.0  \n",
       "\n",
       "[5 rows x 27 columns]"
      ]
     },
     "execution_count": 3,
     "metadata": {},
     "output_type": "execute_result"
    }
   ],
   "source": [
    "l_ = list(df_regl.query('annot_fwd == \"coding_promoter\"')['promoter_gene_id_fwd'])\\\n",
    "   + list(df_regl.query('annot_rev == \"coding_promoter\"')['promoter_gene_id_rev'])\n",
    "s_ = pd.Series(list(filter(lambda gene_id: gene_id != '.', l_)))\n",
    "df_ = pd.DataFrame(s_.value_counts(), columns=['n_promoter'])\n",
    "pr_ = df_genes.merge(df_, left_on='gene_id', right_index=True, how='left')['n_promoter']\n",
    "df_genes['n_promoter'] = list(map(lambda n: n if n==n else 0, pr_))\n",
    "df_genes.head()"
   ]
  },
  {
   "cell_type": "code",
   "execution_count": 4,
   "metadata": {
    "ExecuteTime": {
     "end_time": "2018-05-02T13:16:46.538384Z",
     "start_time": "2018-05-02T13:16:46.261473Z"
    }
   },
   "outputs": [
    {
     "data": {
      "text/html": [
       "<div>\n",
       "<style>\n",
       "    .dataframe thead tr:only-child th {\n",
       "        text-align: right;\n",
       "    }\n",
       "\n",
       "    .dataframe thead th {\n",
       "        text-align: left;\n",
       "    }\n",
       "\n",
       "    .dataframe tbody tr th {\n",
       "        vertical-align: top;\n",
       "    }\n",
       "</style>\n",
       "<table border=\"1\" class=\"dataframe\">\n",
       "  <thead>\n",
       "    <tr style=\"text-align: right;\">\n",
       "      <th></th>\n",
       "      <th>chrom</th>\n",
       "      <th>source</th>\n",
       "      <th>feature</th>\n",
       "      <th>start</th>\n",
       "      <th>end</th>\n",
       "      <th>score</th>\n",
       "      <th>strand</th>\n",
       "      <th>frame</th>\n",
       "      <th>gene_id</th>\n",
       "      <th>gene_source</th>\n",
       "      <th>...</th>\n",
       "      <th>Gerstein2014_YA</th>\n",
       "      <th>Gerstein2014_CV</th>\n",
       "      <th>Latorre2015_oscillatory</th>\n",
       "      <th>Gerstein2014_max_rank</th>\n",
       "      <th>Gerstein2014_top15k_CV_rank</th>\n",
       "      <th>color</th>\n",
       "      <th>operon_id</th>\n",
       "      <th>operon_rank</th>\n",
       "      <th>n_promoter</th>\n",
       "      <th>n_putative_enhancer</th>\n",
       "    </tr>\n",
       "  </thead>\n",
       "  <tbody>\n",
       "    <tr>\n",
       "      <th>0</th>\n",
       "      <td>chrI</td>\n",
       "      <td>WormBase</td>\n",
       "      <td>gene</td>\n",
       "      <td>3747</td>\n",
       "      <td>3909</td>\n",
       "      <td>.</td>\n",
       "      <td>-</td>\n",
       "      <td>.</td>\n",
       "      <td>WBGene00023193</td>\n",
       "      <td>WormBase</td>\n",
       "      <td>...</td>\n",
       "      <td>NaN</td>\n",
       "      <td>NaN</td>\n",
       "      <td>NaN</td>\n",
       "      <td>NaN</td>\n",
       "      <td>NaN</td>\n",
       "      <td>#56b4e9</td>\n",
       "      <td>.</td>\n",
       "      <td>0</td>\n",
       "      <td>0.0</td>\n",
       "      <td>0.0</td>\n",
       "    </tr>\n",
       "    <tr>\n",
       "      <th>1</th>\n",
       "      <td>chrI</td>\n",
       "      <td>WormBase</td>\n",
       "      <td>gene</td>\n",
       "      <td>4116</td>\n",
       "      <td>10230</td>\n",
       "      <td>.</td>\n",
       "      <td>-</td>\n",
       "      <td>.</td>\n",
       "      <td>WBGene00022277</td>\n",
       "      <td>WormBase</td>\n",
       "      <td>...</td>\n",
       "      <td>29.094286</td>\n",
       "      <td>0.232</td>\n",
       "      <td>False</td>\n",
       "      <td>7674.0</td>\n",
       "      <td>4526.5</td>\n",
       "      <td>#e69f00</td>\n",
       "      <td>.</td>\n",
       "      <td>0</td>\n",
       "      <td>1.0</td>\n",
       "      <td>1.0</td>\n",
       "    </tr>\n",
       "    <tr>\n",
       "      <th>2</th>\n",
       "      <td>chrI</td>\n",
       "      <td>WormBase</td>\n",
       "      <td>gene</td>\n",
       "      <td>11495</td>\n",
       "      <td>16837</td>\n",
       "      <td>.</td>\n",
       "      <td>+</td>\n",
       "      <td>.</td>\n",
       "      <td>WBGene00022276</td>\n",
       "      <td>WormBase</td>\n",
       "      <td>...</td>\n",
       "      <td>184.178286</td>\n",
       "      <td>0.517</td>\n",
       "      <td>False</td>\n",
       "      <td>453.0</td>\n",
       "      <td>7542.5</td>\n",
       "      <td>#0072b2</td>\n",
       "      <td>.</td>\n",
       "      <td>0</td>\n",
       "      <td>1.0</td>\n",
       "      <td>2.0</td>\n",
       "    </tr>\n",
       "    <tr>\n",
       "      <th>3</th>\n",
       "      <td>chrI</td>\n",
       "      <td>WormBase</td>\n",
       "      <td>gene</td>\n",
       "      <td>17487</td>\n",
       "      <td>26781</td>\n",
       "      <td>.</td>\n",
       "      <td>-</td>\n",
       "      <td>.</td>\n",
       "      <td>WBGene00022278</td>\n",
       "      <td>WormBase</td>\n",
       "      <td>...</td>\n",
       "      <td>43.583714</td>\n",
       "      <td>0.136</td>\n",
       "      <td>False</td>\n",
       "      <td>5745.0</td>\n",
       "      <td>1928.5</td>\n",
       "      <td>#e69f00</td>\n",
       "      <td>.</td>\n",
       "      <td>0</td>\n",
       "      <td>1.0</td>\n",
       "      <td>1.0</td>\n",
       "    </tr>\n",
       "    <tr>\n",
       "      <th>4</th>\n",
       "      <td>chrI</td>\n",
       "      <td>WormBase</td>\n",
       "      <td>gene</td>\n",
       "      <td>22882</td>\n",
       "      <td>23600</td>\n",
       "      <td>.</td>\n",
       "      <td>-</td>\n",
       "      <td>.</td>\n",
       "      <td>WBGene00235381</td>\n",
       "      <td>WormBase</td>\n",
       "      <td>...</td>\n",
       "      <td>NaN</td>\n",
       "      <td>NaN</td>\n",
       "      <td>NaN</td>\n",
       "      <td>NaN</td>\n",
       "      <td>NaN</td>\n",
       "      <td>#56b4e9</td>\n",
       "      <td>.</td>\n",
       "      <td>0</td>\n",
       "      <td>0.0</td>\n",
       "      <td>0.0</td>\n",
       "    </tr>\n",
       "  </tbody>\n",
       "</table>\n",
       "<p>5 rows × 28 columns</p>\n",
       "</div>"
      ],
      "text/plain": [
       "  chrom    source feature  start    end score strand frame         gene_id  \\\n",
       "0  chrI  WormBase    gene   3747   3909     .      -     .  WBGene00023193   \n",
       "1  chrI  WormBase    gene   4116  10230     .      -     .  WBGene00022277   \n",
       "2  chrI  WormBase    gene  11495  16837     .      +     .  WBGene00022276   \n",
       "3  chrI  WormBase    gene  17487  26781     .      -     .  WBGene00022278   \n",
       "4  chrI  WormBase    gene  22882  23600     .      -     .  WBGene00235381   \n",
       "\n",
       "  gene_source         ...          Gerstein2014_YA Gerstein2014_CV  \\\n",
       "0    WormBase         ...                      NaN             NaN   \n",
       "1    WormBase         ...                29.094286           0.232   \n",
       "2    WormBase         ...               184.178286           0.517   \n",
       "3    WormBase         ...                43.583714           0.136   \n",
       "4    WormBase         ...                      NaN             NaN   \n",
       "\n",
       "  Latorre2015_oscillatory  Gerstein2014_max_rank  Gerstein2014_top15k_CV_rank  \\\n",
       "0                     NaN                    NaN                          NaN   \n",
       "1                   False                 7674.0                       4526.5   \n",
       "2                   False                  453.0                       7542.5   \n",
       "3                   False                 5745.0                       1928.5   \n",
       "4                     NaN                    NaN                          NaN   \n",
       "\n",
       "     color  operon_id  operon_rank  n_promoter  n_putative_enhancer  \n",
       "0  #56b4e9          .            0         0.0                  0.0  \n",
       "1  #e69f00          .            0         1.0                  1.0  \n",
       "2  #0072b2          .            0         1.0                  2.0  \n",
       "3  #e69f00          .            0         1.0                  1.0  \n",
       "4  #56b4e9          .            0         0.0                  0.0  \n",
       "\n",
       "[5 rows x 28 columns]"
      ]
     },
     "execution_count": 4,
     "metadata": {},
     "output_type": "execute_result"
    }
   ],
   "source": [
    "l_ = list(df_regl.query('annot == \"putative_enhancer\"')['associated_gene_id'])\n",
    "s_ = pd.Series(list(itertools.chain(*list([l_i_.split(',') for l_i_ in filter(lambda gene_id: gene_id != '.', l_)]))))\n",
    "df_ = pd.DataFrame(s_.value_counts(), columns=['n_putative_enhancer'])\n",
    "pe_ = df_genes.merge(df_, left_on='gene_id', right_index=True, how='left')['n_putative_enhancer']\n",
    "df_genes['n_putative_enhancer'] = list(map(lambda n: n if n==n else 0, pe_))\n",
    "df_genes.head()"
   ]
  },
  {
   "cell_type": "code",
   "execution_count": 5,
   "metadata": {
    "ExecuteTime": {
     "end_time": "2018-05-02T13:16:46.591875Z",
     "start_time": "2018-05-02T13:16:46.540673Z"
    }
   },
   "outputs": [
    {
     "data": {
      "text/plain": [
       "0.0    35546\n",
       "1.0     8196\n",
       "2.0     2063\n",
       "3.0      628\n",
       "4.0      215\n",
       "5.0       67\n",
       "6.0       19\n",
       "7.0        7\n",
       "8.0        1\n",
       "Name: n_promoter, dtype: int64"
      ]
     },
     "execution_count": 5,
     "metadata": {},
     "output_type": "execute_result"
    }
   ],
   "source": [
    "df_genes['n_promoter'].value_counts()"
   ]
  },
  {
   "cell_type": "code",
   "execution_count": 6,
   "metadata": {
    "ExecuteTime": {
     "end_time": "2018-05-02T13:16:46.669605Z",
     "start_time": "2018-05-02T13:16:46.600771Z"
    }
   },
   "outputs": [
    {
     "data": {
      "text/plain": [
       "0.0     40074\n",
       "1.0      3428\n",
       "2.0      1361\n",
       "3.0       626\n",
       "4.0       375\n",
       "5.0       218\n",
       "6.0       138\n",
       "7.0        94\n",
       "8.0        88\n",
       "9.0        66\n",
       "10.0       46\n",
       "11.0       42\n",
       "12.0       39\n",
       "13.0       28\n",
       "14.0       17\n",
       "19.0       13\n",
       "17.0       13\n",
       "16.0       12\n",
       "15.0       12\n",
       "18.0       10\n",
       "20.0       10\n",
       "21.0        6\n",
       "24.0        4\n",
       "23.0        4\n",
       "22.0        4\n",
       "25.0        3\n",
       "26.0        3\n",
       "28.0        2\n",
       "27.0        1\n",
       "33.0        1\n",
       "36.0        1\n",
       "34.0        1\n",
       "38.0        1\n",
       "31.0        1\n",
       "Name: n_putative_enhancer, dtype: int64"
      ]
     },
     "execution_count": 6,
     "metadata": {},
     "output_type": "execute_result"
    }
   ],
   "source": [
    "df_genes['n_putative_enhancer'].value_counts()"
   ]
  },
  {
   "cell_type": "code",
   "execution_count": 8,
   "metadata": {
    "ExecuteTime": {
     "end_time": "2018-05-02T13:17:47.327358Z",
     "start_time": "2018-05-02T13:17:45.981987Z"
    }
   },
   "outputs": [
    {
     "name": "stderr",
     "output_type": "stream",
     "text": [
      "/mnt/home3/jj374/anaconda36/lib/python3.6/site-packages/numpy/core/fromnumeric.py:57: FutureWarning: reshape is deprecated and will raise in a subsequent release. Please use .values.reshape(...) instead\n",
      "  return getattr(obj, method)(*args, **kwds)\n"
     ]
    },
    {
     "data": {
      "image/png": "[encoded data removed]",
      "text/plain": [
       "<matplotlib.figure.Figure at 0x7f5438272a58>"
      ]
     },
     "metadata": {
      "image/png": {
       "height": 209,
       "width": 161
      }
     },
     "output_type": "display_data"
    }
   ],
   "source": [
    "plt.figure(figsize=(2,3))\n",
    "plt.boxplot([\n",
    "    df_genes.query('n_promoter == 1')['n_putative_enhancer'],\n",
    "    df_genes.query('n_promoter == 2')['n_putative_enhancer'],\n",
    "    df_genes.query('n_promoter >= 3')['n_putative_enhancer'],\n",
    "],\n",
    "    labels = ['1', '2', '>2'],\n",
    "    sym='', # Do not show outliers -- by eye, <100 in each group...\n",
    "    widths=0.7,\n",
    ")\n",
    "plt.xlabel('Number of promoters')\n",
    "plt.ylabel('Number of enhancers')\n",
    "plt.gca().set_ylim(-1, 17)\n",
    "plt.yticks([0,5,10,15])\n",
    "plt.savefig('annot_Apr27/Fig2C_npromoter_vs_nenhancer.pdf', bbox_inches='tight', transparent=True)"
   ]
  },
  {
   "cell_type": "code",
   "execution_count": null,
   "metadata": {
    "collapsed": true
   },
   "outputs": [],
   "source": []
  }
 ],
 "metadata": {
  "kernelspec": {
   "display_name": "Python 3",
   "language": "python",
   "name": "python3"
  },
  "language_info": {
   "codemirror_mode": {
    "name": "ipython",
    "version": 3
   },
   "file_extension": ".py",
   "mimetype": "text/x-python",
   "name": "python",
   "nbconvert_exporter": "python",
   "pygments_lexer": "ipython3",
   "version": "3.6.2"
  }
 },
 "nbformat": 4,
 "nbformat_minor": 2
}
