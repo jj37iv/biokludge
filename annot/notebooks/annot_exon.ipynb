{
 "cells": [
  {
   "cell_type": "code",
   "execution_count": 1,
   "metadata": {
    "ExecuteTime": {
     "end_time": "2018-06-14T13:16:34.661091Z",
     "start_time": "2018-06-14T13:16:28.861351Z"
    }
   },
   "outputs": [
    {
     "name": "stderr",
     "output_type": "stream",
     "text": [
      "/mnt/home3/jj374/anaconda36/lib/python3.6/site-packages/statsmodels/compat/pandas.py:56: FutureWarning: The pandas.core.datetools module is deprecated and will be removed in a future version. Please use the pandas.tseries module instead.\n",
      "  from pandas.core import datetools\n"
     ]
    },
    {
     "name": "stdout",
     "output_type": "stream",
     "text": [
      "os.getcwd(): /mnt/beegfs/scratch_copy/ahringer/jj374/lab/relmapping\n"
     ]
    }
   ],
   "source": [
    "# Set annotation to annot_ce10\n",
    "%run ~/relmapping/annot/notebooks/annot__init__.ipynb\n",
    "#annot_ = 'annot_ce10_eLife_full'\n",
    "annot_ = 'annot_ce10_tissues'\n",
    "def mp(fp, annot_=annot_): return os.path.join(annot_, 'metrics_exon', fp)"
   ]
  },
  {
   "cell_type": "code",
   "execution_count": 2,
   "metadata": {
    "ExecuteTime": {
     "end_time": "2018-06-14T13:16:34.812809Z",
     "start_time": "2018-06-14T13:16:34.664363Z"
    }
   },
   "outputs": [
    {
     "name": "stdout",
     "output_type": "stream",
     "text": [
      "42874 ATAC-seq sites\n"
     ]
    }
   ],
   "source": [
    "# Load long cap jump & exon data\n",
    "df_atac = pd.read_csv(os.path.join(annot_, 'accessible_sites.tsv'), sep='\\t')\n",
    "l_atac_peak_pos = df_atac[['start', 'end']].mean(axis=1).map(int)\n",
    "#df_sites = df_sites.head(100)\n",
    "print(len(df_atac), 'ATAC-seq sites')"
   ]
  },
  {
   "cell_type": "code",
   "execution_count": 3,
   "metadata": {
    "ExecuteTime": {
     "end_time": "2018-06-14T13:16:47.980095Z",
     "start_time": "2018-06-14T13:16:34.815061Z"
    }
   },
   "outputs": [
    {
     "name": "stdout",
     "output_type": "stream",
     "text": [
      "17922 17074 105494 99143 808 753\n"
     ]
    }
   ],
   "source": [
    "# df_exon1 / df_exon2: first/other exons, coordinates fixed to represent 5' ends\n",
    "#NAMES_EXON = ('chrom', 'start', 'end', 'transcript_id', 'score', 'strand', 'gene_id', 'gene_biotype', 'display_id')\n",
    "l_adj_ = [\n",
    "    'chrom', 'start', 'end', 'score', 'strand', 'thickStart', 'thickEnd', 'itemRgb', 'Name', \n",
    "    'exon_start', 'exon_end', 'utr_start', 'utr_end', 'aoe_end', 'aoe_start', 'gene_biotype', \n",
    "    'exon_id', 'gene_id', 'locus_id', 'init_cutoff_pos', \n",
    "]\n",
    "\n",
    "#df_pass1_exon1_fwd = read_gffbed('WS260_ce10/WS260_ce10.transcripts.annot_pass1_exon1_fwd.bed')\n",
    "#df_pass1_exon1_rev = read_gffbed('WS260_ce10/WS260_ce10.transcripts.annot_pass1_exon1_rev.bed')\n",
    "df_pass1_exon1_fwd = read_gffbed('WS260_ce10/WS260_ce10.transcripts.annot_pass1_exon1_fwd_utradj.bed')[l_adj_]\n",
    "df_pass1_exon1_rev = read_gffbed('WS260_ce10/WS260_ce10.transcripts.annot_pass1_exon1_rev_utradj.bed')[l_adj_]\n",
    "df_pass1_exon2_fwd = read_gffbed('WS260_ce10/WS260_ce10.transcripts.annot_pass1_exon2_fwd.bed')\n",
    "df_pass1_exon2_rev = read_gffbed('WS260_ce10/WS260_ce10.transcripts.annot_pass1_exon2_rev.bed')\n",
    "df_pass2_exon1_fwd = read_gffbed('WS260_ce10/WS260_ce10.transcripts.annot_pass2_exon1_fwd.bed')\n",
    "df_pass2_exon1_rev = read_gffbed('WS260_ce10/WS260_ce10.transcripts.annot_pass2_exon1_rev.bed')\n",
    "\n",
    "# Set 1st exon matching area to TSS + 250bp\n",
    "df_pass1_exon1_fwd['end'] = df_pass1_exon1_fwd['start'] + 1 + 250\n",
    "df_pass1_exon1_rev['start'] = df_pass1_exon1_rev['end'] - 1 - 250\n",
    "\n",
    "print(len(df_pass1_exon1_fwd), len(df_pass1_exon1_rev),\n",
    "      len(df_pass1_exon2_fwd), len(df_pass1_exon2_rev),\n",
    "      len(df_pass2_exon1_fwd), len(df_pass2_exon1_rev),\n",
    ")"
   ]
  },
  {
   "cell_type": "code",
   "execution_count": 4,
   "metadata": {
    "ExecuteTime": {
     "end_time": "2018-06-14T13:17:35.458486Z",
     "start_time": "2018-06-14T13:16:47.981788Z"
    },
    "code_folding": [],
    "collapsed": true
   },
   "outputs": [],
   "source": [
    "# Match hypersensitive sites to closest first/other exon\n",
    "def df_closest(df_a, df_b, b_prefix, **kwargs):\n",
    "    df_a_sort = df_a\n",
    "    df_b_sort = df_b.sort_values(list(df_b.columns[:3]))\n",
    "    fn_ = BedTool.from_dataframe(df_a).closest(BedTool.from_dataframe(df_b_sort).fn, **kwargs).fn\n",
    "    names_ = list(itertools.chain(df_a.columns.values,\n",
    "        ['%s_%s' % (b_prefix, col) for col in df_b.columns.values],\n",
    "        ['%s_distance' % (b_prefix)]\n",
    "    ))\n",
    "    df_ = pd.read_csv(fn_, names=names_, sep='\\t')\n",
    "    return df_[names_[len(df_a.columns):]]\n",
    "\n",
    "# Closest exon1 -- protein_coding & pseudogene\n",
    "df_ = pd.concat([df_atac['chrom'], l_atac_peak_pos, l_atac_peak_pos + 1], axis=1).copy()\n",
    "df_pass1_exon1_fwd_out_ = df_closest(df_, df_pass1_exon1_fwd, 'pass1_exon1', D='ref', t='first', iu=True)\n",
    "df_pass1_exon1_rev_out_ = df_closest(df_, df_pass1_exon1_rev, 'pass1_exon1', D='ref', t='last', id=True)\n",
    "\n",
    "# Closest exon2 can be both upstream or downstream\n",
    "df_pass1_exon2_fwd_out_ = df_closest(df_, df_pass1_exon2_fwd, 'pass1_exon2', D='ref', t='first')\n",
    "df_pass1_exon2_rev_out_ = df_closest(df_, df_pass1_exon2_rev, 'pass1_exon2', D='ref', t='last')\n",
    "\n",
    "# Closest exon2 can be both upstream or downstream (downstream only)\n",
    "df_pass1_exon2_downstream_fwd_out_ = df_closest(df_, df_pass1_exon2_fwd, 'pass1_exon2_downstream', D='ref', t='first', iu=True)\n",
    "df_pass1_exon2_downstream_rev_out_ = df_closest(df_, df_pass1_exon2_rev, 'pass1_exon2_downstream', D='ref', t='last', id=True)\n",
    "\n",
    "# Closes pass2/exon1 -- tRNA, snoRNA, rRNA, miRNA, etc\n",
    "df_pass2_exon1_fwd_out_ = df_closest(df_, df_pass2_exon1_fwd, 'pass2_exon1', D='ref', t='first', iu=True)\n",
    "df_pass2_exon1_rev_out_ = df_closest(df_, df_pass2_exon1_rev, 'pass2_exon1', D='ref', t='last', id=True)\n",
    "\n",
    "df_exon_fwd = pd.concat([df_pass1_exon1_fwd_out_, df_pass1_exon2_fwd_out_, df_pass1_exon2_downstream_fwd_out_, df_pass2_exon1_fwd_out_], axis=1)\n",
    "df_exon_rev = pd.concat([df_pass1_exon1_rev_out_, df_pass1_exon2_rev_out_, df_pass1_exon2_downstream_rev_out_, df_pass2_exon1_rev_out_], axis=1)\n",
    "\n",
    "df_exon_fwd.to_csv(mp('closest_exon_fwd.tsv'), header=True, index=False, sep='\\t')\n",
    "df_exon_rev.to_csv(mp('closest_exon_rev.tsv'), header=True, index=False, sep='\\t')\n",
    "\n",
    "l_ = ['pass1_exon1_gene_id', 'pass1_exon1_locus_id', 'pass1_exon1_distance']\n",
    "write_gffbed(mp('closest_pass1_exon1_fwd.bed'),\n",
    "    chrom = df_atac['chrom'],\n",
    "    start = df_atac['start'],\n",
    "    end = df_atac['end'],\n",
    "    name = df_exon_fwd['pass1_exon1_Name'],\n",
    "    strand = '+',\n",
    "    attr = df_exon_fwd[l_], \n",
    ")\n",
    "write_gffbed(mp('closest_pass1_exon1_rev.bed'),\n",
    "    chrom = df_atac['chrom'],\n",
    "    start = df_atac['start'],\n",
    "    end = df_atac['end'],\n",
    "    name = df_exon_rev['pass1_exon1_Name'],\n",
    "    strand = '-',\n",
    "    attr = df_exon_rev[l_], \n",
    ")\n",
    "\n",
    "l_ = ['pass1_exon2_gene_id', 'pass1_exon2_locus_id', 'pass1_exon2_distance']\n",
    "write_gffbed(mp('closest_pass1_exon2_fwd.bed'),\n",
    "    chrom = df_atac['chrom'],\n",
    "    start = df_atac['start'],\n",
    "    end = df_atac['end'],\n",
    "    name = df_exon_fwd['pass1_exon2_Name'],\n",
    "    strand = '+',\n",
    "    attr = df_exon_fwd[l_], \n",
    ")\n",
    "write_gffbed(mp('closest_pass1_exon2_rev.bed'),\n",
    "    chrom = df_atac['chrom'],\n",
    "    start = df_atac['start'],\n",
    "    end = df_atac['end'],\n",
    "    name = df_exon_rev['pass1_exon2_Name'],\n",
    "    strand = '-',\n",
    "    attr = df_exon_rev[l_], \n",
    ")\n",
    "\n",
    "l_ = ['pass1_exon2_downstream_gene_id', 'pass1_exon2_downstream_locus_id', 'pass1_exon2_downstream_distance']\n",
    "write_gffbed(mp('closest_pass1_exon2_downstream_fwd.bed'),\n",
    "    chrom = df_atac['chrom'],\n",
    "    start = df_atac['start'],\n",
    "    end = df_atac['end'],\n",
    "    name = df_exon_fwd['pass1_exon2_downstream_Name'],\n",
    "    strand = '+',\n",
    "    attr = df_exon_fwd[l_], \n",
    ")\n",
    "write_gffbed(mp('closest_pass1_exon2_downstream_rev.bed'),\n",
    "    chrom = df_atac['chrom'],\n",
    "    start = df_atac['start'],\n",
    "    end = df_atac['end'],\n",
    "    name = df_exon_rev['pass1_exon2_downstream_Name'],\n",
    "    strand = '-',\n",
    "    attr = df_exon_rev[l_], \n",
    ")\n",
    "\n",
    "l_ = ['pass2_exon1_gene_id', 'pass2_exon1_locus_id', 'pass2_exon1_distance']\n",
    "write_gffbed(mp('closest_pass2_exon1_fwd.bed'),\n",
    "    chrom = df_atac['chrom'],\n",
    "    start = df_atac['start'],\n",
    "    end = df_atac['end'],\n",
    "    name = df_exon_fwd['pass2_exon1_Name'],\n",
    "    strand = '+',\n",
    "    attr = df_exon_fwd[l_], \n",
    ")\n",
    "write_gffbed(mp('closest_pass2_exon1_rev.bed'),\n",
    "    chrom = df_atac['chrom'],\n",
    "    start = df_atac['start'],\n",
    "    end = df_atac['end'],\n",
    "    name = df_exon_rev['pass2_exon1_Name'],\n",
    "    strand = '-',\n",
    "    attr = df_exon_rev[l_], \n",
    ")"
   ]
  }
 ],
 "metadata": {
  "kernelspec": {
   "display_name": "Python 3",
   "language": "python",
   "name": "python3"
  },
  "language_info": {
   "codemirror_mode": {
    "name": "ipython",
    "version": 3
   },
   "file_extension": ".py",
   "mimetype": "text/x-python",
   "name": "python",
   "nbconvert_exporter": "python",
   "pygments_lexer": "ipython3",
   "version": "3.6.2"
  }
 },
 "nbformat": 4,
 "nbformat_minor": 2
}
