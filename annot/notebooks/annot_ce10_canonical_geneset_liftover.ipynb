{
 "cells": [
  {
   "cell_type": "code",
   "execution_count": 1,
   "metadata": {
    "ExecuteTime": {
     "end_time": "2018-05-30T14:30:24.374551Z",
     "start_time": "2018-05-30T14:30:19.342555Z"
    }
   },
   "outputs": [
    {
     "name": "stderr",
     "output_type": "stream",
     "text": [
      "/mnt/home3/jj374/anaconda36/lib/python3.6/site-packages/statsmodels/compat/pandas.py:56: FutureWarning: The pandas.core.datetools module is deprecated and will be removed in a future version. Please use the pandas.tseries module instead.\n",
      "  from pandas.core import datetools\n"
     ]
    },
    {
     "name": "stdout",
     "output_type": "stream",
     "text": [
      "os.getcwd(): /mnt/beegfs/scratch_copy/ahringer/jj374/lab/relmapping\n"
     ]
    }
   ],
   "source": [
    "%run ~/relmapping/annot/notebooks/annot__init__.ipynb\n",
    "annot_ = 'annot_ce10'\n",
    "def mp(fp, annot_=annot_): return os.path.join(annot_, 'canonical_geneset', fp)"
   ]
  },
  {
   "cell_type": "code",
   "execution_count": 2,
   "metadata": {
    "ExecuteTime": {
     "end_time": "2018-05-30T14:35:00.178695Z",
     "start_time": "2018-05-30T14:30:24.377571Z"
    },
    "code_folding": []
   },
   "outputs": [
    {
     "name": "stdout",
     "output_type": "stream",
     "text": [
      "Input file  = annot_ce10/canonical_geneset/liftover_fp_inp.tsv \r\n",
      "Output file = annot_ce10/canonical_geneset/liftover_fp_out.tsv \r\n",
      "Lines processed from input file              = 726282\r\n",
      "Comment / blank lines written to output file = 0\r\n",
      "Data lines written to output file            = 726282\r\n",
      "Number of records changed                    = 699702\r\n"
     ]
    },
    {
     "data": {
      "text/html": [
       "<div>\n",
       "<style>\n",
       "    .dataframe thead tr:only-child th {\n",
       "        text-align: right;\n",
       "    }\n",
       "\n",
       "    .dataframe thead th {\n",
       "        text-align: left;\n",
       "    }\n",
       "\n",
       "    .dataframe tbody tr th {\n",
       "        vertical-align: top;\n",
       "    }\n",
       "</style>\n",
       "<table border=\"1\" class=\"dataframe\">\n",
       "  <thead>\n",
       "    <tr style=\"text-align: right;\">\n",
       "      <th></th>\n",
       "      <th>chrom</th>\n",
       "      <th>source</th>\n",
       "      <th>feature</th>\n",
       "      <th>start</th>\n",
       "      <th>end</th>\n",
       "      <th>score</th>\n",
       "      <th>strand</th>\n",
       "      <th>frame</th>\n",
       "      <th>attribute</th>\n",
       "    </tr>\n",
       "  </thead>\n",
       "  <tbody>\n",
       "    <tr>\n",
       "      <th>0</th>\n",
       "      <td>chrI</td>\n",
       "      <td>WormBase</td>\n",
       "      <td>gene</td>\n",
       "      <td>3747</td>\n",
       "      <td>3909</td>\n",
       "      <td>.</td>\n",
       "      <td>-</td>\n",
       "      <td>.</td>\n",
       "      <td>gene_id \"WBGene00023193\"; gene_source \"WormBas...</td>\n",
       "    </tr>\n",
       "    <tr>\n",
       "      <th>1</th>\n",
       "      <td>chrI</td>\n",
       "      <td>WormBase</td>\n",
       "      <td>transcript</td>\n",
       "      <td>3747</td>\n",
       "      <td>3909</td>\n",
       "      <td>.</td>\n",
       "      <td>-</td>\n",
       "      <td>.</td>\n",
       "      <td>gene_id \"WBGene00023193\"; transcript_id \"Y74C9...</td>\n",
       "    </tr>\n",
       "    <tr>\n",
       "      <th>2</th>\n",
       "      <td>chrI</td>\n",
       "      <td>WormBase</td>\n",
       "      <td>exon</td>\n",
       "      <td>3747</td>\n",
       "      <td>3909</td>\n",
       "      <td>.</td>\n",
       "      <td>-</td>\n",
       "      <td>.</td>\n",
       "      <td>gene_id \"WBGene00023193\"; transcript_id \"Y74C9...</td>\n",
       "    </tr>\n",
       "    <tr>\n",
       "      <th>3</th>\n",
       "      <td>chrI</td>\n",
       "      <td>WormBase</td>\n",
       "      <td>three_prime_utr</td>\n",
       "      <td>4116</td>\n",
       "      <td>4220</td>\n",
       "      <td>.</td>\n",
       "      <td>-</td>\n",
       "      <td>.</td>\n",
       "      <td>gene_id \"WBGene00022277\"; transcript_id \"Y74C9...</td>\n",
       "    </tr>\n",
       "    <tr>\n",
       "      <th>4</th>\n",
       "      <td>chrI</td>\n",
       "      <td>WormBase</td>\n",
       "      <td>exon</td>\n",
       "      <td>4116</td>\n",
       "      <td>4358</td>\n",
       "      <td>.</td>\n",
       "      <td>-</td>\n",
       "      <td>.</td>\n",
       "      <td>gene_id \"WBGene00022277\"; transcript_id \"Y74C9...</td>\n",
       "    </tr>\n",
       "  </tbody>\n",
       "</table>\n",
       "</div>"
      ],
      "text/plain": [
       "  chrom    source          feature  start   end score strand frame  \\\n",
       "0  chrI  WormBase             gene   3747  3909     .      -     .   \n",
       "1  chrI  WormBase       transcript   3747  3909     .      -     .   \n",
       "2  chrI  WormBase             exon   3747  3909     .      -     .   \n",
       "3  chrI  WormBase  three_prime_utr   4116  4220     .      -     .   \n",
       "4  chrI  WormBase             exon   4116  4358     .      -     .   \n",
       "\n",
       "                                           attribute  \n",
       "0  gene_id \"WBGene00023193\"; gene_source \"WormBas...  \n",
       "1  gene_id \"WBGene00023193\"; transcript_id \"Y74C9...  \n",
       "2  gene_id \"WBGene00023193\"; transcript_id \"Y74C9...  \n",
       "3  gene_id \"WBGene00022277\"; transcript_id \"Y74C9...  \n",
       "4  gene_id \"WBGene00022277\"; transcript_id \"Y74C9...  "
      ]
     },
     "execution_count": 2,
     "metadata": {},
     "output_type": "execute_result"
    }
   ],
   "source": [
    "# canonical_geneset.gtf.gz: WS260 canonical geneset in ce10 coordinates\n",
    "\n",
    "# Download WS260 annotations:\n",
    "# !cd .wget; wget -m --no-parent ftp://ftp.wormbase.org/pub/wormbase/releases/WS260/\n",
    "\n",
    "def liftover_WS235_WS220_gtf(chroms, starts, ends, strands): # Liftover wrapper\n",
    "    \"\"\"\n",
    "    # http://www.ncbi.nlm.nih.gov/pmc/articles/PMC4512556/\n",
    "    # note that while annotations changed, the N2 genome sequence remained identical from WS215 through WS234\n",
    "    Test: \n",
    "    list(liftover_WS230_WS220(\n",
    "    chroms=['chrI', 'chrX', 'chrIII', 'chrV', 'chrIV', 'chrII'],\n",
    "    starts=[1,1,4,1,1, 1],\n",
    "    ends=[12507921,13713648,471811,15465174,11718826, 11718826],\n",
    "    strands=['+', '-', '+', '-', '+']))\n",
    "    \"\"\"\n",
    "    fp_inp = mp('liftover_fp_inp.tsv')\n",
    "    fp_out = mp('liftover_fp_out.tsv')\n",
    "    with open(fp_inp, 'w') as fh_inp:\n",
    "        for (chrom, start, end, strand) in zip(chroms, starts, ends, strands):\n",
    "            print('\\t'.join(map(str, (chrom, start, end, strand))), file=fh_inp)\n",
    "            #print('%s\\t%s' % (chrom, start), file=fh_inp)\n",
    "\n",
    "    liftover_bin = '/mnt/home1/ahringer/jj374/lab/raw_data/datastore/Kenneth_Evans/ConvertWormAssembly-1-0-0/ConvertWormAssembly.1.0.0.pl'\n",
    "    liftover_dir = '/mnt/home1/ahringer/jj374/lab/raw_data/datastore/Kenneth_Evans/ConvertWormAssembly-1-0-0/CHROMOSOME-DIFFERENCES-to-WS244'\n",
    "    !{liftover_bin} \\\n",
    "        --input={fp_inp} \\\n",
    "        --output={fp_out} \\\n",
    "        --backwards \\\n",
    "        --release1=WS235 \\\n",
    "        --release2=WS220 \\\n",
    "        --chrfield=1 \\\n",
    "        --posfield=2 \\\n",
    "        --posfield=3 \\\n",
    "        --postype=1 \\\n",
    "        --postype=1 \\\n",
    "        --strandfield=4 \\\n",
    "        --refdir={liftover_dir}\n",
    "    \n",
    "    df_out = pd.read_csv(fp_out, sep='\\t', names=['chrom', 'start', 'end', 'strand'])\n",
    "    for i, r in df_out.iterrows():\n",
    "        yield((r['chrom'], r['start'], r['end'], r['strand']))\n",
    "    \n",
    "    !rm {fp_inp}\n",
    "    !rm {fp_out}\n",
    "\n",
    "def to_ce10(df_inp): # Use liftover wrapper on a gtf-DataFrame\n",
    "    df_out = df_inp.query('(chrom != \"CHROMOSOME_MtDNA\") & (chrom != \"MtDNA\")').reset_index(drop=True).copy()\n",
    "    df_WS220 = pd.DataFrame.from_records(liftover_WS235_WS220_gtf(df_out['chrom'], df_out['start'], df_out['end'], df_out['strand']), columns=['chrom', 'start', 'end', 'strand'])\n",
    "    df_out['chrom'] = [*map(lambda chrom: 'chr' + chrom.lstrip('CHROMOSOME_'), df_WS220['chrom'])]\n",
    "    df_out['start'] = df_WS220['start'].copy()\n",
    "    df_out['end'] = df_WS220['end'].copy()\n",
    "    df_out['strand'] = df_WS220['strand'].copy()\n",
    "    return df_out.sort_values(['chrom', 'start', 'end', 'strand']).reset_index(drop=True)\n",
    "\n",
    "# Genes & transcripts from the canonical geneset\n",
    "kwargs_to_gtf = {'index': False, 'header': False, 'quoting': csv.QUOTE_NONE, 'sep': '\\t'}\n",
    "fp_ = 'wget/ftp.wormbase.org/pub/wormbase/releases/WS260/species/c_elegans/PRJNA13758/c_elegans.PRJNA13758.WS260.canonical_geneset.gtf.gz'\n",
    "df_ = pd.read_csv(fp_, sep='\\t', names=yp.NAMES_GTF, comment='#')\n",
    "df_ = to_ce10(df_)\n",
    "df_.head()"
   ]
  },
  {
   "cell_type": "code",
   "execution_count": 3,
   "metadata": {
    "ExecuteTime": {
     "end_time": "2018-05-30T14:35:00.461212Z",
     "start_time": "2018-05-30T14:35:00.180727Z"
    }
   },
   "outputs": [
    {
     "data": {
      "text/plain": [
       "exon               269868\n",
       "CDS                222825\n",
       "transcript          61073\n",
       "gene                46742\n",
       "stop_codon          33423\n",
       "start_codon         33400\n",
       "five_prime_utr      30958\n",
       "three_prime_utr     27993\n",
       "Name: feature, dtype: int64"
      ]
     },
     "execution_count": 3,
     "metadata": {},
     "output_type": "execute_result"
    }
   ],
   "source": [
    "df_['feature'].value_counts()"
   ]
  },
  {
   "cell_type": "code",
   "execution_count": 4,
   "metadata": {
    "ExecuteTime": {
     "end_time": "2018-05-30T14:35:30.862648Z",
     "start_time": "2018-05-30T14:35:00.462790Z"
    }
   },
   "outputs": [],
   "source": [
    "kwargs_to_gtf = {'index': False, 'header': False, 'quoting': csv.QUOTE_NONE, 'sep': '\\t'}\n",
    "df_.to_csv(mp('canonical_geneset.gtf.gz'), compression='gzip', **kwargs_to_gtf)\n",
    "df_.query('feature==\"gene\"').to_csv(mp('genes.gtf.gz'), compression='gzip', **kwargs_to_gtf)\n",
    "df_.query('feature!=\"gene\"').to_csv(mp('transcripts.gtf.gz'), compression='gzip', **kwargs_to_gtf)"
   ]
  }
 ],
 "metadata": {
  "kernelspec": {
   "display_name": "Python 3",
   "language": "python",
   "name": "python3"
  },
  "language_info": {
   "codemirror_mode": {
    "name": "ipython",
    "version": 3
   },
   "file_extension": ".py",
   "mimetype": "text/x-python",
   "name": "python",
   "nbconvert_exporter": "python",
   "pygments_lexer": "ipython3",
   "version": "3.6.2"
  }
 },
 "nbformat": 4,
 "nbformat_minor": 1
}
