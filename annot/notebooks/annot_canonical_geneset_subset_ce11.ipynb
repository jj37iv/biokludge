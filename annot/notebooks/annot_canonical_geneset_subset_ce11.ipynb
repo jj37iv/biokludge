{
 "cells": [
  {
   "cell_type": "code",
   "execution_count": 1,
   "metadata": {
    "ExecuteTime": {
     "end_time": "2018-06-05T15:58:39.952376Z",
     "start_time": "2018-06-05T15:58:34.553540Z"
    }
   },
   "outputs": [
    {
     "name": "stderr",
     "output_type": "stream",
     "text": [
      "/mnt/home3/jj374/anaconda36/lib/python3.6/site-packages/statsmodels/compat/pandas.py:56: FutureWarning: The pandas.core.datetools module is deprecated and will be removed in a future version. Please use the pandas.tseries module instead.\n",
      "  from pandas.core import datetools\n"
     ]
    },
    {
     "name": "stdout",
     "output_type": "stream",
     "text": [
      "os.getcwd(): /mnt/beegfs/scratch_copy/ahringer/jj374/lab/relmapping\n"
     ]
    }
   ],
   "source": [
    "%run ~/relmapping/annot/notebooks/annot__init__.ipynb\n",
    "annot_ = 'annot_ce11'\n",
    "def mp(fp, annot_=annot_): return os.path.join(annot_, 'canonical_geneset', fp)"
   ]
  },
  {
   "cell_type": "code",
   "execution_count": 2,
   "metadata": {
    "ExecuteTime": {
     "end_time": "2018-06-05T15:59:05.581848Z",
     "start_time": "2018-06-05T15:58:39.954506Z"
    }
   },
   "outputs": [
    {
     "data": {
      "text/html": [
       "<div>\n",
       "<style>\n",
       "    .dataframe thead tr:only-child th {\n",
       "        text-align: right;\n",
       "    }\n",
       "\n",
       "    .dataframe thead th {\n",
       "        text-align: left;\n",
       "    }\n",
       "\n",
       "    .dataframe tbody tr th {\n",
       "        vertical-align: top;\n",
       "    }\n",
       "</style>\n",
       "<table border=\"1\" class=\"dataframe\">\n",
       "  <thead>\n",
       "    <tr style=\"text-align: right;\">\n",
       "      <th></th>\n",
       "      <th>chrom</th>\n",
       "      <th>source</th>\n",
       "      <th>feature</th>\n",
       "      <th>start</th>\n",
       "      <th>end</th>\n",
       "      <th>score</th>\n",
       "      <th>strand</th>\n",
       "      <th>frame</th>\n",
       "      <th>exon_id</th>\n",
       "      <th>exon_number</th>\n",
       "      <th>gene_biotype</th>\n",
       "      <th>gene_id</th>\n",
       "      <th>gene_source</th>\n",
       "      <th>locus_id</th>\n",
       "      <th>protein_id</th>\n",
       "      <th>transcript_biotype</th>\n",
       "      <th>transcript_id</th>\n",
       "      <th>transcript_source</th>\n",
       "    </tr>\n",
       "  </thead>\n",
       "  <tbody>\n",
       "    <tr>\n",
       "      <th>0</th>\n",
       "      <td>chrI</td>\n",
       "      <td>WormBase</td>\n",
       "      <td>transcript</td>\n",
       "      <td>3746</td>\n",
       "      <td>3909</td>\n",
       "      <td>.</td>\n",
       "      <td>-</td>\n",
       "      <td>.</td>\n",
       "      <td>NaN</td>\n",
       "      <td>NaN</td>\n",
       "      <td>snoRNA</td>\n",
       "      <td>WBGene00023193</td>\n",
       "      <td>WormBase</td>\n",
       "      <td>Y74C9A.6</td>\n",
       "      <td>NaN</td>\n",
       "      <td>snoRNA</td>\n",
       "      <td>Y74C9A.6</td>\n",
       "      <td>WormBase</td>\n",
       "    </tr>\n",
       "    <tr>\n",
       "      <th>1</th>\n",
       "      <td>chrI</td>\n",
       "      <td>WormBase</td>\n",
       "      <td>exon</td>\n",
       "      <td>3746</td>\n",
       "      <td>3909</td>\n",
       "      <td>.</td>\n",
       "      <td>-</td>\n",
       "      <td>.</td>\n",
       "      <td>Y74C9A.6.e1</td>\n",
       "      <td>1.0</td>\n",
       "      <td>snoRNA</td>\n",
       "      <td>WBGene00023193</td>\n",
       "      <td>WormBase</td>\n",
       "      <td>Y74C9A.6</td>\n",
       "      <td>NaN</td>\n",
       "      <td>snoRNA</td>\n",
       "      <td>Y74C9A.6</td>\n",
       "      <td>WormBase</td>\n",
       "    </tr>\n",
       "    <tr>\n",
       "      <th>2</th>\n",
       "      <td>chrI</td>\n",
       "      <td>WormBase</td>\n",
       "      <td>three_prime_utr</td>\n",
       "      <td>4115</td>\n",
       "      <td>4220</td>\n",
       "      <td>.</td>\n",
       "      <td>-</td>\n",
       "      <td>.</td>\n",
       "      <td>NaN</td>\n",
       "      <td>NaN</td>\n",
       "      <td>protein_coding</td>\n",
       "      <td>WBGene00022277</td>\n",
       "      <td>WormBase</td>\n",
       "      <td>homt-1</td>\n",
       "      <td>NaN</td>\n",
       "      <td>protein_coding</td>\n",
       "      <td>Y74C9A.3</td>\n",
       "      <td>WormBase</td>\n",
       "    </tr>\n",
       "    <tr>\n",
       "      <th>3</th>\n",
       "      <td>chrI</td>\n",
       "      <td>WormBase</td>\n",
       "      <td>exon</td>\n",
       "      <td>4115</td>\n",
       "      <td>4358</td>\n",
       "      <td>.</td>\n",
       "      <td>-</td>\n",
       "      <td>.</td>\n",
       "      <td>Y74C9A.3.e5</td>\n",
       "      <td>5.0</td>\n",
       "      <td>protein_coding</td>\n",
       "      <td>WBGene00022277</td>\n",
       "      <td>WormBase</td>\n",
       "      <td>homt-1</td>\n",
       "      <td>NaN</td>\n",
       "      <td>protein_coding</td>\n",
       "      <td>Y74C9A.3</td>\n",
       "      <td>WormBase</td>\n",
       "    </tr>\n",
       "    <tr>\n",
       "      <th>4</th>\n",
       "      <td>chrI</td>\n",
       "      <td>WormBase</td>\n",
       "      <td>transcript</td>\n",
       "      <td>4115</td>\n",
       "      <td>10230</td>\n",
       "      <td>.</td>\n",
       "      <td>-</td>\n",
       "      <td>.</td>\n",
       "      <td>NaN</td>\n",
       "      <td>NaN</td>\n",
       "      <td>protein_coding</td>\n",
       "      <td>WBGene00022277</td>\n",
       "      <td>WormBase</td>\n",
       "      <td>homt-1</td>\n",
       "      <td>NaN</td>\n",
       "      <td>protein_coding</td>\n",
       "      <td>Y74C9A.3</td>\n",
       "      <td>WormBase</td>\n",
       "    </tr>\n",
       "  </tbody>\n",
       "</table>\n",
       "</div>"
      ],
      "text/plain": [
       "  chrom    source          feature  start    end score strand frame  \\\n",
       "0  chrI  WormBase       transcript   3746   3909     .      -     .   \n",
       "1  chrI  WormBase             exon   3746   3909     .      -     .   \n",
       "2  chrI  WormBase  three_prime_utr   4115   4220     .      -     .   \n",
       "3  chrI  WormBase             exon   4115   4358     .      -     .   \n",
       "4  chrI  WormBase       transcript   4115  10230     .      -     .   \n",
       "\n",
       "       exon_id  exon_number    gene_biotype         gene_id gene_source  \\\n",
       "0          NaN          NaN          snoRNA  WBGene00023193    WormBase   \n",
       "1  Y74C9A.6.e1          1.0          snoRNA  WBGene00023193    WormBase   \n",
       "2          NaN          NaN  protein_coding  WBGene00022277    WormBase   \n",
       "3  Y74C9A.3.e5          5.0  protein_coding  WBGene00022277    WormBase   \n",
       "4          NaN          NaN  protein_coding  WBGene00022277    WormBase   \n",
       "\n",
       "   locus_id protein_id transcript_biotype transcript_id transcript_source  \n",
       "0  Y74C9A.6        NaN             snoRNA      Y74C9A.6          WormBase  \n",
       "1  Y74C9A.6        NaN             snoRNA      Y74C9A.6          WormBase  \n",
       "2    homt-1        NaN     protein_coding      Y74C9A.3          WormBase  \n",
       "3    homt-1        NaN     protein_coding      Y74C9A.3          WormBase  \n",
       "4    homt-1        NaN     protein_coding      Y74C9A.3          WormBase  "
      ]
     },
     "execution_count": 2,
     "metadata": {},
     "output_type": "execute_result"
    }
   ],
   "source": [
    "fp_ = 'annot_ce11/canonical_geneset/WS260_ce11.transcripts.gtf.gz'\n",
    "df_ = yp.read_wbgtf(fp_, parse_attr=True, coords_adj=True)\n",
    "df_.head()"
   ]
  },
  {
   "cell_type": "code",
   "execution_count": 3,
   "metadata": {
    "ExecuteTime": {
     "end_time": "2018-06-05T15:59:06.319814Z",
     "start_time": "2018-06-05T15:59:05.585431Z"
    }
   },
   "outputs": [
    {
     "name": "stdout",
     "output_type": "stream",
     "text": [
      "1561 annot_ce11/canonical_geneset/WS260_ce11.transcripts.non_coding.bed\r\n"
     ]
    }
   ],
   "source": [
    "# .bed-file for masking nuisance RNAs in ce11 tracks\n",
    "l_ = ['tRNA', 'snoRNA', 'miRNA', 'snRNA', 'rRNA']\n",
    "c_ = ['chrom', 'start', 'end', 'gene_id', 'score', 'strand', 'transcript_biotype']\n",
    "q_ = '(feature == \"transcript\") & (transcript_biotype in @l_)'\n",
    "fp_ = mp('WS260_ce11.transcripts.non_coding.bed')\n",
    "df_.query(q_)[c_].reset_index(drop=True).to_csv(fp_, **yp.TO_GTF_KWARGS)\n",
    "!wc -l {fp_}"
   ]
  }
 ],
 "metadata": {
  "kernelspec": {
   "display_name": "Python 3",
   "language": "python",
   "name": "python3"
  },
  "language_info": {
   "codemirror_mode": {
    "name": "ipython",
    "version": 3
   },
   "file_extension": ".py",
   "mimetype": "text/x-python",
   "name": "python",
   "nbconvert_exporter": "python",
   "pygments_lexer": "ipython3",
   "version": "3.6.2"
  }
 },
 "nbformat": 4,
 "nbformat_minor": 2
}
