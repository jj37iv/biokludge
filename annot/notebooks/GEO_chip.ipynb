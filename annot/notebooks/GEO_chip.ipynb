{
 "cells": [
  {
   "cell_type": "code",
   "execution_count": 1,
   "metadata": {
    "ExecuteTime": {
     "end_time": "2018-05-08T10:38:52.746157Z",
     "start_time": "2018-05-08T10:38:47.758276Z"
    }
   },
   "outputs": [
    {
     "name": "stderr",
     "output_type": "stream",
     "text": [
      "/mnt/home3/jj374/anaconda36/lib/python3.6/site-packages/statsmodels/compat/pandas.py:56: FutureWarning: The pandas.core.datetools module is deprecated and will be removed in a future version. Please use the pandas.tseries module instead.\n",
      "  from pandas.core import datetools\n"
     ]
    },
    {
     "name": "stdout",
     "output_type": "stream",
     "text": [
      "os.getcwd(): /mnt/beegfs/scratch_copy/ahringer/jj374/lab/relmapping\n"
     ]
    }
   ],
   "source": [
    "%run ~/relmapping/annot/notebooks/__init__.ipynb"
   ]
  },
  {
   "cell_type": "code",
   "execution_count": 3,
   "metadata": {
    "ExecuteTime": {
     "end_time": "2018-05-08T10:49:44.322474Z",
     "start_time": "2018-05-08T10:49:42.101179Z"
    }
   },
   "outputs": [
    {
     "name": "stdout",
     "output_type": "stream",
     "text": [
      "d4358b1e66f266b52d883faa2ede1599\n",
      "30f96db56fbd05bcdb4feabf79d6a0ba\n",
      "e39a9b6b0058b603b86da016827022bc\n",
      "fe84ce8a92543a3b6d6656b06513477a\n",
      "c37f2fa5944fce8c391add7f2e158e32\n",
      "5ba7f97b4f6fddafef4400afe5a5ce95\n"
     ]
    }
   ],
   "source": [
    "for stage in config['stages_wt']:\n",
    "    fp = 'hmod_geo/tracks/H3K4me3_%s.bw' % (stage,)\n",
    "    !md5sum {fp} | awk '{{print $$1}}'"
   ]
  },
  {
   "cell_type": "code",
   "execution_count": 4,
   "metadata": {
    "ExecuteTime": {
     "end_time": "2018-05-08T10:49:51.339771Z",
     "start_time": "2018-05-08T10:49:47.847961Z"
    }
   },
   "outputs": [
    {
     "name": "stdout",
     "output_type": "stream",
     "text": [
      "f87d345d8371534fb5000e914961c119\n",
      "6dded5dd9018c04f981eb197256b244f\n",
      "405df7cc06c7907df3c3bbd0dd8738b5\n",
      "2fc1a15e387c956946e608d33b449b8f\n",
      "020da4dfe8aa630d7e1aced25e6ece7f\n",
      "da0d88cf0d5ea04aeebdad43dca94edb\n"
     ]
    }
   ],
   "source": [
    "for stage in config['stages_wt']:\n",
    "    fp = 'hmod_geo/tracks/H3K4me1_%s.bw' % (stage,)\n",
    "    !md5sum {fp} | awk '{{print $$1}}'"
   ]
  },
  {
   "cell_type": "code",
   "execution_count": 5,
   "metadata": {
    "ExecuteTime": {
     "end_time": "2018-05-08T10:50:04.192307Z",
     "start_time": "2018-05-08T10:49:59.829842Z"
    }
   },
   "outputs": [
    {
     "name": "stdout",
     "output_type": "stream",
     "text": [
      "15b1619e46c8a669dea12fc5451e5952\n",
      "94e9e87eabb9b181e79620476f394cd6\n",
      "35923d38cc4ff9741edd6c61a887234c\n",
      "51d6de15fe7a7c0de7ae5a4869e6bd8f\n",
      "66dfb1306600d4aacaa71b975ed9c847\n",
      "3c0f6c3bed05f6a9773d14a581be9ae7\n"
     ]
    }
   ],
   "source": [
    "for stage in config['stages_wt']:\n",
    "    fp = 'hmod_geo/tracks/H3K36me3_%s.bw' % (stage,)\n",
    "    !md5sum {fp} | awk '{{print $$1}}'"
   ]
  },
  {
   "cell_type": "code",
   "execution_count": 6,
   "metadata": {
    "ExecuteTime": {
     "end_time": "2018-05-08T10:50:12.372095Z",
     "start_time": "2018-05-08T10:50:08.626353Z"
    }
   },
   "outputs": [
    {
     "name": "stdout",
     "output_type": "stream",
     "text": [
      "2ad2da73147875ae63a31b891d0ae6e8\n",
      "a1951171af35bb8c6ba505ad98155724\n",
      "616928b9196e5efd19f00b24e9c71234\n",
      "d33d3378de257a897c18d6a86bfd41be\n",
      "99c1ad8f7fc5ef2f7b76b65640ab970b\n",
      "55710f7fdc24e50fe916d0a357f1734a\n"
     ]
    }
   ],
   "source": [
    "for stage in config['stages_wt']:\n",
    "    fp = 'hmod_geo/tracks/H3K27me3_%s.bw' % (stage,)\n",
    "    !md5sum {fp} | awk '{{print $$1}}'"
   ]
  },
  {
   "cell_type": "code",
   "execution_count": 11,
   "metadata": {
    "ExecuteTime": {
     "end_time": "2018-05-08T11:09:10.178995Z",
     "start_time": "2018-05-08T11:09:08.649299Z"
    }
   },
   "outputs": [
    {
     "name": "stdout",
     "output_type": "stream",
     "text": [
      "14d257c34307ec5612a64ab444c57336\n",
      "1b1787b8628ae0cd717ee12f9c7c55df\n",
      "1fbc14a36d6a46e340dbbb9a1ef73319\n",
      "5d814de96b488b8309e30d5eaebf486c\n",
      "78ad31e9c1fb8528ab44cb8778dd6c2f\n",
      "64e13db6a017d3ccb7184c615e769e4f\n",
      "8e071137eaa0f250f91020b04cc0a7a0\n",
      "c2f697a4e61a6cf0c66a7b7bc02fa150\n",
      "7aca9ba6c5496d28e7f372876e8cf78e\n",
      "08bc0c6745bf277edb336b39cd3a35b3\n",
      "fbb85f3a679c995666e73b27158e1600\n",
      "efe3205ed6b24f6a24a7c41194f095a2\n"
     ]
    }
   ],
   "source": [
    "# file checksum -- H3K27me3\n",
    "for sample in config['stages_wt_rep']:\n",
    "    fp = 'hmod749/reads_md5sum/H3K27me3_%s.reads_md5sum.txt' % (sample,)\n",
    "    !cat {fp} | awk '{{print $$1}}'"
   ]
  },
  {
   "cell_type": "code",
   "execution_count": 12,
   "metadata": {
    "ExecuteTime": {
     "end_time": "2018-05-08T11:09:48.292332Z",
     "start_time": "2018-05-08T11:09:46.730744Z"
    }
   },
   "outputs": [
    {
     "name": "stdout",
     "output_type": "stream",
     "text": [
      "dc9006648a03930f41a8baf7f79a30cd\n",
      "5e2691f925a71c4c8fc637f98f3a902a\n",
      "5b730643861c7570382bb8e778ae27bb\n",
      "5d05b298487088b0410b601f0a3c3d7b\n",
      "3ec54f6d856e6292d439ddb929aef2f1\n",
      "5683d8868ed9a5ed4be2c019f44bc7b3\n",
      "a65b148fb505afed22d2c6629bb924dc\n",
      "865aeba3b42573619be06cc385f4f31f\n",
      "8f8b8565533a08cacd99224467708585\n",
      "f4dd79a248acf44f5881b9a26acb437a\n",
      "85b9407741dd3451e2699214d37e8375\n",
      "93627dc74d618760ae8c14a580c36b7a\n"
     ]
    }
   ],
   "source": [
    "# file checksum -- H3K36me3\n",
    "for sample in config['stages_wt_rep']:\n",
    "    fp = 'hmod749/reads_md5sum/H3K36me3_%s.reads_md5sum.txt' % (sample,)\n",
    "    !cat {fp} | awk '{{print $$1}}'"
   ]
  },
  {
   "cell_type": "code",
   "execution_count": 13,
   "metadata": {
    "ExecuteTime": {
     "end_time": "2018-05-08T11:10:16.964080Z",
     "start_time": "2018-05-08T11:10:15.271084Z"
    }
   },
   "outputs": [
    {
     "name": "stdout",
     "output_type": "stream",
     "text": [
      "4a9cb7d74b75e14fc0b8cc7c662a796a\n",
      "45293ae67c4dd5cf0aaae32ca64cd4b5\n",
      "5199dbb51f05cee7ea67a16a207878b7\n",
      "971251bd81f96b82131c8ba693f2290f\n",
      "752b20dd6682383c51bae7663ee17412\n",
      "bcd614659c2182d1a1582e519872fbc4\n",
      "27a3fd17e45df68d779f2e9685ac714f\n",
      "298de8825e302dbbd4a67e6ab5046c07\n",
      "d74952e932decf6df410b6b229a9d222\n",
      "9a978ca4766cd2b3f04ad6dae8bb9512\n",
      "b91b6bcd462c043e75bb745f7c961c56\n",
      "e48a4ef62c1a84b69494189a9d7fe3c1\n"
     ]
    }
   ],
   "source": [
    "# file checksum -- H3K4me1\n",
    "for sample in config['stages_wt_rep']:\n",
    "    fp = 'hmod749/reads_md5sum/H3K4me1_%s.reads_md5sum.txt' % (sample,)\n",
    "    !cat {fp} | awk '{{print $$1}}'"
   ]
  },
  {
   "cell_type": "code",
   "execution_count": 14,
   "metadata": {
    "ExecuteTime": {
     "end_time": "2018-05-08T11:11:20.507923Z",
     "start_time": "2018-05-08T11:11:18.868168Z"
    }
   },
   "outputs": [
    {
     "name": "stdout",
     "output_type": "stream",
     "text": [
      "44a451c7f54ba199d17eb1d8f8c41250\n",
      "a100a60d8d0eac9c8d5c1f9f9ef4edeb\n",
      "b37726ad03c1a69c8bf037e85451adde\n",
      "7a759f73a598cdb94f5c1abfa179c3d5\n",
      "dd4f47f3d62478281000c1f32c9ee37a\n",
      "5382a106a36c2f031fe51041f124c53c\n",
      "a6731a4a838f64674e3834d1cdcb2159\n",
      "186380e453be93e90d694d6cdc091e60\n",
      "db9526deb02ae15d242aabc936a17e06\n",
      "c71b065ef1ae8d3f447a47f76d83859d\n",
      "319757a2b0c1be819b3ba0bf94510f23\n",
      "3e325bdf1c40782b52d89f8955f31f99\n"
     ]
    }
   ],
   "source": [
    "# file checksum -- H3K4me3\n",
    "for sample in config['stages_wt_rep']:\n",
    "    fp = 'hmod749/reads_md5sum/H3K4me3_%s.reads_md5sum.txt' % (sample,)\n",
    "    !cat {fp} | awk '{{print $$1}}'"
   ]
  },
  {
   "cell_type": "code",
   "execution_count": 15,
   "metadata": {
    "ExecuteTime": {
     "end_time": "2018-05-08T11:13:25.989285Z",
     "start_time": "2018-05-08T11:13:24.350510Z"
    }
   },
   "outputs": [
    {
     "name": "stdout",
     "output_type": "stream",
     "text": [
      "32\n",
      "32\n",
      "51\n",
      "50\n",
      "51\n",
      "50\n",
      "50\n",
      "50\n",
      "51\n",
      "51\n",
      "51\n",
      "51\n"
     ]
    }
   ],
   "source": [
    "# read length -- H3K27me3\n",
    "for sample in config['stages_wt_rep']:\n",
    "    fp = 'hmod749/reads_readlen/H3K27me3_%s.reads_readlen.txt' % (sample,)\n",
    "    !cat {fp} | awk '{{print $$1}}'"
   ]
  },
  {
   "cell_type": "code",
   "execution_count": 16,
   "metadata": {
    "ExecuteTime": {
     "end_time": "2018-05-08T11:13:57.487428Z",
     "start_time": "2018-05-08T11:13:55.963478Z"
    }
   },
   "outputs": [
    {
     "name": "stdout",
     "output_type": "stream",
     "text": [
      "32\n",
      "51\n",
      "51\n",
      "50\n",
      "51\n",
      "50\n",
      "51\n",
      "36\n",
      "51\n",
      "51\n",
      "51\n",
      "51\n"
     ]
    }
   ],
   "source": [
    "# read length -- H3K36me3\n",
    "for sample in config['stages_wt_rep']:\n",
    "    fp = 'hmod749/reads_readlen/H3K36me3_%s.reads_readlen.txt' % (sample,)\n",
    "    !cat {fp} | awk '{{print $$1}}'"
   ]
  },
  {
   "cell_type": "code",
   "execution_count": 17,
   "metadata": {
    "ExecuteTime": {
     "end_time": "2018-05-08T11:16:55.323225Z",
     "start_time": "2018-05-08T11:16:53.649108Z"
    }
   },
   "outputs": [
    {
     "name": "stdout",
     "output_type": "stream",
     "text": [
      "51\n",
      "51\n",
      "51\n",
      "51\n",
      "51\n",
      "50\n",
      "50\n",
      "50\n",
      "51\n",
      "51\n",
      "51\n",
      "51\n"
     ]
    }
   ],
   "source": [
    "# read length -- H3K4me1\n",
    "for sample in config['stages_wt_rep']:\n",
    "    fp = 'hmod749/reads_readlen/H3K4me1_%s.reads_readlen.txt' % (sample,)\n",
    "    !cat {fp} | awk '{{print $$1}}'"
   ]
  },
  {
   "cell_type": "code",
   "execution_count": 18,
   "metadata": {
    "ExecuteTime": {
     "end_time": "2018-05-08T11:17:18.779183Z",
     "start_time": "2018-05-08T11:17:17.250547Z"
    }
   },
   "outputs": [
    {
     "name": "stdout",
     "output_type": "stream",
     "text": [
      "51\n",
      "51\n",
      "51\n",
      "50\n",
      "51\n",
      "50\n",
      "40\n",
      "51\n",
      "51\n",
      "51\n",
      "51\n",
      "51\n"
     ]
    }
   ],
   "source": [
    "# read length -- H3K4me3\n",
    "for sample in config['stages_wt_rep']:\n",
    "    fp = 'hmod749/reads_readlen/H3K4me3_%s.reads_readlen.txt' % (sample,)\n",
    "    !cat {fp} | awk '{{print $$1}}'"
   ]
  },
  {
   "cell_type": "code",
   "execution_count": null,
   "metadata": {
    "collapsed": true
   },
   "outputs": [],
   "source": []
  }
 ],
 "metadata": {
  "kernelspec": {
   "display_name": "Python 3",
   "language": "python",
   "name": "python3"
  },
  "language_info": {
   "codemirror_mode": {
    "name": "ipython",
    "version": 3
   },
   "file_extension": ".py",
   "mimetype": "text/x-python",
   "name": "python",
   "nbconvert_exporter": "python",
   "pygments_lexer": "ipython3",
   "version": "3.6.2"
  }
 },
 "nbformat": 4,
 "nbformat_minor": 2
}
