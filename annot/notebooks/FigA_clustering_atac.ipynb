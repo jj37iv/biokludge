{
 "cells": [
  {
   "cell_type": "code",
   "execution_count": 1,
   "metadata": {
    "ExecuteTime": {
     "end_time": "2018-04-10T16:40:06.256614Z",
     "start_time": "2018-04-10T16:40:00.825806Z"
    }
   },
   "outputs": [
    {
     "name": "stderr",
     "output_type": "stream",
     "text": [
      "/mnt/home3/jj374/anaconda36/lib/python3.6/site-packages/statsmodels/compat/pandas.py:56: FutureWarning: The pandas.core.datetools module is deprecated and will be removed in a future version. Please use the pandas.tseries module instead.\n",
      "  from pandas.core import datetools\n"
     ]
    },
    {
     "name": "stdout",
     "output_type": "stream",
     "text": [
      "os.getcwd(): /mnt/beegfs/scratch_copy/ahringer/jj374/lab/relmapping\n"
     ]
    }
   ],
   "source": [
    "%run ~/relmapping/annot/notebooks/__init__.ipynb"
   ]
  },
  {
   "cell_type": "code",
   "execution_count": 4,
   "metadata": {
    "ExecuteTime": {
     "end_time": "2018-04-10T16:40:33.508318Z",
     "start_time": "2018-04-10T16:40:32.807714Z"
    }
   },
   "outputs": [
    {
     "data": {
      "text/html": [
       "<div>\n",
       "<style>\n",
       "    .dataframe thead tr:only-child th {\n",
       "        text-align: right;\n",
       "    }\n",
       "\n",
       "    .dataframe thead th {\n",
       "        text-align: left;\n",
       "    }\n",
       "\n",
       "    .dataframe tbody tr th {\n",
       "        vertical-align: top;\n",
       "    }\n",
       "</style>\n",
       "<table border=\"1\" class=\"dataframe\">\n",
       "  <thead>\n",
       "    <tr style=\"text-align: right;\">\n",
       "      <th></th>\n",
       "      <th>chrom</th>\n",
       "      <th>start</th>\n",
       "      <th>end</th>\n",
       "      <th>atac_peak_accessibility</th>\n",
       "      <th>atac_source</th>\n",
       "      <th>atac_wt_emb_height</th>\n",
       "      <th>atac_wt_l1_height</th>\n",
       "      <th>atac_wt_l2_height</th>\n",
       "      <th>atac_wt_l3_height</th>\n",
       "      <th>atac_wt_l4_height</th>\n",
       "      <th>atac_wt_ya_height</th>\n",
       "      <th>atac_glp1_d1_height</th>\n",
       "      <th>atac_glp1_d2_height</th>\n",
       "      <th>atac_glp1_d6_height</th>\n",
       "      <th>atac_glp1_d9_height</th>\n",
       "      <th>atac_glp1_d13_height</th>\n",
       "    </tr>\n",
       "  </thead>\n",
       "  <tbody>\n",
       "    <tr>\n",
       "      <th>0</th>\n",
       "      <td>chrI</td>\n",
       "      <td>1900</td>\n",
       "      <td>2051</td>\n",
       "      <td>1975</td>\n",
       "      <td>atac_wt_se</td>\n",
       "      <td>1.487219</td>\n",
       "      <td>1.436852</td>\n",
       "      <td>1.234831</td>\n",
       "      <td>1.476625</td>\n",
       "      <td>1.180041</td>\n",
       "      <td>3.028015</td>\n",
       "      <td>0.984149</td>\n",
       "      <td>0.912876</td>\n",
       "      <td>1.155934</td>\n",
       "      <td>1.187989</td>\n",
       "      <td>1.661203</td>\n",
       "    </tr>\n",
       "    <tr>\n",
       "      <th>1</th>\n",
       "      <td>chrI</td>\n",
       "      <td>3826</td>\n",
       "      <td>3977</td>\n",
       "      <td>3901</td>\n",
       "      <td>atac_wt_pe</td>\n",
       "      <td>67.202148</td>\n",
       "      <td>58.451061</td>\n",
       "      <td>74.416000</td>\n",
       "      <td>133.738358</td>\n",
       "      <td>179.794342</td>\n",
       "      <td>211.372787</td>\n",
       "      <td>88.025909</td>\n",
       "      <td>69.674324</td>\n",
       "      <td>68.506355</td>\n",
       "      <td>64.593590</td>\n",
       "      <td>55.413097</td>\n",
       "    </tr>\n",
       "    <tr>\n",
       "      <th>2</th>\n",
       "      <td>chrI</td>\n",
       "      <td>4276</td>\n",
       "      <td>4427</td>\n",
       "      <td>4351</td>\n",
       "      <td>atac_wt_se</td>\n",
       "      <td>1.581892</td>\n",
       "      <td>2.656172</td>\n",
       "      <td>2.186598</td>\n",
       "      <td>3.502825</td>\n",
       "      <td>5.871352</td>\n",
       "      <td>7.771934</td>\n",
       "      <td>1.802739</td>\n",
       "      <td>1.327403</td>\n",
       "      <td>1.547550</td>\n",
       "      <td>2.069787</td>\n",
       "      <td>1.901336</td>\n",
       "    </tr>\n",
       "    <tr>\n",
       "      <th>3</th>\n",
       "      <td>chrI</td>\n",
       "      <td>11272</td>\n",
       "      <td>11423</td>\n",
       "      <td>11347</td>\n",
       "      <td>atac_wt_pe</td>\n",
       "      <td>2.606371</td>\n",
       "      <td>4.443353</td>\n",
       "      <td>9.830266</td>\n",
       "      <td>10.700469</td>\n",
       "      <td>11.683004</td>\n",
       "      <td>13.928377</td>\n",
       "      <td>20.864365</td>\n",
       "      <td>16.739265</td>\n",
       "      <td>17.585819</td>\n",
       "      <td>15.858321</td>\n",
       "      <td>17.019400</td>\n",
       "    </tr>\n",
       "    <tr>\n",
       "      <th>4</th>\n",
       "      <td>chrI</td>\n",
       "      <td>13070</td>\n",
       "      <td>13221</td>\n",
       "      <td>13145</td>\n",
       "      <td>atac_wt_pe</td>\n",
       "      <td>5.557951</td>\n",
       "      <td>3.608833</td>\n",
       "      <td>3.977978</td>\n",
       "      <td>3.398183</td>\n",
       "      <td>2.689872</td>\n",
       "      <td>2.953438</td>\n",
       "      <td>2.047788</td>\n",
       "      <td>2.084701</td>\n",
       "      <td>1.994170</td>\n",
       "      <td>2.586042</td>\n",
       "      <td>3.367910</td>\n",
       "    </tr>\n",
       "  </tbody>\n",
       "</table>\n",
       "</div>"
      ],
      "text/plain": [
       "  chrom  start    end  atac_peak_accessibility atac_source  \\\n",
       "0  chrI   1900   2051                     1975  atac_wt_se   \n",
       "1  chrI   3826   3977                     3901  atac_wt_pe   \n",
       "2  chrI   4276   4427                     4351  atac_wt_se   \n",
       "3  chrI  11272  11423                    11347  atac_wt_pe   \n",
       "4  chrI  13070  13221                    13145  atac_wt_pe   \n",
       "\n",
       "   atac_wt_emb_height  atac_wt_l1_height  atac_wt_l2_height  \\\n",
       "0            1.487219           1.436852           1.234831   \n",
       "1           67.202148          58.451061          74.416000   \n",
       "2            1.581892           2.656172           2.186598   \n",
       "3            2.606371           4.443353           9.830266   \n",
       "4            5.557951           3.608833           3.977978   \n",
       "\n",
       "   atac_wt_l3_height  atac_wt_l4_height  atac_wt_ya_height  \\\n",
       "0           1.476625           1.180041           3.028015   \n",
       "1         133.738358         179.794342         211.372787   \n",
       "2           3.502825           5.871352           7.771934   \n",
       "3          10.700469          11.683004          13.928377   \n",
       "4           3.398183           2.689872           2.953438   \n",
       "\n",
       "   atac_glp1_d1_height  atac_glp1_d2_height  atac_glp1_d6_height  \\\n",
       "0             0.984149             0.912876             1.155934   \n",
       "1            88.025909            69.674324            68.506355   \n",
       "2             1.802739             1.327403             1.547550   \n",
       "3            20.864365            16.739265            17.585819   \n",
       "4             2.047788             2.084701             1.994170   \n",
       "\n",
       "   atac_glp1_d9_height  atac_glp1_d13_height  \n",
       "0             1.187989              1.661203  \n",
       "1            64.593590             55.413097  \n",
       "2             2.069787              1.901336  \n",
       "3            15.858321             17.019400  \n",
       "4             2.586042              3.367910  "
      ]
     },
     "execution_count": 4,
     "metadata": {},
     "output_type": "execute_result"
    }
   ],
   "source": [
    "# Write .tsv file with all the columns\n",
    "df_merged = pd.read_csv('annot/Fig1D1_accessible_sites/Fig1D1_accessible_sites.tsv', sep='\\t')\n",
    "#print('%s accessible sites' % (yp.f_uk(len(df_merged)),))\n",
    "df_merged.head()"
   ]
  },
  {
   "cell_type": "code",
   "execution_count": 7,
   "metadata": {
    "ExecuteTime": {
     "end_time": "2018-04-10T16:47:31.857658Z",
     "start_time": "2018-04-10T16:42:13.636736Z"
    }
   },
   "outputs": [
    {
     "name": "stdout",
     "output_type": "stream",
     "text": [
      "glp1_d13_rep1\n",
      "True\n",
      "glp1_d13_rep2\n",
      "True\n",
      "glp1_d1_rep1\n",
      "True\n",
      "glp1_d1_rep2\n",
      "True\n",
      "glp1_d2_rep1\n",
      "True\n",
      "glp1_d2_rep2\n",
      "True\n",
      "glp1_d6_rep1\n",
      "True\n",
      "glp1_d6_rep2\n",
      "True\n",
      "glp1_d9_rep1\n",
      "True\n",
      "glp1_d9_rep2\n",
      "True\n",
      "wt_emb_rep1\n",
      "True\n",
      "wt_emb_rep2\n",
      "True\n",
      "wt_l1_rep1\n",
      "True\n",
      "wt_l1_rep2\n",
      "True\n",
      "wt_l2_rep1\n",
      "True\n",
      "wt_l2_rep2\n",
      "True\n",
      "wt_l3_rep1\n",
      "True\n",
      "wt_l3_rep2\n",
      "True\n",
      "wt_l4_rep1\n",
      "True\n",
      "wt_l4_rep2\n",
      "True\n",
      "wt_ya_rep1\n",
      "True\n",
      "wt_ya_rep2\n",
      "True\n"
     ]
    }
   ],
   "source": [
    "#l_ = list(sorted(set(config['stages_rep'] + list(config['atac808'].keys()))))\n",
    "l_ = techreps_collapse(config['atac814'].keys())\n",
    "for stage in itertools.islice(l_, None):\n",
    "    print(stage)\n",
    "    step = 'tg_se.bwa_se.rm_unmapped.rm_chrM.rm_blacklist.rm_q10.macs2_se_extsize150_shiftm75_keepdup_all'\n",
    "    fp_ = pf('atac814_%(stage)s' % locals(), step, '_treat_pileup.bw', 'atac814')\n",
    "    print(os.path.isfile(fp_))\n",
    "    df_merged['atac_%(stage)s_height' % locals()] = list(map(np.nanmean, yp.read_regions(fp_, df_merged.chrom.tolist(), df_merged.start.tolist(), df_merged.end.tolist())))"
   ]
  },
  {
   "cell_type": "code",
   "execution_count": 9,
   "metadata": {
    "ExecuteTime": {
     "end_time": "2018-04-10T16:56:57.023519Z",
     "start_time": "2018-04-10T16:56:56.141836Z"
    }
   },
   "outputs": [
    {
     "data": {
      "image/png": "[encoded data removed]",
      "text/plain": [
       "<matplotlib.figure.Figure at 0x7f219e89d978>"
      ]
     },
     "metadata": {
      "image/png": {
       "height": 481,
       "width": 570
      }
     },
     "output_type": "display_data"
    }
   ],
   "source": [
    "df_merged['atac_max_height'] = df_merged[['atac_%(stage)s_height' % locals() for stage in l_]].max(axis=1)\n",
    "df_merged['atac_max_rank'] = df_merged['atac_max_height'].rank(ascending=False)\n",
    "\n",
    "#.query('(0 <= atac_max_rank) & (atac_max_rank <= 10000)')\n",
    "counts_ = df_merged[['atac_%s_height' % (ll,) for ll in l_]].values.T\n",
    "linkage_matrix = sp.cluster.hierarchy.linkage(counts_, metric='correlation', method='complete')\n",
    "plt.figure(figsize=(8,8))\n",
    "r=sp.cluster.hierarchy.dendrogram(linkage_matrix, labels=['atac_%s' % (ll,) for ll in l_], orientation='left', \n",
    "                                  color_threshold=-1.0, above_threshold_color='k')\n",
    "plt.gca().set_xlabel('Correlation distance')\n",
    "plt.savefig('annot/FigA_clustering/reproducibility_atac.pdf', bbox_inches='tight')"
   ]
  },
  {
   "cell_type": "code",
   "execution_count": null,
   "metadata": {
    "ExecuteTime": {
     "end_time": "2018-03-12T15:39:01.414850Z",
     "start_time": "2018-03-12T15:39:01.369509Z"
    },
    "collapsed": true
   },
   "outputs": [],
   "source": [
    "#counts_ = df_merged[['atac_%s_height' % (ll,) for ll in l_]].values.T\n",
    "#linkage_matrix = sp.cluster.hierarchy.linkage(np.nan_to_num(counts_), metric='correlation', method='complete')\n",
    "#plt.figure(figsize=(8,24))\n",
    "#r=sp.cluster.hierarchy.dendrogram(linkage_matrix, labels=['atac_%s_height' % (ll,) for ll in l_], orientation='left', \n",
    "#                                  color_threshold=-1.0, above_threshold_color='k', leaf_font_size=11)\n",
    "#plt.gca().set_xlabel('Correlation distance')\n",
    "#plt.savefig('annot/FigA_clustering/reproducibility_atac_all.pdf', bbox_inches='tight')"
   ]
  },
  {
   "cell_type": "code",
   "execution_count": null,
   "metadata": {
    "ExecuteTime": {
     "end_time": "2018-03-12T18:19:36.784969Z",
     "start_time": "2018-03-12T18:19:35.836998Z"
    }
   },
   "outputs": [],
   "source": [
    "l_glp1_ = [\n",
    "    'glp1_d6_rep1a',\n",
    "    'glp1_d6_rep1b',\n",
    "    'glp1_d6_rep1c',\n",
    "    'glp1_d6_rep2',\n",
    "    'glp1_d9_rep1a',\n",
    "    'glp1_d9_rep1b',\n",
    "    'glp1_d9_rep1c',\n",
    "    'glp1_d9_rep2',\n",
    "]\n",
    "\n",
    "counts_ = df_merged[['atac_%s_height' % (ll,) for ll in l_glp1_]].values.T\n",
    "linkage_matrix = sp.cluster.hierarchy.linkage(np.nan_to_num(counts_), metric='correlation')\n",
    "plt.figure(figsize=(8,8))\n",
    "r=sp.cluster.hierarchy.dendrogram(linkage_matrix, labels=['atac_%s_height' % (ll,) for ll in l_glp1_], orientation='left', \n",
    "                                  color_threshold=-1.0, above_threshold_color='k')\n",
    "plt.gca().set_xlabel('Correlation distance')\n",
    "#plt.savefig('annot/FigA_clustering/reproducibility_atac_d6_d9.pdf', bbox_inches='tight')"
   ]
  },
  {
   "cell_type": "code",
   "execution_count": null,
   "metadata": {
    "ExecuteTime": {
     "end_time": "2018-03-12T15:42:53.866653Z",
     "start_time": "2018-03-12T15:42:47.516765Z"
    }
   },
   "outputs": [],
   "source": [
    "df_regl = regl_addons()"
   ]
  },
  {
   "cell_type": "code",
   "execution_count": null,
   "metadata": {
    "ExecuteTime": {
     "end_time": "2018-03-12T17:18:40.973002Z",
     "start_time": "2018-03-12T17:18:40.591609Z"
    },
    "collapsed": true
   },
   "outputs": [],
   "source": [
    "df_prom = pd.read_csv('annot/S2_regulatory_annotation/S2b_promoter_annotation_6Dec17.tsv', sep='\\t')\n",
    "#df_prom"
   ]
  },
  {
   "cell_type": "code",
   "execution_count": null,
   "metadata": {
    "ExecuteTime": {
     "end_time": "2018-03-12T17:22:05.482433Z",
     "start_time": "2018-03-12T17:18:41.413499Z"
    },
    "code_folding": [
     1
    ]
   },
   "outputs": [],
   "source": [
    "#sorted(set(config['stages_rep'] + list(config['atac808'].keys())))\n",
    "l_atac_glp1 = [\n",
    "    'glp1_d1_rep1',\n",
    "    'glp1_d1_rep1a',\n",
    "    'glp1_d1_rep1b',\n",
    "    'glp1_d1_rep1c',\n",
    "    'glp1_d1_rep2',\n",
    "    'glp1_d1_rep2a',\n",
    "    'glp1_d1_rep2b',\n",
    "    'glp1_d2_rep1',\n",
    "    'glp1_d2_rep1a',\n",
    "    'glp1_d2_rep1b',\n",
    "    'glp1_d2_rep1c',\n",
    "    'glp1_d2_rep2',\n",
    "    'glp1_d2_rep2a',\n",
    "    'glp1_d2_rep2b',\n",
    "    'glp1_d2_rep2c',\n",
    "    'glp1_d6_rep1',\n",
    "    'glp1_d6_rep1a',\n",
    "    'glp1_d6_rep1b',\n",
    "    'glp1_d6_rep1c',\n",
    "    'glp1_d6_rep2',\n",
    "    'glp1_d9_rep1',\n",
    "    'glp1_d9_rep1a',\n",
    "    'glp1_d9_rep1b',\n",
    "    'glp1_d9_rep1c',\n",
    "    'glp1_d9_rep2',\n",
    "    'glp1_d13_rep1',\n",
    "    'glp1_d13_rep1a',\n",
    "    'glp1_d13_rep1b',\n",
    "    'glp1_d13_rep1c',\n",
    "    'glp1_d13_rep1d',\n",
    "    'glp1_d13_rep1e',\n",
    "    'glp1_d13_rep1f',\n",
    "    'glp1_d13_rep2',\n",
    "    'glp1_d13_rep2a',\n",
    "    'glp1_d13_rep2b',\n",
    "    'glp1_d13_rep2c',\n",
    "]\n",
    "\n",
    "for atac_glp1 in itertools.islice(l_atac_glp1, None):\n",
    "    print(atac_glp1)\n",
    "    step = 'tg_se.bwa_se.rm_unmapped.rm_chrM.rm_blacklist.rm_q10.macs2_se_extsize150_shiftm75_keepdup_all'\n",
    "    fp_ = pf('atac808_%(atac_glp1)s' % locals(), step, '_treat_pileup.bw', 'atac808')\n",
    "    print(os.path.isfile(fp_))\n",
    "    df_prom[atac_glp1] = list(map(np.nanmean, yp.read_regions(fp_, df_prom.chrom.tolist(), df_prom.start.tolist(), df_prom.end.tolist())))\n",
    "    "
   ]
  },
  {
   "cell_type": "code",
   "execution_count": null,
   "metadata": {
    "ExecuteTime": {
     "end_time": "2018-03-12T17:22:07.125431Z",
     "start_time": "2018-03-12T17:22:05.485893Z"
    }
   },
   "outputs": [],
   "source": [
    "l_lcap_glp1 = [\n",
    "    'glp1_d1_rep1',\n",
    "    'glp1_d1_rep2',\n",
    "    'glp1_d2_rep1',\n",
    "    'glp1_d2_rep2',\n",
    "    'glp1_d6_rep1',\n",
    "    'glp1_d6_rep2',\n",
    "    'glp1_d9_rep1',\n",
    "    'glp1_d9_rep2',\n",
    "    'glp1_d13_rep1',\n",
    "    'glp1_d13_rep2',\n",
    "]\n",
    "\n",
    "l_lcap_df = []\n",
    "for lcap_glp1 in itertools.islice(l_lcap_glp1, None):\n",
    "    print(lcap_glp1)\n",
    "    step = 'trim20.bwa_pe.rm_unmapped_pe.rm_chrM.rm_rRNA_broad.rm_blacklist.rm_q10.htseq_counts'\n",
    "    fp_ = pf('lcap808_%(lcap_glp1)s' % locals(), step, '.tsv', 'lcap808')\n",
    "    print(os.path.isfile(fp_))\n",
    "    l_lcap_df.append(pd.read_csv(fp_, sep='\\t', names=['gene_id', 'lcap_' + lcap_glp1], index_col='gene_id'))\n",
    "\n",
    "df_lcap = pd.concat(l_lcap_df, axis=1)"
   ]
  },
  {
   "cell_type": "code",
   "execution_count": null,
   "metadata": {
    "ExecuteTime": {
     "end_time": "2018-03-12T17:22:07.239990Z",
     "start_time": "2018-03-12T17:22:07.128593Z"
    },
    "collapsed": true
   },
   "outputs": [],
   "source": [
    "df_join = df_prom.merge(df_lcap, left_on='gene_id', right_index=True)"
   ]
  },
  {
   "cell_type": "code",
   "execution_count": null,
   "metadata": {
    "ExecuteTime": {
     "end_time": "2018-03-12T17:22:08.588409Z",
     "start_time": "2018-03-12T17:22:07.242640Z"
    }
   },
   "outputs": [],
   "source": [
    "df__ = collections.OrderedDict()\n",
    "for atac_glp1 in itertools.islice(l_atac_glp1, None):\n",
    "    df__[atac_glp1] = collections.OrderedDict()\n",
    "    for lcap_glp1 in itertools.islice(l_lcap_glp1, None):\n",
    "        corr_ = sp.stats.spearmanr(df_join[atac_glp1], df_join['lcap_' + lcap_glp1]).correlation\n",
    "        #print(atac_glp1, 'lcap_' + lcap_glp1, corr_)\n",
    "        df__[atac_glp1]['lcap_' + lcap_glp1] = corr_\n",
    "\n",
    "pd.DataFrame.from_dict(df__, orient='index')[[\n",
    "    'lcap_glp1_d6_rep1',\n",
    "    'lcap_glp1_d6_rep2',\n",
    "    'lcap_glp1_d9_rep1',\n",
    "    'lcap_glp1_d9_rep2',\n",
    "    'lcap_glp1_d13_rep1',\n",
    "    'lcap_glp1_d13_rep2',\n",
    "]]"
   ]
  },
  {
   "cell_type": "code",
   "execution_count": null,
   "metadata": {
    "ExecuteTime": {
     "end_time": "2018-03-12T18:04:55.355963Z",
     "start_time": "2018-03-12T18:04:54.474649Z"
    }
   },
   "outputs": [],
   "source": [
    "#df_merged['atac_max_height'] = df_merged[['atac_%(stage)s_height' % locals() for stage in config['stages_rep']]].max(axis=1)\n",
    "#df_merged['atac_max_rank'] = df_merged['atac_max_height'].rank(ascending=False)\n",
    "\n",
    "#.query('(0 <= atac_max_rank) & (atac_max_rank <= 10000)')\n",
    "counts_ = df_join[l_atac_glp1].values.T\n",
    "linkage_matrix = sp.cluster.hierarchy.linkage(counts_, metric='correlation', method='complete')\n",
    "plt.figure(figsize=(8,8))\n",
    "r=sp.cluster.hierarchy.dendrogram(linkage_matrix, labels=df_join[l_atac_glp1].columns, orientation='left', \n",
    "                                  color_threshold=-1.0, above_threshold_color='k')\n",
    "plt.gca().set_xlabel('Correlation distance')\n",
    "#plt.savefig('annot/FigA_clustering/reproducibility_atac.pdf', bbox_inches='tight')"
   ]
  },
  {
   "cell_type": "code",
   "execution_count": null,
   "metadata": {
    "collapsed": true
   },
   "outputs": [],
   "source": []
  }
 ],
 "metadata": {
  "kernelspec": {
   "display_name": "Python 3",
   "language": "python",
   "name": "python3"
  },
  "language_info": {
   "codemirror_mode": {
    "name": "ipython",
    "version": 3
   },
   "file_extension": ".py",
   "mimetype": "text/x-python",
   "name": "python",
   "nbconvert_exporter": "python",
   "pygments_lexer": "ipython3",
   "version": "3.6.2"
  }
 },
 "nbformat": 4,
 "nbformat_minor": 2
}
