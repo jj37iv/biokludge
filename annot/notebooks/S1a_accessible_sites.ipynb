{
 "cells": [
  {
   "cell_type": "code",
   "execution_count": 1,
   "metadata": {
    "ExecuteTime": {
     "end_time": "2018-03-13T16:14:04.507333Z",
     "start_time": "2018-03-13T16:13:56.334766Z"
    }
   },
   "outputs": [
    {
     "name": "stderr",
     "output_type": "stream",
     "text": [
      "/mnt/home3/jj374/anaconda36/lib/python3.6/site-packages/statsmodels/compat/pandas.py:56: FutureWarning: The pandas.core.datetools module is deprecated and will be removed in a future version. Please use the pandas.tseries module instead.\n",
      "  from pandas.core import datetools\n"
     ]
    },
    {
     "name": "stdout",
     "output_type": "stream",
     "text": [
      "os.getcwd(): /mnt/b2/scratch/ahringer/jj374/lab/relmapping\n"
     ]
    }
   ],
   "source": [
    "%run ~/relmapping/annot/notebooks/__init__.ipynb"
   ]
  },
  {
   "cell_type": "code",
   "execution_count": 2,
   "metadata": {
    "ExecuteTime": {
     "end_time": "2018-03-13T16:14:06.107411Z",
     "start_time": "2018-03-13T16:14:04.509451Z"
    }
   },
   "outputs": [
    {
     "name": "stdout",
     "output_type": "stream",
     "text": [
      "30161 atac716_dm/tg_pe.bwa_pe.p10_keep.macs2_pe_lt200.concave75_idr/atac_dm.tg_pe.bwa_pe.p10_keep.macs2_pe_lt200.concave75_idr_0.001.bed\n",
      "32442 atac716_dm/tg_pe.bwa_pe.p10_keep.macs2_se_extsize150_shiftm75_keepdup_all.concave_idr/atac_dm.tg_pe.bwa_pe.p10_keep.macs2_se_extsize150_shiftm75_keepdup_all.concave_idr_0.001.bed\n",
      "29370 atac716_am/tg_se.bwa_se.q10_keep.macs2_se_extsize150_shiftm75_keepdup_all.concave150_idr/atac_am1.tg_se.bwa_se.q10_keep.macs2_se_extsize150_shiftm75_keepdup_all.concave150_idr_0.001.bed\n"
     ]
    }
   ],
   "source": [
    "fp_dm_pe = pf('atac_dm', 'tg_pe.bwa_pe.p10_keep.macs2_pe_lt200.concave75_idr', '_0.001.bed', 'atac716_dm')\n",
    "fp_dm_se = pf('atac_dm', 'tg_pe.bwa_pe.p10_keep.macs2_se_extsize150_shiftm75_keepdup_all.concave_idr', '_0.001.bed', 'atac716_dm')\n",
    "fp_am_se = pf('atac_am1', 'tg_se.bwa_se.q10_keep.macs2_se_extsize150_shiftm75_keepdup_all.concave150_idr', '_0.001.bed', 'atac716_am')\n",
    "\n",
    "!wc -l {fp_dm_pe}\n",
    "!wc -l {fp_dm_se}\n",
    "!wc -l {fp_am_se}\n",
    "\n",
    "df_dm_pe = pd.read_csv(fp_dm_pe, sep='\\t', comment='#', names=NAMES_BED6)\n",
    "df_dm_se = pd.read_csv(fp_dm_se, sep='\\t', comment='#', names=NAMES_BED6)\n",
    "df_am_se = pd.read_csv(fp_am_se, sep='\\t', comment='#', names=NAMES_BED6)\n",
    "\n",
    "df_dm_pe['atac_mode'] = list(map(int, df_dm_pe[['start', 'end']].mean(axis=1)))\n",
    "df_dm_se['atac_mode'] = list(map(int, df_dm_se[['start', 'end']].mean(axis=1)))\n",
    "df_am_se['atac_mode'] = list(map(int, df_am_se[['start', 'end']].mean(axis=1)))\n",
    "\n",
    "df_dm_pe['atac_source'] = 'atac_wt_pe'\n",
    "df_dm_se['atac_source'] = 'atac_wt_se'\n",
    "df_am_se['atac_source'] = 'atac_glp1_se'\n",
    "\n",
    "del df_dm_pe['strand']\n",
    "del df_dm_se['strand']\n",
    "del df_am_se['strand']"
   ]
  },
  {
   "cell_type": "code",
   "execution_count": 3,
   "metadata": {
    "ExecuteTime": {
     "end_time": "2018-03-13T16:14:08.135857Z",
     "start_time": "2018-03-13T16:14:06.109939Z"
    }
   },
   "outputs": [
    {
     "name": "stdout",
     "output_type": "stream",
     "text": [
      "30160 annot/S1_accessible_sites/atac_wt_pe.bed\n",
      "32441 annot/S1_accessible_sites/atac_wt_se.bed\n",
      "29369 annot/S1_accessible_sites/atac_glp1_se.bed\n"
     ]
    }
   ],
   "source": [
    "df_dm_pe.to_csv('annot/S1_accessible_sites/atac_wt_pe.bed', sep='\\t', header=False, index=False)\n",
    "df_dm_se.to_csv('annot/S1_accessible_sites/atac_wt_se.bed', sep='\\t', header=False, index=False)\n",
    "df_am_se.to_csv('annot/S1_accessible_sites/atac_glp1_se.bed', sep='\\t', header=False, index=False)\n",
    "!wc -l annot/S1_accessible_sites/atac_wt_pe.bed\n",
    "!wc -l annot/S1_accessible_sites/atac_wt_se.bed\n",
    "!wc -l annot/S1_accessible_sites/atac_glp1_se.bed"
   ]
  },
  {
   "cell_type": "code",
   "execution_count": 4,
   "metadata": {
    "ExecuteTime": {
     "end_time": "2018-03-13T16:14:10.674476Z",
     "start_time": "2018-03-13T16:14:08.139309Z"
    }
   },
   "outputs": [
    {
     "name": "stdout",
     "output_type": "stream",
     "text": [
      "30160 annot/S1_accessible_sites/atac_wt_glp1.bed\n",
      "35728 annot/S1_accessible_sites/atac_wt_glp1.bed\n",
      "42245 annot/S1_accessible_sites/atac_wt_glp1.bed\n",
      "42246 annot/S1_accessible_sites/atac_wt_glp1.bed\n"
     ]
    }
   ],
   "source": [
    "# All peaks in wt_pe\n",
    "!cp annot/S1_accessible_sites/atac_wt_pe.bed annot/S1_accessible_sites/atac_wt_glp1.bed\n",
    "!wc -l annot/S1_accessible_sites/atac_wt_glp1.bed\n",
    "# Add wt_se peaks not in wt_pe\n",
    "!bedtools subtract -A -a annot/S1_accessible_sites/atac_wt_se.bed -b annot/S1_accessible_sites/atac_wt_pe.bed >> annot/S1_accessible_sites/atac_wt_glp1.bed\n",
    "!sort -k 1,1 -k 2,2n -k 3,3n -o annot/S1_accessible_sites/atac_wt_glp1.bed annot/S1_accessible_sites/atac_wt_glp1.bed\n",
    "!wc -l annot/S1_accessible_sites/atac_wt_glp1.bed\n",
    "# Add glp1_se peaks not in wt_pe+wt_se\n",
    "!bedtools subtract -A -a annot/S1_accessible_sites/atac_glp1_se.bed -b annot/S1_accessible_sites/atac_wt_glp1.bed >> annot/S1_accessible_sites/atac_wt_glp1.bed\n",
    "!sort -k 1,1 -k 2,2n -k 3,3n -o annot/S1_accessible_sites/atac_wt_glp1.bed annot/S1_accessible_sites/atac_wt_glp1.bed\n",
    "!wc -l annot/S1_accessible_sites/atac_wt_glp1.bed\n",
    "!sed -i '1i#track gffTags=on' annot/S1_accessible_sites/atac_wt_glp1.bed\n",
    "!wc -l annot/S1_accessible_sites/atac_wt_glp1.bed"
   ]
  },
  {
   "cell_type": "code",
   "execution_count": 5,
   "metadata": {
    "ExecuteTime": {
     "end_time": "2018-03-13T16:14:10.915299Z",
     "start_time": "2018-03-13T16:14:10.677875Z"
    },
    "collapsed": true
   },
   "outputs": [],
   "source": [
    "# Write .tsv file with all the columns\n",
    "df_merged = pd.read_csv('annot/S1_accessible_sites/atac_wt_glp1.bed',\n",
    "            names=['chrom', 'start', 'end', 'name', 'score', 'atac_mode', 'atac_source'], sep='\\t', comment='#')"
   ]
  },
  {
   "cell_type": "code",
   "execution_count": 6,
   "metadata": {
    "ExecuteTime": {
     "end_time": "2018-03-13T16:15:57.760916Z",
     "start_time": "2018-03-13T16:14:10.918190Z"
    }
   },
   "outputs": [
    {
     "name": "stdout",
     "output_type": "stream",
     "text": [
      "wt_emb True\n",
      "wt_l1 True\n",
      "wt_l2 True\n",
      "wt_l3 True\n",
      "wt_l4 True\n",
      "wt_ya True\n",
      "glp1_d1 True\n",
      "glp1_d2 True\n",
      "glp1_d6 True\n",
      "glp1_d9 True\n",
      "glp1_d13 True\n"
     ]
    }
   ],
   "source": [
    "# Peak heights for every hypersensitive site\n",
    "for stage in itertools.islice(config['stages'], None):\n",
    "    fp_ = 'atac808_geo/tracks/atac_%s.bw' % (stage,)\n",
    "    print(stage, os.path.isfile(fp_))\n",
    "    df_merged['atac_%(stage)s_height' % locals()] = list(map(np.nanmax, yp.read_regions(fp_, df_merged.chrom.tolist(), df_merged.start.tolist(), df_merged.end.tolist())))"
   ]
  },
  {
   "cell_type": "code",
   "execution_count": 7,
   "metadata": {
    "ExecuteTime": {
     "end_time": "2018-03-13T16:16:02.549781Z",
     "start_time": "2018-03-13T16:15:57.764166Z"
    },
    "collapsed": true
   },
   "outputs": [],
   "source": [
    "write_gffbed('annot/S1_accessible_sites/S1a_accessible_sites.peak_heights.bed',\n",
    "    chrom = df_merged['chrom'],\n",
    "    start = df_merged['start'],\n",
    "    end = df_merged['end'],\n",
    "    attr = df_merged[['atac_%s_height' % stage_ for stage_ in config['stages']]],\n",
    ")"
   ]
  },
  {
   "cell_type": "code",
   "execution_count": 8,
   "metadata": {
    "ExecuteTime": {
     "end_time": "2018-03-13T16:16:02.641082Z",
     "start_time": "2018-03-13T16:16:02.552936Z"
    },
    "collapsed": true
   },
   "outputs": [],
   "source": [
    "# Max peak height across all wt stages (e.g. select top 10k strong peaks)\n",
    "df_merged['atac_wt_max_height'] = df_merged[['atac_%(stage)s_height' % locals() for stage in config['stages_wt']]].max(axis=1)\n",
    "df_merged.loc[df_merged['atac_source'] == 'atac_glp1_se', 'atac_wt_max_height'] = 0.0\n",
    "df_merged['atac_wt_max_rank'] = df_merged['atac_wt_max_height'].rank(ascending=False)"
   ]
  },
  {
   "cell_type": "code",
   "execution_count": 9,
   "metadata": {
    "ExecuteTime": {
     "end_time": "2018-03-13T16:16:02.691348Z",
     "start_time": "2018-03-13T16:16:02.644024Z"
    }
   },
   "outputs": [],
   "source": [
    "# Count reads within every hypersensitive site\n",
    "#for rep in itertools.islice(config['atac_geo_by_rep'], None):\n",
    "#    step_ = 'tg_se.bwa_se.rm_unmapped.rm_chrM.rm_blacklist.rm_q10.macs2_se_extsize1_keepdup_all'\n",
    "#    fp_ = pf('atac728_%(rep)s' % locals(), step_, '_treat_pileup.bw', 'atac728')\n",
    "#    if not (os.path.isfile(fp_)):\n",
    "#        print(rep + ', skipping')\n",
    "#        continue\n",
    "#    print(rep)\n",
    "#    df_merged['atac_%(rep)s_count' % locals()] = list(map(np.nansum,\n",
    "#        yp.mread_regions(fp_,\n",
    "#                        df_merged.chrom.tolist(),\n",
    "#                        (df_merged.start - 50).tolist(),\n",
    "#                        (df_merged.end + 50).tolist())\n",
    "#                                                         ))"
   ]
  },
  {
   "cell_type": "code",
   "execution_count": 10,
   "metadata": {
    "ExecuteTime": {
     "end_time": "2018-03-13T16:16:02.739344Z",
     "start_time": "2018-03-13T16:16:02.694445Z"
    }
   },
   "outputs": [],
   "source": [
    "# Measure peak height (in raw count coverage) within every hypersensitive site\n",
    "#for rep in itertools.islice(config['atac_geo_by_rep'], None):\n",
    "#    step_ = 'tg_se.bwa_se.rm_unmapped.rm_chrM.rm_blacklist.rm_q10.macs2_se_extsize150_shiftm75_keepdup_all_noSPMR'\n",
    "#    fp_ = pf('atac728_%(rep)s' % locals(), step_, '_treat_pileup.bw', 'atac728')\n",
    "#    if not (os.path.isfile(fp_)):\n",
    "#        print(rep + ', skipping')\n",
    "#        continue\n",
    "#    print(rep)\n",
    "#    df_merged['atac_%(rep)s_maxcount' % locals()] = list(map(np.nanmax, \n",
    "#        yp.mread_regions(fp_, \n",
    "#                     df_merged.chrom.tolist(), \n",
    "#                     (df_merged.start - 50).tolist(),\n",
    "#                     (df_merged.end + 50).tolist())\n",
    "#                                                            ))"
   ]
  },
  {
   "cell_type": "code",
   "execution_count": 11,
   "metadata": {
    "ExecuteTime": {
     "end_time": "2018-03-13T16:16:04.108013Z",
     "start_time": "2018-03-13T16:16:02.742582Z"
    }
   },
   "outputs": [
    {
     "name": "stdout",
     "output_type": "stream",
     "text": [
      "42246 annot/S1_accessible_sites/S1a_accessible_sites.tsv\r\n"
     ]
    }
   ],
   "source": [
    "# Write output table\n",
    "fp_accessible_sites = 'annot/S1_accessible_sites/S1a_accessible_sites.tsv'\n",
    "df_merged.drop(['name', 'score'], axis=1).to_csv(fp_accessible_sites, sep='\\t', index=False)\n",
    "!wc -l {fp_accessible_sites}"
   ]
  },
  {
   "cell_type": "code",
   "execution_count": 12,
   "metadata": {
    "ExecuteTime": {
     "end_time": "2018-03-13T16:16:06.412865Z",
     "start_time": "2018-03-13T16:16:04.111528Z"
    }
   },
   "outputs": [
    {
     "name": "stdout",
     "output_type": "stream",
     "text": [
      "837 germline sites (preliminary)\n"
     ]
    }
   ],
   "source": [
    "fp_accessible_sites = 'annot/S1_accessible_sites/S1a_accessible_sites.tsv'\n",
    "df_accessible_sites = pd.read_csv(fp_accessible_sites, sep='\\t')\n",
    "\n",
    "df_ = pd.read_csv('annot733.germline/atac_merge/atac_merged_germline.tsv', sep='\\t')\n",
    "print('%d germline sites (preliminary)' % (len(df_.query(\"is_atac_wt_l1_decr\")),))\n",
    "df_accessible_sites['atac_is_germline_specific'] = df_['is_atac_wt_l1_decr']\n",
    "\n",
    "df_accessible_sites.to_csv('annot/S1_accessible_sites/S1a_accessible_sites_with_germline.tsv', sep='\\t', index=False)"
   ]
  }
 ],
 "metadata": {
  "kernelspec": {
   "display_name": "Python 3",
   "language": "python",
   "name": "python3"
  },
  "language_info": {
   "codemirror_mode": {
    "name": "ipython",
    "version": 3
   },
   "file_extension": ".py",
   "mimetype": "text/x-python",
   "name": "python",
   "nbconvert_exporter": "python",
   "pygments_lexer": "ipython3",
   "version": "3.6.2"
  }
 },
 "nbformat": 4,
 "nbformat_minor": 2
}
