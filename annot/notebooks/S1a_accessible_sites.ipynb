{
 "cells": [
  {
   "cell_type": "code",
   "execution_count": 1,
   "metadata": {
    "ExecuteTime": {
     "end_time": "2017-12-05T20:13:50.190772Z",
     "start_time": "2017-12-05T20:13:46.079681Z"
    }
   },
   "outputs": [
    {
     "name": "stderr",
     "output_type": "stream",
     "text": [
      "/mnt/home3/jj374/anaconda36/lib/python3.6/site-packages/statsmodels/compat/pandas.py:56: FutureWarning: The pandas.core.datetools module is deprecated and will be removed in a future version. Please use the pandas.tseries module instead.\n",
      "  from pandas.core import datetools\n"
     ]
    },
    {
     "name": "stdout",
     "output_type": "stream",
     "text": [
      "os.getcwd(): /mnt/b2/scratch/ahringer/jj374/lab/relmapping\n"
     ]
    }
   ],
   "source": [
    "%run ~/relmapping/annot/notebooks/__init__.ipynb"
   ]
  },
  {
   "cell_type": "code",
   "execution_count": 2,
   "metadata": {
    "ExecuteTime": {
     "end_time": "2017-12-05T20:13:51.735842Z",
     "start_time": "2017-12-05T20:13:50.193869Z"
    }
   },
   "outputs": [
    {
     "name": "stdout",
     "output_type": "stream",
     "text": [
      "30161 atac716_dm/tg_pe.bwa_pe.p10_keep.macs2_pe_lt200.concave75_idr/atac_dm.tg_pe.bwa_pe.p10_keep.macs2_pe_lt200.concave75_idr_0.001.bed\n",
      "32442 atac716_dm/tg_pe.bwa_pe.p10_keep.macs2_se_extsize150_shiftm75_keepdup_all.concave_idr/atac_dm.tg_pe.bwa_pe.p10_keep.macs2_se_extsize150_shiftm75_keepdup_all.concave_idr_0.001.bed\n",
      "29370 atac716_am/tg_se.bwa_se.q10_keep.macs2_se_extsize150_shiftm75_keepdup_all.concave150_idr/atac_am1.tg_se.bwa_se.q10_keep.macs2_se_extsize150_shiftm75_keepdup_all.concave150_idr_0.001.bed\n"
     ]
    }
   ],
   "source": [
    "fp_dm_pe = pf('atac_dm', 'tg_pe.bwa_pe.p10_keep.macs2_pe_lt200.concave75_idr', '_0.001.bed', 'atac716_dm')\n",
    "fp_dm_se = pf('atac_dm', 'tg_pe.bwa_pe.p10_keep.macs2_se_extsize150_shiftm75_keepdup_all.concave_idr', '_0.001.bed', 'atac716_dm')\n",
    "fp_am_se = pf('atac_am1', 'tg_se.bwa_se.q10_keep.macs2_se_extsize150_shiftm75_keepdup_all.concave150_idr', '_0.001.bed', 'atac716_am')\n",
    "\n",
    "!wc -l {fp_dm_pe}\n",
    "!wc -l {fp_dm_se}\n",
    "!wc -l {fp_am_se}\n",
    "\n",
    "df_dm_pe = pd.read_csv(fp_dm_pe, sep='\\t', comment='#', names=NAMES_BED6)\n",
    "df_dm_se = pd.read_csv(fp_dm_se, sep='\\t', comment='#', names=NAMES_BED6)\n",
    "df_am_se = pd.read_csv(fp_am_se, sep='\\t', comment='#', names=NAMES_BED6)\n",
    "\n",
    "df_dm_pe['atac_mode'] = list(map(int, df_dm_pe[['start', 'end']].mean(axis=1)))\n",
    "df_dm_se['atac_mode'] = list(map(int, df_dm_se[['start', 'end']].mean(axis=1)))\n",
    "df_am_se['atac_mode'] = list(map(int, df_am_se[['start', 'end']].mean(axis=1)))\n",
    "\n",
    "df_dm_pe['atac_source'] = 'atac_wt_pe'\n",
    "df_dm_se['atac_source'] = 'atac_wt_se'\n",
    "df_am_se['atac_source'] = 'atac_glp1_se'\n",
    "\n",
    "del df_dm_pe['strand']\n",
    "del df_dm_se['strand']\n",
    "del df_am_se['strand']"
   ]
  },
  {
   "cell_type": "code",
   "execution_count": 3,
   "metadata": {
    "ExecuteTime": {
     "end_time": "2017-12-05T20:13:53.404751Z",
     "start_time": "2017-12-05T20:13:51.739278Z"
    }
   },
   "outputs": [
    {
     "name": "stdout",
     "output_type": "stream",
     "text": [
      "30160 annot/S1_accessible_sites/atac_wt_pe.bed\n",
      "32441 annot/S1_accessible_sites/atac_wt_se.bed\n",
      "29369 annot/S1_accessible_sites/atac_glp1_se.bed\n"
     ]
    }
   ],
   "source": [
    "df_dm_pe.to_csv('annot/S1_accessible_sites/atac_wt_pe.bed', sep='\\t', header=False, index=False)\n",
    "df_dm_se.to_csv('annot/S1_accessible_sites/atac_wt_se.bed', sep='\\t', header=False, index=False)\n",
    "df_am_se.to_csv('annot/S1_accessible_sites/atac_glp1_se.bed', sep='\\t', header=False, index=False)\n",
    "!wc -l annot/S1_accessible_sites/atac_wt_pe.bed\n",
    "!wc -l annot/S1_accessible_sites/atac_wt_se.bed\n",
    "!wc -l annot/S1_accessible_sites/atac_glp1_se.bed"
   ]
  },
  {
   "cell_type": "code",
   "execution_count": 4,
   "metadata": {
    "ExecuteTime": {
     "end_time": "2017-12-05T20:13:55.588782Z",
     "start_time": "2017-12-05T20:13:53.408509Z"
    }
   },
   "outputs": [
    {
     "name": "stdout",
     "output_type": "stream",
     "text": [
      "30160 annot/S1_accessible_sites/atac_wt_glp1.bed\n",
      "35728 annot/S1_accessible_sites/atac_wt_glp1.bed\n",
      "42245 annot/S1_accessible_sites/atac_wt_glp1.bed\n",
      "42246 annot/S1_accessible_sites/atac_wt_glp1.bed\n"
     ]
    }
   ],
   "source": [
    "# All peaks in wt_pe\n",
    "!cp annot/S1_accessible_sites/atac_wt_pe.bed annot/S1_accessible_sites/atac_wt_glp1.bed\n",
    "!wc -l annot/S1_accessible_sites/atac_wt_glp1.bed\n",
    "# Add wt_se peaks not in wt_pe\n",
    "!bedtools subtract -A -a annot/S1_accessible_sites/atac_wt_se.bed -b annot/S1_accessible_sites/atac_wt_pe.bed >> annot/S1_accessible_sites/atac_wt_glp1.bed\n",
    "!sort -k 1,1 -k 2,2n -k 3,3n -o annot/S1_accessible_sites/atac_wt_glp1.bed annot/S1_accessible_sites/atac_wt_glp1.bed\n",
    "!wc -l annot/S1_accessible_sites/atac_wt_glp1.bed\n",
    "# Add glp1_se peaks not in wt_pe+wt_se\n",
    "!bedtools subtract -A -a annot/S1_accessible_sites/atac_glp1_se.bed -b annot/S1_accessible_sites/atac_wt_glp1.bed >> annot/S1_accessible_sites/atac_wt_glp1.bed\n",
    "!sort -k 1,1 -k 2,2n -k 3,3n -o annot/S1_accessible_sites/atac_wt_glp1.bed annot/S1_accessible_sites/atac_wt_glp1.bed\n",
    "!wc -l annot/S1_accessible_sites/atac_wt_glp1.bed\n",
    "!sed -i '1i#track gffTags=on' annot/S1_accessible_sites/atac_wt_glp1.bed\n",
    "!wc -l annot/S1_accessible_sites/atac_wt_glp1.bed"
   ]
  },
  {
   "cell_type": "code",
   "execution_count": 5,
   "metadata": {
    "ExecuteTime": {
     "end_time": "2017-12-05T20:13:55.780291Z",
     "start_time": "2017-12-05T20:13:55.592414Z"
    },
    "collapsed": true
   },
   "outputs": [],
   "source": [
    "# Write .tsv file with all the columns\n",
    "df_merged = pd.read_csv('annot/S1_accessible_sites/atac_wt_glp1.bed',\n",
    "            names=['chrom', 'start', 'end', 'name', 'score', 'atac_mode', 'atac_source'], sep='\\t', comment='#')"
   ]
  },
  {
   "cell_type": "code",
   "execution_count": 8,
   "metadata": {
    "ExecuteTime": {
     "end_time": "2017-12-05T20:17:57.086773Z",
     "start_time": "2017-12-05T20:14:31.191219Z"
    }
   },
   "outputs": [
    {
     "name": "stdout",
     "output_type": "stream",
     "text": [
      "wt_emb\n",
      "wt_l1\n",
      "wt_l2\n",
      "wt_l3\n",
      "wt_l4\n",
      "wt_ya\n",
      "glp1_ya\n",
      "glp1_d3\n",
      "glp1_d7\n",
      "glp1_d10\n",
      "glp1_d14\n"
     ]
    }
   ],
   "source": [
    "# Peak heights for every hypersensitive site (sizefactor-normalised)\n",
    "for stage in itertools.islice(config['stages_wt'] + config['stages_glp1'], None):\n",
    "    print(stage)\n",
    "    fp_ = pf('atac_%(stage)s' % locals(), 'normalised_coverage', '.bw', 'atac728_geo')\n",
    "    df_merged['atac_%(stage)s_height' % locals()] = list(map(np.nanmax, yp.read_regions(fp_, df_merged.chrom.tolist(), df_merged.start.tolist(), df_merged.end.tolist())))"
   ]
  },
  {
   "cell_type": "code",
   "execution_count": 11,
   "metadata": {
    "ExecuteTime": {
     "end_time": "2017-12-05T20:18:35.517669Z",
     "start_time": "2017-12-05T20:18:29.827608Z"
    },
    "collapsed": true
   },
   "outputs": [],
   "source": [
    "write_gffbed('annot/S1_accessible_sites/S1a_accessible_sites.peak_heights.bed',\n",
    "    chrom = df_merged['chrom'],\n",
    "    start = df_merged['start'],\n",
    "    end = df_merged['end'],\n",
    "    attr = df_merged[['atac_%s_height' % stage_ for stage_ in config['stages_wt'] + config['stages_glp1']]],\n",
    ")"
   ]
  },
  {
   "cell_type": "code",
   "execution_count": 7,
   "metadata": {
    "ExecuteTime": {
     "end_time": "2017-10-04T15:11:27.000438Z",
     "start_time": "2017-10-04T15:11:26.763512Z"
    },
    "collapsed": true
   },
   "outputs": [],
   "source": [
    "# Max peak height across all wt stages (e.g. select top 10k strong peaks)\n",
    "df_merged['atac_wt_max_height'] = df_merged[['atac_%(stage)s_height' % locals() for stage in config['stages_wt']]].max(axis=1)\n",
    "df_merged.loc[df_merged['atac_source'] == 'atac_glp1_se', 'atac_wt_max_height'] = 0.0\n",
    "df_merged['atac_wt_max_rank'] = df_merged['atac_wt_max_height'].rank(ascending=False)"
   ]
  },
  {
   "cell_type": "code",
   "execution_count": 8,
   "metadata": {
    "ExecuteTime": {
     "end_time": "2017-10-04T15:11:45.237073Z",
     "start_time": "2017-10-04T15:11:27.002617Z"
    }
   },
   "outputs": [
    {
     "name": "stdout",
     "output_type": "stream",
     "text": [
      "wt_emb_rep1\n",
      "mread_regions True atac728_wt_emb_rep1.tg_se.bwa_se.rm_unmapped.rm_chrM.rm_blacklist.rm_q10.macs2_se_extsize1_keepdup_all_treat_pileup.bw.mread_regions_fb1406c37cce46055bc0c4f82242954c.tmp\n",
      "wt_emb_rep2\n",
      "mread_regions True atac728_wt_emb_rep2.tg_se.bwa_se.rm_unmapped.rm_chrM.rm_blacklist.rm_q10.macs2_se_extsize1_keepdup_all_treat_pileup.bw.mread_regions_60f2febe4846e975046fdf6c0bb19080.tmp\n",
      "wt_l1_rep1\n",
      "mread_regions True atac728_wt_l1_rep1.tg_se.bwa_se.rm_unmapped.rm_chrM.rm_blacklist.rm_q10.macs2_se_extsize1_keepdup_all_treat_pileup.bw.mread_regions_2a01066393d7c49e5200433688161255.tmp\n",
      "wt_l1_rep2\n",
      "mread_regions True atac728_wt_l1_rep2.tg_se.bwa_se.rm_unmapped.rm_chrM.rm_blacklist.rm_q10.macs2_se_extsize1_keepdup_all_treat_pileup.bw.mread_regions_35c56f22fb446de642c44394a1ee3490.tmp\n",
      "wt_l2_rep1\n",
      "mread_regions True atac728_wt_l2_rep1.tg_se.bwa_se.rm_unmapped.rm_chrM.rm_blacklist.rm_q10.macs2_se_extsize1_keepdup_all_treat_pileup.bw.mread_regions_15b8580f389ba9b47a3b2c6a71dd5650.tmp\n",
      "wt_l2_rep2\n",
      "mread_regions True atac728_wt_l2_rep2.tg_se.bwa_se.rm_unmapped.rm_chrM.rm_blacklist.rm_q10.macs2_se_extsize1_keepdup_all_treat_pileup.bw.mread_regions_cd5e4c3f7415f290a49902c0abafde86.tmp\n",
      "wt_l3_rep1\n",
      "mread_regions True atac728_wt_l3_rep1.tg_se.bwa_se.rm_unmapped.rm_chrM.rm_blacklist.rm_q10.macs2_se_extsize1_keepdup_all_treat_pileup.bw.mread_regions_f512b69849b944947af53ba51cb60b31.tmp\n",
      "wt_l3_rep2\n",
      "mread_regions True atac728_wt_l3_rep2.tg_se.bwa_se.rm_unmapped.rm_chrM.rm_blacklist.rm_q10.macs2_se_extsize1_keepdup_all_treat_pileup.bw.mread_regions_d39b892773b960f178912c6a484d5d99.tmp\n",
      "wt_l4_rep1\n",
      "mread_regions True atac728_wt_l4_rep1.tg_se.bwa_se.rm_unmapped.rm_chrM.rm_blacklist.rm_q10.macs2_se_extsize1_keepdup_all_treat_pileup.bw.mread_regions_861522ea9ad2e6a71fa486a53aeb850f.tmp\n",
      "wt_l4_rep2\n",
      "mread_regions True atac728_wt_l4_rep2.tg_se.bwa_se.rm_unmapped.rm_chrM.rm_blacklist.rm_q10.macs2_se_extsize1_keepdup_all_treat_pileup.bw.mread_regions_2d39147b19110e412f6fb6eb1622e205.tmp\n",
      "wt_ya_rep1\n",
      "mread_regions True atac728_wt_ya_rep1.tg_se.bwa_se.rm_unmapped.rm_chrM.rm_blacklist.rm_q10.macs2_se_extsize1_keepdup_all_treat_pileup.bw.mread_regions_37fe62986da1bdfb66dd475d8196a737.tmp\n",
      "wt_ya_rep2\n",
      "mread_regions True atac728_wt_ya_rep2.tg_se.bwa_se.rm_unmapped.rm_chrM.rm_blacklist.rm_q10.macs2_se_extsize1_keepdup_all_treat_pileup.bw.mread_regions_8215c7fe48ab0a8e5915774f28817308.tmp\n",
      "glp1_ya_rep1\n",
      "mread_regions True atac728_glp1_ya_rep1.tg_se.bwa_se.rm_unmapped.rm_chrM.rm_blacklist.rm_q10.macs2_se_extsize1_keepdup_all_treat_pileup.bw.mread_regions_a3e06eb42592c4be5808c5889c622402.tmp\n",
      "glp1_ya_rep2\n",
      "mread_regions True atac728_glp1_ya_rep2.tg_se.bwa_se.rm_unmapped.rm_chrM.rm_blacklist.rm_q10.macs2_se_extsize1_keepdup_all_treat_pileup.bw.mread_regions_8de80ab34f432e944df1080d8055bc21.tmp\n",
      "glp1_d3_rep1\n",
      "mread_regions True atac728_glp1_d3_rep1.tg_se.bwa_se.rm_unmapped.rm_chrM.rm_blacklist.rm_q10.macs2_se_extsize1_keepdup_all_treat_pileup.bw.mread_regions_1006a9bea3cb90f7ce36ba164aa6056e.tmp\n",
      "glp1_d3_rep2\n",
      "mread_regions True atac728_glp1_d3_rep2.tg_se.bwa_se.rm_unmapped.rm_chrM.rm_blacklist.rm_q10.macs2_se_extsize1_keepdup_all_treat_pileup.bw.mread_regions_c8c31c2ec40f402270cbd65910c4c305.tmp\n",
      "glp1_d7_rep1\n",
      "mread_regions True atac728_glp1_d7_rep1.tg_se.bwa_se.rm_unmapped.rm_chrM.rm_blacklist.rm_q10.macs2_se_extsize1_keepdup_all_treat_pileup.bw.mread_regions_5c6007b011feb85ac4b748a2fb651c4f.tmp\n",
      "glp1_d7_rep2\n",
      "mread_regions True atac728_glp1_d7_rep2.tg_se.bwa_se.rm_unmapped.rm_chrM.rm_blacklist.rm_q10.macs2_se_extsize1_keepdup_all_treat_pileup.bw.mread_regions_b6db287612da1c5e7fcc8b3d5d41e972.tmp\n",
      "glp1_d10_rep1\n",
      "mread_regions True atac728_glp1_d10_rep1.tg_se.bwa_se.rm_unmapped.rm_chrM.rm_blacklist.rm_q10.macs2_se_extsize1_keepdup_all_treat_pileup.bw.mread_regions_f6115e3057050b1354982040943ea350.tmp\n",
      "glp1_d10_rep2\n",
      "mread_regions True atac728_glp1_d10_rep2.tg_se.bwa_se.rm_unmapped.rm_chrM.rm_blacklist.rm_q10.macs2_se_extsize1_keepdup_all_treat_pileup.bw.mread_regions_ad005afc981c6e4bf702595438847ea9.tmp\n",
      "glp1_d14_rep1\n",
      "mread_regions True atac728_glp1_d14_rep1.tg_se.bwa_se.rm_unmapped.rm_chrM.rm_blacklist.rm_q10.macs2_se_extsize1_keepdup_all_treat_pileup.bw.mread_regions_b30af65f87d7591e77873c7088ee6d2a.tmp\n",
      "glp1_d14_rep2\n",
      "mread_regions True atac728_glp1_d14_rep2.tg_se.bwa_se.rm_unmapped.rm_chrM.rm_blacklist.rm_q10.macs2_se_extsize1_keepdup_all_treat_pileup.bw.mread_regions_4f602817b288a46862e3030a209b3677.tmp\n",
      "gon2gem1_ya_rep1\n",
      "mread_regions True atac728_gon2gem1_ya_rep1.tg_se.bwa_se.rm_unmapped.rm_chrM.rm_blacklist.rm_q10.macs2_se_extsize1_keepdup_all_treat_pileup.bw.mread_regions_ea499b53ec71dd90184ef5971ceaa7bc.tmp\n",
      "gon2gem1_ya_rep2\n",
      "mread_regions True atac728_gon2gem1_ya_rep2.tg_se.bwa_se.rm_unmapped.rm_chrM.rm_blacklist.rm_q10.macs2_se_extsize1_keepdup_all_treat_pileup.bw.mread_regions_41a9e33285c6945c2a37b45147752871.tmp\n",
      "gon2gem1_d3_rep1\n",
      "mread_regions True atac728_gon2gem1_d3_rep1.tg_se.bwa_se.rm_unmapped.rm_chrM.rm_blacklist.rm_q10.macs2_se_extsize1_keepdup_all_treat_pileup.bw.mread_regions_ff5b066ab332240b39afbea2c073fa4f.tmp\n",
      "gon2gem1_d3_rep2\n",
      "mread_regions True atac728_gon2gem1_d3_rep2.tg_se.bwa_se.rm_unmapped.rm_chrM.rm_blacklist.rm_q10.macs2_se_extsize1_keepdup_all_treat_pileup.bw.mread_regions_4ead2fb56185dd665ba97323aadae348.tmp\n"
     ]
    }
   ],
   "source": [
    "# Count reads within every hypersensitive site\n",
    "for rep in itertools.islice(config['atac_geo_by_rep'], None):\n",
    "    step_ = 'tg_se.bwa_se.rm_unmapped.rm_chrM.rm_blacklist.rm_q10.macs2_se_extsize1_keepdup_all'\n",
    "    fp_ = pf('atac728_%(rep)s' % locals(), step_, '_treat_pileup.bw', 'atac728')\n",
    "    if not (os.path.isfile(fp_)):\n",
    "        print(rep + ', skipping')\n",
    "        continue\n",
    "    print(rep)\n",
    "    df_merged['atac_%(rep)s_count' % locals()] = list(map(np.nansum,\n",
    "        yp.mread_regions(fp_,\n",
    "                        df_merged.chrom.tolist(),\n",
    "                        (df_merged.start - 50).tolist(),\n",
    "                        (df_merged.end + 50).tolist())\n",
    "                                                         ))"
   ]
  },
  {
   "cell_type": "code",
   "execution_count": 11,
   "metadata": {
    "ExecuteTime": {
     "end_time": "2017-10-04T15:25:12.650517Z",
     "start_time": "2017-10-04T15:12:38.832488Z"
    }
   },
   "outputs": [
    {
     "name": "stdout",
     "output_type": "stream",
     "text": [
      "wt_emb_rep1\n",
      "mread_regions False atac728_wt_emb_rep1.tg_se.bwa_se.rm_unmapped.rm_chrM.rm_blacklist.rm_q10.macs2_se_extsize150_shiftm75_keepdup_all_noSPMR_treat_pileup.bw.mread_regions_d2959f49de9e881fd65d660bb51a9613.tmp\n",
      "wt_emb_rep2\n",
      "mread_regions False atac728_wt_emb_rep2.tg_se.bwa_se.rm_unmapped.rm_chrM.rm_blacklist.rm_q10.macs2_se_extsize150_shiftm75_keepdup_all_noSPMR_treat_pileup.bw.mread_regions_13562d7bf50a79982fb21c286203845b.tmp\n",
      "wt_l1_rep1\n",
      "mread_regions False atac728_wt_l1_rep1.tg_se.bwa_se.rm_unmapped.rm_chrM.rm_blacklist.rm_q10.macs2_se_extsize150_shiftm75_keepdup_all_noSPMR_treat_pileup.bw.mread_regions_b433fd01d6165ea995a12b5d2ca26c79.tmp\n",
      "wt_l1_rep2\n",
      "mread_regions False atac728_wt_l1_rep2.tg_se.bwa_se.rm_unmapped.rm_chrM.rm_blacklist.rm_q10.macs2_se_extsize150_shiftm75_keepdup_all_noSPMR_treat_pileup.bw.mread_regions_5d6a97aa454538f88702594f01f700c6.tmp\n",
      "wt_l2_rep1\n",
      "mread_regions False atac728_wt_l2_rep1.tg_se.bwa_se.rm_unmapped.rm_chrM.rm_blacklist.rm_q10.macs2_se_extsize150_shiftm75_keepdup_all_noSPMR_treat_pileup.bw.mread_regions_52a1c1d48fa2424b95ee722f59d83fe4.tmp\n",
      "wt_l2_rep2\n",
      "mread_regions False atac728_wt_l2_rep2.tg_se.bwa_se.rm_unmapped.rm_chrM.rm_blacklist.rm_q10.macs2_se_extsize150_shiftm75_keepdup_all_noSPMR_treat_pileup.bw.mread_regions_959299b954cbdc735d42e7dea1356cac.tmp\n",
      "wt_l3_rep1\n",
      "mread_regions False atac728_wt_l3_rep1.tg_se.bwa_se.rm_unmapped.rm_chrM.rm_blacklist.rm_q10.macs2_se_extsize150_shiftm75_keepdup_all_noSPMR_treat_pileup.bw.mread_regions_ccb5b2146aeeca70df2d7b371ca346d8.tmp\n",
      "wt_l3_rep2\n",
      "mread_regions False atac728_wt_l3_rep2.tg_se.bwa_se.rm_unmapped.rm_chrM.rm_blacklist.rm_q10.macs2_se_extsize150_shiftm75_keepdup_all_noSPMR_treat_pileup.bw.mread_regions_a3b4027930e6db1c7294bbac14111e91.tmp\n",
      "wt_l4_rep1\n",
      "mread_regions False atac728_wt_l4_rep1.tg_se.bwa_se.rm_unmapped.rm_chrM.rm_blacklist.rm_q10.macs2_se_extsize150_shiftm75_keepdup_all_noSPMR_treat_pileup.bw.mread_regions_9b97518a3d6985eb5befe8a555b823e3.tmp\n",
      "wt_l4_rep2\n",
      "mread_regions False atac728_wt_l4_rep2.tg_se.bwa_se.rm_unmapped.rm_chrM.rm_blacklist.rm_q10.macs2_se_extsize150_shiftm75_keepdup_all_noSPMR_treat_pileup.bw.mread_regions_44471ad1d2beac03662f8bfc67396409.tmp\n",
      "wt_ya_rep1\n",
      "mread_regions False atac728_wt_ya_rep1.tg_se.bwa_se.rm_unmapped.rm_chrM.rm_blacklist.rm_q10.macs2_se_extsize150_shiftm75_keepdup_all_noSPMR_treat_pileup.bw.mread_regions_c9482a2b927b04742ef21d10c0d9aeaa.tmp\n",
      "wt_ya_rep2\n",
      "mread_regions False atac728_wt_ya_rep2.tg_se.bwa_se.rm_unmapped.rm_chrM.rm_blacklist.rm_q10.macs2_se_extsize150_shiftm75_keepdup_all_noSPMR_treat_pileup.bw.mread_regions_cb157757201f7c714c6b53f77b023969.tmp\n",
      "glp1_ya_rep1\n",
      "mread_regions False atac728_glp1_ya_rep1.tg_se.bwa_se.rm_unmapped.rm_chrM.rm_blacklist.rm_q10.macs2_se_extsize150_shiftm75_keepdup_all_noSPMR_treat_pileup.bw.mread_regions_70e2d405c7f68f4a0686b0b5bd3ecb9a.tmp\n",
      "glp1_ya_rep2\n",
      "mread_regions False atac728_glp1_ya_rep2.tg_se.bwa_se.rm_unmapped.rm_chrM.rm_blacklist.rm_q10.macs2_se_extsize150_shiftm75_keepdup_all_noSPMR_treat_pileup.bw.mread_regions_f6f465a72cbba0036b457786079455b3.tmp\n",
      "glp1_d3_rep1\n",
      "mread_regions False atac728_glp1_d3_rep1.tg_se.bwa_se.rm_unmapped.rm_chrM.rm_blacklist.rm_q10.macs2_se_extsize150_shiftm75_keepdup_all_noSPMR_treat_pileup.bw.mread_regions_729b7aecf234da0ce7a7edfdae4a706e.tmp\n",
      "glp1_d3_rep2\n",
      "mread_regions False atac728_glp1_d3_rep2.tg_se.bwa_se.rm_unmapped.rm_chrM.rm_blacklist.rm_q10.macs2_se_extsize150_shiftm75_keepdup_all_noSPMR_treat_pileup.bw.mread_regions_79fb1c7adf89a58ba27061855f5edccb.tmp\n",
      "glp1_d7_rep1\n",
      "mread_regions False atac728_glp1_d7_rep1.tg_se.bwa_se.rm_unmapped.rm_chrM.rm_blacklist.rm_q10.macs2_se_extsize150_shiftm75_keepdup_all_noSPMR_treat_pileup.bw.mread_regions_9d3b4faeb8a81ca6884e64203e88dc22.tmp\n",
      "glp1_d7_rep2\n",
      "mread_regions False atac728_glp1_d7_rep2.tg_se.bwa_se.rm_unmapped.rm_chrM.rm_blacklist.rm_q10.macs2_se_extsize150_shiftm75_keepdup_all_noSPMR_treat_pileup.bw.mread_regions_7547e5367604c464041c86f1a9be8d39.tmp\n",
      "glp1_d10_rep1\n",
      "mread_regions False atac728_glp1_d10_rep1.tg_se.bwa_se.rm_unmapped.rm_chrM.rm_blacklist.rm_q10.macs2_se_extsize150_shiftm75_keepdup_all_noSPMR_treat_pileup.bw.mread_regions_b8a7835774695b2ea632af5b52684d35.tmp\n",
      "glp1_d10_rep2\n",
      "mread_regions False atac728_glp1_d10_rep2.tg_se.bwa_se.rm_unmapped.rm_chrM.rm_blacklist.rm_q10.macs2_se_extsize150_shiftm75_keepdup_all_noSPMR_treat_pileup.bw.mread_regions_5be1a45ad4a0406ab0af9f2cc1f410ca.tmp\n",
      "glp1_d14_rep1\n",
      "mread_regions False atac728_glp1_d14_rep1.tg_se.bwa_se.rm_unmapped.rm_chrM.rm_blacklist.rm_q10.macs2_se_extsize150_shiftm75_keepdup_all_noSPMR_treat_pileup.bw.mread_regions_55f0b9a2a03af4029ecf38e67dd131e3.tmp\n",
      "glp1_d14_rep2\n",
      "mread_regions False atac728_glp1_d14_rep2.tg_se.bwa_se.rm_unmapped.rm_chrM.rm_blacklist.rm_q10.macs2_se_extsize150_shiftm75_keepdup_all_noSPMR_treat_pileup.bw.mread_regions_108d28567dd3e5daed9abfd1136a08e9.tmp\n",
      "gon2gem1_ya_rep1\n",
      "mread_regions False atac728_gon2gem1_ya_rep1.tg_se.bwa_se.rm_unmapped.rm_chrM.rm_blacklist.rm_q10.macs2_se_extsize150_shiftm75_keepdup_all_noSPMR_treat_pileup.bw.mread_regions_419c00a9201074c3885d352de3eb1db7.tmp\n",
      "gon2gem1_ya_rep2\n",
      "mread_regions False atac728_gon2gem1_ya_rep2.tg_se.bwa_se.rm_unmapped.rm_chrM.rm_blacklist.rm_q10.macs2_se_extsize150_shiftm75_keepdup_all_noSPMR_treat_pileup.bw.mread_regions_ec04f94f7d3d9ccf2cf0be6be8810e98.tmp\n",
      "gon2gem1_d3_rep1\n",
      "mread_regions False atac728_gon2gem1_d3_rep1.tg_se.bwa_se.rm_unmapped.rm_chrM.rm_blacklist.rm_q10.macs2_se_extsize150_shiftm75_keepdup_all_noSPMR_treat_pileup.bw.mread_regions_fbaddbe377609d77b4e435ad8ee76968.tmp\n",
      "gon2gem1_d3_rep2\n",
      "mread_regions False atac728_gon2gem1_d3_rep2.tg_se.bwa_se.rm_unmapped.rm_chrM.rm_blacklist.rm_q10.macs2_se_extsize150_shiftm75_keepdup_all_noSPMR_treat_pileup.bw.mread_regions_70df55923bc6eb9b5994d2851ad80bda.tmp\n"
     ]
    }
   ],
   "source": [
    "# Measure peak height (in raw count coverage) within every hypersensitive site\n",
    "for rep in itertools.islice(config['atac_geo_by_rep'], None):\n",
    "    step_ = 'tg_se.bwa_se.rm_unmapped.rm_chrM.rm_blacklist.rm_q10.macs2_se_extsize150_shiftm75_keepdup_all_noSPMR'\n",
    "    fp_ = pf('atac728_%(rep)s' % locals(), step_, '_treat_pileup.bw', 'atac728')\n",
    "    if not (os.path.isfile(fp_)):\n",
    "        print(rep + ', skipping')\n",
    "        continue\n",
    "    print(rep)\n",
    "    df_merged['atac_%(rep)s_maxcount' % locals()] = list(map(np.nanmax, \n",
    "        yp.mread_regions(fp_, \n",
    "                     df_merged.chrom.tolist(), \n",
    "                     (df_merged.start - 50).tolist(),\n",
    "                     (df_merged.end + 50).tolist())\n",
    "                                                            ))"
   ]
  },
  {
   "cell_type": "code",
   "execution_count": 12,
   "metadata": {
    "ExecuteTime": {
     "end_time": "2017-10-04T15:25:15.926258Z",
     "start_time": "2017-10-04T15:25:12.652602Z"
    }
   },
   "outputs": [
    {
     "name": "stdout",
     "output_type": "stream",
     "text": [
      "42246 annot/S1_accessible_sites/S1a_accessible_sites.tsv\r\n"
     ]
    }
   ],
   "source": [
    "# Write output table\n",
    "fp_accessible_sites = 'annot/S1_accessible_sites/S1a_accessible_sites.tsv'\n",
    "df_merged.drop(['name', 'score'], axis=1).to_csv(fp_accessible_sites, sep='\\t', index=False)\n",
    "!wc -l {fp_accessible_sites}"
   ]
  },
  {
   "cell_type": "code",
   "execution_count": 17,
   "metadata": {
    "ExecuteTime": {
     "end_time": "2017-11-01T17:12:40.922166Z",
     "start_time": "2017-11-01T17:12:36.261374Z"
    }
   },
   "outputs": [
    {
     "name": "stdout",
     "output_type": "stream",
     "text": [
      "837 germline sites (preliminary)\n"
     ]
    }
   ],
   "source": [
    "fp_accessible_sites = 'annot/S1_accessible_sites/S1a_accessible_sites.tsv'\n",
    "df_accessible_sites = pd.read_csv(fp_accessible_sites, sep='\\t')\n",
    "\n",
    "df_ = pd.read_csv('annot733.germline/atac_merge/atac_merged_germline.tsv', sep='\\t')\n",
    "print('%d germline sites (preliminary)' % (len(df_.query(\"is_atac_wt_l1_decr\")),))\n",
    "df_accessible_sites['atac_is_germline_specific'] = df_['is_atac_wt_l1_decr']\n",
    "\n",
    "df_accessible_sites.to_csv('annot/S1_accessible_sites/S1a_accessible_sites_with_germline.tsv', sep='\\t', index=False)"
   ]
  },
  {
   "cell_type": "code",
   "execution_count": null,
   "metadata": {
    "collapsed": true
   },
   "outputs": [],
   "source": []
  }
 ],
 "metadata": {
  "kernelspec": {
   "display_name": "Python 3",
   "language": "python",
   "name": "python3"
  },
  "language_info": {
   "codemirror_mode": {
    "name": "ipython",
    "version": 3
   },
   "file_extension": ".py",
   "mimetype": "text/x-python",
   "name": "python",
   "nbconvert_exporter": "python",
   "pygments_lexer": "ipython3",
   "version": "3.6.2"
  }
 },
 "nbformat": 4,
 "nbformat_minor": 2
}
