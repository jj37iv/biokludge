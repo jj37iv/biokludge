{
 "cells": [
  {
   "cell_type": "code",
   "execution_count": 1,
   "metadata": {
    "ExecuteTime": {
     "end_time": "2017-12-18T13:59:42.633163Z",
     "start_time": "2017-12-18T13:59:38.133866Z"
    }
   },
   "outputs": [
    {
     "name": "stderr",
     "output_type": "stream",
     "text": [
      "/mnt/home3/jj374/anaconda36/lib/python3.6/site-packages/statsmodels/compat/pandas.py:56: FutureWarning: The pandas.core.datetools module is deprecated and will be removed in a future version. Please use the pandas.tseries module instead.\n",
      "  from pandas.core import datetools\n"
     ]
    },
    {
     "name": "stdout",
     "output_type": "stream",
     "text": [
      "os.getcwd(): /mnt/b2/scratch/ahringer/jj374/lab/relmapping\n"
     ]
    }
   ],
   "source": [
    "%run ~/relmapping/annot/notebooks/__init__.ipynb"
   ]
  },
  {
   "cell_type": "code",
   "execution_count": 2,
   "metadata": {
    "ExecuteTime": {
     "end_time": "2017-12-18T14:01:07.610614Z",
     "start_time": "2017-12-18T13:59:42.636577Z"
    },
    "code_folding": [
     0
    ]
   },
   "outputs": [
    {
     "name": "stderr",
     "output_type": "stream",
     "text": [
      "/mnt/home3/jj374/anaconda36/lib/python3.6/site-packages/IPython/core/interactiveshell.py:2698: DtypeWarning: Columns (5) have mixed types. Specify dtype option on import or set low_memory=False.\n",
      "  interactivity=interactivity, compiler=compiler, result=result)\n"
     ]
    },
    {
     "name": "stdout",
     "output_type": "stream",
     "text": [
      "33021595 annotation records\n",
      "1388 operon records before liftover\n"
     ]
    }
   ],
   "source": [
    "# Load full WS260 annotation set & extract operons\n",
    "fp_ = 'wget/ftp.wormbase.org/pub/wormbase/releases/WS260/species/c_elegans/PRJNA13758/c_elegans.PRJNA13758.WS260.annotations.gff2.gz'\n",
    "df_WS260 = pd.read_csv(fp_, sep='\\t', names=yp.NAMES_GTF, comment='#')\n",
    "print('%d annotation records' % (len(df_WS260),))\n",
    "\n",
    "df_WS260_operon = df_WS260.query('source == \"operon\"')\n",
    "print('%d operon records before liftover' % (len(df_WS260_operon),))"
   ]
  },
  {
   "cell_type": "code",
   "execution_count": 3,
   "metadata": {
    "ExecuteTime": {
     "end_time": "2017-12-18T14:01:09.096070Z",
     "start_time": "2017-12-18T14:01:07.612676Z"
    },
    "code_folding": []
   },
   "outputs": [
    {
     "name": "stdout",
     "output_type": "stream",
     "text": [
      "Input file  = /mnt/home1/ahringer/jj374/relmapping/tmp/liftover_WS235_WS220_gtf_fp_inp.tsv \n",
      "Output file = /mnt/home1/ahringer/jj374/relmapping/tmp/liftover_WS235_WS220_gtf_fp_out.tsv \n",
      "Lines processed from input file              = 1388\n",
      "Comment / blank lines written to output file = 0\n",
      "Data lines written to output file            = 1388\n",
      "Number of records changed                    = 1349\n",
      "1388 operon records after liftover\n"
     ]
    }
   ],
   "source": [
    "# Liftover to ce10 using an in-house utility\n",
    "def liftover_WS235_WS220_gtf(chroms, starts, ends, strands): # Liftover wrapper\n",
    "    \"\"\"\n",
    "    # http://www.ncbi.nlm.nih.gov/pmc/articles/PMC4512556/\n",
    "    # note that while annotations changed, the N2 genome sequence remained identical from WS215 through WS234\n",
    "    Test: \n",
    "    list(liftover_WS230_WS220(\n",
    "    chroms=['chrI', 'chrX', 'chrIII', 'chrV', 'chrIV', 'chrII'],\n",
    "    starts=[1,1,4,1,1, 1],\n",
    "    ends=[12507921,13713648,471811,15465174,11718826, 11718826],\n",
    "    strands=['+', '-', '+', '-', '+']))\n",
    "    \"\"\"\n",
    "    fp_inp = '/mnt/home1/ahringer/jj374/relmapping/tmp/liftover_WS235_WS220_gtf_fp_inp.tsv'\n",
    "    fp_out = '/mnt/home1/ahringer/jj374/relmapping/tmp/liftover_WS235_WS220_gtf_fp_out.tsv'\n",
    "    with open(fp_inp, 'w') as fh_inp:\n",
    "        for (chrom, start, end, strand) in zip(chroms, starts, ends, strands):\n",
    "            fh_inp.write('\\t'.join(map(str, (chrom, start, end, strand))) + '\\n')\n",
    "\n",
    "    liftover_bin = os.path.expanduser('~/lab/raw_data/datastore/Kenneth_Evans/ConvertWormAssembly-1-0-0/ConvertWormAssembly.1.0.0.pl')\n",
    "    liftover_dir = os.path.expanduser('~/lab/raw_data/datastore/Kenneth_Evans/ConvertWormAssembly-1-0-0/CHROMOSOME-DIFFERENCES-to-WS244')\n",
    "    !{liftover_bin} \\\n",
    "        --input={fp_inp} \\\n",
    "        --output={fp_out} \\\n",
    "        --backwards \\\n",
    "        --release1=WS235 \\\n",
    "        --release2=WS220 \\\n",
    "        --chrfield=1 \\\n",
    "        --posfield=2 \\\n",
    "        --posfield=3 \\\n",
    "        --postype=1 \\\n",
    "        --postype=1 \\\n",
    "        --strandfield=4 \\\n",
    "        --refdir={liftover_dir}\n",
    "    \n",
    "    df_out = pd.read_csv(fp_out, sep='\\t', names=['chrom', 'start', 'end', 'strand'])\n",
    "    for i, r in df_out.iterrows():\n",
    "        yield((r['chrom'], r['start'], r['end'], r['strand']))\n",
    "\n",
    "def to_ce10(df_inp): # Use liftover wrapper on a gtf-DataFrame\n",
    "    df_out = df_inp.query('(chrom != \"CHROMOSOME_MtDNA\") & (chrom != \"MtDNA\")').reset_index(drop=True).copy()\n",
    "    df_WS220 = pd.DataFrame.from_records(liftover_WS235_WS220_gtf(df_out['chrom'], df_out['start'], df_out['end'], df_out['strand']), columns=['chrom', 'start', 'end', 'strand'])\n",
    "    df_out['chrom'] = list(map(lambda chrom: 'chr' + chrom.lstrip('CHROMOSOME_'), df_WS220['chrom']))\n",
    "    df_out['start'] = df_WS220['start'].copy()\n",
    "    df_out['end'] = df_WS220['end'].copy()\n",
    "    df_out['strand'] = df_WS220['strand'].copy()\n",
    "    return df_out.sort_values(['chrom', 'start', 'end', 'strand'])\n",
    "\n",
    "df_WS260_operon_ce10 = to_ce10(df_WS260_operon)\n",
    "print('%d operon records after liftover' % (len(df_WS260_operon_ce10),))"
   ]
  },
  {
   "cell_type": "code",
   "execution_count": 4,
   "metadata": {
    "ExecuteTime": {
     "end_time": "2017-12-18T14:01:09.466195Z",
     "start_time": "2017-12-18T14:01:09.098179Z"
    }
   },
   "outputs": [
    {
     "name": "stdout",
     "output_type": "stream",
     "text": [
      "1388 WS260_ce10/WS260_ce10.operon.gtf\r\n"
     ]
    }
   ],
   "source": [
    "# Write output to WS260_ce10/WS260_ce10.operon.gtf\n",
    "df_WS260_operon_ce10.to_csv('WS260_ce10/WS260_ce10.operon.gtf', **yp.TO_GTF_KWARGS)\n",
    "!wc -l WS260_ce10/WS260_ce10.operon.gtf"
   ]
  }
 ],
 "metadata": {
  "kernelspec": {
   "display_name": "Python 3",
   "language": "python",
   "name": "python3"
  },
  "language_info": {
   "codemirror_mode": {
    "name": "ipython",
    "version": 3
   },
   "file_extension": ".py",
   "mimetype": "text/x-python",
   "name": "python",
   "nbconvert_exporter": "python",
   "pygments_lexer": "ipython3",
   "version": "3.6.2"
  }
 },
 "nbformat": 4,
 "nbformat_minor": 2
}
