{
 "cells": [
  {
   "cell_type": "code",
   "execution_count": 1,
   "metadata": {
    "ExecuteTime": {
     "end_time": "2018-05-29T14:04:20.704691Z",
     "start_time": "2018-05-29T14:04:15.162019Z"
    }
   },
   "outputs": [
    {
     "name": "stderr",
     "output_type": "stream",
     "text": [
      "/mnt/home3/jj374/anaconda36/lib/python3.6/site-packages/statsmodels/compat/pandas.py:56: FutureWarning: The pandas.core.datetools module is deprecated and will be removed in a future version. Please use the pandas.tseries module instead.\n",
      "  from pandas.core import datetools\n"
     ]
    },
    {
     "name": "stdout",
     "output_type": "stream",
     "text": [
      "os.getcwd(): /mnt/beegfs/scratch_copy/ahringer/jj374/lab/relmapping\n"
     ]
    }
   ],
   "source": [
    "# Set annotation to annot_ce10\n",
    "%run ~/relmapping/annot/notebooks/__init__.ipynb\n",
    "annot_ = 'annot_ce10'\n",
    "def mp(fp, annot_=annot_): return os.path.join(annot_, 'metrics_maxgap', fp)"
   ]
  },
  {
   "cell_type": "code",
   "execution_count": 2,
   "metadata": {
    "ExecuteTime": {
     "end_time": "2018-05-29T14:09:07.325741Z",
     "start_time": "2018-05-29T14:09:07.032227Z"
    }
   },
   "outputs": [
    {
     "data": {
      "text/html": [
       "<div>\n",
       "<style>\n",
       "    .dataframe thead tr:only-child th {\n",
       "        text-align: right;\n",
       "    }\n",
       "\n",
       "    .dataframe thead th {\n",
       "        text-align: left;\n",
       "    }\n",
       "\n",
       "    .dataframe tbody tr th {\n",
       "        vertical-align: top;\n",
       "    }\n",
       "</style>\n",
       "<table border=\"1\" class=\"dataframe\">\n",
       "  <thead>\n",
       "    <tr style=\"text-align: right;\">\n",
       "      <th></th>\n",
       "      <th>chrom</th>\n",
       "      <th>start</th>\n",
       "      <th>end</th>\n",
       "      <th>atac_wt_emb_height</th>\n",
       "      <th>atac_wt_l1_height</th>\n",
       "      <th>atac_wt_l2_height</th>\n",
       "      <th>atac_wt_l3_height</th>\n",
       "      <th>atac_wt_l4_height</th>\n",
       "      <th>atac_wt_ya_height</th>\n",
       "      <th>atac_glp1_d1_height</th>\n",
       "      <th>atac_glp1_d2_height</th>\n",
       "      <th>atac_glp1_d6_height</th>\n",
       "      <th>atac_glp1_d9_height</th>\n",
       "      <th>atac_glp1_d13_height</th>\n",
       "      <th>atac_source</th>\n",
       "    </tr>\n",
       "  </thead>\n",
       "  <tbody>\n",
       "    <tr>\n",
       "      <th>0</th>\n",
       "      <td>chrI</td>\n",
       "      <td>1900</td>\n",
       "      <td>2051</td>\n",
       "      <td>1.487219</td>\n",
       "      <td>1.436852</td>\n",
       "      <td>1.234831</td>\n",
       "      <td>1.476625</td>\n",
       "      <td>1.180041</td>\n",
       "      <td>3.028015</td>\n",
       "      <td>0.984149</td>\n",
       "      <td>0.912876</td>\n",
       "      <td>1.155934</td>\n",
       "      <td>1.187989</td>\n",
       "      <td>1.631096</td>\n",
       "      <td>atac_wt_se</td>\n",
       "    </tr>\n",
       "    <tr>\n",
       "      <th>1</th>\n",
       "      <td>chrI</td>\n",
       "      <td>3826</td>\n",
       "      <td>3977</td>\n",
       "      <td>67.202148</td>\n",
       "      <td>58.451061</td>\n",
       "      <td>74.416000</td>\n",
       "      <td>133.738358</td>\n",
       "      <td>179.794342</td>\n",
       "      <td>211.372787</td>\n",
       "      <td>88.025909</td>\n",
       "      <td>69.674324</td>\n",
       "      <td>68.506355</td>\n",
       "      <td>64.593590</td>\n",
       "      <td>55.761173</td>\n",
       "      <td>atac_wt_pe</td>\n",
       "    </tr>\n",
       "    <tr>\n",
       "      <th>2</th>\n",
       "      <td>chrI</td>\n",
       "      <td>4276</td>\n",
       "      <td>4427</td>\n",
       "      <td>1.581892</td>\n",
       "      <td>2.656172</td>\n",
       "      <td>2.186598</td>\n",
       "      <td>3.502825</td>\n",
       "      <td>5.871352</td>\n",
       "      <td>7.771934</td>\n",
       "      <td>1.802739</td>\n",
       "      <td>1.327403</td>\n",
       "      <td>1.547550</td>\n",
       "      <td>2.069787</td>\n",
       "      <td>1.812409</td>\n",
       "      <td>atac_wt_se</td>\n",
       "    </tr>\n",
       "    <tr>\n",
       "      <th>3</th>\n",
       "      <td>chrI</td>\n",
       "      <td>11272</td>\n",
       "      <td>11423</td>\n",
       "      <td>2.606371</td>\n",
       "      <td>4.443353</td>\n",
       "      <td>9.830266</td>\n",
       "      <td>10.700469</td>\n",
       "      <td>11.683004</td>\n",
       "      <td>13.928377</td>\n",
       "      <td>20.864365</td>\n",
       "      <td>16.739265</td>\n",
       "      <td>17.585819</td>\n",
       "      <td>15.858321</td>\n",
       "      <td>17.166847</td>\n",
       "      <td>atac_wt_pe</td>\n",
       "    </tr>\n",
       "    <tr>\n",
       "      <th>4</th>\n",
       "      <td>chrI</td>\n",
       "      <td>13070</td>\n",
       "      <td>13221</td>\n",
       "      <td>5.557951</td>\n",
       "      <td>3.608833</td>\n",
       "      <td>3.977978</td>\n",
       "      <td>3.398183</td>\n",
       "      <td>2.689872</td>\n",
       "      <td>2.953438</td>\n",
       "      <td>2.047788</td>\n",
       "      <td>2.084701</td>\n",
       "      <td>1.994170</td>\n",
       "      <td>2.586042</td>\n",
       "      <td>3.195713</td>\n",
       "      <td>atac_wt_pe</td>\n",
       "    </tr>\n",
       "  </tbody>\n",
       "</table>\n",
       "</div>"
      ],
      "text/plain": [
       "  chrom  start    end  atac_wt_emb_height  atac_wt_l1_height  \\\n",
       "0  chrI   1900   2051            1.487219           1.436852   \n",
       "1  chrI   3826   3977           67.202148          58.451061   \n",
       "2  chrI   4276   4427            1.581892           2.656172   \n",
       "3  chrI  11272  11423            2.606371           4.443353   \n",
       "4  chrI  13070  13221            5.557951           3.608833   \n",
       "\n",
       "   atac_wt_l2_height  atac_wt_l3_height  atac_wt_l4_height  atac_wt_ya_height  \\\n",
       "0           1.234831           1.476625           1.180041           3.028015   \n",
       "1          74.416000         133.738358         179.794342         211.372787   \n",
       "2           2.186598           3.502825           5.871352           7.771934   \n",
       "3           9.830266          10.700469          11.683004          13.928377   \n",
       "4           3.977978           3.398183           2.689872           2.953438   \n",
       "\n",
       "   atac_glp1_d1_height  atac_glp1_d2_height  atac_glp1_d6_height  \\\n",
       "0             0.984149             0.912876             1.155934   \n",
       "1            88.025909            69.674324            68.506355   \n",
       "2             1.802739             1.327403             1.547550   \n",
       "3            20.864365            16.739265            17.585819   \n",
       "4             2.047788             2.084701             1.994170   \n",
       "\n",
       "   atac_glp1_d9_height  atac_glp1_d13_height atac_source  \n",
       "0             1.187989              1.631096  atac_wt_se  \n",
       "1            64.593590             55.761173  atac_wt_pe  \n",
       "2             2.069787              1.812409  atac_wt_se  \n",
       "3            15.858321             17.166847  atac_wt_pe  \n",
       "4             2.586042              3.195713  atac_wt_pe  "
      ]
     },
     "execution_count": 2,
     "metadata": {},
     "output_type": "execute_result"
    }
   ],
   "source": [
    "# Load long cap jump & exon data\n",
    "df_atac = pd.read_csv(os.path.join(annot_, 'accessible_sites.tsv'), sep='\\t')\n",
    "l_atac_peak_pos = df_atac[['start', 'end']].mean(axis=1).map(int)\n",
    "df_atac.head()"
   ]
  },
  {
   "cell_type": "code",
   "execution_count": 3,
   "metadata": {
    "ExecuteTime": {
     "end_time": "2018-05-29T14:09:09.296695Z",
     "start_time": "2018-05-29T14:09:08.155034Z"
    }
   },
   "outputs": [
    {
     "name": "stderr",
     "output_type": "stream",
     "text": [
      "/mnt/home3/jj374/anaconda36/lib/python3.6/site-packages/IPython/core/interactiveshell.py:2698: DtypeWarning: Columns (3,5,6,7,9,10,11,12,13,14,19,44,46,47,48,50,51,52,54,55,56,64,66,67,68,70,71,72,74,75,76) have mixed types. Specify dtype option on import or set low_memory=False.\n",
      "  interactivity=interactivity, compiler=compiler, result=result)\n"
     ]
    }
   ],
   "source": [
    "df_exon_fwd = pd.read_csv(os.path.join(annot_, 'metrics_exon', 'closest_exon_fwd.tsv'), sep='\\t')\n",
    "df_exon_rev = pd.read_csv(os.path.join(annot_, 'metrics_exon', 'closest_exon_rev.tsv'), sep='\\t')"
   ]
  },
  {
   "cell_type": "code",
   "execution_count": 4,
   "metadata": {
    "ExecuteTime": {
     "end_time": "2018-05-29T14:12:21.267073Z",
     "start_time": "2018-05-29T14:09:31.827460Z"
    },
    "code_folding": [
     0
    ]
   },
   "outputs": [
    {
     "name": "stderr",
     "output_type": "stream",
     "text": [
      "[Parallel(n_jobs=15)]: Done  11 out of  11 | elapsed:  1.3min finished\n",
      "[Parallel(n_jobs=15)]: Done  11 out of  11 | elapsed:  1.3min finished\n"
     ]
    },
    {
     "name": "stdout",
     "output_type": "stream",
     "text": [
      "42246 annot_ce10/metrics_maxgap/maxgap_fwd.bed\n",
      "42246 annot_ce10/metrics_maxgap/maxgap_rev.bed\n"
     ]
    }
   ],
   "source": [
    "# maximum gap between hypersensitive site and downstream first exons\n",
    "def maxgap(a): return max(len(list(g)) if (k == 0) or (k != k) else 0 for k,g in itertools.groupby(a))\n",
    "\n",
    "def nanmaxgap(a): return maxgap([e if e == e else 0 for e in a])\n",
    "\n",
    "def maxgap_fwd_(fp_inp, chroms, atac_modes, exon1_starts, flank_len=250):\n",
    "    l = []\n",
    "    fh = pyBigWig.open(fp_inp)\n",
    "    for (chrom, atac_mode, exon1_start) in itertools.islice(zip(chroms, atac_modes, exon1_starts), None):\n",
    "        # Interval between atac-mode (+flank), and 5'-end of closest downstream exonl clipped by chromosome ends\n",
    "        start_ = max(atac_mode + flank_len, 0)\n",
    "        end_ = min(exon1_start + 1, fh.chroms(chrom))\n",
    "        if start_ < end_:\n",
    "            l.append(nanmaxgap(np.array(fh.values(chrom, int(start_), int(end_)))))\n",
    "        else:\n",
    "            l.append(-1)\n",
    "    fh.close()\n",
    "    return l\n",
    "\n",
    "def maxgap_rev_(fp_inp, chroms, atac_modes, exon1_ends, flank_len=250):\n",
    "    l = []\n",
    "    fh = pyBigWig.open(fp_inp)\n",
    "    for (chrom, atac_mode, exon1_end) in itertools.islice(zip(chroms, atac_modes, exon1_ends), None):\n",
    "        # Interval between atac-mode (+flank), and 5'-end of closest downstream exonl clipped by chromosome ends\n",
    "        start_ = max(exon1_end - 1, 0)\n",
    "        end_ = min(atac_mode - flank_len + 1, fh.chroms(chrom))\n",
    "        if start_ < end_:\n",
    "            l.append(nanmaxgap(np.array(fh.values(chrom, int(start_), int(end_)))))\n",
    "        else:\n",
    "            l.append(-1)\n",
    "    fh.close()\n",
    "    return l\n",
    "\n",
    "def maxgap_fwd(stage):\n",
    "    step = 'trim20.bwa_pe.rm_unmapped_pe.rm_chrM.rm_rRNA_broad.rm_blacklist.rm_q10.filled_fwd.mean_by_stage'\n",
    "    fp_fwd = pf('lcap808_%s' % (stage,), step, '.bw', 'lcap808')\n",
    "    l_maxgap = maxgap_fwd_(fp_fwd, df_atac['chrom'], l_atac_peak_pos, df_exon_fwd['pass1_exon1_start'])\n",
    "    return pd.DataFrame({'maxgap_%s_fwd' % (stage,): l_maxgap})\n",
    "\n",
    "def maxgap_rev(stage):\n",
    "    step = 'trim20.bwa_pe.rm_unmapped_pe.rm_chrM.rm_rRNA_broad.rm_blacklist.rm_q10.filled_rev.mean_by_stage'\n",
    "    fp_rev = pf('lcap808_%s' % (stage,), step, '.bw', 'lcap808')\n",
    "    l_maxgap = maxgap_rev_(fp_rev, df_atac['chrom'], l_atac_peak_pos, df_exon_rev['pass1_exon1_end'])\n",
    "    return pd.DataFrame({'maxgap_%s_rev' % (stage,): l_maxgap})\n",
    "\n",
    "df_maxgap_fwd = pd.concat(pmap(maxgap_fwd, config['stages'], n_jobs=15), axis=1)\n",
    "df_maxgap_rev = pd.concat(pmap(maxgap_rev, config['stages'], n_jobs=15), axis=1)"
   ]
  },
  {
   "cell_type": "code",
   "execution_count": 8,
   "metadata": {
    "ExecuteTime": {
     "end_time": "2018-05-29T14:13:37.477186Z",
     "start_time": "2018-05-29T14:13:36.548210Z"
    },
    "code_folding": [],
    "collapsed": true
   },
   "outputs": [],
   "source": [
    "# metrics_maxgap/ write .tsv-files of full maxgap assignments\n",
    "df_maxgap_fwd.to_csv(mp('maxgap_fwd.tsv'), header=True, index=False, sep='\\t')\n",
    "df_maxgap_rev.to_csv(mp('maxgap_rev.tsv'), header=True, index=False, sep='\\t')"
   ]
  },
  {
   "cell_type": "code",
   "execution_count": 7,
   "metadata": {
    "ExecuteTime": {
     "end_time": "2018-05-29T14:12:49.326833Z",
     "start_time": "2018-05-29T14:12:39.246062Z"
    }
   },
   "outputs": [
    {
     "name": "stdout",
     "output_type": "stream",
     "text": [
      "42246 annot_ce10/metrics_maxgap/maxgap_fwd.bed\n",
      "42246 annot_ce10/metrics_maxgap/maxgap_rev.bed\n"
     ]
    }
   ],
   "source": [
    "# Visualise maxgap tests as .bed-files\n",
    "def itemRgb_(maxgap_):\n",
    "    if maxgap_ == 0:\n",
    "        return RED\n",
    "    else:\n",
    "        return BLUE\n",
    "\n",
    "write_gffbed(mp('maxgap_fwd.bed'),\n",
    "    chrom = df_atac['chrom'],\n",
    "    start = df_atac['start'],\n",
    "    end = df_atac['end'],\n",
    "    name = df_maxgap_fwd.min(axis=1),\n",
    "    strand = '+',\n",
    "    attr = df_maxgap_fwd,\n",
    "    itemRgb = map(itemRgb_, df_maxgap_fwd.min(axis=1)),\n",
    ")\n",
    "\n",
    "write_gffbed(mp('maxgap_rev.bed'),\n",
    "    chrom = df_atac['chrom'],\n",
    "    start = df_atac['start'],\n",
    "    end = df_atac['end'],\n",
    "    name = df_maxgap_rev.min(axis=1),\n",
    "    strand = '-',\n",
    "    attr = df_maxgap_rev,\n",
    "    itemRgb = map(itemRgb_, df_maxgap_rev.min(axis=1)),\n",
    ")\n",
    "\n",
    "!wc -l {mp('maxgap_fwd.bed')}\n",
    "!wc -l {mp('maxgap_rev.bed')}"
   ]
  },
  {
   "cell_type": "code",
   "execution_count": null,
   "metadata": {
    "collapsed": true
   },
   "outputs": [],
   "source": []
  }
 ],
 "metadata": {
  "kernelspec": {
   "display_name": "Python 3",
   "language": "python",
   "name": "python3"
  },
  "language_info": {
   "codemirror_mode": {
    "name": "ipython",
    "version": 3
   },
   "file_extension": ".py",
   "mimetype": "text/x-python",
   "name": "python",
   "nbconvert_exporter": "python",
   "pygments_lexer": "ipython3",
   "version": "3.6.2"
  }
 },
 "nbformat": 4,
 "nbformat_minor": 2
}
