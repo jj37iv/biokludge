{
 "cells": [
  {
   "cell_type": "code",
   "execution_count": 1,
   "metadata": {
    "ExecuteTime": {
     "end_time": "2018-03-22T18:12:02.964507Z",
     "start_time": "2018-03-22T18:11:57.395932Z"
    },
    "code_folding": [
     0
    ]
   },
   "outputs": [
    {
     "name": "stderr",
     "output_type": "stream",
     "text": [
      "/mnt/home3/jj374/anaconda36/lib/python3.6/site-packages/statsmodels/compat/pandas.py:56: FutureWarning: The pandas.core.datetools module is deprecated and will be removed in a future version. Please use the pandas.tseries module instead.\n",
      "  from pandas.core import datetools\n"
     ]
    },
    {
     "name": "stdout",
     "output_type": "stream",
     "text": [
      "os.getcwd(): /mnt/b2/scratch/ahringer/jj374/lab/relmapping\n"
     ]
    }
   ],
   "source": [
    "# Initialise\n",
    "%run ~/relmapping/annot/notebooks/__init__.ipynb\n",
    "def vp(fp): return os.path.join('annot/S2_regulatory_annotation/metrics/', fp) # \"verbose path\""
   ]
  },
  {
   "cell_type": "code",
   "execution_count": 2,
   "metadata": {
    "ExecuteTime": {
     "end_time": "2018-03-22T18:12:03.779712Z",
     "start_time": "2018-03-22T18:12:02.967309Z"
    },
    "code_folding": [
     0
    ]
   },
   "outputs": [
    {
     "name": "stdout",
     "output_type": "stream",
     "text": [
      "42245 ATAC-seq sites\n"
     ]
    }
   ],
   "source": [
    "# Load hypersensitive sites\n",
    "df_sites = pd.read_csv('annot/S1_accessible_sites/S1a_accessible_sites.tsv', sep='\\t')[['chrom', 'start', 'end', 'atac_mode']]\n",
    "#df_sites = df_sites.head(100)\n",
    "print(len(df_sites), 'ATAC-seq sites')"
   ]
  },
  {
   "cell_type": "code",
   "execution_count": 3,
   "metadata": {
    "ExecuteTime": {
     "end_time": "2018-03-22T18:13:58.492244Z",
     "start_time": "2018-03-22T18:12:03.783056Z"
    },
    "code_folding": [
     3,
     18,
     27,
     33
    ]
   },
   "outputs": [
    {
     "name": "stdout",
     "output_type": "stream",
     "text": [
      "estimating size factors\n",
      "estimating dispersions\n",
      "gene-wise dispersion estimates\n",
      "estimating size factors\n",
      "estimating dispersions\n",
      "gene-wise dispersion estimates\n",
      "estimating size factors\n",
      "estimating dispersions\n",
      "gene-wise dispersion estimates\n",
      "estimating size factors\n",
      "estimating dispersions\n",
      "gene-wise dispersion estimates\n",
      "estimating size factors\n",
      "estimating dispersions\n",
      "gene-wise dispersion estimates\n",
      "estimating size factors\n",
      "estimating size factors\n",
      "estimating dispersions\n",
      "gene-wise dispersion estimates\n",
      "estimating dispersions\n",
      "gene-wise dispersion estimates\n",
      "estimating size factors\n",
      "estimating dispersions\n",
      "gene-wise dispersion estimates\n",
      "estimating size factors\n",
      "estimating dispersions\n",
      "gene-wise dispersion estimates\n",
      "estimating size factors\n",
      "estimating size factors\n",
      "estimating dispersions\n",
      "gene-wise dispersion estimates\n",
      "estimating dispersions\n",
      "gene-wise dispersion estimates\n",
      "mean-dispersion relationship\n",
      "mean-dispersion relationship\n",
      "mean-dispersion relationship\n",
      "final dispersion estimates\n",
      "mean-dispersion relationship\n",
      "mean-dispersion relationship\n",
      "final dispersion estimates\n",
      "fitting model and testing\n",
      "fitting model and testing\n",
      "final dispersion estimates\n",
      "final dispersion estimates\n",
      "final dispersion estimates\n",
      "mean-dispersion relationship\n",
      "fitting model and testing\n",
      "fitting model and testing\n",
      "fitting model and testing\n",
      "mean-dispersion relationship\n",
      "final dispersion estimates\n",
      "mean-dispersion relationship\n",
      "mean-dispersion relationship\n",
      "final dispersion estimates\n",
      "fitting model and testing\n",
      "final dispersion estimates\n",
      "mean-dispersion relationship\n",
      "final dispersion estimates\n",
      "fitting model and testing\n",
      "fitting model and testing\n",
      "final dispersion estimates\n",
      "fitting model and testing\n",
      "mean-dispersion relationship\n",
      "fitting model and testing\n",
      "final dispersion estimates\n",
      "fitting model and testing\n"
     ]
    },
    {
     "name": "stderr",
     "output_type": "stream",
     "text": [
      "[Parallel(n_jobs=15)]: Done  11 out of  11 | elapsed:  1.8min finished\n"
     ]
    }
   ],
   "source": [
    "# Jump test\n",
    "\n",
    "# 2-condition, 2-replicate one-sided test\n",
    "def deseq2x2(df_counts):\n",
    "    fh_inp, fp_inp = tempfile.mkstemp(dir=os.getcwd(), prefix='deseq2x2_inp_')\n",
    "    fh_out, fp_out = tempfile.mkstemp(dir=os.getcwd(), prefix='deseq2x2_out_')\n",
    "    df_counts.to_csv(fp_inp, sep='\\t')\n",
    "    !cat {fp_inp} | scripts/deseq2x2_greater.R > {fp_out}\n",
    "    #!wc -l {fp_inp}\n",
    "    #!wc -l {fp_out}\n",
    "    #!tail -n 20 {fp_out}\n",
    "    df_out = pd.read_csv(fp_out, sep='\\s+')\n",
    "    assert len(df_counts) == len(df_out)\n",
    "    !rm {fp_inp}\n",
    "    !rm {fp_out}\n",
    "    return df_out\n",
    "\n",
    "# Count reads & call DESeq\n",
    "def jump_test(fp_rep1, fp_rep2, chrom, u_start, u_end, d_start, d_end, f):\n",
    "    df_counts = pd.DataFrame()\n",
    "    df_counts['ucount_rep1'] = list(map(f, yp.read_regions(fp_rep1, chrom, u_start, u_end)))\n",
    "    df_counts['ucount_rep2'] = list(map(f, yp.read_regions(fp_rep2, chrom, u_start, u_end)))\n",
    "    df_counts['dcount_rep1'] = list(map(f, yp.read_regions(fp_rep1, chrom, d_start, d_end)))\n",
    "    df_counts['dcount_rep2'] = list(map(f, yp.read_regions(fp_rep2, chrom, d_start, d_end)))\n",
    "    df_deseq = deseq2x2(df_counts)\n",
    "    return pd.concat([df_counts, df_deseq], axis=1)\n",
    "\n",
    "def itemRgb_(passed):\n",
    "    if passed:\n",
    "        return yp.RED\n",
    "    else:\n",
    "        return yp.BLUE\n",
    "\n",
    "def jump_test_fwd(stage):\n",
    "    step = 'trim20.bwa_pe.rm_unmapped_pe.rm_chrM.rm_rRNA_broad.rm_blacklist.rm_q10.filled_fwd'\n",
    "    fp_rep1 = pf('lcap808_%(stage)s_rep1' % locals(), step, '.bw', 'lcap808')\n",
    "    fp_rep2 = pf('lcap808_%(stage)s_rep2' % locals(), step, '.bw', 'lcap808')\n",
    "    chrom = df_sites['chrom'].tolist()\n",
    "    u_start = (df_sites['atac_mode'] - 250).tolist()\n",
    "    u_end = (df_sites['atac_mode'] - 75 + 1).tolist()\n",
    "    d_start = (df_sites['atac_mode'] + 75).tolist()\n",
    "    d_end = (df_sites['atac_mode'] + 250 + 1).tolist()\n",
    "    df_jump = jump_test(fp_rep1, fp_rep2, chrom=chrom, u_start=u_start, u_end=u_end,\n",
    "                        d_start=d_start, d_end=d_end, f=lambda s: int(np.nansum(s)))\n",
    "    df_jump['passed'] = (df_jump['log2FoldChange'] > 2) & (df_jump['padj'] < 0.05)\n",
    "    df_jump['summary'] = ['%s / %.02f / %.3g' % (passed, lfc, padj) \\\n",
    "                          for passed, lfc, padj in zip(df_jump['passed'], df_jump['log2FoldChange'], df_jump['padj'])]\n",
    "    df_jump.columns = ['lcap_%s_fwd_%s' % (stage, col) for col in df_jump.columns]\n",
    "    \n",
    "    write_gffbed(vp('lcap_%s_fwd.bed' % (stage,)),\n",
    "        chrom = chrom,\n",
    "        start = u_start,\n",
    "        thickStart = np.array(u_end) - 1,\n",
    "        thickEnd = np.array(d_start) + 1,\n",
    "        end = d_end,\n",
    "        attr = df_jump,\n",
    "        itemRgb = list(map(itemRgb_, df_jump['lcap_%s_fwd_passed' % (stage,)]\n",
    "    )))\n",
    "    return df_jump\n",
    "\n",
    "df_jump_fwd = pd.concat(pmap(jump_test_fwd, config['stages'], n_jobs=15), axis=1)\n",
    "df_jump_fwd.to_csv(vp('lcap_all_fwd.tsv'), sep='\\t', index=False)"
   ]
  },
  {
   "cell_type": "code",
   "execution_count": 4,
   "metadata": {
    "ExecuteTime": {
     "end_time": "2018-03-22T18:15:56.001759Z",
     "start_time": "2018-03-22T18:13:58.496066Z"
    }
   },
   "outputs": [
    {
     "name": "stdout",
     "output_type": "stream",
     "text": [
      "estimating size factors\n",
      "estimating dispersions\n",
      "gene-wise dispersion estimates\n",
      "estimating size factors\n",
      "estimating dispersions\n",
      "gene-wise dispersion estimates\n",
      "estimating size factors\n",
      "estimating dispersions\n",
      "gene-wise dispersion estimates\n",
      "estimating size factors\n",
      "estimating dispersions\n",
      "gene-wise dispersion estimates\n",
      "estimating size factors\n",
      "estimating size factors\n",
      "estimating dispersions\n",
      "estimating dispersions\n",
      "gene-wise dispersion estimates\n",
      "estimating size factors\n",
      "gene-wise dispersion estimates\n",
      "estimating dispersions\n",
      "gene-wise dispersion estimates\n",
      "estimating size factors\n",
      "estimating size factors\n",
      "estimating dispersions\n",
      "gene-wise dispersion estimates\n",
      "estimating size factors\n",
      "estimating dispersions\n",
      "gene-wise dispersion estimates\n",
      "estimating dispersions\n",
      "gene-wise dispersion estimates\n",
      "estimating size factors\n",
      "estimating dispersions\n",
      "gene-wise dispersion estimates\n",
      "mean-dispersion relationship\n",
      "mean-dispersion relationship\n",
      "mean-dispersion relationship\n",
      "mean-dispersion relationship\n",
      "final dispersion estimates\n",
      "mean-dispersion relationship\n",
      "mean-dispersion relationship\n",
      "final dispersion estimates\n",
      "final dispersion estimates\n",
      "fitting model and testing\n",
      "final dispersion estimates\n",
      "final dispersion estimates\n",
      "fitting model and testing\n",
      "final dispersion estimates\n",
      "fitting model and testing\n",
      "fitting model and testing\n",
      "mean-dispersion relationship\n",
      "fitting model and testing\n",
      "fitting model and testing\n",
      "mean-dispersion relationship\n",
      "final dispersion estimates\n",
      "mean-dispersion relationship\n",
      "final dispersion estimates\n",
      "mean-dispersion relationship\n",
      "fitting model and testing\n",
      "final dispersion estimates\n",
      "fitting model and testing\n",
      "final dispersion estimates\n",
      "mean-dispersion relationship\n",
      "fitting model and testing\n",
      "fitting model and testing\n",
      "final dispersion estimates\n",
      "fitting model and testing\n"
     ]
    },
    {
     "name": "stderr",
     "output_type": "stream",
     "text": [
      "[Parallel(n_jobs=15)]: Done  11 out of  11 | elapsed:  1.9min finished\n"
     ]
    }
   ],
   "source": [
    "def jump_test_rev(stage):\n",
    "    step = 'trim20.bwa_pe.rm_unmapped_pe.rm_chrM.rm_rRNA_broad.rm_blacklist.rm_q10.filled_rev'\n",
    "    fp_rep1 = pf('lcap808_%(stage)s_rep1' % locals(), step, '.bw', 'lcap808')\n",
    "    fp_rep2 = pf('lcap808_%(stage)s_rep2' % locals(), step, '.bw', 'lcap808')\n",
    "    chrom = df_sites['chrom'].tolist()\n",
    "    d_start = (df_sites['atac_mode'] - 250).tolist()\n",
    "    d_end = (df_sites['atac_mode'] - 75 + 1).tolist()\n",
    "    u_start = (df_sites['atac_mode'] + 75).tolist()\n",
    "    u_end = (df_sites['atac_mode'] + 250 + 1).tolist()\n",
    "    df_jump = jump_test(fp_rep1, fp_rep2, chrom=chrom, u_start=u_start, u_end=u_end,\n",
    "                        d_start=d_start, d_end=d_end, f=lambda s: int(np.nansum(s)))\n",
    "    df_jump['passed'] = (df_jump['log2FoldChange'] > 2) & (df_jump['padj'] < 0.05)\n",
    "    df_jump['summary'] = ['%s / %.02f / %.3g' % (passed, lfc, padj) \\\n",
    "                          for passed, lfc, padj in zip(df_jump['passed'], df_jump['log2FoldChange'], df_jump['padj'])]\n",
    "    df_jump.columns = ['lcap_%s_rev_%s' % (stage, col) for col in df_jump.columns]\n",
    "    \n",
    "    write_gffbed(vp('lcap_%s_rev.bed' % (stage,)),\n",
    "        chrom = chrom,\n",
    "        start = d_start,\n",
    "        thickStart = np.array(d_end) - 1,\n",
    "        thickEnd = np.array(u_start) + 1,\n",
    "        end = u_end,\n",
    "        attr = df_jump,\n",
    "        itemRgb = list(map(itemRgb_, df_jump['lcap_%s_rev_passed' % (stage,)]\n",
    "    )))\n",
    "    return df_jump\n",
    "\n",
    "df_jump_rev = pd.concat(pmap(jump_test_rev, config['stages'], n_jobs=15), axis=1)\n",
    "df_jump_rev.to_csv(vp('lcap_all_rev.tsv'), sep='\\t', index=False)"
   ]
  },
  {
   "cell_type": "code",
   "execution_count": 5,
   "metadata": {
    "ExecuteTime": {
     "end_time": "2018-03-22T18:15:56.276343Z",
     "start_time": "2018-03-22T18:15:56.006275Z"
    }
   },
   "outputs": [
    {
     "data": {
      "text/html": [
       "<div>\n",
       "<style>\n",
       "    .dataframe thead tr:only-child th {\n",
       "        text-align: right;\n",
       "    }\n",
       "\n",
       "    .dataframe thead th {\n",
       "        text-align: left;\n",
       "    }\n",
       "\n",
       "    .dataframe tbody tr th {\n",
       "        vertical-align: top;\n",
       "    }\n",
       "</style>\n",
       "<table border=\"1\" class=\"dataframe\">\n",
       "  <thead>\n",
       "    <tr style=\"text-align: right;\">\n",
       "      <th></th>\n",
       "      <th>lcap_wt_emb_fwd_passed</th>\n",
       "      <th>lcap_wt_l1_fwd_passed</th>\n",
       "      <th>lcap_wt_l2_fwd_passed</th>\n",
       "      <th>lcap_wt_l3_fwd_passed</th>\n",
       "      <th>lcap_wt_l4_fwd_passed</th>\n",
       "      <th>lcap_wt_ya_fwd_passed</th>\n",
       "      <th>lcap_glp1_d1_fwd_passed</th>\n",
       "      <th>lcap_glp1_d2_fwd_passed</th>\n",
       "      <th>lcap_glp1_d6_fwd_passed</th>\n",
       "      <th>lcap_glp1_d9_fwd_passed</th>\n",
       "      <th>lcap_glp1_d13_fwd_passed</th>\n",
       "    </tr>\n",
       "  </thead>\n",
       "  <tbody>\n",
       "    <tr>\n",
       "      <th>False</th>\n",
       "      <td>36530</td>\n",
       "      <td>37075</td>\n",
       "      <td>36640</td>\n",
       "      <td>36676</td>\n",
       "      <td>36628</td>\n",
       "      <td>36641</td>\n",
       "      <td>38930</td>\n",
       "      <td>39220</td>\n",
       "      <td>38418</td>\n",
       "      <td>38903</td>\n",
       "      <td>38370</td>\n",
       "    </tr>\n",
       "    <tr>\n",
       "      <th>True</th>\n",
       "      <td>5715</td>\n",
       "      <td>5170</td>\n",
       "      <td>5605</td>\n",
       "      <td>5569</td>\n",
       "      <td>5617</td>\n",
       "      <td>5604</td>\n",
       "      <td>3315</td>\n",
       "      <td>3025</td>\n",
       "      <td>3827</td>\n",
       "      <td>3342</td>\n",
       "      <td>3875</td>\n",
       "    </tr>\n",
       "  </tbody>\n",
       "</table>\n",
       "</div>"
      ],
      "text/plain": [
       "       lcap_wt_emb_fwd_passed  lcap_wt_l1_fwd_passed  lcap_wt_l2_fwd_passed  \\\n",
       "False                   36530                  37075                  36640   \n",
       "True                     5715                   5170                   5605   \n",
       "\n",
       "       lcap_wt_l3_fwd_passed  lcap_wt_l4_fwd_passed  lcap_wt_ya_fwd_passed  \\\n",
       "False                  36676                  36628                  36641   \n",
       "True                    5569                   5617                   5604   \n",
       "\n",
       "       lcap_glp1_d1_fwd_passed  lcap_glp1_d2_fwd_passed  \\\n",
       "False                    38930                    39220   \n",
       "True                      3315                     3025   \n",
       "\n",
       "       lcap_glp1_d6_fwd_passed  lcap_glp1_d9_fwd_passed  \\\n",
       "False                    38418                    38903   \n",
       "True                      3827                     3342   \n",
       "\n",
       "       lcap_glp1_d13_fwd_passed  \n",
       "False                     38370  \n",
       "True                       3875  "
      ]
     },
     "execution_count": 5,
     "metadata": {},
     "output_type": "execute_result"
    }
   ],
   "source": [
    "pd.concat([df_jump_fwd['lcap_%s_fwd_passed' % (stage,)].value_counts() for stage in config['stages']], axis=1)"
   ]
  },
  {
   "cell_type": "code",
   "execution_count": 6,
   "metadata": {
    "ExecuteTime": {
     "end_time": "2018-03-22T18:15:56.341398Z",
     "start_time": "2018-03-22T18:15:56.279032Z"
    }
   },
   "outputs": [
    {
     "data": {
      "text/html": [
       "<div>\n",
       "<style>\n",
       "    .dataframe thead tr:only-child th {\n",
       "        text-align: right;\n",
       "    }\n",
       "\n",
       "    .dataframe thead th {\n",
       "        text-align: left;\n",
       "    }\n",
       "\n",
       "    .dataframe tbody tr th {\n",
       "        vertical-align: top;\n",
       "    }\n",
       "</style>\n",
       "<table border=\"1\" class=\"dataframe\">\n",
       "  <thead>\n",
       "    <tr style=\"text-align: right;\">\n",
       "      <th></th>\n",
       "      <th>lcap_wt_emb_rev_passed</th>\n",
       "      <th>lcap_wt_l1_rev_passed</th>\n",
       "      <th>lcap_wt_l2_rev_passed</th>\n",
       "      <th>lcap_wt_l3_rev_passed</th>\n",
       "      <th>lcap_wt_l4_rev_passed</th>\n",
       "      <th>lcap_wt_ya_rev_passed</th>\n",
       "      <th>lcap_glp1_d1_rev_passed</th>\n",
       "      <th>lcap_glp1_d2_rev_passed</th>\n",
       "      <th>lcap_glp1_d6_rev_passed</th>\n",
       "      <th>lcap_glp1_d9_rev_passed</th>\n",
       "      <th>lcap_glp1_d13_rev_passed</th>\n",
       "    </tr>\n",
       "  </thead>\n",
       "  <tbody>\n",
       "    <tr>\n",
       "      <th>False</th>\n",
       "      <td>36584</td>\n",
       "      <td>37062</td>\n",
       "      <td>36512</td>\n",
       "      <td>36733</td>\n",
       "      <td>36641</td>\n",
       "      <td>36783</td>\n",
       "      <td>38932</td>\n",
       "      <td>39385</td>\n",
       "      <td>38539</td>\n",
       "      <td>38904</td>\n",
       "      <td>38452</td>\n",
       "    </tr>\n",
       "    <tr>\n",
       "      <th>True</th>\n",
       "      <td>5661</td>\n",
       "      <td>5183</td>\n",
       "      <td>5733</td>\n",
       "      <td>5512</td>\n",
       "      <td>5604</td>\n",
       "      <td>5462</td>\n",
       "      <td>3313</td>\n",
       "      <td>2860</td>\n",
       "      <td>3706</td>\n",
       "      <td>3341</td>\n",
       "      <td>3793</td>\n",
       "    </tr>\n",
       "  </tbody>\n",
       "</table>\n",
       "</div>"
      ],
      "text/plain": [
       "       lcap_wt_emb_rev_passed  lcap_wt_l1_rev_passed  lcap_wt_l2_rev_passed  \\\n",
       "False                   36584                  37062                  36512   \n",
       "True                     5661                   5183                   5733   \n",
       "\n",
       "       lcap_wt_l3_rev_passed  lcap_wt_l4_rev_passed  lcap_wt_ya_rev_passed  \\\n",
       "False                  36733                  36641                  36783   \n",
       "True                    5512                   5604                   5462   \n",
       "\n",
       "       lcap_glp1_d1_rev_passed  lcap_glp1_d2_rev_passed  \\\n",
       "False                    38932                    39385   \n",
       "True                      3313                     2860   \n",
       "\n",
       "       lcap_glp1_d6_rev_passed  lcap_glp1_d9_rev_passed  \\\n",
       "False                    38539                    38904   \n",
       "True                      3706                     3341   \n",
       "\n",
       "       lcap_glp1_d13_rev_passed  \n",
       "False                     38452  \n",
       "True                       3793  "
      ]
     },
     "execution_count": 6,
     "metadata": {},
     "output_type": "execute_result"
    }
   ],
   "source": [
    "pd.concat([df_jump_rev['lcap_%s_rev_passed' % (stage,)].value_counts() for stage in config['stages']], axis=1)"
   ]
  },
  {
   "cell_type": "code",
   "execution_count": 7,
   "metadata": {
    "ExecuteTime": {
     "end_time": "2018-03-22T18:16:06.297314Z",
     "start_time": "2018-03-22T18:15:56.343604Z"
    },
    "scrolled": true
   },
   "outputs": [],
   "source": [
    "u_start = (df_sites['atac_mode'] - 250).tolist()\n",
    "u_end = (df_sites['atac_mode'] - 75 + 1).tolist()\n",
    "d_start = (df_sites['atac_mode'] + 75).tolist()\n",
    "d_end = (df_sites['atac_mode'] + 250 + 1).tolist()\n",
    "\n",
    "l_passed_any = df_jump_fwd[['lcap_%s_fwd_passed' % (stage,) for stage in config['stages']]].any(axis=1)\n",
    "write_gffbed(vp('lcap_all_fwd.bed'),\n",
    "    chrom = df_sites['chrom'],\n",
    "    start = u_start,\n",
    "    thickStart = np.array(u_end) - 1,\n",
    "    thickEnd = np.array(d_start) + 1,\n",
    "    end = d_end,\n",
    "    attr = df_jump_fwd[['lcap_%s_fwd_summary' % (stage,) for stage in config['stages']]],\n",
    "    itemRgb = list(map(itemRgb_, l_passed_any)),\n",
    ")\n",
    "\n",
    "l_passed_any = df_jump_rev[['lcap_%s_rev_passed' % (stage,) for stage in config['stages']]].any(axis=1)\n",
    "write_gffbed(vp('lcap_all_rev.bed'),\n",
    "    chrom = df_sites['chrom'],\n",
    "    start = u_start,\n",
    "    thickStart = np.array(u_end) - 1,\n",
    "    thickEnd = np.array(d_start) + 1,\n",
    "    end = d_end,\n",
    "    attr = df_jump_rev[['lcap_%s_rev_summary' % (stage,) for stage in config['stages']]],\n",
    "    itemRgb = list(map(itemRgb_, l_passed_any)),\n",
    ")"
   ]
  }
 ],
 "metadata": {
  "kernelspec": {
   "display_name": "Python 3",
   "language": "python",
   "name": "python3"
  },
  "language_info": {
   "codemirror_mode": {
    "name": "ipython",
    "version": 3
   },
   "file_extension": ".py",
   "mimetype": "text/x-python",
   "name": "python",
   "nbconvert_exporter": "python",
   "pygments_lexer": "ipython3",
   "version": "3.6.2"
  }
 },
 "nbformat": 4,
 "nbformat_minor": 2
}
