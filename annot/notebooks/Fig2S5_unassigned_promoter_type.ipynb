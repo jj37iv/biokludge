{
 "cells": [
  {
   "cell_type": "code",
   "execution_count": 1,
   "metadata": {
    "ExecuteTime": {
     "end_time": "2018-11-05T19:37:15.976904Z",
     "start_time": "2018-11-05T19:37:10.391234Z"
    }
   },
   "outputs": [
    {
     "name": "stderr",
     "output_type": "stream",
     "text": [
      "/mnt/home3/jj374/anaconda36/lib/python3.6/site-packages/statsmodels/compat/pandas.py:56: FutureWarning: The pandas.core.datetools module is deprecated and will be removed in a future version. Please use the pandas.tseries module instead.\n",
      "  from pandas.core import datetools\n"
     ]
    },
    {
     "name": "stdout",
     "output_type": "stream",
     "text": [
      "os.getcwd(): /mnt/beegfs/scratch_copy/ahringer/jj374/lab/relmapping\n"
     ]
    }
   ],
   "source": [
    "%run ~/relmapping/annot/notebooks/__init__.ipynb"
   ]
  },
  {
   "cell_type": "code",
   "execution_count": 2,
   "metadata": {
    "ExecuteTime": {
     "end_time": "2018-11-05T19:37:16.010212Z",
     "start_time": "2018-11-05T19:37:15.978856Z"
    },
    "collapsed": true
   },
   "outputs": [],
   "source": [
    "def vp(fp): return os.path.join('annot_eLife_revised/_fig/Fig2S5', fp) # \"verbose path\""
   ]
  },
  {
   "cell_type": "code",
   "execution_count": 3,
   "metadata": {
    "ExecuteTime": {
     "end_time": "2018-11-05T19:37:17.871834Z",
     "start_time": "2018-11-05T19:37:16.011975Z"
    },
    "collapsed": true
   },
   "outputs": [],
   "source": [
    "df_regl = df_source_data_()"
   ]
  },
  {
   "cell_type": "code",
   "execution_count": 4,
   "metadata": {
    "ExecuteTime": {
     "end_time": "2018-11-05T19:37:17.987579Z",
     "start_time": "2018-11-05T19:37:17.874068Z"
    }
   },
   "outputs": [],
   "source": [
    "fp_ = vp('outron-extended_protein_coding_genes.bed')\n",
    "df_regions = pd.read_csv(fp_, sep='\\t')"
   ]
  },
  {
   "cell_type": "code",
   "execution_count": 5,
   "metadata": {
    "ExecuteTime": {
     "end_time": "2018-11-05T19:37:18.401196Z",
     "start_time": "2018-11-05T19:37:17.990340Z"
    },
    "collapsed": true
   },
   "outputs": [],
   "source": [
    "df_regl_gene = BedTool.from_dataframe(df_regl[yp.NAMES_BED3]).map(\n",
    "    b=BedTool.from_dataframe(df_regions).fn,\n",
    "    c='4,5,6', o='count,count,distinct', # name, score, strand\n",
    ").to_dataframe(names=yp.NAMES_BED6)"
   ]
  },
  {
   "cell_type": "code",
   "execution_count": 6,
   "metadata": {
    "ExecuteTime": {
     "end_time": "2018-11-05T19:37:18.570701Z",
     "start_time": "2018-11-05T19:37:18.404242Z"
    }
   },
   "outputs": [
    {
     "name": "stdout",
     "output_type": "stream",
     "text": [
      ".                         81384\n",
      "PROMPT_uaRNA               1194\n",
      "genic_region_antisense     1090\n",
      "intergenic                  674\n",
      "other                       148\n",
      "dtype: int64\n",
      "Total:  3106\n"
     ]
    }
   ],
   "source": [
    "def type_(annot_maj, annot_min, strand_maj, count_gene, strand_gene):\n",
    "    unique_antisense_gene = (count_gene == 1) and (\n",
    "        (strand_maj == '+' and strand_gene == '-') or \n",
    "        (strand_maj == '-' and strand_gene == '+')\n",
    "    )\n",
    "    if annot_maj == \"unassigned_promoter\":\n",
    "        if unique_antisense_gene:\n",
    "            if annot_min == 'coding_promoter':\n",
    "                return 'PROMPT_uaRNA'\n",
    "            else:\n",
    "                return 'genic_region_antisense'\n",
    "        elif count_gene == 0:\n",
    "            return 'intergenic'\n",
    "        else:\n",
    "            return 'other'\n",
    "    else:\n",
    "        return '.'\n",
    "\n",
    "df_regl['unassigned_promoter_type_fwd'] = [* map(type_, df_regl['annot_fwd'], df_regl['annot_rev'], \n",
    "    itertools.repeat('+', len(df_regl)), df_regl_gene['name'], df_regl_gene['strand']) ]\n",
    "df_regl['unassigned_promoter_type_rev'] = [* map(type_, df_regl['annot_rev'], df_regl['annot_fwd'],\n",
    "    itertools.repeat('-', len(df_regl)), df_regl_gene['name'], df_regl_gene['strand']) ]\n",
    "\n",
    "df_ = pd.concat([df_regl['unassigned_promoter_type_fwd'], df_regl['unassigned_promoter_type_rev']]).value_counts()\n",
    "print(df_)\n",
    "print('Total: ', df_[['PROMPT_uaRNA',  'genic_region_antisense', 'intergenic', 'other']].values.sum())"
   ]
  },
  {
   "cell_type": "code",
   "execution_count": 7,
   "metadata": {
    "ExecuteTime": {
     "end_time": "2018-11-05T19:37:19.265731Z",
     "start_time": "2018-11-05T19:37:18.572541Z"
    }
   },
   "outputs": [
    {
     "data": {
      "text/html": [
       "<div>\n",
       "<style>\n",
       "    .dataframe thead tr:only-child th {\n",
       "        text-align: right;\n",
       "    }\n",
       "\n",
       "    .dataframe thead th {\n",
       "        text-align: left;\n",
       "    }\n",
       "\n",
       "    .dataframe tbody tr th {\n",
       "        vertical-align: top;\n",
       "    }\n",
       "</style>\n",
       "<table border=\"1\" class=\"dataframe\">\n",
       "  <thead>\n",
       "    <tr style=\"text-align: right;\">\n",
       "      <th></th>\n",
       "      <th>counts</th>\n",
       "      <th>pct</th>\n",
       "    </tr>\n",
       "  </thead>\n",
       "  <tbody>\n",
       "    <tr>\n",
       "      <th>PROMPT_uaRNA</th>\n",
       "      <td>1194</td>\n",
       "      <td>38.4</td>\n",
       "    </tr>\n",
       "    <tr>\n",
       "      <th>genic_region_antisense</th>\n",
       "      <td>1090</td>\n",
       "      <td>35.1</td>\n",
       "    </tr>\n",
       "    <tr>\n",
       "      <th>intergenic</th>\n",
       "      <td>674</td>\n",
       "      <td>21.7</td>\n",
       "    </tr>\n",
       "    <tr>\n",
       "      <th>other</th>\n",
       "      <td>148</td>\n",
       "      <td>4.8</td>\n",
       "    </tr>\n",
       "  </tbody>\n",
       "</table>\n",
       "</div>"
      ],
      "text/plain": [
       "                        counts   pct\n",
       "PROMPT_uaRNA              1194  38.4\n",
       "genic_region_antisense    1090  35.1\n",
       "intergenic                 674  21.7\n",
       "other                      148   4.8"
      ]
     },
     "execution_count": 7,
     "metadata": {},
     "output_type": "execute_result"
    }
   ],
   "source": [
    "df_pct_ = pd.DataFrame(df_[['PROMPT_uaRNA',  'genic_region_antisense', 'intergenic', 'other']])\n",
    "df_pct_.columns = ['counts']\n",
    "df_pct_['pct'] = 100*df_pct_['counts'] / df_pct_['counts'].sum()\n",
    "df_pct_ = df_pct_.round(1)\n",
    "df_pct_.to_csv(vp('Fig2S5_unknown_promoter_type.tsv'), sep='\\t')\n",
    "df_pct_"
   ]
  },
  {
   "cell_type": "code",
   "execution_count": 8,
   "metadata": {
    "ExecuteTime": {
     "end_time": "2018-11-05T19:37:20.577841Z",
     "start_time": "2018-11-05T19:37:19.268403Z"
    }
   },
   "outputs": [
    {
     "name": "stdout",
     "output_type": "stream",
     "text": [
      "581 annot_eLife_revised/_fig/Fig2S5/unassigned_promoter_fwd_PROMPT_uaRNA.bed\n",
      "524 annot_eLife_revised/_fig/Fig2S5/unassigned_promoter_fwd_genic_region_antisense.bed\n",
      "338 annot_eLife_revised/_fig/Fig2S5/unassigned_promoter_fwd_intergenic.bed\n",
      "65 annot_eLife_revised/_fig/Fig2S5/unassigned_promoter_fwd_other.bed\n",
      "613 annot_eLife_revised/_fig/Fig2S5/unassigned_promoter_rev_PROMPT_uaRNA.bed\n",
      "566 annot_eLife_revised/_fig/Fig2S5/unassigned_promoter_rev_genic_region_antisense.bed\n",
      "336 annot_eLife_revised/_fig/Fig2S5/unassigned_promoter_rev_intergenic.bed\n",
      "83 annot_eLife_revised/_fig/Fig2S5/unassigned_promoter_rev_other.bed\n"
     ]
    }
   ],
   "source": [
    "for type_ in df_regl['unassigned_promoter_type_fwd'].value_counts().sort_index().index.tolist():\n",
    "    if type_ == '.': continue\n",
    "    fp_ = vp('unassigned_promoter_fwd_%(type_)s.bed' % locals())\n",
    "    df_regl.query('unassigned_promoter_type_fwd == \"%(type_)s\"' % locals())[yp.NAMES_BED3].to_csv(fp_, sep='\\t', index=False, header=False)\n",
    "    !wc -l {fp_}\n",
    "\n",
    "for type_ in df_regl['unassigned_promoter_type_rev'].value_counts().sort_index().index.tolist():\n",
    "    if type_ == '.': continue\n",
    "    fp_ = vp('unassigned_promoter_rev_%(type_)s.bed' % locals())\n",
    "    df_regl.query('unassigned_promoter_type_rev == \"%(type_)s\"' % locals())[yp.NAMES_BED3].to_csv(fp_, sep='\\t', index=False, header=False)\n",
    "    !wc -l {fp_}"
   ]
  }
 ],
 "metadata": {
  "kernelspec": {
   "display_name": "Python 3",
   "language": "python",
   "name": "python3"
  },
  "language_info": {
   "codemirror_mode": {
    "name": "ipython",
    "version": 3
   },
   "file_extension": ".py",
   "mimetype": "text/x-python",
   "name": "python",
   "nbconvert_exporter": "python",
   "pygments_lexer": "ipython3",
   "version": "3.6.2"
  }
 },
 "nbformat": 4,
 "nbformat_minor": 2
}
