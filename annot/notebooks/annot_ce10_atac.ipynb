{
 "cells": [
  {
   "cell_type": "code",
   "execution_count": 1,
   "metadata": {
    "ExecuteTime": {
     "end_time": "2018-05-29T10:33:36.593220Z",
     "start_time": "2018-05-29T10:33:30.305266Z"
    }
   },
   "outputs": [
    {
     "name": "stderr",
     "output_type": "stream",
     "text": [
      "/mnt/home3/jj374/anaconda36/lib/python3.6/site-packages/statsmodels/compat/pandas.py:56: FutureWarning: The pandas.core.datetools module is deprecated and will be removed in a future version. Please use the pandas.tseries module instead.\n",
      "  from pandas.core import datetools\n"
     ]
    },
    {
     "name": "stdout",
     "output_type": "stream",
     "text": [
      "os.getcwd(): /mnt/beegfs/scratch_copy/ahringer/jj374/lab/relmapping\n"
     ]
    }
   ],
   "source": [
    "%run ~/relmapping/annot/notebooks/__init__.ipynb"
   ]
  },
  {
   "cell_type": "code",
   "execution_count": 2,
   "metadata": {
    "ExecuteTime": {
     "end_time": "2018-05-29T10:34:20.811364Z",
     "start_time": "2018-05-29T10:33:36.595372Z"
    }
   },
   "outputs": [
    {
     "name": "stdout",
     "output_type": "stream",
     "text": [
      "30161 atac716_dm/tg_pe.bwa_pe.p10_keep.macs2_pe_lt200.concave75_idr/atac_dm.tg_pe.bwa_pe.p10_keep.macs2_pe_lt200.concave75_idr_0.001.bed\n",
      "32442 atac716_dm/tg_pe.bwa_pe.p10_keep.macs2_se_extsize150_shiftm75_keepdup_all.concave_idr/atac_dm.tg_pe.bwa_pe.p10_keep.macs2_se_extsize150_shiftm75_keepdup_all.concave_idr_0.001.bed\n",
      "29370 atac716_am/tg_se.bwa_se.q10_keep.macs2_se_extsize150_shiftm75_keepdup_all.concave150_idr/atac_am1.tg_se.bwa_se.q10_keep.macs2_se_extsize150_shiftm75_keepdup_all.concave150_idr_0.001.bed\n"
     ]
    },
    {
     "name": "stderr",
     "output_type": "stream",
     "text": [
      "/mnt/home3/jj374/anaconda36/lib/python3.6/site-packages/scipy/ndimage/measurements.py:1301: RuntimeWarning: invalid value encountered in double_scalars\n",
      "  for dir in range(input.ndim)]\n"
     ]
    }
   ],
   "source": [
    "fp_dm_pe = pf('atac_dm', 'tg_pe.bwa_pe.p10_keep.macs2_pe_lt200.concave75_idr', '_0.001.bed', 'atac716_dm')\n",
    "fp_dm_se = pf('atac_dm', 'tg_pe.bwa_pe.p10_keep.macs2_se_extsize150_shiftm75_keepdup_all.concave_idr', '_0.001.bed', 'atac716_dm')\n",
    "fp_am_se = pf('atac_am1', 'tg_se.bwa_se.q10_keep.macs2_se_extsize150_shiftm75_keepdup_all.concave150_idr', '_0.001.bed', 'atac716_am')\n",
    "\n",
    "!wc -l {fp_dm_pe}\n",
    "!wc -l {fp_dm_se}\n",
    "!wc -l {fp_am_se}\n",
    "\n",
    "df_dm_pe = pd.read_csv(fp_dm_pe, sep='\\t', comment='#', names=NAMES_BED6)\n",
    "df_dm_se = pd.read_csv(fp_dm_se, sep='\\t', comment='#', names=NAMES_BED6)\n",
    "df_am_se = pd.read_csv(fp_am_se, sep='\\t', comment='#', names=NAMES_BED6)\n",
    "\n",
    "fp_dm_pe_bw = pf('atac808_wt', 'tg_pe.bwa_pe.rm_unmapped_pe.rm_chrM.rm_blacklist.rm_q10.macs2_pe_lt200.mean_by_series', '_treat_pileup.bw', 'atac808')\n",
    "fp_dm_se_bw = pf('atac808_wt', 'tg_se.bwa_se.rm_unmapped.rm_chrM.rm_blacklist.rm_q10.macs2_se_extsize150_shiftm75_keepdup_all.mean_by_series', '_treat_pileup.bw', 'atac808')\n",
    "fp_am_se_bw = pf('atac808_glp1', 'tg_se.bwa_se.rm_unmapped.rm_chrM.rm_blacklist.rm_q10.macs2_se_extsize150_shiftm75_keepdup_all.mean_by_series', '_treat_pileup.bw', 'atac808')\n",
    "\n",
    "assert os.path.isfile(fp_dm_pe_bw)\n",
    "assert os.path.isfile(fp_dm_se_bw)\n",
    "assert os.path.isfile(fp_am_se_bw)\n",
    "\n",
    "def com_(a_, offset):\n",
    "    a = np.nan_to_num(a_)\n",
    "    a_com = scipy.ndimage.measurements.center_of_mass(a)[0]\n",
    "    if a_com != a_com: a_com = a.shape[0] / 2\n",
    "    return int(a_com + offset)\n",
    "df_dm_pe['atac_peak_accessibility'] = list(map(com_, yp.read_regions(fp_dm_pe_bw, df_dm_pe.chrom.tolist(), df_dm_pe.start.tolist(), df_dm_pe.end.tolist()), df_dm_pe.start.tolist())) \n",
    "df_dm_se['atac_peak_accessibility'] = list(map(com_, yp.read_regions(fp_dm_se_bw, df_dm_se.chrom.tolist(), df_dm_se.start.tolist(), df_dm_se.end.tolist()), df_dm_se.start.tolist())) \n",
    "df_am_se['atac_peak_accessibility'] = list(map(com_, yp.read_regions(fp_am_se_bw, df_am_se.chrom.tolist(), df_am_se.start.tolist(), df_am_se.end.tolist()), df_am_se.start.tolist())) \n",
    "\n",
    "#df_dm_pe['atac_peak_accessibility'] = summit_pos(df_dm_pe)\n",
    "#df_dm_se['atac_peak_accessibility'] = summit_pos(df_dm_se)\n",
    "#df_am_se['atac_peak_accessibility'] = summit_pos(df_am_se)\n",
    "\n",
    "#def summit_(a_, offset):\n",
    "#    return int(yp.nanargmax_median(np.nan_to_num(a_)) + offset)\n",
    "#df_dm_pe['atac_peak_accessibility'] = list(map(summit_, yp.read_regions(fp_dm_pe_bw, df_dm_pe.chrom.tolist(), df_dm_pe.start.tolist(), df_dm_pe.end.tolist()), df_dm_pe.start.tolist())) \n",
    "#df_dm_se['atac_peak_accessibility'] = list(map(summit_, yp.read_regions(fp_dm_se_bw, df_dm_se.chrom.tolist(), df_dm_se.start.tolist(), df_dm_se.end.tolist()), df_dm_se.start.tolist())) \n",
    "#df_am_se['atac_peak_accessibility'] = list(map(summit_, yp.read_regions(fp_am_se_bw, df_am_se.chrom.tolist(), df_am_se.start.tolist(), df_am_se.end.tolist()), df_am_se.start.tolist())) \n",
    "\n",
    "df_dm_pe['atac_source'] = 'atac_wt_pe'\n",
    "df_dm_se['atac_source'] = 'atac_wt_se'\n",
    "df_am_se['atac_source'] = 'atac_glp1_se'\n",
    "\n",
    "del df_dm_pe['strand']\n",
    "del df_dm_se['strand']\n",
    "del df_am_se['strand']"
   ]
  },
  {
   "cell_type": "code",
   "execution_count": 3,
   "metadata": {
    "ExecuteTime": {
     "end_time": "2018-05-29T10:34:22.493448Z",
     "start_time": "2018-05-29T10:34:20.813633Z"
    }
   },
   "outputs": [
    {
     "name": "stdout",
     "output_type": "stream",
     "text": [
      "30160 annot/Fig1D1_accessible_sites/atac_wt_pe.bed\n",
      "32441 annot/Fig1D1_accessible_sites/atac_wt_se.bed\n",
      "29369 annot/Fig1D1_accessible_sites/atac_glp1_se.bed\n"
     ]
    }
   ],
   "source": [
    "df_dm_pe.to_csv('annot/Fig1D1_accessible_sites/atac_wt_pe.bed', sep='\\t', header=False, index=False)\n",
    "df_dm_se.to_csv('annot/Fig1D1_accessible_sites/atac_wt_se.bed', sep='\\t', header=False, index=False)\n",
    "df_am_se.to_csv('annot/Fig1D1_accessible_sites/atac_glp1_se.bed', sep='\\t', header=False, index=False)\n",
    "!wc -l annot/Fig1D1_accessible_sites/atac_wt_pe.bed\n",
    "!wc -l annot/Fig1D1_accessible_sites/atac_wt_se.bed\n",
    "!wc -l annot/Fig1D1_accessible_sites/atac_glp1_se.bed"
   ]
  },
  {
   "cell_type": "code",
   "execution_count": 4,
   "metadata": {
    "ExecuteTime": {
     "end_time": "2018-05-29T10:34:24.785263Z",
     "start_time": "2018-05-29T10:34:22.497284Z"
    }
   },
   "outputs": [
    {
     "name": "stdout",
     "output_type": "stream",
     "text": [
      "30160 annot/Fig1D1_accessible_sites/atac_wt_glp1.bed\n",
      "35728 annot/Fig1D1_accessible_sites/atac_wt_glp1.bed\n",
      "42245 annot/Fig1D1_accessible_sites/atac_wt_glp1.bed\n",
      "42246 annot/Fig1D1_accessible_sites/atac_wt_glp1.bed\n"
     ]
    }
   ],
   "source": [
    "# All peaks in wt_pe\n",
    "!cp annot/Fig1D1_accessible_sites/atac_wt_pe.bed annot/Fig1D1_accessible_sites/atac_wt_glp1.bed\n",
    "!wc -l annot/Fig1D1_accessible_sites/atac_wt_glp1.bed\n",
    "# Add wt_se peaks not in wt_pe\n",
    "!bedtools subtract -A -a annot/Fig1D1_accessible_sites/atac_wt_se.bed -b annot/Fig1D1_accessible_sites/atac_wt_pe.bed >> annot/Fig1D1_accessible_sites/atac_wt_glp1.bed\n",
    "!sort -k 1,1 -k 2,2n -k 3,3n -o annot/Fig1D1_accessible_sites/atac_wt_glp1.bed annot/Fig1D1_accessible_sites/atac_wt_glp1.bed\n",
    "!wc -l annot/Fig1D1_accessible_sites/atac_wt_glp1.bed\n",
    "# Add glp1_se peaks not in wt_pe+wt_se\n",
    "!bedtools subtract -A -a annot/Fig1D1_accessible_sites/atac_glp1_se.bed -b annot/Fig1D1_accessible_sites/atac_wt_glp1.bed >> annot/Fig1D1_accessible_sites/atac_wt_glp1.bed\n",
    "!sort -k 1,1 -k 2,2n -k 3,3n -o annot/Fig1D1_accessible_sites/atac_wt_glp1.bed annot/Fig1D1_accessible_sites/atac_wt_glp1.bed\n",
    "!wc -l annot/Fig1D1_accessible_sites/atac_wt_glp1.bed\n",
    "!sed -i '1i#track gffTags=on' annot/Fig1D1_accessible_sites/atac_wt_glp1.bed\n",
    "!wc -l annot/Fig1D1_accessible_sites/atac_wt_glp1.bed"
   ]
  },
  {
   "cell_type": "code",
   "execution_count": 5,
   "metadata": {
    "ExecuteTime": {
     "end_time": "2018-05-29T10:34:25.043221Z",
     "start_time": "2018-05-29T10:34:24.789051Z"
    },
    "collapsed": true
   },
   "outputs": [],
   "source": [
    "# Write .tsv file with all the columns\n",
    "df_merged = pd.read_csv('annot/Fig1D1_accessible_sites/atac_wt_glp1.bed',\n",
    "            names=['chrom', 'start', 'end', 'name', 'score', 'atac_peak_accessibility', 'atac_source'], sep='\\t', comment='#')\n",
    "\n",
    "df_merged['start'] = df_merged['atac_peak_accessibility'] - 75\n",
    "df_merged['end'] = df_merged['atac_peak_accessibility'] + 75 + 1"
   ]
  },
  {
   "cell_type": "code",
   "execution_count": 6,
   "metadata": {
    "ExecuteTime": {
     "end_time": "2018-05-29T10:36:13.654192Z",
     "start_time": "2018-05-29T10:34:25.629622Z"
    }
   },
   "outputs": [
    {
     "name": "stdout",
     "output_type": "stream",
     "text": [
      "wt_emb True\n",
      "wt_l1 True\n",
      "wt_l2 True\n",
      "wt_l3 True\n",
      "wt_l4 True\n",
      "wt_ya True\n",
      "glp1_d1 True\n",
      "glp1_d2 True\n",
      "glp1_d6 True\n",
      "glp1_d9 True\n",
      "glp1_d13 True\n"
     ]
    }
   ],
   "source": [
    "# Peak heights for every hypersensitive site\n",
    "for stage in itertools.islice(config['stages'], None):\n",
    "    fp_ = 'atac814_geo/tracks/atac_%s.bw' % (stage,)\n",
    "    print(stage, os.path.isfile(fp_))\n",
    "    df_merged['atac_%(stage)s_height' % locals()] = list(map(np.nanmax, yp.read_regions(fp_, df_merged.chrom.tolist(), df_merged.start.tolist(), df_merged.end.tolist())))"
   ]
  },
  {
   "cell_type": "code",
   "execution_count": 7,
   "metadata": {
    "ExecuteTime": {
     "end_time": "2018-05-29T10:36:19.078353Z",
     "start_time": "2018-05-29T10:36:13.657638Z"
    }
   },
   "outputs": [
    {
     "name": "stdout",
     "output_type": "stream",
     "text": [
      "42246 annot_ce10/accessible_sites.bed\r\n"
     ]
    }
   ],
   "source": [
    "fp_ = 'annot_ce10/accessible_sites.bed'\n",
    "write_gffbed(fp_,\n",
    "    chrom = df_merged['chrom'],\n",
    "    start = df_merged['start'],\n",
    "    end = df_merged['end'],\n",
    "    attr = df_merged[['atac_%s_height' % stage_ for stage_ in config['stages']] + ['atac_source']],\n",
    "    itemRgb = '0,0,178',\n",
    ")\n",
    "!wc -l {fp_}"
   ]
  },
  {
   "cell_type": "code",
   "execution_count": 8,
   "metadata": {
    "ExecuteTime": {
     "end_time": "2018-05-29T10:36:20.549020Z",
     "start_time": "2018-05-29T10:36:19.082206Z"
    }
   },
   "outputs": [
    {
     "name": "stdout",
     "output_type": "stream",
     "text": [
      "42246 annot_ce10/accessible_sites.tsv\r\n"
     ]
    }
   ],
   "source": [
    "# Write output table\n",
    "fp_ = 'annot_ce10/accessible_sites.tsv'\n",
    "df_ = df_merged[yp.NAMES_BED3 + ['atac_%s_height' % stage_ for stage_ in config['stages']] + ['atac_source']]\n",
    "df_.to_csv(fp_, sep='\\t', index=False)\n",
    "!wc -l {fp_}"
   ]
  },
  {
   "cell_type": "code",
   "execution_count": null,
   "metadata": {
    "ExecuteTime": {
     "end_time": "2018-04-27T16:03:01.964573Z",
     "start_time": "2018-04-27T16:03:01.934032Z"
    },
    "collapsed": true
   },
   "outputs": [],
   "source": [
    "# Max peak height across all wt stages (e.g. select top 10k strong peaks)\n",
    "#df_merged['atac_wt_max_height'] = df_merged[['atac_%(stage)s_height' % locals() for stage in config['stages_wt']]].max(axis=1)\n",
    "#df_merged.loc[df_merged['atac_source'] == 'atac_glp1_se', 'atac_wt_max_height'] = 0.0\n",
    "#df_merged['atac_wt_max_rank'] = df_merged['atac_wt_max_height'].rank(ascending=False)"
   ]
  },
  {
   "cell_type": "code",
   "execution_count": null,
   "metadata": {
    "ExecuteTime": {
     "end_time": "2018-04-27T16:03:01.994793Z",
     "start_time": "2018-04-27T16:03:01.966233Z"
    },
    "collapsed": true
   },
   "outputs": [],
   "source": [
    "# Count reads within every hypersensitive site\n",
    "#for rep in itertools.islice(config['atac_geo_by_rep'], None):\n",
    "#    step_ = 'tg_se.bwa_se.rm_unmapped.rm_chrM.rm_blacklist.rm_q10.macs2_se_extsize1_keepdup_all'\n",
    "#    fp_ = pf('atac728_%(rep)s' % locals(), step_, '_treat_pileup.bw', 'atac728')\n",
    "#    if not (os.path.isfile(fp_)):\n",
    "#        print(rep + ', skipping')\n",
    "#        continue\n",
    "#    print(rep)\n",
    "#    df_merged['atac_%(rep)s_count' % locals()] = list(map(np.nansum,\n",
    "#        yp.mread_regions(fp_,\n",
    "#                        df_merged.chrom.tolist(),\n",
    "#                        (df_merged.start - 50).tolist(),\n",
    "#                        (df_merged.end + 50).tolist())\n",
    "#                                                         ))"
   ]
  },
  {
   "cell_type": "code",
   "execution_count": null,
   "metadata": {
    "ExecuteTime": {
     "end_time": "2018-04-27T16:03:02.028213Z",
     "start_time": "2018-04-27T16:03:01.996420Z"
    },
    "collapsed": true
   },
   "outputs": [],
   "source": [
    "# Measure peak height (in raw count coverage) within every hypersensitive site\n",
    "#for rep in itertools.islice(config['atac_geo_by_rep'], None):\n",
    "#    step_ = 'tg_se.bwa_se.rm_unmapped.rm_chrM.rm_blacklist.rm_q10.macs2_se_extsize150_shiftm75_keepdup_all_noSPMR'\n",
    "#    fp_ = pf('atac728_%(rep)s' % locals(), step_, '_treat_pileup.bw', 'atac728')\n",
    "#    if not (os.path.isfile(fp_)):\n",
    "#        print(rep + ', skipping')\n",
    "#        continue\n",
    "#    print(rep)\n",
    "#    df_merged['atac_%(rep)s_maxcount' % locals()] = list(map(np.nanmax, \n",
    "#        yp.mread_regions(fp_, \n",
    "#                     df_merged.chrom.tolist(), \n",
    "#                     (df_merged.start - 50).tolist(),\n",
    "#                     (df_merged.end + 50).tolist())\n",
    "#                                                            ))"
   ]
  },
  {
   "cell_type": "code",
   "execution_count": null,
   "metadata": {
    "ExecuteTime": {
     "end_time": "2018-04-27T16:03:04.956091Z",
     "start_time": "2018-04-27T16:03:03.100768Z"
    },
    "collapsed": true
   },
   "outputs": [],
   "source": [
    "#fp_accessible_sites = 'annot/Fig1D1_accessible_sites/Fig1D1_accessible_sites.tsv'\n",
    "#df_accessible_sites = pd.read_csv(fp_accessible_sites, sep='\\t')#\n",
    "#\n",
    "#df_ = pd.read_csv('annot733.germline/atac_merge/atac_merged_germline.tsv', sep='\\t')\n",
    "#print('%d germline sites (preliminary)' % (len(df_.query(\"is_atac_wt_l1_decr\")),))\n",
    "#df_accessible_sites['atac_is_germline_specific'] = df_['is_atac_wt_l1_decr']\n",
    "#\n",
    "#df_accessible_sites.to_csv('annot/Fig1D1_accessible_sites/Fig1D1_accessible_sites_with_germline.tsv', sep='\\t', index=False)"
   ]
  }
 ],
 "metadata": {
  "kernelspec": {
   "display_name": "Python 3",
   "language": "python",
   "name": "python3"
  },
  "language_info": {
   "codemirror_mode": {
    "name": "ipython",
    "version": 3
   },
   "file_extension": ".py",
   "mimetype": "text/x-python",
   "name": "python",
   "nbconvert_exporter": "python",
   "pygments_lexer": "ipython3",
   "version": "3.6.2"
  }
 },
 "nbformat": 4,
 "nbformat_minor": 2
}
