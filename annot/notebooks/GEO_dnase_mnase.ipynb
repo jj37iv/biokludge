{
 "cells": [
  {
   "cell_type": "code",
   "execution_count": 1,
   "metadata": {
    "ExecuteTime": {
     "end_time": "2018-05-10T17:51:34.983565Z",
     "start_time": "2018-05-10T17:51:23.568314Z"
    }
   },
   "outputs": [
    {
     "name": "stderr",
     "output_type": "stream",
     "text": [
      "/mnt/home3/jj374/anaconda36/lib/python3.6/site-packages/statsmodels/compat/pandas.py:56: FutureWarning: The pandas.core.datetools module is deprecated and will be removed in a future version. Please use the pandas.tseries module instead.\n",
      "  from pandas.core import datetools\n"
     ]
    },
    {
     "name": "stdout",
     "output_type": "stream",
     "text": [
      "os.getcwd(): /mnt/beegfs/scratch_copy/ahringer/jj374/lab/relmapping\n"
     ]
    }
   ],
   "source": [
    "%run ~/relmapping/annot/notebooks/__init__.ipynb"
   ]
  },
  {
   "cell_type": "code",
   "execution_count": 2,
   "metadata": {
    "ExecuteTime": {
     "end_time": "2018-05-10T17:51:35.567516Z",
     "start_time": "2018-05-10T17:51:34.991478Z"
    },
    "code_folding": [
     0
    ]
   },
   "outputs": [
    {
     "name": "stdout",
     "output_type": "stream",
     "text": [
      "334 samples total\n"
     ]
    },
    {
     "data": {
      "text/html": [
       "<div>\n",
       "<style>\n",
       "    .dataframe thead tr:only-child th {\n",
       "        text-align: right;\n",
       "    }\n",
       "\n",
       "    .dataframe thead th {\n",
       "        text-align: left;\n",
       "    }\n",
       "\n",
       "    .dataframe tbody tr th {\n",
       "        vertical-align: top;\n",
       "    }\n",
       "</style>\n",
       "<table border=\"1\" class=\"dataframe\">\n",
       "  <thead>\n",
       "    <tr style=\"text-align: right;\">\n",
       "      <th></th>\n",
       "      <th>libid</th>\n",
       "      <th>conc</th>\n",
       "      <th>bid</th>\n",
       "    </tr>\n",
       "  </thead>\n",
       "  <tbody>\n",
       "    <tr>\n",
       "      <th>0</th>\n",
       "      <td>EMB-JA10-N2-dnase-S1.1</td>\n",
       "      <td>0U_ml</td>\n",
       "      <td>mpg130214_3133</td>\n",
       "    </tr>\n",
       "    <tr>\n",
       "      <th>1</th>\n",
       "      <td>EMB-JA10-N2-dnase-S1.1</td>\n",
       "      <td>2.5U_ml</td>\n",
       "      <td>mpg130214_3134</td>\n",
       "    </tr>\n",
       "    <tr>\n",
       "      <th>2</th>\n",
       "      <td>EMB-JA10-N2-dnase-S1.1</td>\n",
       "      <td>5U_ml</td>\n",
       "      <td>mpg130214_3135</td>\n",
       "    </tr>\n",
       "    <tr>\n",
       "      <th>3</th>\n",
       "      <td>EMB-JA10-N2-dnase-S1.1</td>\n",
       "      <td>10U_ml</td>\n",
       "      <td>mpg130214_3136</td>\n",
       "    </tr>\n",
       "    <tr>\n",
       "      <th>4</th>\n",
       "      <td>EMB-JA10-N2-dnase-S1.1</td>\n",
       "      <td>25U_ml</td>\n",
       "      <td>mpg130214_3137</td>\n",
       "    </tr>\n",
       "  </tbody>\n",
       "</table>\n",
       "</div>"
      ],
      "text/plain": [
       "                    libid     conc             bid\n",
       "0  EMB-JA10-N2-dnase-S1.1    0U_ml  mpg130214_3133\n",
       "1  EMB-JA10-N2-dnase-S1.1  2.5U_ml  mpg130214_3134\n",
       "2  EMB-JA10-N2-dnase-S1.1    5U_ml  mpg130214_3135\n",
       "3  EMB-JA10-N2-dnase-S1.1   10U_ml  mpg130214_3136\n",
       "4  EMB-JA10-N2-dnase-S1.1   25U_ml  mpg130214_3137"
      ]
     },
     "execution_count": 2,
     "metadata": {},
     "output_type": "execute_result"
    }
   ],
   "source": [
    "# df_bid_ <- all N2 data with library id, concentration, bid\n",
    "def make_dnase_mnase_samples():\n",
    "    fp_inp = 'workflows/Worm Accessibility Data Sets - accessibility.tsv'\n",
    "    fp_out = 'dnase_mnase/dnase_mnase_samples.tsv'\n",
    "    df_ = pd.read_csv(fp_inp, sep='\\t').query('(Strain == \"N2\") & (Enzyme == \"dnase\" | Enzyme == \"mnase\")').sort_values(['Enzyme', 'Stage'])\n",
    "    df_ = df_.loc[df_['Bioinformatics ID(s)'] == df_['Bioinformatics ID(s)']] # All sequenced libraries\n",
    "    df_ = df_.loc[~(df_['Library series ID'] == 'EMB-JA0-N2-dnase-test')] # Early test data, partial digestion course\n",
    "    df_ = df_.loc[~(df_['Library series ID'] == 'EMB-JA11-N2-dnase-S2.1xtraHS082')] # Pippen/beads tests\n",
    "    df_ = df_.loc[~(df_['Library series ID'] == 'L2-JAX-N2-dnase-SX')] # Pippen/beads tests\n",
    "    df_ = df_.loc[~(df_['Library series ID'] == 'EMB-JA12-N2-mnase-S2')] # Djem's time course\n",
    "    df_.reset_index(drop=True).to_csv(fp_out, sep='\\t', index=None)\n",
    "    return df_\n",
    "\n",
    "df_ = make_dnase_mnase_samples().rename(\n",
    "    columns={\n",
    "        'Library series ID': 'libid',\n",
    "        'Bioinformatics ID(s)': 'bid',\n",
    "        'Digestion conditions (homogenized)': 'conc',\n",
    "    }\n",
    ")[['libid', 'conc', 'bid']]\n",
    "\n",
    "df_bid_ = pd.DataFrame(\n",
    "    [(tup.libid, conc, bid) for tup in df_.itertuples() for conc, bid in zip(tup.conc.split(';'), tup.bid.split(';'))],\n",
    "    columns=['libid', 'conc', 'bid'],\n",
    ")\n",
    "print('%d samples total' % (len(df_bid_),))\n",
    "df_bid_.head()"
   ]
  },
  {
   "cell_type": "code",
   "execution_count": 3,
   "metadata": {
    "ExecuteTime": {
     "end_time": "2018-05-10T17:51:35.762500Z",
     "start_time": "2018-05-10T17:51:35.570587Z"
    },
    "code_folding": [
     0
    ]
   },
   "outputs": [
    {
     "data": {
      "text/html": [
       "<div>\n",
       "<style>\n",
       "    .dataframe thead tr:only-child th {\n",
       "        text-align: right;\n",
       "    }\n",
       "\n",
       "    .dataframe thead th {\n",
       "        text-align: left;\n",
       "    }\n",
       "\n",
       "    .dataframe tbody tr th {\n",
       "        vertical-align: top;\n",
       "    }\n",
       "</style>\n",
       "<table border=\"1\" class=\"dataframe\">\n",
       "  <thead>\n",
       "    <tr style=\"text-align: right;\">\n",
       "      <th></th>\n",
       "      <th>geoid</th>\n",
       "      <th>libid</th>\n",
       "      <th>protocol</th>\n",
       "      <th>source name</th>\n",
       "      <th>title</th>\n",
       "    </tr>\n",
       "  </thead>\n",
       "  <tbody>\n",
       "    <tr>\n",
       "      <th>0</th>\n",
       "      <td>dnase_wt_emb_rep1</td>\n",
       "      <td>EMB-JA10-N2-dnase-S1.2</td>\n",
       "      <td>Pippin</td>\n",
       "      <td>mixed embryos</td>\n",
       "      <td>wt_emb_DNase-seq_rep1</td>\n",
       "    </tr>\n",
       "    <tr>\n",
       "      <th>1</th>\n",
       "      <td>dnase_wt_emb_rep2</td>\n",
       "      <td>EMB-JA11-N2-dnase-S2</td>\n",
       "      <td>Pippin</td>\n",
       "      <td>mixed embryos</td>\n",
       "      <td>wt_emb_DNase-seq_rep2</td>\n",
       "    </tr>\n",
       "    <tr>\n",
       "      <th>2</th>\n",
       "      <td>dnase_wt_l1_rep1</td>\n",
       "      <td>L1-JA2-N2-dnase-S1.1</td>\n",
       "      <td>Pippin</td>\n",
       "      <td>L1 larvae</td>\n",
       "      <td>wt_L1_DNase-seq_rep1</td>\n",
       "    </tr>\n",
       "    <tr>\n",
       "      <th>3</th>\n",
       "      <td>dnase_wt_l1_rep2</td>\n",
       "      <td>L1-JA6-N2-dnase-S2</td>\n",
       "      <td>Beads</td>\n",
       "      <td>L1 larvae</td>\n",
       "      <td>wt_L1_DNase-seq_rep2</td>\n",
       "    </tr>\n",
       "    <tr>\n",
       "      <th>4</th>\n",
       "      <td>dnase_wt_l2_rep1</td>\n",
       "      <td>L2-JA7-N2-dnase-S1</td>\n",
       "      <td>Beads</td>\n",
       "      <td>L2 larvae</td>\n",
       "      <td>wt_L2_DNase-seq_rep1</td>\n",
       "    </tr>\n",
       "    <tr>\n",
       "      <th>5</th>\n",
       "      <td>dnase_wt_l2_rep2</td>\n",
       "      <td>L2-JA1-N2-dnase-S2</td>\n",
       "      <td>Beads</td>\n",
       "      <td>L2 larvae</td>\n",
       "      <td>wt_L2_DNase-seq_rep2</td>\n",
       "    </tr>\n",
       "    <tr>\n",
       "      <th>6</th>\n",
       "      <td>dnase_wt_l3_rep1</td>\n",
       "      <td>L3-JA15-N2-dnase-S1</td>\n",
       "      <td>Pippin</td>\n",
       "      <td>L3 larvae</td>\n",
       "      <td>wt_L3_DNase-seq_rep1</td>\n",
       "    </tr>\n",
       "    <tr>\n",
       "      <th>7</th>\n",
       "      <td>dnase_wt_l3_rep2</td>\n",
       "      <td>L3-JA16-N2-dnase-S2</td>\n",
       "      <td>Pippin</td>\n",
       "      <td>L3 larvae</td>\n",
       "      <td>wt_L3_DNase-seq_rep2</td>\n",
       "    </tr>\n",
       "    <tr>\n",
       "      <th>8</th>\n",
       "      <td>dnase_wt_l4_rep1</td>\n",
       "      <td>L4-JA3-N2-dnase-S1</td>\n",
       "      <td>Beads</td>\n",
       "      <td>L4 larvae</td>\n",
       "      <td>wt_L4_DNase-seq_rep1</td>\n",
       "    </tr>\n",
       "    <tr>\n",
       "      <th>9</th>\n",
       "      <td>dnase_wt_l4_rep2</td>\n",
       "      <td>L4-JA9-N2-dnase-S2</td>\n",
       "      <td>Beads</td>\n",
       "      <td>L4 larvae</td>\n",
       "      <td>wt_L4_DNase-seq_rep2</td>\n",
       "    </tr>\n",
       "    <tr>\n",
       "      <th>10</th>\n",
       "      <td>dnase_wt_ya_rep1</td>\n",
       "      <td>YA-JA4-N2-dnase-S1.1</td>\n",
       "      <td>Pippin</td>\n",
       "      <td>young adults</td>\n",
       "      <td>wt_YA_DNase-seq_rep1</td>\n",
       "    </tr>\n",
       "    <tr>\n",
       "      <th>11</th>\n",
       "      <td>dnase_wt_ya_rep2</td>\n",
       "      <td>YA-JA5-N2-dnase-S2</td>\n",
       "      <td>Beads</td>\n",
       "      <td>young adults</td>\n",
       "      <td>wt_YA_DNase-seq_rep2</td>\n",
       "    </tr>\n",
       "    <tr>\n",
       "      <th>12</th>\n",
       "      <td>mnase_wt_emb_rep1</td>\n",
       "      <td>EMB-JA12-N2-mnase-S1</td>\n",
       "      <td>Pippin</td>\n",
       "      <td>mixed embryos</td>\n",
       "      <td>wt_emb_MNase-seq_rep1</td>\n",
       "    </tr>\n",
       "    <tr>\n",
       "      <th>13</th>\n",
       "      <td>mnase_wt_emb_rep2</td>\n",
       "      <td>EMB-JA13-N2-mnase-S2.2</td>\n",
       "      <td>Pippin</td>\n",
       "      <td>mixed embryos</td>\n",
       "      <td>wt_emb_MNase-seq_rep2</td>\n",
       "    </tr>\n",
       "  </tbody>\n",
       "</table>\n",
       "</div>"
      ],
      "text/plain": [
       "                geoid                   libid protocol    source name  \\\n",
       "0   dnase_wt_emb_rep1  EMB-JA10-N2-dnase-S1.2   Pippin  mixed embryos   \n",
       "1   dnase_wt_emb_rep2    EMB-JA11-N2-dnase-S2   Pippin  mixed embryos   \n",
       "2    dnase_wt_l1_rep1    L1-JA2-N2-dnase-S1.1   Pippin      L1 larvae   \n",
       "3    dnase_wt_l1_rep2      L1-JA6-N2-dnase-S2    Beads      L1 larvae   \n",
       "4    dnase_wt_l2_rep1      L2-JA7-N2-dnase-S1    Beads      L2 larvae   \n",
       "5    dnase_wt_l2_rep2      L2-JA1-N2-dnase-S2    Beads      L2 larvae   \n",
       "6    dnase_wt_l3_rep1     L3-JA15-N2-dnase-S1   Pippin      L3 larvae   \n",
       "7    dnase_wt_l3_rep2     L3-JA16-N2-dnase-S2   Pippin      L3 larvae   \n",
       "8    dnase_wt_l4_rep1      L4-JA3-N2-dnase-S1    Beads      L4 larvae   \n",
       "9    dnase_wt_l4_rep2      L4-JA9-N2-dnase-S2    Beads      L4 larvae   \n",
       "10   dnase_wt_ya_rep1    YA-JA4-N2-dnase-S1.1   Pippin   young adults   \n",
       "11   dnase_wt_ya_rep2      YA-JA5-N2-dnase-S2    Beads   young adults   \n",
       "12  mnase_wt_emb_rep1    EMB-JA12-N2-mnase-S1   Pippin  mixed embryos   \n",
       "13  mnase_wt_emb_rep2  EMB-JA13-N2-mnase-S2.2   Pippin  mixed embryos   \n",
       "\n",
       "                    title  \n",
       "0   wt_emb_DNase-seq_rep1  \n",
       "1   wt_emb_DNase-seq_rep2  \n",
       "2    wt_L1_DNase-seq_rep1  \n",
       "3    wt_L1_DNase-seq_rep2  \n",
       "4    wt_L2_DNase-seq_rep1  \n",
       "5    wt_L2_DNase-seq_rep2  \n",
       "6    wt_L3_DNase-seq_rep1  \n",
       "7    wt_L3_DNase-seq_rep2  \n",
       "8    wt_L4_DNase-seq_rep1  \n",
       "9    wt_L4_DNase-seq_rep2  \n",
       "10   wt_YA_DNase-seq_rep1  \n",
       "11   wt_YA_DNase-seq_rep2  \n",
       "12  wt_emb_MNase-seq_rep1  \n",
       "13  wt_emb_MNase-seq_rep2  "
      ]
     },
     "execution_count": 3,
     "metadata": {},
     "output_type": "execute_result"
    }
   ],
   "source": [
    "# df_geo_ <- list of libraries for GEO submission\n",
    "df_geo_ = pd.DataFrame(config['dnase_mnase819_rep']).transpose().reset_index().rename(columns={'index': 'geoid', 'library_id': 'libid'})\n",
    "df_geo_"
   ]
  },
  {
   "cell_type": "code",
   "execution_count": 4,
   "metadata": {
    "ExecuteTime": {
     "end_time": "2018-05-10T17:51:35.985939Z",
     "start_time": "2018-05-10T17:51:35.765824Z"
    }
   },
   "outputs": [
    {
     "name": "stdout",
     "output_type": "stream",
     "text": [
      "EMB-JA10-N2-dnase-S1.2 \t ok\n",
      "EMB-JA11-N2-dnase-S2 \t ok\n",
      "EMB-JA12-N2-mnase-S1 \t {'8U_ml', '0.05U_ml', '0.025U_ml'}\n",
      "EMB-JA13-N2-mnase-S2.2 \t ok\n",
      "L1-JA2-N2-dnase-S1.1 \t ok\n",
      "L1-JA6-N2-dnase-S2 \t ok\n",
      "L2-JA1-N2-dnase-S2 \t ok\n",
      "L2-JA7-N2-dnase-S1 \t ok\n",
      "L3-JA15-N2-dnase-S1 \t {'5U_ml'}\n",
      "L3-JA16-N2-dnase-S2 \t ok\n",
      "L4-JA3-N2-dnase-S1 \t ok\n",
      "L4-JA9-N2-dnase-S2 \t ok\n",
      "YA-JA4-N2-dnase-S1.1 \t {'5U_ml'}\n",
      "YA-JA5-N2-dnase-S2 \t ok\n"
     ]
    }
   ],
   "source": [
    "dnase_concentrations = config['dnase_concentrations']\n",
    "mnase_concentrations = config['mnase_concentrations']\n",
    "q_ = '(conc in @dnase_concentrations) | (conc in @mnase_concentrations)'\n",
    "#q_ = '(conc in @dnase_concentrations)'\n",
    "df_merge_ = df_bid_.merge(df_geo_, on='libid', how='left').query('geoid == geoid').query(q_).reset_index(drop=True)\n",
    "\n",
    "for libid_, df_libid_ in df_merge_.groupby('libid'):\n",
    "    if 'dnase' in libid_:\n",
    "        missing_ = set(config['dnase_concentrations']) - set(df_libid_['conc'])\n",
    "        if len(missing_) == 0: missing_ = 'ok'\n",
    "        print(libid_, '\\t', missing_)\n",
    "    elif 'mnase' in libid_:\n",
    "        missing_ = set(config['mnase_concentrations']) - set(df_libid_['conc'])\n",
    "        if len(missing_) == 0: missing_ = 'ok'\n",
    "        print(libid_, '\\t', missing_)"
   ]
  },
  {
   "cell_type": "code",
   "execution_count": 5,
   "metadata": {
    "ExecuteTime": {
     "end_time": "2018-05-10T17:51:52.878433Z",
     "start_time": "2018-05-10T17:51:35.988389Z"
    }
   },
   "outputs": [
    {
     "name": "stderr",
     "output_type": "stream",
     "text": [
      "[Parallel(n_jobs=10)]: Done   9 out of   9 | elapsed:    1.8s finished\n",
      "[Parallel(n_jobs=10)]: Done   9 out of   9 | elapsed:    1.6s finished\n",
      "[Parallel(n_jobs=10)]: Done   9 out of   9 | elapsed:    2.3s finished\n"
     ]
    },
    {
     "name": "stdout",
     "output_type": "stream",
     "text": [
      "skip: dnase_wt_l3, 5U_ml\n"
     ]
    },
    {
     "name": "stderr",
     "output_type": "stream",
     "text": [
      "[Parallel(n_jobs=10)]: Done   9 out of   9 | elapsed:    1.6s finished\n",
      "[Parallel(n_jobs=10)]: Done   9 out of   9 | elapsed:    2.0s finished\n"
     ]
    },
    {
     "name": "stdout",
     "output_type": "stream",
     "text": [
      "skip: dnase_wt_ya, 5U_ml\n"
     ]
    },
    {
     "name": "stderr",
     "output_type": "stream",
     "text": [
      "[Parallel(n_jobs=10)]: Done   9 out of   9 | elapsed:    2.8s finished\n"
     ]
    },
    {
     "name": "stdout",
     "output_type": "stream",
     "text": [
      "skip: mnase_wt_emb, 0.025U_ml\n",
      "skip: mnase_wt_emb, 8U_ml\n",
      "skip: mnase_wt_emb, 0.05U_ml\n"
     ]
    },
    {
     "name": "stderr",
     "output_type": "stream",
     "text": [
      "[Parallel(n_jobs=10)]: Done   9 out of   9 | elapsed:    2.0s finished\n"
     ]
    }
   ],
   "source": [
    "# Table: processed\n",
    "def processed_(cond_conc):\n",
    "    cond, conc = cond_conc\n",
    "    (assay, stage) = (cond[:5], cond[6:])\n",
    "    assay = {'dnase': 'DNase-seq', 'mnase': 'MNase-seq'}[assay]\n",
    "    stage = {'wt_emb': 'Embryo', 'wt_l1': 'L1', 'wt_l2': 'L2', 'wt_l3': 'L3', 'wt_l4': 'L4', 'wt_ya': 'YA',}[stage]\n",
    "    df_rep1 = df_merge_.query('(geoid == \"%s_rep1\") & (conc == \"%s\")' % (cond, conc))\n",
    "    df_rep2 = df_merge_.query('(geoid == \"%s_rep2\") & (conc == \"%s\")' % (cond, conc))\n",
    "    description = 'Normalized %s %s at %s averaged across replicates' % (stage, assay, conc)\n",
    "    fp_out = 'dnase_mnase819_geo/tracks/%s_%s.bw' % (cond, conc)\n",
    "    fn_out = '%s_%s.bw' % (cond, conc)\n",
    "    if len(df_rep1) != 1 or len(df_rep2) != 1:\n",
    "        print('skip: %s, %s' % (cond, conc))\n",
    "        return (fn_out, 'bigWig', None, description)\n",
    "    else:\n",
    "        step_ = 'tg_pe.bwa_pe.rm_unmapped_pe.rm_chrM.rm_blacklist.rm_q10.macs2_pe_lt300'\n",
    "        fp_inp1 = pf(df_rep1.iloc[0].bid, step_, '_treat_pileup.bw', 'dnase_mnase')\n",
    "        fp_inp2 = pf(df_rep2.iloc[0].bid, step_, '_treat_pileup.bw', 'dnase_mnase')\n",
    "        if not os.path.isfile(fp_out):\n",
    "            !scripts/bigWiggleTools.ipy write {fp_out} scale 0.1 bin 10 mean {fp_inp1} {fp_inp2}\n",
    "        md5_ = !md5sum {fp_out} | awk '{{print $$1}}'\n",
    "        return (fn_out, 'bigWig', md5_[0], description)\n",
    "\n",
    "df_geo2 = pd.DataFrame.from_records(\n",
    "    pmap(processed_, [('dnase_wt_emb', conc) for conc in config['dnase_concentrations']], n_jobs=10) +\n",
    "    pmap(processed_, [('dnase_wt_l1', conc) for conc in config['dnase_concentrations']], n_jobs=10) +\n",
    "    pmap(processed_, [('dnase_wt_l2', conc) for conc in config['dnase_concentrations']], n_jobs=10) +\n",
    "    pmap(processed_, [('dnase_wt_l3', conc) for conc in config['dnase_concentrations']], n_jobs=10) +\n",
    "    pmap(processed_, [('dnase_wt_l4', conc) for conc in config['dnase_concentrations']], n_jobs=10) +\n",
    "    pmap(processed_, [('dnase_wt_ya', conc) for conc in config['dnase_concentrations']], n_jobs=10) +\n",
    "    pmap(processed_, [('mnase_wt_emb', conc) for conc in config['mnase_concentrations']], n_jobs=10)\n",
    ", columns=['file_name', 'file_type', 'md5', 'description']).query('md5 == md5')\n",
    "df_geo2.to_csv('dnase_mnase819_geo/dnase_mnase_geo2_processed.tsv', index=False, header=True, sep='\\t')"
   ]
  },
  {
   "cell_type": "code",
   "execution_count": 6,
   "metadata": {
    "ExecuteTime": {
     "end_time": "2018-05-10T17:51:53.085497Z",
     "start_time": "2018-05-10T17:51:52.881447Z"
    },
    "collapsed": true
   },
   "outputs": [],
   "source": [
    "# Table: samples\n",
    "df_geo1 = pd.DataFrame()\n",
    "df_geo1['sample'] = list(map(lambda index: 'Sample %d' % (index + 1,), df_merge_.index))\n",
    "df_geo1['title'] = list(map(lambda title, conc: '%s_%s' % (title, conc), df_merge_['title'], df_merge_['conc']))\n",
    "df_geo1['source name'] = df_merge_['source name']\n",
    "df_geo1['organism'] = 'C. elegans'\n",
    "df_geo1['characteristics: strain'] = 'wild-type N2'\n",
    "df_geo1['molecule'] = 'genomic DNA'\n",
    "df_geo1['protocol'] = df_merge_['protocol']\n",
    "df_geo1['raw_file_1'] = list(map(lambda geoid, conc: '%s_%s.read1.fastq.gz' % (geoid, conc), df_merge_['geoid'], df_merge_['conc']))\n",
    "df_geo1['raw_file_2'] = list(map(lambda geoid, conc: '%s_%s.read2.fastq.gz' % (geoid, conc), df_merge_['geoid'], df_merge_['conc']))\n",
    "df_geo1['bid'] = df_merge_['bid']\n",
    "df_geo1.to_csv('dnase_mnase819_geo/dnase_mnase_geo1_samples.tsv', index=False, header=True, sep='\\t')"
   ]
  },
  {
   "cell_type": "code",
   "execution_count": 7,
   "metadata": {
    "ExecuteTime": {
     "end_time": "2018-05-10T17:52:25.602713Z",
     "start_time": "2018-05-10T17:51:53.088369Z"
    },
    "collapsed": true
   },
   "outputs": [],
   "source": [
    "# Table: raw files\n",
    "def md5sum_r1(bid):\n",
    "    fp = pf(bid, 'md5sum_r1', '.txt', 'dnase_mnase')\n",
    "    md5 = !cat {fp} | awk '{{print $$1}}'\n",
    "    return md5[0]\n",
    "\n",
    "def md5sum_r2(bid):\n",
    "    fp = pf(bid, 'md5sum_r2', '.txt', 'dnase_mnase')\n",
    "    md5 = !cat {fp} | awk '{{print $$1}}'\n",
    "    return md5[0]\n",
    "\n",
    "def readlen_r1(bid):\n",
    "    fp = pf(bid, 'readlen_r1', '.txt', 'dnase_mnase')\n",
    "    readlen = !cat {fp}\n",
    "    return readlen[0]\n",
    "\n",
    "def readlen_r2(bid):\n",
    "    fp = pf(bid, 'readlen_r2', '.txt', 'dnase_mnase')\n",
    "    readlen = !cat {fp}\n",
    "    return readlen[0]\n",
    "\n",
    "df_geo3_r1 = pd.DataFrame()\n",
    "df_geo3_r2 = pd.DataFrame()\n",
    "df_geo3_r1['file'] = df_geo1['raw_file_1'].tolist()\n",
    "df_geo3_r2['file'] = df_geo1['raw_file_2'].tolist()\n",
    "df_geo3_r1['file_type'] = 'fastq'\n",
    "df_geo3_r2['file_type'] = 'fastq'\n",
    "df_geo3_r1['checksum'] = list(map(md5sum_r1, df_geo1['bid']))\n",
    "df_geo3_r2['checksum'] = list(map(md5sum_r2, df_geo1['bid']))\n",
    "df_geo3_r1['readlen'] = list(map(readlen_r1, df_geo1['bid']))\n",
    "df_geo3_r2['readlen'] = list(map(readlen_r2, df_geo1['bid']))\n",
    "\n",
    "df_geo3_ = pd.concat([df_geo3_r1, df_geo3_r2]).reset_index(drop=True)\n",
    "df_geo3_['instrument_model'] = 'HiSeq2000'\n",
    "df_geo3_['single_or_paired'] = 'paired-end'\n",
    "\n",
    "df_geo3 = df_geo3_[['file', 'file_type', 'checksum', 'instrument_model', 'readlen', 'single_or_paired']]\n",
    "df_geo3.to_csv('dnase_mnase819_geo/dnase_mnase_geo3_raw.tsv', index=False, header=True, sep='\\t')"
   ]
  },
  {
   "cell_type": "code",
   "execution_count": 8,
   "metadata": {
    "ExecuteTime": {
     "end_time": "2018-05-10T17:58:35.128120Z",
     "start_time": "2018-05-10T17:52:25.606716Z"
    },
    "collapsed": true
   },
   "outputs": [],
   "source": [
    "# Table: paired-end mean/stddev\n",
    "def fmean(bid):\n",
    "    fp = pf(bid, 'tg_pe.bwa_pe.rm_unmapped_pe.rm_chrM.rm_blacklist.rm_q10.fsizes', '.txt', 'dnase_mnase')\n",
    "    df = pd.read_csv(fp, sep='\\t', names=['size', 'count'])#.head()\n",
    "    l_len = list(itertools.chain(*[itertools.repeat(size, count) for (size, count) in zip(df['size'], df['count'])]))\n",
    "    mean1 = np.average(df['size'], weights=df['count'])\n",
    "    #mean2 = np.mean(l_len)\n",
    "    #print(mean1, mean2)\n",
    "    return '%d' % (mean1,)\n",
    "\n",
    "def fstd(bid):\n",
    "    fp = pf(bid, 'tg_pe.bwa_pe.rm_unmapped_pe.rm_chrM.rm_blacklist.rm_q10.fsizes', '.txt', 'dnase_mnase')\n",
    "    df = pd.read_csv(fp, sep='\\t', names=['size', 'count'])#.head()\n",
    "    l_len = list(itertools.chain(*[itertools.repeat(size, count) for (size, count) in zip(df['size'], df['count'])]))\n",
    "    return '%d' % (np.std(l_len),)\n",
    "\n",
    "df_geo4 = pd.DataFrame()\n",
    "df_geo4['file1'] = df_geo1['raw_file_1']\n",
    "df_geo4['file2'] = df_geo1['raw_file_2']\n",
    "df_geo4['avg'] = list(map(fmean, df_geo1['bid']))\n",
    "df_geo4['std'] = list(map(fstd, df_geo1['bid']))\n",
    "df_geo4.to_csv('dnase_mnase819_geo/dnase_mnase_geo4_paired_end.tsv', index=False, header=True, sep='\\t')"
   ]
  },
  {
   "cell_type": "code",
   "execution_count": null,
   "metadata": {
    "collapsed": true
   },
   "outputs": [],
   "source": []
  }
 ],
 "metadata": {
  "kernelspec": {
   "display_name": "Python 3",
   "language": "python",
   "name": "python3"
  },
  "language_info": {
   "codemirror_mode": {
    "name": "ipython",
    "version": 3
   },
   "file_extension": ".py",
   "mimetype": "text/x-python",
   "name": "python",
   "nbconvert_exporter": "python",
   "pygments_lexer": "ipython3",
   "version": "3.6.2"
  }
 },
 "nbformat": 4,
 "nbformat_minor": 2
}
