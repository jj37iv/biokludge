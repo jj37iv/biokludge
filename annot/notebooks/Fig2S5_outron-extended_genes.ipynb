{
 "cells": [
  {
   "cell_type": "code",
   "execution_count": null,
   "metadata": {
    "ExecuteTime": {
     "start_time": "2018-11-05T17:23:04.191Z"
    }
   },
   "outputs": [
    {
     "name": "stderr",
     "output_type": "stream",
     "text": [
      "/mnt/home3/jj374/anaconda36/lib/python3.6/site-packages/statsmodels/compat/pandas.py:56: FutureWarning: The pandas.core.datetools module is deprecated and will be removed in a future version. Please use the pandas.tseries module instead.\n",
      "  from pandas.core import datetools\n"
     ]
    }
   ],
   "source": [
    "%run ~/relmapping/annot/notebooks/__init__.ipynb"
   ]
  },
  {
   "cell_type": "code",
   "execution_count": null,
   "metadata": {
    "ExecuteTime": {
     "start_time": "2018-11-05T17:23:04.193Z"
    }
   },
   "outputs": [],
   "source": [
    "fp_ = 'WS260_ce10/WS260_ce10.genes.protein_coding.gtf.gz'\n",
    "df_genes = yp.read_wbgtf(fp_, parse_attr=True, coords_adj=True)\n",
    "print(len(df_genes))"
   ]
  },
  {
   "cell_type": "code",
   "execution_count": null,
   "metadata": {
    "ExecuteTime": {
     "start_time": "2018-11-05T17:23:04.194Z"
    }
   },
   "outputs": [],
   "source": [
    "df_regl = df_source_data_()"
   ]
  },
  {
   "cell_type": "code",
   "execution_count": null,
   "metadata": {
    "ExecuteTime": {
     "start_time": "2018-11-05T17:23:04.195Z"
    }
   },
   "outputs": [],
   "source": [
    "df_fwd_ = df_regl.query('annot_fwd == \"coding_promoter\"').set_index('promoter_gene_id_fwd')\n",
    "df_rev_ = df_regl.query('annot_rev == \"coding_promoter\"').set_index('promoter_gene_id_rev')\n",
    "df_prom_fwd_ = df_fwd_.groupby(['promoter_gene_id_fwd'])['pos'].apply(np.min)\n",
    "df_prom_rev_ = df_rev_.groupby(['promoter_gene_id_rev'])['pos'].apply(np.max)\n",
    "print(len(df_prom_fwd_) + len(df_prom_rev_))\n",
    "df_prom_ = pd.DataFrame(pd.concat([df_prom_fwd_, df_prom_rev_], axis=0))\n",
    "print(len(df_prom_))"
   ]
  },
  {
   "cell_type": "code",
   "execution_count": null,
   "metadata": {
    "ExecuteTime": {
     "start_time": "2018-11-05T17:23:04.196Z"
    }
   },
   "outputs": [],
   "source": [
    "def start_adj_(start, pos, strand):\n",
    "    if strand == '+':\n",
    "        return int(np.nanmin([start, pos]))\n",
    "    else:\n",
    "        return start\n",
    "\n",
    "def end_adj_(end, pos, strand):\n",
    "    if strand == '-':\n",
    "        return int(np.nanmax([end, pos + 1]))\n",
    "    else:\n",
    "        return end\n",
    "\n",
    "df_ = df_genes.merge(df_prom_, how='left', left_on='gene_id', right_index=True)\n",
    "df_['start_adj'] = [ *map(start_adj_, df_['start'], df_['pos'], df_['strand']) ]\n",
    "df_['end_adj'] = [ *map(end_adj_, df_['end'], df_['pos'], df_['strand']) ]\n",
    "print(len(df_))"
   ]
  },
  {
   "cell_type": "code",
   "execution_count": null,
   "metadata": {
    "ExecuteTime": {
     "start_time": "2018-11-05T17:23:04.198Z"
    }
   },
   "outputs": [],
   "source": [
    "fp_ = 'annot_eLife_revised/_fig/Fig2S5/outron-extended_protein_coding_genes.bed'\n",
    "df_[['chrom', 'start_adj', 'end_adj', 'gene_id', 'score', 'strand']]\\\n",
    ".sort_values(['chrom', 'start_adj', 'end_adj', 'strand'])\\\n",
    ".to_csv(fp_, header=False, index=False, sep='\\t')\n",
    "!wc -l {fp_}"
   ]
  }
 ],
 "metadata": {
  "kernelspec": {
   "display_name": "Python 3",
   "language": "python",
   "name": "python3"
  },
  "language_info": {
   "codemirror_mode": {
    "name": "ipython",
    "version": 3
   },
   "file_extension": ".py",
   "mimetype": "text/x-python",
   "name": "python",
   "nbconvert_exporter": "python",
   "pygments_lexer": "ipython3",
   "version": "3.6.2"
  }
 },
 "nbformat": 4,
 "nbformat_minor": 2
}
