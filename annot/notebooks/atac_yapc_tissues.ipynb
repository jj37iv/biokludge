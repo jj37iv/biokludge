{
 "cells": [
  {
   "cell_type": "code",
   "execution_count": 1,
   "metadata": {
    "ExecuteTime": {
     "end_time": "2018-06-14T13:09:38.881998Z",
     "start_time": "2018-06-14T13:09:34.042103Z"
    }
   },
   "outputs": [
    {
     "name": "stderr",
     "output_type": "stream",
     "text": [
      "/mnt/home3/jj374/anaconda36/lib/python3.6/site-packages/statsmodels/compat/pandas.py:56: FutureWarning: The pandas.core.datetools module is deprecated and will be removed in a future version. Please use the pandas.tseries module instead.\n",
      "  from pandas.core import datetools\n"
     ]
    },
    {
     "name": "stdout",
     "output_type": "stream",
     "text": [
      "os.getcwd(): /mnt/beegfs/scratch_copy/ahringer/jj374/lab/relmapping\n"
     ]
    }
   ],
   "source": [
    "%run ~/relmapping/annot/notebooks/annot__init__.ipynb\n",
    "annot_ = 'annot_ce10_tissues'\n",
    "def mp(fp, annot_=annot_): return os.path.join(annot_, 'metrics_atac', fp)"
   ]
  },
  {
   "cell_type": "code",
   "execution_count": 2,
   "metadata": {
    "ExecuteTime": {
     "end_time": "2018-06-14T13:09:38.913628Z",
     "start_time": "2018-06-14T13:09:38.883872Z"
    }
   },
   "outputs": [
    {
     "data": {
      "text/plain": [
       "\"\\nstep = 'tg_se.bwa_se.rm_unmapped.rm_chrM.rm_blacklist.rm_q10.macs2_se_extsize150_shiftm75_keepdup_all'\\nsuffix = '_treat_pileup.bw'\\nprefix = 'atac824'\\n\\n!scripts/yapc/yapc annot_ce10_tissues/metrics_atac/atac_tissues     hypod {pf('atac824_hypod_rep1', step, suffix, prefix)} {pf('atac824_hypod_rep2', step, suffix, prefix)}     neurons {pf('atac824_neurons_rep1', step, suffix, prefix)} {pf('atac824_neurons_rep2', step, suffix, prefix)}     gonad {pf('atac824_gonad_rep1', step, suffix, prefix)} {pf('atac824_gonad_rep2', step, suffix, prefix)}     muscle {pf('atac824_muscle_rep1', step, suffix, prefix)} {pf('atac824_muscle_rep2', step, suffix, prefix)}     intest {pf('atac824_intest_rep1', step, suffix, prefix)} {pf('atac824_intest_rep2', step, suffix, prefix)}     --smoothing-window-width 150 --fixed-peak-halfwidth 75\\n\""
      ]
     },
     "execution_count": 2,
     "metadata": {},
     "output_type": "execute_result"
    }
   ],
   "source": [
    "\"\"\"\n",
    "step = 'tg_se.bwa_se.rm_unmapped.rm_chrM.rm_blacklist.rm_q10.macs2_se_extsize150_shiftm75_keepdup_all'\n",
    "suffix = '_treat_pileup.bw'\n",
    "prefix = 'atac824'\n",
    "\n",
    "!scripts/yapc/yapc annot_ce10_tissues/metrics_atac/atac_tissues \\\n",
    "    hypod {pf('atac824_hypod_rep1', step, suffix, prefix)} {pf('atac824_hypod_rep2', step, suffix, prefix)} \\\n",
    "    neurons {pf('atac824_neurons_rep1', step, suffix, prefix)} {pf('atac824_neurons_rep2', step, suffix, prefix)} \\\n",
    "    gonad {pf('atac824_gonad_rep1', step, suffix, prefix)} {pf('atac824_gonad_rep2', step, suffix, prefix)} \\\n",
    "    muscle {pf('atac824_muscle_rep1', step, suffix, prefix)} {pf('atac824_muscle_rep2', step, suffix, prefix)} \\\n",
    "    intest {pf('atac824_intest_rep1', step, suffix, prefix)} {pf('atac824_intest_rep2', step, suffix, prefix)} \\\n",
    "    --smoothing-window-width 150 --fixed-peak-halfwidth 75\n",
    "\"\"\""
   ]
  },
  {
   "cell_type": "code",
   "execution_count": 3,
   "metadata": {
    "ExecuteTime": {
     "end_time": "2018-06-14T13:09:39.676519Z",
     "start_time": "2018-06-14T13:09:38.916449Z"
    }
   },
   "outputs": [
    {
     "name": "stdout",
     "output_type": "stream",
     "text": [
      "42245 peaks from wt/glp1-mapping\n"
     ]
    },
    {
     "data": {
      "text/html": [
       "<div>\n",
       "<style>\n",
       "    .dataframe thead tr:only-child th {\n",
       "        text-align: right;\n",
       "    }\n",
       "\n",
       "    .dataframe thead th {\n",
       "        text-align: left;\n",
       "    }\n",
       "\n",
       "    .dataframe tbody tr th {\n",
       "        vertical-align: top;\n",
       "    }\n",
       "</style>\n",
       "<table border=\"1\" class=\"dataframe\">\n",
       "  <thead>\n",
       "    <tr style=\"text-align: right;\">\n",
       "      <th></th>\n",
       "      <th>chrom</th>\n",
       "      <th>start</th>\n",
       "      <th>end</th>\n",
       "      <th>atac_source</th>\n",
       "    </tr>\n",
       "  </thead>\n",
       "  <tbody>\n",
       "    <tr>\n",
       "      <th>0</th>\n",
       "      <td>chrI</td>\n",
       "      <td>1900</td>\n",
       "      <td>2051</td>\n",
       "      <td>atac_wt_se</td>\n",
       "    </tr>\n",
       "    <tr>\n",
       "      <th>1</th>\n",
       "      <td>chrI</td>\n",
       "      <td>3826</td>\n",
       "      <td>3977</td>\n",
       "      <td>atac_wt_pe</td>\n",
       "    </tr>\n",
       "    <tr>\n",
       "      <th>2</th>\n",
       "      <td>chrI</td>\n",
       "      <td>4276</td>\n",
       "      <td>4427</td>\n",
       "      <td>atac_wt_se</td>\n",
       "    </tr>\n",
       "    <tr>\n",
       "      <th>3</th>\n",
       "      <td>chrI</td>\n",
       "      <td>11272</td>\n",
       "      <td>11423</td>\n",
       "      <td>atac_wt_pe</td>\n",
       "    </tr>\n",
       "    <tr>\n",
       "      <th>4</th>\n",
       "      <td>chrI</td>\n",
       "      <td>13070</td>\n",
       "      <td>13221</td>\n",
       "      <td>atac_wt_pe</td>\n",
       "    </tr>\n",
       "  </tbody>\n",
       "</table>\n",
       "</div>"
      ],
      "text/plain": [
       "  chrom  start    end atac_source\n",
       "0  chrI   1900   2051  atac_wt_se\n",
       "1  chrI   3826   3977  atac_wt_pe\n",
       "2  chrI   4276   4427  atac_wt_se\n",
       "3  chrI  11272  11423  atac_wt_pe\n",
       "4  chrI  13070  13221  atac_wt_pe"
      ]
     },
     "execution_count": 3,
     "metadata": {},
     "output_type": "execute_result"
    }
   ],
   "source": [
    "df_wt_glp1 = pd.read_csv('annot_ce10/accessible_sites.tsv', sep='\\t')[['chrom', 'start', 'end', 'atac_source']]\n",
    "print('%d peaks from wt/glp1-mapping' % (len(df_wt_glp1),))\n",
    "df_wt_glp1.head()"
   ]
  },
  {
   "cell_type": "code",
   "execution_count": 4,
   "metadata": {
    "ExecuteTime": {
     "end_time": "2018-06-14T13:09:40.482327Z",
     "start_time": "2018-06-14T13:09:39.678870Z"
    }
   },
   "outputs": [
    {
     "name": "stdout",
     "output_type": "stream",
     "text": [
      "19556 peaks from tissue-specific data\n"
     ]
    },
    {
     "data": {
      "text/html": [
       "<div>\n",
       "<style>\n",
       "    .dataframe thead tr:only-child th {\n",
       "        text-align: right;\n",
       "    }\n",
       "\n",
       "    .dataframe thead th {\n",
       "        text-align: left;\n",
       "    }\n",
       "\n",
       "    .dataframe tbody tr th {\n",
       "        vertical-align: top;\n",
       "    }\n",
       "</style>\n",
       "<table border=\"1\" class=\"dataframe\">\n",
       "  <thead>\n",
       "    <tr style=\"text-align: right;\">\n",
       "      <th></th>\n",
       "      <th>chrom</th>\n",
       "      <th>start</th>\n",
       "      <th>end</th>\n",
       "      <th>atac_source</th>\n",
       "    </tr>\n",
       "  </thead>\n",
       "  <tbody>\n",
       "    <tr>\n",
       "      <th>0</th>\n",
       "      <td>chrI</td>\n",
       "      <td>327</td>\n",
       "      <td>478</td>\n",
       "      <td>atac_tissues</td>\n",
       "    </tr>\n",
       "    <tr>\n",
       "      <th>1</th>\n",
       "      <td>chrI</td>\n",
       "      <td>1888</td>\n",
       "      <td>2039</td>\n",
       "      <td>atac_tissues</td>\n",
       "    </tr>\n",
       "    <tr>\n",
       "      <th>2</th>\n",
       "      <td>chrI</td>\n",
       "      <td>3826</td>\n",
       "      <td>3977</td>\n",
       "      <td>atac_tissues</td>\n",
       "    </tr>\n",
       "    <tr>\n",
       "      <th>3</th>\n",
       "      <td>chrI</td>\n",
       "      <td>11188</td>\n",
       "      <td>11339</td>\n",
       "      <td>atac_tissues</td>\n",
       "    </tr>\n",
       "    <tr>\n",
       "      <th>4</th>\n",
       "      <td>chrI</td>\n",
       "      <td>15368</td>\n",
       "      <td>15519</td>\n",
       "      <td>atac_tissues</td>\n",
       "    </tr>\n",
       "  </tbody>\n",
       "</table>\n",
       "</div>"
      ],
      "text/plain": [
       "  chrom  start    end   atac_source\n",
       "0  chrI    327    478  atac_tissues\n",
       "1  chrI   1888   2039  atac_tissues\n",
       "2  chrI   3826   3977  atac_tissues\n",
       "3  chrI  11188  11339  atac_tissues\n",
       "4  chrI  15368  15519  atac_tissues"
      ]
     },
     "execution_count": 4,
     "metadata": {},
     "output_type": "execute_result"
    }
   ],
   "source": [
    "df_tissues = read_gffbed('annot_ce10_tissues/metrics_atac/atac_tissues_0.001.bed')[yp.NAMES_BED3]\n",
    "df_tissues['atac_source'] = 'atac_tissues'\n",
    "print('%d peaks from tissue-specific data' % (len(df_tissues,)))\n",
    "df_tissues.head()"
   ]
  },
  {
   "cell_type": "code",
   "execution_count": 5,
   "metadata": {
    "ExecuteTime": {
     "end_time": "2018-06-14T13:09:40.788830Z",
     "start_time": "2018-06-14T13:09:40.483913Z"
    }
   },
   "outputs": [
    {
     "name": "stdout",
     "output_type": "stream",
     "text": [
      "629 peaks added from tissue-specific data\n"
     ]
    },
    {
     "data": {
      "text/html": [
       "<div>\n",
       "<style>\n",
       "    .dataframe thead tr:only-child th {\n",
       "        text-align: right;\n",
       "    }\n",
       "\n",
       "    .dataframe thead th {\n",
       "        text-align: left;\n",
       "    }\n",
       "\n",
       "    .dataframe tbody tr th {\n",
       "        vertical-align: top;\n",
       "    }\n",
       "</style>\n",
       "<table border=\"1\" class=\"dataframe\">\n",
       "  <thead>\n",
       "    <tr style=\"text-align: right;\">\n",
       "      <th></th>\n",
       "      <th>chrom</th>\n",
       "      <th>start</th>\n",
       "      <th>end</th>\n",
       "      <th>atac_source</th>\n",
       "    </tr>\n",
       "  </thead>\n",
       "  <tbody>\n",
       "    <tr>\n",
       "      <th>543</th>\n",
       "      <td>chrX</td>\n",
       "      <td>6590107</td>\n",
       "      <td>6590258</td>\n",
       "      <td>atac_tissues</td>\n",
       "    </tr>\n",
       "    <tr>\n",
       "      <th>339</th>\n",
       "      <td>chrIV</td>\n",
       "      <td>11650201</td>\n",
       "      <td>11650352</td>\n",
       "      <td>atac_tissues</td>\n",
       "    </tr>\n",
       "    <tr>\n",
       "      <th>53</th>\n",
       "      <td>chrI</td>\n",
       "      <td>9166828</td>\n",
       "      <td>9166979</td>\n",
       "      <td>atac_tissues</td>\n",
       "    </tr>\n",
       "    <tr>\n",
       "      <th>357</th>\n",
       "      <td>chrIV</td>\n",
       "      <td>16399353</td>\n",
       "      <td>16399504</td>\n",
       "      <td>atac_tissues</td>\n",
       "    </tr>\n",
       "    <tr>\n",
       "      <th>555</th>\n",
       "      <td>chrX</td>\n",
       "      <td>8025532</td>\n",
       "      <td>8025683</td>\n",
       "      <td>atac_tissues</td>\n",
       "    </tr>\n",
       "    <tr>\n",
       "      <th>455</th>\n",
       "      <td>chrV</td>\n",
       "      <td>14097824</td>\n",
       "      <td>14097975</td>\n",
       "      <td>atac_tissues</td>\n",
       "    </tr>\n",
       "    <tr>\n",
       "      <th>22</th>\n",
       "      <td>chrI</td>\n",
       "      <td>4116213</td>\n",
       "      <td>4116364</td>\n",
       "      <td>atac_tissues</td>\n",
       "    </tr>\n",
       "    <tr>\n",
       "      <th>139</th>\n",
       "      <td>chrII</td>\n",
       "      <td>7717461</td>\n",
       "      <td>7717612</td>\n",
       "      <td>atac_tissues</td>\n",
       "    </tr>\n",
       "    <tr>\n",
       "      <th>327</th>\n",
       "      <td>chrIV</td>\n",
       "      <td>9740759</td>\n",
       "      <td>9740910</td>\n",
       "      <td>atac_tissues</td>\n",
       "    </tr>\n",
       "    <tr>\n",
       "      <th>491</th>\n",
       "      <td>chrX</td>\n",
       "      <td>1384026</td>\n",
       "      <td>1384177</td>\n",
       "      <td>atac_tissues</td>\n",
       "    </tr>\n",
       "    <tr>\n",
       "      <th>229</th>\n",
       "      <td>chrIII</td>\n",
       "      <td>7805232</td>\n",
       "      <td>7805383</td>\n",
       "      <td>atac_tissues</td>\n",
       "    </tr>\n",
       "    <tr>\n",
       "      <th>343</th>\n",
       "      <td>chrIV</td>\n",
       "      <td>12213035</td>\n",
       "      <td>12213186</td>\n",
       "      <td>atac_tissues</td>\n",
       "    </tr>\n",
       "    <tr>\n",
       "      <th>182</th>\n",
       "      <td>chrIII</td>\n",
       "      <td>110</td>\n",
       "      <td>261</td>\n",
       "      <td>atac_tissues</td>\n",
       "    </tr>\n",
       "    <tr>\n",
       "      <th>88</th>\n",
       "      <td>chrII</td>\n",
       "      <td>158687</td>\n",
       "      <td>158838</td>\n",
       "      <td>atac_tissues</td>\n",
       "    </tr>\n",
       "    <tr>\n",
       "      <th>104</th>\n",
       "      <td>chrII</td>\n",
       "      <td>1153771</td>\n",
       "      <td>1153922</td>\n",
       "      <td>atac_tissues</td>\n",
       "    </tr>\n",
       "    <tr>\n",
       "      <th>64</th>\n",
       "      <td>chrI</td>\n",
       "      <td>10401044</td>\n",
       "      <td>10401195</td>\n",
       "      <td>atac_tissues</td>\n",
       "    </tr>\n",
       "    <tr>\n",
       "      <th>333</th>\n",
       "      <td>chrIV</td>\n",
       "      <td>10659047</td>\n",
       "      <td>10659198</td>\n",
       "      <td>atac_tissues</td>\n",
       "    </tr>\n",
       "    <tr>\n",
       "      <th>535</th>\n",
       "      <td>chrX</td>\n",
       "      <td>5593920</td>\n",
       "      <td>5594071</td>\n",
       "      <td>atac_tissues</td>\n",
       "    </tr>\n",
       "    <tr>\n",
       "      <th>561</th>\n",
       "      <td>chrX</td>\n",
       "      <td>8755906</td>\n",
       "      <td>8756057</td>\n",
       "      <td>atac_tissues</td>\n",
       "    </tr>\n",
       "    <tr>\n",
       "      <th>219</th>\n",
       "      <td>chrIII</td>\n",
       "      <td>5564464</td>\n",
       "      <td>5564615</td>\n",
       "      <td>atac_tissues</td>\n",
       "    </tr>\n",
       "  </tbody>\n",
       "</table>\n",
       "</div>"
      ],
      "text/plain": [
       "      chrom     start       end   atac_source\n",
       "543    chrX   6590107   6590258  atac_tissues\n",
       "339   chrIV  11650201  11650352  atac_tissues\n",
       "53     chrI   9166828   9166979  atac_tissues\n",
       "357   chrIV  16399353  16399504  atac_tissues\n",
       "555    chrX   8025532   8025683  atac_tissues\n",
       "455    chrV  14097824  14097975  atac_tissues\n",
       "22     chrI   4116213   4116364  atac_tissues\n",
       "139   chrII   7717461   7717612  atac_tissues\n",
       "327   chrIV   9740759   9740910  atac_tissues\n",
       "491    chrX   1384026   1384177  atac_tissues\n",
       "229  chrIII   7805232   7805383  atac_tissues\n",
       "343   chrIV  12213035  12213186  atac_tissues\n",
       "182  chrIII       110       261  atac_tissues\n",
       "88    chrII    158687    158838  atac_tissues\n",
       "104   chrII   1153771   1153922  atac_tissues\n",
       "64     chrI  10401044  10401195  atac_tissues\n",
       "333   chrIV  10659047  10659198  atac_tissues\n",
       "535    chrX   5593920   5594071  atac_tissues\n",
       "561    chrX   8755906   8756057  atac_tissues\n",
       "219  chrIII   5564464   5564615  atac_tissues"
      ]
     },
     "execution_count": 5,
     "metadata": {},
     "output_type": "execute_result"
    }
   ],
   "source": [
    "bt_tissues_only = BedTool.from_dataframe(df_tissues).subtract(b=BedTool.from_dataframe(df_wt_glp1), A=True)\n",
    "df_tissues_only = pd.read_csv(bt_tissues_only.fn, sep='\\t', names=df_wt_glp1.columns)\n",
    "print('%d peaks added from tissue-specific data' % (len(df_tissues_only),))\n",
    "df_tissues_only.sample(20)#head()"
   ]
  },
  {
   "cell_type": "code",
   "execution_count": 6,
   "metadata": {
    "ExecuteTime": {
     "end_time": "2018-06-14T13:09:41.143111Z",
     "start_time": "2018-06-14T13:09:40.791528Z"
    }
   },
   "outputs": [
    {
     "name": "stdout",
     "output_type": "stream",
     "text": [
      "42874 peaks in final set\n",
      "42875 annot_ce10_tissues/accessible_sites.tsv\n"
     ]
    }
   ],
   "source": [
    "fp_ = os.path.join(annot_, 'accessible_sites.tsv')\n",
    "df_merged = pd.concat([df_wt_glp1, df_tissues_only], axis=0, ignore_index=True).sort_values(yp.NAMES_BED3).reset_index(drop=True)\n",
    "print('%d peaks in final set' % (len(df_merged),))\n",
    "df_merged.head()\n",
    "df_merged[yp.NAMES_BED3 + ['atac_source']].to_csv(fp_, sep='\\t', index=False, float_format='%.2f')\n",
    "!wc -l {fp_}"
   ]
  }
 ],
 "metadata": {
  "kernelspec": {
   "display_name": "Python 3",
   "language": "python",
   "name": "python3"
  },
  "language_info": {
   "codemirror_mode": {
    "name": "ipython",
    "version": 3
   },
   "file_extension": ".py",
   "mimetype": "text/x-python",
   "name": "python",
   "nbconvert_exporter": "python",
   "pygments_lexer": "ipython3",
   "version": "3.6.2"
  }
 },
 "nbformat": 4,
 "nbformat_minor": 2
}
