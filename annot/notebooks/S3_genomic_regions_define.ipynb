{
 "cells": [
  {
   "cell_type": "code",
   "execution_count": 1,
   "metadata": {
    "ExecuteTime": {
     "end_time": "2018-01-09T10:13:30.107682Z",
     "start_time": "2018-01-09T10:12:57.867146Z"
    },
    "code_folding": [
     0
    ]
   },
   "outputs": [
    {
     "name": "stderr",
     "output_type": "stream",
     "text": [
      "/mnt/home3/jj374/anaconda36/lib/python3.6/site-packages/statsmodels/compat/pandas.py:56: FutureWarning: The pandas.core.datetools module is deprecated and will be removed in a future version. Please use the pandas.tseries module instead.\n",
      "  from pandas.core import datetools\n"
     ]
    },
    {
     "name": "stdout",
     "output_type": "stream",
     "text": [
      "os.getcwd(): /mnt/b2/scratch/ahringer/jj374/lab/relmapping\n"
     ]
    },
    {
     "name": "stderr",
     "output_type": "stream",
     "text": [
      "/mnt/home1/ahringer/jj374/relmapping/scripts/yarp/yarp.py:386: FutureWarning: convert_objects is deprecated.  Use the data-type specific converters pd.to_datetime, pd.to_timedelta and pd.to_numeric.\n",
      "  df_name = df_name.convert_objects(convert_numeric=True)\n"
     ]
    }
   ],
   "source": [
    "# initialise and load WB annotations\n",
    "%run ~/relmapping/annot/notebooks/__init__.ipynb\n",
    "fp_ = 'WS260_ce10/WS260_ce10.transcripts.annot.gtf.gz'\n",
    "df_annot = yp.df_gfftags_unpack(yp.read_wbgtf(fp_, parse_attr=False), name='attribute')"
   ]
  },
  {
   "cell_type": "code",
   "execution_count": 2,
   "metadata": {
    "ExecuteTime": {
     "end_time": "2018-01-09T10:13:41.111642Z",
     "start_time": "2018-01-09T10:13:30.109951Z"
    },
    "code_folding": [
     0
    ]
   },
   "outputs": [
    {
     "name": "stdout",
     "output_type": "stream",
     "text": [
      "135091 annot/S3_genomic_regions/df_exonic.bed\r\n"
     ]
    },
    {
     "data": {
      "text/html": [
       "<div>\n",
       "<style>\n",
       "    .dataframe thead tr:only-child th {\n",
       "        text-align: right;\n",
       "    }\n",
       "\n",
       "    .dataframe thead th {\n",
       "        text-align: left;\n",
       "    }\n",
       "\n",
       "    .dataframe tbody tr th {\n",
       "        vertical-align: top;\n",
       "    }\n",
       "</style>\n",
       "<table border=\"1\" class=\"dataframe\">\n",
       "  <thead>\n",
       "    <tr style=\"text-align: right;\">\n",
       "      <th></th>\n",
       "      <th>chrom</th>\n",
       "      <th>start</th>\n",
       "      <th>end</th>\n",
       "      <th>gene_id</th>\n",
       "      <th>score</th>\n",
       "      <th>strand</th>\n",
       "    </tr>\n",
       "  </thead>\n",
       "  <tbody>\n",
       "    <tr>\n",
       "      <th>0</th>\n",
       "      <td>chrI</td>\n",
       "      <td>3746</td>\n",
       "      <td>3909</td>\n",
       "      <td>WBGene00023193</td>\n",
       "      <td>.</td>\n",
       "      <td>-</td>\n",
       "    </tr>\n",
       "    <tr>\n",
       "      <th>1</th>\n",
       "      <td>chrI</td>\n",
       "      <td>4115</td>\n",
       "      <td>4358</td>\n",
       "      <td>WBGene00022277</td>\n",
       "      <td>.</td>\n",
       "      <td>-</td>\n",
       "    </tr>\n",
       "    <tr>\n",
       "      <th>2</th>\n",
       "      <td>chrI</td>\n",
       "      <td>5194</td>\n",
       "      <td>5296</td>\n",
       "      <td>WBGene00022277</td>\n",
       "      <td>.</td>\n",
       "      <td>-</td>\n",
       "    </tr>\n",
       "    <tr>\n",
       "      <th>3</th>\n",
       "      <td>chrI</td>\n",
       "      <td>6036</td>\n",
       "      <td>6327</td>\n",
       "      <td>WBGene00022277</td>\n",
       "      <td>.</td>\n",
       "      <td>-</td>\n",
       "    </tr>\n",
       "    <tr>\n",
       "      <th>4</th>\n",
       "      <td>chrI</td>\n",
       "      <td>9726</td>\n",
       "      <td>9846</td>\n",
       "      <td>WBGene00022277</td>\n",
       "      <td>.</td>\n",
       "      <td>-</td>\n",
       "    </tr>\n",
       "  </tbody>\n",
       "</table>\n",
       "</div>"
      ],
      "text/plain": [
       "  chrom  start   end         gene_id score strand\n",
       "0  chrI   3746  3909  WBGene00023193     .      -\n",
       "1  chrI   4115  4358  WBGene00022277     .      -\n",
       "2  chrI   5194  5296  WBGene00022277     .      -\n",
       "3  chrI   6036  6327  WBGene00022277     .      -\n",
       "4  chrI   9726  9846  WBGene00022277     .      -"
      ]
     },
     "execution_count": 2,
     "metadata": {},
     "output_type": "execute_result"
    }
   ],
   "source": [
    "# annot/S3_genomic_regions/df_exonic.bed: \"union-of-exons\" having the same gene_id\n",
    "df_ = df_annot.query('feature == \"exon\"')[['chrom', 'start', 'end', 'gene_id', 'score', 'strand']]\n",
    "df_['start'] = df_['start'] - 1 # gtf-to-bed\n",
    "df_ = BedTool.from_dataframe(df_).cluster(s=True).to_dataframe()\n",
    "df_.columns = ['chrom', 'start', 'end', 'gene_id', 'score', 'strand', 'cluster_id']\n",
    "df_exonic = df_.groupby(['gene_id', 'cluster_id']).agg({\n",
    "        'chrom': lambda s: list(set(s))[0],\n",
    "        'start': np.min,\n",
    "        'end': np.max,\n",
    "        'score': lambda s: list(set(s))[0],\n",
    "        'strand': lambda s: list(set(s))[0],\n",
    "}).reset_index()[['chrom', 'start', 'end', 'gene_id', 'score', 'strand']]\\\n",
    "  .sort_values(['chrom', 'start', 'end', 'strand']).reset_index(drop=True)\n",
    "\n",
    "fp_ = 'annot/S3_genomic_regions/df_exonic.bed'\n",
    "df_exonic.to_csv(fp_, header=False, index=False, sep='\\t')\n",
    "!wc -l {fp_}\n",
    "df_exonic.head()"
   ]
  },
  {
   "cell_type": "code",
   "execution_count": 3,
   "metadata": {
    "ExecuteTime": {
     "end_time": "2018-01-09T10:13:43.728525Z",
     "start_time": "2018-01-09T10:13:41.115277Z"
    },
    "code_folding": [
     0
    ]
   },
   "outputs": [
    {
     "name": "stdout",
     "output_type": "stream",
     "text": [
      "23155 annot/S3_genomic_regions/df_gene_ends.bed\r\n"
     ]
    },
    {
     "data": {
      "text/html": [
       "<div>\n",
       "<style>\n",
       "    .dataframe thead tr:only-child th {\n",
       "        text-align: right;\n",
       "    }\n",
       "\n",
       "    .dataframe thead th {\n",
       "        text-align: left;\n",
       "    }\n",
       "\n",
       "    .dataframe tbody tr th {\n",
       "        vertical-align: top;\n",
       "    }\n",
       "</style>\n",
       "<table border=\"1\" class=\"dataframe\">\n",
       "  <thead>\n",
       "    <tr style=\"text-align: right;\">\n",
       "      <th></th>\n",
       "      <th>chrom</th>\n",
       "      <th>start</th>\n",
       "      <th>end</th>\n",
       "      <th>gene_id</th>\n",
       "      <th>score</th>\n",
       "      <th>strand</th>\n",
       "    </tr>\n",
       "  </thead>\n",
       "  <tbody>\n",
       "    <tr>\n",
       "      <th>0</th>\n",
       "      <td>chrI</td>\n",
       "      <td>3646</td>\n",
       "      <td>3847</td>\n",
       "      <td>WBGene00023193</td>\n",
       "      <td>.</td>\n",
       "      <td>-</td>\n",
       "    </tr>\n",
       "    <tr>\n",
       "      <th>1</th>\n",
       "      <td>chrI</td>\n",
       "      <td>4015</td>\n",
       "      <td>4216</td>\n",
       "      <td>WBGene00022277</td>\n",
       "      <td>.</td>\n",
       "      <td>-</td>\n",
       "    </tr>\n",
       "    <tr>\n",
       "      <th>2</th>\n",
       "      <td>chrI</td>\n",
       "      <td>16736</td>\n",
       "      <td>16937</td>\n",
       "      <td>WBGene00022276</td>\n",
       "      <td>.</td>\n",
       "      <td>+</td>\n",
       "    </tr>\n",
       "    <tr>\n",
       "      <th>3</th>\n",
       "      <td>chrI</td>\n",
       "      <td>17386</td>\n",
       "      <td>17587</td>\n",
       "      <td>WBGene00022278</td>\n",
       "      <td>.</td>\n",
       "      <td>-</td>\n",
       "    </tr>\n",
       "    <tr>\n",
       "      <th>4</th>\n",
       "      <td>chrI</td>\n",
       "      <td>22781</td>\n",
       "      <td>22982</td>\n",
       "      <td>WBGene00235381</td>\n",
       "      <td>.</td>\n",
       "      <td>-</td>\n",
       "    </tr>\n",
       "  </tbody>\n",
       "</table>\n",
       "</div>"
      ],
      "text/plain": [
       "  chrom  start    end         gene_id score strand\n",
       "0  chrI   3646   3847  WBGene00023193     .      -\n",
       "1  chrI   4015   4216  WBGene00022277     .      -\n",
       "2  chrI  16736  16937  WBGene00022276     .      +\n",
       "3  chrI  17386  17587  WBGene00022278     .      -\n",
       "4  chrI  22781  22982  WBGene00235381     .      -"
      ]
     },
     "execution_count": 3,
     "metadata": {},
     "output_type": "execute_result"
    }
   ],
   "source": [
    "# annot/S3_genomic_regions/df_gene_ends.bed: sequence flanking flank_ at the 3' end of the last exon of a gene\n",
    "# (So alternative 3' ends are ignored by construction)\n",
    "# df_ <- all exons\n",
    "df_ = df_annot.query('feature == \"exon\"')[['chrom', 'start', 'end', 'gene_id', 'score', 'strand']]\n",
    "df_['start'] = df_['start'] - 1 # gtf-to-bed\n",
    "# df_ <- collapse to gene boundaries by gene_id\n",
    "df_ = df_.groupby(['gene_id']).agg({\n",
    "        'chrom': lambda s: list(set(s))[0],\n",
    "        'start': np.min,\n",
    "        'end': np.max,\n",
    "        'gene_id': lambda s: ','.join(sorted(set(s))),\n",
    "        'score': lambda s: list(set(s))[0],\n",
    "        'strand': lambda s: list(set(s))[0],\n",
    "})\n",
    "\n",
    "def gene_end_(start, end, strand):\n",
    "    if strand == '+':\n",
    "        return end - 1\n",
    "    elif strand == '-':\n",
    "        return start\n",
    "    assert False\n",
    "\n",
    "flank_ = 100\n",
    "df_gene_ends = pd.DataFrame()\n",
    "df_gene_ends['chrom'] = df_['chrom']\n",
    "df_gene_ends['start'] = list(map(gene_end_, df_['start'], df_['end'], df_['strand']))\n",
    "df_gene_ends['end'] = df_gene_ends['start'] + 1\n",
    "df_gene_ends['start'] -= flank_\n",
    "df_gene_ends['end'] += flank_\n",
    "df_gene_ends['gene_id'] = df_['gene_id']\n",
    "df_gene_ends['score'] = df_['score']\n",
    "df_gene_ends['strand'] = df_['strand']\n",
    "df_gene_ends = df_gene_ends.sort_values(['chrom', 'start', 'end', 'strand']).reset_index(drop=True)\n",
    "\n",
    "fp_ = 'annot/S3_genomic_regions/df_gene_ends.bed'\n",
    "df_gene_ends.to_csv(fp_, header=False, index=False, sep='\\t')\n",
    "!wc -l {fp_}\n",
    "df_gene_ends.head()"
   ]
  },
  {
   "cell_type": "code",
   "execution_count": 4,
   "metadata": {
    "ExecuteTime": {
     "end_time": "2018-01-09T10:14:54.013217Z",
     "start_time": "2018-01-09T10:13:43.731623Z"
    },
    "code_folding": [
     0
    ]
   },
   "outputs": [
    {
     "name": "stdout",
     "output_type": "stream",
     "text": [
      "111936 annot/S3_genomic_regions/df_intronic.bed\r\n"
     ]
    },
    {
     "data": {
      "text/html": [
       "<div>\n",
       "<style>\n",
       "    .dataframe thead tr:only-child th {\n",
       "        text-align: right;\n",
       "    }\n",
       "\n",
       "    .dataframe thead th {\n",
       "        text-align: left;\n",
       "    }\n",
       "\n",
       "    .dataframe tbody tr th {\n",
       "        vertical-align: top;\n",
       "    }\n",
       "</style>\n",
       "<table border=\"1\" class=\"dataframe\">\n",
       "  <thead>\n",
       "    <tr style=\"text-align: right;\">\n",
       "      <th></th>\n",
       "      <th>chrom</th>\n",
       "      <th>start</th>\n",
       "      <th>end</th>\n",
       "      <th>gene_id</th>\n",
       "      <th>score</th>\n",
       "      <th>strand</th>\n",
       "    </tr>\n",
       "  </thead>\n",
       "  <tbody>\n",
       "    <tr>\n",
       "      <th>0</th>\n",
       "      <td>chrI</td>\n",
       "      <td>4358</td>\n",
       "      <td>5194</td>\n",
       "      <td>WBGene00022277</td>\n",
       "      <td>.</td>\n",
       "      <td>-</td>\n",
       "    </tr>\n",
       "    <tr>\n",
       "      <th>1</th>\n",
       "      <td>chrI</td>\n",
       "      <td>5296</td>\n",
       "      <td>6036</td>\n",
       "      <td>WBGene00022277</td>\n",
       "      <td>.</td>\n",
       "      <td>-</td>\n",
       "    </tr>\n",
       "    <tr>\n",
       "      <th>2</th>\n",
       "      <td>chrI</td>\n",
       "      <td>6327</td>\n",
       "      <td>9726</td>\n",
       "      <td>WBGene00022277</td>\n",
       "      <td>.</td>\n",
       "      <td>-</td>\n",
       "    </tr>\n",
       "    <tr>\n",
       "      <th>3</th>\n",
       "      <td>chrI</td>\n",
       "      <td>9846</td>\n",
       "      <td>10094</td>\n",
       "      <td>WBGene00022277</td>\n",
       "      <td>.</td>\n",
       "      <td>-</td>\n",
       "    </tr>\n",
       "    <tr>\n",
       "      <th>4</th>\n",
       "      <td>chrI</td>\n",
       "      <td>11561</td>\n",
       "      <td>11617</td>\n",
       "      <td>WBGene00022276</td>\n",
       "      <td>.</td>\n",
       "      <td>+</td>\n",
       "    </tr>\n",
       "  </tbody>\n",
       "</table>\n",
       "</div>"
      ],
      "text/plain": [
       "  chrom  start    end         gene_id score strand\n",
       "0  chrI   4358   5194  WBGene00022277     .      -\n",
       "1  chrI   5296   6036  WBGene00022277     .      -\n",
       "2  chrI   6327   9726  WBGene00022277     .      -\n",
       "3  chrI   9846  10094  WBGene00022277     .      -\n",
       "4  chrI  11561  11617  WBGene00022276     .      +"
      ]
     },
     "execution_count": 4,
     "metadata": {},
     "output_type": "execute_result"
    }
   ],
   "source": [
    "# annot/S3_genomic_regions/df_intronic.bed: \"intron regions\", derived from \"union-of-exons'\n",
    "def to_intronic(df_gene_id):\n",
    "    l_chrom = []\n",
    "    l_start = []\n",
    "    l_end = []\n",
    "    l_gene_id = []\n",
    "    l_score = []\n",
    "    l_strand = []\n",
    "    for ((i0, r0), (i1, r1)) in yp.pairwise(df_gene_id.iterrows()):\n",
    "        if r0['chrom'] != r1['chrom']:\n",
    "            continue\n",
    "        l_chrom.append(r0['chrom'])\n",
    "        l_start.append(r0['end'])\n",
    "        l_end.append(r1['start'])\n",
    "        l_gene_id.append(r0['gene_id'])\n",
    "        l_score.append(r0['score'])\n",
    "        l_strand.append(r0['strand'])\n",
    "    df_intronic = pd.DataFrame({'chrom': l_chrom, 'start': l_start, 'end': l_end, \n",
    "                                'gene_id': l_gene_id, 'score': l_score, 'strand': l_strand})\n",
    "    df_intronic['start'] = df_intronic['start'].astype(int)\n",
    "    df_intronic['end'] = df_intronic['end'].astype(int)\n",
    "    return df_intronic[['chrom', 'start', 'end', 'gene_id', 'score', 'strand']]\n",
    "\n",
    "df_intronic = pd.concat([to_intronic(df_gene_id_) for gene_id_, df_gene_id_ in df_exonic.groupby('gene_id')], axis=0) \n",
    "df_intronic = df_intronic.sort_values(['chrom', 'start', 'end', 'strand']).reset_index(drop=True)\n",
    "\n",
    "fp_ = 'annot/S3_genomic_regions/df_intronic.bed'\n",
    "df_intronic.to_csv(fp_, header=False, index=False, sep='\\t')\n",
    "!wc -l {fp_}\n",
    "df_intronic.head()"
   ]
  },
  {
   "cell_type": "code",
   "execution_count": 5,
   "metadata": {
    "ExecuteTime": {
     "end_time": "2018-01-09T10:14:57.277598Z",
     "start_time": "2018-01-09T10:14:54.017053Z"
    },
    "code_folding": [
     0
    ]
   },
   "outputs": [
    {
     "name": "stdout",
     "output_type": "stream",
     "text": [
      "42245 regions loaded\n",
      "18730 17827\n",
      "12367 annot/S3_genomic_regions/df_outronic.bed\n"
     ]
    },
    {
     "data": {
      "text/html": [
       "<div>\n",
       "<style>\n",
       "    .dataframe thead tr:only-child th {\n",
       "        text-align: right;\n",
       "    }\n",
       "\n",
       "    .dataframe thead th {\n",
       "        text-align: left;\n",
       "    }\n",
       "\n",
       "    .dataframe tbody tr th {\n",
       "        vertical-align: top;\n",
       "    }\n",
       "</style>\n",
       "<table border=\"1\" class=\"dataframe\">\n",
       "  <thead>\n",
       "    <tr style=\"text-align: right;\">\n",
       "      <th></th>\n",
       "      <th>chrom</th>\n",
       "      <th>start</th>\n",
       "      <th>end</th>\n",
       "      <th>gene_id</th>\n",
       "      <th>score</th>\n",
       "      <th>strand</th>\n",
       "    </tr>\n",
       "  </thead>\n",
       "  <tbody>\n",
       "    <tr>\n",
       "      <th>0</th>\n",
       "      <td>chrI</td>\n",
       "      <td>11465</td>\n",
       "      <td>11494</td>\n",
       "      <td>WBGene00022276</td>\n",
       "      <td>.</td>\n",
       "      <td>+</td>\n",
       "    </tr>\n",
       "    <tr>\n",
       "      <th>1</th>\n",
       "      <td>chrI</td>\n",
       "      <td>26781</td>\n",
       "      <td>26924</td>\n",
       "      <td>WBGene00022278</td>\n",
       "      <td>.</td>\n",
       "      <td>-</td>\n",
       "    </tr>\n",
       "    <tr>\n",
       "      <th>2</th>\n",
       "      <td>chrI</td>\n",
       "      <td>32544</td>\n",
       "      <td>33301</td>\n",
       "      <td>WBGene00022279</td>\n",
       "      <td>.</td>\n",
       "      <td>-</td>\n",
       "    </tr>\n",
       "    <tr>\n",
       "      <th>3</th>\n",
       "      <td>chrI</td>\n",
       "      <td>32544</td>\n",
       "      <td>36485</td>\n",
       "      <td>WBGene00022279</td>\n",
       "      <td>.</td>\n",
       "      <td>-</td>\n",
       "    </tr>\n",
       "    <tr>\n",
       "      <th>4</th>\n",
       "      <td>chrI</td>\n",
       "      <td>32544</td>\n",
       "      <td>44810</td>\n",
       "      <td>WBGene00022279</td>\n",
       "      <td>.</td>\n",
       "      <td>-</td>\n",
       "    </tr>\n",
       "  </tbody>\n",
       "</table>\n",
       "</div>"
      ],
      "text/plain": [
       "  chrom  start    end         gene_id score strand\n",
       "0  chrI  11465  11494  WBGene00022276     .      +\n",
       "1  chrI  26781  26924  WBGene00022278     .      -\n",
       "2  chrI  32544  33301  WBGene00022279     .      -\n",
       "3  chrI  32544  36485  WBGene00022279     .      -\n",
       "4  chrI  32544  44810  WBGene00022279     .      -"
      ]
     },
     "execution_count": 5,
     "metadata": {},
     "output_type": "execute_result"
    }
   ],
   "source": [
    "# annot/S3_genomic_regions/df_outronic.bed: TSS to closest downstream annotated transcript start\n",
    "def S2_exon1_(df_regl): # Attaches exon1, exactly as in the regulatory annotation (should really be calculated once and stored)\n",
    "    df_atac = df_regl[['chrom', 'start', 'end', 'atac_mode']]\n",
    "\n",
    "    NAMES_EXON = ('chrom', 'start', 'end', 'transcript_id', 'score', 'strand', 'gene_id', 'gene_biotype', 'display_id')\n",
    "\n",
    "    df_exon1_fwd = pd.read_csv('WS260_ce10/WS260_ce10.exon_first.bed', sep='\\t', names=NAMES_EXON).query('strand==\"+\"').reset_index(drop=True)\n",
    "    df_exon1_rev = pd.read_csv('WS260_ce10/WS260_ce10.exon_first.bed', sep='\\t', names=NAMES_EXON).query('strand==\"-\"').reset_index(drop=True)\n",
    "\n",
    "    # set boundaries to 5' end only\n",
    "    df_exon1_fwd['end'] = df_exon1_fwd['start'] + 1\n",
    "    df_exon1_rev['start'] = df_exon1_rev['end'] - 1\n",
    "\n",
    "    print(len(df_exon1_fwd), len(df_exon1_rev))\n",
    "\n",
    "    # Match hypersensitive sites to closest first/other exon\n",
    "    def df_closest(df_a, df_b, b_prefix, **kwargs):\n",
    "        df_a_sort = df_a\n",
    "        df_b_sort = df_b.sort_values(list(df_b.columns[:3]))\n",
    "        fn_ = BedTool.from_dataframe(df_a).closest(BedTool.from_dataframe(df_b_sort).fn, **kwargs).fn\n",
    "        names_ = list(itertools.chain(df_a.columns.values,\n",
    "            ['%s_%s' % (b_prefix, col) for col in df_b.columns.values],\n",
    "            ['%s_distance' % (b_prefix)]\n",
    "        ))\n",
    "        df_ = pd.read_csv(fn_, names=names_, sep='\\t')\n",
    "        return df_[names_[len(df_a.columns):]]\n",
    "\n",
    "    # Closest exon1 -- 200 upstream from atac_mode towards downstream\n",
    "    closest_exon1_flank = 200\n",
    "    df_ = pd.concat([df_atac['chrom'], df_atac['atac_mode'] - closest_exon1_flank, df_atac['atac_mode'] - closest_exon1_flank + 1], axis=1).copy()\n",
    "    df_exon1_fwd_out_ = df_closest(df_, df_exon1_fwd, 'exon1', D='ref', t='first', iu=True)\n",
    "    df_ = pd.concat([df_atac['chrom'], df_atac['atac_mode'] + closest_exon1_flank, df_atac['atac_mode'] + closest_exon1_flank + 1], axis=1).copy()\n",
    "    df_exon1_rev_out_ = df_closest(df_, df_exon1_rev, 'exon1', D='ref', t='first', id=True)\n",
    "    return[df_exon1_fwd_out_, df_exon1_rev_out_]\n",
    "\n",
    "fp_regl = 'annot/S2_regulatory_annotation/S2_regulatory_annotation.tsv'\n",
    "df_regl = pd.read_csv(fp_regl, sep='\\t')\n",
    "print('%d regions loaded' % (len(df_regl),))\n",
    "\n",
    "(df_exon1_fwd, df_exon1_rev) = S2_exon1_(df_regl)\n",
    "df_regl['exon1_start_fwd'] = df_exon1_fwd['exon1_start']\n",
    "df_regl['exon1_end_rev'] = df_exon1_rev['exon1_end']\n",
    "\n",
    "# coding promoters, regions (this will intentionally leave out really short outrons, \n",
    "# as these wouldn't \"include\" any accessible sites anyways)\n",
    "q_fwd_ = '(annot_fwd == \"coding_promoter\") & (((exon1_start_fwd - 1) - end) > 10)'\n",
    "q_rev_ = '(annot_rev == \"coding_promoter\") & ((start - (exon1_end_rev - 1)) > 10)'\n",
    "df_outronic_fwd = df_regl.query(q_fwd_)[['chrom', 'end', 'exon1_start_fwd', 'promoter_gene_id_fwd']].reset_index(drop=True)\n",
    "df_outronic_rev = df_regl.query(q_rev_)[['chrom', 'exon1_end_rev', 'start', 'promoter_gene_id_rev']].reset_index(drop=True)\n",
    "df_outronic_fwd['exon1_start_fwd'] -= 1 # gtf-to-bed\n",
    "df_outronic_fwd.columns = ['chrom', 'start', 'end', 'gene_id']\n",
    "df_outronic_rev.columns = ['chrom', 'start', 'end', 'gene_id']\n",
    "df_outronic_fwd['score'] = '.'\n",
    "df_outronic_rev['score'] = '.'\n",
    "df_outronic_fwd['strand'] = '+'\n",
    "df_outronic_rev['strand'] = '-'\n",
    "\n",
    "# Merge across strands\n",
    "df_outronic = pd.concat([df_outronic_fwd, df_outronic_rev], axis=0)\\\n",
    "    .sort_values(['chrom', 'start', 'end', 'strand']).reset_index(drop=True)\n",
    "fp_ = 'annot/S3_genomic_regions/df_outronic.bed'\n",
    "df_outronic.to_csv(fp_, header=False, index=False, sep='\\t')\n",
    "!wc -l {fp_}\n",
    "df_outronic.head()"
   ]
  },
  {
   "cell_type": "code",
   "execution_count": 6,
   "metadata": {
    "ExecuteTime": {
     "end_time": "2018-01-09T10:14:58.804280Z",
     "start_time": "2018-01-09T10:14:57.281383Z"
    },
    "code_folding": [
     0
    ]
   },
   "outputs": [
    {
     "name": "stdout",
     "output_type": "stream",
     "text": [
      "16914 annot/S3_genomic_regions/df_intergenic.bed\r\n"
     ]
    },
    {
     "data": {
      "text/html": [
       "<div>\n",
       "<style>\n",
       "    .dataframe thead tr:only-child th {\n",
       "        text-align: right;\n",
       "    }\n",
       "\n",
       "    .dataframe thead th {\n",
       "        text-align: left;\n",
       "    }\n",
       "\n",
       "    .dataframe tbody tr th {\n",
       "        vertical-align: top;\n",
       "    }\n",
       "</style>\n",
       "<table border=\"1\" class=\"dataframe\">\n",
       "  <thead>\n",
       "    <tr style=\"text-align: right;\">\n",
       "      <th></th>\n",
       "      <th>chrom</th>\n",
       "      <th>start</th>\n",
       "      <th>end</th>\n",
       "      <th>gene_id</th>\n",
       "      <th>score</th>\n",
       "      <th>strand</th>\n",
       "    </tr>\n",
       "  </thead>\n",
       "  <tbody>\n",
       "    <tr>\n",
       "      <th>0</th>\n",
       "      <td>chrI</td>\n",
       "      <td>0</td>\n",
       "      <td>3646</td>\n",
       "      <td>.</td>\n",
       "      <td>.</td>\n",
       "      <td>.</td>\n",
       "    </tr>\n",
       "    <tr>\n",
       "      <th>1</th>\n",
       "      <td>chrI</td>\n",
       "      <td>3909</td>\n",
       "      <td>4015</td>\n",
       "      <td>.</td>\n",
       "      <td>.</td>\n",
       "      <td>.</td>\n",
       "    </tr>\n",
       "    <tr>\n",
       "      <th>2</th>\n",
       "      <td>chrI</td>\n",
       "      <td>10230</td>\n",
       "      <td>11465</td>\n",
       "      <td>.</td>\n",
       "      <td>.</td>\n",
       "      <td>.</td>\n",
       "    </tr>\n",
       "    <tr>\n",
       "      <th>3</th>\n",
       "      <td>chrI</td>\n",
       "      <td>16937</td>\n",
       "      <td>17386</td>\n",
       "      <td>.</td>\n",
       "      <td>.</td>\n",
       "      <td>.</td>\n",
       "    </tr>\n",
       "    <tr>\n",
       "      <th>4</th>\n",
       "      <td>chrI</td>\n",
       "      <td>26924</td>\n",
       "      <td>27490</td>\n",
       "      <td>.</td>\n",
       "      <td>.</td>\n",
       "      <td>.</td>\n",
       "    </tr>\n",
       "  </tbody>\n",
       "</table>\n",
       "</div>"
      ],
      "text/plain": [
       "  chrom  start    end gene_id score strand\n",
       "0  chrI      0   3646       .     .      .\n",
       "1  chrI   3909   4015       .     .      .\n",
       "2  chrI  10230  11465       .     .      .\n",
       "3  chrI  16937  17386       .     .      .\n",
       "4  chrI  26924  27490       .     .      ."
      ]
     },
     "execution_count": 6,
     "metadata": {},
     "output_type": "execute_result"
    }
   ],
   "source": [
    "# annot/S3_genomic_regions/df_intergenic.bed: \"all except exonic, intronic, outronic\"\n",
    "df_ = pd.concat([df_outronic, df_exonic, df_intronic, df_gene_ends], axis=0)\\\n",
    "    .sort_values(['chrom', 'start', 'end', 'strand']).reset_index(drop=True)\n",
    "\n",
    "df_intergenic = BedTool.from_dataframe(df_).complement(g='shared/ce10.chroms').to_dataframe()\n",
    "df_intergenic['gene_id'] = '.'\n",
    "df_intergenic['score'] = '.'\n",
    "df_intergenic['strand'] = '.'\n",
    "\n",
    "fp_ = 'annot/S3_genomic_regions/df_intergenic.bed'\n",
    "df_intergenic.to_csv(fp_, header=False, index=False, sep='\\t')\n",
    "!wc -l {fp_}\n",
    "df_intergenic.head()"
   ]
  },
  {
   "cell_type": "code",
   "execution_count": 7,
   "metadata": {
    "ExecuteTime": {
     "end_time": "2018-01-09T10:14:59.233605Z",
     "start_time": "2018-01-09T10:14:58.807707Z"
    },
    "code_folding": [
     0
    ]
   },
   "outputs": [
    {
     "name": "stdout",
     "output_type": "stream",
     "text": [
      "299463 pooled segments\n"
     ]
    }
   ],
   "source": [
    "# df_pooled <- exonic, intronic, intergenic, outronic\n",
    "df_outronic['type'] = 'outronic'\n",
    "df_exonic['type'] = 'exonic'\n",
    "df_intronic['type'] = 'intronic'\n",
    "df_gene_ends['type'] = 'gene_end'\n",
    "df_intergenic['type'] = 'intergenic'\n",
    "\n",
    "df_pooled = pd.concat([df_outronic, df_exonic, df_intronic, df_gene_ends, df_intergenic], axis=0)\\\n",
    "    .sort_values(['chrom', 'start', 'end', 'strand']).reset_index(drop=True)\n",
    "\n",
    "print('%d pooled segments' % (len(df_pooled),))"
   ]
  },
  {
   "cell_type": "code",
   "execution_count": 8,
   "metadata": {
    "ExecuteTime": {
     "end_time": "2018-01-09T10:15:25.206202Z",
     "start_time": "2018-01-09T10:14:59.236955Z"
    },
    "code_folding": [
     0
    ],
    "collapsed": true
   },
   "outputs": [],
   "source": [
    "# annot/S3_genomic_regions/S3a_genomic_regions_full.bed <- full regions, unmixed\n",
    "d_type_colour = {\n",
    "    'outronic': yp.RED,\n",
    "    'exonic': yp.ORANGE,\n",
    "    'intronic': yp.YELLOW,\n",
    "    'gene_end': yp.PURPLE,\n",
    "    'intergenic': yp.SKYBLUE,\n",
    "    'mixed': yp.BLACK,\n",
    "}\n",
    "\n",
    "def name_(type_, gene_id_):\n",
    "    if type_ == 'intergenic' or type_ == 'mixed':\n",
    "        return type_\n",
    "    else:\n",
    "        return '%s: %s' % (type_, gene_id_)\n",
    "\n",
    "write_gffbed('annot/S3_genomic_regions/S3_genomic_regions_pre-unique.bed',\n",
    "    chrom = df_pooled['chrom'],\n",
    "    start = df_pooled['start'],\n",
    "    end = df_pooled['end'],\n",
    "    name = list(map(name_, df_pooled['type'], df_pooled['gene_id'])),\n",
    "    strand = df_pooled['strand'],\n",
    "    itemRgb = map(lambda type_: d_type_colour[type_], df_pooled['type']),\n",
    "    attr = df_pooled[['type', 'gene_id']]\n",
    ")"
   ]
  },
  {
   "cell_type": "code",
   "execution_count": 9,
   "metadata": {
    "ExecuteTime": {
     "end_time": "2018-01-09T10:15:33.796667Z",
     "start_time": "2018-01-09T10:15:25.210738Z"
    },
    "code_folding": [
     0
    ],
    "collapsed": true
   },
   "outputs": [],
   "source": [
    "# Build gas \n",
    "gas = hts.GenomicArrayOfSets(chroms=yp.chroms_ce10, stranded=False)\n",
    "for r in df_pooled.itertuples():\n",
    "    iv = hts.GenomicInterval(r.chrom, r.start, r.end)\n",
    "    try:\n",
    "        gas[iv] += r\n",
    "    except IndexError:\n",
    "        print(iv, r.type)"
   ]
  },
  {
   "cell_type": "code",
   "execution_count": 10,
   "metadata": {
    "ExecuteTime": {
     "end_time": "2018-01-09T10:15:38.342976Z",
     "start_time": "2018-01-09T10:15:33.798644Z"
    },
    "code_folding": []
   },
   "outputs": [],
   "source": [
    "# annot/S3_genomic_regions/S3a_genomic_regions_unique.bed <- regions, mixed\n",
    "# Note: leaves some \"identical\" neighbouring states at the moment\n",
    "\n",
    "# last exon, by construction, overlaps with gene end\n",
    "# => remove exonic if there's a gene_end with the same gene_id\n",
    "# => exons can be short, therefore also ignore intronic\n",
    "def collapse_at_gene_end(s_r_):\n",
    "    l_gene_end_gene_id = set([r.gene_id for r in s_r_ if r.type == 'gene_end'])\n",
    "    for r in s_r_:\n",
    "        if (r.type in ['exonic', 'intronic']) and (r.gene_id in l_gene_end_gene_id):\n",
    "            continue\n",
    "        yield r\n",
    "\n",
    "def df_unique_(gas):\n",
    "    n_exonic_gene_end = 0\n",
    "    for chrom in gas.chrom_vectors.keys():\n",
    "        iv_chrom = gas.chrom_vectors[chrom]['.'].iv\n",
    "        for iv, s_r_ in itertools.islice(gas[iv_chrom].steps(), None):\n",
    "            s_r = list(collapse_at_gene_end(s_r_))\n",
    "            type_ = ','.join(sorted(set([r.type for r in s_r])))\n",
    "            gene_id = ','.join(sorted(set([r.gene_id for r in s_r])))\n",
    "            l_strand_ = sorted(set([r.strand for r in s_r]))\n",
    "            strand = '.' if len(l_strand_) > 1 else l_strand_[0]\n",
    "\n",
    "            # \"Unique-ify based on type, e.g. sequence in exons of two different genes is still exonic\"\n",
    "            if (len(set([r.type for r in s_r])) > 1):\n",
    "                type_ = 'mixed'\n",
    "                gene_id = ','.join(sorted(set([r.gene_id for r in s_r])))\n",
    "                l_strand_ = list(set([r.strand for r in s_r]))\n",
    "                strand = '.' if len(l_strand_) > 1 else l_strand_[0]\n",
    "\n",
    "            yield([iv.chrom, iv.start, iv.end, type_, gene_id, strand])\n",
    "\n",
    "df_unique = pd.DataFrame.from_records(df_unique_(gas), columns=['chrom', 'start', 'end', 'type', 'gene_id', 'strand'])\\\n",
    "    .sort_values(['chrom', 'start', 'end', 'strand'])\n",
    "df_unique['score'] = '.'\n",
    "\n",
    "assert (df_unique['end'] - df_unique['start']).sum() == sum(yp.chroms_ce10.values())"
   ]
  },
  {
   "cell_type": "code",
   "execution_count": 11,
   "metadata": {
    "ExecuteTime": {
     "end_time": "2018-01-09T10:21:17.929297Z",
     "start_time": "2018-01-09T10:15:38.346544Z"
    }
   },
   "outputs": [],
   "source": [
    "# df_unique['segment_id'] <- adjacent segments with identical chrom, type, gene_id\n",
    "df_unique['segment_id'] = -1\n",
    "df_unique.loc[0, 'segment_id'] = 0\n",
    "for i in range(1, len(df_unique)):\n",
    "    if (df_unique.loc[i, 'chrom'] == df_unique.loc[i - 1, 'chrom']) and\\\n",
    "       (df_unique.loc[i, 'type'] == df_unique.loc[i - 1, 'type']) and\\\n",
    "       (df_unique.loc[i, 'gene_id'] == df_unique.loc[i - 1, 'gene_id']):\n",
    "        df_unique.loc[i, 'segment_id'] = df_unique.loc[i - 1, 'segment_id']\n",
    "    else:\n",
    "        df_unique.loc[i, 'segment_id'] = df_unique.loc[i - 1, 'segment_id'] + 1\n"
   ]
  },
  {
   "cell_type": "code",
   "execution_count": 12,
   "metadata": {
    "ExecuteTime": {
     "end_time": "2018-01-09T10:21:46.795705Z",
     "start_time": "2018-01-09T10:21:17.931740Z"
    }
   },
   "outputs": [
    {
     "name": "stdout",
     "output_type": "stream",
     "text": [
      "328674 raw, 287768 collapsed\n"
     ]
    }
   ],
   "source": [
    "df_unique_out = df_unique.groupby(['segment_id']).agg({\n",
    "        'chrom': lambda s: list(set(s))[0],\n",
    "        'start': np.min,\n",
    "        'end': np.max,\n",
    "        'type': lambda s: list(set(s))[0],\n",
    "        'gene_id': lambda s: list(set(s))[0],\n",
    "        'strand': lambda s: list(set(s))[0],\n",
    "        'score': lambda s: list(set(s))[0],\n",
    "}).reset_index()[['chrom', 'start', 'end', 'type', 'gene_id', 'strand', 'score']]\\\n",
    ".sort_values(['chrom', 'start', 'end']).reset_index(drop=True)\n",
    "print('%d raw, %d collapsed' % (len(df_unique), len(df_unique_out)))"
   ]
  },
  {
   "cell_type": "code",
   "execution_count": 13,
   "metadata": {
    "ExecuteTime": {
     "end_time": "2018-01-09T10:22:12.149028Z",
     "start_time": "2018-01-09T10:21:46.798195Z"
    },
    "code_folding": [],
    "collapsed": true
   },
   "outputs": [],
   "source": [
    "write_gffbed('annot/S3_genomic_regions/S3_genomic_regions.bed',\n",
    "    chrom = df_unique_out['chrom'],\n",
    "    start = df_unique_out['start'],\n",
    "    end = df_unique_out['end'],\n",
    "    name = list(map(name_, df_unique_out['type'], df_unique_out['gene_id'])),\n",
    "    strand = df_unique_out['strand'],\n",
    "    itemRgb = map(lambda type_: d_type_colour[type_], df_unique_out['type']),\n",
    "    attr = df_unique_out[['type', 'gene_id']]\n",
    ")"
   ]
  },
  {
   "cell_type": "code",
   "execution_count": 14,
   "metadata": {
    "ExecuteTime": {
     "end_time": "2018-01-09T10:22:13.438494Z",
     "start_time": "2018-01-09T10:22:12.153039Z"
    },
    "collapsed": true
   },
   "outputs": [],
   "source": [
    "fp_ = 'annot/S3_genomic_regions/S3_genomic_regions.tsv'\n",
    "df_unique_out[['chrom', 'start', 'end', 'type', 'strand', 'gene_id']].to_csv(fp_, header=True, index=False, sep='\\t')"
   ]
  },
  {
   "cell_type": "code",
   "execution_count": null,
   "metadata": {
    "collapsed": true
   },
   "outputs": [],
   "source": []
  }
 ],
 "metadata": {
  "kernelspec": {
   "display_name": "Python 3",
   "language": "python",
   "name": "python3"
  },
  "language_info": {
   "codemirror_mode": {
    "name": "ipython",
    "version": 3
   },
   "file_extension": ".py",
   "mimetype": "text/x-python",
   "name": "python",
   "nbconvert_exporter": "python",
   "pygments_lexer": "ipython3",
   "version": "3.6.2"
  }
 },
 "nbformat": 4,
 "nbformat_minor": 2
}
