{
 "cells": [
  {
   "cell_type": "code",
   "execution_count": 1,
   "metadata": {
    "ExecuteTime": {
     "end_time": "2018-04-23T10:51:47.983206Z",
     "start_time": "2018-04-23T10:51:41.974474Z"
    },
    "code_folding": [
     0
    ]
   },
   "outputs": [
    {
     "name": "stderr",
     "output_type": "stream",
     "text": [
      "/mnt/home3/jj374/anaconda36/lib/python3.6/site-packages/statsmodels/compat/pandas.py:56: FutureWarning: The pandas.core.datetools module is deprecated and will be removed in a future version. Please use the pandas.tseries module instead.\n",
      "  from pandas.core import datetools\n"
     ]
    },
    {
     "name": "stdout",
     "output_type": "stream",
     "text": [
      "os.getcwd(): /mnt/beegfs/scratch_copy/ahringer/jj374/lab/relmapping\n"
     ]
    }
   ],
   "source": [
    "# Initialise\n",
    "%run ~/relmapping/annot/notebooks/__init__.ipynb"
   ]
  },
  {
   "cell_type": "code",
   "execution_count": 108,
   "metadata": {
    "ExecuteTime": {
     "end_time": "2018-04-24T19:21:13.605075Z",
     "start_time": "2018-04-24T19:21:10.075000Z"
    }
   },
   "outputs": [
    {
     "name": "stdout",
     "output_type": "stream",
     "text": [
      "42245 regions loaded\n",
      "chrIV:6117863-6118043\t                annot_fwd\t          coding_promoter\t          coding_promoter\n",
      "chrIV:6117863-6118043\t    promoter_locus_id_fwd\t                    zen-4\t                    zen-4\n",
      "chrIV:6117863-6118043\t                annot_rev\t           non-coding_RNA\t           non-coding_RNA\n",
      "chrIV:6117863-6118043\t    promoter_locus_id_rev\t                 M03D4.78\t                 M03D4.78\n",
      "chrIII:6971981-6972101\t                annot_fwd\t          coding_promoter\t          coding_promoter\n",
      "chrIII:6971981-6972101\t    promoter_locus_id_fwd\t                    rfc-4\t                    rfc-4\n",
      "chrIII:6971981-6972101\t                annot_rev\t          coding_promoter\t          coding_promoter\n",
      "chrIII:6971981-6972101\t    promoter_locus_id_rev\t                 eef-1A.1\t                 eef-1A.1\n",
      "chrV:7196589-7196718\t                annot_fwd\t          coding_promoter\t          coding_promoter\n",
      "chrV:7196589-7196718\t    promoter_locus_id_fwd\t                  F09G2.2\t                  F09G2.2\n",
      "chrV:7196589-7196718\t                annot_rev\t          coding_promoter\t          coding_promoter\n",
      "chrV:7196589-7196718\t    promoter_locus_id_rev\t                   attf-2\t                   attf-2\n",
      "chrII:13596635-13596738\t                annot_rev\t          coding_promoter\t          coding_promoter\n",
      "chrII:13596635-13596738\t    promoter_locus_id_rev\t                  fbxc-23\t                  fbxc-23\n",
      "chrII:979338-979455\t                annot_fwd\t          coding_promoter\t          coding_promoter\n",
      "chrII:979338-979455\t    promoter_locus_id_fwd\t                  fbxc-15\t                  fbxc-15\n",
      "chrI:11182502-11182624\t                annot_rev\t          coding_promoter\t          coding_promoter\n",
      "chrI:11182502-11182624\t    promoter_locus_id_rev\t                    rsr-1\t                    rsr-1\n",
      "chrV:19405507-19405707\t                annot_fwd\t          coding_promoter\t          coding_promoter\n",
      "chrV:19405507-19405707\t    promoter_locus_id_fwd\t                 C25F9.10\t                 C25F9.10\n",
      "chrV:19405507-19405707\t                annot_rev\t          coding_promoter\t          coding_promoter\n",
      "chrV:19405507-19405707\t    promoter_locus_id_rev\t                  C25F9.6\t                  C25F9.6\n",
      "chrV:5433170-5433353\t                annot_fwd\t          coding_promoter\t          coding_promoter\n",
      "chrV:5433170-5433353\t    promoter_locus_id_fwd\t                    acl-6\t                    acl-6\n",
      "chrIV:13541820-13541934\t                annot_rev\t          coding_promoter\t          coding_promoter\n",
      "chrIV:13541820-13541934\t    promoter_locus_id_rev\t                    rsd-2\t                    rsd-2\n",
      "chrII:7150014-7150236\t                annot_fwd\t         no_transcription\t         no_transcription\n",
      "chrII:7150014-7150236\t                annot_rev\t transcription_initiation\t transcription_initiation\n",
      "chrI:183422-183568\t                annot_fwd\t transcription_initiation\t transcription_initiation\n",
      "chrI:183422-183568\t      associated_locus_id\t                    atm-1\t                    atm-1\n",
      "chrII:6891890-6892040\t                annot_fwd\t          coding_promoter\t          coding_promoter\n",
      "chrII:6891890-6892040\t                annot_rev\t          coding_promoter\t          coding_promoter\n",
      "chrI:111191-111378\t                annot_fwd\t           non-coding_RNA\t           non-coding_RNA\n",
      "chrI:111191-111378\t    promoter_locus_id_fwd\t                F53G12.12\t                F53G12.12\n",
      "chrI:13324560-13324714\t                annot_fwd\t          coding_promoter\t          coding_promoter\n",
      "chrI:13324560-13324714\t    promoter_locus_id_fwd\t                   gcy-35\t                   gcy-35\n",
      "chrI:13372998-13373215\t                annot_rev\t          coding_promoter\t          coding_promoter\n",
      "chrI:13372998-13373215\t    promoter_locus_id_rev\t                   sptf-3\t                   sptf-3\n",
      "chrIII:6971981-6972101\t                annot_fwd\t          coding_promoter\t          coding_promoter\n",
      "chrIII:6971981-6972101\t    promoter_locus_id_fwd\t                    rfc-4\t                    rfc-4\n",
      "chrIII:6971981-6972101\t                annot_rev\t          coding_promoter\t          coding_promoter\n",
      "chrIII:6971981-6972101\t    promoter_locus_id_rev\t                 eef-1A.1\t                 eef-1A.1\n",
      "chrI:13372998-13373215\t                annot_rev\t          coding_promoter\t          coding_promoter\n",
      "chrI:13372998-13373215\t    promoter_locus_id_rev\t                   sptf-3\t                   sptf-3\n",
      "chrI:14316482-14316632\t                annot_fwd\t      pseudogene_promoter\t      pseudogene_promoter\n",
      "chrI:14316482-14316632\t    promoter_locus_id_fwd\t                  F49B2.4\t                  F49B2.4\n",
      "chrII:14468955-14469118\t                annot_fwd\t         unknown_promoter\t         unknown_promoter\n",
      "chrI:6011491-6011614\t                annot_rev\t          coding_promoter\t          coding_promoter\n",
      "chrI:6011491-6011614\t    promoter_locus_id_rev\t                    rnf-1\t                    rnf-1\n",
      "chrI:7643236-7643386\t                annot_rev\t          coding_promoter\t          coding_promoter\n",
      "chrI:7643236-7643386\t    promoter_locus_id_rev\t                   ncbp-2\t                   ncbp-2\n",
      "chrII:2320231-2320381\t                annot_fwd\t          coding_promoter\t          coding_promoter\n",
      "chrII:2320231-2320381\t    promoter_locus_id_fwd\t                 ZK1240.3\t                 ZK1240.3\n",
      "chrII:6775038-6775173\t                annot_rev\t          coding_promoter\t          coding_promoter\n",
      "chrII:6775038-6775173\t    promoter_locus_id_rev\t                    agr-1\t                    agr-1\n",
      "chrII:2296175-2296310\t                annot_rev\t          coding_promoter\t          coding_promoter\n",
      "chrII:2296175-2296310\t    promoter_locus_id_rev\t                  fbxc-25\t                  fbxc-25\n",
      "chrI:5509301-5509451\t                annot_rev\t          coding_promoter\t          coding_promoter\n",
      "chrI:5509301-5509451\t    promoter_locus_id_rev\t                  zipt-11\t                  zipt-11\n",
      "chrII:2772185-2772335\t                annot_rev\t          coding_promoter\t          coding_promoter\n",
      "chrII:2772185-2772335\t    promoter_locus_id_rev\t                   sdz-10\t                   sdz-10\n",
      "chrV:5433187-5433337\t                annot_rev\t          coding_promoter\t          coding_promoter\n",
      "chrV:5433187-5433337\t    promoter_locus_id_rev\t                  F08F3.8\t                  F08F3.8\n",
      "chrII:1818315-1818462\t                annot_rev\t          coding_promoter\t          coding_promoter\n",
      "chrII:1818315-1818462\t    promoter_locus_id_rev\t                  fbxb-10\t                  fbxb-10\n",
      "chrI:11182502-11182624\t                annot_fwd\t          coding_promoter\t          coding_promoter\n",
      "chrI:11182502-11182624\t    promoter_locus_id_fwd\t                    sri-5\t                    sri-5\n",
      "chrI:11182502-11182624\t                annot_rev\t          coding_promoter\t          coding_promoter\n",
      "chrI:11182502-11182624\t    promoter_locus_id_rev\t                    rsr-1\t                    rsr-1\n",
      "chrV:5433170-5433353\t                annot_rev\t          coding_promoter\t          coding_promoter\n",
      "chrV:5433170-5433353\t    promoter_locus_id_rev\t                  F08F3.8\t                  F08F3.8\n",
      "chrI:13376619-13376731\t                annot_fwd\t          coding_promoter\t          coding_promoter\n",
      "chrI:13376619-13376731\t    promoter_locus_id_fwd\t                  C01A2.9\t                  C01A2.9\n",
      "chrII:1818315-1818462\t                annot_rev\t          coding_promoter\t          coding_promoter\n",
      "chrII:1818315-1818462\t    promoter_locus_id_rev\t                  fbxb-10\t                  fbxb-10\n",
      "chrII:1818315-1818462\t                annot_fwd\t         unknown_promoter\t         unknown_promoter\n",
      "chrII:14563893-14564084\t                annot_rev\t      pseudogene_promoter\t      pseudogene_promoter\n",
      "chrII:14563893-14564084\t    promoter_locus_id_rev\t                C01G12.12\t                C01G12.12\n",
      "chrX:14706659-14706809\t                annot_rev\t transcription_initiation\t transcription_initiation\n",
      "chrII:13596635-13596738\t                annot_fwd\t          coding_promoter\t          coding_promoter\n",
      "chrII:13596635-13596738\t    promoter_locus_id_fwd\t                    csc-1\t                    csc-1\n",
      "chrIII:1163615-1163765\t                annot_fwd\t         no_transcription\t         no_transcription\n",
      "chrIII:1163615-1163765\t                annot_rev\t         no_transcription\t         no_transcription\n",
      "chrI:2167906-2168056\t                annot_fwd\t         unknown_promoter\t         unknown_promoter\n",
      "chrI:2179963-2180113\t                annot_fwd\t         unknown_promoter\t         unknown_promoter\n",
      "chrI:2084937-2085087\t                annot_fwd\t           non-coding_RNA\t           non-coding_RNA\n",
      "chrI:2084937-2085087\t    promoter_locus_id_fwd\t                 Y37E3.20\t                 Y37E3.20\n",
      "chrI:2084303-2084453\t                annot_fwd\t          coding_promoter\t          coding_promoter\n",
      "chrI:2084303-2084453\t    promoter_locus_id_fwd\t                 Y37E3.11\t                 Y37E3.11\n",
      "chrI:5485932-5486082\t                annot_rev\t          coding_promoter\t          coding_promoter\n",
      "chrI:5485932-5486082\t    promoter_locus_id_rev\t                   rpl-19\t                   rpl-19\n",
      "chrI:5485932-5486082\t                annot_fwd\t         unknown_promoter\t         unknown_promoter\n"
     ]
    }
   ],
   "source": [
    "# Load new annotation & test known corner cases\n",
    "fp_regl = 'annot/S2_regulatory_annotation/S2_regulatory_annotation.tsv'\n",
    "df_regl = pd.read_csv(fp_regl, sep='\\t')\n",
    "print('%d regions loaded' % (len(df_regl),))\n",
    "\n",
    "def check_(igvstr, **kwargs):\n",
    "    (chrom, start, end) = yp.parse_igvstr(igvstr)\n",
    "    pos = int((start + end) / 2)\n",
    "    df_ = df_regl.query('(chrom == \"%s\") & (start <= %d) & (%d < end)' % (chrom, pos, pos))\n",
    "    assert len(df_) == 1\n",
    "    for (k, v) in kwargs.items():\n",
    "        print('\\t'.join([igvstr, '%25s' % (k,), '%25s' % (v,), '%25s' % (df_[k].tolist()[0],)]))\n",
    "        assert df_[k].tolist()[0] == v\n",
    "\n",
    "#> rfc-4 (black element - promoter inside masked??)\n",
    "#> zen-4 (black element - should be promoter?)sonRNA, I guess could mask promoter\n",
    "#Rare but compelling cases of bidirectional promoters where one direction was protein-coding, and the other was an annotated non-coding RNA. Addressed by relaxing the non-coding RNA annotation. They're now treated more similarly to protein-coding annotations, so a site can be annotated as protein_coding on one strand, and snoRNA on the other strand. (Previously, any site that overlapped a non-coding RNA was excluded from any other annotation...)\n",
    "#> attf-2 (black element maybe promoter?)\n",
    "#Now annotated as a promoter for F09G2.2 (protein-coding gene, forward strabd), and F09G2.14 (snoRNA, reverse strand). Could also be a promoter for attf-2, but can't think of much one could do about this give current fragmented long cap data.\n",
    "check_('chrIV:6117863-6118043',\n",
    "       annot_fwd='coding_promoter', promoter_locus_id_fwd='zen-4',\n",
    "       annot_rev='non-coding_RNA', promoter_locus_id_rev='M03D4.78')\n",
    "\n",
    "## \"Dual\" coding/non-coding annotations: coding_promoter >> non-coding_RNA\n",
    "check_('chrIII:6971981-6972101', \n",
    "       annot_fwd='coding_promoter', promoter_locus_id_fwd='rfc-4',\n",
    "       annot_rev='coding_promoter', promoter_locus_id_rev='eef-1A.1') # alternative: mir-5549\n",
    "check_('chrV:7196589-7196718',\n",
    "       annot_fwd='coding_promoter', promoter_locus_id_fwd='F09G2.2',\n",
    "       annot_rev='coding_promoter', promoter_locus_id_rev='attf-2') # alternative: F09G2.14\n",
    "\n",
    "check_('chrII:13596635-13596738', annot_rev='coding_promoter', promoter_locus_id_rev='fbxc-23')\n",
    "\n",
    "#> fbxc-15\n",
    "#Fixed by tweaking the long cap jump test.\n",
    "check_('chrII:979338-979455', annot_fwd='coding_promoter', promoter_locus_id_fwd='fbxc-15')\n",
    "\n",
    "#> sri-5 (promoter annotated to rsr-1 only)\n",
    "#> C25F9.6 (promoter annotate to C25F9.6 only) - looks like there is jump in txn?\n",
    "#> F08F3.8 (promoter annotated to acl-6 only) - looks like there is longcap signal\n",
    "#> rsd-2 (maybe one of the yellow elements promoter?) Looks like there is txn from furthest right yellow element\n",
    "#Weak outron signal; now captured by requiring 1 long cap tag in each replicate, and at least 3 tags total (previously at least 2 tags in both replicates).\n",
    "check_('chrI:11182502-11182624', annot_rev='coding_promoter', promoter_locus_id_rev='rsr-1')\n",
    "check_('chrV:19405507-19405707', \n",
    "       annot_fwd='coding_promoter', promoter_locus_id_fwd='C25F9.10',\n",
    "       annot_rev='coding_promoter', promoter_locus_id_rev='C25F9.6')\n",
    "check_('chrV:5433170-5433353', annot_fwd='coding_promoter', promoter_locus_id_fwd='acl-6')\n",
    "\n",
    "check_('chrIV:13541820-13541934', annot_rev='coding_promoter', promoter_locus_id_rev='rsd-2')\n",
    "\n",
    "# Sites downstream within a long exon that should not be called promoters\n",
    "check_('chrII:7150014-7150236', annot_fwd='no_transcription', annot_rev='transcription_initiation')\n",
    "check_('chrI:183422-183568', annot_fwd='transcription_initiation', associated_locus_id='atm-1')\n",
    "\n",
    "# \"Long distance\" ncRNA annotations (should not happen)\n",
    "check_('chrII:6891890-6892040', annot_fwd='coding_promoter', annot_rev='coding_promoter')\n",
    "\n",
    "# addressed via closest_exon_flank ~< 250 (ncRNA downstream of site; exon1 from upstream gets mis-assigned)\n",
    "check_('chrI:111191-111378', annot_fwd='non-coding_RNA', promoter_locus_id_fwd='F53G12.12')\n",
    "\n",
    "# Non-coding RNAs within outrons should not 'block' upstream promoter annotation\n",
    "check_('chrI:13324560-13324714', annot_fwd='coding_promoter', promoter_locus_id_fwd='gcy-35') # Reverse strand shows weak-gapped-but-compelling long cap?\n",
    "check_('chrI:13372998-13373215', annot_rev='coding_promoter', promoter_locus_id_rev='sptf-3')\n",
    "check_('chrIII:6971981-6972101', annot_fwd='coding_promoter', promoter_locus_id_fwd='rfc-4')\n",
    "check_('chrIII:6971981-6972101', annot_rev='coding_promoter', promoter_locus_id_rev='eef-1A.1')\n",
    "check_('chrI:13372998-13373215', annot_rev='coding_promoter', promoter_locus_id_rev='sptf-3')\n",
    "\n",
    "# Long cap jump -- weak regions\n",
    "check_('chrI:14316482-14316632', annot_fwd='pseudogene_promoter', promoter_locus_id_fwd='F49B2.4') # Also, reverse strand shows weak-gapped-but-compelling long cap (however no short cap!)?\n",
    "\n",
    "# Short cap 100..125bp from peak accessibility...\n",
    "#check_('chrI:6341909-6342059', annot_rev='unknown_promoter')\n",
    "check_('chrII:14468955-14469118', annot_fwd='unknown_promoter')\n",
    "# Short cap >125bp from peak accessibility...\n",
    "#check_('chrII:14468955-14469118', annot_rev='unknown_promoter')\n",
    "\n",
    "# Promoters initiating transcription within the UTR, downstream of the annotated TSS\n",
    "check_('chrI:6011491-6011614', annot_rev='coding_promoter', promoter_locus_id_rev='rnf-1')\n",
    "check_('chrI:7643236-7643386', annot_rev='coding_promoter', promoter_locus_id_rev='ncbp-2')\n",
    "check_('chrII:2320231-2320381', annot_fwd='coding_promoter', promoter_locus_id_fwd='ZK1240.3')\n",
    "check_('chrII:6775038-6775173', annot_rev='coding_promoter', promoter_locus_id_rev='agr-1')\n",
    "check_('chrII:2296175-2296310', annot_rev='coding_promoter', promoter_locus_id_rev='fbxc-25')\n",
    "\n",
    "# Various weak-ish/corner cases where a clear unique promoter candidate exists\n",
    "check_('chrI:5509301-5509451', annot_rev='coding_promoter', promoter_locus_id_rev='zipt-11') # upstream long cap overlaps upstream gene 3' end\n",
    "check_('chrII:2772185-2772335', annot_rev='coding_promoter', promoter_locus_id_rev='sdz-10')\n",
    "check_('chrV:5433187-5433337', annot_rev='coding_promoter', promoter_locus_id_rev='F08F3.8') # distal; site has no long cap (but has continuous txn)\n",
    "check_('chrII:1818315-1818462', annot_rev='coding_promoter', promoter_locus_id_rev='fbxb-10') # short cap mode within first exon\n",
    "check_('chrI:11182502-11182624', annot_fwd='coding_promoter', promoter_locus_id_fwd='sri-5') # no short cap\n",
    "check_('chrI:11182502-11182624', annot_rev='coding_promoter', promoter_locus_id_rev='rsr-1')\n",
    "check_('chrV:5433170-5433353', annot_rev='coding_promoter', promoter_locus_id_rev='F08F3.8') # no short cap\n",
    "check_('chrI:13376619-13376731', annot_fwd='coding_promoter', promoter_locus_id_fwd='C01A2.9') # should be detected in d13_fwd -- padj 0.32, missed\n",
    "check_('chrII:1818315-1818462', annot_rev='coding_promoter', promoter_locus_id_rev='fbxb-10') # short cap within 1st exon\n",
    "check_('chrII:1818315-1818462', annot_fwd='unknown_promoter') # weak unknown_promoter on fwd strand\n",
    "check_('chrII:14563893-14564084', annot_rev='pseudogene_promoter', promoter_locus_id_rev='C01G12.12') # pseudogene promoters without short cap!\n",
    "check_('chrX:14706659-14706809', annot_rev='transcription_initiation') # should not be an unknown_promoter, as is proximal to first exon\n",
    "check_('chrII:13596635-13596738', annot_fwd='coding_promoter', promoter_locus_id_fwd='csc-1') # \"distal\"; no scap\n",
    "check_('chrIII:1163615-1163765', annot_fwd='no_transcription', annot_rev='no_transcription') # Should not be a promoter of Y119D3B.13\n",
    "\n",
    "# afd-1 locus -- two sites with long cap gaps, should not be called promoters (but not necessarily unknown_promoter either)\n",
    "check_('chrI:2167906-2168056', annot_fwd='unknown_promoter')\n",
    "check_('chrI:2179963-2180113', annot_fwd='unknown_promoter')\n",
    "\n",
    "# Y37E3.11 locus -- too far from the annotated TSS to be associated with that UTR\n",
    "check_('chrI:2084937-2085087', annot_fwd='non-coding_RNA', promoter_locus_id_fwd='Y37E3.20')\n",
    "\n",
    "# Weak promoter with several non-first alternative isoforms overlapping the first exon\n",
    "check_('chrI:2084303-2084453', annot_fwd='coding_promoter', promoter_locus_id_fwd='Y37E3.11')\n",
    "\n",
    "check_('chrI:5485932-5486082', annot_rev='coding_promoter', promoter_locus_id_rev='rpl-19')\n",
    "check_('chrI:5485932-5486082', annot_fwd='unknown_promoter')"
   ]
  },
  {
   "cell_type": "code",
   "execution_count": null,
   "metadata": {
    "ExecuteTime": {
     "start_time": "2018-04-18T10:10:05.095Z"
    },
    "code_folding": [],
    "collapsed": true
   },
   "outputs": [],
   "source": [
    "# Differences to previous github version\n",
    "#fp_head_bed = 'annot/S2_regulatory_annotation/S2_regulatory_annotation.bed_HEAD.bed'\n",
    "#fp_head_tsv = 'annot/S2_regulatory_annotation/S2_regulatory_annotation.tsv_HEAD.tsv'\n",
    "#!git show HEAD:{fp_regl} > {fp_head_tsv}\n",
    "#!git show HEAD:annot/S2_regulatory_annotation/S2_regulatory_annotation.bed > {fp_head_bed}\n",
    "\n",
    "# Diff against a specific earlier version\n",
    "#fp_head_bed = 'annot/S2_regulatory_annotation/S2_regulatory_annotation.bed_1030.bed'\n",
    "#fp_head_tsv = 'annot/S2_regulatory_annotation/S2_regulatory_annotation.tsv_1030.tsv'\n",
    "#!git show 2040a6:annot/S2_regulatory_annotation/S2_regulatory_annotation.bed > {fp_head_bed}\n",
    "#!git show 2040a6:annot/S2_regulatory_annotation/S2_regulatory_annotation.tsv > {fp_head_tsv}\n",
    "\n",
    "fp_head_bed = 'annot/S2_regulatory_annotation/S2_regulatory_annotation_6Dec17.bed'\n",
    "fp_head_tsv = 'annot/S2_regulatory_annotation/S2_regulatory_annotation_6Dec17.tsv'\n",
    "\n",
    "df_head = pd.read_csv(fp_head_tsv, sep='\\t')\n",
    "m_diff_ = (df_head['annot_fwd'] != df_regl['annot_fwd']) | (df_head['annot_rev'] != df_regl['annot_rev'])# \\\n",
    "#| ((df_head['promoter_gene_id_fwd'] != df_regl['promoter_gene_id_fwd'])) \\\n",
    "#| ((df_head['promoter_gene_id_rev'] != df_regl['promoter_gene_id_rev'])) \\\n",
    "#| ((df_head['associated_gene_id'] != df_regl['associated_gene_id']))\n",
    "print('%d regions annotated differently compared to last commit' % (sum(m_diff_)))"
   ]
  },
  {
   "cell_type": "code",
   "execution_count": null,
   "metadata": {
    "ExecuteTime": {
     "start_time": "2018-04-18T10:10:05.098Z"
    },
    "code_folding": [
     0
    ],
    "collapsed": true,
    "scrolled": true
   },
   "outputs": [],
   "source": [
    "# Randomly sample altered regions\n",
    "df_diff = df_regl[['chrom', 'start', 'end']].copy()\n",
    "df_diff['label_head'] = df_head['label']\n",
    "df_diff['label_regl'] = df_regl['label']\n",
    "df_diff['annot_rev_head'] = df_head['annot_rev']\n",
    "df_diff['annot_rev_regl'] = df_regl['annot_rev']\n",
    "df_diff['annot_fwd_head'] = df_head['annot_fwd']\n",
    "df_diff['annot_fwd_regl'] = df_regl['annot_fwd']\n",
    "yp.df_sample(df_diff.loc[m_diff_], 50)"
   ]
  },
  {
   "cell_type": "code",
   "execution_count": null,
   "metadata": {
    "ExecuteTime": {
     "start_time": "2018-04-18T10:10:05.100Z"
    },
    "code_folding": [
     0
    ],
    "collapsed": true
   },
   "outputs": [],
   "source": [
    "# Write a .bed-file of all the regions that changed\n",
    "fp_diff = 'annot/S2_regulatory_annotation/S2_regulatory_annotation_diff.bed'\n",
    "df_diff[m_diff_][['chrom', 'start', 'end']].to_csv(fp_diff, index=False, header=False, sep='\\t')\n",
    "!wc -l {fp_diff}"
   ]
  },
  {
   "cell_type": "markdown",
   "metadata": {},
   "source": [
    "Possible additional improvements..."
   ]
  },
  {
   "cell_type": "code",
   "execution_count": null,
   "metadata": {
    "ExecuteTime": {
     "start_time": "2018-04-18T10:10:05.102Z"
    },
    "code_folding": [
     0
    ],
    "collapsed": true
   },
   "outputs": [],
   "source": [
    "# exon2 overlap rule is too conservative & masks even when txn clearly does not originate from exon\n",
    "# => test for jump/incr at exon boundary & discard from annotation only if it tests positive\n",
    "#check_annot_summary('chrIV:13588263-13588441', 'Y45F10B.12') trans-spliced promoter in L4?"
   ]
  },
  {
   "cell_type": "code",
   "execution_count": null,
   "metadata": {
    "ExecuteTime": {
     "start_time": "2018-04-18T10:10:05.103Z"
    },
    "code_folding": [
     0
    ],
    "collapsed": true
   },
   "outputs": [],
   "source": [
    "# extra long outrons???\n",
    "# snt-2 has a distal promoter spanning 40kb and multiple genes (chrIII:787,433-829,218)\n",
    "# => cut-off at e.g. 10kb?\n",
    "#check_annot_summary('chrIII:828052-828187', '??')\n",
    "#chrIII:4369629-4369711"
   ]
  },
  {
   "cell_type": "code",
   "execution_count": null,
   "metadata": {
    "ExecuteTime": {
     "start_time": "2018-04-18T10:10:05.105Z"
    },
    "code_folding": [],
    "collapsed": true
   },
   "outputs": [],
   "source": [
    "\n",
    "#check_annot_summary('chrII:11371902-11372117', '(C33B4.2)') # short cap 100bp downstream of annotated coding region\n",
    "#check_annot_summary('chrI:5485952-5486062', 'rpl-19') # promoter assigned to un-translated tiny exon; scap not align\n",
    "#check_annot_summary('chrII:11347905-11348076', 'B0491.6 / B0491.1') # long UTR; short cap precedes TSS\n",
    "#check_annot_sumary('chrII:1818315-1818462', 'fbxb-10') # true promoter; scap ~60bp chrII:1821387-1821512\n",
    "#check_annot_summary('chrIII:5876290-5876433', 'aldo-2')"
   ]
  },
  {
   "cell_type": "code",
   "execution_count": null,
   "metadata": {
    "ExecuteTime": {
     "start_time": "2018-04-18T10:10:05.107Z"
    },
    "code_folding": [
     0
    ],
    "collapsed": true
   },
   "outputs": [],
   "source": [
    "#> lir-2 (green element may be promoter?) Looks like a promoter, I think\n",
    "#check_annot_summary('chrII:7667887-7668072', 'lir-2') # Tricky region, as short cap does not align with 5'"
   ]
  },
  {
   "cell_type": "code",
   "execution_count": 2,
   "metadata": {
    "ExecuteTime": {
     "end_time": "2018-04-23T10:51:57.249967Z",
     "start_time": "2018-04-23T10:51:53.847633Z"
    }
   },
   "outputs": [
    {
     "name": "stderr",
     "output_type": "stream",
     "text": [
      "/mnt/home1/ahringer/jj374/relmapping/scripts/yarp/yarp.py:400: FutureWarning: convert_objects is deprecated.  Use the data-type specific converters pd.to_datetime, pd.to_timedelta and pd.to_numeric.\n",
      "  df_name = df_name.convert_objects(convert_numeric=True)\n"
     ]
    }
   ],
   "source": [
    "fp_reglA = 'annot/S2_regulatory_annotation/S2_regulatory_annotation_6Dec17.bed'\n",
    "fp_reglB = 'annot/S2_regulatory_annotation/S2_regulatory_annotation_20Apr18.bed'\n",
    "df_reglA = read_gffbed(fp_reglA)\n",
    "df_reglB = read_gffbed(fp_reglB)"
   ]
  },
  {
   "cell_type": "code",
   "execution_count": 4,
   "metadata": {
    "ExecuteTime": {
     "end_time": "2018-04-23T10:53:11.584877Z",
     "start_time": "2018-04-23T10:53:11.210636Z"
    },
    "scrolled": false
   },
   "outputs": [
    {
     "name": "stdout",
     "output_type": "stream",
     "text": [
      "1962 annot/S2_regulatory_annotation/S2_regulatory_annotation_6Dec17_to_20Apr18_lost_promoters_fwd.bed\n",
      "1895 annot/S2_regulatory_annotation/S2_regulatory_annotation_6Dec17_to_20Apr18_lost_promoters_rev.bed\n"
     ]
    }
   ],
   "source": [
    "fp_ = 'annot/S2_regulatory_annotation/S2_regulatory_annotation_6Dec17_to_20Apr18_lost_promoters_fwd.bed'\n",
    "df_reglA[(df_reglA['annot_fwd'] == 'coding_promoter') & (df_reglB['annot_fwd'] != 'coding_promoter')]\\\n",
    "    [['chrom', 'start', 'end']].to_csv(fp_, index=False, header=False, sep='\\t')\n",
    "!wc -l {fp_}\n",
    "\n",
    "fp_ = 'annot/S2_regulatory_annotation/S2_regulatory_annotation_6Dec17_to_20Apr18_lost_promoters_rev.bed'\n",
    "df_reglA[(df_reglA['annot_rev'] == 'coding_promoter') & (df_reglB['annot_rev'] != 'coding_promoter')]\\\n",
    "    [['chrom', 'start', 'end']].to_csv(fp_, index=False, header=False, sep='\\t')\n",
    "!wc -l {fp_}"
   ]
  },
  {
   "cell_type": "code",
   "execution_count": 9,
   "metadata": {
    "ExecuteTime": {
     "end_time": "2018-04-23T11:28:00.408389Z",
     "start_time": "2018-04-23T11:27:55.256987Z"
    }
   },
   "outputs": [
    {
     "name": "stderr",
     "output_type": "stream",
     "text": [
      "/mnt/home1/ahringer/jj374/relmapping/scripts/yarp/yarp.py:400: FutureWarning: convert_objects is deprecated.  Use the data-type specific converters pd.to_datetime, pd.to_timedelta and pd.to_numeric.\n",
      "  df_name = df_name.convert_objects(convert_numeric=True)\n"
     ]
    }
   ],
   "source": [
    "fp_reglB_lowconf_fwd = 'annot/S2_regulatory_annotation/metrics/regulatory_annotation_lowconf_fwd.bed'\n",
    "df_reglB_lowconf_fwd = read_gffbed(fp_reglB_lowconf_fwd)\n",
    "fp_reglB_lowconf_rev = 'annot/S2_regulatory_annotation/metrics/regulatory_annotation_lowconf_rev.bed'\n",
    "df_reglB_lowconf_rev = read_gffbed(fp_reglB_lowconf_rev)"
   ]
  },
  {
   "cell_type": "code",
   "execution_count": 30,
   "metadata": {
    "ExecuteTime": {
     "end_time": "2018-04-23T12:13:39.358876Z",
     "start_time": "2018-04-23T12:13:38.796722Z"
    }
   },
   "outputs": [
    {
     "data": {
      "text/plain": [
       "<matplotlib_venn._common.VennDiagram at 0x7fa01ab130f0>"
      ]
     },
     "execution_count": 30,
     "metadata": {},
     "output_type": "execute_result"
    },
    {
     "data": {
      "image/png": "[encoded data removed]",
      "text/plain": [
       "<matplotlib.figure.Figure at 0x7fa01af802e8>"
      ]
     },
     "metadata": {
      "image/png": {
       "height": 249,
       "width": 420
      }
     },
     "output_type": "display_data"
    }
   ],
   "source": [
    "df_a_ = df_reglA.query('(annot_fwd == \"coding_promoter\") | (annot_fwd == \"pseudogene_promoter\")')[['chrom', 'start', 'end']]\n",
    "df_b_ = df_reglB_lowconf_fwd.query('annot_lowconf == \"True\"')[['chrom', 'start', 'end']]\n",
    "\n",
    "gv_f = yp.GenomicVenn2(\n",
    "    BedTool.from_dataframe(df_a_),\n",
    "    BedTool.from_dataframe(df_b_),\n",
    "    label_a='Dec fwd promoters',\n",
    "    label_b='Apr fwd low-confidence promoters',\n",
    ")\n",
    "gv_f.plot()"
   ]
  },
  {
   "cell_type": "code",
   "execution_count": 32,
   "metadata": {
    "ExecuteTime": {
     "end_time": "2018-04-23T12:13:59.609157Z",
     "start_time": "2018-04-23T12:13:59.529776Z"
    }
   },
   "outputs": [
    {
     "data": {
      "text/html": [
       "<div>\n",
       "<style>\n",
       "    .dataframe thead tr:only-child th {\n",
       "        text-align: right;\n",
       "    }\n",
       "\n",
       "    .dataframe thead th {\n",
       "        text-align: left;\n",
       "    }\n",
       "\n",
       "    .dataframe tbody tr th {\n",
       "        vertical-align: top;\n",
       "    }\n",
       "</style>\n",
       "<table border=\"1\" class=\"dataframe\">\n",
       "  <thead>\n",
       "    <tr style=\"text-align: right;\">\n",
       "      <th></th>\n",
       "      <th>chrom</th>\n",
       "      <th>start</th>\n",
       "      <th>end</th>\n",
       "    </tr>\n",
       "  </thead>\n",
       "  <tbody>\n",
       "    <tr>\n",
       "      <th>0</th>\n",
       "      <td>chrI</td>\n",
       "      <td>91353</td>\n",
       "      <td>91504</td>\n",
       "    </tr>\n",
       "    <tr>\n",
       "      <th>1</th>\n",
       "      <td>chrI</td>\n",
       "      <td>134218</td>\n",
       "      <td>134369</td>\n",
       "    </tr>\n",
       "    <tr>\n",
       "      <th>2</th>\n",
       "      <td>chrI</td>\n",
       "      <td>1041021</td>\n",
       "      <td>1041172</td>\n",
       "    </tr>\n",
       "    <tr>\n",
       "      <th>3</th>\n",
       "      <td>chrI</td>\n",
       "      <td>1199481</td>\n",
       "      <td>1199632</td>\n",
       "    </tr>\n",
       "    <tr>\n",
       "      <th>4</th>\n",
       "      <td>chrI</td>\n",
       "      <td>1834889</td>\n",
       "      <td>1835040</td>\n",
       "    </tr>\n",
       "    <tr>\n",
       "      <th>5</th>\n",
       "      <td>chrI</td>\n",
       "      <td>1943238</td>\n",
       "      <td>1943389</td>\n",
       "    </tr>\n",
       "    <tr>\n",
       "      <th>6</th>\n",
       "      <td>chrI</td>\n",
       "      <td>2401583</td>\n",
       "      <td>2401734</td>\n",
       "    </tr>\n",
       "    <tr>\n",
       "      <th>7</th>\n",
       "      <td>chrI</td>\n",
       "      <td>2632611</td>\n",
       "      <td>2632762</td>\n",
       "    </tr>\n",
       "    <tr>\n",
       "      <th>8</th>\n",
       "      <td>chrI</td>\n",
       "      <td>2636415</td>\n",
       "      <td>2636566</td>\n",
       "    </tr>\n",
       "    <tr>\n",
       "      <th>9</th>\n",
       "      <td>chrI</td>\n",
       "      <td>2773894</td>\n",
       "      <td>2774045</td>\n",
       "    </tr>\n",
       "    <tr>\n",
       "      <th>10</th>\n",
       "      <td>chrI</td>\n",
       "      <td>3011799</td>\n",
       "      <td>3011950</td>\n",
       "    </tr>\n",
       "    <tr>\n",
       "      <th>11</th>\n",
       "      <td>chrI</td>\n",
       "      <td>3425959</td>\n",
       "      <td>3426110</td>\n",
       "    </tr>\n",
       "    <tr>\n",
       "      <th>12</th>\n",
       "      <td>chrI</td>\n",
       "      <td>3744292</td>\n",
       "      <td>3744443</td>\n",
       "    </tr>\n",
       "    <tr>\n",
       "      <th>13</th>\n",
       "      <td>chrI</td>\n",
       "      <td>3785307</td>\n",
       "      <td>3785458</td>\n",
       "    </tr>\n",
       "    <tr>\n",
       "      <th>14</th>\n",
       "      <td>chrI</td>\n",
       "      <td>4254747</td>\n",
       "      <td>4254898</td>\n",
       "    </tr>\n",
       "    <tr>\n",
       "      <th>15</th>\n",
       "      <td>chrI</td>\n",
       "      <td>4303927</td>\n",
       "      <td>4304078</td>\n",
       "    </tr>\n",
       "    <tr>\n",
       "      <th>16</th>\n",
       "      <td>chrI</td>\n",
       "      <td>4818485</td>\n",
       "      <td>4818636</td>\n",
       "    </tr>\n",
       "    <tr>\n",
       "      <th>17</th>\n",
       "      <td>chrI</td>\n",
       "      <td>4848726</td>\n",
       "      <td>4848877</td>\n",
       "    </tr>\n",
       "    <tr>\n",
       "      <th>18</th>\n",
       "      <td>chrI</td>\n",
       "      <td>5055432</td>\n",
       "      <td>5055583</td>\n",
       "    </tr>\n",
       "    <tr>\n",
       "      <th>19</th>\n",
       "      <td>chrI</td>\n",
       "      <td>5176348</td>\n",
       "      <td>5176499</td>\n",
       "    </tr>\n",
       "    <tr>\n",
       "      <th>20</th>\n",
       "      <td>chrI</td>\n",
       "      <td>5189135</td>\n",
       "      <td>5189286</td>\n",
       "    </tr>\n",
       "    <tr>\n",
       "      <th>21</th>\n",
       "      <td>chrI</td>\n",
       "      <td>5397994</td>\n",
       "      <td>5398145</td>\n",
       "    </tr>\n",
       "    <tr>\n",
       "      <th>22</th>\n",
       "      <td>chrI</td>\n",
       "      <td>6034614</td>\n",
       "      <td>6034765</td>\n",
       "    </tr>\n",
       "    <tr>\n",
       "      <th>23</th>\n",
       "      <td>chrI</td>\n",
       "      <td>6103146</td>\n",
       "      <td>6103297</td>\n",
       "    </tr>\n",
       "    <tr>\n",
       "      <th>24</th>\n",
       "      <td>chrI</td>\n",
       "      <td>6224278</td>\n",
       "      <td>6224429</td>\n",
       "    </tr>\n",
       "    <tr>\n",
       "      <th>25</th>\n",
       "      <td>chrI</td>\n",
       "      <td>6506706</td>\n",
       "      <td>6506857</td>\n",
       "    </tr>\n",
       "    <tr>\n",
       "      <th>26</th>\n",
       "      <td>chrI</td>\n",
       "      <td>6569457</td>\n",
       "      <td>6569608</td>\n",
       "    </tr>\n",
       "    <tr>\n",
       "      <th>27</th>\n",
       "      <td>chrI</td>\n",
       "      <td>6649890</td>\n",
       "      <td>6650041</td>\n",
       "    </tr>\n",
       "    <tr>\n",
       "      <th>28</th>\n",
       "      <td>chrI</td>\n",
       "      <td>6888782</td>\n",
       "      <td>6888933</td>\n",
       "    </tr>\n",
       "    <tr>\n",
       "      <th>29</th>\n",
       "      <td>chrI</td>\n",
       "      <td>6930595</td>\n",
       "      <td>6930746</td>\n",
       "    </tr>\n",
       "    <tr>\n",
       "      <th>...</th>\n",
       "      <td>...</td>\n",
       "      <td>...</td>\n",
       "      <td>...</td>\n",
       "    </tr>\n",
       "    <tr>\n",
       "      <th>568</th>\n",
       "      <td>chrX</td>\n",
       "      <td>13754556</td>\n",
       "      <td>13754707</td>\n",
       "    </tr>\n",
       "    <tr>\n",
       "      <th>569</th>\n",
       "      <td>chrX</td>\n",
       "      <td>13989370</td>\n",
       "      <td>13989521</td>\n",
       "    </tr>\n",
       "    <tr>\n",
       "      <th>570</th>\n",
       "      <td>chrX</td>\n",
       "      <td>14115520</td>\n",
       "      <td>14115671</td>\n",
       "    </tr>\n",
       "    <tr>\n",
       "      <th>571</th>\n",
       "      <td>chrX</td>\n",
       "      <td>14147330</td>\n",
       "      <td>14147481</td>\n",
       "    </tr>\n",
       "    <tr>\n",
       "      <th>572</th>\n",
       "      <td>chrX</td>\n",
       "      <td>14396342</td>\n",
       "      <td>14396493</td>\n",
       "    </tr>\n",
       "    <tr>\n",
       "      <th>573</th>\n",
       "      <td>chrX</td>\n",
       "      <td>14476715</td>\n",
       "      <td>14476866</td>\n",
       "    </tr>\n",
       "    <tr>\n",
       "      <th>574</th>\n",
       "      <td>chrX</td>\n",
       "      <td>14829484</td>\n",
       "      <td>14829635</td>\n",
       "    </tr>\n",
       "    <tr>\n",
       "      <th>575</th>\n",
       "      <td>chrX</td>\n",
       "      <td>14849127</td>\n",
       "      <td>14849278</td>\n",
       "    </tr>\n",
       "    <tr>\n",
       "      <th>576</th>\n",
       "      <td>chrX</td>\n",
       "      <td>14887422</td>\n",
       "      <td>14887573</td>\n",
       "    </tr>\n",
       "    <tr>\n",
       "      <th>577</th>\n",
       "      <td>chrX</td>\n",
       "      <td>14915586</td>\n",
       "      <td>14915737</td>\n",
       "    </tr>\n",
       "    <tr>\n",
       "      <th>578</th>\n",
       "      <td>chrX</td>\n",
       "      <td>14978731</td>\n",
       "      <td>14978882</td>\n",
       "    </tr>\n",
       "    <tr>\n",
       "      <th>579</th>\n",
       "      <td>chrX</td>\n",
       "      <td>15013992</td>\n",
       "      <td>15014143</td>\n",
       "    </tr>\n",
       "    <tr>\n",
       "      <th>580</th>\n",
       "      <td>chrX</td>\n",
       "      <td>15464792</td>\n",
       "      <td>15464943</td>\n",
       "    </tr>\n",
       "    <tr>\n",
       "      <th>581</th>\n",
       "      <td>chrX</td>\n",
       "      <td>15811750</td>\n",
       "      <td>15811901</td>\n",
       "    </tr>\n",
       "    <tr>\n",
       "      <th>582</th>\n",
       "      <td>chrX</td>\n",
       "      <td>16225708</td>\n",
       "      <td>16225859</td>\n",
       "    </tr>\n",
       "    <tr>\n",
       "      <th>583</th>\n",
       "      <td>chrX</td>\n",
       "      <td>16283643</td>\n",
       "      <td>16283794</td>\n",
       "    </tr>\n",
       "    <tr>\n",
       "      <th>584</th>\n",
       "      <td>chrX</td>\n",
       "      <td>16447083</td>\n",
       "      <td>16447234</td>\n",
       "    </tr>\n",
       "    <tr>\n",
       "      <th>585</th>\n",
       "      <td>chrX</td>\n",
       "      <td>16469363</td>\n",
       "      <td>16469514</td>\n",
       "    </tr>\n",
       "    <tr>\n",
       "      <th>586</th>\n",
       "      <td>chrX</td>\n",
       "      <td>16482444</td>\n",
       "      <td>16482595</td>\n",
       "    </tr>\n",
       "    <tr>\n",
       "      <th>587</th>\n",
       "      <td>chrX</td>\n",
       "      <td>16495112</td>\n",
       "      <td>16495263</td>\n",
       "    </tr>\n",
       "    <tr>\n",
       "      <th>588</th>\n",
       "      <td>chrX</td>\n",
       "      <td>16581468</td>\n",
       "      <td>16581619</td>\n",
       "    </tr>\n",
       "    <tr>\n",
       "      <th>589</th>\n",
       "      <td>chrX</td>\n",
       "      <td>16619793</td>\n",
       "      <td>16619944</td>\n",
       "    </tr>\n",
       "    <tr>\n",
       "      <th>590</th>\n",
       "      <td>chrX</td>\n",
       "      <td>16677690</td>\n",
       "      <td>16677841</td>\n",
       "    </tr>\n",
       "    <tr>\n",
       "      <th>591</th>\n",
       "      <td>chrX</td>\n",
       "      <td>16871401</td>\n",
       "      <td>16871552</td>\n",
       "    </tr>\n",
       "    <tr>\n",
       "      <th>592</th>\n",
       "      <td>chrX</td>\n",
       "      <td>17177212</td>\n",
       "      <td>17177363</td>\n",
       "    </tr>\n",
       "    <tr>\n",
       "      <th>593</th>\n",
       "      <td>chrX</td>\n",
       "      <td>17247669</td>\n",
       "      <td>17247820</td>\n",
       "    </tr>\n",
       "    <tr>\n",
       "      <th>594</th>\n",
       "      <td>chrX</td>\n",
       "      <td>17336407</td>\n",
       "      <td>17336558</td>\n",
       "    </tr>\n",
       "    <tr>\n",
       "      <th>595</th>\n",
       "      <td>chrX</td>\n",
       "      <td>17399811</td>\n",
       "      <td>17399962</td>\n",
       "    </tr>\n",
       "    <tr>\n",
       "      <th>596</th>\n",
       "      <td>chrX</td>\n",
       "      <td>17677450</td>\n",
       "      <td>17677601</td>\n",
       "    </tr>\n",
       "    <tr>\n",
       "      <th>597</th>\n",
       "      <td>chrX</td>\n",
       "      <td>17714878</td>\n",
       "      <td>17715029</td>\n",
       "    </tr>\n",
       "  </tbody>\n",
       "</table>\n",
       "<p>598 rows × 3 columns</p>\n",
       "</div>"
      ],
      "text/plain": [
       "    chrom     start       end\n",
       "0    chrI     91353     91504\n",
       "1    chrI    134218    134369\n",
       "2    chrI   1041021   1041172\n",
       "3    chrI   1199481   1199632\n",
       "4    chrI   1834889   1835040\n",
       "5    chrI   1943238   1943389\n",
       "6    chrI   2401583   2401734\n",
       "7    chrI   2632611   2632762\n",
       "8    chrI   2636415   2636566\n",
       "9    chrI   2773894   2774045\n",
       "10   chrI   3011799   3011950\n",
       "11   chrI   3425959   3426110\n",
       "12   chrI   3744292   3744443\n",
       "13   chrI   3785307   3785458\n",
       "14   chrI   4254747   4254898\n",
       "15   chrI   4303927   4304078\n",
       "16   chrI   4818485   4818636\n",
       "17   chrI   4848726   4848877\n",
       "18   chrI   5055432   5055583\n",
       "19   chrI   5176348   5176499\n",
       "20   chrI   5189135   5189286\n",
       "21   chrI   5397994   5398145\n",
       "22   chrI   6034614   6034765\n",
       "23   chrI   6103146   6103297\n",
       "24   chrI   6224278   6224429\n",
       "25   chrI   6506706   6506857\n",
       "26   chrI   6569457   6569608\n",
       "27   chrI   6649890   6650041\n",
       "28   chrI   6888782   6888933\n",
       "29   chrI   6930595   6930746\n",
       "..    ...       ...       ...\n",
       "568  chrX  13754556  13754707\n",
       "569  chrX  13989370  13989521\n",
       "570  chrX  14115520  14115671\n",
       "571  chrX  14147330  14147481\n",
       "572  chrX  14396342  14396493\n",
       "573  chrX  14476715  14476866\n",
       "574  chrX  14829484  14829635\n",
       "575  chrX  14849127  14849278\n",
       "576  chrX  14887422  14887573\n",
       "577  chrX  14915586  14915737\n",
       "578  chrX  14978731  14978882\n",
       "579  chrX  15013992  15014143\n",
       "580  chrX  15464792  15464943\n",
       "581  chrX  15811750  15811901\n",
       "582  chrX  16225708  16225859\n",
       "583  chrX  16283643  16283794\n",
       "584  chrX  16447083  16447234\n",
       "585  chrX  16469363  16469514\n",
       "586  chrX  16482444  16482595\n",
       "587  chrX  16495112  16495263\n",
       "588  chrX  16581468  16581619\n",
       "589  chrX  16619793  16619944\n",
       "590  chrX  16677690  16677841\n",
       "591  chrX  16871401  16871552\n",
       "592  chrX  17177212  17177363\n",
       "593  chrX  17247669  17247820\n",
       "594  chrX  17336407  17336558\n",
       "595  chrX  17399811  17399962\n",
       "596  chrX  17677450  17677601\n",
       "597  chrX  17714878  17715029\n",
       "\n",
       "[598 rows x 3 columns]"
      ]
     },
     "execution_count": 32,
     "metadata": {},
     "output_type": "execute_result"
    }
   ],
   "source": [
    "gv_f.df_b_only"
   ]
  },
  {
   "cell_type": "code",
   "execution_count": 31,
   "metadata": {
    "ExecuteTime": {
     "end_time": "2018-04-23T12:13:51.027540Z",
     "start_time": "2018-04-23T12:13:50.432567Z"
    }
   },
   "outputs": [
    {
     "data": {
      "text/plain": [
       "<matplotlib_venn._common.VennDiagram at 0x7fa01aaf3e80>"
      ]
     },
     "execution_count": 31,
     "metadata": {},
     "output_type": "execute_result"
    },
    {
     "data": {
      "image/png": "[encoded data removed]",
      "text/plain": [
       "<matplotlib.figure.Figure at 0x7fa01ae18b00>"
      ]
     },
     "metadata": {
      "image/png": {
       "height": 249,
       "width": 416
      }
     },
     "output_type": "display_data"
    }
   ],
   "source": [
    "df_a_ = df_reglA.query('(annot_rev == \"coding_promoter\") | (annot_rev == \"pseudogene_promoter\")')[['chrom', 'start', 'end']]\n",
    "df_b_ = df_reglB_lowconf_rev.query('annot_lowconf == \"True\"')[['chrom', 'start', 'end']]\n",
    "\n",
    "gv_r = yp.GenomicVenn2(\n",
    "    BedTool.from_dataframe(df_a_),\n",
    "    BedTool.from_dataframe(df_b_),\n",
    "    label_a='Dec rev promoters',\n",
    "    label_b='Apr rev low-confidence promoters',\n",
    ")\n",
    "gv_r.plot()"
   ]
  },
  {
   "cell_type": "code",
   "execution_count": 74,
   "metadata": {
    "ExecuteTime": {
     "end_time": "2018-04-23T20:34:41.872558Z",
     "start_time": "2018-04-23T20:34:37.173230Z"
    }
   },
   "outputs": [
    {
     "name": "stderr",
     "output_type": "stream",
     "text": [
      "/mnt/home1/ahringer/jj374/relmapping/scripts/yarp/yarp.py:400: FutureWarning: convert_objects is deprecated.  Use the data-type specific converters pd.to_datetime, pd.to_timedelta and pd.to_numeric.\n",
      "  df_name = df_name.convert_objects(convert_numeric=True)\n"
     ]
    }
   ],
   "source": [
    "fp_reglA = 'annot/S2_regulatory_annotation/S2_regulatory_annotation_6Dec17.bed'\n",
    "fp_reglB = 'annot/S2_regulatory_annotation/S2_regulatory_annotation_20Apr18.bed'\n",
    "fp_reglC = 'annot/S2_regulatory_annotation/S2_regulatory_annotation_22Apr18.bed'\n",
    "fp_reglD = 'annot/S2_regulatory_annotation/S2_regulatory_annotation_23Apr18.bed'\n",
    "fp_reglE = 'annot/S2_regulatory_annotation/S2_regulatory_annotation_23A_Apr18.bed'\n",
    "df_reglA = read_gffbed(fp_reglA)\n",
    "df_reglB = read_gffbed(fp_reglB)\n",
    "df_reglC = read_gffbed(fp_reglC)\n",
    "df_reglD = read_gffbed(fp_reglD)\n",
    "df_reglE = read_gffbed(fp_reglE)"
   ]
  },
  {
   "cell_type": "code",
   "execution_count": 77,
   "metadata": {
    "ExecuteTime": {
     "end_time": "2018-04-23T20:37:42.513359Z",
     "start_time": "2018-04-23T20:37:39.250716Z"
    }
   },
   "outputs": [
    {
     "name": "stdout",
     "output_type": "stream",
     "text": [
      "6Dec 15918 12061 12419 13080 12980 13817\n",
      "20Apr18 12061 14340 14340 14340 14130 12729\n",
      "22Apr18 12419 14340 15015 14939 14704 13302\n",
      "23Apr18 13080 14340 14939 16096 15837 14088\n",
      "23A_Apr18 12980 14130 14704 15837 15871 13884\n"
     ]
    }
   ],
   "source": [
    "def overlap_(df_A, df_B):\n",
    "    return sum((df_A['annot_fwd'] == \"coding_promoter\") & (df_B['annot_fwd'] == \"coding_promoter\")) + \\\n",
    "           sum((df_A['annot_rev'] == \"coding_promoter\") & (df_B['annot_rev'] == \"coding_promoter\"))\n",
    "\n",
    "print('6Dec', overlap_(df_reglA, df_reglA), overlap_(df_reglA, df_reglB), overlap_(df_reglA, df_reglC), overlap_(df_reglA, df_reglD), overlap_(df_reglA, df_reglE), len(df_reglA.query('annot==\"coding_promoter\"')))\n",
    "print('20Apr18', overlap_(df_reglB, df_reglA), overlap_(df_reglB, df_reglB), overlap_(df_reglB, df_reglC), overlap_(df_reglB, df_reglD), overlap_(df_reglB, df_reglE), len(df_reglB.query('annot==\"coding_promoter\"')))\n",
    "print('22Apr18', overlap_(df_reglC, df_reglA), overlap_(df_reglC, df_reglB), overlap_(df_reglC, df_reglC), overlap_(df_reglC, df_reglD), overlap_(df_reglC, df_reglE), len(df_reglC.query('annot==\"coding_promoter\"')))\n",
    "print('23Apr18', overlap_(df_reglD, df_reglA), overlap_(df_reglD, df_reglB), overlap_(df_reglD, df_reglC), overlap_(df_reglD, df_reglD), overlap_(df_reglD, df_reglE), len(df_reglD.query('annot==\"coding_promoter\"')))\n",
    "print('23A_Apr18', overlap_(df_reglE, df_reglA), overlap_(df_reglE, df_reglB), overlap_(df_reglE, df_reglC), overlap_(df_reglE, df_reglD), overlap_(df_reglE, df_reglE), len(df_reglE.query('annot==\"coding_promoter\"')))"
   ]
  },
  {
   "cell_type": "code",
   "execution_count": 72,
   "metadata": {
    "ExecuteTime": {
     "end_time": "2018-04-23T20:18:14.481379Z",
     "start_time": "2018-04-23T20:18:14.399210Z"
    }
   },
   "outputs": [
    {
     "data": {
      "text/html": [
       "<div>\n",
       "<style>\n",
       "    .dataframe thead tr:only-child th {\n",
       "        text-align: right;\n",
       "    }\n",
       "\n",
       "    .dataframe thead th {\n",
       "        text-align: left;\n",
       "    }\n",
       "\n",
       "    .dataframe tbody tr th {\n",
       "        vertical-align: top;\n",
       "    }\n",
       "</style>\n",
       "<table border=\"1\" class=\"dataframe\">\n",
       "  <thead>\n",
       "    <tr style=\"text-align: right;\">\n",
       "      <th></th>\n",
       "      <th>chrom</th>\n",
       "      <th>start</th>\n",
       "      <th>end</th>\n",
       "    </tr>\n",
       "  </thead>\n",
       "  <tbody>\n",
       "    <tr>\n",
       "      <th>12302</th>\n",
       "      <td>chrII</td>\n",
       "      <td>13506205</td>\n",
       "      <td>13506356</td>\n",
       "    </tr>\n",
       "    <tr>\n",
       "      <th>20915</th>\n",
       "      <td>chrIV</td>\n",
       "      <td>5186635</td>\n",
       "      <td>5186786</td>\n",
       "    </tr>\n",
       "    <tr>\n",
       "      <th>3996</th>\n",
       "      <td>chrI</td>\n",
       "      <td>9424649</td>\n",
       "      <td>9424800</td>\n",
       "    </tr>\n",
       "    <tr>\n",
       "      <th>16357</th>\n",
       "      <td>chrIII</td>\n",
       "      <td>7726813</td>\n",
       "      <td>7726964</td>\n",
       "    </tr>\n",
       "    <tr>\n",
       "      <th>24072</th>\n",
       "      <td>chrIV</td>\n",
       "      <td>12641486</td>\n",
       "      <td>12641637</td>\n",
       "    </tr>\n",
       "    <tr>\n",
       "      <th>16355</th>\n",
       "      <td>chrIII</td>\n",
       "      <td>7725682</td>\n",
       "      <td>7725833</td>\n",
       "    </tr>\n",
       "    <tr>\n",
       "      <th>20985</th>\n",
       "      <td>chrIV</td>\n",
       "      <td>5494624</td>\n",
       "      <td>5494775</td>\n",
       "    </tr>\n",
       "    <tr>\n",
       "      <th>15862</th>\n",
       "      <td>chrIII</td>\n",
       "      <td>6504199</td>\n",
       "      <td>6504350</td>\n",
       "    </tr>\n",
       "    <tr>\n",
       "      <th>21849</th>\n",
       "      <td>chrIV</td>\n",
       "      <td>7677295</td>\n",
       "      <td>7677446</td>\n",
       "    </tr>\n",
       "    <tr>\n",
       "      <th>6622</th>\n",
       "      <td>chrII</td>\n",
       "      <td>722848</td>\n",
       "      <td>722999</td>\n",
       "    </tr>\n",
       "  </tbody>\n",
       "</table>\n",
       "</div>"
      ],
      "text/plain": [
       "        chrom     start       end\n",
       "12302   chrII  13506205  13506356\n",
       "20915   chrIV   5186635   5186786\n",
       "3996     chrI   9424649   9424800\n",
       "16357  chrIII   7726813   7726964\n",
       "24072   chrIV  12641486  12641637\n",
       "16355  chrIII   7725682   7725833\n",
       "20985   chrIV   5494624   5494775\n",
       "15862  chrIII   6504199   6504350\n",
       "21849   chrIV   7677295   7677446\n",
       "6622    chrII    722848    722999"
      ]
     },
     "execution_count": 72,
     "metadata": {},
     "output_type": "execute_result"
    }
   ],
   "source": [
    "df_reglD[(df_reglD['annot_fwd'] == 'coding_promoter') & \\\n",
    "         (df_reglE['annot_fwd'] != 'coding_promoter')][['chrom', 'start', 'end']].sample(10)"
   ]
  },
  {
   "cell_type": "code",
   "execution_count": 73,
   "metadata": {
    "ExecuteTime": {
     "end_time": "2018-04-23T20:18:17.587531Z",
     "start_time": "2018-04-23T20:18:17.502341Z"
    }
   },
   "outputs": [
    {
     "data": {
      "text/html": [
       "<div>\n",
       "<style>\n",
       "    .dataframe thead tr:only-child th {\n",
       "        text-align: right;\n",
       "    }\n",
       "\n",
       "    .dataframe thead th {\n",
       "        text-align: left;\n",
       "    }\n",
       "\n",
       "    .dataframe tbody tr th {\n",
       "        vertical-align: top;\n",
       "    }\n",
       "</style>\n",
       "<table border=\"1\" class=\"dataframe\">\n",
       "  <thead>\n",
       "    <tr style=\"text-align: right;\">\n",
       "      <th></th>\n",
       "      <th>chrom</th>\n",
       "      <th>start</th>\n",
       "      <th>end</th>\n",
       "    </tr>\n",
       "  </thead>\n",
       "  <tbody>\n",
       "    <tr>\n",
       "      <th>34479</th>\n",
       "      <td>chrX</td>\n",
       "      <td>2892760</td>\n",
       "      <td>2892911</td>\n",
       "    </tr>\n",
       "    <tr>\n",
       "      <th>17348</th>\n",
       "      <td>chrIII</td>\n",
       "      <td>9740739</td>\n",
       "      <td>9740890</td>\n",
       "    </tr>\n",
       "    <tr>\n",
       "      <th>18992</th>\n",
       "      <td>chrIV</td>\n",
       "      <td>122818</td>\n",
       "      <td>122969</td>\n",
       "    </tr>\n",
       "    <tr>\n",
       "      <th>21240</th>\n",
       "      <td>chrIV</td>\n",
       "      <td>6032531</td>\n",
       "      <td>6032682</td>\n",
       "    </tr>\n",
       "    <tr>\n",
       "      <th>5922</th>\n",
       "      <td>chrI</td>\n",
       "      <td>14048843</td>\n",
       "      <td>14048994</td>\n",
       "    </tr>\n",
       "    <tr>\n",
       "      <th>23412</th>\n",
       "      <td>chrIV</td>\n",
       "      <td>11215430</td>\n",
       "      <td>11215581</td>\n",
       "    </tr>\n",
       "    <tr>\n",
       "      <th>6233</th>\n",
       "      <td>chrI</td>\n",
       "      <td>14833834</td>\n",
       "      <td>14833985</td>\n",
       "    </tr>\n",
       "    <tr>\n",
       "      <th>38855</th>\n",
       "      <td>chrX</td>\n",
       "      <td>11103263</td>\n",
       "      <td>11103414</td>\n",
       "    </tr>\n",
       "    <tr>\n",
       "      <th>10864</th>\n",
       "      <td>chrII</td>\n",
       "      <td>10302116</td>\n",
       "      <td>10302267</td>\n",
       "    </tr>\n",
       "    <tr>\n",
       "      <th>36060</th>\n",
       "      <td>chrX</td>\n",
       "      <td>5727440</td>\n",
       "      <td>5727591</td>\n",
       "    </tr>\n",
       "  </tbody>\n",
       "</table>\n",
       "</div>"
      ],
      "text/plain": [
       "        chrom     start       end\n",
       "34479    chrX   2892760   2892911\n",
       "17348  chrIII   9740739   9740890\n",
       "18992   chrIV    122818    122969\n",
       "21240   chrIV   6032531   6032682\n",
       "5922     chrI  14048843  14048994\n",
       "23412   chrIV  11215430  11215581\n",
       "6233     chrI  14833834  14833985\n",
       "38855    chrX  11103263  11103414\n",
       "10864   chrII  10302116  10302267\n",
       "36060    chrX   5727440   5727591"
      ]
     },
     "execution_count": 73,
     "metadata": {},
     "output_type": "execute_result"
    }
   ],
   "source": [
    "df_reglD[(df_reglD['annot_rev'] == 'coding_promoter') & \\\n",
    "         (df_reglE['annot_rev'] != 'coding_promoter')][['chrom', 'start', 'end']].sample(10)"
   ]
  },
  {
   "cell_type": "code",
   "execution_count": 113,
   "metadata": {
    "ExecuteTime": {
     "end_time": "2018-04-24T19:34:15.138159Z",
     "start_time": "2018-04-24T19:34:08.862272Z"
    },
    "code_folding": [
     0,
     16
    ]
   },
   "outputs": [
    {
     "name": "stderr",
     "output_type": "stream",
     "text": [
      "/mnt/home1/ahringer/jj374/relmapping/scripts/yarp/yarp.py:400: FutureWarning: convert_objects is deprecated.  Use the data-type specific converters pd.to_datetime, pd.to_timedelta and pd.to_numeric.\n",
      "  df_name = df_name.convert_objects(convert_numeric=True)\n"
     ]
    },
    {
     "name": "stdout",
     "output_type": "stream",
     "text": [
      "2 annot/S2_regulatory_annotation/S2_regulatory_annotation_Apr24b_to_Apr24c_coding_promoter_lost_fwd.bed\n",
      "1 annot/S2_regulatory_annotation/S2_regulatory_annotation_Apr24b_to_Apr24c_coding_promoter_lost_rev.bed\n",
      "163 185\n",
      "163 annot/S2_regulatory_annotation/S2_regulatory_annotation_Apr24b_to_Apr24c_coding_promoter_gained_fwd.bed\n",
      "185 annot/S2_regulatory_annotation/S2_regulatory_annotation_Apr24b_to_Apr24c_coding_promoter_gained_rev.bed\n"
     ]
    }
   ],
   "source": [
    "def diff_coding_promoter_lost(verA, verB):\n",
    "    fp_reglA = 'annot/S2_regulatory_annotation/S2_regulatory_annotation_%s.bed' % (verA,)\n",
    "    fp_reglB = 'annot/S2_regulatory_annotation/S2_regulatory_annotation_%s.bed' % (verB,)\n",
    "    df_reglA = read_gffbed(fp_reglA)\n",
    "    df_reglB = read_gffbed(fp_reglB)\n",
    "    m_AtoB_fwd = (df_reglA['annot_fwd'] == 'coding_promoter') & (df_reglB['annot_fwd'] != 'coding_promoter')\n",
    "    m_AtoB_rev = (df_reglA['annot_rev'] == 'coding_promoter') & (df_reglB['annot_rev'] != 'coding_promoter')\n",
    "    #print(sum(m_AtoB_fwd), sum(m_AtoB_rev))\n",
    "\n",
    "    fp_fwd = 'annot/S2_regulatory_annotation/S2_regulatory_annotation_%s_to_%s_coding_promoter_lost_fwd.bed' % (verA, verB)\n",
    "    fp_rev = 'annot/S2_regulatory_annotation/S2_regulatory_annotation_%s_to_%s_coding_promoter_lost_rev.bed' % (verA, verB)\n",
    "    df_reglA[m_AtoB_fwd][['chrom', 'start', 'end']].to_csv(fp_fwd, index=False, header=False, sep='\\t')\n",
    "    df_reglB[m_AtoB_rev][['chrom', 'start', 'end']].to_csv(fp_rev, index=False, header=False, sep='\\t')\n",
    "    !wc -l {fp_fwd}\n",
    "    !wc -l {fp_rev}\n",
    "\n",
    "def diff_coding_promoter_gained(verA, verB):\n",
    "    fp_reglA = 'annot/S2_regulatory_annotation/S2_regulatory_annotation_%s.bed' % (verA,)\n",
    "    fp_reglB = 'annot/S2_regulatory_annotation/S2_regulatory_annotation_%s.bed' % (verB,)\n",
    "    df_reglA = read_gffbed(fp_reglA)\n",
    "    df_reglB = read_gffbed(fp_reglB)\n",
    "    m_AtoB_fwd = (df_reglA['annot_fwd'] != 'coding_promoter') & (df_reglB['annot_fwd'] == 'coding_promoter')\n",
    "    m_AtoB_rev = (df_reglA['annot_rev'] != 'coding_promoter') & (df_reglB['annot_rev'] == 'coding_promoter')\n",
    "    print(sum(m_AtoB_fwd), sum(m_AtoB_rev))\n",
    "\n",
    "    fp_fwd = 'annot/S2_regulatory_annotation/S2_regulatory_annotation_%s_to_%s_coding_promoter_gained_fwd.bed' % (verA, verB)\n",
    "    fp_rev = 'annot/S2_regulatory_annotation/S2_regulatory_annotation_%s_to_%s_coding_promoter_gained_rev.bed' % (verA, verB)\n",
    "    df_reglA[m_AtoB_fwd][['chrom', 'start', 'end']].to_csv(fp_fwd, index=False, header=False, sep='\\t')\n",
    "    df_reglB[m_AtoB_rev][['chrom', 'start', 'end']].to_csv(fp_rev, index=False, header=False, sep='\\t')\n",
    "    !wc -l {fp_fwd}\n",
    "    !wc -l {fp_rev}\n",
    "\n",
    "#diff_coding_promoter_lost('23Apr18', '23A_Apr18')\n",
    "#diff_coding_promoter_gained('23Apr18', '23A_Apr18')\n",
    "#diff_coding_promoter_lost('Apr24a', 'Apr24b')\n",
    "#diff_coding_promoter_gained('Apr24a', 'Apr24b')\n",
    "diff_coding_promoter_lost('Apr24b', 'Apr24c')\n",
    "diff_coding_promoter_gained('Apr24b', 'Apr24c')"
   ]
  },
  {
   "cell_type": "code",
   "execution_count": 50,
   "metadata": {
    "ExecuteTime": {
     "end_time": "2018-04-23T12:56:06.151866Z",
     "start_time": "2018-04-23T12:56:05.228692Z"
    }
   },
   "outputs": [
    {
     "name": "stdout",
     "output_type": "stream",
     "text": [
      "1793 annot/S2_regulatory_annotation/S2_regulatory_annotation_6Dec17_to_22Apr18_lost_promoters_fwd.bed\n",
      "1706 annot/S2_regulatory_annotation/S2_regulatory_annotation_6Dec17_to_22Apr18_lost_promoters_rev.bed\n",
      "1303 annot/S2_regulatory_annotation/S2_regulatory_annotation_6Dec17_to_22Apr18_gained_promoters_fwd.bed\n",
      "1293 annot/S2_regulatory_annotation/S2_regulatory_annotation_6Dec17_to_22Apr18_gained_promoters_rev.bed\n"
     ]
    }
   ],
   "source": [
    "fp_ = 'annot/S2_regulatory_annotation/S2_regulatory_annotation_6Dec17_to_22Apr18_lost_promoters_fwd.bed'\n",
    "df_reglA[(df_reglA['annot_fwd'] == 'coding_promoter') & (df_reglC['annot_fwd'] != 'coding_promoter')]\\\n",
    "    [['chrom', 'start', 'end']].to_csv(fp_, index=False, header=False, sep='\\t')\n",
    "!wc -l {fp_}\n",
    "\n",
    "fp_ = 'annot/S2_regulatory_annotation/S2_regulatory_annotation_6Dec17_to_22Apr18_lost_promoters_rev.bed'\n",
    "df_reglA[(df_reglA['annot_rev'] == 'coding_promoter') & (df_reglC['annot_rev'] != 'coding_promoter')]\\\n",
    "    [['chrom', 'start', 'end']].to_csv(fp_, index=False, header=False, sep='\\t')\n",
    "!wc -l {fp_}\n",
    "\n",
    "fp_ = 'annot/S2_regulatory_annotation/S2_regulatory_annotation_6Dec17_to_22Apr18_gained_promoters_fwd.bed'\n",
    "df_reglA[(df_reglA['annot_fwd'] != 'coding_promoter') & (df_reglC['annot_fwd'] == 'coding_promoter')]\\\n",
    "    [['chrom', 'start', 'end']].to_csv(fp_, index=False, header=False, sep='\\t')\n",
    "!wc -l {fp_}\n",
    "\n",
    "fp_ = 'annot/S2_regulatory_annotation/S2_regulatory_annotation_6Dec17_to_22Apr18_gained_promoters_rev.bed'\n",
    "df_reglA[(df_reglA['annot_rev'] != 'coding_promoter') & (df_reglC['annot_rev'] == 'coding_promoter')]\\\n",
    "    [['chrom', 'start', 'end']].to_csv(fp_, index=False, header=False, sep='\\t')\n",
    "!wc -l {fp_}"
   ]
  },
  {
   "cell_type": "code",
   "execution_count": 62,
   "metadata": {
    "ExecuteTime": {
     "end_time": "2018-04-23T14:34:48.322344Z",
     "start_time": "2018-04-23T14:34:47.528605Z"
    }
   },
   "outputs": [
    {
     "name": "stdout",
     "output_type": "stream",
     "text": [
      "1438 annot/S2_regulatory_annotation/S2_regulatory_annotation_6Dec17_to_23Apr18_lost_promoters_fwd.bed\n",
      "1400 annot/S2_regulatory_annotation/S2_regulatory_annotation_6Dec17_to_23Apr18_lost_promoters_rev.bed\n",
      "1508 annot/S2_regulatory_annotation/S2_regulatory_annotation_6Dec17_to_23Apr18_gained_promoters_fwd.bed\n",
      "1508 annot/S2_regulatory_annotation/S2_regulatory_annotation_6Dec17_to_23Apr18_gained_promoters_rev.bed\n"
     ]
    }
   ],
   "source": [
    "fp_ = 'annot/S2_regulatory_annotation/S2_regulatory_annotation_6Dec17_to_23Apr18_lost_promoters_fwd.bed'\n",
    "df_reglA[(df_reglA['annot_fwd'] == 'coding_promoter') & (df_reglC['annot_fwd'] != 'coding_promoter')]\\\n",
    "    [['chrom', 'start', 'end']].to_csv(fp_, index=False, header=False, sep='\\t')\n",
    "!wc -l {fp_}\n",
    "\n",
    "fp_ = 'annot/S2_regulatory_annotation/S2_regulatory_annotation_6Dec17_to_23Apr18_lost_promoters_rev.bed'\n",
    "df_reglA[(df_reglA['annot_rev'] == 'coding_promoter') & (df_reglC['annot_rev'] != 'coding_promoter')]\\\n",
    "    [['chrom', 'start', 'end']].to_csv(fp_, index=False, header=False, sep='\\t')\n",
    "!wc -l {fp_}\n",
    "\n",
    "fp_ = 'annot/S2_regulatory_annotation/S2_regulatory_annotation_6Dec17_to_23Apr18_gained_promoters_fwd.bed'\n",
    "df_reglA[(df_reglA['annot_fwd'] != 'coding_promoter') & (df_reglC['annot_fwd'] == 'coding_promoter')]\\\n",
    "    [['chrom', 'start', 'end']].to_csv(fp_, index=False, header=False, sep='\\t')\n",
    "!wc -l {fp_}\n",
    "\n",
    "fp_ = 'annot/S2_regulatory_annotation/S2_regulatory_annotation_6Dec17_to_23Apr18_gained_promoters_rev.bed'\n",
    "df_reglA[(df_reglA['annot_rev'] != 'coding_promoter') & (df_reglC['annot_rev'] == 'coding_promoter')]\\\n",
    "    [['chrom', 'start', 'end']].to_csv(fp_, index=False, header=False, sep='\\t')\n",
    "!wc -l {fp_}"
   ]
  },
  {
   "cell_type": "code",
   "execution_count": null,
   "metadata": {
    "collapsed": true
   },
   "outputs": [],
   "source": []
  }
 ],
 "metadata": {
  "kernelspec": {
   "display_name": "Python 3",
   "language": "python",
   "name": "python3"
  },
  "language_info": {
   "codemirror_mode": {
    "name": "ipython",
    "version": 3
   },
   "file_extension": ".py",
   "mimetype": "text/x-python",
   "name": "python",
   "nbconvert_exporter": "python",
   "pygments_lexer": "ipython3",
   "version": "3.6.2"
  }
 },
 "nbformat": 4,
 "nbformat_minor": 2
}
