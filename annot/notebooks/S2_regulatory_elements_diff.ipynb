{
 "cells": [
  {
   "cell_type": "code",
   "execution_count": 1,
   "metadata": {
    "ExecuteTime": {
     "end_time": "2018-02-07T20:08:55.822968Z",
     "start_time": "2018-02-07T20:08:50.265539Z"
    },
    "code_folding": [
     0
    ]
   },
   "outputs": [
    {
     "name": "stderr",
     "output_type": "stream",
     "text": [
      "/mnt/home3/jj374/anaconda36/lib/python3.6/site-packages/statsmodels/compat/pandas.py:56: FutureWarning: The pandas.core.datetools module is deprecated and will be removed in a future version. Please use the pandas.tseries module instead.\n",
      "  from pandas.core import datetools\n"
     ]
    },
    {
     "name": "stdout",
     "output_type": "stream",
     "text": [
      "os.getcwd(): /mnt/b2/scratch/ahringer/jj374/lab/relmapping\n"
     ]
    }
   ],
   "source": [
    "# Initialise\n",
    "%run ~/relmapping/annot/notebooks/__init__.ipynb"
   ]
  },
  {
   "cell_type": "code",
   "execution_count": 2,
   "metadata": {
    "ExecuteTime": {
     "end_time": "2018-02-07T20:08:57.401162Z",
     "start_time": "2018-02-07T20:08:55.825245Z"
    },
    "code_folding": [
     0,
     5
    ]
   },
   "outputs": [
    {
     "name": "stdout",
     "output_type": "stream",
     "text": [
      "42245 regions loaded\n",
      "ok chrIII:6971981-6972101/-\tnon-coding_RNA:mir-5549\n",
      "ok chrIII:6971981-6972101/+\tcoding_promoter:rfc-4\n",
      "ok chrIV:6117863-6118043/-\tnon-coding_RNA:M03D4.78\n",
      "ok chrIV:6117863-6118043/+\tcoding_promoter:zen-4\n",
      "ok chrV:7196589-7196718/-\tnon-coding_RNA:F09G2.14\n",
      "ok chrV:7196589-7196718/+\tcoding_promoter:F09G2.2\n",
      "ok chrII:13596635-13596738/-\tcoding_promoter:fbxc-23\n",
      "ok chrII:13596635-13596738/+\tcoding_promoter:csc-1\n",
      "ok chrIV:8457013-8457189/+\tcoding_promoter:syx-4\n",
      "ok chrII:979338-979455/+\tcoding_promoter:fbxc-15\n",
      "ok chrI:11182502-11182624/-\tcoding_promoter:rsr-1\n",
      "ok chrI:11182502-11182624/+\tcoding_promoter:sri-5\n",
      "ok chrV:19405507-19405707/-\tcoding_promoter:C25F9.6\n",
      "ok chrV:19405507-19405707/+\tcoding_promoter:C25F9.10\n",
      "ok chrV:5433170-5433353/-\tcoding_promoter:F08F3.8\n",
      "ok chrV:5433170-5433353/+\tcoding_promoter:acl-6\n",
      "ok chrIV:13541820-13541934/-\tcoding_promoter:rsd-2\n",
      "ok chrII:7150014-7150236/.\tT07F8.1\n",
      "ok chrV:16262064-16262178/.\tnhr-127\n",
      "ok chrI:2890703-2890828/.\tY71F9AL.6,arx-1\n",
      "ok chrI:183422-183568/.\tatm-1\n",
      "ok chrII:6891890-6892040/.\tC44B7.12\n",
      "ok chrII:6486433-6486590/-\tcoding_promoter:T28D9.9\n",
      "ok chrII:6486433-6486590/+\tcoding_promoter:T28D9.3\n",
      "ok chrI:111191-111378/+\tnon-coding_RNA:F53G12.12\n",
      "ok chrII:6897334-6897462/.\tC44B7.11\n",
      "ok chrII:11415566-11415675/.\tC05D12.1\n",
      "ok chrII:6775038-6775173/-\tcoding_promoter:agr-1\n",
      "ok chrII:2296175-2296310/-\tcoding_promoter:fbxc-25\n",
      "ok chrII:1818315-1818462/-\tcoding_promoter:fbxb-10\n",
      "ok chrI:5486294-5486413/-\tcoding_promoter:rpl-19\n",
      "ok chrI:5486294-5486413/+\tcoding_promoter:C09D4.3\n",
      "ok chrII:14563893-14564084/-\tpseudogene_promoter:C01G12.12\n"
     ]
    }
   ],
   "source": [
    "# Load new annotation & test known corner cases\n",
    "fp_regl = 'annot/S2_regulatory_annotation/S2_regulatory_annotation.tsv'\n",
    "df_regl = pd.read_csv(fp_regl, sep='\\t')\n",
    "print('%d regions loaded' % (len(df_regl),))\n",
    "\n",
    "def check_p(igvstr, annot_rev=None, annot_fwd=None, locus_rev=None, locus_fwd=None):\n",
    "    (chrom, start, end) = yp.parse_igvstr(igvstr)\n",
    "    df_ = df_regl.query(\"chrom == '%s' & start == %d & end == %d\" % (chrom, start, end))\n",
    "    assert len(df_) == 1\n",
    "\n",
    "    annot_rev_ = df_['annot_rev'].tolist()[0]\n",
    "    annot_fwd_ = df_['annot_fwd'].tolist()[0]\n",
    "    locus_rev_ = df_['promoter_locus_id_rev'].tolist()[0]\n",
    "    locus_fwd_ = df_['promoter_locus_id_fwd'].tolist()[0]\n",
    "\n",
    "    try:\n",
    "        assert annot_rev is None or (annot_rev == annot_rev_)\n",
    "        assert locus_rev is None or (locus_rev == locus_rev_)\n",
    "        assert annot_fwd is None or (annot_fwd == annot_fwd_)\n",
    "        assert locus_fwd is None or (locus_fwd == locus_fwd_)\n",
    "\n",
    "        if not(annot_rev) is None:\n",
    "            s = \"ok %s/-\\t\" % (igvstr,)\n",
    "            if not(annot_rev is None):\n",
    "                s += annot_rev\n",
    "            if not(locus_rev is None):\n",
    "                s += \":\" + locus_rev\n",
    "            print(s)\n",
    "\n",
    "        if not(annot_fwd) is None:\n",
    "            s = \"ok %s/+\\t\" % (igvstr,)\n",
    "            if not(annot_fwd is None):\n",
    "                s += annot_fwd\n",
    "            if not(locus_fwd is None):\n",
    "                s += \":\" + locus_fwd\n",
    "            print(s)\n",
    "        \n",
    "    except AssertionError:\n",
    "        print('Expected: %s:%s / %s:%s' % (annot_rev,locus_rev,annot_fwd,locus_fwd))\n",
    "        print(df_.transpose())\n",
    "\n",
    "def check_a(igvstr, locus=None):\n",
    "    (chrom, start, end) = yp.parse_igvstr(igvstr)\n",
    "    df_ = df_regl.query(\"chrom == '%s' & start == %d & end == %d\" % (chrom, start, end))\n",
    "    assert len(df_) == 1\n",
    "\n",
    "    locus_ = df_['associated_locus_id'].tolist()[0]\n",
    "\n",
    "    try:\n",
    "        assert locus == locus_\n",
    "        print(\"ok %s/.\\t%s\" % (igvstr, locus))\n",
    "        \n",
    "    except AssertionError:\n",
    "        print('Expected: %s' % (locus,))\n",
    "        print(df_.transpose())\n",
    "\n",
    "#> rfc-4 (black element - promoter inside masked??)\n",
    "#> zen-4 (black element - should be promoter?)sonRNA, I guess could mask promoter\n",
    "#Rare but compelling cases of bidirectional promoters where one direction was protein-coding, and the other was an annotated non-coding RNA. Addressed by relaxing the non-coding RNA annotation. They're now treated more similarly to protein-coding annotations, so a site can be annotated as protein_coding on one strand, and snoRNA on the other strand. (Previously, any site that overlapped a non-coding RNA was excluded from any other annotation...)\n",
    "#> attf-2 (black element maybe promoter?)\n",
    "#Now annotated as a promoter for F09G2.2 (protein-coding gene, forward strabd), and F09G2.14 (snoRNA, reverse strand). Could also be a promoter for attf-2, but can't think of much one could do about this give current fragmented long cap data.\n",
    "check_p('chrIII:6971981-6972101', 'non-coding_RNA', 'coding_promoter', 'mir-5549', 'rfc-4')\n",
    "check_p('chrIV:6117863-6118043', 'non-coding_RNA', 'coding_promoter', 'M03D4.78', 'zen-4')\n",
    "check_p('chrV:7196589-7196718', 'non-coding_RNA', 'coding_promoter', 'F09G2.14', 'F09G2.2') # Could be attf-2 reverse-strand promoter?\n",
    "\n",
    "#> csc-1\n",
    "#> syx-4\n",
    "#Compelling promoters; captured by relaxing the short cap threshold for calling a promoter that overlaps a first exon to having a single reproducible cap stack.\n",
    "check_p('chrII:13596635-13596738', 'coding_promoter', 'coding_promoter', 'fbxc-23', 'csc-1')\n",
    "check_p('chrIV:8457013-8457189', annot_fwd='coding_promoter', locus_fwd='syx-4')\n",
    "\n",
    "#> fbxc-15\n",
    "#Fixed by tweaking the long cap jump test.\n",
    "check_p('chrII:979338-979455', annot_fwd='coding_promoter', locus_fwd='fbxc-15')\n",
    "\n",
    "#> sri-5 (promoter annotated to rsr-1 only)\n",
    "#> C25F9.6 (promoter annotate to C25F9.6 only) - looks like there is jump in txn?\n",
    "#> F08F3.8 (promoter annotated to acl-6 only) - looks like there is longcap signal\n",
    "#> rsd-2 (maybe one of the yellow elements promoter?) Looks like there is txn from furthest right yellow element\n",
    "#Weak outron signal; now captured by requiring 1 long cap tag in each replicate, and at least 3 tags total (previously at least 2 tags in both replicates).\n",
    "check_p('chrI:11182502-11182624', 'coding_promoter', 'coding_promoter', 'rsr-1', 'sri-5')\n",
    "check_p('chrV:19405507-19405707', 'coding_promoter', 'coding_promoter', 'C25F9.6', 'C25F9.10')\n",
    "check_p('chrV:5433170-5433353', 'coding_promoter', 'coding_promoter', 'F08F3.8', 'acl-6')\n",
    "check_p('chrIV:13541820-13541934', annot_rev='coding_promoter', locus_rev='rsd-2')\n",
    "\n",
    "# Sites downstream within a long exon that should not be called promoters\n",
    "check_a('chrII:7150014-7150236', 'T07F8.1')\n",
    "check_a('chrV:16262064-16262178', 'nhr-127')\n",
    "check_a('chrI:2890703-2890828', 'Y71F9AL.6,arx-1')\n",
    "check_a('chrI:183422-183568', 'atm-1')\n",
    "\n",
    "# \"Long distance\" ncRNA annotations (should not happen)\n",
    "check_a('chrII:6891890-6892040', 'C44B7.12')\n",
    "\n",
    "# Located between multiple alternative transcripts on the forward strand; looks like a true promoter (fails currently)\n",
    "check_p('chrII:6486433-6486590', 'coding_promoter', 'coding_promoter', 'T28D9.9', 'T28D9.3')\n",
    "\n",
    "# addressed via closest_exon_flank ~< 250 (ncRNA downstream of site; exon1 from upstream gets mis-assigned)\n",
    "check_p('chrI:111191-111378', annot_fwd='non-coding_RNA', locus_fwd='F53G12.12')\n",
    "\n",
    "# examples near/around first exons -- pass via allowing incr test\n",
    "check_a('chrII:6897334-6897462', 'C44B7.11') # strong short cap mis-aligned with TSS\n",
    "check_a('chrII:11415566-11415675', 'C05D12.1') # well positioned ATAC-seq, weak/non-existant scap\n",
    "check_p('chrII:6775038-6775173', annot_rev='coding_promoter', locus_rev='agr-1') # looks like a true promoter; scap within UTR; 62bp\n",
    "check_p('chrII:2296175-2296310', annot_rev='coding_promoter', locus_rev='fbxc-25') # true promoter; scap 126bp from TSS; all within UTR\n",
    "check_p('chrII:1818315-1818462', annot_rev='coding_promoter', locus_rev='fbxb-10') # true promoter but 3 reads within netural zone\n",
    "check_p('chrI:5486294-5486413', 'coding_promoter', 'coding_promoter', 'rpl-19', 'C09D4.3') # allow raft approach for downstream?\n",
    "\n",
    "# pseudogene promoters\n",
    "check_p('chrII:14563893-14564084', annot_rev='pseudogene_promoter', locus_rev='C01G12.12')"
   ]
  },
  {
   "cell_type": "code",
   "execution_count": 4,
   "metadata": {
    "ExecuteTime": {
     "end_time": "2018-02-07T20:10:49.244927Z",
     "start_time": "2018-02-07T20:10:49.166449Z"
    }
   },
   "outputs": [
    {
     "name": "stdout",
     "output_type": "stream",
     "text": [
      "Expected: coding_promoter:eft-3 / coding_promoters:rfc-4\n",
      "                                                   16050\n",
      "chrom                                             chrIII\n",
      "start                                            6971980\n",
      "end                                              6972101\n",
      "annot                                    coding_promoter\n",
      "annot_fwd                                coding_promoter\n",
      "annot_rev                                 non-coding_RNA\n",
      "promoter_gene_id_fwd                      WBGene00004340\n",
      "promoter_locus_id_fwd                              rfc-4\n",
      "promoter_gene_biotype_fwd                 protein_coding\n",
      "promoter_gene_id_rev                      WBGene00219220\n",
      "promoter_locus_id_rev                           mir-5549\n",
      "promoter_gene_biotype_rev                          miRNA\n",
      "associated_gene_id         WBGene00004340,WBGene00219220\n",
      "associated_locus_id                       mir-5549,rfc-4\n",
      "atac_mode                                        6972040\n",
      "atac_wt_emb_height                               22.1428\n",
      "atac_wt_l1_height                                19.5158\n",
      "atac_wt_l2_height                                16.1363\n",
      "atac_wt_l3_height                                 23.359\n",
      "atac_wt_l4_height                                20.4533\n",
      "atac_wt_ya_height                                25.2423\n",
      "atac_glp1_ya_height                              30.5719\n",
      "atac_glp1_d3_height                              32.4983\n",
      "atac_glp1_d7_height                              32.1517\n",
      "atac_glp1_d10_height                             36.0953\n",
      "atac_glp1_d14_height                             31.9673\n",
      "tss_fwd                                          6972107\n",
      "tss_rev                                          6972045\n",
      "lcap_jump_wt_emb_fwd                                True\n",
      "lcap_jump_wt_emb_rev                               False\n",
      "...                                                  ...\n",
      "lcap_jump_glp1_d3_fwd                               True\n",
      "lcap_jump_glp1_d3_rev                              False\n",
      "lcap_jump_glp1_d7_fwd                               True\n",
      "lcap_jump_glp1_d7_rev                               True\n",
      "lcap_jump_glp1_d10_fwd                              True\n",
      "lcap_jump_glp1_d10_rev                              True\n",
      "lcap_jump_glp1_d14_fwd                             False\n",
      "lcap_jump_glp1_d14_rev                              True\n",
      "lcap_incr_wt_emb_fwd                               False\n",
      "lcap_incr_wt_emb_rev                               False\n",
      "lcap_incr_wt_l1_fwd                                False\n",
      "lcap_incr_wt_l1_rev                                 True\n",
      "lcap_incr_wt_l2_fwd                                 True\n",
      "lcap_incr_wt_l2_rev                                 True\n",
      "lcap_incr_wt_l3_fwd                                 True\n",
      "lcap_incr_wt_l3_rev                                 True\n",
      "lcap_incr_wt_l4_fwd                                 True\n",
      "lcap_incr_wt_l4_rev                                 True\n",
      "lcap_incr_wt_ya_fwd                                 True\n",
      "lcap_incr_wt_ya_rev                                 True\n",
      "lcap_incr_glp1_ya_fwd                               True\n",
      "lcap_incr_glp1_ya_rev                               True\n",
      "lcap_incr_glp1_d3_fwd                               True\n",
      "lcap_incr_glp1_d3_rev                              False\n",
      "lcap_incr_glp1_d7_fwd                              False\n",
      "lcap_incr_glp1_d7_rev                               True\n",
      "lcap_incr_glp1_d10_fwd                             False\n",
      "lcap_incr_glp1_d10_rev                              True\n",
      "lcap_incr_glp1_d14_fwd                             False\n",
      "lcap_incr_glp1_d14_rev                             False\n",
      "\n",
      "[72 rows x 1 columns]\n"
     ]
    }
   ],
   "source": [
    "# Missed promoters close to 5' UTR\n",
    "# Working proposal:\n",
    "# - classify annotated TSSs as 'transcribed' if there's short cap [-100;200]\n",
    "# - 'jump test' within-UTR accessible sites are promoters if the TSS is 'transcribed'\n",
    "# (Alternatives: require short cap mode to precede the coding region? use \"coding part\" of the first exon?)\n",
    "\n",
    "# short cap mode off by 1bp\n",
    "#check_p('chrII:2772201-2772322', annot_rev='coding_promoter', locus_fwd='sdz-10')\n",
    "\n",
    "# true promoter; scap does not match UTR annotation\n",
    "#check_p('chrII:2320235-2320376', annot_fwd='coding_promoter', locus_fwd='ZK1240.3')\n",
    "\n",
    "# potential forward promoter (although signal *is* noisy), except UTR extends upstream of the site...\n",
    "#check_p('chrII:1821387-1821512', annot_fwd='coding_promoters', locus_fwd='fbxc-19', annot_rev='coding_promoter', 'locus_rev'='fbxa-3'\n",
    "\n",
    "# Reverse strand: should be eft-3 instead of miRNA mir-5549?\n",
    "#check_p('chrIII:6971981-6972101', annot_fwd='coding_promoters', locus_fwd='rfc-4', annot_rev='coding_promoter', locus_rev='eft-3')"
   ]
  },
  {
   "cell_type": "code",
   "execution_count": null,
   "metadata": {
    "ExecuteTime": {
     "end_time": "2017-12-06T17:19:48.698881Z",
     "start_time": "2017-12-06T17:19:42.001Z"
    },
    "code_folding": [
     0
    ],
    "collapsed": true
   },
   "outputs": [],
   "source": [
    "# Differences to previous github version\n",
    "fp_head_bed = 'annot/S2_regulatory_annotation/S2_regulatory_annotation.bed_HEAD.bed'\n",
    "fp_head_tsv = 'annot/S2_regulatory_annotation/S2_regulatory_annotation.tsv_HEAD.tsv'\n",
    "!git show HEAD:{fp_regl} > {fp_head_tsv}\n",
    "!git show HEAD:annot/S2_regulatory_annotation/S2_regulatory_annotation.bed > {fp_head_bed}\n",
    "\n",
    "# Diff against a specific earlier version\n",
    "#fp_head_bed = 'annot/S2_regulatory_annotation/S2_regulatory_annotation.bed_1030.bed'\n",
    "#fp_head_tsv = 'annot/S2_regulatory_annotation/S2_regulatory_annotation.tsv_1030.tsv'\n",
    "#!git show 2040a6:annot/S2_regulatory_annotation/S2_regulatory_annotation.bed > {fp_head_bed}\n",
    "#!git show 2040a6:annot/S2_regulatory_annotation/S2_regulatory_annotation.tsv > {fp_head_tsv}\n",
    "\n",
    "df_head = pd.read_csv(fp_head_tsv, sep='\\t')\n",
    "m_diff_ = (df_head['annot_fwd'] != df_regl['annot_fwd']) | (df_head['annot_rev'] != df_regl['annot_rev'])# \\\n",
    "#| ((df_head['promoter_gene_id_fwd'] != df_regl['promoter_gene_id_fwd'])) \\\n",
    "#| ((df_head['promoter_gene_id_rev'] != df_regl['promoter_gene_id_rev'])) \\\n",
    "#| ((df_head['associated_gene_id'] != df_regl['associated_gene_id']))\n",
    "print('%d regions annotated differently compared to last commit' % (sum(m_diff_)))"
   ]
  },
  {
   "cell_type": "code",
   "execution_count": null,
   "metadata": {
    "ExecuteTime": {
     "end_time": "2017-12-06T16:29:27.778249Z",
     "start_time": "2017-12-06T16:29:27.617539Z"
    },
    "code_folding": [
     0
    ],
    "collapsed": true,
    "scrolled": true
   },
   "outputs": [],
   "source": [
    "# Randomly sample altered regions\n",
    "df_diff = df_regl[['chrom', 'start', 'end']].copy()\n",
    "df_diff['label_head'] = df_head['label']\n",
    "df_diff['label_regl'] = df_regl['label']\n",
    "df_diff['annot_rev_head'] = df_head['annot_rev']\n",
    "df_diff['annot_rev_regl'] = df_regl['annot_rev']\n",
    "df_diff['annot_fwd_head'] = df_head['annot_fwd']\n",
    "df_diff['annot_fwd_regl'] = df_regl['annot_fwd']\n",
    "yp.df_sample(df_diff.loc[m_diff_], 50)"
   ]
  },
  {
   "cell_type": "code",
   "execution_count": null,
   "metadata": {
    "ExecuteTime": {
     "end_time": "2017-12-05T16:39:42.389239Z",
     "start_time": "2017-12-05T16:39:33.165Z"
    },
    "code_folding": [
     0
    ],
    "collapsed": true
   },
   "outputs": [],
   "source": [
    "# Write a .bed-file of all the regions that changed\n",
    "fp_diff = 'annot/S2_regulatory_annotation/S2_regulatory_annotation_diff.bed'\n",
    "df_diff[m_diff_][['chrom', 'start', 'end']].to_csv(fp_diff, index=False, header=False, sep='\\t')\n",
    "!wc -l {fp_diff}"
   ]
  },
  {
   "cell_type": "markdown",
   "metadata": {},
   "source": [
    "Possible additional improvements..."
   ]
  },
  {
   "cell_type": "code",
   "execution_count": null,
   "metadata": {
    "ExecuteTime": {
     "end_time": "2017-12-05T16:39:42.391247Z",
     "start_time": "2017-12-05T16:39:33.167Z"
    },
    "code_folding": [
     0
    ],
    "collapsed": true
   },
   "outputs": [],
   "source": [
    "# exon2 overlap rule is too conservative & masks even when txn clearly does not originate from exon\n",
    "# => test for jump/incr at exon boundary & discard from annotation only if it tests positive\n",
    "#check_annot_summary('chrIV:13588263-13588441', 'Y45F10B.12') trans-spliced promoter in L4?"
   ]
  },
  {
   "cell_type": "code",
   "execution_count": null,
   "metadata": {
    "ExecuteTime": {
     "end_time": "2017-12-05T16:39:42.393083Z",
     "start_time": "2017-12-05T16:39:33.168Z"
    },
    "code_folding": [
     0
    ],
    "collapsed": true
   },
   "outputs": [],
   "source": [
    "# extra long outrons???\n",
    "# snt-2 has a distal promoter spanning 40kb and multiple genes (chrIII:787,433-829,218)\n",
    "# => cut-off at e.g. 10kb?\n",
    "#check_annot_summary('chrIII:828052-828187', '??')\n",
    "#chrIII:4369629-4369711"
   ]
  },
  {
   "cell_type": "code",
   "execution_count": null,
   "metadata": {
    "ExecuteTime": {
     "end_time": "2017-12-05T16:39:42.395018Z",
     "start_time": "2017-12-05T16:39:33.170Z"
    },
    "code_folding": [],
    "collapsed": true
   },
   "outputs": [],
   "source": [
    "\n",
    "#check_annot_summary('chrII:11371902-11372117', '(C33B4.2)') # short cap 100bp downstream of annotated coding region\n",
    "#check_annot_summary('chrI:5485952-5486062', 'rpl-19') # promoter assigned to un-translated tiny exon; scap not align\n",
    "#check_annot_summary('chrII:11347905-11348076', 'B0491.6 / B0491.1') # long UTR; short cap precedes TSS\n",
    "#check_annot_sumary('chrII:1818315-1818462', 'fbxb-10') # true promoter; scap ~60bp chrII:1821387-1821512\n",
    "#check_annot_summary('chrIII:5876290-5876433', 'aldo-2')"
   ]
  },
  {
   "cell_type": "code",
   "execution_count": null,
   "metadata": {
    "ExecuteTime": {
     "end_time": "2017-12-05T16:39:42.396877Z",
     "start_time": "2017-12-05T16:39:33.171Z"
    },
    "code_folding": [
     0
    ],
    "collapsed": true
   },
   "outputs": [],
   "source": [
    "#> lir-2 (green element may be promoter?) Looks like a promoter, I think\n",
    "#check_annot_summary('chrII:7667887-7668072', 'lir-2') # Tricky region, as short cap does not align with 5'"
   ]
  }
 ],
 "metadata": {
  "kernelspec": {
   "display_name": "Python 3",
   "language": "python",
   "name": "python3"
  },
  "language_info": {
   "codemirror_mode": {
    "name": "ipython",
    "version": 3
   },
   "file_extension": ".py",
   "mimetype": "text/x-python",
   "name": "python",
   "nbconvert_exporter": "python",
   "pygments_lexer": "ipython3",
   "version": "3.6.2"
  }
 },
 "nbformat": 4,
 "nbformat_minor": 2
}
