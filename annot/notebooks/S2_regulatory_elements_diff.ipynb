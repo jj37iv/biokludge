{
 "cells": [
  {
   "cell_type": "code",
   "execution_count": 1,
   "metadata": {
    "ExecuteTime": {
     "end_time": "2018-04-25T19:11:29.346693Z",
     "start_time": "2018-04-25T19:11:23.217668Z"
    },
    "code_folding": [
     0
    ]
   },
   "outputs": [
    {
     "name": "stderr",
     "output_type": "stream",
     "text": [
      "/mnt/home3/jj374/anaconda36/lib/python3.6/site-packages/statsmodels/compat/pandas.py:56: FutureWarning: The pandas.core.datetools module is deprecated and will be removed in a future version. Please use the pandas.tseries module instead.\n",
      "  from pandas.core import datetools\n"
     ]
    },
    {
     "name": "stdout",
     "output_type": "stream",
     "text": [
      "os.getcwd(): /mnt/beegfs/scratch_copy/ahringer/jj374/lab/relmapping\n"
     ]
    }
   ],
   "source": [
    "# Initialise\n",
    "%run ~/relmapping/annot/notebooks/__init__.ipynb"
   ]
  },
  {
   "cell_type": "code",
   "execution_count": 39,
   "metadata": {
    "ExecuteTime": {
     "end_time": "2018-04-27T17:39:26.506770Z",
     "start_time": "2018-04-27T17:39:23.696590Z"
    }
   },
   "outputs": [
    {
     "name": "stdout",
     "output_type": "stream",
     "text": [
      "42245 regions loaded\n",
      "chrIV:6117863-6118043\t                annot_fwd\t          coding_promoter\t          coding_promoter\n",
      "chrIV:6117863-6118043\t    promoter_locus_id_fwd\t                    zen-4\t                    zen-4\n",
      "chrIV:6117863-6118043\t                annot_rev\t           non-coding_RNA\t           non-coding_RNA\n",
      "chrIV:6117863-6118043\t    promoter_locus_id_rev\t                 M03D4.78\t                 M03D4.78\n",
      "chrIII:6971981-6972101\t                annot_fwd\t          coding_promoter\t          coding_promoter\n",
      "chrIII:6971981-6972101\t    promoter_locus_id_fwd\t                    rfc-4\t                    rfc-4\n",
      "chrIII:6971981-6972101\t                annot_rev\t          coding_promoter\t          coding_promoter\n",
      "chrIII:6971981-6972101\t    promoter_locus_id_rev\t                 eef-1A.1\t                 eef-1A.1\n",
      "chrV:7196589-7196718\t                annot_fwd\t          coding_promoter\t          coding_promoter\n",
      "chrV:7196589-7196718\t    promoter_locus_id_fwd\t                  F09G2.2\t                  F09G2.2\n",
      "chrV:7196589-7196718\t                annot_rev\t          coding_promoter\t          coding_promoter\n",
      "chrV:7196589-7196718\t    promoter_locus_id_rev\t                   attf-2\t                   attf-2\n",
      "chrII:13596635-13596738\t                annot_rev\t          coding_promoter\t          coding_promoter\n",
      "chrII:13596635-13596738\t    promoter_locus_id_rev\t                  fbxc-23\t                  fbxc-23\n",
      "chrII:979338-979455\t                annot_fwd\t          coding_promoter\t          coding_promoter\n",
      "chrII:979338-979455\t    promoter_locus_id_fwd\t                  fbxc-15\t                  fbxc-15\n",
      "chrI:11182502-11182624\t                annot_rev\t          coding_promoter\t          coding_promoter\n",
      "chrI:11182502-11182624\t    promoter_locus_id_rev\t                    rsr-1\t                    rsr-1\n",
      "chrV:19405507-19405707\t                annot_fwd\t          coding_promoter\t          coding_promoter\n",
      "chrV:19405507-19405707\t    promoter_locus_id_fwd\t                 C25F9.10\t                 C25F9.10\n",
      "chrV:19405507-19405707\t                annot_rev\t          coding_promoter\t          coding_promoter\n",
      "chrV:19405507-19405707\t    promoter_locus_id_rev\t                  C25F9.6\t                  C25F9.6\n",
      "chrV:5433170-5433353\t                annot_fwd\t          coding_promoter\t          coding_promoter\n",
      "chrV:5433170-5433353\t    promoter_locus_id_fwd\t                    acl-6\t                    acl-6\n",
      "chrIV:13541820-13541934\t                annot_rev\t          coding_promoter\t          coding_promoter\n",
      "chrIV:13541820-13541934\t    promoter_locus_id_rev\t                    rsd-2\t                    rsd-2\n",
      "chrII:7150014-7150236\t                annot_fwd\t         no_transcription\t         no_transcription\n",
      "chrII:7150014-7150236\t                annot_rev\t transcription_initiation\t transcription_initiation\n",
      "chrI:183422-183568\t                annot_fwd\t transcription_initiation\t transcription_initiation\n",
      "chrI:183422-183568\t      associated_locus_id\t                    atm-1\t                    atm-1\n",
      "chrII:6891890-6892040\t                annot_fwd\t          coding_promoter\t          coding_promoter\n",
      "chrII:6891890-6892040\t                annot_rev\t          coding_promoter\t          coding_promoter\n",
      "chrI:111191-111378\t                annot_fwd\t           non-coding_RNA\t           non-coding_RNA\n",
      "chrI:111191-111378\t    promoter_locus_id_fwd\t                F53G12.12\t                F53G12.12\n",
      "chrI:13324560-13324714\t                annot_fwd\t          coding_promoter\t          coding_promoter\n",
      "chrI:13324560-13324714\t    promoter_locus_id_fwd\t                   gcy-35\t                   gcy-35\n",
      "chrI:13372998-13373215\t                annot_rev\t          coding_promoter\t          coding_promoter\n",
      "chrI:13372998-13373215\t    promoter_locus_id_rev\t                   sptf-3\t                   sptf-3\n",
      "chrIII:6971981-6972101\t                annot_fwd\t          coding_promoter\t          coding_promoter\n",
      "chrIII:6971981-6972101\t    promoter_locus_id_fwd\t                    rfc-4\t                    rfc-4\n",
      "chrIII:6971981-6972101\t                annot_rev\t          coding_promoter\t          coding_promoter\n",
      "chrIII:6971981-6972101\t    promoter_locus_id_rev\t                 eef-1A.1\t                 eef-1A.1\n",
      "chrI:13372998-13373215\t                annot_rev\t          coding_promoter\t          coding_promoter\n",
      "chrI:13372998-13373215\t    promoter_locus_id_rev\t                   sptf-3\t                   sptf-3\n",
      "chrI:14316482-14316632\t                annot_fwd\t      pseudogene_promoter\t      pseudogene_promoter\n",
      "chrI:14316482-14316632\t    promoter_locus_id_fwd\t                  F49B2.4\t                  F49B2.4\n",
      "chrII:14468955-14469118\t                annot_fwd\t         unknown_promoter\t         unknown_promoter\n",
      "chrI:6011491-6011614\t                annot_rev\t          coding_promoter\t          coding_promoter\n",
      "chrI:6011491-6011614\t    promoter_locus_id_rev\t                    rnf-1\t                    rnf-1\n",
      "chrI:7643236-7643386\t                annot_rev\t          coding_promoter\t          coding_promoter\n",
      "chrI:7643236-7643386\t    promoter_locus_id_rev\t                   ncbp-2\t                   ncbp-2\n",
      "chrII:2320231-2320381\t                annot_fwd\t          coding_promoter\t          coding_promoter\n",
      "chrII:2320231-2320381\t    promoter_locus_id_fwd\t                 ZK1240.3\t                 ZK1240.3\n",
      "chrII:6775038-6775173\t                annot_rev\t          coding_promoter\t          coding_promoter\n",
      "chrII:6775038-6775173\t    promoter_locus_id_rev\t                    agr-1\t                    agr-1\n",
      "chrII:2296175-2296310\t                annot_rev\t          coding_promoter\t          coding_promoter\n",
      "chrII:2296175-2296310\t    promoter_locus_id_rev\t                  fbxc-25\t                  fbxc-25\n",
      "chrI:5509301-5509451\t                annot_rev\t          coding_promoter\t          coding_promoter\n",
      "chrI:5509301-5509451\t    promoter_locus_id_rev\t                  zipt-11\t                  zipt-11\n",
      "chrX:14706659-14706809\t                annot_rev\t transcription_initiation\t transcription_initiation\n",
      "chrIII:1163615-1163765\t                annot_fwd\t         no_transcription\t         no_transcription\n",
      "chrIII:1163615-1163765\t                annot_rev\t         no_transcription\t         no_transcription\n",
      "chrX:14524974-14525124\t                annot_rev\t          coding_promoter\t          coding_promoter\n",
      "chrX:14524974-14525124\t    promoter_locus_id_rev\t                  nspc-17\t                  nspc-17\n",
      "chrV:5433187-5433337\t                annot_rev\t          coding_promoter\t          coding_promoter\n",
      "chrV:5433187-5433337\t    promoter_locus_id_rev\t                  F08F3.8\t                  F08F3.8\n",
      "chrI:13376619-13376731\t                annot_fwd\t          coding_promoter\t          coding_promoter\n",
      "chrI:13376619-13376731\t    promoter_locus_id_fwd\t                  C01A2.9\t                  C01A2.9\n",
      "chrI:11182502-11182624\t                annot_fwd\t          coding_promoter\t          coding_promoter\n",
      "chrI:11182502-11182624\t    promoter_locus_id_fwd\t                    sri-5\t                    sri-5\n",
      "chrII:13596635-13596738\t                annot_fwd\t          coding_promoter\t          coding_promoter\n",
      "chrII:13596635-13596738\t    promoter_locus_id_fwd\t                    csc-1\t                    csc-1\n",
      "chrI:2167906-2168056\t                annot_fwd\t transcription_initiation\t transcription_initiation\n",
      "chrI:2179963-2180113\t                annot_fwd\t transcription_initiation\t transcription_initiation\n",
      "chrI:2084937-2085087\t                annot_fwd\t           non-coding_RNA\t           non-coding_RNA\n",
      "chrI:2084937-2085087\t    promoter_locus_id_fwd\t                 Y37E3.20\t                 Y37E3.20\n",
      "chrI:2084303-2084453\t                annot_fwd\t          coding_promoter\t          coding_promoter\n",
      "chrI:2084303-2084453\t    promoter_locus_id_fwd\t                 Y37E3.11\t                 Y37E3.11\n",
      "chrI:5485932-5486082\t                annot_rev\t          coding_promoter\t          coding_promoter\n",
      "chrI:5485932-5486082\t    promoter_locus_id_rev\t                   rpl-19\t                   rpl-19\n",
      "chrI:5485932-5486082\t                annot_fwd\t         unknown_promoter\t         unknown_promoter\n",
      "chrI:2190535-2190685\t                annot_fwd\t transcription_initiation\t transcription_initiation\n",
      "chrI:4202291-4202441\t                annot_fwd\t transcription_initiation\t transcription_initiation\n"
     ]
    }
   ],
   "source": [
    "# Load new annotation & test known corner cases\n",
    "#fp_regl = 'annot/S2_regulatory_annotation/S2_regulatory_annotation.tsv'\n",
    "fp_regl = 'annot/Fig2D2_regulatory_annotation_Apr27/Fig2D2_regulatory_annotation_Apr27.tsv'\n",
    "df_regl = pd.read_csv(fp_regl, sep='\\t')\n",
    "print('%d regions loaded' % (len(df_regl),))\n",
    "\n",
    "def check_(igvstr, **kwargs):\n",
    "    (chrom, start, end) = yp.parse_igvstr(igvstr)\n",
    "    pos = int((start + end) / 2)\n",
    "    df_ = df_regl.query('(chrom == \"%s\") & (start <= %d) & (%d < end)' % (chrom, pos, pos))\n",
    "    assert len(df_) == 1\n",
    "    for (k, v) in kwargs.items():\n",
    "        print('\\t'.join([igvstr, '%25s' % (k,), '%25s' % (v,), '%25s' % (df_[k].tolist()[0],)]))\n",
    "        assert df_[k].tolist()[0] == v\n",
    "\n",
    "#> rfc-4 (black element - promoter inside masked??)\n",
    "#> zen-4 (black element - should be promoter?)sonRNA, I guess could mask promoter\n",
    "#Rare but compelling cases of bidirectional promoters where one direction was protein-coding, and the other was an annotated non-coding RNA. Addressed by relaxing the non-coding RNA annotation. They're now treated more similarly to protein-coding annotations, so a site can be annotated as protein_coding on one strand, and snoRNA on the other strand. (Previously, any site that overlapped a non-coding RNA was excluded from any other annotation...)\n",
    "#> attf-2 (black element maybe promoter?)\n",
    "#Now annotated as a promoter for F09G2.2 (protein-coding gene, forward strabd), and F09G2.14 (snoRNA, reverse strand). Could also be a promoter for attf-2, but can't think of much one could do about this give current fragmented long cap data.\n",
    "check_('chrIV:6117863-6118043',\n",
    "       annot_fwd='coding_promoter', promoter_locus_id_fwd='zen-4',\n",
    "       annot_rev='non-coding_RNA', promoter_locus_id_rev='M03D4.78')\n",
    "\n",
    "## \"Dual\" coding/non-coding annotations: coding_promoter >> non-coding_RNA\n",
    "check_('chrIII:6971981-6972101', \n",
    "       annot_fwd='coding_promoter', promoter_locus_id_fwd='rfc-4',\n",
    "       annot_rev='coding_promoter', promoter_locus_id_rev='eef-1A.1') # alternative: mir-5549\n",
    "check_('chrV:7196589-7196718',\n",
    "       annot_fwd='coding_promoter', promoter_locus_id_fwd='F09G2.2',\n",
    "       annot_rev='coding_promoter', promoter_locus_id_rev='attf-2') # alternative: F09G2.14\n",
    "\n",
    "check_('chrII:13596635-13596738', annot_rev='coding_promoter', promoter_locus_id_rev='fbxc-23')\n",
    "\n",
    "#> fbxc-15\n",
    "#Fixed by tweaking the long cap jump test.\n",
    "check_('chrII:979338-979455', annot_fwd='coding_promoter', promoter_locus_id_fwd='fbxc-15')\n",
    "\n",
    "#> sri-5 (promoter annotated to rsr-1 only)\n",
    "#> C25F9.6 (promoter annotate to C25F9.6 only) - looks like there is jump in txn?\n",
    "#> F08F3.8 (promoter annotated to acl-6 only) - looks like there is longcap signal\n",
    "#> rsd-2 (maybe one of the yellow elements promoter?) Looks like there is txn from furthest right yellow element\n",
    "#Weak outron signal; now captured by requiring 1 long cap tag in each replicate, and at least 3 tags total (previously at least 2 tags in both replicates).\n",
    "check_('chrI:11182502-11182624', annot_rev='coding_promoter', promoter_locus_id_rev='rsr-1')\n",
    "check_('chrV:19405507-19405707', \n",
    "       annot_fwd='coding_promoter', promoter_locus_id_fwd='C25F9.10',\n",
    "       annot_rev='coding_promoter', promoter_locus_id_rev='C25F9.6')\n",
    "check_('chrV:5433170-5433353', annot_fwd='coding_promoter', promoter_locus_id_fwd='acl-6')\n",
    "\n",
    "check_('chrIV:13541820-13541934', annot_rev='coding_promoter', promoter_locus_id_rev='rsd-2')\n",
    "\n",
    "# Sites downstream within a long exon that should not be called promoters\n",
    "check_('chrII:7150014-7150236', annot_fwd='no_transcription', annot_rev='transcription_initiation')\n",
    "check_('chrI:183422-183568', annot_fwd='transcription_initiation', associated_locus_id='atm-1')\n",
    "\n",
    "# \"Long distance\" ncRNA annotations (should not happen)\n",
    "check_('chrII:6891890-6892040', annot_fwd='coding_promoter', annot_rev='coding_promoter')\n",
    "\n",
    "# addressed via closest_exon_flank ~< 250 (ncRNA downstream of site; exon1 from upstream gets mis-assigned)\n",
    "check_('chrI:111191-111378', annot_fwd='non-coding_RNA', promoter_locus_id_fwd='F53G12.12')\n",
    "\n",
    "# Non-coding RNAs within outrons should not 'block' upstream promoter annotation\n",
    "check_('chrI:13324560-13324714', annot_fwd='coding_promoter', promoter_locus_id_fwd='gcy-35') # Reverse strand shows weak-gapped-but-compelling long cap?\n",
    "check_('chrI:13372998-13373215', annot_rev='coding_promoter', promoter_locus_id_rev='sptf-3')\n",
    "check_('chrIII:6971981-6972101', annot_fwd='coding_promoter', promoter_locus_id_fwd='rfc-4')\n",
    "check_('chrIII:6971981-6972101', annot_rev='coding_promoter', promoter_locus_id_rev='eef-1A.1')\n",
    "check_('chrI:13372998-13373215', annot_rev='coding_promoter', promoter_locus_id_rev='sptf-3')\n",
    "\n",
    "# Long cap jump -- weak regions\n",
    "check_('chrI:14316482-14316632', annot_fwd='pseudogene_promoter', promoter_locus_id_fwd='F49B2.4') # Also, reverse strand shows weak-gapped-but-compelling long cap (however no short cap!)?\n",
    "\n",
    "# Short cap 100..125bp from peak accessibility...\n",
    "#check_('chrI:6341909-6342059', annot_rev='unknown_promoter')\n",
    "check_('chrII:14468955-14469118', annot_fwd='unknown_promoter')\n",
    "# Short cap >125bp from peak accessibility...\n",
    "#check_('chrII:14468955-14469118', annot_rev='unknown_promoter')\n",
    "\n",
    "# Promoters initiating transcription within the UTR, downstream of the annotated TSS\n",
    "check_('chrI:6011491-6011614', annot_rev='coding_promoter', promoter_locus_id_rev='rnf-1')\n",
    "check_('chrI:7643236-7643386', annot_rev='coding_promoter', promoter_locus_id_rev='ncbp-2')\n",
    "check_('chrII:2320231-2320381', annot_fwd='coding_promoter', promoter_locus_id_fwd='ZK1240.3')\n",
    "check_('chrII:6775038-6775173', annot_rev='coding_promoter', promoter_locus_id_rev='agr-1')\n",
    "check_('chrII:2296175-2296310', annot_rev='coding_promoter', promoter_locus_id_rev='fbxc-25')\n",
    "\n",
    "# Various weak-ish/corner cases where a clear unique promoter candidate exists\n",
    "check_('chrI:5509301-5509451', annot_rev='coding_promoter', promoter_locus_id_rev='zipt-11') # upstream long cap overlaps upstream gene 3' end\n",
    "check_('chrX:14706659-14706809', annot_rev='transcription_initiation') # should not be an unknown_promoter, as is proximal to first exon\n",
    "check_('chrIII:1163615-1163765', annot_fwd='no_transcription', annot_rev='no_transcription') # Should not be a promoter of Y119D3B.13\n",
    "check_('chrX:14524974-14525124', annot_rev='coding_promoter', promoter_locus_id_rev='nspc-17')\n",
    "check_('chrV:5433187-5433337', annot_rev='coding_promoter', promoter_locus_id_rev='F08F3.8') # distal; site has no long cap (but has continuous txn)\n",
    "check_('chrI:13376619-13376731', annot_fwd='coding_promoter', promoter_locus_id_fwd='C01A2.9') # should be detected in d13_fwd -- padj 0.32, missed\n",
    "\n",
    "# No short cap\n",
    "check_('chrI:11182502-11182624', annot_fwd='coding_promoter', promoter_locus_id_fwd='sri-5') # no short cap\n",
    "check_('chrII:13596635-13596738', annot_fwd='coding_promoter', promoter_locus_id_fwd='csc-1') # \"distal\"; no scap\n",
    "\n",
    "# txn init within coding region\n",
    "#check_('chrII:2772185-2772335', annot_rev='coding_promoter', promoter_locus_id_rev='sdz-10')\n",
    "#check_('chrII:1818315-1818462', annot_rev='coding_promoter', promoter_locus_id_rev='fbxb-10') # short cap within 1st exon\n",
    "#check_('chrII:14563893-14564084', annot_rev='pseudogene_promoter', promoter_locus_id_rev='C01G12.12') # pseudogene promoters without short cap!\n",
    "\n",
    "# afd-1 locus -- two sites with long cap gaps, should not be called promoters (but not necessarily unknown_promoter either)\n",
    "check_('chrI:2167906-2168056', annot_fwd='transcription_initiation')\n",
    "check_('chrI:2179963-2180113', annot_fwd='transcription_initiation')\n",
    "\n",
    "# Y37E3.11 locus -- too far from the annotated TSS to be associated with that UTR\n",
    "check_('chrI:2084937-2085087', annot_fwd='non-coding_RNA', promoter_locus_id_fwd='Y37E3.20')\n",
    "\n",
    "# Weak promoter with several non-first alternative isoforms overlapping the first exon\n",
    "check_('chrI:2084303-2084453', annot_fwd='coding_promoter', promoter_locus_id_fwd='Y37E3.11')\n",
    "\n",
    "check_('chrI:5485932-5486082', annot_rev='coding_promoter', promoter_locus_id_rev='rpl-19')\n",
    "check_('chrI:5485932-5486082', annot_fwd='unknown_promoter')\n",
    "\n",
    "# Only apply the low-confidence promoter rule to intergenic sites\n",
    "check_('chrI:2190535-2190685', annot_fwd='transcription_initiation') # afd-1  (in intron)\n",
    "check_('chrI:4202291-4202441', annot_fwd='transcription_initiation') # C18E3.4"
   ]
  },
  {
   "cell_type": "code",
   "execution_count": null,
   "metadata": {
    "ExecuteTime": {
     "start_time": "2018-04-18T10:10:05.095Z"
    },
    "code_folding": [],
    "collapsed": true
   },
   "outputs": [],
   "source": [
    "# Differences to previous github version\n",
    "#fp_head_bed = 'annot/S2_regulatory_annotation/S2_regulatory_annotation.bed_HEAD.bed'\n",
    "#fp_head_tsv = 'annot/S2_regulatory_annotation/S2_regulatory_annotation.tsv_HEAD.tsv'\n",
    "#!git show HEAD:{fp_regl} > {fp_head_tsv}\n",
    "#!git show HEAD:annot/S2_regulatory_annotation/S2_regulatory_annotation.bed > {fp_head_bed}\n",
    "\n",
    "# Diff against a specific earlier version\n",
    "#fp_head_bed = 'annot/S2_regulatory_annotation/S2_regulatory_annotation.bed_1030.bed'\n",
    "#fp_head_tsv = 'annot/S2_regulatory_annotation/S2_regulatory_annotation.tsv_1030.tsv'\n",
    "#!git show 2040a6:annot/S2_regulatory_annotation/S2_regulatory_annotation.bed > {fp_head_bed}\n",
    "#!git show 2040a6:annot/S2_regulatory_annotation/S2_regulatory_annotation.tsv > {fp_head_tsv}\n",
    "\n",
    "fp_head_bed = 'annot/S2_regulatory_annotation/S2_regulatory_annotation_6Dec17.bed'\n",
    "fp_head_tsv = 'annot/S2_regulatory_annotation/S2_regulatory_annotation_6Dec17.tsv'\n",
    "\n",
    "df_head = pd.read_csv(fp_head_tsv, sep='\\t')\n",
    "m_diff_ = (df_head['annot_fwd'] != df_regl['annot_fwd']) | (df_head['annot_rev'] != df_regl['annot_rev'])# \\\n",
    "#| ((df_head['promoter_gene_id_fwd'] != df_regl['promoter_gene_id_fwd'])) \\\n",
    "#| ((df_head['promoter_gene_id_rev'] != df_regl['promoter_gene_id_rev'])) \\\n",
    "#| ((df_head['associated_gene_id'] != df_regl['associated_gene_id']))\n",
    "print('%d regions annotated differently compared to last commit' % (sum(m_diff_)))"
   ]
  },
  {
   "cell_type": "code",
   "execution_count": null,
   "metadata": {
    "ExecuteTime": {
     "start_time": "2018-04-18T10:10:05.098Z"
    },
    "code_folding": [
     0
    ],
    "collapsed": true,
    "scrolled": true
   },
   "outputs": [],
   "source": [
    "# Randomly sample altered regions\n",
    "df_diff = df_regl[['chrom', 'start', 'end']].copy()\n",
    "df_diff['label_head'] = df_head['label']\n",
    "df_diff['label_regl'] = df_regl['label']\n",
    "df_diff['annot_rev_head'] = df_head['annot_rev']\n",
    "df_diff['annot_rev_regl'] = df_regl['annot_rev']\n",
    "df_diff['annot_fwd_head'] = df_head['annot_fwd']\n",
    "df_diff['annot_fwd_regl'] = df_regl['annot_fwd']\n",
    "yp.df_sample(df_diff.loc[m_diff_], 50)"
   ]
  },
  {
   "cell_type": "code",
   "execution_count": null,
   "metadata": {
    "ExecuteTime": {
     "start_time": "2018-04-18T10:10:05.100Z"
    },
    "code_folding": [
     0
    ],
    "collapsed": true
   },
   "outputs": [],
   "source": [
    "# Write a .bed-file of all the regions that changed\n",
    "fp_diff = 'annot/S2_regulatory_annotation/S2_regulatory_annotation_diff.bed'\n",
    "df_diff[m_diff_][['chrom', 'start', 'end']].to_csv(fp_diff, index=False, header=False, sep='\\t')\n",
    "!wc -l {fp_diff}"
   ]
  },
  {
   "cell_type": "markdown",
   "metadata": {},
   "source": [
    "Possible additional improvements..."
   ]
  },
  {
   "cell_type": "code",
   "execution_count": null,
   "metadata": {
    "ExecuteTime": {
     "start_time": "2018-04-18T10:10:05.102Z"
    },
    "code_folding": [
     0
    ],
    "collapsed": true
   },
   "outputs": [],
   "source": [
    "# exon2 overlap rule is too conservative & masks even when txn clearly does not originate from exon\n",
    "# => test for jump/incr at exon boundary & discard from annotation only if it tests positive\n",
    "#check_annot_summary('chrIV:13588263-13588441', 'Y45F10B.12') trans-spliced promoter in L4?"
   ]
  },
  {
   "cell_type": "code",
   "execution_count": null,
   "metadata": {
    "ExecuteTime": {
     "start_time": "2018-04-18T10:10:05.103Z"
    },
    "code_folding": [
     0
    ],
    "collapsed": true
   },
   "outputs": [],
   "source": [
    "# extra long outrons???\n",
    "# snt-2 has a distal promoter spanning 40kb and multiple genes (chrIII:787,433-829,218)\n",
    "# => cut-off at e.g. 10kb?\n",
    "#check_annot_summary('chrIII:828052-828187', '??')\n",
    "#chrIII:4369629-4369711"
   ]
  },
  {
   "cell_type": "code",
   "execution_count": null,
   "metadata": {
    "ExecuteTime": {
     "start_time": "2018-04-18T10:10:05.105Z"
    },
    "code_folding": [],
    "collapsed": true
   },
   "outputs": [],
   "source": [
    "\n",
    "#check_annot_summary('chrII:11371902-11372117', '(C33B4.2)') # short cap 100bp downstream of annotated coding region\n",
    "#check_annot_summary('chrI:5485952-5486062', 'rpl-19') # promoter assigned to un-translated tiny exon; scap not align\n",
    "#check_annot_summary('chrII:11347905-11348076', 'B0491.6 / B0491.1') # long UTR; short cap precedes TSS\n",
    "#check_annot_sumary('chrII:1818315-1818462', 'fbxb-10') # true promoter; scap ~60bp chrII:1821387-1821512\n",
    "#check_annot_summary('chrIII:5876290-5876433', 'aldo-2')"
   ]
  },
  {
   "cell_type": "code",
   "execution_count": null,
   "metadata": {
    "ExecuteTime": {
     "start_time": "2018-04-18T10:10:05.107Z"
    },
    "code_folding": [
     0
    ],
    "collapsed": true
   },
   "outputs": [],
   "source": [
    "#> lir-2 (green element may be promoter?) Looks like a promoter, I think\n",
    "#check_annot_summary('chrII:7667887-7668072', 'lir-2') # Tricky region, as short cap does not align with 5'"
   ]
  },
  {
   "cell_type": "code",
   "execution_count": null,
   "metadata": {
    "ExecuteTime": {
     "end_time": "2018-04-23T10:51:57.249967Z",
     "start_time": "2018-04-23T10:51:53.847633Z"
    },
    "collapsed": true
   },
   "outputs": [],
   "source": [
    "fp_reglA = 'annot/S2_regulatory_annotation/S2_regulatory_annotation_6Dec17.bed'\n",
    "fp_reglB = 'annot/S2_regulatory_annotation/S2_regulatory_annotation_20Apr18.bed'\n",
    "df_reglA = read_gffbed(fp_reglA)\n",
    "df_reglB = read_gffbed(fp_reglB)"
   ]
  },
  {
   "cell_type": "code",
   "execution_count": null,
   "metadata": {
    "ExecuteTime": {
     "end_time": "2018-04-23T10:53:11.584877Z",
     "start_time": "2018-04-23T10:53:11.210636Z"
    },
    "collapsed": true,
    "scrolled": false
   },
   "outputs": [],
   "source": [
    "fp_ = 'annot/S2_regulatory_annotation/S2_regulatory_annotation_6Dec17_to_20Apr18_lost_promoters_fwd.bed'\n",
    "df_reglA[(df_reglA['annot_fwd'] == 'coding_promoter') & (df_reglB['annot_fwd'] != 'coding_promoter')]\\\n",
    "    [['chrom', 'start', 'end']].to_csv(fp_, index=False, header=False, sep='\\t')\n",
    "!wc -l {fp_}\n",
    "\n",
    "fp_ = 'annot/S2_regulatory_annotation/S2_regulatory_annotation_6Dec17_to_20Apr18_lost_promoters_rev.bed'\n",
    "df_reglA[(df_reglA['annot_rev'] == 'coding_promoter') & (df_reglB['annot_rev'] != 'coding_promoter')]\\\n",
    "    [['chrom', 'start', 'end']].to_csv(fp_, index=False, header=False, sep='\\t')\n",
    "!wc -l {fp_}"
   ]
  },
  {
   "cell_type": "code",
   "execution_count": null,
   "metadata": {
    "ExecuteTime": {
     "end_time": "2018-04-23T11:28:00.408389Z",
     "start_time": "2018-04-23T11:27:55.256987Z"
    },
    "collapsed": true
   },
   "outputs": [],
   "source": [
    "fp_reglB_lowconf_fwd = 'annot/S2_regulatory_annotation/metrics/regulatory_annotation_lowconf_fwd.bed'\n",
    "df_reglB_lowconf_fwd = read_gffbed(fp_reglB_lowconf_fwd)\n",
    "fp_reglB_lowconf_rev = 'annot/S2_regulatory_annotation/metrics/regulatory_annotation_lowconf_rev.bed'\n",
    "df_reglB_lowconf_rev = read_gffbed(fp_reglB_lowconf_rev)"
   ]
  },
  {
   "cell_type": "code",
   "execution_count": null,
   "metadata": {
    "ExecuteTime": {
     "end_time": "2018-04-23T12:13:39.358876Z",
     "start_time": "2018-04-23T12:13:38.796722Z"
    },
    "collapsed": true
   },
   "outputs": [],
   "source": [
    "df_a_ = df_reglA.query('(annot_fwd == \"coding_promoter\") | (annot_fwd == \"pseudogene_promoter\")')[['chrom', 'start', 'end']]\n",
    "df_b_ = df_reglB_lowconf_fwd.query('annot_lowconf == \"True\"')[['chrom', 'start', 'end']]\n",
    "\n",
    "gv_f = yp.GenomicVenn2(\n",
    "    BedTool.from_dataframe(df_a_),\n",
    "    BedTool.from_dataframe(df_b_),\n",
    "    label_a='Dec fwd promoters',\n",
    "    label_b='Apr fwd low-confidence promoters',\n",
    ")\n",
    "gv_f.plot()"
   ]
  },
  {
   "cell_type": "code",
   "execution_count": null,
   "metadata": {
    "ExecuteTime": {
     "end_time": "2018-04-23T12:13:59.609157Z",
     "start_time": "2018-04-23T12:13:59.529776Z"
    },
    "collapsed": true
   },
   "outputs": [],
   "source": [
    "gv_f.df_b_only"
   ]
  },
  {
   "cell_type": "code",
   "execution_count": null,
   "metadata": {
    "ExecuteTime": {
     "end_time": "2018-04-23T12:13:51.027540Z",
     "start_time": "2018-04-23T12:13:50.432567Z"
    },
    "collapsed": true
   },
   "outputs": [],
   "source": [
    "df_a_ = df_reglA.query('(annot_rev == \"coding_promoter\") | (annot_rev == \"pseudogene_promoter\")')[['chrom', 'start', 'end']]\n",
    "df_b_ = df_reglB_lowconf_rev.query('annot_lowconf == \"True\"')[['chrom', 'start', 'end']]\n",
    "\n",
    "gv_r = yp.GenomicVenn2(\n",
    "    BedTool.from_dataframe(df_a_),\n",
    "    BedTool.from_dataframe(df_b_),\n",
    "    label_a='Dec rev promoters',\n",
    "    label_b='Apr rev low-confidence promoters',\n",
    ")\n",
    "gv_r.plot()"
   ]
  },
  {
   "cell_type": "code",
   "execution_count": null,
   "metadata": {
    "ExecuteTime": {
     "end_time": "2018-04-23T20:34:41.872558Z",
     "start_time": "2018-04-23T20:34:37.173230Z"
    },
    "collapsed": true
   },
   "outputs": [],
   "source": [
    "fp_reglA = 'annot/S2_regulatory_annotation/S2_regulatory_annotation_6Dec17.bed'\n",
    "fp_reglB = 'annot/S2_regulatory_annotation/S2_regulatory_annotation_20Apr18.bed'\n",
    "fp_reglC = 'annot/S2_regulatory_annotation/S2_regulatory_annotation_22Apr18.bed'\n",
    "fp_reglD = 'annot/S2_regulatory_annotation/S2_regulatory_annotation_23Apr18.bed'\n",
    "fp_reglE = 'annot/S2_regulatory_annotation/S2_regulatory_annotation_23A_Apr18.bed'\n",
    "df_reglA = read_gffbed(fp_reglA)\n",
    "df_reglB = read_gffbed(fp_reglB)\n",
    "df_reglC = read_gffbed(fp_reglC)\n",
    "df_reglD = read_gffbed(fp_reglD)\n",
    "df_reglE = read_gffbed(fp_reglE)"
   ]
  },
  {
   "cell_type": "code",
   "execution_count": null,
   "metadata": {
    "ExecuteTime": {
     "end_time": "2018-04-23T20:37:42.513359Z",
     "start_time": "2018-04-23T20:37:39.250716Z"
    },
    "collapsed": true
   },
   "outputs": [],
   "source": [
    "def overlap_(df_A, df_B):\n",
    "    return sum((df_A['annot_fwd'] == \"coding_promoter\") & (df_B['annot_fwd'] == \"coding_promoter\")) + \\\n",
    "           sum((df_A['annot_rev'] == \"coding_promoter\") & (df_B['annot_rev'] == \"coding_promoter\"))\n",
    "\n",
    "print('6Dec', overlap_(df_reglA, df_reglA), overlap_(df_reglA, df_reglB), overlap_(df_reglA, df_reglC), overlap_(df_reglA, df_reglD), overlap_(df_reglA, df_reglE), len(df_reglA.query('annot==\"coding_promoter\"')))\n",
    "print('20Apr18', overlap_(df_reglB, df_reglA), overlap_(df_reglB, df_reglB), overlap_(df_reglB, df_reglC), overlap_(df_reglB, df_reglD), overlap_(df_reglB, df_reglE), len(df_reglB.query('annot==\"coding_promoter\"')))\n",
    "print('22Apr18', overlap_(df_reglC, df_reglA), overlap_(df_reglC, df_reglB), overlap_(df_reglC, df_reglC), overlap_(df_reglC, df_reglD), overlap_(df_reglC, df_reglE), len(df_reglC.query('annot==\"coding_promoter\"')))\n",
    "print('23Apr18', overlap_(df_reglD, df_reglA), overlap_(df_reglD, df_reglB), overlap_(df_reglD, df_reglC), overlap_(df_reglD, df_reglD), overlap_(df_reglD, df_reglE), len(df_reglD.query('annot==\"coding_promoter\"')))\n",
    "print('23A_Apr18', overlap_(df_reglE, df_reglA), overlap_(df_reglE, df_reglB), overlap_(df_reglE, df_reglC), overlap_(df_reglE, df_reglD), overlap_(df_reglE, df_reglE), len(df_reglE.query('annot==\"coding_promoter\"')))"
   ]
  },
  {
   "cell_type": "code",
   "execution_count": null,
   "metadata": {
    "ExecuteTime": {
     "end_time": "2018-04-23T20:18:14.481379Z",
     "start_time": "2018-04-23T20:18:14.399210Z"
    },
    "collapsed": true
   },
   "outputs": [],
   "source": [
    "df_reglD[(df_reglD['annot_fwd'] == 'coding_promoter') & \\\n",
    "         (df_reglE['annot_fwd'] != 'coding_promoter')][['chrom', 'start', 'end']].sample(10)"
   ]
  },
  {
   "cell_type": "code",
   "execution_count": null,
   "metadata": {
    "ExecuteTime": {
     "end_time": "2018-04-23T20:18:17.587531Z",
     "start_time": "2018-04-23T20:18:17.502341Z"
    },
    "collapsed": true
   },
   "outputs": [],
   "source": [
    "df_reglD[(df_reglD['annot_rev'] == 'coding_promoter') & \\\n",
    "         (df_reglE['annot_rev'] != 'coding_promoter')][['chrom', 'start', 'end']].sample(10)"
   ]
  },
  {
   "cell_type": "code",
   "execution_count": 28,
   "metadata": {
    "ExecuteTime": {
     "end_time": "2018-04-25T21:20:21.049098Z",
     "start_time": "2018-04-25T21:20:07.769644Z"
    },
    "code_folding": [
     0,
     16
    ]
   },
   "outputs": [
    {
     "name": "stderr",
     "output_type": "stream",
     "text": [
      "/mnt/home1/ahringer/jj374/relmapping/scripts/yarp/yarp.py:400: FutureWarning: convert_objects is deprecated.  Use the data-type specific converters pd.to_datetime, pd.to_timedelta and pd.to_numeric.\n",
      "  df_name = df_name.convert_objects(convert_numeric=True)\n"
     ]
    },
    {
     "name": "stdout",
     "output_type": "stream",
     "text": [
      "187 annot/S2_regulatory_annotation/S2_regulatory_annotation_Apr24c_to_Apr25a_coding_promoter_lost_fwd.bed\n",
      "179 annot/S2_regulatory_annotation/S2_regulatory_annotation_Apr24c_to_Apr25a_coding_promoter_lost_rev.bed\n",
      "21 21\n",
      "21 annot/S2_regulatory_annotation/S2_regulatory_annotation_Apr24c_to_Apr25a_coding_promoter_gained_fwd.bed\n",
      "21 annot/S2_regulatory_annotation/S2_regulatory_annotation_Apr24c_to_Apr25a_coding_promoter_gained_rev.bed\n",
      "6 annot/S2_regulatory_annotation/S2_regulatory_annotation_Apr25a_to_Apr25b_coding_promoter_lost_fwd.bed\n",
      "9 annot/S2_regulatory_annotation/S2_regulatory_annotation_Apr25a_to_Apr25b_coding_promoter_lost_rev.bed\n",
      "79 72\n",
      "79 annot/S2_regulatory_annotation/S2_regulatory_annotation_Apr25a_to_Apr25b_coding_promoter_gained_fwd.bed\n",
      "72 annot/S2_regulatory_annotation/S2_regulatory_annotation_Apr25a_to_Apr25b_coding_promoter_gained_rev.bed\n"
     ]
    }
   ],
   "source": [
    "def diff_coding_promoter_lost(verA, verB):\n",
    "    fp_reglA = 'annot/S2_regulatory_annotation/S2_regulatory_annotation_%s.bed' % (verA,)\n",
    "    fp_reglB = 'annot/S2_regulatory_annotation/S2_regulatory_annotation_%s.bed' % (verB,)\n",
    "    df_reglA = read_gffbed(fp_reglA)\n",
    "    df_reglB = read_gffbed(fp_reglB)\n",
    "    m_AtoB_fwd = (df_reglA['annot_fwd'] == 'coding_promoter') & (df_reglB['annot_fwd'] != 'coding_promoter')\n",
    "    m_AtoB_rev = (df_reglA['annot_rev'] == 'coding_promoter') & (df_reglB['annot_rev'] != 'coding_promoter')\n",
    "    #print(sum(m_AtoB_fwd), sum(m_AtoB_rev))\n",
    "\n",
    "    fp_fwd = 'annot/S2_regulatory_annotation/S2_regulatory_annotation_%s_to_%s_coding_promoter_lost_fwd.bed' % (verA, verB)\n",
    "    fp_rev = 'annot/S2_regulatory_annotation/S2_regulatory_annotation_%s_to_%s_coding_promoter_lost_rev.bed' % (verA, verB)\n",
    "    df_reglA[m_AtoB_fwd][['chrom', 'start', 'end']].to_csv(fp_fwd, index=False, header=False, sep='\\t')\n",
    "    df_reglB[m_AtoB_rev][['chrom', 'start', 'end']].to_csv(fp_rev, index=False, header=False, sep='\\t')\n",
    "    !wc -l {fp_fwd}\n",
    "    !wc -l {fp_rev}\n",
    "\n",
    "def diff_coding_promoter_gained(verA, verB):\n",
    "    fp_reglA = 'annot/S2_regulatory_annotation/S2_regulatory_annotation_%s.bed' % (verA,)\n",
    "    fp_reglB = 'annot/S2_regulatory_annotation/S2_regulatory_annotation_%s.bed' % (verB,)\n",
    "    df_reglA = read_gffbed(fp_reglA)\n",
    "    df_reglB = read_gffbed(fp_reglB)\n",
    "    m_AtoB_fwd = (df_reglA['annot_fwd'] != 'coding_promoter') & (df_reglB['annot_fwd'] == 'coding_promoter')\n",
    "    m_AtoB_rev = (df_reglA['annot_rev'] != 'coding_promoter') & (df_reglB['annot_rev'] == 'coding_promoter')\n",
    "    print(sum(m_AtoB_fwd), sum(m_AtoB_rev))\n",
    "\n",
    "    fp_fwd = 'annot/S2_regulatory_annotation/S2_regulatory_annotation_%s_to_%s_coding_promoter_gained_fwd.bed' % (verA, verB)\n",
    "    fp_rev = 'annot/S2_regulatory_annotation/S2_regulatory_annotation_%s_to_%s_coding_promoter_gained_rev.bed' % (verA, verB)\n",
    "    df_reglA[m_AtoB_fwd][['chrom', 'start', 'end']].to_csv(fp_fwd, index=False, header=False, sep='\\t')\n",
    "    df_reglB[m_AtoB_rev][['chrom', 'start', 'end']].to_csv(fp_rev, index=False, header=False, sep='\\t')\n",
    "    !wc -l {fp_fwd}\n",
    "    !wc -l {fp_rev}\n",
    "\n",
    "#diff_coding_promoter_lost('23Apr18', '23A_Apr18')\n",
    "#diff_coding_promoter_gained('23Apr18', '23A_Apr18')\n",
    "#diff_coding_promoter_lost('Apr24a', 'Apr24b')\n",
    "#diff_coding_promoter_gained('Apr24a', 'Apr24b')\n",
    "#diff_coding_promoter_lost('Apr24b', 'Apr24c')\n",
    "#diff_coding_promoter_gained('Apr24b', 'Apr24c')\n",
    "#diff_coding_promoter_lost('Apr24c', 'TMP')\n",
    "#diff_coding_promoter_gained('Apr24c', 'TMP')\n",
    "diff_coding_promoter_lost('Apr24c', 'Apr25a')\n",
    "diff_coding_promoter_gained('Apr24c', 'Apr25a')\n",
    "diff_coding_promoter_lost('Apr25a', 'Apr25b')\n",
    "diff_coding_promoter_gained('Apr25a', 'Apr25b')"
   ]
  },
  {
   "cell_type": "code",
   "execution_count": null,
   "metadata": {
    "ExecuteTime": {
     "end_time": "2018-04-23T12:56:06.151866Z",
     "start_time": "2018-04-23T12:56:05.228692Z"
    },
    "collapsed": true
   },
   "outputs": [],
   "source": [
    "fp_ = 'annot/S2_regulatory_annotation/S2_regulatory_annotation_6Dec17_to_22Apr18_lost_promoters_fwd.bed'\n",
    "df_reglA[(df_reglA['annot_fwd'] == 'coding_promoter') & (df_reglC['annot_fwd'] != 'coding_promoter')]\\\n",
    "    [['chrom', 'start', 'end']].to_csv(fp_, index=False, header=False, sep='\\t')\n",
    "!wc -l {fp_}\n",
    "\n",
    "fp_ = 'annot/S2_regulatory_annotation/S2_regulatory_annotation_6Dec17_to_22Apr18_lost_promoters_rev.bed'\n",
    "df_reglA[(df_reglA['annot_rev'] == 'coding_promoter') & (df_reglC['annot_rev'] != 'coding_promoter')]\\\n",
    "    [['chrom', 'start', 'end']].to_csv(fp_, index=False, header=False, sep='\\t')\n",
    "!wc -l {fp_}\n",
    "\n",
    "fp_ = 'annot/S2_regulatory_annotation/S2_regulatory_annotation_6Dec17_to_22Apr18_gained_promoters_fwd.bed'\n",
    "df_reglA[(df_reglA['annot_fwd'] != 'coding_promoter') & (df_reglC['annot_fwd'] == 'coding_promoter')]\\\n",
    "    [['chrom', 'start', 'end']].to_csv(fp_, index=False, header=False, sep='\\t')\n",
    "!wc -l {fp_}\n",
    "\n",
    "fp_ = 'annot/S2_regulatory_annotation/S2_regulatory_annotation_6Dec17_to_22Apr18_gained_promoters_rev.bed'\n",
    "df_reglA[(df_reglA['annot_rev'] != 'coding_promoter') & (df_reglC['annot_rev'] == 'coding_promoter')]\\\n",
    "    [['chrom', 'start', 'end']].to_csv(fp_, index=False, header=False, sep='\\t')\n",
    "!wc -l {fp_}"
   ]
  },
  {
   "cell_type": "code",
   "execution_count": null,
   "metadata": {
    "ExecuteTime": {
     "end_time": "2018-04-23T14:34:48.322344Z",
     "start_time": "2018-04-23T14:34:47.528605Z"
    },
    "collapsed": true
   },
   "outputs": [],
   "source": [
    "fp_ = 'annot/S2_regulatory_annotation/S2_regulatory_annotation_6Dec17_to_23Apr18_lost_promoters_fwd.bed'\n",
    "df_reglA[(df_reglA['annot_fwd'] == 'coding_promoter') & (df_reglC['annot_fwd'] != 'coding_promoter')]\\\n",
    "    [['chrom', 'start', 'end']].to_csv(fp_, index=False, header=False, sep='\\t')\n",
    "!wc -l {fp_}\n",
    "\n",
    "fp_ = 'annot/S2_regulatory_annotation/S2_regulatory_annotation_6Dec17_to_23Apr18_lost_promoters_rev.bed'\n",
    "df_reglA[(df_reglA['annot_rev'] == 'coding_promoter') & (df_reglC['annot_rev'] != 'coding_promoter')]\\\n",
    "    [['chrom', 'start', 'end']].to_csv(fp_, index=False, header=False, sep='\\t')\n",
    "!wc -l {fp_}\n",
    "\n",
    "fp_ = 'annot/S2_regulatory_annotation/S2_regulatory_annotation_6Dec17_to_23Apr18_gained_promoters_fwd.bed'\n",
    "df_reglA[(df_reglA['annot_fwd'] != 'coding_promoter') & (df_reglC['annot_fwd'] == 'coding_promoter')]\\\n",
    "    [['chrom', 'start', 'end']].to_csv(fp_, index=False, header=False, sep='\\t')\n",
    "!wc -l {fp_}\n",
    "\n",
    "fp_ = 'annot/S2_regulatory_annotation/S2_regulatory_annotation_6Dec17_to_23Apr18_gained_promoters_rev.bed'\n",
    "df_reglA[(df_reglA['annot_rev'] != 'coding_promoter') & (df_reglC['annot_rev'] == 'coding_promoter')]\\\n",
    "    [['chrom', 'start', 'end']].to_csv(fp_, index=False, header=False, sep='\\t')\n",
    "!wc -l {fp_}"
   ]
  },
  {
   "cell_type": "code",
   "execution_count": 7,
   "metadata": {
    "ExecuteTime": {
     "end_time": "2018-04-25T19:28:37.069411Z",
     "start_time": "2018-04-25T19:28:35.588762Z"
    }
   },
   "outputs": [
    {
     "name": "stderr",
     "output_type": "stream",
     "text": [
      "/mnt/home1/ahringer/jj374/relmapping/scripts/yarp/yarp.py:400: FutureWarning: convert_objects is deprecated.  Use the data-type specific converters pd.to_datetime, pd.to_timedelta and pd.to_numeric.\n",
      "  df_name = df_name.convert_objects(convert_numeric=True)\n"
     ]
    },
    {
     "data": {
      "text/html": [
       "<div>\n",
       "<style>\n",
       "    .dataframe thead tr:only-child th {\n",
       "        text-align: right;\n",
       "    }\n",
       "\n",
       "    .dataframe thead th {\n",
       "        text-align: left;\n",
       "    }\n",
       "\n",
       "    .dataframe tbody tr th {\n",
       "        vertical-align: top;\n",
       "    }\n",
       "</style>\n",
       "<table border=\"1\" class=\"dataframe\">\n",
       "  <thead>\n",
       "    <tr style=\"text-align: right;\">\n",
       "      <th></th>\n",
       "      <th>chrom</th>\n",
       "      <th>start</th>\n",
       "      <th>end</th>\n",
       "      <th>score</th>\n",
       "      <th>strand</th>\n",
       "      <th>thickStart</th>\n",
       "      <th>thickEnd</th>\n",
       "      <th>itemRgb</th>\n",
       "      <th>Name</th>\n",
       "      <th>annot</th>\n",
       "      <th>annot_detailed_fwd</th>\n",
       "      <th>annot_detailed_rev</th>\n",
       "      <th>annot_fwd</th>\n",
       "      <th>annot_rev</th>\n",
       "    </tr>\n",
       "  </thead>\n",
       "  <tbody>\n",
       "    <tr>\n",
       "      <th>13518</th>\n",
       "      <td>chrIII</td>\n",
       "      <td>1267017</td>\n",
       "      <td>1267168</td>\n",
       "      <td>0</td>\n",
       "      <td>+</td>\n",
       "      <td>1267017</td>\n",
       "      <td>1267168</td>\n",
       "      <td>NaN</td>\n",
       "      <td></td>\n",
       "      <td>unknown_promoter</td>\n",
       "      <td>unknown_promoter_jump_incr</td>\n",
       "      <td>no_transcription</td>\n",
       "      <td>unknown_promoter</td>\n",
       "      <td>no_transcription</td>\n",
       "    </tr>\n",
       "    <tr>\n",
       "      <th>21201</th>\n",
       "      <td>chrIV</td>\n",
       "      <td>5961399</td>\n",
       "      <td>5961550</td>\n",
       "      <td>0</td>\n",
       "      <td>+</td>\n",
       "      <td>5961399</td>\n",
       "      <td>5961550</td>\n",
       "      <td>NaN</td>\n",
       "      <td>(unc-44)</td>\n",
       "      <td>unknown_promoter</td>\n",
       "      <td>unknown_promoter_jump_incr</td>\n",
       "      <td>no_transcription</td>\n",
       "      <td>unknown_promoter</td>\n",
       "      <td>no_transcription</td>\n",
       "    </tr>\n",
       "    <tr>\n",
       "      <th>33858</th>\n",
       "      <td>chrX</td>\n",
       "      <td>1541202</td>\n",
       "      <td>1541353</td>\n",
       "      <td>0</td>\n",
       "      <td>+</td>\n",
       "      <td>1541202</td>\n",
       "      <td>1541353</td>\n",
       "      <td>NaN</td>\n",
       "      <td>(K06A9.3)</td>\n",
       "      <td>unknown_promoter</td>\n",
       "      <td>unknown_promoter_jump_incr</td>\n",
       "      <td>transcription_initiation</td>\n",
       "      <td>unknown_promoter</td>\n",
       "      <td>transcription_initiation</td>\n",
       "    </tr>\n",
       "    <tr>\n",
       "      <th>32234</th>\n",
       "      <td>chrV</td>\n",
       "      <td>17714437</td>\n",
       "      <td>17714588</td>\n",
       "      <td>0</td>\n",
       "      <td>-</td>\n",
       "      <td>17714437</td>\n",
       "      <td>17714588</td>\n",
       "      <td>NaN</td>\n",
       "      <td>twk-33</td>\n",
       "      <td>coding_promoter</td>\n",
       "      <td>unknown_promoter_jump_incr</td>\n",
       "      <td>coding_promoter_jump</td>\n",
       "      <td>unknown_promoter</td>\n",
       "      <td>coding_promoter</td>\n",
       "    </tr>\n",
       "    <tr>\n",
       "      <th>11464</th>\n",
       "      <td>chrII</td>\n",
       "      <td>11485248</td>\n",
       "      <td>11485399</td>\n",
       "      <td>0</td>\n",
       "      <td>-</td>\n",
       "      <td>11485248</td>\n",
       "      <td>11485399</td>\n",
       "      <td>NaN</td>\n",
       "      <td>twk-5</td>\n",
       "      <td>coding_promoter</td>\n",
       "      <td>unknown_promoter_jump_incr</td>\n",
       "      <td>coding_promoter_jump</td>\n",
       "      <td>unknown_promoter</td>\n",
       "      <td>coding_promoter</td>\n",
       "    </tr>\n",
       "    <tr>\n",
       "      <th>22434</th>\n",
       "      <td>chrIV</td>\n",
       "      <td>8937884</td>\n",
       "      <td>8938035</td>\n",
       "      <td>0</td>\n",
       "      <td>+</td>\n",
       "      <td>8937884</td>\n",
       "      <td>8938035</td>\n",
       "      <td>NaN</td>\n",
       "      <td></td>\n",
       "      <td>unknown_promoter</td>\n",
       "      <td>unknown_promoter_jump_incr</td>\n",
       "      <td>no_transcription</td>\n",
       "      <td>unknown_promoter</td>\n",
       "      <td>no_transcription</td>\n",
       "    </tr>\n",
       "    <tr>\n",
       "      <th>25021</th>\n",
       "      <td>chrIV</td>\n",
       "      <td>15609918</td>\n",
       "      <td>15610069</td>\n",
       "      <td>0</td>\n",
       "      <td>.</td>\n",
       "      <td>15609918</td>\n",
       "      <td>15610069</td>\n",
       "      <td>NaN</td>\n",
       "      <td></td>\n",
       "      <td>unknown_promoter</td>\n",
       "      <td>unknown_promoter_jump_incr</td>\n",
       "      <td>unknown_promoter_jump_scap</td>\n",
       "      <td>unknown_promoter</td>\n",
       "      <td>unknown_promoter</td>\n",
       "    </tr>\n",
       "    <tr>\n",
       "      <th>27873</th>\n",
       "      <td>chrV</td>\n",
       "      <td>6741304</td>\n",
       "      <td>6741455</td>\n",
       "      <td>0</td>\n",
       "      <td>+</td>\n",
       "      <td>6741304</td>\n",
       "      <td>6741455</td>\n",
       "      <td>NaN</td>\n",
       "      <td>(T25F10.3)</td>\n",
       "      <td>unknown_promoter</td>\n",
       "      <td>unknown_promoter_jump_incr</td>\n",
       "      <td>no_transcription</td>\n",
       "      <td>unknown_promoter</td>\n",
       "      <td>no_transcription</td>\n",
       "    </tr>\n",
       "    <tr>\n",
       "      <th>36482</th>\n",
       "      <td>chrX</td>\n",
       "      <td>6536751</td>\n",
       "      <td>6536902</td>\n",
       "      <td>0</td>\n",
       "      <td>-</td>\n",
       "      <td>6536751</td>\n",
       "      <td>6536902</td>\n",
       "      <td>NaN</td>\n",
       "      <td>ilys-5</td>\n",
       "      <td>coding_promoter</td>\n",
       "      <td>unknown_promoter_jump_incr</td>\n",
       "      <td>coding_promoter_jump</td>\n",
       "      <td>unknown_promoter</td>\n",
       "      <td>coding_promoter</td>\n",
       "    </tr>\n",
       "    <tr>\n",
       "      <th>3368</th>\n",
       "      <td>chrI</td>\n",
       "      <td>7935017</td>\n",
       "      <td>7935168</td>\n",
       "      <td>0</td>\n",
       "      <td>+</td>\n",
       "      <td>7935017</td>\n",
       "      <td>7935168</td>\n",
       "      <td>NaN</td>\n",
       "      <td>(T22C1.1,nmy-2)</td>\n",
       "      <td>unknown_promoter</td>\n",
       "      <td>unknown_promoter_jump_incr</td>\n",
       "      <td>transcription_initiation</td>\n",
       "      <td>unknown_promoter</td>\n",
       "      <td>transcription_initiation</td>\n",
       "    </tr>\n",
       "  </tbody>\n",
       "</table>\n",
       "</div>"
      ],
      "text/plain": [
       "        chrom     start       end  score strand  thickStart  thickEnd  \\\n",
       "13518  chrIII   1267017   1267168      0      +     1267017   1267168   \n",
       "21201   chrIV   5961399   5961550      0      +     5961399   5961550   \n",
       "33858    chrX   1541202   1541353      0      +     1541202   1541353   \n",
       "32234    chrV  17714437  17714588      0      -    17714437  17714588   \n",
       "11464   chrII  11485248  11485399      0      -    11485248  11485399   \n",
       "22434   chrIV   8937884   8938035      0      +     8937884   8938035   \n",
       "25021   chrIV  15609918  15610069      0      .    15609918  15610069   \n",
       "27873    chrV   6741304   6741455      0      +     6741304   6741455   \n",
       "36482    chrX   6536751   6536902      0      -     6536751   6536902   \n",
       "3368     chrI   7935017   7935168      0      +     7935017   7935168   \n",
       "\n",
       "       itemRgb             Name             annot          annot_detailed_fwd  \\\n",
       "13518      NaN                   unknown_promoter  unknown_promoter_jump_incr   \n",
       "21201      NaN         (unc-44)  unknown_promoter  unknown_promoter_jump_incr   \n",
       "33858      NaN        (K06A9.3)  unknown_promoter  unknown_promoter_jump_incr   \n",
       "32234      NaN           twk-33   coding_promoter  unknown_promoter_jump_incr   \n",
       "11464      NaN            twk-5   coding_promoter  unknown_promoter_jump_incr   \n",
       "22434      NaN                   unknown_promoter  unknown_promoter_jump_incr   \n",
       "25021      NaN                   unknown_promoter  unknown_promoter_jump_incr   \n",
       "27873      NaN       (T25F10.3)  unknown_promoter  unknown_promoter_jump_incr   \n",
       "36482      NaN           ilys-5   coding_promoter  unknown_promoter_jump_incr   \n",
       "3368       NaN  (T22C1.1,nmy-2)  unknown_promoter  unknown_promoter_jump_incr   \n",
       "\n",
       "               annot_detailed_rev         annot_fwd                 annot_rev  \n",
       "13518            no_transcription  unknown_promoter          no_transcription  \n",
       "21201            no_transcription  unknown_promoter          no_transcription  \n",
       "33858    transcription_initiation  unknown_promoter  transcription_initiation  \n",
       "32234        coding_promoter_jump  unknown_promoter           coding_promoter  \n",
       "11464        coding_promoter_jump  unknown_promoter           coding_promoter  \n",
       "22434            no_transcription  unknown_promoter          no_transcription  \n",
       "25021  unknown_promoter_jump_scap  unknown_promoter          unknown_promoter  \n",
       "27873            no_transcription  unknown_promoter          no_transcription  \n",
       "36482        coding_promoter_jump  unknown_promoter           coding_promoter  \n",
       "3368     transcription_initiation  unknown_promoter  transcription_initiation  "
      ]
     },
     "execution_count": 7,
     "metadata": {},
     "output_type": "execute_result"
    }
   ],
   "source": [
    "fp_ = 'annot/S2_regulatory_annotation/S2_regulatory_annotation_TMP.bed'\n",
    "read_gffbed(fp_).query('annot_detailed_fwd == \"unknown_promoter_jump_incr\"').sample(10)"
   ]
  },
  {
   "cell_type": "code",
   "execution_count": null,
   "metadata": {
    "collapsed": true
   },
   "outputs": [],
   "source": []
  }
 ],
 "metadata": {
  "kernelspec": {
   "display_name": "Python 3",
   "language": "python",
   "name": "python3"
  },
  "language_info": {
   "codemirror_mode": {
    "name": "ipython",
    "version": 3
   },
   "file_extension": ".py",
   "mimetype": "text/x-python",
   "name": "python",
   "nbconvert_exporter": "python",
   "pygments_lexer": "ipython3",
   "version": "3.6.2"
  }
 },
 "nbformat": 4,
 "nbformat_minor": 2
}
