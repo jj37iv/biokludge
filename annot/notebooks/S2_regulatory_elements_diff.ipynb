{
 "cells": [
  {
   "cell_type": "code",
   "execution_count": 1,
   "metadata": {
    "ExecuteTime": {
     "end_time": "2018-04-19T16:07:11.448117Z",
     "start_time": "2018-04-19T16:07:06.063264Z"
    },
    "code_folding": [
     0
    ]
   },
   "outputs": [
    {
     "name": "stderr",
     "output_type": "stream",
     "text": [
      "/mnt/home3/jj374/anaconda36/lib/python3.6/site-packages/statsmodels/compat/pandas.py:56: FutureWarning: The pandas.core.datetools module is deprecated and will be removed in a future version. Please use the pandas.tseries module instead.\n",
      "  from pandas.core import datetools\n"
     ]
    },
    {
     "name": "stdout",
     "output_type": "stream",
     "text": [
      "os.getcwd(): /mnt/beegfs/scratch_copy/ahringer/jj374/lab/relmapping\n"
     ]
    }
   ],
   "source": [
    "# Initialise\n",
    "%run ~/relmapping/annot/notebooks/__init__.ipynb"
   ]
  },
  {
   "cell_type": "code",
   "execution_count": null,
   "metadata": {
    "ExecuteTime": {
     "start_time": "2018-04-19T16:43:12.335Z"
    }
   },
   "outputs": [],
   "source": [
    "# Load new annotation & test known corner cases\n",
    "fp_regl = 'annot/S2_regulatory_annotation/S2_regulatory_annotation.tsv'\n",
    "df_regl = pd.read_csv(fp_regl, sep='\\t')\n",
    "print('%d regions loaded' % (len(df_regl),))\n",
    "\n",
    "def check_(igvstr, **kwargs):\n",
    "    (chrom, start, end) = yp.parse_igvstr(igvstr)\n",
    "    pos = int((start + end) / 2)\n",
    "    df_ = df_regl.query('(chrom == \"%s\") & (start <= %d) & (%d < end)' % (chrom, pos, pos))\n",
    "    assert len(df_) == 1\n",
    "    for (k, v) in kwargs.items():\n",
    "        print('\\t'.join([igvstr, '%25s' % (k,), '%25s' % (v,), '%25s' % (df_[k].tolist()[0],)]))\n",
    "        assert df_[k].tolist()[0] == v\n",
    "\n",
    "#> rfc-4 (black element - promoter inside masked??)\n",
    "#> zen-4 (black element - should be promoter?)sonRNA, I guess could mask promoter\n",
    "#Rare but compelling cases of bidirectional promoters where one direction was protein-coding, and the other was an annotated non-coding RNA. Addressed by relaxing the non-coding RNA annotation. They're now treated more similarly to protein-coding annotations, so a site can be annotated as protein_coding on one strand, and snoRNA on the other strand. (Previously, any site that overlapped a non-coding RNA was excluded from any other annotation...)\n",
    "#> attf-2 (black element maybe promoter?)\n",
    "#Now annotated as a promoter for F09G2.2 (protein-coding gene, forward strabd), and F09G2.14 (snoRNA, reverse strand). Could also be a promoter for attf-2, but can't think of much one could do about this give current fragmented long cap data.\n",
    "check_('chrIV:6117863-6118043',\n",
    "       annot_fwd='coding_promoter', promoter_locus_id_fwd='zen-4',\n",
    "       annot_rev='non-coding_RNA', promoter_locus_id_rev='M03D4.78')\n",
    "\n",
    "## \"Dual\" coding/non-coding annotations: coding_promoter >> non-coding_RNA\n",
    "check_('chrIII:6971981-6972101', \n",
    "       annot_fwd='coding_promoter', promoter_locus_id_fwd='rfc-4',\n",
    "       annot_rev='coding_promoter', promoter_locus_id_rev='eef-1A.1') # alternative: mir-5549\n",
    "check_('chrV:7196589-7196718',\n",
    "       annot_fwd='coding_promoter', promoter_locus_id_fwd='F09G2.2',\n",
    "       annot_rev='coding_promoter', promoter_locus_id_rev='attf-2') # alternative: F09G2.14\n",
    "\n",
    "#> syx-4\n",
    "#Compelling promoters; captured by relaxing the short cap threshold for calling a promoter that overlaps a first exon to having a single reproducible cap stack.\n",
    "check_('chrII:13596635-13596738', annot_rev='coding_promoter', promoter_locus_id_rev='fbxc-23')\n",
    "#check_('chrIV:8457013-8457189', annot_fwd='coding_promoter', promoter_locus_id_fwd='syx-4')\n",
    "\n",
    "#> fbxc-15\n",
    "#Fixed by tweaking the long cap jump test.\n",
    "check_('chrII:979338-979455', annot_fwd='coding_promoter', promoter_locus_id_fwd='fbxc-15')\n",
    "\n",
    "#> sri-5 (promoter annotated to rsr-1 only)\n",
    "#> C25F9.6 (promoter annotate to C25F9.6 only) - looks like there is jump in txn?\n",
    "#> F08F3.8 (promoter annotated to acl-6 only) - looks like there is longcap signal\n",
    "#> rsd-2 (maybe one of the yellow elements promoter?) Looks like there is txn from furthest right yellow element\n",
    "#Weak outron signal; now captured by requiring 1 long cap tag in each replicate, and at least 3 tags total (previously at least 2 tags in both replicates).\n",
    "check_('chrI:11182502-11182624', annot_rev='coding_promoter', promoter_locus_id_rev='rsr-1')\n",
    "check_('chrV:19405507-19405707', \n",
    "       annot_fwd='coding_promoter', promoter_locus_id_fwd='C25F9.10',\n",
    "       annot_rev='coding_promoter', promoter_locus_id_rev='C25F9.6')\n",
    "check_('chrV:5433170-5433353', annot_fwd='coding_promoter', promoter_locus_id_fwd='acl-6')\n",
    "\n",
    "check_('chrIV:13541820-13541934', annot_rev='coding_promoter', promoter_locus_id_rev='rsd-2')\n",
    "\n",
    "# Sites downstream within a long exon that should not be called promoters\n",
    "check_('chrII:7150014-7150236', annot_fwd='no_transcription', annot_rev='transcription_initiation')\n",
    "check_('chrI:2890703-2890828',  annot_fwd='unknown_promoter', associated_locus_id='Y71F9AL.6,arx-1')\n",
    "check_('chrI:183422-183568', annot_fwd='transcription_initiation', associated_locus_id='atm-1')\n",
    "\n",
    "# \"Long distance\" ncRNA annotations (should not happen)\n",
    "check_('chrII:6891890-6892040', annot_fwd='unknown_promoter', annot_rev='transcription_initiation')\n",
    "\n",
    "# Located between multiple alternative transcripts on the forward strand; looks like a true promoter\n",
    "check_('chrII:6486433-6486590', \n",
    "        annot_fwd='coding_promoter', promoter_locus_id_fwd='T28D9.3', \n",
    "        annot_rev='coding_promoter', promoter_locus_id_rev='T28D9.9')\n",
    "\n",
    "# addressed via closest_exon_flank ~< 250 (ncRNA downstream of site; exon1 from upstream gets mis-assigned)\n",
    "check_('chrI:111191-111378', annot_fwd='non-coding_RNA', promoter_locus_id_fwd='F53G12.12')\n",
    "\n",
    "# examples near/around first exons -- pass via allowing incr test\n",
    "\n",
    "# Fwd strand promoter annotation is over two reverse strand gene bodies, not very compelling...\n",
    "#check_p('chrI:5486294-5486413', 'coding_promoter', 'coding_promoter', 'rpl-19', 'C09D4.3') # allow raft approach for downstream?\n",
    "\n",
    "# Non-coding RNAs within outrons should not 'block' upstream promoter annotation\n",
    "check_('chrI:13324560-13324714', annot_fwd='coding_promoter', promoter_locus_id_fwd='gcy-35') # Reverse strand shows weak-gapped-but-compelling long cap?\n",
    "check_('chrI:13372998-13373215', annot_rev='coding_promoter', promoter_locus_id_rev='sptf-3')\n",
    "check_('chrIII:6971981-6972101', annot_fwd='coding_promoter', promoter_locus_id_fwd='rfc-4')\n",
    "check_('chrIII:6971981-6972101', annot_rev='coding_promoter', promoter_locus_id_rev='eef-1A.1')\n",
    "check_('chrI:13372998-13373215', annot_rev='coding_promoter', promoter_locus_id_rev='sptf-3')\n",
    "\n",
    "# Long cap jump -- weak regions\n",
    "check_('chrI:14316482-14316632', annot_fwd='pseudogene_promoter', promoter_locus_id_fwd='F49B2.4') # Also, reverse strand shows weak-gapped-but-compelling long cap (however no short cap!)?\n",
    "check_('chrII:14437624-14437774', annot_fwd='unknown_promoter')\n",
    "check_('chrI:5296989-5297097', annot_rev='coding_promoter', promoter_locus_id_rev='erm-1')\n",
    "\n",
    "# Short cap 100..125bp from peak accessibility...\n",
    "check_('chrI:6341909-6342059', annot_rev='unknown_promoter')\n",
    "check_('chrII:14468955-14469118', annot_fwd='unknown_promoter')\n",
    "# Short cap >125bp from peak accessibility...\n",
    "#check_('chrII:14468955-14469118', annot_rev='unknown_promoter')\n",
    "\n",
    "# Promoters initiating transcription within the UTR, downstream of the annotated TSS\n",
    "check_('chrI:6011491-6011614', annot_rev='coding_promoter', promoter_locus_id_rev='rnf-1')\n",
    "check_('chrI:7643236-7643386', annot_rev='coding_promoter', promoter_locus_id_rev='ncbp-2')\n",
    "check_('chrV:1548208-1548358', annot_fwd='coding_promoter', promoter_locus_id_fwd='F52F10.2')\n",
    "check_('chrV:12993480-12993612', annot_fwd='coding_promoter', promoter_locus_id_fwd='dsl-7')\n",
    "check_('chrII:2320231-2320381', annot_fwd='coding_promoter', promoter_locus_id_fwd='ZK1240.3')\n",
    "check_('chrI:5485932-5486082', annot_rev='coding_promoter', promoter_locus_id_rev='rpl-19')\n",
    "check_('chrV:16262064-16262178', annot_fwd='coding_promoter', promoter_locus_id_fwd='nhr-127')\n",
    "check_('chrII:6775038-6775173', annot_rev='coding_promoter', promoter_locus_id_rev='agr-1')\n",
    "check_('chrII:2296175-2296310', annot_rev='coding_promoter', promoter_locus_id_rev='fbxc-25')\n",
    "\n",
    "# Various weak-ish/corner cases where a clear unique promoter candidate exists\n",
    "check_('chrI:5509301-5509451', annot_rev='coding_promoter', promoter_locus_id_rev='zipt-11') # upstream long cap overlaps upstream gene 3' end\n",
    "check_('chrII:2772185-2772335', annot_rev='coding_promoter', promoter_locus_id_rev='sdz-10')\n",
    "check_('chrV:5433187-5433337', annot_rev='coding_promoter', promoter_locus_id_rev='F08F3.8') # distal; site has no long cap (but has continuous txn)\n",
    "check_('chrII:1818315-1818462', annot_rev='coding_promoter', promoter_locus_id_rev='fbxb-10') # short cap mode within first exon\n",
    "#check_('chrII:13596635-13596738', annot_rev='coding_promoter', promoter_locus_id_rev='csc-1') # \"distal\"; no scap\n",
    "check_('chrI:11182502-11182624', annot_fwd='coding_promoter', promoter_locus_id_fwd='sri-5') # no short cap\n",
    "check_('chrI:11182502-11182624', annot_rev='coding_promoter', promoter_locus_id_rev='rsr-1')\n",
    "check_('chrV:5433170-5433353', annot_rev='coding_promoter', promoter_locus_id_rev='F08F3.8') # no short cap\n",
    "check_('chrI:13376619-13376731', annot_fwd='coding_promoter', promoter_locus_id_fwd='C01A2.9') # should be detected in d13_fwd -- padj 0.32, missed\n",
    "\n",
    "# Very compelling jump in emb that's disregarded as short cap mode slightly further than 50bp\n",
    "check_('chrII:1818315-1818462', annot_rev='coding_promoter', promoter_locus_id_rev='fbxb-10') # short cap within 1st exon\n",
    "check_('chrII:1818315-1818462', annot_fwd='unknown_promoter')\n",
    "\n",
    "# pseudogene promoters without short cap!\n",
    "check_('chrII:14563893-14564084', annot_rev='pseudogene_promoter', promoter_locus_id_rev='C01G12.12')\n",
    "\n",
    "# Additional weak cases\n",
    "check_('chrV:706559-706684', annot_fwd='coding_promoter', promoter_locus_id_fwd='srbc-38')"
   ]
  },
  {
   "cell_type": "code",
   "execution_count": null,
   "metadata": {
    "ExecuteTime": {
     "start_time": "2018-04-18T10:10:05.095Z"
    },
    "code_folding": [],
    "collapsed": true
   },
   "outputs": [],
   "source": [
    "# Differences to previous github version\n",
    "#fp_head_bed = 'annot/S2_regulatory_annotation/S2_regulatory_annotation.bed_HEAD.bed'\n",
    "#fp_head_tsv = 'annot/S2_regulatory_annotation/S2_regulatory_annotation.tsv_HEAD.tsv'\n",
    "#!git show HEAD:{fp_regl} > {fp_head_tsv}\n",
    "#!git show HEAD:annot/S2_regulatory_annotation/S2_regulatory_annotation.bed > {fp_head_bed}\n",
    "\n",
    "# Diff against a specific earlier version\n",
    "#fp_head_bed = 'annot/S2_regulatory_annotation/S2_regulatory_annotation.bed_1030.bed'\n",
    "#fp_head_tsv = 'annot/S2_regulatory_annotation/S2_regulatory_annotation.tsv_1030.tsv'\n",
    "#!git show 2040a6:annot/S2_regulatory_annotation/S2_regulatory_annotation.bed > {fp_head_bed}\n",
    "#!git show 2040a6:annot/S2_regulatory_annotation/S2_regulatory_annotation.tsv > {fp_head_tsv}\n",
    "\n",
    "fp_head_bed = 'annot/S2_regulatory_annotation/S2_regulatory_annotation_6Dec17.bed'\n",
    "fp_head_tsv = 'annot/S2_regulatory_annotation/S2_regulatory_annotation_6Dec17.tsv'\n",
    "\n",
    "df_head = pd.read_csv(fp_head_tsv, sep='\\t')\n",
    "m_diff_ = (df_head['annot_fwd'] != df_regl['annot_fwd']) | (df_head['annot_rev'] != df_regl['annot_rev'])# \\\n",
    "#| ((df_head['promoter_gene_id_fwd'] != df_regl['promoter_gene_id_fwd'])) \\\n",
    "#| ((df_head['promoter_gene_id_rev'] != df_regl['promoter_gene_id_rev'])) \\\n",
    "#| ((df_head['associated_gene_id'] != df_regl['associated_gene_id']))\n",
    "print('%d regions annotated differently compared to last commit' % (sum(m_diff_)))"
   ]
  },
  {
   "cell_type": "code",
   "execution_count": null,
   "metadata": {
    "ExecuteTime": {
     "start_time": "2018-04-18T10:10:05.098Z"
    },
    "code_folding": [
     0
    ],
    "collapsed": true,
    "scrolled": true
   },
   "outputs": [],
   "source": [
    "# Randomly sample altered regions\n",
    "df_diff = df_regl[['chrom', 'start', 'end']].copy()\n",
    "df_diff['label_head'] = df_head['label']\n",
    "df_diff['label_regl'] = df_regl['label']\n",
    "df_diff['annot_rev_head'] = df_head['annot_rev']\n",
    "df_diff['annot_rev_regl'] = df_regl['annot_rev']\n",
    "df_diff['annot_fwd_head'] = df_head['annot_fwd']\n",
    "df_diff['annot_fwd_regl'] = df_regl['annot_fwd']\n",
    "yp.df_sample(df_diff.loc[m_diff_], 50)"
   ]
  },
  {
   "cell_type": "code",
   "execution_count": null,
   "metadata": {
    "ExecuteTime": {
     "start_time": "2018-04-18T10:10:05.100Z"
    },
    "code_folding": [
     0
    ],
    "collapsed": true
   },
   "outputs": [],
   "source": [
    "# Write a .bed-file of all the regions that changed\n",
    "fp_diff = 'annot/S2_regulatory_annotation/S2_regulatory_annotation_diff.bed'\n",
    "df_diff[m_diff_][['chrom', 'start', 'end']].to_csv(fp_diff, index=False, header=False, sep='\\t')\n",
    "!wc -l {fp_diff}"
   ]
  },
  {
   "cell_type": "markdown",
   "metadata": {},
   "source": [
    "Possible additional improvements..."
   ]
  },
  {
   "cell_type": "code",
   "execution_count": null,
   "metadata": {
    "ExecuteTime": {
     "start_time": "2018-04-18T10:10:05.102Z"
    },
    "code_folding": [
     0
    ],
    "collapsed": true
   },
   "outputs": [],
   "source": [
    "# exon2 overlap rule is too conservative & masks even when txn clearly does not originate from exon\n",
    "# => test for jump/incr at exon boundary & discard from annotation only if it tests positive\n",
    "#check_annot_summary('chrIV:13588263-13588441', 'Y45F10B.12') trans-spliced promoter in L4?"
   ]
  },
  {
   "cell_type": "code",
   "execution_count": null,
   "metadata": {
    "ExecuteTime": {
     "start_time": "2018-04-18T10:10:05.103Z"
    },
    "code_folding": [
     0
    ],
    "collapsed": true
   },
   "outputs": [],
   "source": [
    "# extra long outrons???\n",
    "# snt-2 has a distal promoter spanning 40kb and multiple genes (chrIII:787,433-829,218)\n",
    "# => cut-off at e.g. 10kb?\n",
    "#check_annot_summary('chrIII:828052-828187', '??')\n",
    "#chrIII:4369629-4369711"
   ]
  },
  {
   "cell_type": "code",
   "execution_count": null,
   "metadata": {
    "ExecuteTime": {
     "start_time": "2018-04-18T10:10:05.105Z"
    },
    "code_folding": [],
    "collapsed": true
   },
   "outputs": [],
   "source": [
    "\n",
    "#check_annot_summary('chrII:11371902-11372117', '(C33B4.2)') # short cap 100bp downstream of annotated coding region\n",
    "#check_annot_summary('chrI:5485952-5486062', 'rpl-19') # promoter assigned to un-translated tiny exon; scap not align\n",
    "#check_annot_summary('chrII:11347905-11348076', 'B0491.6 / B0491.1') # long UTR; short cap precedes TSS\n",
    "#check_annot_sumary('chrII:1818315-1818462', 'fbxb-10') # true promoter; scap ~60bp chrII:1821387-1821512\n",
    "#check_annot_summary('chrIII:5876290-5876433', 'aldo-2')"
   ]
  },
  {
   "cell_type": "code",
   "execution_count": null,
   "metadata": {
    "ExecuteTime": {
     "start_time": "2018-04-18T10:10:05.107Z"
    },
    "code_folding": [
     0
    ],
    "collapsed": true
   },
   "outputs": [],
   "source": [
    "#> lir-2 (green element may be promoter?) Looks like a promoter, I think\n",
    "#check_annot_summary('chrII:7667887-7668072', 'lir-2') # Tricky region, as short cap does not align with 5'"
   ]
  }
 ],
 "metadata": {
  "kernelspec": {
   "display_name": "Python 3",
   "language": "python",
   "name": "python3"
  },
  "language_info": {
   "codemirror_mode": {
    "name": "ipython",
    "version": 3
   },
   "file_extension": ".py",
   "mimetype": "text/x-python",
   "name": "python",
   "nbconvert_exporter": "python",
   "pygments_lexer": "ipython3",
   "version": "3.6.2"
  }
 },
 "nbformat": 4,
 "nbformat_minor": 2
}
