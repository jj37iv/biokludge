{
 "cells": [
  {
   "cell_type": "code",
   "execution_count": 1,
   "metadata": {
    "ExecuteTime": {
     "end_time": "2017-12-06T09:17:09.735515Z",
     "start_time": "2017-12-06T09:17:04.694560Z"
    }
   },
   "outputs": [
    {
     "name": "stderr",
     "output_type": "stream",
     "text": [
      "/mnt/home3/jj374/anaconda36/lib/python3.6/site-packages/statsmodels/compat/pandas.py:56: FutureWarning: The pandas.core.datetools module is deprecated and will be removed in a future version. Please use the pandas.tseries module instead.\n",
      "  from pandas.core import datetools\n"
     ]
    },
    {
     "name": "stdout",
     "output_type": "stream",
     "text": [
      "os.getcwd(): /mnt/b2/scratch/ahringer/jj374/lab/relmapping\n"
     ]
    }
   ],
   "source": [
    "%run ~/relmapping/annot/notebooks/__init__.ipynb"
   ]
  },
  {
   "cell_type": "code",
   "execution_count": 2,
   "metadata": {
    "ExecuteTime": {
     "end_time": "2017-12-06T09:17:15.434958Z",
     "start_time": "2017-12-06T09:17:13.060554Z"
    }
   },
   "outputs": [
    {
     "name": "stdout",
     "output_type": "stream",
     "text": [
      "42245 42245\n"
     ]
    }
   ],
   "source": [
    "fp_counts = 'annot/S2_regulatory_annotation/_lcap_jump/lcap_counts.tsv'\n",
    "fp_deseq = 'annot/S2_regulatory_annotation/_lcap_jump/lcap_deseq.tsv'\n",
    "df_counts = pd.read_csv(fp_counts, sep='\\t')\n",
    "df_deseq = pd.read_csv(fp_deseq, sep='\\t')\n",
    "assert (len(df_counts) == len(df_deseq)) and len(df_counts) > 0\n",
    "print(len(df_counts), len(df_deseq))"
   ]
  },
  {
   "cell_type": "code",
   "execution_count": 3,
   "metadata": {
    "ExecuteTime": {
     "end_time": "2017-12-06T09:17:15.508073Z",
     "start_time": "2017-12-06T09:17:15.436737Z"
    },
    "collapsed": true
   },
   "outputs": [],
   "source": [
    "th_padj = 0.1\n",
    "th_log2FoldChange = 1.5\n",
    "df_jump = pd.DataFrame()\n",
    "for stage in itertools.islice(config['lcap_geo_by_stage'], None):\n",
    "    df_jump['lcap_jump_%(stage)s_fwd' % locals()] = (\\\n",
    "        (df_deseq['lcap_%(stage)s_fwd_padj' % locals()] <= th_padj) &\\\n",
    "        (df_deseq['lcap_%(stage)s_fwd_log2FoldChange' % locals()] >= th_log2FoldChange)\n",
    "    )\n",
    "    df_jump['lcap_jump_%(stage)s_rev' % locals()] = (\\\n",
    "        (df_deseq['lcap_%(stage)s_rev_padj' % locals()] <= th_padj) &\\\n",
    "        (df_deseq['lcap_%(stage)s_rev_log2FoldChange' % locals()] >= th_log2FoldChange)\n",
    "    )"
   ]
  },
  {
   "cell_type": "code",
   "execution_count": 4,
   "metadata": {
    "ExecuteTime": {
     "end_time": "2017-12-06T09:17:15.906294Z",
     "start_time": "2017-12-06T09:17:15.807405Z"
    }
   },
   "outputs": [
    {
     "data": {
      "text/html": [
       "<div>\n",
       "<style>\n",
       "    .dataframe thead tr:only-child th {\n",
       "        text-align: right;\n",
       "    }\n",
       "\n",
       "    .dataframe thead th {\n",
       "        text-align: left;\n",
       "    }\n",
       "\n",
       "    .dataframe tbody tr th {\n",
       "        vertical-align: top;\n",
       "    }\n",
       "</style>\n",
       "<table border=\"1\" class=\"dataframe\">\n",
       "  <thead>\n",
       "    <tr style=\"text-align: right;\">\n",
       "      <th></th>\n",
       "      <th>lcap_jump_wt_emb_fwd</th>\n",
       "      <th>lcap_jump_wt_l1_fwd</th>\n",
       "      <th>lcap_jump_wt_l2_fwd</th>\n",
       "      <th>lcap_jump_wt_l3_fwd</th>\n",
       "      <th>lcap_jump_wt_l4_fwd</th>\n",
       "      <th>lcap_jump_wt_ya_fwd</th>\n",
       "      <th>lcap_jump_glp1_ya_fwd</th>\n",
       "      <th>lcap_jump_glp1_d3_fwd</th>\n",
       "      <th>lcap_jump_glp1_d7_fwd</th>\n",
       "      <th>lcap_jump_glp1_d10_fwd</th>\n",
       "      <th>lcap_jump_glp1_d14_fwd</th>\n",
       "    </tr>\n",
       "  </thead>\n",
       "  <tbody>\n",
       "    <tr>\n",
       "      <th>False</th>\n",
       "      <td>36938</td>\n",
       "      <td>36546</td>\n",
       "      <td>35660</td>\n",
       "      <td>36801</td>\n",
       "      <td>36775</td>\n",
       "      <td>37161</td>\n",
       "      <td>37091</td>\n",
       "      <td>37461</td>\n",
       "      <td>37038</td>\n",
       "      <td>37079</td>\n",
       "      <td>37229</td>\n",
       "    </tr>\n",
       "    <tr>\n",
       "      <th>True</th>\n",
       "      <td>5307</td>\n",
       "      <td>5699</td>\n",
       "      <td>6585</td>\n",
       "      <td>5444</td>\n",
       "      <td>5470</td>\n",
       "      <td>5084</td>\n",
       "      <td>5154</td>\n",
       "      <td>4784</td>\n",
       "      <td>5207</td>\n",
       "      <td>5166</td>\n",
       "      <td>5016</td>\n",
       "    </tr>\n",
       "  </tbody>\n",
       "</table>\n",
       "</div>"
      ],
      "text/plain": [
       "       lcap_jump_wt_emb_fwd  lcap_jump_wt_l1_fwd  lcap_jump_wt_l2_fwd  \\\n",
       "False                 36938                36546                35660   \n",
       "True                   5307                 5699                 6585   \n",
       "\n",
       "       lcap_jump_wt_l3_fwd  lcap_jump_wt_l4_fwd  lcap_jump_wt_ya_fwd  \\\n",
       "False                36801                36775                37161   \n",
       "True                  5444                 5470                 5084   \n",
       "\n",
       "       lcap_jump_glp1_ya_fwd  lcap_jump_glp1_d3_fwd  lcap_jump_glp1_d7_fwd  \\\n",
       "False                  37091                  37461                  37038   \n",
       "True                    5154                   4784                   5207   \n",
       "\n",
       "       lcap_jump_glp1_d10_fwd  lcap_jump_glp1_d14_fwd  \n",
       "False                   37079                   37229  \n",
       "True                     5166                    5016  "
      ]
     },
     "execution_count": 4,
     "metadata": {},
     "output_type": "execute_result"
    }
   ],
   "source": [
    "# Fwd strand jump pass\n",
    "pd.concat([df_jump['lcap_jump_%s_fwd' % (stage,)].value_counts() for stage in config['lcap_geo_by_stage']], axis=1)"
   ]
  },
  {
   "cell_type": "code",
   "execution_count": 5,
   "metadata": {
    "ExecuteTime": {
     "end_time": "2017-12-06T09:17:16.453474Z",
     "start_time": "2017-12-06T09:17:16.379049Z"
    }
   },
   "outputs": [
    {
     "data": {
      "text/html": [
       "<div>\n",
       "<style>\n",
       "    .dataframe thead tr:only-child th {\n",
       "        text-align: right;\n",
       "    }\n",
       "\n",
       "    .dataframe thead th {\n",
       "        text-align: left;\n",
       "    }\n",
       "\n",
       "    .dataframe tbody tr th {\n",
       "        vertical-align: top;\n",
       "    }\n",
       "</style>\n",
       "<table border=\"1\" class=\"dataframe\">\n",
       "  <thead>\n",
       "    <tr style=\"text-align: right;\">\n",
       "      <th></th>\n",
       "      <th>lcap_jump_wt_emb_rev</th>\n",
       "      <th>lcap_jump_wt_l1_rev</th>\n",
       "      <th>lcap_jump_wt_l2_rev</th>\n",
       "      <th>lcap_jump_wt_l3_rev</th>\n",
       "      <th>lcap_jump_wt_l4_rev</th>\n",
       "      <th>lcap_jump_wt_ya_rev</th>\n",
       "      <th>lcap_jump_glp1_ya_rev</th>\n",
       "      <th>lcap_jump_glp1_d3_rev</th>\n",
       "      <th>lcap_jump_glp1_d7_rev</th>\n",
       "      <th>lcap_jump_glp1_d10_rev</th>\n",
       "      <th>lcap_jump_glp1_d14_rev</th>\n",
       "    </tr>\n",
       "  </thead>\n",
       "  <tbody>\n",
       "    <tr>\n",
       "      <th>False</th>\n",
       "      <td>36972</td>\n",
       "      <td>36721</td>\n",
       "      <td>35775</td>\n",
       "      <td>36794</td>\n",
       "      <td>36663</td>\n",
       "      <td>37150</td>\n",
       "      <td>37107</td>\n",
       "      <td>37552</td>\n",
       "      <td>37011</td>\n",
       "      <td>37132</td>\n",
       "      <td>37317</td>\n",
       "    </tr>\n",
       "    <tr>\n",
       "      <th>True</th>\n",
       "      <td>5273</td>\n",
       "      <td>5524</td>\n",
       "      <td>6470</td>\n",
       "      <td>5451</td>\n",
       "      <td>5582</td>\n",
       "      <td>5095</td>\n",
       "      <td>5138</td>\n",
       "      <td>4693</td>\n",
       "      <td>5234</td>\n",
       "      <td>5113</td>\n",
       "      <td>4928</td>\n",
       "    </tr>\n",
       "  </tbody>\n",
       "</table>\n",
       "</div>"
      ],
      "text/plain": [
       "       lcap_jump_wt_emb_rev  lcap_jump_wt_l1_rev  lcap_jump_wt_l2_rev  \\\n",
       "False                 36972                36721                35775   \n",
       "True                   5273                 5524                 6470   \n",
       "\n",
       "       lcap_jump_wt_l3_rev  lcap_jump_wt_l4_rev  lcap_jump_wt_ya_rev  \\\n",
       "False                36794                36663                37150   \n",
       "True                  5451                 5582                 5095   \n",
       "\n",
       "       lcap_jump_glp1_ya_rev  lcap_jump_glp1_d3_rev  lcap_jump_glp1_d7_rev  \\\n",
       "False                  37107                  37552                  37011   \n",
       "True                    5138                   4693                   5234   \n",
       "\n",
       "       lcap_jump_glp1_d10_rev  lcap_jump_glp1_d14_rev  \n",
       "False                   37132                   37317  \n",
       "True                     5113                    4928  "
      ]
     },
     "execution_count": 5,
     "metadata": {},
     "output_type": "execute_result"
    }
   ],
   "source": [
    "# Rev strand jump pass\n",
    "pd.concat([df_jump['lcap_jump_%s_rev' % (stage,)].value_counts() for stage in config['lcap_geo_by_stage']], axis=1)"
   ]
  },
  {
   "cell_type": "code",
   "execution_count": 6,
   "metadata": {
    "ExecuteTime": {
     "end_time": "2017-12-06T09:17:17.898179Z",
     "start_time": "2017-12-06T09:17:16.978392Z"
    },
    "collapsed": true
   },
   "outputs": [],
   "source": [
    "fp_startbp = 'annot/S2_regulatory_annotation/_lcap_jump/lcap_counts_incr.tsv'\n",
    "df_startbp = pd.read_csv(fp_startbp, sep='\\t')\n",
    "\n",
    "df_incr = pd.DataFrame()\n",
    "for stage in itertools.islice(config['lcap_geo_by_stage'], None):\n",
    "    df_incr['lcap_incr_%(stage)s_fwd' % locals()] = (\\\n",
    "        (df_startbp['lcap_%(stage)s_rep1_fwd_rcount' % locals()] == 0) &\\\n",
    "        (df_startbp['lcap_%(stage)s_rep2_fwd_rcount' % locals()] == 0) &\\\n",
    "        (df_startbp['lcap_%(stage)s_rep1_fwd_fcount' % locals()] >= 1) &\\\n",
    "        (df_startbp['lcap_%(stage)s_rep2_fwd_fcount' % locals()] >= 1) &\\\n",
    "        (df_startbp['lcap_%(stage)s_rep1_fwd_fcount' % locals()] + df_startbp['lcap_%(stage)s_rep2_fwd_fcount' % locals()] >= 3)\n",
    "    )\n",
    "    df_incr['lcap_incr_%(stage)s_rev' % locals()] = (\\\n",
    "        (df_startbp['lcap_%(stage)s_rep1_rev_fcount' % locals()] == 0) &\\\n",
    "        (df_startbp['lcap_%(stage)s_rep2_rev_fcount' % locals()] == 0) &\\\n",
    "        (df_startbp['lcap_%(stage)s_rep1_rev_rcount' % locals()] >= 1) &\\\n",
    "        (df_startbp['lcap_%(stage)s_rep2_rev_rcount' % locals()] >= 1) &\\\n",
    "        (df_startbp['lcap_%(stage)s_rep1_rev_rcount' % locals()] + df_startbp['lcap_%(stage)s_rep2_rev_rcount' % locals()] >= 3)\n",
    "    )"
   ]
  },
  {
   "cell_type": "code",
   "execution_count": 7,
   "metadata": {
    "ExecuteTime": {
     "end_time": "2017-12-06T09:17:19.560076Z",
     "start_time": "2017-12-06T09:17:19.475398Z"
    }
   },
   "outputs": [
    {
     "data": {
      "text/html": [
       "<div>\n",
       "<style>\n",
       "    .dataframe thead tr:only-child th {\n",
       "        text-align: right;\n",
       "    }\n",
       "\n",
       "    .dataframe thead th {\n",
       "        text-align: left;\n",
       "    }\n",
       "\n",
       "    .dataframe tbody tr th {\n",
       "        vertical-align: top;\n",
       "    }\n",
       "</style>\n",
       "<table border=\"1\" class=\"dataframe\">\n",
       "  <thead>\n",
       "    <tr style=\"text-align: right;\">\n",
       "      <th></th>\n",
       "      <th>lcap_incr_wt_emb_fwd</th>\n",
       "      <th>lcap_incr_wt_l1_fwd</th>\n",
       "      <th>lcap_incr_wt_l2_fwd</th>\n",
       "      <th>lcap_incr_wt_l3_fwd</th>\n",
       "      <th>lcap_incr_wt_l4_fwd</th>\n",
       "      <th>lcap_incr_wt_ya_fwd</th>\n",
       "      <th>lcap_incr_glp1_ya_fwd</th>\n",
       "      <th>lcap_incr_glp1_d3_fwd</th>\n",
       "      <th>lcap_incr_glp1_d7_fwd</th>\n",
       "      <th>lcap_incr_glp1_d10_fwd</th>\n",
       "      <th>lcap_incr_glp1_d14_fwd</th>\n",
       "    </tr>\n",
       "  </thead>\n",
       "  <tbody>\n",
       "    <tr>\n",
       "      <th>False</th>\n",
       "      <td>38973</td>\n",
       "      <td>38986</td>\n",
       "      <td>38631</td>\n",
       "      <td>38541</td>\n",
       "      <td>38793</td>\n",
       "      <td>38429</td>\n",
       "      <td>38770</td>\n",
       "      <td>38471</td>\n",
       "      <td>39164</td>\n",
       "      <td>39198</td>\n",
       "      <td>39482</td>\n",
       "    </tr>\n",
       "    <tr>\n",
       "      <th>True</th>\n",
       "      <td>3272</td>\n",
       "      <td>3259</td>\n",
       "      <td>3614</td>\n",
       "      <td>3704</td>\n",
       "      <td>3452</td>\n",
       "      <td>3816</td>\n",
       "      <td>3475</td>\n",
       "      <td>3774</td>\n",
       "      <td>3081</td>\n",
       "      <td>3047</td>\n",
       "      <td>2763</td>\n",
       "    </tr>\n",
       "  </tbody>\n",
       "</table>\n",
       "</div>"
      ],
      "text/plain": [
       "       lcap_incr_wt_emb_fwd  lcap_incr_wt_l1_fwd  lcap_incr_wt_l2_fwd  \\\n",
       "False                 38973                38986                38631   \n",
       "True                   3272                 3259                 3614   \n",
       "\n",
       "       lcap_incr_wt_l3_fwd  lcap_incr_wt_l4_fwd  lcap_incr_wt_ya_fwd  \\\n",
       "False                38541                38793                38429   \n",
       "True                  3704                 3452                 3816   \n",
       "\n",
       "       lcap_incr_glp1_ya_fwd  lcap_incr_glp1_d3_fwd  lcap_incr_glp1_d7_fwd  \\\n",
       "False                  38770                  38471                  39164   \n",
       "True                    3475                   3774                   3081   \n",
       "\n",
       "       lcap_incr_glp1_d10_fwd  lcap_incr_glp1_d14_fwd  \n",
       "False                   39198                   39482  \n",
       "True                     3047                    2763  "
      ]
     },
     "execution_count": 7,
     "metadata": {},
     "output_type": "execute_result"
    }
   ],
   "source": [
    "# Fwd strand incr pass\n",
    "pd.concat([df_incr['lcap_incr_%s_fwd' % (stage,)].value_counts() for stage in config['lcap_geo_by_stage']], axis=1)"
   ]
  },
  {
   "cell_type": "code",
   "execution_count": 8,
   "metadata": {
    "ExecuteTime": {
     "end_time": "2017-12-06T09:17:19.990800Z",
     "start_time": "2017-12-06T09:17:19.898576Z"
    }
   },
   "outputs": [
    {
     "data": {
      "text/html": [
       "<div>\n",
       "<style>\n",
       "    .dataframe thead tr:only-child th {\n",
       "        text-align: right;\n",
       "    }\n",
       "\n",
       "    .dataframe thead th {\n",
       "        text-align: left;\n",
       "    }\n",
       "\n",
       "    .dataframe tbody tr th {\n",
       "        vertical-align: top;\n",
       "    }\n",
       "</style>\n",
       "<table border=\"1\" class=\"dataframe\">\n",
       "  <thead>\n",
       "    <tr style=\"text-align: right;\">\n",
       "      <th></th>\n",
       "      <th>lcap_incr_wt_emb_rev</th>\n",
       "      <th>lcap_incr_wt_l1_rev</th>\n",
       "      <th>lcap_incr_wt_l2_rev</th>\n",
       "      <th>lcap_incr_wt_l3_rev</th>\n",
       "      <th>lcap_incr_wt_l4_rev</th>\n",
       "      <th>lcap_incr_wt_ya_rev</th>\n",
       "      <th>lcap_incr_glp1_ya_rev</th>\n",
       "      <th>lcap_incr_glp1_d3_rev</th>\n",
       "      <th>lcap_incr_glp1_d7_rev</th>\n",
       "      <th>lcap_incr_glp1_d10_rev</th>\n",
       "      <th>lcap_incr_glp1_d14_rev</th>\n",
       "    </tr>\n",
       "  </thead>\n",
       "  <tbody>\n",
       "    <tr>\n",
       "      <th>False</th>\n",
       "      <td>39080</td>\n",
       "      <td>38981</td>\n",
       "      <td>38498</td>\n",
       "      <td>38433</td>\n",
       "      <td>38795</td>\n",
       "      <td>38508</td>\n",
       "      <td>38735</td>\n",
       "      <td>38491</td>\n",
       "      <td>39057</td>\n",
       "      <td>39197</td>\n",
       "      <td>39620</td>\n",
       "    </tr>\n",
       "    <tr>\n",
       "      <th>True</th>\n",
       "      <td>3165</td>\n",
       "      <td>3264</td>\n",
       "      <td>3747</td>\n",
       "      <td>3812</td>\n",
       "      <td>3450</td>\n",
       "      <td>3737</td>\n",
       "      <td>3510</td>\n",
       "      <td>3754</td>\n",
       "      <td>3188</td>\n",
       "      <td>3048</td>\n",
       "      <td>2625</td>\n",
       "    </tr>\n",
       "  </tbody>\n",
       "</table>\n",
       "</div>"
      ],
      "text/plain": [
       "       lcap_incr_wt_emb_rev  lcap_incr_wt_l1_rev  lcap_incr_wt_l2_rev  \\\n",
       "False                 39080                38981                38498   \n",
       "True                   3165                 3264                 3747   \n",
       "\n",
       "       lcap_incr_wt_l3_rev  lcap_incr_wt_l4_rev  lcap_incr_wt_ya_rev  \\\n",
       "False                38433                38795                38508   \n",
       "True                  3812                 3450                 3737   \n",
       "\n",
       "       lcap_incr_glp1_ya_rev  lcap_incr_glp1_d3_rev  lcap_incr_glp1_d7_rev  \\\n",
       "False                  38735                  38491                  39057   \n",
       "True                    3510                   3754                   3188   \n",
       "\n",
       "       lcap_incr_glp1_d10_rev  lcap_incr_glp1_d14_rev  \n",
       "False                   39197                   39620  \n",
       "True                     3048                    2625  "
      ]
     },
     "execution_count": 8,
     "metadata": {},
     "output_type": "execute_result"
    }
   ],
   "source": [
    "# Rev strand incr pass\n",
    "pd.concat([df_incr['lcap_incr_%s_rev' % (stage,)].value_counts() for stage in config['lcap_geo_by_stage']], axis=1)"
   ]
  },
  {
   "cell_type": "code",
   "execution_count": 27,
   "metadata": {
    "ExecuteTime": {
     "end_time": "2017-12-06T09:32:53.698568Z",
     "start_time": "2017-12-06T09:32:52.042481Z"
    }
   },
   "outputs": [
    {
     "data": {
      "image/png": "[encoded data removed]",
      "text/plain": [
       "<matplotlib.figure.Figure at 0x7f21bb3e93c8>"
      ]
     },
     "metadata": {},
     "output_type": "display_data"
    }
   ],
   "source": [
    "#for stage in itertools.islice(config['lcap_geo_by_stage'], None):\n",
    "#    df_incr['lcap_incr_%(stage)s_fwd' % locals()] = (\\\n",
    "#        (df_startbp['lcap_%(stage)s_rep1_fwd_rcount' % locals()] == 0) &\\\n",
    "#        (df_startbp['lcap_%(stage)s_rep2_fwd_rcount' % locals()] == 0) &\\\n",
    "#        (df_startbp['lcap_%(stage)s_rep1_fwd_fcount' % locals()] >= 1) &\\\n",
    "#        (df_startbp['lcap_%(stage)s_rep2_fwd_fcount' % locals()] >= 1) &\\\n",
    "#        (df_startbp['lcap_%(stage)s_rep1_fwd_fcount' % locals()] + df_startbp['lcap_%(stage)s_rep2_fwd_fcount' % locals()] >= 3)\n",
    "#    )\n",
    "#    df_incr['lcap_incr_%(stage)s_rev' % locals()] = (\\\n",
    "#        (df_startbp['lcap_%(stage)s_rep1_rev_fcount' % locals()] == 0) &\\\n",
    "#        (df_startbp['lcap_%(stage)s_rep2_rev_fcount' % locals()] == 0) &\\\n",
    "#        (df_startbp['lcap_%(stage)s_rep1_rev_rcount' % locals()] >= 1) &\\\n",
    "#        (df_startbp['lcap_%(stage)s_rep2_rev_rcount' % locals()] >= 1) &\\\n",
    "#        (df_startbp['lcap_%(stage)s_rep1_rev_rcount' % locals()] + df_startbp['lcap_%(stage)s_rep2_rev_rcount' % locals()] >= 3)\n",
    "#    )\n",
    "\n",
    "def summary_(jump, incr):\n",
    "    if jump and incr:\n",
    "        return 'jump+incr'\n",
    "    elif jump:\n",
    "        return 'jump'\n",
    "    elif incr:\n",
    "        return 'incr'\n",
    "    else:\n",
    "        return 'neither'\n",
    "\n",
    "#for stage in itertools.islice(config['lcap_geo_by_stage'], None):\n",
    "df_summary = pd.DataFrame()\n",
    "for stage_ in itertools.islice(config['lcap_geo_by_stage'], None):\n",
    "    df_summary['elong_%s_fwd' % (stage_,)] = list(map(summary_, df_jump['lcap_jump_%s_fwd' % (stage_,)], df_incr['lcap_incr_%s_fwd' % (stage_,)]))\n",
    "\n",
    "l_ = ['jump', 'incr', 'jump+incr', 'neither']\n",
    "df_ = pd.concat([df_summary['elong_%s_fwd' % (stage_,)].value_counts() for stage_ in config['lcap_geo_by_stage']], axis=1).loc[l_]\n",
    "\n",
    "plt.subplot(111, frame_on=False)\n",
    "plt.gca().xaxis.set_visible(False)\n",
    "plt.gca().yaxis.set_visible(False)\n",
    "pd.plotting.table(data=df_, ax=plt.gca(), loc='center left')\n",
    "plt.savefig('annot/FigA_mapping/lcap_elongation_fwd.pdf', bbox_inches='tight')"
   ]
  },
  {
   "cell_type": "code",
   "execution_count": 9,
   "metadata": {
    "ExecuteTime": {
     "end_time": "2017-12-05T15:51:07.369580Z",
     "start_time": "2017-12-05T15:51:06.072805Z"
    },
    "collapsed": true
   },
   "outputs": [],
   "source": [
    "pd.concat([df_jump, df_incr], axis=1).to_csv('annot/S2_regulatory_annotation/_lcap_jump/lcap_summary.tsv', sep='\\t', index=False)"
   ]
  },
  {
   "cell_type": "code",
   "execution_count": 10,
   "metadata": {
    "ExecuteTime": {
     "end_time": "2017-12-05T15:51:27.674511Z",
     "start_time": "2017-12-05T15:51:07.373409Z"
    },
    "code_folding": [
     0
    ],
    "collapsed": true
   },
   "outputs": [],
   "source": [
    "# summary results\n",
    "def itemRgb_(is_jump, is_incr):\n",
    "    if is_jump == True:\n",
    "        return RED\n",
    "    elif is_incr:\n",
    "        return YELLOW\n",
    "    else:\n",
    "        return BLUE\n",
    "\n",
    "strand = 'fwd'\n",
    "write_gffbed(\n",
    "    fp = 'annot/S2_regulatory_annotation/_lcap_jump/lcap_tests_wt_%(strand)s.bed' % locals(),\n",
    "    chrom = df_counts['chrom'],\n",
    "    start = df_counts['start'],\n",
    "    end = df_counts['end'],\n",
    "    attr = df_deseq[\n",
    "        ['lcap_%s_%s_padj' % (stage, strand) for stage in config['lcap_geo_by_stage'][:6]] +\\\n",
    "        ['lcap_%s_%s_log2FoldChange' % (stage, strand) for stage in config['lcap_geo_by_stage']][:6]\n",
    "    ],\n",
    "    strand = '+',\n",
    "    itemRgb = map(itemRgb_,\n",
    "        df_jump[['lcap_jump_%s_%s' % (stage, strand) for stage in config['lcap_geo_by_stage'][:6]]].any(axis=1),\n",
    "        df_incr[['lcap_incr_%s_%s' % (stage, strand) for stage in config['lcap_geo_by_stage'][:6]]].any(axis=1)\n",
    "    ),\n",
    ")\n",
    "\n",
    "write_gffbed(\n",
    "    fp = 'annot/S2_regulatory_annotation/_lcap_jump/lcap_tests_glp1_%(strand)s.bed' % locals(),\n",
    "    chrom = df_counts['chrom'],\n",
    "    start = df_counts['start'],\n",
    "    end = df_counts['end'],\n",
    "    attr = df_deseq[\n",
    "        ['lcap_%s_%s_padj' % (stage, strand) for stage in config['lcap_geo_by_stage'][6:]] +\\\n",
    "        ['lcap_%s_%s_log2FoldChange' % (stage, strand) for stage in config['lcap_geo_by_stage']][6:]\n",
    "    ],\n",
    "    strand = '+',\n",
    "    itemRgb = map(itemRgb_,\n",
    "        df_jump[['lcap_jump_%s_%s' % (stage, strand) for stage in config['lcap_geo_by_stage'][6:]]].any(axis=1),\n",
    "        df_incr[['lcap_incr_%s_%s' % (stage, strand) for stage in config['lcap_geo_by_stage'][6:]]].any(axis=1)\n",
    "    ),\n",
    ")\n",
    "\n",
    "strand = 'rev'\n",
    "write_gffbed(\n",
    "    fp = 'annot/S2_regulatory_annotation/_lcap_jump/lcap_tests_wt_%(strand)s.bed' % locals(),\n",
    "    chrom = df_counts['chrom'],\n",
    "    start = df_counts['start'],\n",
    "    end = df_counts['end'],\n",
    "    attr = df_deseq[\n",
    "        ['lcap_%s_%s_padj' % (stage, strand) for stage in config['lcap_geo_by_stage'][:6]] +\\\n",
    "        ['lcap_%s_%s_log2FoldChange' % (stage, strand) for stage in config['lcap_geo_by_stage']][:6]\n",
    "    ],\n",
    "    strand = '-',\n",
    "    itemRgb = map(itemRgb_,\n",
    "        df_jump[['lcap_jump_%s_%s' % (stage, strand) for stage in config['lcap_geo_by_stage'][:6]]].any(axis=1),\n",
    "        df_incr[['lcap_incr_%s_%s' % (stage, strand) for stage in config['lcap_geo_by_stage'][:6]]].any(axis=1)\n",
    "    ),\n",
    ")\n",
    "\n",
    "write_gffbed(\n",
    "    fp = 'annot/S2_regulatory_annotation/_lcap_jump/lcap_tests_glp1_%(strand)s.bed' % locals(),\n",
    "    chrom = df_counts['chrom'],\n",
    "    start = df_counts['start'],\n",
    "    end = df_counts['end'],\n",
    "    attr = df_deseq[\n",
    "        ['lcap_%s_%s_padj' % (stage, strand) for stage in config['lcap_geo_by_stage'][6:]] +\\\n",
    "        ['lcap_%s_%s_log2FoldChange' % (stage, strand) for stage in config['lcap_geo_by_stage']][6:]\n",
    "    ],\n",
    "    strand = '-',\n",
    "    itemRgb = map(itemRgb_,\n",
    "        df_jump[['lcap_jump_%s_%s' % (stage, strand) for stage in config['lcap_geo_by_stage'][6:]]].any(axis=1),\n",
    "        df_incr[['lcap_incr_%s_%s' % (stage, strand) for stage in config['lcap_geo_by_stage'][6:]]].any(axis=1)\n",
    "    ),\n",
    ")"
   ]
  },
  {
   "cell_type": "code",
   "execution_count": 11,
   "metadata": {
    "ExecuteTime": {
     "end_time": "2017-12-05T15:51:46.907588Z",
     "start_time": "2017-12-05T15:51:27.678804Z"
    },
    "code_folding": [
     0
    ],
    "collapsed": true
   },
   "outputs": [],
   "source": [
    "# incr results\n",
    "def itemRgb_(is_jump, is_incr):\n",
    "    if is_incr:\n",
    "        return PURPLE\n",
    "    else:\n",
    "        return BLUE\n",
    "\n",
    "strand = 'fwd'\n",
    "write_gffbed(\n",
    "    fp = 'annot/S2_regulatory_annotation/_lcap_jump/lcap_incr_wt_%(strand)s.bed' % locals(),\n",
    "    chrom = df_counts['chrom'],\n",
    "    start = df_counts['start'],\n",
    "    end = df_counts['end'],\n",
    "    attr = df_deseq[\n",
    "        ['lcap_%s_%s_padj' % (stage, strand) for stage in config['lcap_geo_by_stage'][:6]] +\\\n",
    "        ['lcap_%s_%s_log2FoldChange' % (stage, strand) for stage in config['lcap_geo_by_stage']][:6]\n",
    "    ],\n",
    "    strand = '+',\n",
    "    itemRgb = map(itemRgb_,\n",
    "        df_jump[['lcap_jump_%s_%s' % (stage, strand) for stage in config['lcap_geo_by_stage'][:6]]].any(axis=1),\n",
    "        df_incr[['lcap_incr_%s_%s' % (stage, strand) for stage in config['lcap_geo_by_stage'][:6]]].any(axis=1)\n",
    "    ),\n",
    ")\n",
    "\n",
    "write_gffbed(\n",
    "    fp = 'annot/S2_regulatory_annotation/_lcap_jump/lcap_incr_glp1_%(strand)s.bed' % locals(),\n",
    "    chrom = df_counts['chrom'],\n",
    "    start = df_counts['start'],\n",
    "    end = df_counts['end'],\n",
    "    attr = df_deseq[\n",
    "        ['lcap_%s_%s_padj' % (stage, strand) for stage in config['lcap_geo_by_stage'][6:]] +\\\n",
    "        ['lcap_%s_%s_log2FoldChange' % (stage, strand) for stage in config['lcap_geo_by_stage']][6:]\n",
    "    ],\n",
    "    strand = '+',\n",
    "    itemRgb = map(itemRgb_,\n",
    "        df_jump[['lcap_jump_%s_%s' % (stage, strand) for stage in config['lcap_geo_by_stage'][6:]]].any(axis=1),\n",
    "        df_incr[['lcap_incr_%s_%s' % (stage, strand) for stage in config['lcap_geo_by_stage'][6:]]].any(axis=1)\n",
    "    ),\n",
    ")\n",
    "\n",
    "strand = 'rev'\n",
    "write_gffbed(\n",
    "    fp = 'annot/S2_regulatory_annotation/_lcap_jump/lcap_incr_wt_%(strand)s.bed' % locals(),\n",
    "    chrom = df_counts['chrom'],\n",
    "    start = df_counts['start'],\n",
    "    end = df_counts['end'],\n",
    "    attr = df_deseq[\n",
    "        ['lcap_%s_%s_padj' % (stage, strand) for stage in config['lcap_geo_by_stage'][:6]] +\\\n",
    "        ['lcap_%s_%s_log2FoldChange' % (stage, strand) for stage in config['lcap_geo_by_stage']][:6]\n",
    "    ],\n",
    "    strand = '-',\n",
    "    itemRgb = map(itemRgb_,\n",
    "        df_jump[['lcap_jump_%s_%s' % (stage, strand) for stage in config['lcap_geo_by_stage'][:6]]].any(axis=1),\n",
    "        df_incr[['lcap_incr_%s_%s' % (stage, strand) for stage in config['lcap_geo_by_stage'][:6]]].any(axis=1)\n",
    "    ),\n",
    ")\n",
    "\n",
    "write_gffbed(\n",
    "    fp = 'annot/S2_regulatory_annotation/_lcap_jump/lcap_incr_glp1_%(strand)s.bed' % locals(),\n",
    "    chrom = df_counts['chrom'],\n",
    "    start = df_counts['start'],\n",
    "    end = df_counts['end'],\n",
    "    attr = df_deseq[\n",
    "        ['lcap_%s_%s_padj' % (stage, strand) for stage in config['lcap_geo_by_stage'][6:]] +\\\n",
    "        ['lcap_%s_%s_log2FoldChange' % (stage, strand) for stage in config['lcap_geo_by_stage']][6:]\n",
    "    ],\n",
    "    strand = '-',\n",
    "    itemRgb = map(itemRgb_,\n",
    "        df_jump[['lcap_jump_%s_%s' % (stage, strand) for stage in config['lcap_geo_by_stage'][6:]]].any(axis=1),\n",
    "        df_incr[['lcap_incr_%s_%s' % (stage, strand) for stage in config['lcap_geo_by_stage'][6:]]].any(axis=1)\n",
    "    ),\n",
    ")"
   ]
  },
  {
   "cell_type": "code",
   "execution_count": 12,
   "metadata": {
    "ExecuteTime": {
     "end_time": "2017-12-05T15:51:47.001507Z",
     "start_time": "2017-12-05T15:51:46.910534Z"
    },
    "collapsed": true
   },
   "outputs": [],
   "source": [
    "df_ = pd.concat([df_counts, df_jump, df_incr, df_deseq], axis=1)\n",
    "df_['lcap_jump_wt_fwd'] = df_[['lcap_jump_%s_fwd' % (stage,) for stage in config['stages_wt']]].any(axis=1)\n",
    "df_['lcap_jump_wt_rev'] = df_[['lcap_jump_%s_rev' % (stage,) for stage in config['stages_wt']]].any(axis=1)"
   ]
  },
  {
   "cell_type": "code",
   "execution_count": null,
   "metadata": {
    "collapsed": true
   },
   "outputs": [],
   "source": []
  }
 ],
 "metadata": {
  "kernelspec": {
   "display_name": "Python 3",
   "language": "python",
   "name": "python3"
  },
  "language_info": {
   "codemirror_mode": {
    "name": "ipython",
    "version": 3
   },
   "file_extension": ".py",
   "mimetype": "text/x-python",
   "name": "python",
   "nbconvert_exporter": "python",
   "pygments_lexer": "ipython3",
   "version": "3.6.2"
  }
 },
 "nbformat": 4,
 "nbformat_minor": 2
}
