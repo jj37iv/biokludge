{
 "cells": [
  {
   "cell_type": "code",
   "execution_count": 1,
   "metadata": {
    "ExecuteTime": {
     "end_time": "2018-03-14T13:59:22.543355Z",
     "start_time": "2018-03-14T13:59:15.305822Z"
    }
   },
   "outputs": [
    {
     "name": "stderr",
     "output_type": "stream",
     "text": [
      "/mnt/home3/jj374/anaconda36/lib/python3.6/site-packages/statsmodels/compat/pandas.py:56: FutureWarning: The pandas.core.datetools module is deprecated and will be removed in a future version. Please use the pandas.tseries module instead.\n",
      "  from pandas.core import datetools\n"
     ]
    },
    {
     "name": "stdout",
     "output_type": "stream",
     "text": [
      "os.getcwd(): /mnt/b2/scratch/ahringer/jj374/lab/relmapping\n"
     ]
    }
   ],
   "source": [
    "%run ~/relmapping/annot/notebooks/__init__.ipynb"
   ]
  },
  {
   "cell_type": "code",
   "execution_count": 2,
   "metadata": {
    "ExecuteTime": {
     "end_time": "2018-03-14T13:59:23.807071Z",
     "start_time": "2018-03-14T13:59:22.545198Z"
    }
   },
   "outputs": [
    {
     "name": "stdout",
     "output_type": "stream",
     "text": [
      "42245 42245\n"
     ]
    }
   ],
   "source": [
    "fp_counts = 'annot/S2_regulatory_annotation/_lcap_jump/lcap_counts.tsv'\n",
    "fp_deseq = 'annot/S2_regulatory_annotation/_lcap_jump/lcap_deseq.tsv'\n",
    "df_counts = pd.read_csv(fp_counts, sep='\\t')\n",
    "df_deseq = pd.read_csv(fp_deseq, sep='\\t')\n",
    "assert (len(df_counts) == len(df_deseq)) and len(df_counts) > 0\n",
    "print(len(df_counts), len(df_deseq))"
   ]
  },
  {
   "cell_type": "code",
   "execution_count": 3,
   "metadata": {
    "ExecuteTime": {
     "end_time": "2018-03-14T13:59:23.906700Z",
     "start_time": "2018-03-14T13:59:23.810140Z"
    },
    "collapsed": true
   },
   "outputs": [],
   "source": [
    "th_padj = 0.1\n",
    "th_log2FoldChange = 1.5\n",
    "df_jump = pd.DataFrame()\n",
    "for stage in itertools.islice(config['stages'], None):\n",
    "    df_jump['lcap_jump_%(stage)s_fwd' % locals()] = (\\\n",
    "        (df_deseq['lcap_%(stage)s_fwd_padj' % locals()] <= th_padj) &\\\n",
    "        (df_deseq['lcap_%(stage)s_fwd_log2FoldChange' % locals()] >= th_log2FoldChange)\n",
    "    )\n",
    "    df_jump['lcap_jump_%(stage)s_rev' % locals()] = (\\\n",
    "        (df_deseq['lcap_%(stage)s_rev_padj' % locals()] <= th_padj) &\\\n",
    "        (df_deseq['lcap_%(stage)s_rev_log2FoldChange' % locals()] >= th_log2FoldChange)\n",
    "    )"
   ]
  },
  {
   "cell_type": "code",
   "execution_count": 4,
   "metadata": {
    "ExecuteTime": {
     "end_time": "2018-03-14T13:59:23.986469Z",
     "start_time": "2018-03-14T13:59:23.909802Z"
    }
   },
   "outputs": [
    {
     "data": {
      "text/html": [
       "<div>\n",
       "<style>\n",
       "    .dataframe thead tr:only-child th {\n",
       "        text-align: right;\n",
       "    }\n",
       "\n",
       "    .dataframe thead th {\n",
       "        text-align: left;\n",
       "    }\n",
       "\n",
       "    .dataframe tbody tr th {\n",
       "        vertical-align: top;\n",
       "    }\n",
       "</style>\n",
       "<table border=\"1\" class=\"dataframe\">\n",
       "  <thead>\n",
       "    <tr style=\"text-align: right;\">\n",
       "      <th></th>\n",
       "      <th>lcap_jump_wt_emb_fwd</th>\n",
       "      <th>lcap_jump_wt_l1_fwd</th>\n",
       "      <th>lcap_jump_wt_l2_fwd</th>\n",
       "      <th>lcap_jump_wt_l3_fwd</th>\n",
       "      <th>lcap_jump_wt_l4_fwd</th>\n",
       "      <th>lcap_jump_wt_ya_fwd</th>\n",
       "      <th>lcap_jump_glp1_d1_fwd</th>\n",
       "      <th>lcap_jump_glp1_d2_fwd</th>\n",
       "      <th>lcap_jump_glp1_d6_fwd</th>\n",
       "      <th>lcap_jump_glp1_d9_fwd</th>\n",
       "      <th>lcap_jump_glp1_d13_fwd</th>\n",
       "    </tr>\n",
       "  </thead>\n",
       "  <tbody>\n",
       "    <tr>\n",
       "      <th>False</th>\n",
       "      <td>38653</td>\n",
       "      <td>38481</td>\n",
       "      <td>37716</td>\n",
       "      <td>38554</td>\n",
       "      <td>38325</td>\n",
       "      <td>38514</td>\n",
       "      <td>39246</td>\n",
       "      <td>39608</td>\n",
       "      <td>39193</td>\n",
       "      <td>39372</td>\n",
       "      <td>39203</td>\n",
       "    </tr>\n",
       "    <tr>\n",
       "      <th>True</th>\n",
       "      <td>3592</td>\n",
       "      <td>3764</td>\n",
       "      <td>4529</td>\n",
       "      <td>3691</td>\n",
       "      <td>3920</td>\n",
       "      <td>3731</td>\n",
       "      <td>2999</td>\n",
       "      <td>2637</td>\n",
       "      <td>3052</td>\n",
       "      <td>2873</td>\n",
       "      <td>3042</td>\n",
       "    </tr>\n",
       "  </tbody>\n",
       "</table>\n",
       "</div>"
      ],
      "text/plain": [
       "       lcap_jump_wt_emb_fwd  lcap_jump_wt_l1_fwd  lcap_jump_wt_l2_fwd  \\\n",
       "False                 38653                38481                37716   \n",
       "True                   3592                 3764                 4529   \n",
       "\n",
       "       lcap_jump_wt_l3_fwd  lcap_jump_wt_l4_fwd  lcap_jump_wt_ya_fwd  \\\n",
       "False                38554                38325                38514   \n",
       "True                  3691                 3920                 3731   \n",
       "\n",
       "       lcap_jump_glp1_d1_fwd  lcap_jump_glp1_d2_fwd  lcap_jump_glp1_d6_fwd  \\\n",
       "False                  39246                  39608                  39193   \n",
       "True                    2999                   2637                   3052   \n",
       "\n",
       "       lcap_jump_glp1_d9_fwd  lcap_jump_glp1_d13_fwd  \n",
       "False                  39372                   39203  \n",
       "True                    2873                    3042  "
      ]
     },
     "execution_count": 4,
     "metadata": {},
     "output_type": "execute_result"
    }
   ],
   "source": [
    "# Fwd strand jump pass\n",
    "pd.concat([df_jump['lcap_jump_%s_fwd' % (stage,)].value_counts() for stage in config['stages']], axis=1)"
   ]
  },
  {
   "cell_type": "code",
   "execution_count": 5,
   "metadata": {
    "ExecuteTime": {
     "end_time": "2018-03-14T13:59:24.070719Z",
     "start_time": "2018-03-14T13:59:23.989513Z"
    }
   },
   "outputs": [
    {
     "data": {
      "text/html": [
       "<div>\n",
       "<style>\n",
       "    .dataframe thead tr:only-child th {\n",
       "        text-align: right;\n",
       "    }\n",
       "\n",
       "    .dataframe thead th {\n",
       "        text-align: left;\n",
       "    }\n",
       "\n",
       "    .dataframe tbody tr th {\n",
       "        vertical-align: top;\n",
       "    }\n",
       "</style>\n",
       "<table border=\"1\" class=\"dataframe\">\n",
       "  <thead>\n",
       "    <tr style=\"text-align: right;\">\n",
       "      <th></th>\n",
       "      <th>lcap_jump_wt_emb_rev</th>\n",
       "      <th>lcap_jump_wt_l1_rev</th>\n",
       "      <th>lcap_jump_wt_l2_rev</th>\n",
       "      <th>lcap_jump_wt_l3_rev</th>\n",
       "      <th>lcap_jump_wt_l4_rev</th>\n",
       "      <th>lcap_jump_wt_ya_rev</th>\n",
       "      <th>lcap_jump_glp1_d1_rev</th>\n",
       "      <th>lcap_jump_glp1_d2_rev</th>\n",
       "      <th>lcap_jump_glp1_d6_rev</th>\n",
       "      <th>lcap_jump_glp1_d9_rev</th>\n",
       "      <th>lcap_jump_glp1_d13_rev</th>\n",
       "    </tr>\n",
       "  </thead>\n",
       "  <tbody>\n",
       "    <tr>\n",
       "      <th>False</th>\n",
       "      <td>38641</td>\n",
       "      <td>38540</td>\n",
       "      <td>37841</td>\n",
       "      <td>38429</td>\n",
       "      <td>38437</td>\n",
       "      <td>38532</td>\n",
       "      <td>39326</td>\n",
       "      <td>39615</td>\n",
       "      <td>39165</td>\n",
       "      <td>39359</td>\n",
       "      <td>39231</td>\n",
       "    </tr>\n",
       "    <tr>\n",
       "      <th>True</th>\n",
       "      <td>3604</td>\n",
       "      <td>3705</td>\n",
       "      <td>4404</td>\n",
       "      <td>3816</td>\n",
       "      <td>3808</td>\n",
       "      <td>3713</td>\n",
       "      <td>2919</td>\n",
       "      <td>2630</td>\n",
       "      <td>3080</td>\n",
       "      <td>2886</td>\n",
       "      <td>3014</td>\n",
       "    </tr>\n",
       "  </tbody>\n",
       "</table>\n",
       "</div>"
      ],
      "text/plain": [
       "       lcap_jump_wt_emb_rev  lcap_jump_wt_l1_rev  lcap_jump_wt_l2_rev  \\\n",
       "False                 38641                38540                37841   \n",
       "True                   3604                 3705                 4404   \n",
       "\n",
       "       lcap_jump_wt_l3_rev  lcap_jump_wt_l4_rev  lcap_jump_wt_ya_rev  \\\n",
       "False                38429                38437                38532   \n",
       "True                  3816                 3808                 3713   \n",
       "\n",
       "       lcap_jump_glp1_d1_rev  lcap_jump_glp1_d2_rev  lcap_jump_glp1_d6_rev  \\\n",
       "False                  39326                  39615                  39165   \n",
       "True                    2919                   2630                   3080   \n",
       "\n",
       "       lcap_jump_glp1_d9_rev  lcap_jump_glp1_d13_rev  \n",
       "False                  39359                   39231  \n",
       "True                    2886                    3014  "
      ]
     },
     "execution_count": 5,
     "metadata": {},
     "output_type": "execute_result"
    }
   ],
   "source": [
    "# Rev strand jump pass\n",
    "pd.concat([df_jump['lcap_jump_%s_rev' % (stage,)].value_counts() for stage in config['stages']], axis=1)"
   ]
  },
  {
   "cell_type": "code",
   "execution_count": 6,
   "metadata": {
    "ExecuteTime": {
     "end_time": "2018-03-14T13:59:24.627793Z",
     "start_time": "2018-03-14T13:59:24.073573Z"
    },
    "collapsed": true
   },
   "outputs": [],
   "source": [
    "fp_startbp = 'annot/S2_regulatory_annotation/_lcap_jump/lcap_counts_incr.tsv'\n",
    "df_startbp = pd.read_csv(fp_startbp, sep='\\t')\n",
    "\n",
    "df_incr = pd.DataFrame()\n",
    "for stage in itertools.islice(config['stages'], None):\n",
    "    df_incr['lcap_incr_%(stage)s_fwd' % locals()] = (\\\n",
    "        (df_startbp['lcap_%(stage)s_rep1_fwd_rcount' % locals()] == 0) &\\\n",
    "        (df_startbp['lcap_%(stage)s_rep2_fwd_rcount' % locals()] == 0) &\\\n",
    "        (df_startbp['lcap_%(stage)s_rep1_fwd_fcount' % locals()] >= 1) &\\\n",
    "        (df_startbp['lcap_%(stage)s_rep2_fwd_fcount' % locals()] >= 1) &\\\n",
    "        (df_startbp['lcap_%(stage)s_rep1_fwd_fcount' % locals()] + df_startbp['lcap_%(stage)s_rep2_fwd_fcount' % locals()] >= 3)\n",
    "    )\n",
    "    df_incr['lcap_incr_%(stage)s_rev' % locals()] = (\\\n",
    "        (df_startbp['lcap_%(stage)s_rep1_rev_fcount' % locals()] == 0) &\\\n",
    "        (df_startbp['lcap_%(stage)s_rep2_rev_fcount' % locals()] == 0) &\\\n",
    "        (df_startbp['lcap_%(stage)s_rep1_rev_rcount' % locals()] >= 1) &\\\n",
    "        (df_startbp['lcap_%(stage)s_rep2_rev_rcount' % locals()] >= 1) &\\\n",
    "        (df_startbp['lcap_%(stage)s_rep1_rev_rcount' % locals()] + df_startbp['lcap_%(stage)s_rep2_rev_rcount' % locals()] >= 3)\n",
    "    )"
   ]
  },
  {
   "cell_type": "code",
   "execution_count": 7,
   "metadata": {
    "ExecuteTime": {
     "end_time": "2018-03-14T13:59:24.857911Z",
     "start_time": "2018-03-14T13:59:24.630138Z"
    }
   },
   "outputs": [
    {
     "data": {
      "text/html": [
       "<div>\n",
       "<style>\n",
       "    .dataframe thead tr:only-child th {\n",
       "        text-align: right;\n",
       "    }\n",
       "\n",
       "    .dataframe thead th {\n",
       "        text-align: left;\n",
       "    }\n",
       "\n",
       "    .dataframe tbody tr th {\n",
       "        vertical-align: top;\n",
       "    }\n",
       "</style>\n",
       "<table border=\"1\" class=\"dataframe\">\n",
       "  <thead>\n",
       "    <tr style=\"text-align: right;\">\n",
       "      <th></th>\n",
       "      <th>lcap_incr_wt_emb_fwd</th>\n",
       "      <th>lcap_incr_wt_l1_fwd</th>\n",
       "      <th>lcap_incr_wt_l2_fwd</th>\n",
       "      <th>lcap_incr_wt_l3_fwd</th>\n",
       "      <th>lcap_incr_wt_l4_fwd</th>\n",
       "      <th>lcap_incr_wt_ya_fwd</th>\n",
       "      <th>lcap_incr_glp1_d1_fwd</th>\n",
       "      <th>lcap_incr_glp1_d2_fwd</th>\n",
       "      <th>lcap_incr_glp1_d6_fwd</th>\n",
       "      <th>lcap_incr_glp1_d9_fwd</th>\n",
       "      <th>lcap_incr_glp1_d13_fwd</th>\n",
       "    </tr>\n",
       "  </thead>\n",
       "  <tbody>\n",
       "    <tr>\n",
       "      <th>False</th>\n",
       "      <td>38973</td>\n",
       "      <td>38986</td>\n",
       "      <td>38631</td>\n",
       "      <td>38541</td>\n",
       "      <td>38793</td>\n",
       "      <td>38429</td>\n",
       "      <td>38598</td>\n",
       "      <td>38762</td>\n",
       "      <td>38638</td>\n",
       "      <td>38396</td>\n",
       "      <td>38270</td>\n",
       "    </tr>\n",
       "    <tr>\n",
       "      <th>True</th>\n",
       "      <td>3272</td>\n",
       "      <td>3259</td>\n",
       "      <td>3614</td>\n",
       "      <td>3704</td>\n",
       "      <td>3452</td>\n",
       "      <td>3816</td>\n",
       "      <td>3647</td>\n",
       "      <td>3483</td>\n",
       "      <td>3607</td>\n",
       "      <td>3849</td>\n",
       "      <td>3975</td>\n",
       "    </tr>\n",
       "  </tbody>\n",
       "</table>\n",
       "</div>"
      ],
      "text/plain": [
       "       lcap_incr_wt_emb_fwd  lcap_incr_wt_l1_fwd  lcap_incr_wt_l2_fwd  \\\n",
       "False                 38973                38986                38631   \n",
       "True                   3272                 3259                 3614   \n",
       "\n",
       "       lcap_incr_wt_l3_fwd  lcap_incr_wt_l4_fwd  lcap_incr_wt_ya_fwd  \\\n",
       "False                38541                38793                38429   \n",
       "True                  3704                 3452                 3816   \n",
       "\n",
       "       lcap_incr_glp1_d1_fwd  lcap_incr_glp1_d2_fwd  lcap_incr_glp1_d6_fwd  \\\n",
       "False                  38598                  38762                  38638   \n",
       "True                    3647                   3483                   3607   \n",
       "\n",
       "       lcap_incr_glp1_d9_fwd  lcap_incr_glp1_d13_fwd  \n",
       "False                  38396                   38270  \n",
       "True                    3849                    3975  "
      ]
     },
     "execution_count": 7,
     "metadata": {},
     "output_type": "execute_result"
    }
   ],
   "source": [
    "# Fwd strand incr pass\n",
    "pd.concat([df_incr['lcap_incr_%s_fwd' % (stage,)].value_counts() for stage in config['stages']], axis=1)"
   ]
  },
  {
   "cell_type": "code",
   "execution_count": 8,
   "metadata": {
    "ExecuteTime": {
     "end_time": "2018-03-14T13:59:25.100936Z",
     "start_time": "2018-03-14T13:59:24.860777Z"
    }
   },
   "outputs": [
    {
     "data": {
      "text/html": [
       "<div>\n",
       "<style>\n",
       "    .dataframe thead tr:only-child th {\n",
       "        text-align: right;\n",
       "    }\n",
       "\n",
       "    .dataframe thead th {\n",
       "        text-align: left;\n",
       "    }\n",
       "\n",
       "    .dataframe tbody tr th {\n",
       "        vertical-align: top;\n",
       "    }\n",
       "</style>\n",
       "<table border=\"1\" class=\"dataframe\">\n",
       "  <thead>\n",
       "    <tr style=\"text-align: right;\">\n",
       "      <th></th>\n",
       "      <th>lcap_incr_wt_emb_rev</th>\n",
       "      <th>lcap_incr_wt_l1_rev</th>\n",
       "      <th>lcap_incr_wt_l2_rev</th>\n",
       "      <th>lcap_incr_wt_l3_rev</th>\n",
       "      <th>lcap_incr_wt_l4_rev</th>\n",
       "      <th>lcap_incr_wt_ya_rev</th>\n",
       "      <th>lcap_incr_glp1_d1_rev</th>\n",
       "      <th>lcap_incr_glp1_d2_rev</th>\n",
       "      <th>lcap_incr_glp1_d6_rev</th>\n",
       "      <th>lcap_incr_glp1_d9_rev</th>\n",
       "      <th>lcap_incr_glp1_d13_rev</th>\n",
       "    </tr>\n",
       "  </thead>\n",
       "  <tbody>\n",
       "    <tr>\n",
       "      <th>False</th>\n",
       "      <td>39080</td>\n",
       "      <td>38981</td>\n",
       "      <td>38498</td>\n",
       "      <td>38433</td>\n",
       "      <td>38795</td>\n",
       "      <td>38508</td>\n",
       "      <td>38666</td>\n",
       "      <td>38835</td>\n",
       "      <td>38606</td>\n",
       "      <td>38383</td>\n",
       "      <td>38279</td>\n",
       "    </tr>\n",
       "    <tr>\n",
       "      <th>True</th>\n",
       "      <td>3165</td>\n",
       "      <td>3264</td>\n",
       "      <td>3747</td>\n",
       "      <td>3812</td>\n",
       "      <td>3450</td>\n",
       "      <td>3737</td>\n",
       "      <td>3579</td>\n",
       "      <td>3410</td>\n",
       "      <td>3639</td>\n",
       "      <td>3862</td>\n",
       "      <td>3966</td>\n",
       "    </tr>\n",
       "  </tbody>\n",
       "</table>\n",
       "</div>"
      ],
      "text/plain": [
       "       lcap_incr_wt_emb_rev  lcap_incr_wt_l1_rev  lcap_incr_wt_l2_rev  \\\n",
       "False                 39080                38981                38498   \n",
       "True                   3165                 3264                 3747   \n",
       "\n",
       "       lcap_incr_wt_l3_rev  lcap_incr_wt_l4_rev  lcap_incr_wt_ya_rev  \\\n",
       "False                38433                38795                38508   \n",
       "True                  3812                 3450                 3737   \n",
       "\n",
       "       lcap_incr_glp1_d1_rev  lcap_incr_glp1_d2_rev  lcap_incr_glp1_d6_rev  \\\n",
       "False                  38666                  38835                  38606   \n",
       "True                    3579                   3410                   3639   \n",
       "\n",
       "       lcap_incr_glp1_d9_rev  lcap_incr_glp1_d13_rev  \n",
       "False                  38383                   38279  \n",
       "True                    3862                    3966  "
      ]
     },
     "execution_count": 8,
     "metadata": {},
     "output_type": "execute_result"
    }
   ],
   "source": [
    "# Rev strand incr pass\n",
    "pd.concat([df_incr['lcap_incr_%s_rev' % (stage,)].value_counts() for stage in config['stages']], axis=1)"
   ]
  },
  {
   "cell_type": "code",
   "execution_count": 9,
   "metadata": {
    "ExecuteTime": {
     "end_time": "2018-03-14T13:59:26.610633Z",
     "start_time": "2018-03-14T13:59:25.103845Z"
    }
   },
   "outputs": [
    {
     "data": {
      "image/png": "[encoded data removed]",
      "text/plain": [
       "<matplotlib.figure.Figure at 0x7f16b5b92d68>"
      ]
     },
     "metadata": {
      "image/png": {
       "height": 235,
       "width": 361
      }
     },
     "output_type": "display_data"
    }
   ],
   "source": [
    "#for stage in itertools.islice(config['lcap_geo_by_stage'], None):\n",
    "#    df_incr['lcap_incr_%(stage)s_fwd' % locals()] = (\\\n",
    "#        (df_startbp['lcap_%(stage)s_rep1_fwd_rcount' % locals()] == 0) &\\\n",
    "#        (df_startbp['lcap_%(stage)s_rep2_fwd_rcount' % locals()] == 0) &\\\n",
    "#        (df_startbp['lcap_%(stage)s_rep1_fwd_fcount' % locals()] >= 1) &\\\n",
    "#        (df_startbp['lcap_%(stage)s_rep2_fwd_fcount' % locals()] >= 1) &\\\n",
    "#        (df_startbp['lcap_%(stage)s_rep1_fwd_fcount' % locals()] + df_startbp['lcap_%(stage)s_rep2_fwd_fcount' % locals()] >= 3)\n",
    "#    )\n",
    "#    df_incr['lcap_incr_%(stage)s_rev' % locals()] = (\\\n",
    "#        (df_startbp['lcap_%(stage)s_rep1_rev_fcount' % locals()] == 0) &\\\n",
    "#        (df_startbp['lcap_%(stage)s_rep2_rev_fcount' % locals()] == 0) &\\\n",
    "#        (df_startbp['lcap_%(stage)s_rep1_rev_rcount' % locals()] >= 1) &\\\n",
    "#        (df_startbp['lcap_%(stage)s_rep2_rev_rcount' % locals()] >= 1) &\\\n",
    "#        (df_startbp['lcap_%(stage)s_rep1_rev_rcount' % locals()] + df_startbp['lcap_%(stage)s_rep2_rev_rcount' % locals()] >= 3)\n",
    "#    )\n",
    "\n",
    "def summary_(jump, incr):\n",
    "    if jump and incr:\n",
    "        return 'jump+incr'\n",
    "    elif jump:\n",
    "        return 'jump'\n",
    "    elif incr:\n",
    "        return 'incr'\n",
    "    else:\n",
    "        return 'neither'\n",
    "\n",
    "#for stage in itertools.islice(config['lcap_geo_by_stage'], None):\n",
    "df_summary = pd.DataFrame()\n",
    "for stage_ in itertools.islice(config['stages'], None):\n",
    "    df_summary['elong_%s_fwd' % (stage_,)] = list(map(summary_, df_jump['lcap_jump_%s_fwd' % (stage_,)], df_incr['lcap_incr_%s_fwd' % (stage_,)]))\n",
    "\n",
    "l_ = ['jump', 'incr', 'jump+incr', 'neither']\n",
    "df_ = pd.concat([df_summary['elong_%s_fwd' % (stage_,)].value_counts() for stage_ in config['stages']], axis=1).loc[l_]\n",
    "\n",
    "plt.subplot(111, frame_on=False)\n",
    "plt.gca().xaxis.set_visible(False)\n",
    "plt.gca().yaxis.set_visible(False)\n",
    "pd.plotting.table(data=df_, ax=plt.gca(), loc='center left')\n",
    "plt.savefig('annot/FigA_mapping/lcap_elongation_fwd.pdf', bbox_inches='tight')"
   ]
  },
  {
   "cell_type": "code",
   "execution_count": 10,
   "metadata": {
    "ExecuteTime": {
     "end_time": "2018-03-14T13:59:27.915637Z",
     "start_time": "2018-03-14T13:59:26.612353Z"
    },
    "collapsed": true
   },
   "outputs": [],
   "source": [
    "pd.concat([df_jump, df_incr], axis=1).to_csv('annot/S2_regulatory_annotation/_lcap_jump/lcap_summary.tsv', sep='\\t', index=False)"
   ]
  },
  {
   "cell_type": "code",
   "execution_count": 11,
   "metadata": {
    "ExecuteTime": {
     "end_time": "2018-03-14T13:59:47.523752Z",
     "start_time": "2018-03-14T13:59:27.918762Z"
    },
    "code_folding": []
   },
   "outputs": [],
   "source": [
    "# summary results\n",
    "def itemRgb_(is_jump, is_incr):\n",
    "    if is_jump == True:\n",
    "        return RED\n",
    "    elif is_incr:\n",
    "        return YELLOW\n",
    "    else:\n",
    "        return BLUE\n",
    "\n",
    "strand = 'fwd'\n",
    "write_gffbed(\n",
    "    fp = 'annot/S2_regulatory_annotation/_lcap_jump/lcap_tests_wt_%(strand)s.bed' % locals(),\n",
    "    chrom = df_counts['chrom'],\n",
    "    start = df_counts['start'],\n",
    "    end = df_counts['end'],\n",
    "    attr = df_deseq[\n",
    "        ['lcap_%s_%s_padj' % (stage, strand) for stage in config['stages_wt']] +\\\n",
    "        ['lcap_%s_%s_log2FoldChange' % (stage, strand) for stage in config['stages_wt']]\n",
    "    ],\n",
    "    strand = '+',\n",
    "    itemRgb = map(itemRgb_,\n",
    "        df_jump[['lcap_jump_%s_%s' % (stage, strand) for stage in config['stages_wt']]].any(axis=1),\n",
    "        df_incr[['lcap_incr_%s_%s' % (stage, strand) for stage in config['stages_wt']]].any(axis=1)\n",
    "    ),\n",
    ")\n",
    "\n",
    "write_gffbed(\n",
    "    fp = 'annot/S2_regulatory_annotation/_lcap_jump/lcap_tests_glp1_%(strand)s.bed' % locals(),\n",
    "    chrom = df_counts['chrom'],\n",
    "    start = df_counts['start'],\n",
    "    end = df_counts['end'],\n",
    "    attr = df_deseq[\n",
    "        ['lcap_%s_%s_padj' % (stage, strand) for stage in config['stages_glp1']] +\\\n",
    "        ['lcap_%s_%s_log2FoldChange' % (stage, strand) for stage in config['stages_glp1']]\n",
    "    ],\n",
    "    strand = '+',\n",
    "    itemRgb = map(itemRgb_,\n",
    "        df_jump[['lcap_jump_%s_%s' % (stage, strand) for stage in config['stages_glp1']]].any(axis=1),\n",
    "        df_incr[['lcap_incr_%s_%s' % (stage, strand) for stage in config['stages_glp1']]].any(axis=1)\n",
    "    ),\n",
    ")\n",
    "\n",
    "strand = 'rev'\n",
    "write_gffbed(\n",
    "    fp = 'annot/S2_regulatory_annotation/_lcap_jump/lcap_tests_wt_%(strand)s.bed' % locals(),\n",
    "    chrom = df_counts['chrom'],\n",
    "    start = df_counts['start'],\n",
    "    end = df_counts['end'],\n",
    "    attr = df_deseq[\n",
    "        ['lcap_%s_%s_padj' % (stage, strand) for stage in config['stages_wt']] +\\\n",
    "        ['lcap_%s_%s_log2FoldChange' % (stage, strand) for stage in config['stages_wt']]\n",
    "    ],\n",
    "    strand = '-',\n",
    "    itemRgb = map(itemRgb_,\n",
    "        df_jump[['lcap_jump_%s_%s' % (stage, strand) for stage in config['stages_wt']]].any(axis=1),\n",
    "        df_incr[['lcap_incr_%s_%s' % (stage, strand) for stage in config['stages_wt']]].any(axis=1)\n",
    "    ),\n",
    ")\n",
    "\n",
    "write_gffbed(\n",
    "    fp = 'annot/S2_regulatory_annotation/_lcap_jump/lcap_tests_glp1_%(strand)s.bed' % locals(),\n",
    "    chrom = df_counts['chrom'],\n",
    "    start = df_counts['start'],\n",
    "    end = df_counts['end'],\n",
    "    attr = df_deseq[\n",
    "        ['lcap_%s_%s_padj' % (stage, strand) for stage in config['stages_glp1']] +\\\n",
    "        ['lcap_%s_%s_log2FoldChange' % (stage, strand) for stage in config['stages_glp1']]\n",
    "    ],\n",
    "    strand = '-',\n",
    "    itemRgb = map(itemRgb_,\n",
    "        df_jump[['lcap_jump_%s_%s' % (stage, strand) for stage in config['stages_glp1']]].any(axis=1),\n",
    "        df_incr[['lcap_incr_%s_%s' % (stage, strand) for stage in config['stages_glp1']]].any(axis=1)\n",
    "    ),\n",
    ")"
   ]
  },
  {
   "cell_type": "code",
   "execution_count": 12,
   "metadata": {
    "ExecuteTime": {
     "end_time": "2018-03-14T14:00:06.505838Z",
     "start_time": "2018-03-14T13:59:47.528411Z"
    },
    "code_folding": []
   },
   "outputs": [],
   "source": [
    "# incr results\n",
    "def itemRgb_(is_jump, is_incr):\n",
    "    if is_incr:\n",
    "        return PURPLE\n",
    "    else:\n",
    "        return BLUE\n",
    "\n",
    "strand = 'fwd'\n",
    "write_gffbed(\n",
    "    fp = 'annot/S2_regulatory_annotation/_lcap_jump/lcap_incr_wt_%(strand)s.bed' % locals(),\n",
    "    chrom = df_counts['chrom'],\n",
    "    start = df_counts['start'],\n",
    "    end = df_counts['end'],\n",
    "    attr = df_deseq[\n",
    "        ['lcap_%s_%s_padj' % (stage, strand) for stage in config['stages_wt']] +\\\n",
    "        ['lcap_%s_%s_log2FoldChange' % (stage, strand) for stage in config['stages_wt']]\n",
    "    ],\n",
    "    strand = '+',\n",
    "    itemRgb = map(itemRgb_,\n",
    "        df_jump[['lcap_jump_%s_%s' % (stage, strand) for stage in config['stages_wt']]].any(axis=1),\n",
    "        df_incr[['lcap_incr_%s_%s' % (stage, strand) for stage in config['stages_wt']]].any(axis=1)\n",
    "    ),\n",
    ")\n",
    "\n",
    "write_gffbed(\n",
    "    fp = 'annot/S2_regulatory_annotation/_lcap_jump/lcap_incr_glp1_%(strand)s.bed' % locals(),\n",
    "    chrom = df_counts['chrom'],\n",
    "    start = df_counts['start'],\n",
    "    end = df_counts['end'],\n",
    "    attr = df_deseq[\n",
    "        ['lcap_%s_%s_padj' % (stage, strand) for stage in config['stages_glp1']] +\\\n",
    "        ['lcap_%s_%s_log2FoldChange' % (stage, strand) for stage in config['stages_glp1']]\n",
    "    ],\n",
    "    strand = '+',\n",
    "    itemRgb = map(itemRgb_,\n",
    "        df_jump[['lcap_jump_%s_%s' % (stage, strand) for stage in config['stages_glp1']]].any(axis=1),\n",
    "        df_incr[['lcap_incr_%s_%s' % (stage, strand) for stage in config['stages_glp1']]].any(axis=1)\n",
    "    ),\n",
    ")\n",
    "\n",
    "strand = 'rev'\n",
    "write_gffbed(\n",
    "    fp = 'annot/S2_regulatory_annotation/_lcap_jump/lcap_incr_wt_%(strand)s.bed' % locals(),\n",
    "    chrom = df_counts['chrom'],\n",
    "    start = df_counts['start'],\n",
    "    end = df_counts['end'],\n",
    "    attr = df_deseq[\n",
    "        ['lcap_%s_%s_padj' % (stage, strand) for stage in config['stages_wt']] +\\\n",
    "        ['lcap_%s_%s_log2FoldChange' % (stage, strand) for stage in config['stages_wt']]\n",
    "    ],\n",
    "    strand = '-',\n",
    "    itemRgb = map(itemRgb_,\n",
    "        df_jump[['lcap_jump_%s_%s' % (stage, strand) for stage in config['stages_wt']]].any(axis=1),\n",
    "        df_incr[['lcap_incr_%s_%s' % (stage, strand) for stage in config['stages_wt']]].any(axis=1)\n",
    "    ),\n",
    ")\n",
    "\n",
    "write_gffbed(\n",
    "    fp = 'annot/S2_regulatory_annotation/_lcap_jump/lcap_incr_glp1_%(strand)s.bed' % locals(),\n",
    "    chrom = df_counts['chrom'],\n",
    "    start = df_counts['start'],\n",
    "    end = df_counts['end'],\n",
    "    attr = df_deseq[\n",
    "        ['lcap_%s_%s_padj' % (stage, strand) for stage in config['stages_glp1']] +\\\n",
    "        ['lcap_%s_%s_log2FoldChange' % (stage, strand) for stage in config['stages_glp1']]\n",
    "    ],\n",
    "    strand = '-',\n",
    "    itemRgb = map(itemRgb_,\n",
    "        df_jump[['lcap_jump_%s_%s' % (stage, strand) for stage in config['stages_glp1']]].any(axis=1),\n",
    "        df_incr[['lcap_incr_%s_%s' % (stage, strand) for stage in config['stages_glp1']]].any(axis=1)\n",
    "    ),\n",
    ")"
   ]
  },
  {
   "cell_type": "code",
   "execution_count": 13,
   "metadata": {
    "ExecuteTime": {
     "end_time": "2018-03-14T14:00:06.563476Z",
     "start_time": "2018-03-14T14:00:06.509795Z"
    },
    "collapsed": true
   },
   "outputs": [],
   "source": [
    "#df_ = pd.concat([df_counts, df_jump, df_incr, df_deseq], axis=1)\n",
    "#df_['lcap_jump_wt_fwd'] = df_[['lcap_jump_%s_fwd' % (stage,) for stage in config['stages_wt']]].any(axis=1)\n",
    "#df_['lcap_jump_wt_rev'] = df_[['lcap_jump_%s_rev' % (stage,) for stage in config['stages_wt']]].any(axis=1)"
   ]
  }
 ],
 "metadata": {
  "kernelspec": {
   "display_name": "Python 3",
   "language": "python",
   "name": "python3"
  },
  "language_info": {
   "codemirror_mode": {
    "name": "ipython",
    "version": 3
   },
   "file_extension": ".py",
   "mimetype": "text/x-python",
   "name": "python",
   "nbconvert_exporter": "python",
   "pygments_lexer": "ipython3",
   "version": "3.6.2"
  }
 },
 "nbformat": 4,
 "nbformat_minor": 2
}
