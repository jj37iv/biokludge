{
 "cells": [
  {
   "cell_type": "code",
   "execution_count": 1,
   "metadata": {
    "ExecuteTime": {
     "end_time": "2018-02-07T15:45:18.568145Z",
     "start_time": "2018-02-07T15:45:13.368880Z"
    }
   },
   "outputs": [
    {
     "name": "stderr",
     "output_type": "stream",
     "text": [
      "/mnt/home3/jj374/anaconda36/lib/python3.6/site-packages/statsmodels/compat/pandas.py:56: FutureWarning: The pandas.core.datetools module is deprecated and will be removed in a future version. Please use the pandas.tseries module instead.\n",
      "  from pandas.core import datetools\n"
     ]
    },
    {
     "name": "stdout",
     "output_type": "stream",
     "text": [
      "os.getcwd(): /mnt/b2/scratch/ahringer/jj374/lab/relmapping\n"
     ]
    }
   ],
   "source": [
    "%run ~/relmapping/annot/notebooks/__init__.ipynb"
   ]
  },
  {
   "cell_type": "code",
   "execution_count": 2,
   "metadata": {
    "ExecuteTime": {
     "end_time": "2018-02-07T15:45:21.541115Z",
     "start_time": "2018-02-07T15:45:18.570147Z"
    }
   },
   "outputs": [],
   "source": [
    "df_ = pd.concat([\n",
    "    pd.read_csv('WS260_ce10/WS260_ce10.exon_first.bed', sep='\\t', usecols=[0,1,2], names=yp.NAMES_BED3),\n",
    "    pd.read_csv('WS260_ce10/WS260_ce10.exon_other.bed', sep='\\t', usecols=[0,1,2], names=yp.NAMES_BED3),\n",
    "]).sort_values(['chrom', 'start', 'end']).reset_index(drop=True)\n",
    "df_ = BedTool.from_dataframe(df_).merge().to_dataframe()\n",
    "df_['col'] = 1\n",
    "df_.to_csv('WS260_ce10/WS260_ce10.exon_coverage_unstranded.bedGraph', sep='\\t', index=False, header=False)\n",
    "\n",
    "!bedGraphToBigWig \\\n",
    "    WS260_ce10/WS260_ce10.exon_coverage_unstranded.bedGraph \\\n",
    "    shared/ce10.chroms \\\n",
    "    WS260_ce10/WS260_ce10.exon_coverage_unstranded.bw\n",
    "\n",
    "!rm WS260_ce10/WS260_ce10.exon_coverage_unstranded.bedGraph"
   ]
  }
 ],
 "metadata": {
  "kernelspec": {
   "display_name": "Python 3",
   "language": "python",
   "name": "python3"
  },
  "language_info": {
   "codemirror_mode": {
    "name": "ipython",
    "version": 3
   },
   "file_extension": ".py",
   "mimetype": "text/x-python",
   "name": "python",
   "nbconvert_exporter": "python",
   "pygments_lexer": "ipython3",
   "version": "3.6.2"
  }
 },
 "nbformat": 4,
 "nbformat_minor": 2
}
